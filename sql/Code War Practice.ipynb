{
 "cells": [
  {
   "cell_type": "markdown",
   "metadata": {},
   "source": [
    "# (1) Easy SQL: Cube Root and Natural Log\n",
    "(7 kyu)\n",
    "\n",
    "Given the following table 'decimals':\n",
    "\n",
    "** decimals table schema **\n",
    "\n",
    " <br>id\n",
    " <br>number1\n",
    " <br>number2\n",
    " <br> <br>\n",
    "Return a table with two columns (cuberoot, logarithm) </br>\n",
    "where the values in cuberoot are the cube root of those  </br>\n",
    "provided in number1 and the values in logarithm are changed  </br>\n",
    "to the natural logarithm of those in number2.  </br>"
   ]
  },
  {
   "cell_type": "code",
   "execution_count": 2,
   "metadata": {},
   "outputs": [],
   "source": [
    "sql = \"\"\"\n",
    "SELECT CBRT(d.number1) AS cuberoot, \n",
    "       LN(d.number2) AS logarithm\n",
    "FROM decimals AS d\n",
    "\"\"\"\n",
    "\n",
    "df = pd.read_sql_query(sql, engine)"
   ]
  },
  {
   "cell_type": "markdown",
   "metadata": {},
   "source": [
    "# (2) SQL easy regex extraction\n",
    "(7 kyu)\n",
    "\n",
    "Input\n",
    "You'll have a table like the following:\n",
    "\n",
    "name\tgreeting<br>\n",
    "Austin Gaylord\tHola que tal #4702665<br>\n",
    "Kacie Zulauf\tBienvenido 45454545 tal #470815 BD. WA470815<br>\n",
    "Output<br>\n",
    "In this practice you'll need to extract from the greeting column the number preceeded by the # symbol and place it in a new column named user_id.\n",
    "\n",
    "name\tgreeting\tuser_id\n",
    "Austin Gaylord\tHola que tal #4702665\t4702665\n",
    "Kacie Zulauf\tBienvenido 45454545 tal #470815 BD. WA470815\t470815\n",
    "NOTE: To keep it simple assume that the iser_id will be havong varchar type"
   ]
  },
  {
   "cell_type": "code",
   "execution_count": null,
   "metadata": {},
   "outputs": [],
   "source": [
    "sql = \"\"\"\n",
    "SELECT \n",
    "    g.name,\n",
    "    g.greeting,\n",
    "    (REGEXP_MATCHES(g.greeting, '#(\\d+)\\s*'))[1] AS user_id\n",
    "FROM greetings AS g\n",
    "\"\"\"\n",
    "df = pd.read_sql_query(sql, engine)"
   ]
  },
  {
   "cell_type": "markdown",
   "metadata": {},
   "source": [
    "# (3) SQL Basics: Repeat and Reverse\n",
    "(7 kyu)\n",
    "\n",
    "Using our monsters table with the following schema:<br>\n",
    "\n",
    "monsters table schema <br>\n",
    "\n",
    "id<br>\n",
    "name<br>\n",
    "legs<br>\n",
    "arms<br>\n",
    "characteristics<br>\n",
    "return the following table:<br>\n",
    "\n",
    "** output schema**<br>\n",
    "\n",
    "name<br>\n",
    "characteristics<br>\n",
    "<br>\n",
    "Where the name is the original string repeated three times (do not add any spaces), and the characteristics are the original strings in reverse (e.g. 'abc, def, ghi' becomes 'ihg ,fed ,cba')."
   ]
  },
  {
   "cell_type": "code",
   "execution_count": null,
   "metadata": {},
   "outputs": [],
   "source": [
    "sql = \"\"\"\n",
    "SELECT \n",
    "    REPEAT(name,3) as name,\n",
    "    REVERSE(characteristics) as characteristics\n",
    "FROM\n",
    "    MONSTERS\n",
    " \"\"\""
   ]
  },
  {
   "cell_type": "markdown",
   "metadata": {},
   "source": [
    "# (4) Easy SQL: Bit Length\n",
    "(7 kyu)\n",
    "\n",
    "Given a demographics table in the following format:<br>\n",
    "\n",
    "** demographics table schema **<br>\n",
    "\n",
    "id<br>\n",
    "name<br>\n",
    "birthday<br>\n",
    "race<br>\n",
    "you need to return the same table where all text fields (name & race) are changed to the bit length of the string."
   ]
  },
  {
   "cell_type": "code",
   "execution_count": null,
   "metadata": {},
   "outputs": [],
   "source": [
    "sql = \"\"\"\n",
    "SELECT\n",
    "    id,\n",
    "    BIT_LENGTH(name) as name,\n",
    "    birthday,\n",
    "    BIT_LENGTH(race) as race\n",
    "FROM demographics\n",
    "\"\"\""
   ]
  },
  {
   "cell_type": "markdown",
   "metadata": {},
   "source": [
    "# (5) GROCERY STORE: Real Price!\n",
    "(7 Kyu)\n",
    "\n",
    "\n",
    "You are the owner of the Grocery Store. All your products are in the database, that you have created after CodeWars SQL excercises!:)<br>\n",
    "\n",
    "Customer often need to now how much really they pay for the products. Manufactureres make different sizes of same product so it is hard to compare prices, sometime they make package looks big, but the weight of the product is small.<br>\n",
    "\n",
    "Make SELECT query which will tell what is REAL(price per kg) price for the product<br>\n",
    "\n",
    "Weight in db is in grams! Round price_per_kg to 2 decimal digits<br>\n",
    "\n",
    "Order results by price_per_kg ascending then by name ascending<br>\n",
    "\n",
    "products table schema<br>\n",
    "id<br>\n",
    "name<br>\n",
    "price<br>\n",
    "stock<br>\n",
    "weight<br>\n",
    "producer<br>\n",
    "country<br><br>\n",
    "results table schema<br>\n",
    "name<br>\n",
    "weight<br>\n",
    "price<br>\n",
    "price_per_kg<br>"
   ]
  },
  {
   "cell_type": "code",
   "execution_count": 4,
   "metadata": {},
   "outputs": [],
   "source": [
    "\"\"\"\n",
    "SELECT name, weight, price, \n",
    "ROUND((price * 1000 / weight )::numeric, 2)::float AS price_per_kg\n",
    "FROM products\n",
    "ORDER BY price_per_kg, name\n",
    "\"\"\""
   ]
  },
  {
   "cell_type": "markdown",
   "metadata": {},
   "source": [
    "# (6) SQL with Harry Potter: Sorting Hat Comparators\n",
    "(7 kyu)\n",
    "\n",
    "There is truly no magic in the world; the Hogwarts Sorting Hat is SQL-based, its decision-making powers are common operators and prospectIve students are merely data - names, and two columns of qualities.<br>\n",
    "\n",
    "students<br>\n",
    "\n",
    "id<br>\n",
    "name<br>\n",
    "quality1<br>\n",
    "quality2<br>\n",
    "Slytherin are being quite strict this year and will only take students who are evil AND cunning.<br>\n",
    "Gryffindor will take students who are brave but only if their second quality is NOT evil.<br>\n",
    "Ravenclaw accepts students who are studious OR intelligent.<br>\n",
    "Hufflepuff will simply take those who have the quality hufflepuff.<br>\n",
    "\n",
    "(don't worry, for simplicity's sake 'brave' and 'studious' will only appear in quality1, and 'cunning' and 'intelligent' will only appear in quality2.)<br>\n",
    "\n",
    "Return the id, name, quality1 and quality2 of all the students who'll be accepted, ordered by ascending id.<br>\n",
    "\n"
   ]
  },
  {
   "cell_type": "code",
   "execution_count": null,
   "metadata": {},
   "outputs": [],
   "source": [
    "\"\"\"\n",
    "SELECT * \n",
    "FROM STUDENTS\n",
    "WHERE (quality1='evil' AND quality2='cunning')\n",
    "OR (quality1='brave' AND quality2!='evil')\n",
    "OR (quality1='studious' OR quality2='intelligent')\n",
    "OR (quality1='hufflepuff' OR quality2='hufflepuff')\n",
    "ORDER BY id\n",
    "\"\"\""
   ]
  },
  {
   "cell_type": "markdown",
   "metadata": {},
   "source": [
    "# (7) SQL: Disorder\n",
    "(7 kyu)\n",
    "\n",
    "You are given a table numbers with just one column, number. It holds some numbers that are already ordered.<br>\n",
    "\n",
    "You need to write a query that makes them un-ordered, as in, every possible ordering should appear equally often."
   ]
  },
  {
   "cell_type": "code",
   "execution_count": null,
   "metadata": {},
   "outputs": [],
   "source": [
    "\"\"\"\n",
    "SELECT * as cake\n",
    "FROM numbers\n",
    "ORDER BY random();\n",
    "\"\"\""
   ]
  },
  {
   "cell_type": "markdown",
   "metadata": {},
   "source": [
    "# (8) SQL with LOTR: Elven Wildcards\n",
    "(7 kyu)\n",
    "\n",
    "Choose those with tegil appearing anywhere in their first name, as they are likely to be good calligraphers, OR those with astar anywhere in their last name, who will be faithful to the role.\n",
    "\n",
    "Elves table:<br>\n",
    "\n",
    "firstname<br>\n",
    "lastname<br>\n",
    "all names are in lowercase<br>\n",
    "\n",
    "To aid the scribes, return the firstname and lastname column concatenated, separated by a space, into a single shortlist column, and capitalise the first letter of each name."
   ]
  },
  {
   "cell_type": "code",
   "execution_count": null,
   "metadata": {},
   "outputs": [],
   "source": [
    "\"\"\"\n",
    "SELECT INITCAP(Concat(firstname, ' ' , lastname)) AS shortlist\n",
    "FROM Elves\n",
    "Where firstname LIKE '%tegil%'\n",
    "    OR lastname LIKE '%astar%'\n",
    "\"\"\""
   ]
  },
  {
   "cell_type": "markdown",
   "metadata": {},
   "source": [
    "# (9) SQL with Street Fighter: Total Wins\n",
    "\n",
    "(7 kyu)<br>\n",
    "It's time to assess which of the world's greatest fighters are through to the 6 coveted places in the semi-finals of the Street Fighter World Fighting Championship. Every fight of the year has been recorded and each fighter's wins and losses need to be added up.<br>\n",
    "\n",
    "Each row of the table fighters records, alongside the fighter's name, whether they won (1) or lost (0), as well as the type of move that ended the bout.<br>\n",
    "\n",
    "id<br>\n",
    "name<br>\n",
    "won<br>\n",
    "lost<br>\n",
    "move_id<br>\n",
    "winning_moves<br>\n",
    "\n",
    "id<br>\n",
    "move<br>\n",
    "However, due to new health and safety regulations, all ki blasts have been outlawed as a potential fire hazard. Any bout that ended with Hadoken, Shouoken or Kikoken should not be counted in the total wins and losses.<br>\n",
    "\n",
    "So, your job:<br>\n",
    "\n",
    "Return name, won, and lost columns displaying the name, total number of wins and total number of losses. Group by the fighter's name.<br>\n",
    "Do not count any wins or losses where the winning move was Hadoken, Shouoken or Kikoken.<br>\n",
    "Order from most-wins to least<br>\n",
    "Return the top 6. Don't worry about ties.<br>"
   ]
  },
  {
   "cell_type": "code",
   "execution_count": null,
   "metadata": {},
   "outputs": [],
   "source": [
    "\"\"\"\n",
    "SELECT\n",
    "  NAME,\n",
    "  SUM(won) AS won,\n",
    "  SUM(lost) AS lost\n",
    "FROM fighters AS f\n",
    "JOIN winning_moves wm ON f.move_id = wm.id\n",
    "WHERE move NOT IN ('Hadoken', 'Shouoken', 'Kikoken')\n",
    "GROUP BY name\n",
    "ORDER BY won DESC\n",
    "limit 6\n",
    "\"\"\""
   ]
  },
  {
   "cell_type": "markdown",
   "metadata": {},
   "source": [
    "# (10) SQL with Sailor Moon: Thinking about JOINs.\n",
    "(7 kyu)<br>\n",
    "\n",
    "Practise some SQL fundamentals by making a simple database on a topic you feel familiar with. Or use mine, populated with a wealth of Sailor Moon trivia.<br>\n",
    "\n",
    "sailorsenshi schema<br>\n",
    "\n",
    "id<br>\n",
    "senshi_name<br>\n",
    "real_name_jpn<br>\n",
    "school_id<br>\n",
    "cat_id<br>\n",
    "cats schema<br>\n",
    "\n",
    "id<br>\n",
    "name<br>\n",
    "schools schema<br>\n",
    "\n",
    "id<br>\n",
    "school<br>\n",
    "Return a results table - sailor_senshi, real_name, cat and school - of all characters, containing each character's high school, their civilian name and the cat who introduced them to their magical crime-fighting destiny.<br>\n",
    "\n",
    "Keep in mind some senshi were not initiated by a cat guardian and one is not in high school. The field can be left blank if this is the case.<br>\n",
    "\n"
   ]
  },
  {
   "cell_type": "code",
   "execution_count": 2,
   "metadata": {},
   "outputs": [],
   "source": [
    "\"\"\"\n",
    "SELECT\n",
    "  senshi_name AS sailor_senshi,\n",
    "  real_name_jpn AS real_name,\n",
    "  cats.name AS cat,\n",
    "  school AS school\n",
    "FROM sailorsenshi\n",
    "LEFT JOIN cats ON cat_id = cats.id\n",
    "LEFT JOIN schools ON school_id = schools.id\n",
    "\"\"\""
   ]
  },
  {
   "cell_type": "code",
   "execution_count": null,
   "metadata": {},
   "outputs": [],
   "source": []
  }
 ],
 "metadata": {
  "kernelspec": {
   "display_name": "Python 3",
   "language": "python",
   "name": "python3"
  },
  "language_info": {
   "codemirror_mode": {
    "name": "ipython",
    "version": 3
   },
   "file_extension": ".py",
   "mimetype": "text/x-python",
   "name": "python",
   "nbconvert_exporter": "python",
   "pygments_lexer": "ipython3",
   "version": "3.6.7"
  }
 },
 "nbformat": 4,
 "nbformat_minor": 2
}
