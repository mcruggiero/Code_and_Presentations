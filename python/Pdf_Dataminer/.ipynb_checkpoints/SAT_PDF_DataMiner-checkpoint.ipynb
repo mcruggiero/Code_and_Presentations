{
 "cells": [
  {
   "cell_type": "code",
   "execution_count": null,
   "metadata": {},
   "outputs": [],
   "source": [
    "#The goal of this project is to download all of the 2018 SAT information and append all of that information\n",
    "#into a preexisting data-frame\n",
    "\n",
    "import os\n",
    "import pandas as pd\n",
    "import numpy as np\n",
    "\n",
    "os.listdir()\n",
    "\n",
    "#This is the starter file which has some of the 2017 SAT information \n",
    "merged = pd.read_csv(\"./combined_2017.csv\")"
   ]
  },
  {
   "cell_type": "code",
   "execution_count": null,
   "metadata": {},
   "outputs": [],
   "source": [
    "import requests\n",
    "\n",
    "#All of the SAT urls follow the format /pdf/2018-*state*-sat-suite-assessments-annual-report.pdf\n",
    "#So lets download the buggers DC will probably be a pain, so we can fix that too\n",
    "\n",
    "states = [x.replace(\" \", \"-\") if x != 'district of columbia' else \"district-columbia\" for x in list(merged[\"State\"].str.lower())]\n",
    "\n",
    "for state in states:\n",
    "    url = \"https://reports.collegeboard.org/pdf/2018-{}-sat-suite-assessments-annual-report.pdf\".format(state)\n",
    "    r = requests.get(url, allow_redirects=True)\n",
    "    open('2018_SAT_{}_Data.pdf'.format(state), 'wb').write(r.content)"
   ]
  },
  {
   "cell_type": "code",
   "execution_count": null,
   "metadata": {},
   "outputs": [],
   "source": [
    "#Just a little check to see if all of the files downloaded correctly.\n",
    "\n",
    "count = 0\n",
    "for file in os.listdir():\n",
    "    if file[-3:] == \"pdf\":\n",
    "        print(count,file)\n",
    "        count += 1"
   ]
  },
  {
   "cell_type": "code",
   "execution_count": null,
   "metadata": {},
   "outputs": [],
   "source": [
    "import slate3k as slate\n",
    "\n",
    "def pdf_view(file):\n",
    "    mine  = []\n",
    "    with open(file, 'rb') as f:\n",
    "        doc = slate.PDF(f)\n",
    "    \n",
    "    pdf_miner =  [x for x in doc[3].split(\"\\n\") if x != \"\"]  \n",
    "    for i in range(len(pdf_miner)):\n",
    "        mine.append(pdf_miner[i].lstrip())\n",
    "    \n",
    "    return(mine)\n",
    "\n",
    "pdf_view(\"2018_SAT_massachusetts_Data.pdf\")"
   ]
  },
  {
   "cell_type": "code",
   "execution_count": null,
   "metadata": {},
   "outputs": [],
   "source": [
    "#There are other packages to help with pdf data scraping, but this one is easy for text. However, sorry about \n",
    "#warnings, Pdfminer3k sets directly to the Python root logger :(\n",
    "\n",
    "'''\n",
    "Here is the stuff I need to mine\n",
    "\n",
    "\"State\" \n",
    "\"SAT_Participation\"\n",
    "\"SAT_English\"\n",
    "\"SAT_Math\"\n",
    "\"SAT_Total\"\n",
    "\n",
    "'''\n",
    "\n",
    "import slate3k as slate\n",
    "\n",
    "def pdf_mine(file):\n",
    "    mine  = []\n",
    "    with open(file, 'rb') as f:\n",
    "        doc = slate.PDF(f)\n",
    "    \n",
    "    pdf_miner =  [x for x in doc[2].split(\"\\n\") if x != \"\"] \n",
    "    #Sice these 51 pdf are exactly the same, but for the state SAT data, we can set the location\n",
    "    #and mine from the lists\n",
    "    for i in range(len(pdf_miner)):\n",
    "        if i == 1:\n",
    "            mine.append(pdf_miner[i].lstrip())\n",
    "        elif pdf_miner[i][-14:] == '% of graduates': \n",
    "            mine.append(pdf_miner[i].lstrip())\n",
    "\n",
    "    pdf_miner = [x for x in doc[3].split(\"\\n\") if x != \"\"]\n",
    "    for i in range(len(pdf_miner)):\n",
    "        if pdf_miner[i].lstrip() == \"Took Essay¹\": #That little 1 helps!\n",
    "            mine.append(pdf_miner[i + 12].lstrip())\n",
    "            mine.append(pdf_miner[i + 10].lstrip())\n",
    "            mine.append(pdf_miner[i + 14].lstrip())\n",
    "    \n",
    "    print(mine)\n",
    "    return(mine)\n",
    "\n",
    "print(pdf_mine('2018_SAT_massachusetts_Data.pdf'))"
   ]
  },
  {
   "cell_type": "code",
   "execution_count": null,
   "metadata": {},
   "outputs": [],
   "source": [
    "#The idea of this workflow is to set an empty dictionary and append all of the different SAT information \n",
    "#To that file.\n",
    "\n",
    "SAT_2018 = {}\n",
    "for file in os.listdir():\n",
    "    if file[0] != \"A\" and file[-3:] == \"pdf\":\n",
    "        try:\n",
    "            mine = pdf_mine(file)\n",
    "            if file[-3:] == \"pdf\":\n",
    "                SAT_2018[mine[0]] = {\n",
    "                    \"State\":mine[0], \n",
    "\n",
    "                    #I left the '% of graduates' below for inspection, need\n",
    "                    #to strip now\n",
    "\n",
    "                    \"SAT_2018_Participation\":float(mine[1].split(\"%\")[0])/100,\n",
    "                    \"SAT_2018_English\":int(mine[2]),\n",
    "                    \"SAT_2018_Math\":int(mine[3]),\n",
    "                    \"SAT_2018_Total\":int(mine[4])}\n",
    "        except:\n",
    "            print(\"something went wrong with {}\".format(file))"
   ]
  },
  {
   "cell_type": "code",
   "execution_count": null,
   "metadata": {},
   "outputs": [],
   "source": [
    "sat2018 = pd.DataFrame.from_dict(SAT_2018, orient='index').reset_index()\n",
    "sat2018.drop(\"index\", axis = 1, inplace = True)\n",
    "sat2018.head()"
   ]
  },
  {
   "cell_type": "code",
   "execution_count": null,
   "metadata": {},
   "outputs": [],
   "source": [
    "merged_2017_18 = pd.merge(merged, sat2018, on='State')\n",
    "merged_2017_18.drop(\"Unnamed: 0\", axis = 1, inplace = True)\n"
   ]
  },
  {
   "cell_type": "code",
   "execution_count": null,
   "metadata": {},
   "outputs": [],
   "source": [
    "#Done!\n",
    "merged_2017_18.head()"
   ]
  }
 ],
 "metadata": {
  "kernelspec": {
   "display_name": "Python 3",
   "language": "python",
   "name": "python3"
  },
  "language_info": {
   "codemirror_mode": {
    "name": "ipython",
    "version": 3
   },
   "file_extension": ".py",
   "mimetype": "text/x-python",
   "name": "python",
   "nbconvert_exporter": "python",
   "pygments_lexer": "ipython3",
   "version": "3.7.1"
  }
 },
 "nbformat": 4,
 "nbformat_minor": 2
}
