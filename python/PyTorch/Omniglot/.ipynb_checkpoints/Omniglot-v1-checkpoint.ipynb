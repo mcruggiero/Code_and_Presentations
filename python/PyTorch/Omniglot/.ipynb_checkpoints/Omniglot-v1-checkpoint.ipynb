{
 "cells": [
  {
   "cell_type": "markdown",
   "metadata": {
    "toc": true
   },
   "source": [
    "<h1>Table of Contents<span class=\"tocSkip\"></span></h1>\n",
    "<div class=\"toc\"><ul class=\"toc-item\"><li><span><a href=\"#Libraries\" data-toc-modified-id=\"Libraries-1\"><span class=\"toc-item-num\">1&nbsp;&nbsp;</span>Libraries</a></span></li><li><span><a href=\"#Image-Test\" data-toc-modified-id=\"Image-Test-2\"><span class=\"toc-item-num\">2&nbsp;&nbsp;</span>Image Test</a></span></li><li><span><a href=\"#Make-dataframe-with-all-files\" data-toc-modified-id=\"Make-dataframe-with-all-files-3\"><span class=\"toc-item-num\">3&nbsp;&nbsp;</span>Make dataframe with all files</a></span></li></ul></div>"
   ]
  },
  {
   "cell_type": "markdown",
   "metadata": {},
   "source": [
    "## Libraries"
   ]
  },
  {
   "cell_type": "code",
   "execution_count": 46,
   "metadata": {
    "ExecuteTime": {
     "end_time": "2019-08-13T23:05:18.198294Z",
     "start_time": "2019-08-13T23:05:18.177253Z"
    }
   },
   "outputs": [
    {
     "data": {
      "text/html": [
       "<style>.container { width:95% !important; }</style>"
      ],
      "text/plain": [
       "<IPython.core.display.HTML object>"
      ]
     },
     "metadata": {},
     "output_type": "display_data"
    }
   ],
   "source": [
    "# usual suspects\n",
    "import os\n",
    "import time\n",
    "import shutil\n",
    "import requests\n",
    "import zipfile\n",
    "from PIL import Image\n",
    "\n",
    "import numpy as np\n",
    "import pandas as pd\n",
    "from cycler import cycler\n",
    "\n",
    "# the good stuff\n",
    "import torch\n",
    "import torch.nn as nn\n",
    "from torch.autograd import Variable\n",
    "import torch.nn.functional as F\n",
    "from torch.utils.data import Dataset, DataLoader\n",
    "import torchvision\n",
    "from torchvision import datasets, models, transforms\n",
    "\n",
    "# standard sklearn import\n",
    "from sklearn.metrics import accuracy_score\n",
    "\n",
    "# minor changes to plotting functions\n",
    "import matplotlib.pyplot as plt\n",
    "cmap=plt.cm.tab10\n",
    "c = cycler('color', cmap(np.linspace(0,1,10)))\n",
    "plt.rcParams[\"axes.prop_cycle\"] = c\n",
    "\n",
    "\n",
    "%matplotlib inline\n",
    "%config InlineBackend.figure_format='retina'\n",
    "\n",
    "# change margin size of jupyter notebook\n",
    "from IPython.core.display import display, HTML\n",
    "display(HTML(\"<style>.container { width:95% !important; }</style>\"))"
   ]
  },
  {
   "cell_type": "markdown",
   "metadata": {},
   "source": [
    "## Image Test"
   ]
  },
  {
   "cell_type": "code",
   "execution_count": 48,
   "metadata": {
    "ExecuteTime": {
     "end_time": "2019-08-13T23:05:31.529596Z",
     "start_time": "2019-08-13T23:05:31.523359Z"
    }
   },
   "outputs": [],
   "source": [
    "img_path=\"/data/Futurama/ch.jpeg\"\n",
    "image = Image.open(\"./data/Futurama/character02/0326_16.png\")"
   ]
  },
  {
   "cell_type": "code",
   "execution_count": 49,
   "metadata": {
    "ExecuteTime": {
     "end_time": "2019-08-13T23:05:34.581341Z",
     "start_time": "2019-08-13T23:05:34.576343Z"
    }
   },
   "outputs": [
    {
     "data": {
      "image/png": "[encoded data removed]",
      "text/plain": [
       "<PIL.PngImagePlugin.PngImageFile image mode=1 size=105x105 at 0x7F47C0B6B438>"
      ]
     },
     "execution_count": 49,
     "metadata": {},
     "output_type": "execute_result"
    }
   ],
   "source": [
    "image"
   ]
  },
  {
   "cell_type": "code",
   "execution_count": 50,
   "metadata": {
    "ExecuteTime": {
     "end_time": "2019-08-13T23:05:39.903032Z",
     "start_time": "2019-08-13T23:05:39.900298Z"
    }
   },
   "outputs": [],
   "source": [
    "image = transforms.ToTensor()(image).unsqueeze(0) # unsqueeze to add artificial first dimension\n",
    "image = Variable(image)"
   ]
  },
  {
   "cell_type": "code",
   "execution_count": 51,
   "metadata": {
    "ExecuteTime": {
     "end_time": "2019-08-13T23:05:44.942457Z",
     "start_time": "2019-08-13T23:05:44.935233Z"
    }
   },
   "outputs": [
    {
     "data": {
      "text/plain": [
       "tensor([[[[1., 1., 1.,  ..., 1., 1., 1.],\n",
       "          [1., 1., 1.,  ..., 1., 1., 1.],\n",
       "          [1., 1., 1.,  ..., 1., 1., 1.],\n",
       "          ...,\n",
       "          [1., 1., 1.,  ..., 1., 1., 1.],\n",
       "          [1., 1., 1.,  ..., 1., 1., 1.],\n",
       "          [1., 1., 1.,  ..., 1., 1., 1.]]]])"
      ]
     },
     "execution_count": 51,
     "metadata": {},
     "output_type": "execute_result"
    }
   ],
   "source": [
    "image"
   ]
  },
  {
   "cell_type": "markdown",
   "metadata": {},
   "source": [
    "## Make dataframe with all files"
   ]
  },
  {
   "cell_type": "code",
   "execution_count": 62,
   "metadata": {
    "ExecuteTime": {
     "end_time": "2019-08-13T23:17:02.682229Z",
     "start_time": "2019-08-13T23:16:44.684712Z"
    }
   },
   "outputs": [
    {
     "data": {
      "text/html": [
       "<div>\n",
       "<style scoped>\n",
       "    .dataframe tbody tr th:only-of-type {\n",
       "        vertical-align: middle;\n",
       "    }\n",
       "\n",
       "    .dataframe tbody tr th {\n",
       "        vertical-align: top;\n",
       "    }\n",
       "\n",
       "    .dataframe thead th {\n",
       "        text-align: right;\n",
       "    }\n",
       "</style>\n",
       "<table border=\"1\" class=\"dataframe\">\n",
       "  <thead>\n",
       "    <tr style=\"text-align: right;\">\n",
       "      <th></th>\n",
       "      <th>language</th>\n",
       "      <th>char</th>\n",
       "      <th>file</th>\n",
       "      <th>path</th>\n",
       "      <th>image_array</th>\n",
       "      <th>image_tensor</th>\n",
       "    </tr>\n",
       "  </thead>\n",
       "  <tbody>\n",
       "    <tr>\n",
       "      <th>0</th>\n",
       "      <td>Futurama</td>\n",
       "      <td>character02</td>\n",
       "      <td>0326_20.png</td>\n",
       "      <td>./data/Futurama/character02/0326_20.png</td>\n",
       "      <td>[[255, 255, 255, 255, 255, 255, 255, 255, 255,...</td>\n",
       "      <td>[[[tensor([1., 1., 1., 1., 1., 1., 1., 1., 1.,...</td>\n",
       "    </tr>\n",
       "    <tr>\n",
       "      <th>1</th>\n",
       "      <td>Futurama</td>\n",
       "      <td>character02</td>\n",
       "      <td>0326_04.png</td>\n",
       "      <td>./data/Futurama/character02/0326_04.png</td>\n",
       "      <td>[[255, 255, 255, 255, 255, 255, 255, 255, 255,...</td>\n",
       "      <td>[[[tensor([1., 1., 1., 1., 1., 1., 1., 1., 1.,...</td>\n",
       "    </tr>\n",
       "    <tr>\n",
       "      <th>2</th>\n",
       "      <td>Futurama</td>\n",
       "      <td>character02</td>\n",
       "      <td>0326_09.png</td>\n",
       "      <td>./data/Futurama/character02/0326_09.png</td>\n",
       "      <td>[[255, 255, 255, 255, 255, 255, 255, 255, 255,...</td>\n",
       "      <td>[[[tensor([1., 1., 1., 1., 1., 1., 1., 1., 1.,...</td>\n",
       "    </tr>\n",
       "    <tr>\n",
       "      <th>3</th>\n",
       "      <td>Futurama</td>\n",
       "      <td>character02</td>\n",
       "      <td>0326_15.png</td>\n",
       "      <td>./data/Futurama/character02/0326_15.png</td>\n",
       "      <td>[[255, 255, 255, 255, 255, 255, 255, 255, 255,...</td>\n",
       "      <td>[[[tensor([1., 1., 1., 1., 1., 1., 1., 1., 1.,...</td>\n",
       "    </tr>\n",
       "    <tr>\n",
       "      <th>4</th>\n",
       "      <td>Futurama</td>\n",
       "      <td>character02</td>\n",
       "      <td>0326_11.png</td>\n",
       "      <td>./data/Futurama/character02/0326_11.png</td>\n",
       "      <td>[[255, 255, 255, 255, 255, 255, 255, 255, 255,...</td>\n",
       "      <td>[[[tensor([1., 1., 1., 1., 1., 1., 1., 1., 1.,...</td>\n",
       "    </tr>\n",
       "  </tbody>\n",
       "</table>\n",
       "</div>"
      ],
      "text/plain": [
       "   language         char         file  \\\n",
       "0  Futurama  character02  0326_20.png   \n",
       "1  Futurama  character02  0326_04.png   \n",
       "2  Futurama  character02  0326_09.png   \n",
       "3  Futurama  character02  0326_15.png   \n",
       "4  Futurama  character02  0326_11.png   \n",
       "\n",
       "                                      path  \\\n",
       "0  ./data/Futurama/character02/0326_20.png   \n",
       "1  ./data/Futurama/character02/0326_04.png   \n",
       "2  ./data/Futurama/character02/0326_09.png   \n",
       "3  ./data/Futurama/character02/0326_15.png   \n",
       "4  ./data/Futurama/character02/0326_11.png   \n",
       "\n",
       "                                         image_array  \\\n",
       "0  [[255, 255, 255, 255, 255, 255, 255, 255, 255,...   \n",
       "1  [[255, 255, 255, 255, 255, 255, 255, 255, 255,...   \n",
       "2  [[255, 255, 255, 255, 255, 255, 255, 255, 255,...   \n",
       "3  [[255, 255, 255, 255, 255, 255, 255, 255, 255,...   \n",
       "4  [[255, 255, 255, 255, 255, 255, 255, 255, 255,...   \n",
       "\n",
       "                                        image_tensor  \n",
       "0  [[[tensor([1., 1., 1., 1., 1., 1., 1., 1., 1.,...  \n",
       "1  [[[tensor([1., 1., 1., 1., 1., 1., 1., 1., 1.,...  \n",
       "2  [[[tensor([1., 1., 1., 1., 1., 1., 1., 1., 1.,...  \n",
       "3  [[[tensor([1., 1., 1., 1., 1., 1., 1., 1., 1.,...  \n",
       "4  [[[tensor([1., 1., 1., 1., 1., 1., 1., 1., 1.,...  "
      ]
     },
     "execution_count": 62,
     "metadata": {},
     "output_type": "execute_result"
    }
   ],
   "source": [
    "language_dict = {}\n",
    "i = 0\n",
    "for language in os.listdir(\"./data\"):\n",
    "    for char in os.listdir(\"./data/{}\".format(language)):\n",
    "        for file in os.listdir(\"./data/{}/{}\".format(language, char)):\n",
    "            #Make empty data frame\n",
    "            language_dict[i] = {}\n",
    "            \n",
    "            #Bring in file information\n",
    "            language_dict[i]['language'] = language\n",
    "            language_dict[i]['char'] = char\n",
    "            language_dict[i]['file'] = file\n",
    "            language_dict[i]['path'] = \"./data/{}/{}/{}\".format(language,\n",
    "                                                                char,\n",
    "                                                                file)\n",
    "            \n",
    "            #Image to array\n",
    "            img = Image.open(language_dict[i]['path']).convert(\"L\")\n",
    "            img = np.array(img)\n",
    "            language_dict[i]['image_array'] = img\n",
    "            \n",
    "            #Import image as tensor\n",
    "            image = Image.open(language_dict[i]['path'])\n",
    "            image = transforms.ToTensor()(image).unsqueeze(0) # unsqueeze to add artificial first dimension\n",
    "            image = Variable(image)\n",
    "            language_dict[i]['image_tensor'] = image\n",
    "            \n",
    "            #Add onto index\n",
    "            i += 1\n",
    "\n",
    "omni = pd.DataFrame.from_dict(language_dict).T\n",
    "\n",
    "omni.head()"
   ]
  },
  {
   "cell_type": "code",
   "execution_count": null,
   "metadata": {},
   "outputs": [],
   "source": []
  }
 ],
 "metadata": {
  "kernelspec": {
   "display_name": "Python 3",
   "language": "python",
   "name": "python3"
  },
  "language_info": {
   "codemirror_mode": {
    "name": "ipython",
    "version": 3
   },
   "file_extension": ".py",
   "mimetype": "text/x-python",
   "name": "python",
   "nbconvert_exporter": "python",
   "pygments_lexer": "ipython3",
   "version": "3.7.3"
  },
  "toc": {
   "base_numbering": 1,
   "nav_menu": {},
   "number_sections": true,
   "sideBar": true,
   "skip_h1_title": true,
   "title_cell": "Table of Contents",
   "title_sidebar": "Contents",
   "toc_cell": true,
   "toc_position": {},
   "toc_section_display": true,
   "toc_window_display": true
  }
 },
 "nbformat": 4,
 "nbformat_minor": 2
}
