{
 "cells": [
  {
   "cell_type": "markdown",
   "metadata": {
    "toc": true
   },
   "source": [
    "<h1>Table of Contents<span class=\"tocSkip\"></span></h1>\n",
    "<div class=\"toc\"><ul class=\"toc-item\"><li><span><a href=\"#Libraries\" data-toc-modified-id=\"Libraries-1\"><span class=\"toc-item-num\">1&nbsp;&nbsp;</span>Libraries</a></span></li><li><span><a href=\"#Preprocessing\" data-toc-modified-id=\"Preprocessing-2\"><span class=\"toc-item-num\">2&nbsp;&nbsp;</span>Preprocessing</a></span><ul class=\"toc-item\"><li><span><a href=\"#Image-Test\" data-toc-modified-id=\"Image-Test-2.1\"><span class=\"toc-item-num\">2.1&nbsp;&nbsp;</span>Image Test</a></span></li><li><span><a href=\"#Image-Size\" data-toc-modified-id=\"Image-Size-2.2\"><span class=\"toc-item-num\">2.2&nbsp;&nbsp;</span>Image Size</a></span></li><li><span><a href=\"#Array-View\" data-toc-modified-id=\"Array-View-2.3\"><span class=\"toc-item-num\">2.3&nbsp;&nbsp;</span>Array View</a></span></li><li><span><a href=\"#Tensor-View\" data-toc-modified-id=\"Tensor-View-2.4\"><span class=\"toc-item-num\">2.4&nbsp;&nbsp;</span>Tensor View</a></span></li></ul></li><li><span><a href=\"#Make-dataframe-with-all-files\" data-toc-modified-id=\"Make-dataframe-with-all-files-3\"><span class=\"toc-item-num\">3&nbsp;&nbsp;</span>Make dataframe with all files</a></span></li><li><span><a href=\"#Train-Test-Split\" data-toc-modified-id=\"Train-Test-Split-4\"><span class=\"toc-item-num\">4&nbsp;&nbsp;</span>Train Test Split</a></span></li><li><span><a href=\"#Traditional-Methods\" data-toc-modified-id=\"Traditional-Methods-5\"><span class=\"toc-item-num\">5&nbsp;&nbsp;</span>Traditional Methods</a></span></li><li><span><a href=\"#Pytorch-Transfer-Learning\" data-toc-modified-id=\"Pytorch-Transfer-Learning-6\"><span class=\"toc-item-num\">6&nbsp;&nbsp;</span>Pytorch Transfer Learning</a></span><ul class=\"toc-item\"><li><span><a href=\"#Training-Folder\" data-toc-modified-id=\"Training-Folder-6.1\"><span class=\"toc-item-num\">6.1&nbsp;&nbsp;</span>Training Folder</a></span></li><li><span><a href=\"#Test-Folder\" data-toc-modified-id=\"Test-Folder-6.2\"><span class=\"toc-item-num\">6.2&nbsp;&nbsp;</span>Test Folder</a></span></li><li><span><a href=\"#Exploratory-Data-Analysis\" data-toc-modified-id=\"Exploratory-Data-Analysis-6.3\"><span class=\"toc-item-num\">6.3&nbsp;&nbsp;</span>Exploratory Data Analysis</a></span><ul class=\"toc-item\"><li><span><a href=\"#Image-Check\" data-toc-modified-id=\"Image-Check-6.3.1\"><span class=\"toc-item-num\">6.3.1&nbsp;&nbsp;</span>Image Check</a></span></li><li><span><a href=\"#Image-Loading-and-Sizes\" data-toc-modified-id=\"Image-Loading-and-Sizes-6.3.2\"><span class=\"toc-item-num\">6.3.2&nbsp;&nbsp;</span>Image Loading and Sizes</a></span></li></ul></li><li><span><a href=\"#Transformations\" data-toc-modified-id=\"Transformations-6.4\"><span class=\"toc-item-num\">6.4&nbsp;&nbsp;</span>Transformations</a></span></li><li><span><a href=\"#Data-Loading\" data-toc-modified-id=\"Data-Loading-6.5\"><span class=\"toc-item-num\">6.5&nbsp;&nbsp;</span>Data Loading</a></span></li><li><span><a href=\"#Batch-Checking\" data-toc-modified-id=\"Batch-Checking-6.6\"><span class=\"toc-item-num\">6.6&nbsp;&nbsp;</span>Batch Checking</a></span></li><li><span><a href=\"#Classes\" data-toc-modified-id=\"Classes-6.7\"><span class=\"toc-item-num\">6.7&nbsp;&nbsp;</span>Classes</a></span><ul class=\"toc-item\"><li><span><a href=\"#CNN\" data-toc-modified-id=\"CNN-6.7.1\"><span class=\"toc-item-num\">6.7.1&nbsp;&nbsp;</span>CNN</a></span></li></ul></li><li><span><a href=\"#Parameters\" data-toc-modified-id=\"Parameters-6.8\"><span class=\"toc-item-num\">6.8&nbsp;&nbsp;</span>Parameters</a></span></li></ul></li></ul></div>"
   ]
  },
  {
   "cell_type": "markdown",
   "metadata": {},
   "source": [
    "## Libraries"
   ]
  },
  {
   "cell_type": "code",
   "execution_count": 1,
   "metadata": {
    "ExecuteTime": {
     "end_time": "2019-08-22T13:36:03.586761Z",
     "start_time": "2019-08-22T13:36:02.916118Z"
    }
   },
   "outputs": [
    {
     "data": {
      "text/html": [
       "<style>.container { width:95% !important; }</style>"
      ],
      "text/plain": [
       "<IPython.core.display.HTML object>"
      ]
     },
     "metadata": {},
     "output_type": "display_data"
    }
   ],
   "source": [
    "# usual suspects\n",
    "import os\n",
    "import time\n",
    "import shutil\n",
    "import requests\n",
    "import zipfile\n",
    "from PIL import Image\n",
    "\n",
    "import numpy as np\n",
    "import pandas as pd\n",
    "from cycler import cycler\n",
    "\n",
    "# the good stuff\n",
    "import torch\n",
    "import torch.nn as nn\n",
    "from torch.autograd import Variable\n",
    "import torch.nn.functional as F\n",
    "from torch.utils.data import Dataset, DataLoader\n",
    "import torchvision\n",
    "from torchvision import datasets, models, transforms\n",
    "\n",
    "# standard sklearn import\n",
    "from sklearn.metrics import accuracy_score\n",
    "\n",
    "# minor changes to plotting functions\n",
    "import matplotlib.pyplot as plt\n",
    "cmap=plt.cm.tab10\n",
    "c = cycler('color', cmap(np.linspace(0,1,10)))\n",
    "plt.rcParams[\"axes.prop_cycle\"] = c\n",
    "\n",
    "\n",
    "%matplotlib inline\n",
    "%config InlineBackend.figure_format='retina'\n",
    "\n",
    "# change margin size of jupyter notebook\n",
    "from IPython.core.display import display, HTML\n",
    "display(HTML(\"<style>.container { width:95% !important; }</style>\"))"
   ]
  },
  {
   "cell_type": "code",
   "execution_count": 2,
   "metadata": {
    "ExecuteTime": {
     "end_time": "2019-08-22T13:36:04.088227Z",
     "start_time": "2019-08-22T13:36:04.076590Z"
    }
   },
   "outputs": [],
   "source": [
    "#Basics\n",
    "import numpy as np\n",
    "import pandas as pd\n",
    "import matplotlib.pyplot as plt\n",
    "\n",
    "#Torch\n",
    "import torch \n",
    "import torch.nn as nn\n",
    "import torch.nn.functional as F\n",
    "from torch.utils.data import DataLoader\n",
    "from torchvision import datasets, transforms, models\n",
    "\n",
    "#System\n",
    "import os\n",
    "\n",
    "#Image\n",
    "from PIL import Image\n",
    "from IPython.display import display\n",
    "from torchvision.utils import make_grid\n",
    "\n",
    "#Warning Ignore\n",
    "import warnings\n",
    "warnings.filterwarnings(\"ignore\")"
   ]
  },
  {
   "cell_type": "code",
   "execution_count": 3,
   "metadata": {
    "ExecuteTime": {
     "end_time": "2019-08-22T13:36:04.600447Z",
     "start_time": "2019-08-22T13:36:04.580067Z"
    }
   },
   "outputs": [],
   "source": [
    "use_cuda = torch.cuda.is_available()\n",
    "device = torch.device(\"cuda\" if torch.cuda.is_available() else \"cpu\")"
   ]
  },
  {
   "cell_type": "markdown",
   "metadata": {},
   "source": [
    "## Preprocessing "
   ]
  },
  {
   "cell_type": "markdown",
   "metadata": {},
   "source": [
    "### Image Test"
   ]
  },
  {
   "cell_type": "code",
   "execution_count": 4,
   "metadata": {
    "ExecuteTime": {
     "end_time": "2019-08-22T13:36:07.765372Z",
     "start_time": "2019-08-22T13:36:05.875470Z"
    }
   },
   "outputs": [],
   "source": [
    "img_path = \"./data/Futurama/character02/0326_16.png\"\n",
    "image = Image.open(img_path)"
   ]
  },
  {
   "cell_type": "code",
   "execution_count": 5,
   "metadata": {
    "ExecuteTime": {
     "end_time": "2019-08-22T13:36:07.769434Z",
     "start_time": "2019-08-22T13:36:07.766547Z"
    }
   },
   "outputs": [
    {
     "data": {
      "image/png": "[encoded data removed]",
      "text/plain": [
       "<PIL.PngImagePlugin.PngImageFile image mode=1 size=105x105 at 0x7FA0F82EC048>"
      ]
     },
     "execution_count": 5,
     "metadata": {},
     "output_type": "execute_result"
    }
   ],
   "source": [
    "image"
   ]
  },
  {
   "cell_type": "markdown",
   "metadata": {},
   "source": [
    "### Image Size"
   ]
  },
  {
   "cell_type": "code",
   "execution_count": 6,
   "metadata": {
    "ExecuteTime": {
     "end_time": "2019-08-22T13:36:07.775417Z",
     "start_time": "2019-08-22T13:36:07.770679Z"
    }
   },
   "outputs": [
    {
     "data": {
      "text/plain": [
       "(105, 105)"
      ]
     },
     "execution_count": 6,
     "metadata": {},
     "output_type": "execute_result"
    }
   ],
   "source": [
    "omni_dim = image.size\n",
    "###\n",
    "#DO THIS: Find better syntax for calling the dimensions of the images\n",
    "###\n",
    "omni_dim"
   ]
  },
  {
   "cell_type": "markdown",
   "metadata": {},
   "source": [
    "### Array View"
   ]
  },
  {
   "cell_type": "code",
   "execution_count": 7,
   "metadata": {
    "ExecuteTime": {
     "end_time": "2019-08-22T13:36:08.851177Z",
     "start_time": "2019-08-22T13:36:08.841078Z"
    }
   },
   "outputs": [
    {
     "data": {
      "text/plain": [
       "array([[255, 255, 255, ..., 255, 255, 255],\n",
       "       [255, 255, 255, ..., 255, 255, 255],\n",
       "       [255, 255, 255, ..., 255, 255, 255],\n",
       "       ...,\n",
       "       [255, 255, 255, ..., 255, 255, 255],\n",
       "       [255, 255, 255, ..., 255, 255, 255],\n",
       "       [255, 255, 255, ..., 255, 255, 255]], dtype=uint8)"
      ]
     },
     "execution_count": 7,
     "metadata": {},
     "output_type": "execute_result"
    }
   ],
   "source": [
    "img = Image.open(img_path).convert(\"L\")\n",
    "img = np.array(img)\n",
    "img"
   ]
  },
  {
   "cell_type": "code",
   "execution_count": 8,
   "metadata": {
    "ExecuteTime": {
     "end_time": "2019-08-22T13:36:09.325664Z",
     "start_time": "2019-08-22T13:36:09.321182Z"
    }
   },
   "outputs": [
    {
     "data": {
      "text/plain": [
       "105"
      ]
     },
     "execution_count": 8,
     "metadata": {},
     "output_type": "execute_result"
    }
   ],
   "source": [
    "len(img[0])"
   ]
  },
  {
   "cell_type": "code",
   "execution_count": 9,
   "metadata": {
    "ExecuteTime": {
     "end_time": "2019-08-22T13:36:09.798405Z",
     "start_time": "2019-08-22T13:36:09.793717Z"
    }
   },
   "outputs": [
    {
     "data": {
      "text/plain": [
       "105"
      ]
     },
     "execution_count": 9,
     "metadata": {},
     "output_type": "execute_result"
    }
   ],
   "source": [
    "len(img)"
   ]
  },
  {
   "cell_type": "markdown",
   "metadata": {},
   "source": [
    "### Tensor View"
   ]
  },
  {
   "cell_type": "code",
   "execution_count": 10,
   "metadata": {
    "ExecuteTime": {
     "end_time": "2019-08-22T13:36:10.650473Z",
     "start_time": "2019-08-22T13:36:10.625696Z"
    }
   },
   "outputs": [
    {
     "data": {
      "text/plain": [
       "tensor([[[[1., 1., 1.,  ..., 1., 1., 1.],\n",
       "          [1., 1., 1.,  ..., 1., 1., 1.],\n",
       "          [1., 1., 1.,  ..., 1., 1., 1.],\n",
       "          ...,\n",
       "          [1., 1., 1.,  ..., 1., 1., 1.],\n",
       "          [1., 1., 1.,  ..., 1., 1., 1.],\n",
       "          [1., 1., 1.,  ..., 1., 1., 1.]]]])"
      ]
     },
     "execution_count": 10,
     "metadata": {},
     "output_type": "execute_result"
    }
   ],
   "source": [
    "image = transforms.ToTensor()(image).unsqueeze(0) # unsqueeze to add artificial first dimension\n",
    "image = Variable(image)\n",
    "image"
   ]
  },
  {
   "cell_type": "code",
   "execution_count": 11,
   "metadata": {
    "ExecuteTime": {
     "end_time": "2019-08-22T13:36:11.210323Z",
     "start_time": "2019-08-22T13:36:11.204935Z"
    }
   },
   "outputs": [
    {
     "data": {
      "text/plain": [
       "torch.Size([1, 1, 105, 105])"
      ]
     },
     "execution_count": 11,
     "metadata": {},
     "output_type": "execute_result"
    }
   ],
   "source": [
    "image.size()"
   ]
  },
  {
   "cell_type": "markdown",
   "metadata": {},
   "source": [
    "## Make dataframe with all files"
   ]
  },
  {
   "cell_type": "code",
   "execution_count": null,
   "metadata": {
    "ExecuteTime": {
     "end_time": "2019-08-20T12:46:27.444882Z",
     "start_time": "2019-08-20T12:45:59.410340Z"
    }
   },
   "outputs": [],
   "source": [
    "language_dict = {}\n",
    "i = 0\n",
    "for language in os.listdir(\"./data\"):\n",
    "    for char in os.listdir(\"./data/{}\".format(language)):\n",
    "        for file in os.listdir(\"./data/{}/{}\".format(language, char)):\n",
    "            #Make empty data frame\n",
    "            language_dict[i] = {}\n",
    "            \n",
    "            #Bring in file information\n",
    "            language_dict[i]['language'] = language\n",
    "            language_dict[i]['char'] = char\n",
    "            language_dict[i]['image_name'] = file\n",
    "            language_dict[i]['path'] = \"./data/{}/{}/{}\".format(language,\n",
    "                                                                char,\n",
    "                                                                file)\n",
    "            \n",
    "            #Image to array\n",
    "            img = Image.open(language_dict[i]['path']).convert(\"L\")\n",
    "            img = np.array(img)\n",
    "            language_dict[i]['image_array'] = img\n",
    "            \n",
    "            #Import image as tensor\n",
    "            image = Image.open(language_dict[i]['path'])\n",
    "            image = transforms.ToTensor()(image).unsqueeze(0) # unsqueeze to add artificial first dimension\n",
    "            image = Variable(image)\n",
    "            language_dict[i]['image_tensor'] = image\n",
    "            \n",
    "            #Add onto index\n",
    "            i += 1\n",
    "\n",
    "#Set and name dataframe\n",
    "omni = pd.DataFrame.from_dict(language_dict).T\n",
    "\n",
    "#build target column\n",
    "omni[\"target\"] = omni[\"language\"] + \"_\" + omni[\"char\"]\n",
    "omni.head()"
   ]
  },
  {
   "cell_type": "markdown",
   "metadata": {},
   "source": [
    "## Train Test Split"
   ]
  },
  {
   "cell_type": "code",
   "execution_count": null,
   "metadata": {
    "ExecuteTime": {
     "end_time": "2019-08-20T12:46:27.564720Z",
     "start_time": "2019-08-20T12:46:27.446395Z"
    }
   },
   "outputs": [],
   "source": [
    "from sklearn.model_selection import train_test_split\n",
    "\n",
    "X = omni[[x for x in omni.columns if x is not \"target\"]]\n",
    "y = omni[\"target\"]\n",
    "\n",
    "X_train, X_test, y_train, y_test = train_test_split(X, \n",
    "                                                    y, \n",
    "                                                    test_size=0.33, \n",
    "                                                    random_state=88,\n",
    "                                                    stratify = y)"
   ]
  },
  {
   "cell_type": "code",
   "execution_count": null,
   "metadata": {
    "ExecuteTime": {
     "end_time": "2019-08-20T12:46:27.568763Z",
     "start_time": "2019-08-20T12:46:27.566144Z"
    }
   },
   "outputs": [],
   "source": [
    "len(X_test)"
   ]
  },
  {
   "cell_type": "code",
   "execution_count": null,
   "metadata": {
    "ExecuteTime": {
     "end_time": "2019-08-20T12:46:29.086688Z",
     "start_time": "2019-08-20T12:46:27.570072Z"
    }
   },
   "outputs": [],
   "source": [
    "X_test.head()"
   ]
  },
  {
   "cell_type": "markdown",
   "metadata": {},
   "source": [
    "## Traditional Methods"
   ]
  },
  {
   "cell_type": "code",
   "execution_count": null,
   "metadata": {
    "ExecuteTime": {
     "end_time": "2019-08-18T22:21:06.500851Z",
     "start_time": "2019-08-18T22:20:55.878216Z"
    }
   },
   "outputs": [],
   "source": []
  },
  {
   "cell_type": "markdown",
   "metadata": {},
   "source": [
    "## Pytorch Transfer Learning"
   ]
  },
  {
   "cell_type": "code",
   "execution_count": null,
   "metadata": {
    "ExecuteTime": {
     "end_time": "2019-08-20T12:51:46.512064Z",
     "start_time": "2019-08-20T12:51:43.964491Z"
    }
   },
   "outputs": [],
   "source": [
    "#This syntax is a little bacwards, building a dictionary to build a dataframe,\n",
    "#and then building a dictionary again. But, since we are using sci-kit learn\n",
    "#earlier, it is a little clearner to go backwards again\n",
    "X_train_dict = X_train.T.to_dict()\n",
    "X_test_dict = X_test.T.to_dict()"
   ]
  },
  {
   "cell_type": "markdown",
   "metadata": {},
   "source": [
    "### Training Folder"
   ]
  },
  {
   "cell_type": "code",
   "execution_count": null,
   "metadata": {
    "ExecuteTime": {
     "start_time": "2019-08-20T11:40:11.932Z"
    }
   },
   "outputs": [],
   "source": [
    "os.system('mkdir ./split')\n",
    "os.system('mkdir ./split/train')\n",
    "i = 0\n",
    "for x in X_train_dict:\n",
    "    entry = X_train_dict[x]\n",
    "    path = entry[\"path\"]\n",
    "    lang = entry[\"language\"]\n",
    "    char = entry[\"char\"]\n",
    "    name = entry[\"image_name\"]\n",
    "    os.system('mkdir ./split/train/{}_{}'.format(lang,char))\n",
    "    os.system('cp {} ./split/train/{}_{}/{}'.format(path,lang,char,name))\n",
    "    i += 1\n",
    "    if i % 1000 == 0: print(i)"
   ]
  },
  {
   "cell_type": "markdown",
   "metadata": {},
   "source": [
    "### Test Folder"
   ]
  },
  {
   "cell_type": "code",
   "execution_count": null,
   "metadata": {
    "ExecuteTime": {
     "end_time": "2019-08-19T20:45:36.763340Z",
     "start_time": "2019-08-19T20:35:02.915980Z"
    }
   },
   "outputs": [],
   "source": [
    "os.system('mkdir ./split/test')\n",
    "i = 0\n",
    "for x in X_test_dict:\n",
    "    entry = X_test_dict[x]\n",
    "    path = entry[\"path\"]\n",
    "    lang = entry[\"language\"]\n",
    "    char = entry[\"char\"]\n",
    "    name = entry[\"image_name\"]\n",
    "    os.system('mkdir ./split/test/{}_{}'.format(lang,char))\n",
    "    os.system('cp {} ./split/test/{}_{}/{}'.format(path,lang,char,name))\n",
    "    i += 1\n",
    "    if i % 1000 == 0: print(i)"
   ]
  },
  {
   "cell_type": "markdown",
   "metadata": {},
   "source": [
    "### Exploratory Data Analysis"
   ]
  },
  {
   "cell_type": "markdown",
   "metadata": {},
   "source": [
    "#### Image Check"
   ]
  },
  {
   "cell_type": "code",
   "execution_count": 12,
   "metadata": {
    "ExecuteTime": {
     "end_time": "2019-08-22T13:40:16.791566Z",
     "start_time": "2019-08-22T13:40:14.783714Z"
    }
   },
   "outputs": [
    {
     "data": {
      "image/png": "[encoded data removed]",
      "text/plain": [
       "<Figure size 432x288 with 1 Axes>"
      ]
     },
     "metadata": {
      "image/png": {
       "height": 251,
       "width": 259
      },
      "needs_background": "light"
     },
     "output_type": "display_data"
    }
   ],
   "source": [
    "import matplotlib.image as mpimg\n",
    "img=mpimg.imread(\"./split/train/Atlantean_character25/1035_10.png\")\n",
    "plt.imshow(img);"
   ]
  },
  {
   "cell_type": "markdown",
   "metadata": {},
   "source": [
    "#### Image Loading and Sizes"
   ]
  },
  {
   "cell_type": "code",
   "execution_count": 4,
   "metadata": {
    "ExecuteTime": {
     "end_time": "2019-08-20T12:52:34.918851Z",
     "start_time": "2019-08-20T12:51:53.029169Z"
    }
   },
   "outputs": [
    {
     "name": "stdout",
     "output_type": "stream",
     "text": [
      "24680 total, 0 rejected\n"
     ]
    },
    {
     "data": {
      "text/html": [
       "<div>\n",
       "<style scoped>\n",
       "    .dataframe tbody tr th:only-of-type {\n",
       "        vertical-align: middle;\n",
       "    }\n",
       "\n",
       "    .dataframe tbody tr th {\n",
       "        vertical-align: top;\n",
       "    }\n",
       "\n",
       "    .dataframe thead th {\n",
       "        text-align: right;\n",
       "    }\n",
       "</style>\n",
       "<table border=\"1\" class=\"dataframe\">\n",
       "  <thead>\n",
       "    <tr style=\"text-align: right;\">\n",
       "      <th></th>\n",
       "      <th>width</th>\n",
       "      <th>height</th>\n",
       "    </tr>\n",
       "  </thead>\n",
       "  <tbody>\n",
       "    <tr>\n",
       "      <th>count</th>\n",
       "      <td>24680.0</td>\n",
       "      <td>24680.0</td>\n",
       "    </tr>\n",
       "    <tr>\n",
       "      <th>mean</th>\n",
       "      <td>105.0</td>\n",
       "      <td>105.0</td>\n",
       "    </tr>\n",
       "    <tr>\n",
       "      <th>std</th>\n",
       "      <td>0.0</td>\n",
       "      <td>0.0</td>\n",
       "    </tr>\n",
       "    <tr>\n",
       "      <th>min</th>\n",
       "      <td>105.0</td>\n",
       "      <td>105.0</td>\n",
       "    </tr>\n",
       "    <tr>\n",
       "      <th>25%</th>\n",
       "      <td>105.0</td>\n",
       "      <td>105.0</td>\n",
       "    </tr>\n",
       "    <tr>\n",
       "      <th>50%</th>\n",
       "      <td>105.0</td>\n",
       "      <td>105.0</td>\n",
       "    </tr>\n",
       "    <tr>\n",
       "      <th>75%</th>\n",
       "      <td>105.0</td>\n",
       "      <td>105.0</td>\n",
       "    </tr>\n",
       "    <tr>\n",
       "      <th>max</th>\n",
       "      <td>105.0</td>\n",
       "      <td>105.0</td>\n",
       "    </tr>\n",
       "  </tbody>\n",
       "</table>\n",
       "</div>"
      ],
      "text/plain": [
       "         width   height\n",
       "count  24680.0  24680.0\n",
       "mean     105.0    105.0\n",
       "std        0.0      0.0\n",
       "min      105.0    105.0\n",
       "25%      105.0    105.0\n",
       "50%      105.0    105.0\n",
       "75%      105.0    105.0\n",
       "max      105.0    105.0"
      ]
     },
     "execution_count": 4,
     "metadata": {},
     "output_type": "execute_result"
    }
   ],
   "source": [
    "path = \"./split\"\n",
    "img_names = []\n",
    "\n",
    "for folder, subfolders, filenames in os.walk(path):\n",
    "    for img in filenames:\n",
    "        img_names.append(folder + \"/\" + img)\n",
    "\n",
    "img_sizes = []\n",
    "rejected = []\n",
    "\n",
    "for item in img_names:\n",
    "    try:\n",
    "        with Image.open(item) as img:\n",
    "            img_sizes.append(img.size)\n",
    "    except:\n",
    "        rejected.append(item)\n",
    "        \n",
    "print(\"{} total, {} rejected\".format(len(img_sizes),len(rejected)))\n",
    "\n",
    "pd.DataFrame(img_sizes, columns = [\"width\", \"height\"]).describe()"
   ]
  },
  {
   "cell_type": "markdown",
   "metadata": {},
   "source": [
    "<b>All of the images are the same size, not going to need much in the way of transformations</b>"
   ]
  },
  {
   "cell_type": "markdown",
   "metadata": {},
   "source": [
    "### Transformations"
   ]
  },
  {
   "cell_type": "code",
   "execution_count": 5,
   "metadata": {
    "ExecuteTime": {
     "end_time": "2019-08-20T12:52:49.656587Z",
     "start_time": "2019-08-20T12:52:49.653175Z"
    }
   },
   "outputs": [],
   "source": [
    "train_transforms = transforms.Compose([\n",
    "    transforms.RandomRotation(10),\n",
    "    #transforms.RandomHorizontalFlip(p = 0), #Flipping characters may confuse network\n",
    "    transforms.Resize(105),\n",
    "    transforms.CenterCrop(105),\n",
    "    transforms.ToTensor(),\n",
    "    transforms.Normalize(mean = [.485, .456, .406], std = [.229, .224, .225])\n",
    "])\n",
    "\n",
    "#We do not want to apply any of the random elements to the test set\n",
    "test_transforms = transforms.Compose([\n",
    "    transforms.Resize(105),\n",
    "    transforms.CenterCrop(105),\n",
    "    transforms.ToTensor(),\n",
    "    transforms.Normalize(mean = [.485, .456, .406], std = [.229, .224, .225])\n",
    "])"
   ]
  },
  {
   "cell_type": "markdown",
   "metadata": {},
   "source": [
    "### Data Loading"
   ]
  },
  {
   "cell_type": "code",
   "execution_count": 6,
   "metadata": {
    "ExecuteTime": {
     "end_time": "2019-08-20T12:52:51.475915Z",
     "start_time": "2019-08-20T12:52:51.391579Z"
    }
   },
   "outputs": [],
   "source": [
    "root = \"./split\"\n",
    "\n",
    "train_data = datasets.ImageFolder(os.path.join(root,\"train\"), \n",
    "                                  transform = train_transforms)\n",
    "\n",
    "test_data = datasets.ImageFolder(os.path.join(root,\"test\"), \n",
    "                                  transform = test_transforms)\n",
    "\n",
    "torch.manual_seed(42)\n",
    "\n",
    "train_loader = DataLoader(train_data, batch_size = 10, shuffle = True)\n",
    "test_loader = DataLoader(test_data, batch_size = 10)\n",
    "\n",
    "class_names = train_data.classes\n",
    "class_size = len(class_names)"
   ]
  },
  {
   "cell_type": "code",
   "execution_count": 7,
   "metadata": {
    "ExecuteTime": {
     "end_time": "2019-08-20T12:52:52.679342Z",
     "start_time": "2019-08-20T12:52:52.676744Z"
    }
   },
   "outputs": [
    {
     "name": "stdout",
     "output_type": "stream",
     "text": [
      "1234 Classes\n",
      "1654 Training Batches\n",
      "815 Test Batches\n"
     ]
    }
   ],
   "source": [
    "print(\"{} Classes\\n{} Training Batches\\n{} Test Batches\".format(class_size, len(train_loader), len(test_loader)))"
   ]
  },
  {
   "cell_type": "markdown",
   "metadata": {},
   "source": [
    "### Batch Checking"
   ]
  },
  {
   "cell_type": "code",
   "execution_count": 8,
   "metadata": {
    "ExecuteTime": {
     "end_time": "2019-08-20T12:52:56.386368Z",
     "start_time": "2019-08-20T12:52:56.150139Z"
    }
   },
   "outputs": [
    {
     "name": "stderr",
     "output_type": "stream",
     "text": [
      "Clipping input data to the valid range for imshow with RGB data ([0..1] for floats or [0..255] for integers).\n"
     ]
    },
    {
     "data": {
      "image/png": "[encoded data removed]",
      "text/plain": [
       "<Figure size 864x288 with 1 Axes>"
      ]
     },
     "metadata": {
      "image/png": {
       "height": 251,
       "width": 582
      },
      "needs_background": "light"
     },
     "output_type": "display_data"
    }
   ],
   "source": [
    "for images, labels in train_loader:\n",
    "    break\n",
    "\n",
    "im = make_grid(images,nrow = 5)\n",
    "\n",
    "plt.figure(figsize = (12,4))\n",
    "plt.imshow(np.transpose(im.numpy(), (1,2,0)));"
   ]
  },
  {
   "cell_type": "markdown",
   "metadata": {},
   "source": [
    "### Classes"
   ]
  },
  {
   "cell_type": "markdown",
   "metadata": {},
   "source": [
    "#### CNN"
   ]
  },
  {
   "cell_type": "code",
   "execution_count": 9,
   "metadata": {
    "ExecuteTime": {
     "end_time": "2019-08-20T12:52:59.951687Z",
     "start_time": "2019-08-20T12:52:59.939794Z"
    }
   },
   "outputs": [
    {
     "data": {
      "text/plain": [
       "4"
      ]
     },
     "execution_count": 9,
     "metadata": {},
     "output_type": "execute_result"
    }
   ],
   "source": [
    "round(((((105 - 2) / 2) - 2) / 3 - 2)/4)"
   ]
  },
  {
   "cell_type": "code",
   "execution_count": 10,
   "metadata": {
    "ExecuteTime": {
     "end_time": "2019-08-20T12:53:04.212387Z",
     "start_time": "2019-08-20T12:53:04.205952Z"
    }
   },
   "outputs": [],
   "source": [
    "class ConvolutionalNetwork(nn.Module):\n",
    "    \n",
    "    def __init__(self):\n",
    "        \n",
    "        super().__init__()\n",
    "        self.conv1 = nn.Conv2d(in_channels  = 3,\n",
    "                               out_channels = 6, \n",
    "                               kernel_size  = 3,\n",
    "                               stride       = 1)\n",
    "        \n",
    "        self.conv2 = nn.Conv2d(in_channels  = 6,\n",
    "                               out_channels = 12, \n",
    "                               kernel_size  = 3,\n",
    "                               stride       = 1)\n",
    "        \n",
    "        self.conv3 = nn.Conv2d(in_channels  = 12,\n",
    "                               out_channels = 18, \n",
    "                               kernel_size  = 3,\n",
    "                               stride       = 1)\n",
    "        \n",
    "###\n",
    "#Linear Layer Math\n",
    "#floor(105 - 2 {we lose two one the side for padding})/2 {since pooling layer is applied} for each convolution\n",
    "#We are using two convolutions so...\n",
    "#round((((105 - 2) / 2) - 2) / 2)  = 24\n",
    "\n",
    "\n",
    "        self.fc1 = nn.Linear(4*4*18,class_size * 6) # Calculation above and 16 filters above\n",
    "        self.fc2 = nn.Linear(class_size * 4, class_size * 2)\n",
    "        self.fc3 = nn.Linear(class_size * 2, class_size * 1)\n",
    "        \n",
    "    \n",
    "    def forward(self, X):\n",
    "        X = F.relu(self.conv1(X))\n",
    "        X = F.max_pool2D(X,2,2)\n",
    "        X = F.relu(self.conv2(X))\n",
    "        X = F.max_pool2D(X,3,3)\n",
    "        X = F.relu(self.conv3(X))\n",
    "        X = F.max_pool2D(X,4,4)\n",
    "        X = X.view(-1,4*4*18) #Flattening network\n",
    "        X = F.relu(self.fc1(X))\n",
    "        X = F.relu(self.fc2(X))\n",
    "        X = self.fc3(X)\n",
    "\n",
    "        return F.log_softmax(X,dim = 1)\n",
    "        "
   ]
  },
  {
   "cell_type": "code",
   "execution_count": 11,
   "metadata": {
    "ExecuteTime": {
     "end_time": "2019-08-20T12:53:05.123364Z",
     "start_time": "2019-08-20T12:53:05.014066Z"
    }
   },
   "outputs": [],
   "source": [
    "torch.manual_seed(88)\n",
    "CNNmodel = ConvolutionalNetwork()\n",
    "criterion = nn.CrossEntropyLoss()\n",
    "optimizer = torch.optim.Adam(CNNmodel.parameters(), lr = .001)"
   ]
  },
  {
   "cell_type": "code",
   "execution_count": 12,
   "metadata": {
    "ExecuteTime": {
     "end_time": "2019-08-20T12:53:05.879981Z",
     "start_time": "2019-08-20T12:53:05.876986Z"
    }
   },
   "outputs": [
    {
     "data": {
      "text/plain": [
       "ConvolutionalNetwork(\n",
       "  (conv1): Conv2d(3, 6, kernel_size=(3, 3), stride=(1, 1))\n",
       "  (conv2): Conv2d(6, 12, kernel_size=(3, 3), stride=(1, 1))\n",
       "  (conv3): Conv2d(12, 18, kernel_size=(3, 3), stride=(1, 1))\n",
       "  (fc1): Linear(in_features=288, out_features=7404, bias=True)\n",
       "  (fc2): Linear(in_features=4936, out_features=2468, bias=True)\n",
       "  (fc3): Linear(in_features=2468, out_features=1234, bias=True)\n",
       ")"
      ]
     },
     "execution_count": 12,
     "metadata": {},
     "output_type": "execute_result"
    }
   ],
   "source": [
    "CNNmodel"
   ]
  },
  {
   "cell_type": "code",
   "execution_count": 13,
   "metadata": {
    "ExecuteTime": {
     "end_time": "2019-08-20T12:53:06.746238Z",
     "start_time": "2019-08-20T12:53:06.742237Z"
    }
   },
   "outputs": [
    {
     "name": "stdout",
     "output_type": "stream",
     "text": [
      "     162\n",
      "       6\n",
      "     648\n",
      "      12\n",
      "    1944\n",
      "      18\n",
      " 2132352\n",
      "    7404\n",
      "12182048\n",
      "    2468\n",
      " 3045512\n",
      "    1234\n",
      "________\n",
      "17373808\n"
     ]
    }
   ],
   "source": [
    "def count_parameters(model):\n",
    "    params = [p.numel() for p in model.parameters() if p.requires_grad]\n",
    "    for item in params:\n",
    "        print(f'{item:>8}')\n",
    "    print(f'________\\n{sum(params):>8}')\n",
    "\n",
    "count_parameters(CNNmodel)"
   ]
  },
  {
   "cell_type": "code",
   "execution_count": null,
   "metadata": {
    "ExecuteTime": {
     "start_time": "2019-08-20T12:53:08.033Z"
    }
   },
   "outputs": [],
   "source": [
    "import time \n",
    "start_time = time.time()\n",
    "\n",
    "epochs = 3\n",
    "\n",
    "max_trn_batch = 800 # 10 Images per batch\n",
    "max_tst_batch = 300 \n",
    "\n",
    "train_losses = []\n",
    "test_losses = []\n",
    "train_correct = []\n",
    "test_correct = []\n",
    "\n",
    "for i in range(epochs):\n",
    "    \n",
    "    trn_corr = 0\n",
    "    tst_corr = 0\n",
    "    \n",
    "    for b, (X_train,y_train) in enumerate(train_loader):\n",
    "        \n",
    "        if b == max_trn_batch:\n",
    "            break\n",
    "            \n",
    "        b += 1\n",
    "        \n",
    "        y_pred = CNNmodel(X_train)\n",
    "        loss = criterion(y_pred, y_train)\n",
    "        \n",
    "        #Tally the number of correct predictions\n",
    "        predicted = torch.max(y_pred.data, 1)[1]\n",
    "        batch_corr = (predicted == y_train).sum()\n",
    "        trn_corr += batch_corr\n",
    "        \n",
    "        #Update\n",
    "        optimizer.zero_grad()\n",
    "        loss.backward()\n",
    "        optimizer.step()\n",
    "        \n",
    "        if batch % 200 == 0:\n",
    "            print( \"Epoch {} Loss {} \".format(i,loss.item()))\n",
    "                  \n",
    "    train_losses.append(loss)\n",
    "    train_correct.append(trn_correct)\n",
    "                  \n",
    "    #Make sure we dont\"t update network with tests\n",
    "    with torch.no_grad():\n",
    "        for b, (X_test, y_test) in enumerate(test_loader):\n",
    "            \n",
    "            if b == max_tst_batch:\n",
    "                  break\n",
    "        \n",
    "            y_val = CNNmodel(X_test)\n",
    "            predicted = torch.max(y_pred.data, 1)[1]\n",
    "            batch_corr = (predicted == y_test).sum()            \n",
    "            tst_corr = tst_corr + batch_corr\n",
    "    \n",
    "    loss = criterion(y_val,y_test)\n",
    "    test_losses.append(loss)\n",
    "    test_correct.appent(tst_corr)\n",
    "                  \n",
    "                  \n",
    "total_time = time.time() - start_time\n",
    "print(\"Total Time {} minutes\".format(total_time/60))"
   ]
  },
  {
   "cell_type": "code",
   "execution_count": null,
   "metadata": {},
   "outputs": [],
   "source": []
  },
  {
   "cell_type": "code",
   "execution_count": null,
   "metadata": {},
   "outputs": [],
   "source": []
  },
  {
   "cell_type": "code",
   "execution_count": null,
   "metadata": {},
   "outputs": [],
   "source": []
  },
  {
   "cell_type": "code",
   "execution_count": null,
   "metadata": {},
   "outputs": [],
   "source": []
  },
  {
   "cell_type": "code",
   "execution_count": null,
   "metadata": {},
   "outputs": [],
   "source": []
  },
  {
   "cell_type": "code",
   "execution_count": null,
   "metadata": {},
   "outputs": [],
   "source": []
  },
  {
   "cell_type": "code",
   "execution_count": null,
   "metadata": {},
   "outputs": [],
   "source": []
  },
  {
   "cell_type": "code",
   "execution_count": null,
   "metadata": {},
   "outputs": [],
   "source": []
  },
  {
   "cell_type": "code",
   "execution_count": null,
   "metadata": {},
   "outputs": [],
   "source": []
  },
  {
   "cell_type": "code",
   "execution_count": null,
   "metadata": {},
   "outputs": [],
   "source": []
  },
  {
   "cell_type": "code",
   "execution_count": null,
   "metadata": {},
   "outputs": [],
   "source": []
  },
  {
   "cell_type": "code",
   "execution_count": null,
   "metadata": {},
   "outputs": [],
   "source": []
  },
  {
   "cell_type": "code",
   "execution_count": null,
   "metadata": {},
   "outputs": [],
   "source": []
  },
  {
   "cell_type": "code",
   "execution_count": null,
   "metadata": {},
   "outputs": [],
   "source": []
  },
  {
   "cell_type": "code",
   "execution_count": null,
   "metadata": {},
   "outputs": [],
   "source": []
  },
  {
   "cell_type": "code",
   "execution_count": null,
   "metadata": {},
   "outputs": [],
   "source": []
  },
  {
   "cell_type": "code",
   "execution_count": null,
   "metadata": {},
   "outputs": [],
   "source": []
  },
  {
   "cell_type": "code",
   "execution_count": null,
   "metadata": {},
   "outputs": [],
   "source": []
  },
  {
   "cell_type": "code",
   "execution_count": null,
   "metadata": {},
   "outputs": [],
   "source": []
  },
  {
   "cell_type": "code",
   "execution_count": null,
   "metadata": {},
   "outputs": [],
   "source": []
  },
  {
   "cell_type": "code",
   "execution_count": null,
   "metadata": {
    "ExecuteTime": {
     "end_time": "2019-08-19T00:44:11.991679Z",
     "start_time": "2019-08-19T00:44:11.775001Z"
    }
   },
   "outputs": [],
   "source": [
    "import matplotlib.image as mpimg\n",
    "img=mpimg.imread(\"test/1317_02.png\")\n",
    "plt.imshow(img);"
   ]
  },
  {
   "cell_type": "code",
   "execution_count": null,
   "metadata": {
    "ExecuteTime": {
     "end_time": "2019-08-19T00:11:56.607003Z",
     "start_time": "2019-08-19T00:11:56.520113Z"
    }
   },
   "outputs": [],
   "source": [
    "data_transforms = {\n",
    "    'train':\n",
    "        transforms.Compose([\n",
    "            transforms.Resize((224,224)),\n",
    "            transforms.RandomAffine(0, shear=10, scale=(0.8,1.2)),\n",
    "            transforms.RandomHorizontalFlip(), #Random flipper\n",
    "            transforms.ToTensor()]),\n",
    "    'test':\n",
    "        transforms.Compose([\n",
    "            transforms.Resize((224,224)),\n",
    "            transforms.ToTensor()])}\n",
    " \n",
    "image_datasets = {\n",
    "    'train':\n",
    "        datasets.ImageFolder('training', data_transforms['train']),\n",
    "    'test':\n",
    "        datasets.ImageFolder('test', data_transforms['test'])}\n",
    " \n",
    "dataloaders = {\n",
    "    'train':\n",
    "        torch.utils.data.DataLoader(\n",
    "            image_datasets['train'],\n",
    "            batch_size=32, # TO avoid overloading the GPU memory\n",
    "            shuffle=True,\n",
    "            num_workers=4),\n",
    "    'test':\n",
    "        torch.utils.data.DataLoader(\n",
    "            image_datasets['test'],\n",
    "            batch_size=32,\n",
    "            shuffle=False,\n",
    "            num_workers=4)}"
   ]
  },
  {
   "cell_type": "markdown",
   "metadata": {
    "ExecuteTime": {
     "end_time": "2019-08-14T09:03:40.318541Z",
     "start_time": "2019-08-14T09:03:40.314515Z"
    }
   },
   "source": [
    "### Parameters"
   ]
  },
  {
   "cell_type": "code",
   "execution_count": null,
   "metadata": {},
   "outputs": [],
   "source": []
  },
  {
   "cell_type": "code",
   "execution_count": null,
   "metadata": {},
   "outputs": [],
   "source": []
  },
  {
   "cell_type": "code",
   "execution_count": null,
   "metadata": {},
   "outputs": [],
   "source": []
  },
  {
   "cell_type": "code",
   "execution_count": null,
   "metadata": {},
   "outputs": [],
   "source": []
  },
  {
   "cell_type": "code",
   "execution_count": null,
   "metadata": {},
   "outputs": [],
   "source": []
  },
  {
   "cell_type": "code",
   "execution_count": null,
   "metadata": {},
   "outputs": [],
   "source": []
  },
  {
   "cell_type": "code",
   "execution_count": null,
   "metadata": {},
   "outputs": [],
   "source": []
  },
  {
   "cell_type": "code",
   "execution_count": null,
   "metadata": {},
   "outputs": [],
   "source": []
  },
  {
   "cell_type": "code",
   "execution_count": null,
   "metadata": {},
   "outputs": [],
   "source": []
  },
  {
   "cell_type": "code",
   "execution_count": null,
   "metadata": {},
   "outputs": [],
   "source": []
  },
  {
   "cell_type": "code",
   "execution_count": null,
   "metadata": {},
   "outputs": [],
   "source": []
  },
  {
   "cell_type": "code",
   "execution_count": null,
   "metadata": {},
   "outputs": [],
   "source": []
  },
  {
   "cell_type": "code",
   "execution_count": null,
   "metadata": {},
   "outputs": [],
   "source": []
  },
  {
   "cell_type": "code",
   "execution_count": null,
   "metadata": {},
   "outputs": [],
   "source": []
  },
  {
   "cell_type": "code",
   "execution_count": null,
   "metadata": {},
   "outputs": [],
   "source": []
  },
  {
   "cell_type": "code",
   "execution_count": null,
   "metadata": {},
   "outputs": [],
   "source": []
  },
  {
   "cell_type": "code",
   "execution_count": null,
   "metadata": {},
   "outputs": [],
   "source": []
  },
  {
   "cell_type": "code",
   "execution_count": null,
   "metadata": {},
   "outputs": [],
   "source": []
  },
  {
   "cell_type": "code",
   "execution_count": null,
   "metadata": {},
   "outputs": [],
   "source": []
  },
  {
   "cell_type": "code",
   "execution_count": null,
   "metadata": {},
   "outputs": [],
   "source": []
  },
  {
   "cell_type": "code",
   "execution_count": null,
   "metadata": {},
   "outputs": [],
   "source": []
  },
  {
   "cell_type": "code",
   "execution_count": null,
   "metadata": {},
   "outputs": [],
   "source": []
  },
  {
   "cell_type": "code",
   "execution_count": null,
   "metadata": {},
   "outputs": [],
   "source": []
  },
  {
   "cell_type": "code",
   "execution_count": null,
   "metadata": {},
   "outputs": [],
   "source": [
    "transform_train = transforms.Compose([transforms.Resize(omni_dim),\n",
    "                                      transforms.RandomHorizontalFlip(),\n",
    "                                      transforms.RandomRotation(10),\n",
    "                                      transforms.RandomAffine(0, shear=10, scale=(0.8,1.2)),\n",
    "                                      transforms.ColorJitter(brightness=0.2, contrast=0.2, saturation=0.2),\n",
    "                                      transforms.ToTensor(),\n",
    "                                      transforms.Normalize((0.5, 0.5, 0.5), (0.5, 0.5, 0.5))])\n",
    "\n",
    "transform = transforms.Compose([transforms.Resize(omni_dim),\n",
    "                               transforms.ToTensor(),\n",
    "                               transforms.Normalize((0.5, 0.5, 0.5), (0.5, 0.5, 0.5))\n",
    "                                ])\n",
    "# training_dataset = datasets.CIFAR10(root='./data', train=True, download=True, transform=transform_train)\n",
    "# validation_dataset = datasets.CIFAR10(root='./data', train=False, download=True, transform=transform)\n",
    " \n",
    "# training_loader = torch.utils.data.DataLoader(training_dataset, batch_size=100, shuffle=True)\n",
    "# validation_loader = torch.utils.data.DataLoader(validation_dataset, batch_size = 100, shuffle=False)"
   ]
  },
  {
   "cell_type": "code",
   "execution_count": null,
   "metadata": {
    "ExecuteTime": {
     "end_time": "2019-08-14T08:59:17.653415Z",
     "start_time": "2019-08-14T08:59:17.597435Z"
    }
   },
   "outputs": [],
   "source": [
    "labels = labeldict(X_test)\n",
    "\n",
    "image_size = omni_dim[0]\n",
    "num_classes = len(labeldict)\n",
    "num_channels = 1\n",
    "batch_size = 64\n",
    "id_to_label = labeldict"
   ]
  },
  {
   "cell_type": "code",
   "execution_count": null,
   "metadata": {
    "ExecuteTime": {
     "end_time": "2019-08-14T08:38:13.843370Z",
     "start_time": "2019-08-14T08:38:13.820555Z"
    }
   },
   "outputs": [],
   "source": [
    "class FashionDataset(Dataset):\n",
    "\n",
    "    def __init__(self, path, \n",
    "                 image_size, num_channels, image_transform=None):\n",
    "        self.num_channels = num_channels\n",
    "        self.image_size = image_size\n",
    "        self.image_transform = image_transform\n",
    "        data_df = pd.read_csv(path)\n",
    "        self.X = data_df.values[:, 1:]\n",
    "        self.X = self.X.reshape(-1, image_size, image_size, num_channels)\n",
    "        self.X = self.X.astype('float32')\n",
    "        self.y = data_df.values[:, 0]\n",
    "        \n",
    "    def __getitem__(self, index):\n",
    "        batch_X, batch_y = self.X[index], self.y[index]\n",
    "        if self.image_transform is not None:\n",
    "            batch_X = self.image_transform(batch_X)\n",
    "        return batch_X, batch_y\n",
    "\n",
    "    def __len__(self):\n",
    "        return len(self.X)\n",
    "\n",
    "# This simple transform coverts the image from an numpy array\n",
    "# to a PyTorch tensor and remaps its values from 0-255 to 0-1. \n",
    "# Many other types of transformations are available, and they \n",
    "# can easily be composed into a pipeline. For more info see: \n",
    "# https://pytorch.org/docs/stable/torchvision/transforms.html\n",
    "image_transform = transforms.Compose([transforms.ToTensor()])\n",
    "\n",
    "train_dataset = FashionDataset(\n",
    "    'fashionmnist/fashion-mnist_train.csv', \n",
    "    image_size, \n",
    "    num_channels, \n",
    "    image_transform)\n",
    "\n",
    "train_dataloader = DataLoader(\n",
    "    dataset=train_dataset,\n",
    "    batch_size=batch_size,\n",
    "    shuffle=True)\n",
    "\n",
    "val_dataset = FashionDataset(\n",
    "    'fashionmnist/fashion-mnist_test.csv', \n",
    "    image_size, \n",
    "    num_channels, \n",
    "    image_transform)\n",
    "\n",
    "val_dataloader = DataLoader(\n",
    "    dataset=train_dataset,\n",
    "    batch_size=batch_size)"
   ]
  },
  {
   "cell_type": "code",
   "execution_count": null,
   "metadata": {},
   "outputs": [],
   "source": [
    "image_size = 28\n",
    "num_classes = 10\n",
    "num_channels = 1\n",
    "batch_size = 64\n",
    "id_to_label = {}"
   ]
  }
 ],
 "metadata": {
  "kernelspec": {
   "display_name": "Python 3",
   "language": "python",
   "name": "python3"
  },
  "language_info": {
   "codemirror_mode": {
    "name": "ipython",
    "version": 3
   },
   "file_extension": ".py",
   "mimetype": "text/x-python",
   "name": "python",
   "nbconvert_exporter": "python",
   "pygments_lexer": "ipython3",
   "version": "3.7.3"
  },
  "toc": {
   "base_numbering": 1,
   "nav_menu": {},
   "number_sections": true,
   "sideBar": true,
   "skip_h1_title": true,
   "title_cell": "Table of Contents",
   "title_sidebar": "Contents",
   "toc_cell": true,
   "toc_position": {
    "height": "calc(100% - 180px)",
    "left": "10px",
    "top": "150px",
    "width": "198.594px"
   },
   "toc_section_display": true,
   "toc_window_display": true
  }
 },
 "nbformat": 4,
 "nbformat_minor": 2
}
