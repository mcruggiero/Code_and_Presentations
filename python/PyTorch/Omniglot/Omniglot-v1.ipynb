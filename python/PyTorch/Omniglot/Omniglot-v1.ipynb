{
 "cells": [
  {
   "cell_type": "markdown",
   "metadata": {
    "toc": true
   },
   "source": [
    "<h1>Table of Contents<span class=\"tocSkip\"></span></h1>\n",
    "<div class=\"toc\"><ul class=\"toc-item\"><li><span><a href=\"#Libraries\" data-toc-modified-id=\"Libraries-1\"><span class=\"toc-item-num\">1&nbsp;&nbsp;</span>Libraries</a></span></li><li><span><a href=\"#Preprocessing\" data-toc-modified-id=\"Preprocessing-2\"><span class=\"toc-item-num\">2&nbsp;&nbsp;</span>Preprocessing</a></span><ul class=\"toc-item\"><li><span><a href=\"#Image-Test\" data-toc-modified-id=\"Image-Test-2.1\"><span class=\"toc-item-num\">2.1&nbsp;&nbsp;</span>Image Test</a></span></li><li><span><a href=\"#Array-View\" data-toc-modified-id=\"Array-View-2.2\"><span class=\"toc-item-num\">2.2&nbsp;&nbsp;</span>Array View</a></span></li><li><span><a href=\"#Tensor-View\" data-toc-modified-id=\"Tensor-View-2.3\"><span class=\"toc-item-num\">2.3&nbsp;&nbsp;</span>Tensor View</a></span></li></ul></li><li><span><a href=\"#Make-dataframe-with-all-files\" data-toc-modified-id=\"Make-dataframe-with-all-files-3\"><span class=\"toc-item-num\">3&nbsp;&nbsp;</span>Make dataframe with all files</a></span></li><li><span><a href=\"#Train-Test-Split\" data-toc-modified-id=\"Train-Test-Split-4\"><span class=\"toc-item-num\">4&nbsp;&nbsp;</span>Train Test Split</a></span></li><li><span><a href=\"#Traditional-Methods\" data-toc-modified-id=\"Traditional-Methods-5\"><span class=\"toc-item-num\">5&nbsp;&nbsp;</span>Traditional Methods</a></span></li></ul></div>"
   ]
  },
  {
   "cell_type": "markdown",
   "metadata": {},
   "source": [
    "## Libraries"
   ]
  },
  {
   "cell_type": "code",
   "execution_count": 46,
   "metadata": {
    "ExecuteTime": {
     "end_time": "2019-08-13T23:05:18.198294Z",
     "start_time": "2019-08-13T23:05:18.177253Z"
    }
   },
   "outputs": [
    {
     "data": {
      "text/html": [
       "<style>.container { width:95% !important; }</style>"
      ],
      "text/plain": [
       "<IPython.core.display.HTML object>"
      ]
     },
     "metadata": {},
     "output_type": "display_data"
    }
   ],
   "source": [
    "# usual suspects\n",
    "import os\n",
    "import time\n",
    "import shutil\n",
    "import requests\n",
    "import zipfile\n",
    "from PIL import Image\n",
    "\n",
    "import numpy as np\n",
    "import pandas as pd\n",
    "from cycler import cycler\n",
    "\n",
    "# the good stuff\n",
    "import torch\n",
    "import torch.nn as nn\n",
    "from torch.autograd import Variable\n",
    "import torch.nn.functional as F\n",
    "from torch.utils.data import Dataset, DataLoader\n",
    "import torchvision\n",
    "from torchvision import datasets, models, transforms\n",
    "\n",
    "# standard sklearn import\n",
    "from sklearn.metrics import accuracy_score\n",
    "\n",
    "# minor changes to plotting functions\n",
    "import matplotlib.pyplot as plt\n",
    "cmap=plt.cm.tab10\n",
    "c = cycler('color', cmap(np.linspace(0,1,10)))\n",
    "plt.rcParams[\"axes.prop_cycle\"] = c\n",
    "\n",
    "\n",
    "%matplotlib inline\n",
    "%config InlineBackend.figure_format='retina'\n",
    "\n",
    "# change margin size of jupyter notebook\n",
    "from IPython.core.display import display, HTML\n",
    "display(HTML(\"<style>.container { width:95% !important; }</style>\"))"
   ]
  },
  {
   "cell_type": "markdown",
   "metadata": {},
   "source": [
    "## Preprocessing "
   ]
  },
  {
   "cell_type": "markdown",
   "metadata": {},
   "source": [
    "### Image Test"
   ]
  },
  {
   "cell_type": "code",
   "execution_count": 75,
   "metadata": {
    "ExecuteTime": {
     "end_time": "2019-08-13T23:34:38.602274Z",
     "start_time": "2019-08-13T23:34:38.599826Z"
    }
   },
   "outputs": [],
   "source": [
    "img_path = \"./data/Futurama/character02/0326_16.png\"\n",
    "image = Image.open(img_path)"
   ]
  },
  {
   "cell_type": "code",
   "execution_count": 76,
   "metadata": {
    "ExecuteTime": {
     "end_time": "2019-08-13T23:34:39.088057Z",
     "start_time": "2019-08-13T23:34:39.077534Z"
    }
   },
   "outputs": [
    {
     "data": {
      "image/png": "[encoded data removed]",
      "text/plain": [
       "<PIL.PngImagePlugin.PngImageFile image mode=1 size=105x105 at 0x7F47C1416780>"
      ]
     },
     "execution_count": 76,
     "metadata": {},
     "output_type": "execute_result"
    }
   ],
   "source": [
    "image"
   ]
  },
  {
   "cell_type": "markdown",
   "metadata": {},
   "source": [
    "### Array View"
   ]
  },
  {
   "cell_type": "code",
   "execution_count": 77,
   "metadata": {
    "ExecuteTime": {
     "end_time": "2019-08-13T23:34:40.869032Z",
     "start_time": "2019-08-13T23:34:40.866060Z"
    }
   },
   "outputs": [
    {
     "data": {
      "text/plain": [
       "array([[255, 255, 255, ..., 255, 255, 255],\n",
       "       [255, 255, 255, ..., 255, 255, 255],\n",
       "       [255, 255, 255, ..., 255, 255, 255],\n",
       "       ...,\n",
       "       [255, 255, 255, ..., 255, 255, 255],\n",
       "       [255, 255, 255, ..., 255, 255, 255],\n",
       "       [255, 255, 255, ..., 255, 255, 255]], dtype=uint8)"
      ]
     },
     "execution_count": 77,
     "metadata": {},
     "output_type": "execute_result"
    }
   ],
   "source": [
    "Image.open(img_path).convert(\"L\")\n",
    "img = np.array(img)\n",
    "img"
   ]
  },
  {
   "cell_type": "markdown",
   "metadata": {},
   "source": [
    "### Tensor View"
   ]
  },
  {
   "cell_type": "code",
   "execution_count": 78,
   "metadata": {
    "ExecuteTime": {
     "end_time": "2019-08-13T23:34:46.088027Z",
     "start_time": "2019-08-13T23:34:46.081904Z"
    }
   },
   "outputs": [
    {
     "data": {
      "text/plain": [
       "tensor([[[[1., 1., 1.,  ..., 1., 1., 1.],\n",
       "          [1., 1., 1.,  ..., 1., 1., 1.],\n",
       "          [1., 1., 1.,  ..., 1., 1., 1.],\n",
       "          ...,\n",
       "          [1., 1., 1.,  ..., 1., 1., 1.],\n",
       "          [1., 1., 1.,  ..., 1., 1., 1.],\n",
       "          [1., 1., 1.,  ..., 1., 1., 1.]]]])"
      ]
     },
     "execution_count": 78,
     "metadata": {},
     "output_type": "execute_result"
    }
   ],
   "source": [
    "image = transforms.ToTensor()(image).unsqueeze(0) # unsqueeze to add artificial first dimension\n",
    "image = Variable(image)\n",
    "image"
   ]
  },
  {
   "cell_type": "markdown",
   "metadata": {},
   "source": [
    "## Make dataframe with all files"
   ]
  },
  {
   "cell_type": "code",
   "execution_count": 68,
   "metadata": {
    "ExecuteTime": {
     "end_time": "2019-08-13T23:30:58.222167Z",
     "start_time": "2019-08-13T23:30:44.648641Z"
    }
   },
   "outputs": [
    {
     "data": {
      "text/html": [
       "<div>\n",
       "<style scoped>\n",
       "    .dataframe tbody tr th:only-of-type {\n",
       "        vertical-align: middle;\n",
       "    }\n",
       "\n",
       "    .dataframe tbody tr th {\n",
       "        vertical-align: top;\n",
       "    }\n",
       "\n",
       "    .dataframe thead th {\n",
       "        text-align: right;\n",
       "    }\n",
       "</style>\n",
       "<table border=\"1\" class=\"dataframe\">\n",
       "  <thead>\n",
       "    <tr style=\"text-align: right;\">\n",
       "      <th></th>\n",
       "      <th>language</th>\n",
       "      <th>char</th>\n",
       "      <th>file</th>\n",
       "      <th>path</th>\n",
       "      <th>image_array</th>\n",
       "      <th>image_tensor</th>\n",
       "      <th>target</th>\n",
       "    </tr>\n",
       "  </thead>\n",
       "  <tbody>\n",
       "    <tr>\n",
       "      <th>0</th>\n",
       "      <td>Futurama</td>\n",
       "      <td>character02</td>\n",
       "      <td>0326_20.png</td>\n",
       "      <td>./data/Futurama/character02/0326_20.png</td>\n",
       "      <td>[[255, 255, 255, 255, 255, 255, 255, 255, 255,...</td>\n",
       "      <td>[[[tensor([1., 1., 1., 1., 1., 1., 1., 1., 1.,...</td>\n",
       "      <td>Futurama_character02</td>\n",
       "    </tr>\n",
       "    <tr>\n",
       "      <th>1</th>\n",
       "      <td>Futurama</td>\n",
       "      <td>character02</td>\n",
       "      <td>0326_04.png</td>\n",
       "      <td>./data/Futurama/character02/0326_04.png</td>\n",
       "      <td>[[255, 255, 255, 255, 255, 255, 255, 255, 255,...</td>\n",
       "      <td>[[[tensor([1., 1., 1., 1., 1., 1., 1., 1., 1.,...</td>\n",
       "      <td>Futurama_character02</td>\n",
       "    </tr>\n",
       "    <tr>\n",
       "      <th>2</th>\n",
       "      <td>Futurama</td>\n",
       "      <td>character02</td>\n",
       "      <td>0326_09.png</td>\n",
       "      <td>./data/Futurama/character02/0326_09.png</td>\n",
       "      <td>[[255, 255, 255, 255, 255, 255, 255, 255, 255,...</td>\n",
       "      <td>[[[tensor([1., 1., 1., 1., 1., 1., 1., 1., 1.,...</td>\n",
       "      <td>Futurama_character02</td>\n",
       "    </tr>\n",
       "    <tr>\n",
       "      <th>3</th>\n",
       "      <td>Futurama</td>\n",
       "      <td>character02</td>\n",
       "      <td>0326_15.png</td>\n",
       "      <td>./data/Futurama/character02/0326_15.png</td>\n",
       "      <td>[[255, 255, 255, 255, 255, 255, 255, 255, 255,...</td>\n",
       "      <td>[[[tensor([1., 1., 1., 1., 1., 1., 1., 1., 1.,...</td>\n",
       "      <td>Futurama_character02</td>\n",
       "    </tr>\n",
       "    <tr>\n",
       "      <th>4</th>\n",
       "      <td>Futurama</td>\n",
       "      <td>character02</td>\n",
       "      <td>0326_11.png</td>\n",
       "      <td>./data/Futurama/character02/0326_11.png</td>\n",
       "      <td>[[255, 255, 255, 255, 255, 255, 255, 255, 255,...</td>\n",
       "      <td>[[[tensor([1., 1., 1., 1., 1., 1., 1., 1., 1.,...</td>\n",
       "      <td>Futurama_character02</td>\n",
       "    </tr>\n",
       "  </tbody>\n",
       "</table>\n",
       "</div>"
      ],
      "text/plain": [
       "   language         char         file  \\\n",
       "0  Futurama  character02  0326_20.png   \n",
       "1  Futurama  character02  0326_04.png   \n",
       "2  Futurama  character02  0326_09.png   \n",
       "3  Futurama  character02  0326_15.png   \n",
       "4  Futurama  character02  0326_11.png   \n",
       "\n",
       "                                      path  \\\n",
       "0  ./data/Futurama/character02/0326_20.png   \n",
       "1  ./data/Futurama/character02/0326_04.png   \n",
       "2  ./data/Futurama/character02/0326_09.png   \n",
       "3  ./data/Futurama/character02/0326_15.png   \n",
       "4  ./data/Futurama/character02/0326_11.png   \n",
       "\n",
       "                                         image_array  \\\n",
       "0  [[255, 255, 255, 255, 255, 255, 255, 255, 255,...   \n",
       "1  [[255, 255, 255, 255, 255, 255, 255, 255, 255,...   \n",
       "2  [[255, 255, 255, 255, 255, 255, 255, 255, 255,...   \n",
       "3  [[255, 255, 255, 255, 255, 255, 255, 255, 255,...   \n",
       "4  [[255, 255, 255, 255, 255, 255, 255, 255, 255,...   \n",
       "\n",
       "                                        image_tensor                target  \n",
       "0  [[[tensor([1., 1., 1., 1., 1., 1., 1., 1., 1.,...  Futurama_character02  \n",
       "1  [[[tensor([1., 1., 1., 1., 1., 1., 1., 1., 1.,...  Futurama_character02  \n",
       "2  [[[tensor([1., 1., 1., 1., 1., 1., 1., 1., 1.,...  Futurama_character02  \n",
       "3  [[[tensor([1., 1., 1., 1., 1., 1., 1., 1., 1.,...  Futurama_character02  \n",
       "4  [[[tensor([1., 1., 1., 1., 1., 1., 1., 1., 1.,...  Futurama_character02  "
      ]
     },
     "execution_count": 68,
     "metadata": {},
     "output_type": "execute_result"
    }
   ],
   "source": [
    "language_dict = {}\n",
    "i = 0\n",
    "for language in os.listdir(\"./data\"):\n",
    "    for char in os.listdir(\"./data/{}\".format(language)):\n",
    "        for file in os.listdir(\"./data/{}/{}\".format(language, char)):\n",
    "            #Make empty data frame\n",
    "            language_dict[i] = {}\n",
    "            \n",
    "            #Bring in file information\n",
    "            language_dict[i]['language'] = language\n",
    "            language_dict[i]['char'] = char\n",
    "            language_dict[i]['file'] = file\n",
    "            language_dict[i]['path'] = \"./data/{}/{}/{}\".format(language,\n",
    "                                                                char,\n",
    "                                                                file)\n",
    "            \n",
    "            #Image to array\n",
    "            img = Image.open(language_dict[i]['path']).convert(\"L\")\n",
    "            img = np.array(img)\n",
    "            language_dict[i]['image_array'] = img\n",
    "            \n",
    "            #Import image as tensor\n",
    "            image = Image.open(language_dict[i]['path'])\n",
    "            image = transforms.ToTensor()(image).unsqueeze(0) # unsqueeze to add artificial first dimension\n",
    "            image = Variable(image)\n",
    "            language_dict[i]['image_tensor'] = image\n",
    "            \n",
    "            #Add onto index\n",
    "            i += 1\n",
    "\n",
    "#Set and name dataframe\n",
    "omni = pd.DataFrame.from_dict(language_dict).T\n",
    "\n",
    "#build target column\n",
    "omni[\"target\"] = omni[\"language\"] + \"_\" + omni[\"char\"]\n",
    "omni.head()"
   ]
  },
  {
   "cell_type": "markdown",
   "metadata": {},
   "source": [
    "## Train Test Split"
   ]
  },
  {
   "cell_type": "code",
   "execution_count": 81,
   "metadata": {
    "ExecuteTime": {
     "end_time": "2019-08-13T23:39:16.609047Z",
     "start_time": "2019-08-13T23:39:16.593204Z"
    }
   },
   "outputs": [],
   "source": [
    "from sklearn.model_selection import train_test_split\n",
    "\n",
    "X = omni[[\"image_array\", \"image_tensor\"]]\n",
    "y = omni[\"target\"]\n",
    "\n",
    "X_train, X_test, y_train, y_test = train_test_split(X, \n",
    "                                                    y, \n",
    "                                                    test_size=0.33, \n",
    "                                                    random_state=88)"
   ]
  },
  {
   "cell_type": "markdown",
   "metadata": {},
   "source": [
    "## Traditional Methods"
   ]
  },
  {
   "cell_type": "code",
   "execution_count": 82,
   "metadata": {
    "ExecuteTime": {
     "end_time": "2019-08-13T23:39:32.759129Z",
     "start_time": "2019-08-13T23:39:21.548055Z"
    }
   },
   "outputs": [
    {
     "data": {
      "text/html": [
       "<div>\n",
       "<style scoped>\n",
       "    .dataframe tbody tr th:only-of-type {\n",
       "        vertical-align: middle;\n",
       "    }\n",
       "\n",
       "    .dataframe tbody tr th {\n",
       "        vertical-align: top;\n",
       "    }\n",
       "\n",
       "    .dataframe thead th {\n",
       "        text-align: right;\n",
       "    }\n",
       "</style>\n",
       "<table border=\"1\" class=\"dataframe\">\n",
       "  <thead>\n",
       "    <tr style=\"text-align: right;\">\n",
       "      <th></th>\n",
       "      <th>image_array</th>\n",
       "      <th>image_tensor</th>\n",
       "    </tr>\n",
       "  </thead>\n",
       "  <tbody>\n",
       "    <tr>\n",
       "      <th>1099</th>\n",
       "      <td>[[255, 255, 255, 255, 255, 255, 255, 255, 255,...</td>\n",
       "      <td>[[[tensor([1., 1., 1., 1., 1., 1., 1., 1., 1.,...</td>\n",
       "    </tr>\n",
       "    <tr>\n",
       "      <th>6149</th>\n",
       "      <td>[[255, 255, 255, 255, 255, 255, 255, 255, 255,...</td>\n",
       "      <td>[[[tensor([1., 1., 1., 1., 1., 1., 1., 1., 1.,...</td>\n",
       "    </tr>\n",
       "    <tr>\n",
       "      <th>9231</th>\n",
       "      <td>[[255, 255, 255, 255, 255, 255, 255, 255, 255,...</td>\n",
       "      <td>[[[tensor([1., 1., 1., 1., 1., 1., 1., 1., 1.,...</td>\n",
       "    </tr>\n",
       "    <tr>\n",
       "      <th>7276</th>\n",
       "      <td>[[255, 255, 255, 255, 255, 255, 255, 255, 255,...</td>\n",
       "      <td>[[[tensor([1., 1., 1., 1., 1., 1., 1., 1., 1.,...</td>\n",
       "    </tr>\n",
       "    <tr>\n",
       "      <th>4644</th>\n",
       "      <td>[[255, 255, 255, 255, 255, 255, 255, 255, 255,...</td>\n",
       "      <td>[[[tensor([1., 1., 1., 1., 1., 1., 1., 1., 1.,...</td>\n",
       "    </tr>\n",
       "    <tr>\n",
       "      <th>31080</th>\n",
       "      <td>[[255, 255, 255, 255, 255, 255, 255, 255, 255,...</td>\n",
       "      <td>[[[tensor([1., 1., 1., 1., 1., 1., 1., 1., 1.,...</td>\n",
       "    </tr>\n",
       "    <tr>\n",
       "      <th>27283</th>\n",
       "      <td>[[255, 255, 255, 255, 255, 255, 255, 255, 255,...</td>\n",
       "      <td>[[[tensor([1., 1., 1., 1., 1., 1., 1., 1., 1.,...</td>\n",
       "    </tr>\n",
       "    <tr>\n",
       "      <th>5251</th>\n",
       "      <td>[[255, 255, 255, 255, 255, 255, 255, 255, 255,...</td>\n",
       "      <td>[[[tensor([1., 1., 1., 1., 1., 1., 1., 1., 1.,...</td>\n",
       "    </tr>\n",
       "    <tr>\n",
       "      <th>27636</th>\n",
       "      <td>[[255, 255, 255, 255, 255, 255, 255, 255, 255,...</td>\n",
       "      <td>[[[tensor([1., 1., 1., 1., 1., 1., 1., 1., 1.,...</td>\n",
       "    </tr>\n",
       "    <tr>\n",
       "      <th>23653</th>\n",
       "      <td>[[255, 255, 255, 255, 255, 255, 255, 255, 255,...</td>\n",
       "      <td>[[[tensor([1., 1., 1., 1., 1., 1., 1., 1., 1.,...</td>\n",
       "    </tr>\n",
       "    <tr>\n",
       "      <th>2508</th>\n",
       "      <td>[[255, 255, 255, 255, 255, 255, 255, 255, 255,...</td>\n",
       "      <td>[[[tensor([1., 1., 1., 1., 1., 1., 1., 1., 1.,...</td>\n",
       "    </tr>\n",
       "    <tr>\n",
       "      <th>15780</th>\n",
       "      <td>[[255, 255, 255, 255, 255, 255, 255, 255, 255,...</td>\n",
       "      <td>[[[tensor([1., 1., 1., 1., 1., 1., 1., 1., 1.,...</td>\n",
       "    </tr>\n",
       "    <tr>\n",
       "      <th>25017</th>\n",
       "      <td>[[255, 255, 255, 255, 255, 255, 255, 255, 255,...</td>\n",
       "      <td>[[[tensor([1., 1., 1., 1., 1., 1., 1., 1., 1.,...</td>\n",
       "    </tr>\n",
       "    <tr>\n",
       "      <th>3222</th>\n",
       "      <td>[[255, 255, 255, 255, 255, 255, 255, 255, 255,...</td>\n",
       "      <td>[[[tensor([1., 1., 1., 1., 1., 1., 1., 1., 1.,...</td>\n",
       "    </tr>\n",
       "    <tr>\n",
       "      <th>29109</th>\n",
       "      <td>[[255, 255, 255, 255, 255, 255, 255, 255, 255,...</td>\n",
       "      <td>[[[tensor([1., 1., 1., 1., 1., 1., 1., 1., 1.,...</td>\n",
       "    </tr>\n",
       "    <tr>\n",
       "      <th>12240</th>\n",
       "      <td>[[255, 255, 255, 255, 255, 255, 255, 255, 255,...</td>\n",
       "      <td>[[[tensor([1., 1., 1., 1., 1., 1., 1., 1., 1.,...</td>\n",
       "    </tr>\n",
       "    <tr>\n",
       "      <th>15628</th>\n",
       "      <td>[[255, 255, 255, 255, 255, 255, 255, 255, 255,...</td>\n",
       "      <td>[[[tensor([1., 1., 1., 1., 1., 1., 1., 1., 1.,...</td>\n",
       "    </tr>\n",
       "    <tr>\n",
       "      <th>3217</th>\n",
       "      <td>[[255, 255, 255, 255, 255, 255, 255, 255, 255,...</td>\n",
       "      <td>[[[tensor([1., 1., 1., 1., 1., 1., 1., 1., 1.,...</td>\n",
       "    </tr>\n",
       "    <tr>\n",
       "      <th>19633</th>\n",
       "      <td>[[255, 255, 255, 255, 255, 255, 255, 255, 255,...</td>\n",
       "      <td>[[[tensor([1., 1., 1., 1., 1., 1., 1., 1., 1.,...</td>\n",
       "    </tr>\n",
       "    <tr>\n",
       "      <th>22899</th>\n",
       "      <td>[[255, 255, 255, 255, 255, 255, 255, 255, 255,...</td>\n",
       "      <td>[[[tensor([1., 1., 1., 1., 1., 1., 1., 1., 1.,...</td>\n",
       "    </tr>\n",
       "    <tr>\n",
       "      <th>14220</th>\n",
       "      <td>[[255, 255, 255, 255, 255, 255, 255, 255, 255,...</td>\n",
       "      <td>[[[tensor([1., 1., 1., 1., 1., 1., 1., 1., 1.,...</td>\n",
       "    </tr>\n",
       "    <tr>\n",
       "      <th>17729</th>\n",
       "      <td>[[255, 255, 255, 255, 255, 255, 255, 255, 255,...</td>\n",
       "      <td>[[[tensor([1., 1., 1., 1., 1., 1., 1., 1., 1.,...</td>\n",
       "    </tr>\n",
       "    <tr>\n",
       "      <th>18626</th>\n",
       "      <td>[[255, 255, 255, 255, 255, 255, 255, 255, 255,...</td>\n",
       "      <td>[[[tensor([1., 1., 1., 1., 1., 1., 1., 1., 1.,...</td>\n",
       "    </tr>\n",
       "    <tr>\n",
       "      <th>29495</th>\n",
       "      <td>[[255, 255, 255, 255, 255, 255, 255, 255, 255,...</td>\n",
       "      <td>[[[tensor([1., 1., 1., 1., 1., 1., 1., 1., 1.,...</td>\n",
       "    </tr>\n",
       "    <tr>\n",
       "      <th>29913</th>\n",
       "      <td>[[255, 255, 255, 255, 255, 255, 255, 255, 255,...</td>\n",
       "      <td>[[[tensor([1., 1., 1., 1., 1., 1., 1., 1., 1.,...</td>\n",
       "    </tr>\n",
       "    <tr>\n",
       "      <th>22746</th>\n",
       "      <td>[[255, 255, 255, 255, 255, 255, 255, 255, 255,...</td>\n",
       "      <td>[[[tensor([1., 1., 1., 1., 1., 1., 1., 1., 1.,...</td>\n",
       "    </tr>\n",
       "    <tr>\n",
       "      <th>32351</th>\n",
       "      <td>[[255, 255, 255, 255, 255, 255, 255, 255, 255,...</td>\n",
       "      <td>[[[tensor([1., 1., 1., 1., 1., 1., 1., 1., 1.,...</td>\n",
       "    </tr>\n",
       "    <tr>\n",
       "      <th>9234</th>\n",
       "      <td>[[255, 255, 255, 255, 255, 255, 255, 255, 255,...</td>\n",
       "      <td>[[[tensor([1., 1., 1., 1., 1., 1., 1., 1., 1.,...</td>\n",
       "    </tr>\n",
       "    <tr>\n",
       "      <th>11003</th>\n",
       "      <td>[[255, 255, 255, 255, 255, 255, 255, 255, 255,...</td>\n",
       "      <td>[[[tensor([1., 1., 1., 1., 1., 1., 1., 1., 1.,...</td>\n",
       "    </tr>\n",
       "    <tr>\n",
       "      <th>7318</th>\n",
       "      <td>[[255, 255, 255, 255, 255, 255, 255, 255, 255,...</td>\n",
       "      <td>[[[tensor([1., 1., 1., 1., 1., 1., 1., 1., 1.,...</td>\n",
       "    </tr>\n",
       "    <tr>\n",
       "      <th>...</th>\n",
       "      <td>...</td>\n",
       "      <td>...</td>\n",
       "    </tr>\n",
       "    <tr>\n",
       "      <th>1781</th>\n",
       "      <td>[[255, 255, 255, 255, 255, 255, 255, 255, 255,...</td>\n",
       "      <td>[[[tensor([1., 1., 1., 1., 1., 1., 1., 1., 1.,...</td>\n",
       "    </tr>\n",
       "    <tr>\n",
       "      <th>10882</th>\n",
       "      <td>[[255, 255, 255, 255, 255, 255, 255, 255, 255,...</td>\n",
       "      <td>[[[tensor([1., 1., 1., 1., 1., 1., 1., 1., 1.,...</td>\n",
       "    </tr>\n",
       "    <tr>\n",
       "      <th>21957</th>\n",
       "      <td>[[255, 255, 255, 255, 255, 255, 255, 255, 255,...</td>\n",
       "      <td>[[[tensor([1., 1., 1., 1., 1., 1., 1., 1., 1.,...</td>\n",
       "    </tr>\n",
       "    <tr>\n",
       "      <th>30297</th>\n",
       "      <td>[[255, 255, 255, 255, 255, 255, 255, 255, 255,...</td>\n",
       "      <td>[[[tensor([1., 1., 1., 1., 1., 1., 1., 1., 1.,...</td>\n",
       "    </tr>\n",
       "    <tr>\n",
       "      <th>28766</th>\n",
       "      <td>[[255, 255, 255, 255, 255, 255, 255, 255, 255,...</td>\n",
       "      <td>[[[tensor([1., 1., 1., 1., 1., 1., 1., 1., 1.,...</td>\n",
       "    </tr>\n",
       "    <tr>\n",
       "      <th>6721</th>\n",
       "      <td>[[255, 255, 255, 255, 255, 255, 255, 255, 255,...</td>\n",
       "      <td>[[[tensor([1., 1., 1., 1., 1., 1., 1., 1., 1.,...</td>\n",
       "    </tr>\n",
       "    <tr>\n",
       "      <th>23323</th>\n",
       "      <td>[[255, 255, 255, 255, 255, 255, 255, 255, 255,...</td>\n",
       "      <td>[[[tensor([1., 1., 1., 1., 1., 1., 1., 1., 1.,...</td>\n",
       "    </tr>\n",
       "    <tr>\n",
       "      <th>20996</th>\n",
       "      <td>[[255, 255, 255, 255, 255, 255, 255, 255, 255,...</td>\n",
       "      <td>[[[tensor([1., 1., 1., 1., 1., 1., 1., 1., 1.,...</td>\n",
       "    </tr>\n",
       "    <tr>\n",
       "      <th>11521</th>\n",
       "      <td>[[255, 255, 255, 255, 255, 255, 255, 255, 255,...</td>\n",
       "      <td>[[[tensor([1., 1., 1., 1., 1., 1., 1., 1., 1.,...</td>\n",
       "    </tr>\n",
       "    <tr>\n",
       "      <th>24917</th>\n",
       "      <td>[[255, 255, 255, 255, 255, 255, 255, 255, 255,...</td>\n",
       "      <td>[[[tensor([1., 1., 1., 1., 1., 1., 1., 1., 1.,...</td>\n",
       "    </tr>\n",
       "    <tr>\n",
       "      <th>9127</th>\n",
       "      <td>[[255, 255, 255, 255, 255, 255, 255, 255, 255,...</td>\n",
       "      <td>[[[tensor([1., 1., 1., 1., 1., 1., 1., 1., 1.,...</td>\n",
       "    </tr>\n",
       "    <tr>\n",
       "      <th>29636</th>\n",
       "      <td>[[255, 255, 255, 255, 255, 255, 255, 255, 255,...</td>\n",
       "      <td>[[[tensor([1., 1., 1., 1., 1., 1., 1., 1., 1.,...</td>\n",
       "    </tr>\n",
       "    <tr>\n",
       "      <th>23762</th>\n",
       "      <td>[[255, 255, 255, 255, 255, 255, 255, 255, 255,...</td>\n",
       "      <td>[[[tensor([1., 1., 1., 1., 1., 1., 1., 1., 1.,...</td>\n",
       "    </tr>\n",
       "    <tr>\n",
       "      <th>22245</th>\n",
       "      <td>[[255, 255, 255, 255, 255, 255, 255, 255, 255,...</td>\n",
       "      <td>[[[tensor([1., 1., 1., 1., 1., 1., 1., 1., 1.,...</td>\n",
       "    </tr>\n",
       "    <tr>\n",
       "      <th>26007</th>\n",
       "      <td>[[255, 255, 255, 255, 255, 255, 255, 255, 255,...</td>\n",
       "      <td>[[[tensor([1., 1., 1., 1., 1., 1., 1., 1., 1.,...</td>\n",
       "    </tr>\n",
       "    <tr>\n",
       "      <th>17624</th>\n",
       "      <td>[[255, 255, 255, 255, 255, 255, 255, 255, 255,...</td>\n",
       "      <td>[[[tensor([1., 1., 1., 1., 1., 1., 1., 1., 1.,...</td>\n",
       "    </tr>\n",
       "    <tr>\n",
       "      <th>27630</th>\n",
       "      <td>[[255, 255, 255, 255, 255, 255, 255, 255, 255,...</td>\n",
       "      <td>[[[tensor([1., 1., 1., 1., 1., 1., 1., 1., 1.,...</td>\n",
       "    </tr>\n",
       "    <tr>\n",
       "      <th>14292</th>\n",
       "      <td>[[255, 255, 255, 255, 255, 255, 255, 255, 255,...</td>\n",
       "      <td>[[[tensor([1., 1., 1., 1., 1., 1., 1., 1., 1.,...</td>\n",
       "    </tr>\n",
       "    <tr>\n",
       "      <th>27005</th>\n",
       "      <td>[[255, 255, 255, 255, 255, 255, 255, 255, 255,...</td>\n",
       "      <td>[[[tensor([1., 1., 1., 1., 1., 1., 1., 1., 1.,...</td>\n",
       "    </tr>\n",
       "    <tr>\n",
       "      <th>8895</th>\n",
       "      <td>[[255, 255, 255, 255, 255, 255, 255, 255, 255,...</td>\n",
       "      <td>[[[tensor([1., 1., 1., 1., 1., 1., 1., 1., 1.,...</td>\n",
       "    </tr>\n",
       "    <tr>\n",
       "      <th>26088</th>\n",
       "      <td>[[255, 255, 255, 255, 255, 255, 255, 255, 255,...</td>\n",
       "      <td>[[[tensor([1., 1., 1., 1., 1., 1., 1., 1., 1.,...</td>\n",
       "    </tr>\n",
       "    <tr>\n",
       "      <th>28455</th>\n",
       "      <td>[[255, 255, 255, 255, 255, 255, 255, 255, 255,...</td>\n",
       "      <td>[[[tensor([1., 1., 1., 1., 1., 1., 1., 1., 1.,...</td>\n",
       "    </tr>\n",
       "    <tr>\n",
       "      <th>12119</th>\n",
       "      <td>[[255, 255, 255, 255, 255, 255, 255, 255, 255,...</td>\n",
       "      <td>[[[tensor([1., 1., 1., 1., 1., 1., 1., 1., 1.,...</td>\n",
       "    </tr>\n",
       "    <tr>\n",
       "      <th>13694</th>\n",
       "      <td>[[255, 255, 255, 255, 255, 255, 255, 255, 255,...</td>\n",
       "      <td>[[[tensor([1., 1., 1., 1., 1., 1., 1., 1., 1.,...</td>\n",
       "    </tr>\n",
       "    <tr>\n",
       "      <th>9633</th>\n",
       "      <td>[[255, 255, 255, 255, 255, 255, 255, 255, 255,...</td>\n",
       "      <td>[[[tensor([1., 1., 1., 1., 1., 1., 1., 1., 1.,...</td>\n",
       "    </tr>\n",
       "    <tr>\n",
       "      <th>23987</th>\n",
       "      <td>[[255, 255, 255, 255, 255, 255, 255, 255, 255,...</td>\n",
       "      <td>[[[tensor([1., 1., 1., 1., 1., 1., 1., 1., 1.,...</td>\n",
       "    </tr>\n",
       "    <tr>\n",
       "      <th>22615</th>\n",
       "      <td>[[255, 255, 255, 255, 255, 255, 255, 255, 255,...</td>\n",
       "      <td>[[[tensor([1., 1., 1., 1., 1., 1., 1., 1., 1.,...</td>\n",
       "    </tr>\n",
       "    <tr>\n",
       "      <th>9407</th>\n",
       "      <td>[[255, 255, 255, 255, 255, 255, 255, 255, 255,...</td>\n",
       "      <td>[[[tensor([1., 1., 1., 1., 1., 1., 1., 1., 1.,...</td>\n",
       "    </tr>\n",
       "    <tr>\n",
       "      <th>15029</th>\n",
       "      <td>[[255, 255, 255, 255, 255, 255, 255, 255, 255,...</td>\n",
       "      <td>[[[tensor([1., 1., 1., 1., 1., 1., 1., 1., 1.,...</td>\n",
       "    </tr>\n",
       "    <tr>\n",
       "      <th>19958</th>\n",
       "      <td>[[255, 255, 255, 255, 255, 255, 255, 255, 255,...</td>\n",
       "      <td>[[[tensor([1., 1., 1., 1., 1., 1., 1., 1., 1.,...</td>\n",
       "    </tr>\n",
       "  </tbody>\n",
       "</table>\n",
       "<p>10712 rows × 2 columns</p>\n",
       "</div>"
      ],
      "text/plain": [
       "                                             image_array  \\\n",
       "1099   [[255, 255, 255, 255, 255, 255, 255, 255, 255,...   \n",
       "6149   [[255, 255, 255, 255, 255, 255, 255, 255, 255,...   \n",
       "9231   [[255, 255, 255, 255, 255, 255, 255, 255, 255,...   \n",
       "7276   [[255, 255, 255, 255, 255, 255, 255, 255, 255,...   \n",
       "4644   [[255, 255, 255, 255, 255, 255, 255, 255, 255,...   \n",
       "...                                                  ...   \n",
       "23987  [[255, 255, 255, 255, 255, 255, 255, 255, 255,...   \n",
       "22615  [[255, 255, 255, 255, 255, 255, 255, 255, 255,...   \n",
       "9407   [[255, 255, 255, 255, 255, 255, 255, 255, 255,...   \n",
       "15029  [[255, 255, 255, 255, 255, 255, 255, 255, 255,...   \n",
       "19958  [[255, 255, 255, 255, 255, 255, 255, 255, 255,...   \n",
       "\n",
       "                                            image_tensor  \n",
       "1099   [[[tensor([1., 1., 1., 1., 1., 1., 1., 1., 1.,...  \n",
       "6149   [[[tensor([1., 1., 1., 1., 1., 1., 1., 1., 1.,...  \n",
       "9231   [[[tensor([1., 1., 1., 1., 1., 1., 1., 1., 1.,...  \n",
       "7276   [[[tensor([1., 1., 1., 1., 1., 1., 1., 1., 1.,...  \n",
       "4644   [[[tensor([1., 1., 1., 1., 1., 1., 1., 1., 1.,...  \n",
       "...                                                  ...  \n",
       "23987  [[[tensor([1., 1., 1., 1., 1., 1., 1., 1., 1.,...  \n",
       "22615  [[[tensor([1., 1., 1., 1., 1., 1., 1., 1., 1.,...  \n",
       "9407   [[[tensor([1., 1., 1., 1., 1., 1., 1., 1., 1.,...  \n",
       "15029  [[[tensor([1., 1., 1., 1., 1., 1., 1., 1., 1.,...  \n",
       "19958  [[[tensor([1., 1., 1., 1., 1., 1., 1., 1., 1.,...  \n",
       "\n",
       "[10712 rows x 2 columns]"
      ]
     },
     "execution_count": 82,
     "metadata": {},
     "output_type": "execute_result"
    }
   ],
   "source": [
    "X_train_tradition = X_train[\"image_arrau\"]\n",
    "X_test_tradition = X_test[]"
   ]
  },
  {
   "cell_type": "code",
   "execution_count": null,
   "metadata": {},
   "outputs": [],
   "source": []
  }
 ],
 "metadata": {
  "kernelspec": {
   "display_name": "Python 3",
   "language": "python",
   "name": "python3"
  },
  "language_info": {
   "codemirror_mode": {
    "name": "ipython",
    "version": 3
   },
   "file_extension": ".py",
   "mimetype": "text/x-python",
   "name": "python",
   "nbconvert_exporter": "python",
   "pygments_lexer": "ipython3",
   "version": "3.7.3"
  },
  "toc": {
   "base_numbering": 1,
   "nav_menu": {},
   "number_sections": true,
   "sideBar": true,
   "skip_h1_title": true,
   "title_cell": "Table of Contents",
   "title_sidebar": "Contents",
   "toc_cell": true,
   "toc_position": {},
   "toc_section_display": true,
   "toc_window_display": true
  }
 },
 "nbformat": 4,
 "nbformat_minor": 2
}
