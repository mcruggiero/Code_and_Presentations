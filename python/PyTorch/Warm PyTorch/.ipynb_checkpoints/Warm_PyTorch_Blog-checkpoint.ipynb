{
 "cells": [
  {
   "cell_type": "markdown",
   "metadata": {
    "toc": true
   },
   "source": [
    "<h1>Table of Contents<span class=\"tocSkip\"></span></h1>\n",
    "<div class=\"toc\"><ul class=\"toc-item\"><li><span><a href=\"#There-are-already-values-in-an-empty-array,-just-some-junk-that-is-in-memory.--For-true-zero-tensors,-use-torch.zeros\" data-toc-modified-id=\"There-are-already-values-in-an-empty-array,-just-some-junk-that-is-in-memory.--For-true-zero-tensors,-use-torch.zeros-1\"><span class=\"toc-item-num\">1&nbsp;&nbsp;</span>There are already values in an empty array, just some junk that is in memory.  For true zero tensors, use torch.zeros</a></span></li><li><span><a href=\"#Use-the-following-for-constant-tensors\" data-toc-modified-id=\"Use-the-following-for-constant-tensors-2\"><span class=\"toc-item-num\">2&nbsp;&nbsp;</span>Use the following for constant tensors</a></span></li><li><span><a href=\"#Interoperating-with-numpy-arrays-is-easy.\" data-toc-modified-id=\"Interoperating-with-numpy-arrays-is-easy.-3\"><span class=\"toc-item-num\">3&nbsp;&nbsp;</span>Interoperating with numpy arrays is easy.</a></span></li><li><span><a href=\"#Explicit-generation-and-operations\" data-toc-modified-id=\"Explicit-generation-and-operations-4\"><span class=\"toc-item-num\">4&nbsp;&nbsp;</span>Explicit generation and operations</a></span></li><li><span><a href=\"#A-simple-linear-regression-model-in-PyTorch\" data-toc-modified-id=\"A-simple-linear-regression-model-in-PyTorch-5\"><span class=\"toc-item-num\">5&nbsp;&nbsp;</span>A simple linear regression model in PyTorch</a></span></li><li><span><a href=\"#Step-#1:-Basic-Definitions-of-Data-Space\" data-toc-modified-id=\"Step-#1:-Basic-Definitions-of-Data-Space-6\"><span class=\"toc-item-num\">6&nbsp;&nbsp;</span>Step #1: Basic Definitions of Data Space</a></span></li><li><span><a href=\"#Step-#2:-Train/Test-Split\" data-toc-modified-id=\"Step-#2:-Train/Test-Split-7\"><span class=\"toc-item-num\">7&nbsp;&nbsp;</span>Step #2: Train/Test Split</a></span></li><li><span><a href=\"#Step-#3:-Define-Scoring-Function\" data-toc-modified-id=\"Step-#3:-Define-Scoring-Function-8\"><span class=\"toc-item-num\">8&nbsp;&nbsp;</span>Step #3: Define Scoring Function</a></span></li><li><span><a href=\"#Step-#4:-Start-with-a-arbitrary-model-to-begin-training\" data-toc-modified-id=\"Step-#4:-Start-with-a-arbitrary-model-to-begin-training-9\"><span class=\"toc-item-num\">9&nbsp;&nbsp;</span>Step #4: Start with a arbitrary model to begin training</a></span></li><li><span><a href=\"#Step-#5:-Parameterize-the-model\" data-toc-modified-id=\"Step-#5:-Parameterize-the-model-10\"><span class=\"toc-item-num\">10&nbsp;&nbsp;</span>Step #5: Parameterize the model</a></span></li><li><span><a href=\"#Bringing-Step-1-5-together\" data-toc-modified-id=\"Bringing-Step-1-5-together-11\"><span class=\"toc-item-num\">11&nbsp;&nbsp;</span>Bringing Step 1-5 together</a></span></li><li><span><a href=\"#This-almost-works,-but-we-have-a-named-tuple,-but-we-need-a-tensor-for-columns.\" data-toc-modified-id=\"This-almost-works,-but-we-have-a-named-tuple,-but-we-need-a-tensor-for-columns.-12\"><span class=\"toc-item-num\">12&nbsp;&nbsp;</span>This almost works, but we have a named tuple, but we need a tensor for columns.</a></span></li><li><span><a href=\"#We-feed-our-neural-nets-in-batches-and-Pytorch-has-a-handy-iteratable-loader\" data-toc-modified-id=\"We-feed-our-neural-nets-in-batches-and-Pytorch-has-a-handy-iteratable-loader-13\"><span class=\"toc-item-num\">13&nbsp;&nbsp;</span>We feed our neural nets in batches and Pytorch has a handy iteratable loader</a></span></li><li><span><a href=\"#Calculate-the-mean-and-standard-deviation-of-pixels-in-dataset\" data-toc-modified-id=\"Calculate-the-mean-and-standard-deviation-of-pixels-in-dataset-14\"><span class=\"toc-item-num\">14&nbsp;&nbsp;</span>Calculate the mean and standard deviation of pixels in dataset</a></span></li><li><span><a href=\"#Die-Roller-Function\" data-toc-modified-id=\"Die-Roller-Function-15\"><span class=\"toc-item-num\">15&nbsp;&nbsp;</span>Die Roller Function</a></span></li><li><span><a href=\"#Data-Generaion\" data-toc-modified-id=\"Data-Generaion-16\"><span class=\"toc-item-num\">16&nbsp;&nbsp;</span>Data Generaion</a></span></li><li><span><a href=\"#Train-test-split\" data-toc-modified-id=\"Train-test-split-17\"><span class=\"toc-item-num\">17&nbsp;&nbsp;</span>Train test split</a></span></li><li><span><a href=\"#Build-Model\" data-toc-modified-id=\"Build-Model-18\"><span class=\"toc-item-num\">18&nbsp;&nbsp;</span>Build Model</a></span></li></ul></div>"
   ]
  },
  {
   "cell_type": "code",
   "execution_count": 1,
   "metadata": {
    "ExecuteTime": {
     "end_time": "2019-09-25T16:41:42.663668Z",
     "start_time": "2019-09-25T16:41:41.814949Z"
    }
   },
   "outputs": [],
   "source": [
    "import os\n",
    "import time\n",
    "import numpy as np\n",
    "import pandas as pd\n",
    "from sklearn.model_selection import train_test_split\n",
    "import requests\n",
    "\n",
    "import torch as torch\n",
    "import torch.nn as nn\n",
    "\n",
    "# minor changes to plotting functions\n",
    "import matplotlib.pyplot as plt\n",
    "\n",
    "%matplotlib inline\n",
    "%config InlineBackend.figure_format='retina'"
   ]
  },
  {
   "cell_type": "code",
   "execution_count": 5,
   "metadata": {},
   "outputs": [],
   "source": [
    "# # Download all necessary files for the live tutorial\n",
    "# # Post ODSC pull from GitHub Repo github.com/robert-alvarez\n",
    "\n",
    "# data_url = 'https://www.dropbox.com/s/z0ilg0u8rsl2udz/pytorch_data.zip?dl=1'#This dl=1 means it automatically downloads\n",
    "\n",
    "# if not os.path.exists('data'):\n",
    "#     # Download the data zip file.\n",
    "#     response = requests.get(data_url, stream=True)\n",
    "#     zip_path = 'pytorch_data.zip'\n",
    "#     with open(zip_path, 'wb') as f:\n",
    "#         shutil.copyfileobj(response.raw, f)\n",
    "#     # Unzip the file.\n",
    "#     with zipfile.ZipFile(zip_path, 'r') as z:\n",
    "#         z.extractall()\n",
    "#     # Clean up.\n",
    "#     os.remove(zip_path)"
   ]
  },
  {
   "cell_type": "code",
   "execution_count": 6,
   "metadata": {},
   "outputs": [
    {
     "data": {
      "text/plain": [
       "'1.0.1.post2'"
      ]
     },
     "execution_count": 6,
     "metadata": {},
     "output_type": "execute_result"
    }
   ],
   "source": [
    "torch.__version__"
   ]
  },
  {
   "cell_type": "markdown",
   "metadata": {},
   "source": [
    "# 1. Foundations"
   ]
  },
  {
   "cell_type": "markdown",
   "metadata": {},
   "source": [
    "#### There are already values in an empty array, just some junk that is in memory.  For true zero tensors, use torch.zeros"
   ]
  },
  {
   "cell_type": "code",
   "execution_count": 7,
   "metadata": {},
   "outputs": [
    {
     "name": "stdout",
     "output_type": "stream",
     "text": [
      "tensor([[ 0.0000e+00,  1.0842e-19],\n",
      "        [ 2.8884e+25, -2.5250e-29]])\n"
     ]
    }
   ],
   "source": [
    "e = torch.empty(2,2)\n",
    "print(e)"
   ]
  },
  {
   "cell_type": "markdown",
   "metadata": {},
   "source": [
    "#### Use the following for constant tensors"
   ]
  },
  {
   "cell_type": "code",
   "execution_count": 8,
   "metadata": {},
   "outputs": [
    {
     "data": {
      "text/plain": [
       "tensor([[0., 0.],\n",
       "        [0., 0.]])"
      ]
     },
     "execution_count": 8,
     "metadata": {},
     "output_type": "execute_result"
    }
   ],
   "source": [
    "z = torch.zeros(2,2)\n",
    "z"
   ]
  },
  {
   "cell_type": "code",
   "execution_count": 9,
   "metadata": {},
   "outputs": [
    {
     "data": {
      "text/plain": [
       "tensor([[3., 3.],\n",
       "        [3., 3.]])"
      ]
     },
     "execution_count": 9,
     "metadata": {},
     "output_type": "execute_result"
    }
   ],
   "source": [
    "c = torch.full((2,2),3)\n",
    "c"
   ]
  },
  {
   "cell_type": "markdown",
   "metadata": {},
   "source": [
    "#### Interoperating with numpy arrays is easy."
   ]
  },
  {
   "cell_type": "code",
   "execution_count": 10,
   "metadata": {},
   "outputs": [
    {
     "name": "stdout",
     "output_type": "stream",
     "text": [
      "tensor([0.0000, 0.7500, 1.5000, 2.2500, 3.0000], dtype=torch.float64)\n"
     ]
    }
   ],
   "source": [
    "#From numpy to tensor\n",
    "nump = torch.tensor(np.linspace(0,3,5))\n",
    "print(nump)"
   ]
  },
  {
   "cell_type": "code",
   "execution_count": 11,
   "metadata": {},
   "outputs": [
    {
     "data": {
      "text/plain": [
       "array([0.  , 0.75, 1.5 , 2.25, 3.  ])"
      ]
     },
     "execution_count": 11,
     "metadata": {},
     "output_type": "execute_result"
    }
   ],
   "source": [
    "#From tensor to numpy\n",
    "nump.numpy()"
   ]
  },
  {
   "cell_type": "markdown",
   "metadata": {},
   "source": [
    "#### Explicit generation and operations"
   ]
  },
  {
   "cell_type": "code",
   "execution_count": 13,
   "metadata": {},
   "outputs": [
    {
     "name": "stdout",
     "output_type": "stream",
     "text": [
      "Complete Tensor \n",
      " tensor([[[0.3269, 0.4935, 0.5032, 0.8625],\n",
      "         [0.9252, 0.5169, 0.0642, 0.0304],\n",
      "         [0.6631, 0.5135, 0.0739, 0.5142]],\n",
      "\n",
      "        [[0.1589, 0.7373, 0.2714, 0.6874],\n",
      "         [0.2011, 0.4514, 0.1729, 0.1087],\n",
      "         [0.5009, 0.3521, 0.8585, 0.6413]]], dtype=torch.float64) \n",
      "\n",
      "\n",
      " First matrix slice inside tensor \n",
      "tensor([[0.3269, 0.4935, 0.5032, 0.8625],\n",
      "        [0.9252, 0.5169, 0.0642, 0.0304],\n",
      "        [0.6631, 0.5135, 0.0739, 0.5142]], dtype=torch.float64)\n",
      "\n",
      "0.07385630194900761 is on the first matrix, second row, second column\n"
     ]
    }
   ],
   "source": [
    "#Random Tensor Generator\n",
    "t2 = torch.rand(2,3,4, dtype = torch.float64)\n",
    "print(\"Complete Tensor \\n {} \\n\".format(t2))\n",
    "print(\"\\n First matrix slice inside tensor \\n{}\\n\".format(t2[0]))\n",
    "print(\"{} is on the first matrix, second row, second column\".format(t2[0,2,2]))"
   ]
  },
  {
   "cell_type": "code",
   "execution_count": 17,
   "metadata": {},
   "outputs": [
    {
     "data": {
      "text/plain": [
       "tensor([[1],\n",
       "        [1]], dtype=torch.int32)"
      ]
     },
     "execution_count": 17,
     "metadata": {},
     "output_type": "execute_result"
    }
   ],
   "source": [
    "y"
   ]
  },
  {
   "cell_type": "code",
   "execution_count": 15,
   "metadata": {
    "scrolled": true
   },
   "outputs": [
    {
     "data": {
      "text/plain": [
       "tensor([[[ 3],\n",
       "         [ 7]],\n",
       "\n",
       "        [[11],\n",
       "         [15]]], dtype=torch.int32)"
      ]
     },
     "execution_count": 15,
     "metadata": {},
     "output_type": "execute_result"
    }
   ],
   "source": [
    "#Explicit tensor creation\n",
    "t3 = torch.tensor([[[1,2],[3,4]],[[5,6],[7,8]]] , dtype = torch.int)\n",
    "\n",
    "# this method creates a new tensor \"y\" that has the same properties (e.g. dtype) as the original tensor \"x\"\n",
    "y = t3.new_ones(2,1) #\n",
    "\n",
    "t3 @ y #Cross Product of "
   ]
  },
  {
   "cell_type": "code",
   "execution_count": 215,
   "metadata": {},
   "outputs": [
    {
     "data": {
      "text/plain": [
       "tensor([[[ 1,  4],\n",
       "         [ 9, 16]],\n",
       "\n",
       "        [[25, 36],\n",
       "         [49, 64]]], dtype=torch.int32)"
      ]
     },
     "execution_count": 215,
     "metadata": {},
     "output_type": "execute_result"
    }
   ],
   "source": [
    "t3 * t3 # dot product"
   ]
  },
  {
   "cell_type": "code",
   "execution_count": 216,
   "metadata": {},
   "outputs": [
    {
     "data": {
      "text/plain": [
       "tensor([[[  7,  10],\n",
       "         [ 15,  22]],\n",
       "\n",
       "        [[ 67,  78],\n",
       "         [ 91, 106]]], dtype=torch.int32)"
      ]
     },
     "execution_count": 216,
     "metadata": {},
     "output_type": "execute_result"
    }
   ],
   "source": [
    "t3 @ t3 # cross product"
   ]
  },
  {
   "cell_type": "code",
   "execution_count": 217,
   "metadata": {},
   "outputs": [
    {
     "data": {
      "text/plain": [
       "tensor([[[ 2,  4],\n",
       "         [ 6,  8]],\n",
       "\n",
       "        [[10, 12],\n",
       "         [14, 16]]], dtype=torch.int32)"
      ]
     },
     "execution_count": 217,
     "metadata": {},
     "output_type": "execute_result"
    }
   ],
   "source": [
    "t3 + t3 #tensor addition"
   ]
  },
  {
   "cell_type": "code",
   "execution_count": 218,
   "metadata": {},
   "outputs": [
    {
     "data": {
      "text/plain": [
       "tensor([[[ 3,  6],\n",
       "         [ 9, 12]],\n",
       "\n",
       "        [[15, 18],\n",
       "         [21, 24]]], dtype=torch.int32)"
      ]
     },
     "execution_count": 218,
     "metadata": {},
     "output_type": "execute_result"
    }
   ],
   "source": [
    "3 * t3 # scalar multiplication"
   ]
  },
  {
   "cell_type": "code",
   "execution_count": 219,
   "metadata": {},
   "outputs": [
    {
     "data": {
      "text/plain": [
       "tensor(7)"
      ]
     },
     "execution_count": 219,
     "metadata": {},
     "output_type": "execute_result"
    }
   ],
   "source": [
    "#Get the index of the maximum value\n",
    "t3.argmax()"
   ]
  },
  {
   "cell_type": "code",
   "execution_count": 220,
   "metadata": {},
   "outputs": [
    {
     "data": {
      "text/plain": [
       "tensor([[[ 2,  4],\n",
       "         [ 6,  8]],\n",
       "\n",
       "        [[10, 12],\n",
       "         [14, 16]]], dtype=torch.int32)"
      ]
     },
     "execution_count": 220,
     "metadata": {},
     "output_type": "execute_result"
    }
   ],
   "source": [
    "t3.add(t3) "
   ]
  },
  {
   "cell_type": "code",
   "execution_count": 221,
   "metadata": {},
   "outputs": [
    {
     "data": {
      "text/plain": [
       "tensor([[[1, 2],\n",
       "         [3, 4]],\n",
       "\n",
       "        [[5, 6],\n",
       "         [7, 8]]], dtype=torch.int32)"
      ]
     },
     "execution_count": 221,
     "metadata": {},
     "output_type": "execute_result"
    }
   ],
   "source": [
    "t3 "
   ]
  },
  {
   "cell_type": "code",
   "execution_count": 222,
   "metadata": {},
   "outputs": [
    {
     "data": {
      "text/plain": [
       "tensor([[[ 2,  4],\n",
       "         [ 6,  8]],\n",
       "\n",
       "        [[10, 12],\n",
       "         [14, 16]]], dtype=torch.int32)"
      ]
     },
     "execution_count": 222,
     "metadata": {},
     "output_type": "execute_result"
    }
   ],
   "source": [
    "# The `*_` method works just like `inplace=True` in pandas\n",
    "t3.add_(t3)"
   ]
  },
  {
   "cell_type": "code",
   "execution_count": 22,
   "metadata": {},
   "outputs": [
    {
     "ename": "AttributeError",
     "evalue": "'Tensor' object has no attribute 'reshape_'",
     "output_type": "error",
     "traceback": [
      "\u001b[0;31m---------------------------------------------------------------------------\u001b[0m",
      "\u001b[0;31mAttributeError\u001b[0m                            Traceback (most recent call last)",
      "\u001b[0;32m<ipython-input-22-21573f55f458>\u001b[0m in \u001b[0;36m<module>\u001b[0;34m\u001b[0m\n\u001b[1;32m      4\u001b[0m \u001b[0my\u001b[0m \u001b[0;34m=\u001b[0m \u001b[0mx\u001b[0m\u001b[0;34m.\u001b[0m\u001b[0mview\u001b[0m\u001b[0;34m(\u001b[0m\u001b[0;36m16\u001b[0m\u001b[0;34m)\u001b[0m\u001b[0;34m\u001b[0m\u001b[0;34m\u001b[0m\u001b[0m\n\u001b[1;32m      5\u001b[0m \u001b[0mz\u001b[0m \u001b[0;34m=\u001b[0m \u001b[0mx\u001b[0m\u001b[0;34m.\u001b[0m\u001b[0mview\u001b[0m\u001b[0;34m(\u001b[0m\u001b[0;34m-\u001b[0m\u001b[0;36m1\u001b[0m\u001b[0;34m,\u001b[0m \u001b[0;36m8\u001b[0m\u001b[0;34m)\u001b[0m\u001b[0;34m\u001b[0m\u001b[0;34m\u001b[0m\u001b[0m\n\u001b[0;32m----> 6\u001b[0;31m \u001b[0mw\u001b[0m \u001b[0;34m=\u001b[0m \u001b[0mx\u001b[0m\u001b[0;34m.\u001b[0m\u001b[0mreshape_\u001b[0m\u001b[0;34m(\u001b[0m\u001b[0;36m2\u001b[0m\u001b[0;34m,\u001b[0m \u001b[0;34m-\u001b[0m\u001b[0;36m1\u001b[0m\u001b[0;34m)\u001b[0m\u001b[0;34m\u001b[0m\u001b[0;34m\u001b[0m\u001b[0m\n\u001b[0m\u001b[1;32m      7\u001b[0m \u001b[0mprint\u001b[0m\u001b[0;34m(\u001b[0m\u001b[0;34m\"x size = {},\\ny size = {},\\nz size = {},\\nw size = {}\"\u001b[0m\u001b[0;34m.\u001b[0m\u001b[0mformat\u001b[0m\u001b[0;34m(\u001b[0m\u001b[0mx\u001b[0m\u001b[0;34m.\u001b[0m\u001b[0msize\u001b[0m\u001b[0;34m(\u001b[0m\u001b[0;34m)\u001b[0m\u001b[0;34m,\u001b[0m \u001b[0my\u001b[0m\u001b[0;34m.\u001b[0m\u001b[0msize\u001b[0m\u001b[0;34m(\u001b[0m\u001b[0;34m)\u001b[0m\u001b[0;34m,\u001b[0m \u001b[0mz\u001b[0m\u001b[0;34m.\u001b[0m\u001b[0msize\u001b[0m\u001b[0;34m(\u001b[0m\u001b[0;34m)\u001b[0m\u001b[0;34m,\u001b[0m \u001b[0mw\u001b[0m\u001b[0;34m.\u001b[0m\u001b[0msize\u001b[0m\u001b[0;34m(\u001b[0m\u001b[0;34m)\u001b[0m\u001b[0;34m)\u001b[0m\u001b[0;34m)\u001b[0m\u001b[0;34m\u001b[0m\u001b[0;34m\u001b[0m\u001b[0m\n",
      "\u001b[0;31mAttributeError\u001b[0m: 'Tensor' object has no attribute 'reshape_'"
     ]
    }
   ],
   "source": [
    "# We can reshape tensors as well though it's called \"view\" in pytorch\n",
    "# support for 'reshape' has been added\n",
    "x = torch.randn(4,4)\n",
    "y = x.view(16)\n",
    "z = x.view(-1, 8)\n",
    "w = x.reshape(2, -1)\n",
    "print(\"x size = {},\\ny size = {},\\nz size = {},\\nw size = {}\".format(x.size(), y.size(), z.size(), w.size()))"
   ]
  },
  {
   "cell_type": "code",
   "execution_count": 20,
   "metadata": {},
   "outputs": [
    {
     "data": {
      "text/plain": [
       "tensor([[-1.1580,  0.9060, -0.0257, -0.8153],\n",
       "        [ 0.4574, -1.1660, -0.0159,  1.0281],\n",
       "        [-0.3569, -0.1948,  1.6192,  0.1832],\n",
       "        [ 1.1690, -0.4927, -0.4159, -0.0819]])"
      ]
     },
     "execution_count": 20,
     "metadata": {},
     "output_type": "execute_result"
    }
   ],
   "source": [
    "x"
   ]
  },
  {
   "cell_type": "code",
   "execution_count": 19,
   "metadata": {},
   "outputs": [
    {
     "data": {
      "text/plain": [
       "tensor([-1.1580,  0.9060, -0.0257, -0.8153,  0.4574, -1.1660, -0.0159,  1.0281,\n",
       "        -0.3569, -0.1948,  1.6192,  0.1832,  1.1690, -0.4927, -0.4159, -0.0819])"
      ]
     },
     "execution_count": 19,
     "metadata": {},
     "output_type": "execute_result"
    }
   ],
   "source": [
    "#The x vector is flattened here\n",
    "y"
   ]
  },
  {
   "cell_type": "code",
   "execution_count": 21,
   "metadata": {},
   "outputs": [
    {
     "data": {
      "text/plain": [
       "tensor([[-1.1580,  0.9060, -0.0257, -0.8153,  0.4574, -1.1660, -0.0159,  1.0281],\n",
       "        [-0.3569, -0.1948,  1.6192,  0.1832,  1.1690, -0.4927, -0.4159, -0.0819]])"
      ]
     },
     "execution_count": 21,
     "metadata": {},
     "output_type": "execute_result"
    }
   ],
   "source": [
    "z"
   ]
  },
  {
   "cell_type": "code",
   "execution_count": 225,
   "metadata": {},
   "outputs": [
    {
     "data": {
      "text/plain": [
       "tensor([2., 2., 2., 2., 2.])"
      ]
     },
     "execution_count": 225,
     "metadata": {},
     "output_type": "execute_result"
    }
   ],
   "source": [
    "a = torch.ones(5)\n",
    "b = a.numpy()\n",
    "a.add(torch.from_numpy(b)) # Cannot simply add numpy arrays and torch tensors"
   ]
  },
  {
   "cell_type": "markdown",
   "metadata": {},
   "source": [
    "# 1b. Autograd"
   ]
  },
  {
   "cell_type": "markdown",
   "metadata": {},
   "source": [
    "<b>autograd</b> allows automatic differentiation for all operations on Tensors."
   ]
  },
  {
   "cell_type": "code",
   "execution_count": 23,
   "metadata": {},
   "outputs": [
    {
     "name": "stdout",
     "output_type": "stream",
     "text": [
      "tensor([[1., 1.],\n",
      "        [1., 1.],\n",
      "        [1., 1.]], requires_grad=True)\n"
     ]
    }
   ],
   "source": [
    "# Create a tensor and set requires_grade=True \n",
    "# to track computation with it\n",
    "x = torch.ones(3,2, requires_grad=True)\n",
    "print(x)"
   ]
  },
  {
   "cell_type": "code",
   "execution_count": 24,
   "metadata": {},
   "outputs": [
    {
     "name": "stdout",
     "output_type": "stream",
     "text": [
      "tensor([[-1., -1.],\n",
      "        [-1., -1.],\n",
      "        [-1., -1.]], grad_fn=<SubBackward0>)\n"
     ]
    }
   ],
   "source": [
    "# Because y was created as a result of an operation, \n",
    "# it now has a grad_fn method\n",
    "y = 3*x - 4\n",
    "print(y)"
   ]
  },
  {
   "cell_type": "code",
   "execution_count": 25,
   "metadata": {},
   "outputs": [
    {
     "name": "stdout",
     "output_type": "stream",
     "text": [
      "z: tensor([[2., 2.],\n",
      "        [2., 2.],\n",
      "        [2., 2.]], grad_fn=<MulBackward0>),\n",
      "\n",
      "w: 2.0\n"
     ]
    }
   ],
   "source": [
    "# We can do more to y (and thus x) and calculate its derivatives\n",
    "z = 2*y**2\n",
    "w = z.mean()\n",
    "\n",
    "print(\"z: {},\\n\\nw: {}\".format(z, w))"
   ]
  },
  {
   "cell_type": "code",
   "execution_count": 26,
   "metadata": {},
   "outputs": [],
   "source": [
    "#Computes the gradient of current tensor\n",
    "w.backward()"
   ]
  },
  {
   "cell_type": "code",
   "execution_count": 27,
   "metadata": {},
   "outputs": [
    {
     "data": {
      "text/plain": [
       "tensor([[-2., -2.],\n",
       "        [-2., -2.],\n",
       "        [-2., -2.]])"
      ]
     },
     "execution_count": 27,
     "metadata": {},
     "output_type": "execute_result"
    }
   ],
   "source": [
    "x.grad"
   ]
  },
  {
   "cell_type": "code",
   "execution_count": 231,
   "metadata": {},
   "outputs": [],
   "source": [
    "# Given the gradient, torch loops through the tensor operations, and then updates the values of the tensors"
   ]
  },
  {
   "cell_type": "markdown",
   "metadata": {},
   "source": [
    "# 1c. Linear Regression With Stochastic Gradient Descent"
   ]
  },
  {
   "cell_type": "markdown",
   "metadata": {},
   "source": [
    "The starting point for much of this notebook is based notes I transcribed from Dr. Alvarez's excellent ODSC presentation: \"Understanding the PyTorch Framework with Applications to Deep Learning.\" "
   ]
  },
  {
   "cell_type": "markdown",
   "metadata": {},
   "source": [
    "#### A simple linear regression model in PyTorch"
   ]
  },
  {
   "cell_type": "markdown",
   "metadata": {},
   "source": [
    "#### Step #1: Basic Definitions of Data Space"
   ]
  },
  {
   "cell_type": "code",
   "execution_count": 29,
   "metadata": {},
   "outputs": [],
   "source": [
    "n_data = 10_000\n",
    "X = torch.ones(n_data,2) \n",
    "\n",
    "#populate random points into X\n",
    "X[:,0].uniform_(-1.15,1.15)\n",
    "\n",
    "actual = torch.tensor([np.random.uniform(-14,14),\n",
    "                    np.random.uniform(-14,14)])\n",
    "\n",
    "y = X @ actual + torch.randn(n_data)/3"
   ]
  },
  {
   "cell_type": "markdown",
   "metadata": {},
   "source": [
    "#### Step #2: Train/Test Split"
   ]
  },
  {
   "cell_type": "markdown",
   "metadata": {},
   "source": [
    "There is no autocovariance in this toy data dataset, therefore a simple train test split will suffice. "
   ]
  },
  {
   "cell_type": "code",
   "execution_count": 30,
   "metadata": {},
   "outputs": [],
   "source": [
    "#Train test split\n",
    "train_size = int(n_data * .75)\n",
    "test_size = n_data - train_size\n",
    "\n",
    "X_train, X_test = X[0 : train_size, :], X[train_size : n_data, :]\n",
    "y_train, y_test = y[0 : train_size],    y[train_size : n_data]"
   ]
  },
  {
   "cell_type": "code",
   "execution_count": 31,
   "metadata": {},
   "outputs": [
    {
     "data": {
      "image/png": "[encoded data removed]",
      "text/plain": [
       "<Figure size 432x288 with 1 Axes>"
      ]
     },
     "metadata": {
      "image/png": {
       "height": 250,
       "width": 372
      },
      "needs_background": "light"
     },
     "output_type": "display_data"
    }
   ],
   "source": [
    "plt.scatter(X_train[:,0], y_train, s = .1);"
   ]
  },
  {
   "cell_type": "markdown",
   "metadata": {},
   "source": [
    "#### Step #3: Define Scoring Function"
   ]
  },
  {
   "cell_type": "code",
   "execution_count": 32,
   "metadata": {},
   "outputs": [],
   "source": [
    "def mean_standard_error(y, y_pred):\n",
    "    return ((y - y_pred) ** 2).mean()"
   ]
  },
  {
   "cell_type": "markdown",
   "metadata": {},
   "source": [
    "#### Step #4: Start with a arbitrary model to begin training "
   ]
  },
  {
   "cell_type": "code",
   "execution_count": 33,
   "metadata": {},
   "outputs": [
    {
     "data": {
      "text/plain": [
       "tensor(158.5211)"
      ]
     },
     "execution_count": 33,
     "metadata": {},
     "output_type": "execute_result"
    }
   ],
   "source": [
    "#A random prediction\n",
    "model = torch.tensor([np.random.uniform(-14,14),\n",
    "                   np.random.uniform(-14,14)])\n",
    "\n",
    "y_hat = X_train @ model\n",
    "mean_standard_error(y_hat, y_train)"
   ]
  },
  {
   "cell_type": "code",
   "execution_count": 34,
   "metadata": {},
   "outputs": [
    {
     "data": {
      "image/png": "[encoded data removed]",
      "text/plain": [
       "<Figure size 432x288 with 1 Axes>"
      ]
     },
     "metadata": {
      "image/png": {
       "height": 250,
       "width": 372
      },
      "needs_background": "light"
     },
     "output_type": "display_data"
    }
   ],
   "source": [
    "plt.scatter(X_train[:,0],y_train, s = .1)\n",
    "plt.scatter(X_train[:,0],y_hat, s = .1);"
   ]
  },
  {
   "cell_type": "markdown",
   "metadata": {},
   "source": [
    "#### Step #5: Parameterize the model"
   ]
  },
  {
   "cell_type": "code",
   "execution_count": 35,
   "metadata": {},
   "outputs": [
    {
     "data": {
      "text/plain": [
       "Parameter containing:\n",
       "tensor([ 5.1282, 10.8280], requires_grad=True)"
      ]
     },
     "execution_count": 35,
     "metadata": {},
     "output_type": "execute_result"
    }
   ],
   "source": [
    "import torch.nn as nn\n",
    "\n",
    "model = nn.Parameter(model)\n",
    "model"
   ]
  },
  {
   "cell_type": "markdown",
   "metadata": {},
   "source": [
    "#### Bringing Step 1-5 together "
   ]
  },
  {
   "cell_type": "code",
   "execution_count": 37,
   "metadata": {},
   "outputs": [
    {
     "name": "stdout",
     "output_type": "stream",
     "text": [
      "step:    5 MSE: 27.602691650390625\n",
      "step:   10 MSE: 10.886116027832031\n",
      "step:   15 MSE: 4.298372268676758\n",
      "step:   20 MSE: 1.6977558135986328\n",
      "step:   25 MSE: 0.6706287860870361\n",
      "step:   30 MSE: 0.2649111747741699\n",
      "step:   35 MSE: 0.10464537143707275\n",
      "step:   40 MSE: 0.04133746027946472\n",
      "step:   45 MSE: 0.016329064965248108\n",
      "step:   50 MSE: 0.00645032525062561\n",
      "step:   55 MSE: 0.0025480538606643677\n",
      "step:   60 MSE: 0.0010065287351608276\n",
      "step:   65 MSE: 0.00039762258529663086\n",
      "step:   70 MSE: 0.0001570582389831543\n",
      "step:   75 MSE: 6.206333637237549e-05\n",
      "step:   80 MSE: 2.4452805519104004e-05\n",
      "step:   85 MSE: 9.708106517791748e-06\n",
      "step:   90 MSE: 3.844499588012695e-06\n",
      "step:   95 MSE: 1.5124678611755371e-06\n",
      "step:  100 MSE: 6.183981895446777e-07\n",
      "step:  105 MSE: 2.384185791015625e-07\n",
      "step:  110 MSE: 1.043081283569336e-07\n",
      "step:  115 MSE: 3.725290298461914e-08\n",
      "step:  120 MSE: 2.9802322387695312e-08\n",
      "\n",
      "convergence of stochastic gradient descent at step 123\n"
     ]
    },
    {
     "data": {
      "image/png": "[encoded data removed]",
      "text/plain": [
       "<Figure size 432x288 with 1 Axes>"
      ]
     },
     "metadata": {
      "image/png": {
       "height": 250,
       "width": 372
      },
      "needs_background": "light"
     },
     "output_type": "display_data"
    }
   ],
   "source": [
    "#A glorified stochastic gradient descent machine\n",
    "def gentle_linear_torch(data, target, learning_rate, iterations):\n",
    "    answer = {}\n",
    "    def mean_standard_error(y_actual, y_pred):\n",
    "        return ((y_actual - y_pred) ** 2).mean()\n",
    "    \n",
    "    #Random Initial Model\n",
    "    model = nn.Parameter(torch.tensor([np.random.uniform(-14,14),\n",
    "                                    np.random.uniform(-14,14)]))\n",
    "\n",
    "    y_hat = data @ model\n",
    "    mean_standard_error(y_hat, target)\n",
    "\n",
    "    for time in range(iterations):\n",
    "        y_hat = data @ model\n",
    "        loss = mean_standard_error(target, y_hat)\n",
    "        \n",
    "        if time > 0 and last_loss == loss:\n",
    "            print(\"\\nconvergence of stochastic gradient descent at step {}\".format(time))\n",
    "            return(model)\n",
    "            break\n",
    "        \n",
    "        if time > 0 and time % 5 == 0:\n",
    "            print(\"step: {:4} MSE: {:5}\".format(time, float(last_loss.data - loss.data)))\n",
    "            plt.scatter(data[:,0], target, s = .1, alpha = .05);\n",
    "            plt.scatter(data[:,0], y_hat.detach().numpy(), s = .1);\n",
    "        \n",
    "        loss.backward()\n",
    "        with torch.no_grad():\n",
    "            #These *_ set values like inplace = True\n",
    "            model.sub_(learning_rate * model.grad) \n",
    "            model.grad.zero_()\n",
    "        \n",
    "        last_loss = loss\n",
    "    \n",
    "    print(\"\\nmodel did not converge in max_iterations\")\n",
    "    return(model)\n",
    "\n",
    "sgd = gentle_linear_torch( X_train, y_train, .1, 1000)"
   ]
  },
  {
   "cell_type": "code",
   "execution_count": 38,
   "metadata": {},
   "outputs": [
    {
     "data": {
      "text/plain": [
       "0.11452897638082504"
      ]
     },
     "execution_count": 38,
     "metadata": {},
     "output_type": "execute_result"
    }
   ],
   "source": [
    "y_hat =  X_test @ sgd\n",
    "float(mean_standard_error(y_hat, y_test))"
   ]
  },
  {
   "cell_type": "code",
   "execution_count": 39,
   "metadata": {
    "scrolled": true
   },
   "outputs": [
    {
     "data": {
      "image/png": "[encoded data removed]",
      "text/plain": [
       "<Figure size 432x288 with 1 Axes>"
      ]
     },
     "metadata": {
      "image/png": {
       "height": 250,
       "width": 372
      },
      "needs_background": "light"
     },
     "output_type": "display_data"
    }
   ],
   "source": [
    "plt.scatter(X_test[:,0], y_test, s = .1, alpha = .5);\n",
    "plt.scatter(X_test[:,0], y_hat.detach().numpy(), s = .1);"
   ]
  },
  {
   "cell_type": "markdown",
   "metadata": {},
   "source": [
    "# 1d. Normal Equation Solution"
   ]
  },
  {
   "cell_type": "markdown",
   "metadata": {},
   "source": [
    "Calculaing the linear regression with Ordinary least squares (OLS) estimator: <br><br>\n",
    "$\\hat{\\boldsymbol{\\beta}}=\\left(\\mathbf{X}^{\\top} \\mathbf{X}\\right)^{-1} \\mathbf{X}^{\\top} \\mathbf{y}$"
   ]
  },
  {
   "cell_type": "code",
   "execution_count": 40,
   "metadata": {},
   "outputs": [
    {
     "ename": "NameError",
     "evalue": "name 'to' is not defined",
     "output_type": "error",
     "traceback": [
      "\u001b[0;31m---------------------------------------------------------------------------\u001b[0m",
      "\u001b[0;31mNameError\u001b[0m                                 Traceback (most recent call last)",
      "\u001b[0;32m<ipython-input-40-dbc39ab6ce0c>\u001b[0m in \u001b[0;36m<module>\u001b[0;34m\u001b[0m\n\u001b[0;32m----> 1\u001b[0;31m \u001b[0mtheta\u001b[0m \u001b[0;34m=\u001b[0m \u001b[0;34m(\u001b[0m\u001b[0mtorch\u001b[0m\u001b[0;34m.\u001b[0m\u001b[0mt\u001b[0m\u001b[0;34m(\u001b[0m\u001b[0mX_train\u001b[0m\u001b[0;34m)\u001b[0m \u001b[0;34m@\u001b[0m \u001b[0mX_train\u001b[0m\u001b[0;34m)\u001b[0m\u001b[0;34m.\u001b[0m\u001b[0minverse\u001b[0m\u001b[0;34m(\u001b[0m\u001b[0;34m)\u001b[0m \u001b[0;34m@\u001b[0m \u001b[0mto\u001b[0m\u001b[0;34m.\u001b[0m\u001b[0mt\u001b[0m\u001b[0;34m(\u001b[0m\u001b[0mX_train\u001b[0m\u001b[0;34m)\u001b[0m \u001b[0;34m@\u001b[0m \u001b[0my_train\u001b[0m\u001b[0;34m\u001b[0m\u001b[0;34m\u001b[0m\u001b[0m\n\u001b[0m\u001b[1;32m      2\u001b[0m \u001b[0mprint\u001b[0m\u001b[0;34m(\u001b[0m\u001b[0mtheta\u001b[0m\u001b[0;34m)\u001b[0m\u001b[0;34m\u001b[0m\u001b[0;34m\u001b[0m\u001b[0m\n\u001b[1;32m      3\u001b[0m \u001b[0mprint\u001b[0m\u001b[0;34m(\u001b[0m\u001b[0msgd\u001b[0m\u001b[0;34m)\u001b[0m\u001b[0;34m\u001b[0m\u001b[0;34m\u001b[0m\u001b[0m\n",
      "\u001b[0;31mNameError\u001b[0m: name 'to' is not defined"
     ]
    }
   ],
   "source": [
    "theta = (torch.t(X_train) @ X_train).inverse() @ torch.t(X_train) @ y_train\n",
    "print(theta)\n",
    "print(sgd)"
   ]
  },
  {
   "cell_type": "markdown",
   "metadata": {},
   "source": [
    "# 1e. GPU and CPU management"
   ]
  },
  {
   "cell_type": "code",
   "execution_count": 243,
   "metadata": {},
   "outputs": [],
   "source": [
    "#Following Code heavily borrorwed from Will Ballard's work PyTorch Deep Learning in 7 Days \n",
    "\n",
    "cpu = to.device(\"cpu\")\n",
    "# This will spit back an ugly error on my macbook\n",
    "# gpu = to.device(\"cuda\")"
   ]
  },
  {
   "cell_type": "code",
   "execution_count": 244,
   "metadata": {},
   "outputs": [],
   "source": [
    "y = to.tensor([2.5], device = cpu)"
   ]
  },
  {
   "cell_type": "code",
   "execution_count": 245,
   "metadata": {},
   "outputs": [],
   "source": [
    "# Remember to not mix devices on the calls. Fix problems with \n",
    "# x.to(cpu) + y.to(cpu)"
   ]
  },
  {
   "cell_type": "markdown",
   "metadata": {},
   "source": [
    "# 2 Datasets"
   ]
  },
  {
   "cell_type": "code",
   "execution_count": 45,
   "metadata": {},
   "outputs": [],
   "source": [
    "class IrisDataset():\n",
    "    #This class is a logical extension of pandas\n",
    "    def __init__(self):\n",
    "        self.data = pd.read_csv(\"./Iris.csv\")\n",
    "        \n",
    "    def __len__(self):\n",
    "        return len(self.data)\n",
    "    \n",
    "    def __getitem__(self,index):\n",
    "        return self.data.iloc[index]"
   ]
  },
  {
   "cell_type": "code",
   "execution_count": 46,
   "metadata": {},
   "outputs": [
    {
     "data": {
      "text/plain": [
       "(150, Id                         1\n",
       " SepalLengthCm            5.1\n",
       " SepalWidthCm             3.5\n",
       " PetalLengthCm            1.4\n",
       " PetalWidthCm             0.2\n",
       " Species          Iris-setosa\n",
       " Name: 0, dtype: object)"
      ]
     },
     "execution_count": 46,
     "metadata": {},
     "output_type": "execute_result"
    }
   ],
   "source": [
    "iris = IrisDataset()\n",
    "len(iris), iris[0]"
   ]
  },
  {
   "cell_type": "markdown",
   "metadata": {},
   "source": [
    "#### This almost works, but we have a named tuple, but we need a tensor for columns. "
   ]
  },
  {
   "cell_type": "code",
   "execution_count": 49,
   "metadata": {},
   "outputs": [
    {
     "data": {
      "text/plain": [
       "150"
      ]
     },
     "execution_count": 49,
     "metadata": {},
     "output_type": "execute_result"
    }
   ],
   "source": [
    "class TensorIrisDataset(IrisDataset):\n",
    "    def __getitem__(self, index):\n",
    "        item = super().__getitem__(index)\n",
    "        \n",
    "        return {\n",
    "            'tensor': torch.Tensor([item.SepalLengthCm,\n",
    "                                item.SepalWidthCm,\n",
    "                                item.PetalLengthCm,\n",
    "                                item.PetalWidthCm]),\n",
    "            'label': item.Species}\n",
    "\n",
    "# and output...\n",
    "iris_tensors = TensorIrisDataset()\n",
    "len(iris_tensors)"
   ]
  },
  {
   "cell_type": "markdown",
   "metadata": {},
   "source": [
    "#### We feed our neural nets in batches and Pytorch has a handy iteratable loader"
   ]
  },
  {
   "cell_type": "code",
   "execution_count": 50,
   "metadata": {},
   "outputs": [],
   "source": [
    "from torch.utils.data import DataLoader"
   ]
  },
  {
   "cell_type": "code",
   "execution_count": 51,
   "metadata": {},
   "outputs": [
    {
     "name": "stdout",
     "output_type": "stream",
     "text": [
      "{'tensor': tensor([[6.9000, 3.2000, 5.7000, 2.3000],\n",
      "        [5.7000, 2.8000, 4.5000, 1.3000],\n",
      "        [5.7000, 4.4000, 1.5000, 0.4000],\n",
      "        [5.2000, 3.4000, 1.4000, 0.2000],\n",
      "        [7.6000, 3.0000, 6.6000, 2.1000],\n",
      "        [5.2000, 4.1000, 1.5000, 0.1000],\n",
      "        [6.7000, 2.5000, 5.8000, 1.8000],\n",
      "        [7.4000, 2.8000, 6.1000, 1.9000],\n",
      "        [4.6000, 3.4000, 1.4000, 0.3000],\n",
      "        [6.1000, 2.8000, 4.0000, 1.3000],\n",
      "        [5.8000, 2.6000, 4.0000, 1.2000],\n",
      "        [5.0000, 2.0000, 3.5000, 1.0000],\n",
      "        [5.7000, 2.5000, 5.0000, 2.0000],\n",
      "        [5.9000, 3.0000, 4.2000, 1.5000],\n",
      "        [5.4000, 3.0000, 4.5000, 1.5000],\n",
      "        [5.1000, 3.8000, 1.9000, 0.4000]]), 'label': ['Iris-virginica', 'Iris-versicolor', 'Iris-setosa', 'Iris-setosa', 'Iris-virginica', 'Iris-setosa', 'Iris-virginica', 'Iris-virginica', 'Iris-setosa', 'Iris-versicolor', 'Iris-versicolor', 'Iris-versicolor', 'Iris-virginica', 'Iris-versicolor', 'Iris-versicolor', 'Iris-setosa']}\n",
      "{'tensor': tensor([[6.3000, 3.3000, 6.0000, 2.5000],\n",
      "        [5.7000, 2.6000, 3.5000, 1.0000],\n",
      "        [5.0000, 3.3000, 1.4000, 0.2000],\n",
      "        [7.7000, 3.8000, 6.7000, 2.2000],\n",
      "        [6.0000, 3.4000, 4.5000, 1.6000],\n",
      "        [5.5000, 2.6000, 4.4000, 1.2000],\n",
      "        [6.3000, 2.8000, 5.1000, 1.5000],\n",
      "        [4.6000, 3.2000, 1.4000, 0.2000],\n",
      "        [6.3000, 2.9000, 5.6000, 1.8000],\n",
      "        [6.7000, 3.1000, 4.4000, 1.4000],\n",
      "        [6.2000, 2.8000, 4.8000, 1.8000],\n",
      "        [6.0000, 3.0000, 4.8000, 1.8000],\n",
      "        [6.4000, 3.2000, 4.5000, 1.5000],\n",
      "        [7.0000, 3.2000, 4.7000, 1.4000],\n",
      "        [5.0000, 3.6000, 1.4000, 0.2000],\n",
      "        [5.5000, 2.4000, 3.7000, 1.0000]]), 'label': ['Iris-virginica', 'Iris-versicolor', 'Iris-setosa', 'Iris-virginica', 'Iris-versicolor', 'Iris-versicolor', 'Iris-virginica', 'Iris-setosa', 'Iris-virginica', 'Iris-versicolor', 'Iris-virginica', 'Iris-virginica', 'Iris-versicolor', 'Iris-versicolor', 'Iris-setosa', 'Iris-versicolor']}\n",
      "{'tensor': tensor([[6.3000, 3.4000, 5.6000, 2.4000],\n",
      "        [5.6000, 3.0000, 4.1000, 1.3000],\n",
      "        [6.4000, 3.1000, 5.5000, 1.8000],\n",
      "        [6.5000, 2.8000, 4.6000, 1.5000],\n",
      "        [7.2000, 3.6000, 6.1000, 2.5000],\n",
      "        [5.1000, 3.8000, 1.5000, 0.3000],\n",
      "        [6.1000, 3.0000, 4.6000, 1.4000],\n",
      "        [5.8000, 2.7000, 5.1000, 1.9000],\n",
      "        [5.4000, 3.7000, 1.5000, 0.2000],\n",
      "        [6.8000, 3.0000, 5.5000, 2.1000],\n",
      "        [5.0000, 3.5000, 1.3000, 0.3000],\n",
      "        [4.9000, 3.1000, 1.5000, 0.1000],\n",
      "        [5.8000, 2.8000, 5.1000, 2.4000],\n",
      "        [6.5000, 3.2000, 5.1000, 2.0000],\n",
      "        [6.1000, 2.8000, 4.7000, 1.2000],\n",
      "        [6.4000, 2.8000, 5.6000, 2.1000]]), 'label': ['Iris-virginica', 'Iris-versicolor', 'Iris-virginica', 'Iris-versicolor', 'Iris-virginica', 'Iris-setosa', 'Iris-versicolor', 'Iris-virginica', 'Iris-setosa', 'Iris-virginica', 'Iris-setosa', 'Iris-setosa', 'Iris-virginica', 'Iris-virginica', 'Iris-versicolor', 'Iris-virginica']}\n",
      "{'tensor': tensor([[5.7000, 2.9000, 4.2000, 1.3000],\n",
      "        [6.6000, 2.9000, 4.6000, 1.3000],\n",
      "        [4.9000, 3.1000, 1.5000, 0.1000],\n",
      "        [7.9000, 3.8000, 6.4000, 2.0000],\n",
      "        [6.7000, 3.3000, 5.7000, 2.1000],\n",
      "        [4.6000, 3.6000, 1.0000, 0.2000],\n",
      "        [5.6000, 2.9000, 3.6000, 1.3000],\n",
      "        [5.0000, 3.0000, 1.6000, 0.2000],\n",
      "        [5.5000, 2.3000, 4.0000, 1.3000],\n",
      "        [5.8000, 2.7000, 4.1000, 1.0000],\n",
      "        [5.7000, 3.0000, 4.2000, 1.2000],\n",
      "        [4.7000, 3.2000, 1.3000, 0.2000],\n",
      "        [6.4000, 2.7000, 5.3000, 1.9000],\n",
      "        [4.5000, 2.3000, 1.3000, 0.3000],\n",
      "        [5.2000, 3.5000, 1.5000, 0.2000],\n",
      "        [4.6000, 3.1000, 1.5000, 0.2000]]), 'label': ['Iris-versicolor', 'Iris-versicolor', 'Iris-setosa', 'Iris-virginica', 'Iris-virginica', 'Iris-setosa', 'Iris-versicolor', 'Iris-setosa', 'Iris-versicolor', 'Iris-versicolor', 'Iris-versicolor', 'Iris-setosa', 'Iris-virginica', 'Iris-setosa', 'Iris-setosa', 'Iris-setosa']}\n",
      "{'tensor': tensor([[5.4000, 3.4000, 1.7000, 0.2000],\n",
      "        [4.8000, 3.4000, 1.9000, 0.2000],\n",
      "        [5.8000, 2.7000, 5.1000, 1.9000],\n",
      "        [4.9000, 3.0000, 1.4000, 0.2000],\n",
      "        [5.5000, 4.2000, 1.4000, 0.2000],\n",
      "        [5.1000, 3.5000, 1.4000, 0.2000],\n",
      "        [7.1000, 3.0000, 5.9000, 2.1000],\n",
      "        [6.9000, 3.1000, 5.1000, 2.3000],\n",
      "        [5.0000, 2.3000, 3.3000, 1.0000],\n",
      "        [4.8000, 3.4000, 1.6000, 0.2000],\n",
      "        [6.5000, 3.0000, 5.5000, 1.8000],\n",
      "        [5.1000, 3.5000, 1.4000, 0.3000],\n",
      "        [6.0000, 2.2000, 4.0000, 1.0000],\n",
      "        [4.4000, 3.2000, 1.3000, 0.2000],\n",
      "        [6.1000, 2.9000, 4.7000, 1.4000],\n",
      "        [4.8000, 3.0000, 1.4000, 0.1000]]), 'label': ['Iris-setosa', 'Iris-setosa', 'Iris-virginica', 'Iris-setosa', 'Iris-setosa', 'Iris-setosa', 'Iris-virginica', 'Iris-virginica', 'Iris-versicolor', 'Iris-setosa', 'Iris-virginica', 'Iris-setosa', 'Iris-versicolor', 'Iris-setosa', 'Iris-versicolor', 'Iris-setosa']}\n",
      "{'tensor': tensor([[5.4000, 3.9000, 1.7000, 0.4000],\n",
      "        [4.9000, 3.1000, 1.5000, 0.1000],\n",
      "        [6.1000, 3.0000, 4.9000, 1.8000],\n",
      "        [7.7000, 3.0000, 6.1000, 2.3000],\n",
      "        [6.2000, 2.2000, 4.5000, 1.5000],\n",
      "        [5.4000, 3.4000, 1.5000, 0.4000],\n",
      "        [5.9000, 3.2000, 4.8000, 1.8000],\n",
      "        [5.6000, 2.5000, 3.9000, 1.1000],\n",
      "        [4.7000, 3.2000, 1.6000, 0.2000],\n",
      "        [5.5000, 2.5000, 4.0000, 1.3000],\n",
      "        [6.9000, 3.1000, 5.4000, 2.1000],\n",
      "        [6.3000, 3.3000, 4.7000, 1.6000],\n",
      "        [4.9000, 2.5000, 4.5000, 1.7000],\n",
      "        [5.1000, 2.5000, 3.0000, 1.1000],\n",
      "        [6.7000, 3.0000, 5.0000, 1.7000],\n",
      "        [6.7000, 3.1000, 5.6000, 2.4000]]), 'label': ['Iris-setosa', 'Iris-setosa', 'Iris-virginica', 'Iris-virginica', 'Iris-versicolor', 'Iris-setosa', 'Iris-versicolor', 'Iris-versicolor', 'Iris-setosa', 'Iris-versicolor', 'Iris-virginica', 'Iris-versicolor', 'Iris-virginica', 'Iris-versicolor', 'Iris-versicolor', 'Iris-virginica']}\n",
      "{'tensor': tensor([[6.7000, 3.3000, 5.7000, 2.5000],\n",
      "        [7.3000, 2.9000, 6.3000, 1.8000],\n",
      "        [6.8000, 3.2000, 5.9000, 2.3000],\n",
      "        [5.0000, 3.4000, 1.6000, 0.4000],\n",
      "        [6.3000, 2.3000, 4.4000, 1.3000],\n",
      "        [5.6000, 2.8000, 4.9000, 2.0000],\n",
      "        [6.5000, 3.0000, 5.2000, 2.0000],\n",
      "        [5.2000, 2.7000, 3.9000, 1.4000],\n",
      "        [6.9000, 3.1000, 4.9000, 1.5000],\n",
      "        [5.7000, 2.8000, 4.1000, 1.3000],\n",
      "        [5.3000, 3.7000, 1.5000, 0.2000],\n",
      "        [5.1000, 3.3000, 1.7000, 0.5000],\n",
      "        [5.8000, 2.7000, 3.9000, 1.2000],\n",
      "        [6.8000, 2.8000, 4.8000, 1.4000],\n",
      "        [5.1000, 3.7000, 1.5000, 0.4000],\n",
      "        [6.5000, 3.0000, 5.8000, 2.2000]]), 'label': ['Iris-virginica', 'Iris-virginica', 'Iris-virginica', 'Iris-setosa', 'Iris-versicolor', 'Iris-virginica', 'Iris-virginica', 'Iris-versicolor', 'Iris-versicolor', 'Iris-versicolor', 'Iris-setosa', 'Iris-setosa', 'Iris-versicolor', 'Iris-versicolor', 'Iris-setosa', 'Iris-virginica']}\n",
      "{'tensor': tensor([[5.6000, 2.7000, 4.2000, 1.3000],\n",
      "        [6.7000, 3.1000, 4.7000, 1.5000],\n",
      "        [6.0000, 2.2000, 5.0000, 1.5000],\n",
      "        [5.6000, 3.0000, 4.5000, 1.5000],\n",
      "        [5.7000, 3.8000, 1.7000, 0.3000],\n",
      "        [5.0000, 3.2000, 1.2000, 0.2000],\n",
      "        [4.9000, 2.4000, 3.3000, 1.0000],\n",
      "        [6.7000, 3.0000, 5.2000, 2.3000],\n",
      "        [7.7000, 2.6000, 6.9000, 2.3000],\n",
      "        [5.0000, 3.4000, 1.5000, 0.2000],\n",
      "        [6.3000, 2.5000, 5.0000, 1.9000],\n",
      "        [5.4000, 3.9000, 1.3000, 0.4000],\n",
      "        [5.5000, 2.4000, 3.8000, 1.1000],\n",
      "        [4.8000, 3.0000, 1.4000, 0.3000],\n",
      "        [5.5000, 3.5000, 1.3000, 0.2000],\n",
      "        [6.2000, 3.4000, 5.4000, 2.3000]]), 'label': ['Iris-versicolor', 'Iris-versicolor', 'Iris-virginica', 'Iris-versicolor', 'Iris-setosa', 'Iris-setosa', 'Iris-versicolor', 'Iris-virginica', 'Iris-virginica', 'Iris-setosa', 'Iris-virginica', 'Iris-setosa', 'Iris-versicolor', 'Iris-setosa', 'Iris-setosa', 'Iris-virginica']}\n",
      "{'tensor': tensor([[5.1000, 3.4000, 1.5000, 0.2000],\n",
      "        [6.2000, 2.9000, 4.3000, 1.3000],\n",
      "        [6.4000, 2.8000, 5.6000, 2.2000],\n",
      "        [7.7000, 2.8000, 6.7000, 2.0000],\n",
      "        [5.1000, 3.8000, 1.6000, 0.2000],\n",
      "        [6.3000, 2.5000, 4.9000, 1.5000],\n",
      "        [6.1000, 2.6000, 5.6000, 1.4000],\n",
      "        [6.3000, 2.7000, 4.9000, 1.8000],\n",
      "        [7.2000, 3.2000, 6.0000, 1.8000],\n",
      "        [4.8000, 3.1000, 1.6000, 0.2000],\n",
      "        [6.4000, 2.9000, 4.3000, 1.3000],\n",
      "        [7.2000, 3.0000, 5.8000, 1.6000],\n",
      "        [4.4000, 3.0000, 1.3000, 0.2000],\n",
      "        [4.3000, 3.0000, 1.1000, 0.1000],\n",
      "        [5.8000, 4.0000, 1.2000, 0.2000],\n",
      "        [5.9000, 3.0000, 5.1000, 1.8000]]), 'label': ['Iris-setosa', 'Iris-versicolor', 'Iris-virginica', 'Iris-virginica', 'Iris-setosa', 'Iris-versicolor', 'Iris-virginica', 'Iris-virginica', 'Iris-virginica', 'Iris-setosa', 'Iris-versicolor', 'Iris-virginica', 'Iris-setosa', 'Iris-setosa', 'Iris-setosa', 'Iris-virginica']}\n",
      "{'tensor': tensor([[6.0000, 2.7000, 5.1000, 1.6000],\n",
      "        [4.4000, 2.9000, 1.4000, 0.2000],\n",
      "        [5.0000, 3.5000, 1.6000, 0.6000],\n",
      "        [6.6000, 3.0000, 4.4000, 1.4000],\n",
      "        [6.0000, 2.9000, 4.5000, 1.5000],\n",
      "        [6.4000, 3.2000, 5.3000, 2.3000]]), 'label': ['Iris-versicolor', 'Iris-setosa', 'Iris-setosa', 'Iris-versicolor', 'Iris-versicolor', 'Iris-virginica']}\n"
     ]
    }
   ],
   "source": [
    "loader = DataLoader(iris_tensors, batch_size = 16, shuffle = True, num_workers = 4)\n",
    "\n",
    "for batch in loader:\n",
    "    print(batch)"
   ]
  },
  {
   "cell_type": "markdown",
   "metadata": {},
   "source": [
    "# 2b. Torchvision"
   ]
  },
  {
   "cell_type": "code",
   "execution_count": 52,
   "metadata": {},
   "outputs": [],
   "source": [
    "import torchvision"
   ]
  },
  {
   "cell_type": "code",
   "execution_count": 53,
   "metadata": {},
   "outputs": [
    {
     "data": {
      "text/plain": [
       "['CIFAR10',\n",
       " 'CIFAR100',\n",
       " 'Cityscapes',\n",
       " 'CocoCaptions',\n",
       " 'CocoDetection',\n",
       " 'DatasetFolder',\n",
       " 'EMNIST',\n",
       " 'FakeData',\n",
       " 'FashionMNIST',\n",
       " 'Flickr30k',\n",
       " 'Flickr8k',\n",
       " 'ImageFolder',\n",
       " 'KMNIST',\n",
       " 'LSUN',\n",
       " 'LSUNClass',\n",
       " 'MNIST',\n",
       " 'Omniglot',\n",
       " 'PhotoTour',\n",
       " 'SBU',\n",
       " 'SEMEION',\n",
       " 'STL10',\n",
       " 'SVHN',\n",
       " 'VOCDetection',\n",
       " 'VOCSegmentation']"
      ]
     },
     "execution_count": 53,
     "metadata": {},
     "output_type": "execute_result"
    }
   ],
   "source": [
    "dir(torchvision.datasets)[0:24]"
   ]
  },
  {
   "cell_type": "code",
   "execution_count": 55,
   "metadata": {},
   "outputs": [
    {
     "name": "stderr",
     "output_type": "stream",
     "text": [
      "\r",
      "0it [00:00, ?it/s]"
     ]
    },
    {
     "name": "stdout",
     "output_type": "stream",
     "text": [
      "Downloading https://github.com/brendenlake/omniglot/raw/master/python/images_background.zip to ./var/omniglot-py/images_background.zip\n"
     ]
    },
    {
     "name": "stderr",
     "output_type": "stream",
     "text": [
      "9469952it [00:03, 2818796.21it/s]                             \n"
     ]
    },
    {
     "name": "stdout",
     "output_type": "stream",
     "text": [
      "Extracting downloaded file: ./var/omniglot-py/images_background.zip\n"
     ]
    }
   ],
   "source": [
    "omni = torchvision.datasets.Omniglot(\"./var\", download = True)\n",
    "# fmnist = torchvision.datasets.FashionMNIST(\"./var\", download = True)"
   ]
  },
  {
   "cell_type": "code",
   "execution_count": 58,
   "metadata": {},
   "outputs": [
    {
     "data": {
      "image/png": "[encoded data removed]",
      "text/plain": [
       "<Figure size 360x360 with 2 Axes>"
      ]
     },
     "metadata": {
      "image/png": {
       "height": 160,
       "width": 323
      },
      "needs_background": "light"
     },
     "output_type": "display_data"
    }
   ],
   "source": [
    "figure, ax = plt.subplots(nrows=1, ncols=2, figsize=(5, 5));\n",
    "\n",
    "ax[0].imshow(omni[0][0]);\n",
    "ax[1].imshow(omni[12250][0]);"
   ]
  },
  {
   "cell_type": "code",
   "execution_count": 59,
   "metadata": {},
   "outputs": [],
   "source": [
    "from torchvision import transforms\n",
    "\n",
    "pipe = transforms.Compose([transforms.ToTensor()])\n",
    "\n",
    "fmnist_transformed = torchvision.datasets.Omniglot('./var', transform = pipe)"
   ]
  },
  {
   "cell_type": "code",
   "execution_count": 60,
   "metadata": {},
   "outputs": [
    {
     "data": {
      "text/plain": [
       "(tensor([[[1., 1., 1.,  ..., 1., 1., 1.],\n",
       "          [1., 1., 1.,  ..., 1., 1., 1.],\n",
       "          [1., 1., 1.,  ..., 1., 1., 1.],\n",
       "          ...,\n",
       "          [1., 1., 1.,  ..., 1., 1., 1.],\n",
       "          [1., 1., 1.,  ..., 1., 1., 1.],\n",
       "          [1., 1., 1.,  ..., 1., 1., 1.]]]), 0)"
      ]
     },
     "execution_count": 60,
     "metadata": {},
     "output_type": "execute_result"
    }
   ],
   "source": [
    "#This is the tensor of the Shoe above\n",
    "fmnist_transformed[0]"
   ]
  },
  {
   "cell_type": "markdown",
   "metadata": {},
   "source": [
    "#### Calculate the mean and standard deviation of pixels in dataset"
   ]
  },
  {
   "cell_type": "code",
   "execution_count": 62,
   "metadata": {},
   "outputs": [
    {
     "name": "stdout",
     "output_type": "stream",
     "text": [
      "shape: torch.Size([19280, 105, 105]), mean: 0.9220601916313171, std: 0.2680765986442566\n"
     ]
    }
   ],
   "source": [
    "images = torch.cat([\n",
    "    image for image, label in fmnist_transformed])\n",
    "\n",
    "print(\"shape: {}, mean: {}, std: {}\".format(images.shape, images.mean(), images.std()))"
   ]
  },
  {
   "cell_type": "markdown",
   "metadata": {},
   "source": [
    "# 3. Basic Neural Net"
   ]
  },
  {
   "cell_type": "code",
   "execution_count": 63,
   "metadata": {},
   "outputs": [],
   "source": [
    "import networkx as nx\n",
    "import math"
   ]
  },
  {
   "cell_type": "code",
   "execution_count": 64,
   "metadata": {},
   "outputs": [
    {
     "data": {
      "image/png": "[encoded data removed]",
      "text/plain": [
       "<Figure size 432x288 with 1 Axes>"
      ]
     },
     "metadata": {
      "image/png": {
       "height": 231,
       "width": 349
      }
     },
     "output_type": "display_data"
    }
   ],
   "source": [
    "dense_graph = nx.Graph()\n",
    "inputs = {i: (0, i) for i in range(0, 2)}\n",
    "activations = {i+100: (1, i) for i in range(0, 6)}\n",
    "outputs= {i+1000: (2, i) for i in range(0, 2)}\n",
    "data_dictionary = {**inputs, **activations, **outputs}\n",
    "\n",
    "#Populate the nodes with edges\n",
    "for i in inputs:\n",
    "    for activation in activations:\n",
    "        dense_graph.add_edge(i, activation)\n",
    "\n",
    "for activation in activations:\n",
    "    for output in outputs:\n",
    "        dense_graph.add_edge(activation, output)\n",
    "\n",
    "nx.draw_networkx_nodes(dense_graph,\n",
    "                       data_dictionary,\n",
    "                       nodelist= data_dictionary.keys(), node_color = \"red\")\n",
    "\n",
    "nx.draw_networkx_edges(dense_graph, data_dictionary, edge_color= \"black\")\n",
    "axes = plt.axis(\"off\")"
   ]
  },
  {
   "cell_type": "markdown",
   "metadata": {},
   "source": [
    "# 3a. Canonical Build with random inputs and outputs"
   ]
  },
  {
   "cell_type": "code",
   "execution_count": 67,
   "metadata": {},
   "outputs": [],
   "source": [
    "inputs = torch.rand(1,1,64,64)\n",
    "outputs = torch.rand(1,2)"
   ]
  },
  {
   "cell_type": "code",
   "execution_count": 261,
   "metadata": {},
   "outputs": [
    {
     "data": {
      "text/plain": [
       "tensor([[0.1081, 0.1630]])"
      ]
     },
     "execution_count": 261,
     "metadata": {},
     "output_type": "execute_result"
    }
   ],
   "source": [
    "outputs"
   ]
  },
  {
   "cell_type": "markdown",
   "metadata": {},
   "source": [
    "#### Die Roller Function"
   ]
  },
  {
   "cell_type": "code",
   "execution_count": 262,
   "metadata": {},
   "outputs": [],
   "source": [
    "def dice_roller(rolls):\n",
    "    table = {}\n",
    "    for i in range(rolls):\n",
    "        number_of_dice = np.random.randint(1,7)\n",
    "        dice = {1:20, 2:12, 3:10, 4:8, 5:6, 6:4}\n",
    "        bag = np.random.randint(1, dice[number_of_dice], number_of_dice)\n",
    "        bag = [x + np.random.uniform(-1,1) for x in bag]\n",
    "        table[i] = {\"first_roll\": bag[0], \"sum\": sum(bag), \"target\": number_of_dice}\n",
    "    \n",
    "    return(table)"
   ]
  },
  {
   "cell_type": "markdown",
   "metadata": {},
   "source": [
    "#### Data Generaion"
   ]
  },
  {
   "cell_type": "code",
   "execution_count": 263,
   "metadata": {},
   "outputs": [
    {
     "data": {
      "text/html": [
       "<div>\n",
       "<style scoped>\n",
       "    .dataframe tbody tr th:only-of-type {\n",
       "        vertical-align: middle;\n",
       "    }\n",
       "\n",
       "    .dataframe tbody tr th {\n",
       "        vertical-align: top;\n",
       "    }\n",
       "\n",
       "    .dataframe thead th {\n",
       "        text-align: right;\n",
       "    }\n",
       "</style>\n",
       "<table border=\"1\" class=\"dataframe\">\n",
       "  <thead>\n",
       "    <tr style=\"text-align: right;\">\n",
       "      <th></th>\n",
       "      <th>first_roll</th>\n",
       "      <th>sum</th>\n",
       "      <th>target</th>\n",
       "    </tr>\n",
       "  </thead>\n",
       "  <tbody>\n",
       "    <tr>\n",
       "      <th>count</th>\n",
       "      <td>3394.000000</td>\n",
       "      <td>3394.000000</td>\n",
       "      <td>3394.0</td>\n",
       "    </tr>\n",
       "    <tr>\n",
       "      <th>mean</th>\n",
       "      <td>5.060085</td>\n",
       "      <td>14.895392</td>\n",
       "      <td>3.0</td>\n",
       "    </tr>\n",
       "    <tr>\n",
       "      <th>std</th>\n",
       "      <td>2.613919</td>\n",
       "      <td>4.573561</td>\n",
       "      <td>0.0</td>\n",
       "    </tr>\n",
       "    <tr>\n",
       "      <th>min</th>\n",
       "      <td>0.000607</td>\n",
       "      <td>0.571350</td>\n",
       "      <td>3.0</td>\n",
       "    </tr>\n",
       "    <tr>\n",
       "      <th>25%</th>\n",
       "      <td>2.816544</td>\n",
       "      <td>11.632505</td>\n",
       "      <td>3.0</td>\n",
       "    </tr>\n",
       "    <tr>\n",
       "      <th>50%</th>\n",
       "      <td>5.141434</td>\n",
       "      <td>14.938396</td>\n",
       "      <td>3.0</td>\n",
       "    </tr>\n",
       "    <tr>\n",
       "      <th>75%</th>\n",
       "      <td>7.262169</td>\n",
       "      <td>18.037047</td>\n",
       "      <td>3.0</td>\n",
       "    </tr>\n",
       "    <tr>\n",
       "      <th>max</th>\n",
       "      <td>9.984835</td>\n",
       "      <td>28.263055</td>\n",
       "      <td>3.0</td>\n",
       "    </tr>\n",
       "  </tbody>\n",
       "</table>\n",
       "</div>"
      ],
      "text/plain": [
       "        first_roll          sum  target\n",
       "count  3394.000000  3394.000000  3394.0\n",
       "mean      5.060085    14.895392     3.0\n",
       "std       2.613919     4.573561     0.0\n",
       "min       0.000607     0.571350     3.0\n",
       "25%       2.816544    11.632505     3.0\n",
       "50%       5.141434    14.938396     3.0\n",
       "75%       7.262169    18.037047     3.0\n",
       "max       9.984835    28.263055     3.0"
      ]
     },
     "execution_count": 263,
     "metadata": {},
     "output_type": "execute_result"
    }
   ],
   "source": [
    "df = pd.DataFrame(dice_roller(20_000)).T\n",
    "df[df.target == 3].describe()"
   ]
  },
  {
   "cell_type": "code",
   "execution_count": 179,
   "metadata": {},
   "outputs": [
    {
     "data": {
      "image/png": "[encoded data removed]",
      "text/plain": [
       "<Figure size 1080x1080 with 1 Axes>"
      ]
     },
     "metadata": {
      "image/png": {
       "height": 848,
       "width": 879
      },
      "needs_background": "light"
     },
     "output_type": "display_data"
    }
   ],
   "source": [
    "figure, ax = plt.subplots(figsize=(15, 15))\n",
    "\n",
    "color = [\"\",\"red\", \"orange\", \"yellow\", \"green\", \"indigo\", \"blue\"]\n",
    "\n",
    "for i in range(1,7):  \n",
    "    ax = plt.hist(df[df.target == i][\"sum\"], bins = 100, alpha = .25, color = color[i])\n",
    "    ax = plt.hist(df[df.target == i][\"first_roll\"], bins = 10, alpha = .25, color = color[i])\n"
   ]
  },
  {
   "cell_type": "markdown",
   "metadata": {},
   "source": [
    "#### Train test split"
   ]
  },
  {
   "cell_type": "code",
   "execution_count": 186,
   "metadata": {},
   "outputs": [],
   "source": [
    "from sklearn.preprocessing import StandardScaler\n",
    "#Train test split\n",
    "\n",
    "X = df[[\"first_roll\", \"sum\"]]\n",
    "y = df[\"target\"]\n",
    "\n",
    "X_train, X_test, y_train, y_test = train_test_split(X, \n",
    "                                                    y,\n",
    "                                                    test_size=0.25)\n",
    "\n",
    "# ss = StandardScaler()\n",
    "\n",
    "# X_train_sc = ss.fit_transform(X_train)\n",
    "# X_test_sc  = ss.transform(X_test)\n",
    "\n",
    "X_train_to, X_test_to = to.tensor(X_train.values), to.tensor(X_test.values)\n",
    "y_train_to, y_test_to = to.tensor(y_train.values), to.tensor(y_test.values)\n"
   ]
  },
  {
   "cell_type": "code",
   "execution_count": 189,
   "metadata": {},
   "outputs": [
    {
     "data": {
      "text/plain": [
       "tensor([[ 3.3323, 18.0679],\n",
       "        [ 3.0167, 11.4310],\n",
       "        [ 2.0024, 14.8693],\n",
       "        ...,\n",
       "        [ 4.0561,  4.0561],\n",
       "        [ 2.5678, 12.1175],\n",
       "        [ 3.7685, 12.8915]], dtype=torch.float64)"
      ]
     },
     "execution_count": 189,
     "metadata": {},
     "output_type": "execute_result"
    }
   ],
   "source": [
    "X_train_to"
   ]
  },
  {
   "cell_type": "markdown",
   "metadata": {},
   "source": [
    "#### Build Model"
   ]
  },
  {
   "cell_type": "code",
   "execution_count": 192,
   "metadata": {},
   "outputs": [
    {
     "name": "stdout",
     "output_type": "stream",
     "text": [
      "Sequential(\n",
      "  (0): Linear(in_features=2, out_features=4, bias=True)\n",
      "  (1): ReLU()\n",
      "  (2): Linear(in_features=4, out_features=64, bias=True)\n",
      "  (3): ReLU()\n",
      "  (4): Linear(in_features=64, out_features=64, bias=True)\n",
      "  (5): ReLU()\n",
      "  (6): Linear(in_features=64, out_features=6, bias=True)\n",
      ")\n"
     ]
    }
   ],
   "source": [
    "model = nn.Sequential(\n",
    "            nn.Linear(2, 4),\n",
    "            nn.ReLU(),            \n",
    "            nn.Linear(4, 64),\n",
    "            nn.ReLU(),\n",
    "            nn.Linear(64, 64),\n",
    "            nn.ReLU(),\n",
    "            nn.Linear(64, 6))\n",
    "\n",
    "optimizer = to.optim.Adam(model.parameters())\n",
    "criterion = nn.MSELoss()\n",
    "print(model)"
   ]
  },
  {
   "cell_type": "code",
   "execution_count": 282,
   "metadata": {},
   "outputs": [
    {
     "data": {
      "text/plain": [
       "2052"
      ]
     },
     "execution_count": 282,
     "metadata": {},
     "output_type": "execute_result"
    }
   ],
   "source": [
    "585 + 544 + 426 + 497"
   ]
  },
  {
   "cell_type": "code",
   "execution_count": null,
   "metadata": {},
   "outputs": [],
   "source": []
  },
  {
   "cell_type": "code",
   "execution_count": null,
   "metadata": {},
   "outputs": [],
   "source": []
  },
  {
   "cell_type": "code",
   "execution_count": null,
   "metadata": {},
   "outputs": [],
   "source": []
  },
  {
   "cell_type": "code",
   "execution_count": null,
   "metadata": {},
   "outputs": [],
   "source": []
  },
  {
   "cell_type": "code",
   "execution_count": null,
   "metadata": {},
   "outputs": [],
   "source": [
    "model = nn.Sequential(\n",
    "        nn.Linear(2, 1, bias=False))\n",
    "\n",
    "optimizer = to.optim.Adam(model.parameters())\n",
    "criterion = nn.MSELoss()\n",
    "\n",
    "total_loss = []\n",
    "num_samples = 10_000\n",
    "\n",
    "for num in range(num_samples):\n",
    "    # Progress bar indicator\n",
    "    if num % (num_samples//5) == 0:\n",
    "        print('{0}: %: {1:.3f}'.format(num,num/num_samples * 100))\n",
    "        \n",
    "    # data prep\n",
    "    x = 4*to.rand(2) #generate two random numbers uniformly on (0,4)\n",
    "    data, target = Variable(x), Variable(x[0] + x[1])\n",
    "    \n",
    "    # Feed forward through NN\n",
    "    output = model(data)\n",
    "    loss = criterion(output, target)\n",
    "    total_loss.append(loss)\n",
    "    \n",
    "    # Backpropagation\n",
    "    optimizer.zero_grad()\n",
    "    loss.backward()\n",
    "    optimizer.step()"
   ]
  },
  {
   "cell_type": "code",
   "execution_count": null,
   "metadata": {},
   "outputs": [],
   "source": []
  },
  {
   "cell_type": "code",
   "execution_count": null,
   "metadata": {},
   "outputs": [],
   "source": []
  },
  {
   "cell_type": "code",
   "execution_count": null,
   "metadata": {},
   "outputs": [],
   "source": []
  },
  {
   "cell_type": "code",
   "execution_count": null,
   "metadata": {},
   "outputs": [],
   "source": []
  },
  {
   "cell_type": "code",
   "execution_count": null,
   "metadata": {},
   "outputs": [],
   "source": []
  },
  {
   "cell_type": "code",
   "execution_count": null,
   "metadata": {},
   "outputs": [],
   "source": []
  },
  {
   "cell_type": "code",
   "execution_count": null,
   "metadata": {},
   "outputs": [],
   "source": []
  },
  {
   "cell_type": "code",
   "execution_count": null,
   "metadata": {},
   "outputs": [],
   "source": [
    "fig,ax=plt.subplots(figsize=(11,8))\n",
    "ax.plot(total_loss,marker='.',ls='',markersize=1.)\n",
    "ax.set_ylim(0,);ax.set_xlim(0,);ax.grid(alpha=0.2);\n",
    "ax.set_xlabel('training examples');ax.set_ylabel('mean squared loss');"
   ]
  },
  {
   "cell_type": "code",
   "execution_count": null,
   "metadata": {},
   "outputs": [],
   "source": []
  }
 ],
 "metadata": {
  "kernelspec": {
   "display_name": "Python 3",
   "language": "python",
   "name": "python3"
  },
  "language_info": {
   "codemirror_mode": {
    "name": "ipython",
    "version": 3
   },
   "file_extension": ".py",
   "mimetype": "text/x-python",
   "name": "python",
   "nbconvert_exporter": "python",
   "pygments_lexer": "ipython3",
   "version": "3.7.4"
  },
  "toc": {
   "base_numbering": 1,
   "nav_menu": {},
   "number_sections": true,
   "sideBar": true,
   "skip_h1_title": true,
   "title_cell": "Table of Contents",
   "title_sidebar": "Contents",
   "toc_cell": true,
   "toc_position": {},
   "toc_section_display": true,
   "toc_window_display": true
  }
 },
 "nbformat": 4,
 "nbformat_minor": 2
}
