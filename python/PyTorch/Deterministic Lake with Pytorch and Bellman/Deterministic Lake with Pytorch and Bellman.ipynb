{
 "cells": [
  {
   "cell_type": "markdown",
   "metadata": {},
   "source": [
    "# 1. Introduction to Deterministic Lake with Pytorch and Bellman"
   ]
  },
  {
   "cell_type": "code",
   "execution_count": 1,
   "metadata": {},
   "outputs": [],
   "source": [
    "import gym\n",
    "import time\n",
    "import matplotlib.pyplot as plt\n",
    "import torch\n",
    "\n",
    "from gym.envs.registration import register\n",
    "\n",
    "%config InlineBackend.figure_format = 'retina'"
   ]
  },
  {
   "cell_type": "markdown",
   "metadata": {},
   "source": [
    "#### To make this a Deterministic, rather than a Stochastic, environment we set the \"is_slippery\" line to False. Also, OpenGym will not let you register over am already registed enviornment. Comment these lines over once you have run. "
   ]
  },
  {
   "cell_type": "code",
   "execution_count": 2,
   "metadata": {},
   "outputs": [],
   "source": [
    "register(\n",
    "    id='FrozenLakeNotSlippery-v0',\n",
    "    entry_point='gym.envs.toy_text:FrozenLakeEnv',\n",
    "    kwargs={'map_name' : '4x4', \n",
    "            'is_slippery': False},\n",
    ")"
   ]
  },
  {
   "cell_type": "code",
   "execution_count": 3,
   "metadata": {},
   "outputs": [],
   "source": [
    "env = gym.make('FrozenLakeNotSlippery-v0')\n",
    "# env = gym.wrappers.Monitor(env, videos_dir)\n",
    "# videos_dir = \"./videos\""
   ]
  },
  {
   "cell_type": "markdown",
   "metadata": {},
   "source": [
    "#### If you see an error above, then try:"
   ]
  },
  {
   "cell_type": "code",
   "execution_count": 4,
   "metadata": {},
   "outputs": [],
   "source": [
    "#pip uninstall -y scipy scikit-learn\n",
    "#pip install --no-binary scipy scikit-learn"
   ]
  },
  {
   "cell_type": "markdown",
   "metadata": {},
   "source": [
    "#### Notice in this space, the actor has to navigate a 4x4 grid populated with holes labeled \"H\" to make it to the goal labeled \"G\". For this model, lets assume that our actor cannot leave the field, so impossible moves will be considered as a pass."
   ]
  },
  {
   "cell_type": "markdown",
   "metadata": {},
   "source": [
    "<img src=\"./DLake.png\">"
   ]
  },
  {
   "cell_type": "markdown",
   "metadata": {},
   "source": [
    "#### For gym, instructions are given as: <br><br> LEFT = 0 <br> DOWN = 1 <br> RIGHT = 2 <br> UP = 3"
   ]
  },
  {
   "cell_type": "code",
   "execution_count": 5,
   "metadata": {},
   "outputs": [
    {
     "data": {
      "text/plain": [
       "16"
      ]
     },
     "execution_count": 5,
     "metadata": {},
     "output_type": "execute_result"
    }
   ],
   "source": [
    "# 4x4 space works out to be 16 possible states for the actor\n",
    "env.observation_space.n"
   ]
  },
  {
   "cell_type": "code",
   "execution_count": 6,
   "metadata": {},
   "outputs": [
    {
     "data": {
      "text/plain": [
       "4"
      ]
     },
     "execution_count": 6,
     "metadata": {},
     "output_type": "execute_result"
    }
   ],
   "source": [
    "# The actor can choose one of four posisbilities, up, down, left, and right, invalid actions that would force the\n",
    "# actor off the space would be ignored. However, the actor can fall down into the hole, ending the game.\n",
    "env.action_space.n"
   ]
  },
  {
   "cell_type": "markdown",
   "metadata": {},
   "source": [
    "# 2. Algorithm for deterministic environment "
   ]
  },
  {
   "cell_type": "markdown",
   "metadata": {},
   "source": [
    "#### The code below will only work for Deterministic environments were the agents movements will not be randomized. "
   ]
  },
  {
   "cell_type": "code",
   "execution_count": 7,
   "metadata": {},
   "outputs": [],
   "source": [
    "#Initilize Q\n",
    "number_of_states = env.observation_space.n\n",
    "number_of_actions = env.action_space.n\n",
    "\n",
    "# At first Q is a zero tensor with action and observation space\n",
    "Q = torch.zeros([number_of_states, number_of_actions])\n",
    "\n",
    "# Initilize Gamma\n",
    "gamma = 1"
   ]
  },
  {
   "cell_type": "markdown",
   "metadata": {},
   "source": [
    "#### Another way to think about the Q tensor is that we have 16 states, each where we can choose from 4 possible actions"
   ]
  },
  {
   "cell_type": "code",
   "execution_count": 8,
   "metadata": {},
   "outputs": [
    {
     "data": {
      "text/plain": [
       "torch.Size([16, 4])"
      ]
     },
     "execution_count": 8,
     "metadata": {},
     "output_type": "execute_result"
    }
   ],
   "source": [
    "# This is a 16x4 tensor\n",
    "Q.size()"
   ]
  },
  {
   "cell_type": "markdown",
   "metadata": {},
   "source": [
    "#### For the Bellman equation, we will consider the max best move for any state. To visulize this with Pytorch, imagine a state where RIGHT is the best choice with reward value of .9:"
   ]
  },
  {
   "cell_type": "code",
   "execution_count": 9,
   "metadata": {},
   "outputs": [],
   "source": [
    "#[L,D,R,U]\n",
    "a = torch.tensor([[.4,.1,.9,.4]])"
   ]
  },
  {
   "cell_type": "markdown",
   "metadata": {},
   "source": [
    "#### To pull the max value from the tensor"
   ]
  },
  {
   "cell_type": "code",
   "execution_count": 10,
   "metadata": {},
   "outputs": [
    {
     "data": {
      "text/plain": [
       "(tensor([0.9000]), tensor([2]))"
      ]
     },
     "execution_count": 10,
     "metadata": {},
     "output_type": "execute_result"
    }
   ],
   "source": [
    "torch.max(a,1)"
   ]
  },
  {
   "cell_type": "code",
   "execution_count": 11,
   "metadata": {},
   "outputs": [
    {
     "data": {
      "text/plain": [
       "tensor(0.9000)"
      ]
     },
     "execution_count": 11,
     "metadata": {},
     "output_type": "execute_result"
    }
   ],
   "source": [
    "a[0][2]"
   ]
  },
  {
   "cell_type": "markdown",
   "metadata": {},
   "source": [
    "# 3. The Loop"
   ]
  },
  {
   "cell_type": "code",
   "execution_count": 12,
   "metadata": {},
   "outputs": [
    {
     "name": "stdout",
     "output_type": "stream",
     "text": [
      "tensor([[0., 0., 1., 0.],\n",
      "        [0., 0., 1., 0.],\n",
      "        [0., 1., 0., 0.],\n",
      "        [0., 0., 0., 0.],\n",
      "        [0., 0., 0., 0.],\n",
      "        [0., 0., 0., 0.],\n",
      "        [0., 1., 0., 0.],\n",
      "        [0., 0., 0., 0.],\n",
      "        [0., 0., 0., 0.],\n",
      "        [0., 0., 0., 0.],\n",
      "        [0., 1., 0., 0.],\n",
      "        [0., 0., 0., 0.],\n",
      "        [0., 0., 0., 0.],\n",
      "        [0., 0., 0., 0.],\n",
      "        [0., 0., 1., 0.],\n",
      "        [0., 0., 0., 0.]])\n"
     ]
    },
    {
     "data": {
      "image/png": "[encoded data removed]",
      "text/plain": [
       "<Figure size 720x360 with 2 Axes>"
      ]
     },
     "metadata": {
      "image/png": {
       "height": 318,
       "width": 575
      },
      "needs_background": "light"
     },
     "output_type": "display_data"
    }
   ],
   "source": [
    "num_episodes = 250\n",
    "\n",
    "# Lists of the values from each trial\n",
    "steps_total = []\n",
    "rewards_total = []\n",
    "\n",
    "#scale factor for random values\n",
    "s = 100\n",
    "\n",
    "for i_episode in range(num_episodes):\n",
    "    \n",
    "    #Uncomment if you want to watch the actions\n",
    "    #print(\"Episode #{}\\n\\n\\n\".format(i_episode))\n",
    "    \n",
    "    #Resest gamespace\n",
    "    state = env.reset()\n",
    "    step = 0\n",
    "    #for step in range(100):\n",
    "    while True:\n",
    "        \n",
    "        step += 1  \n",
    "        # action \n",
    "        random_values = Q[state] + torch.rand(1,number_of_actions) / s\n",
    "        \n",
    "        #set the best action from the list\n",
    "        action = torch.max(random_values,1)[1][0]\n",
    "        \n",
    "        #Take the best action\n",
    "        new_state, reward, done, info = env.step(action.item())\n",
    "        \n",
    "        #Update Q and state\n",
    "        Q[state, action] = reward + gamma * torch.max(Q[new_state])\n",
    "        state = new_state\n",
    "        \n",
    "        #Uncomment if you want to watch the actions\n",
    "        #env.render()\n",
    "\n",
    "        if done:\n",
    "            steps_total.append(step)\n",
    "            rewards_total.append(reward)\n",
    "            break\n",
    "        \n",
    "print(Q)\n",
    "\n",
    "figure, ax = plt.subplots(nrows=1, ncols=2, figsize=(10, 5));\n",
    "\n",
    "colors = [\"red\" if x < 1 else \"green\" for x in rewards_total]\n",
    "ax[0].set_title(\"Rewards\");\n",
    "ax[0].scatter(torch.arange(len(rewards_total)),\n",
    "              rewards_total,\n",
    "              alpha=0.6,\n",
    "              color=colors);\n",
    "ax[0].set_yticks([])\n",
    "\n",
    "ax[1].set_title(\"Steps Taken\");\n",
    "ax[1].plot(range(len(steps_total)),steps_total, alpha=0.6, color='red');"
   ]
  },
  {
   "cell_type": "code",
   "execution_count": null,
   "metadata": {},
   "outputs": [],
   "source": []
  }
 ],
 "metadata": {
  "kernelspec": {
   "display_name": "Python 3",
   "language": "python",
   "name": "python3"
  },
  "language_info": {
   "codemirror_mode": {
    "name": "ipython",
    "version": 3
   },
   "file_extension": ".py",
   "mimetype": "text/x-python",
   "name": "python",
   "nbconvert_exporter": "python",
   "pygments_lexer": "ipython3",
   "version": "3.6.7"
  }
 },
 "nbformat": 4,
 "nbformat_minor": 2
}
