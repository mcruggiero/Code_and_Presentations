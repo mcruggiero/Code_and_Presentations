{
 "cells": [
  {
   "cell_type": "code",
   "execution_count": 5,
   "metadata": {},
   "outputs": [],
   "source": [
    "#The goal of this project is to download all of the 2018 SAT information and append all of that information\n",
    "#into a preexisting data-frame\n",
    "\n",
    "import os\n",
    "import pandas as pd\n",
    "import numpy as np\n",
    "\n",
    "os.listdir()\n",
    "\n",
    "#This is the starter file which has some of the 2017 SAT information \n",
    "merged = pd.read_csv(\"./combined_2017.csv\")"
   ]
  },
  {
   "cell_type": "code",
   "execution_count": 6,
   "metadata": {},
   "outputs": [],
   "source": [
    "import requests\n",
    "\n",
    "#All of the SAT urls follow the format /pdf/2018-*state*-sat-suite-assessments-annual-report.pdf\n",
    "#So lets download the buggers DC will probably be a pain, so we can fix that too\n",
    "\n",
    "states = [x.replace(\" \", \"-\") if x != 'district of columbia' else \"district-columbia\" for x in list(merged[\"State\"].str.lower())]\n",
    "\n",
    "for state in states:\n",
    "    url = \"https://reports.collegeboard.org/pdf/2018-{}-sat-suite-assessments-annual-report.pdf\".format(state)\n",
    "    r = requests.get(url, allow_redirects=True)\n",
    "    open('2018_SAT_{}_Data.pdf'.format(state), 'wb').write(r.content)"
   ]
  },
  {
   "cell_type": "code",
   "execution_count": 7,
   "metadata": {},
   "outputs": [
    {
     "name": "stdout",
     "output_type": "stream",
     "text": [
      "0 2018_SAT_massachusetts_Data.pdf\n",
      "1 2018_SAT_missouri_Data.pdf\n",
      "2 2018_SAT_nebraska_Data.pdf\n",
      "3 2018_SAT_kentucky_Data.pdf\n",
      "4 2018_SAT_new-hampshire_Data.pdf\n",
      "5 2018_SAT_new-york_Data.pdf\n",
      "6 2018_SAT_oklahoma_Data.pdf\n",
      "7 2018_SAT_nevada_Data.pdf\n",
      "8 2018_SAT_washington_Data.pdf\n",
      "9 2018_SAT_new-jersey_Data.pdf\n",
      "10 2018_SAT_hawaii_Data.pdf\n",
      "11 2018_SAT_west-virginia_Data.pdf\n",
      "12 2018_SAT_arizona_Data.pdf\n",
      "13 2018_SAT_oregon_Data.pdf\n",
      "14 2018_SAT_new-mexico_Data.pdf\n",
      "15 2018_SAT_maryland_Data.pdf\n",
      "16 2018_SAT_wyoming_Data.pdf\n",
      "17 2018_SAT_georgia_Data.pdf\n",
      "18 2018_SAT_ohio_Data.pdf\n",
      "19 2018_SAT_maine_Data.pdf\n",
      "20 2018_SAT_vermont_Data.pdf\n",
      "21 2018_SAT_illinois_Data.pdf\n",
      "22 2018_SAT_north-carolina_Data.pdf\n",
      "23 2018_SAT_alaska_Data.pdf\n",
      "24 2018_SAT_utah_Data.pdf\n",
      "25 2018_SAT_pennsylvania_Data.pdf\n",
      "26 2018_SAT_idaho_Data.pdf\n",
      "27 2018_SAT_texas_Data.pdf\n",
      "28 2018_SAT_mississippi_Data.pdf\n",
      "29 2018_SAT_michigan_Data.pdf\n",
      "30 2018_SAT_alabama_Data.pdf\n",
      "31 2018_SAT_iowa_Data.pdf\n",
      "32 2018_SAT_connecticut_Data.pdf\n",
      "33 2018_SAT_indiana_Data.pdf\n",
      "34 2018_SAT_montana_Data.pdf\n",
      "35 2018_SAT_rhode-island_Data.pdf\n",
      "36 2018_SAT_tennessee_Data.pdf\n",
      "37 2018_SAT_arkansas_Data.pdf\n",
      "38 2018_SAT_district-columbia_Data.pdf\n",
      "39 2018_SAT_north-dakota_Data.pdf\n",
      "40 2018_SAT_louisiana_Data.pdf\n",
      "41 2018_SAT_wisconsin_Data.pdf\n",
      "42 2018_SAT_california_Data.pdf\n",
      "43 2018_SAT_virginia_Data.pdf\n",
      "44 2018_SAT_colorado_Data.pdf\n",
      "45 2018_SAT_south-dakota_Data.pdf\n",
      "46 2018_SAT_kansas_Data.pdf\n",
      "47 2018_SAT_delaware_Data.pdf\n",
      "48 2018_SAT_florida_Data.pdf\n",
      "49 2018_SAT_minnesota_Data.pdf\n",
      "50 2018_SAT_south-carolina_Data.pdf\n"
     ]
    }
   ],
   "source": [
    "#Just a little check to see if all of the files downloaded correctly.\n",
    "\n",
    "count = 0\n",
    "for file in os.listdir():\n",
    "    if file[-3:] == \"pdf\":\n",
    "        print(count,file)\n",
    "        count += 1"
   ]
  },
  {
   "cell_type": "code",
   "execution_count": 8,
   "metadata": {
    "collapsed": true
   },
   "outputs": [
    {
     "name": "stderr",
     "output_type": "stream",
     "text": [
      "WARNING:pdfminer.layout:Too many boxes (324) to group, skipping.\n",
      "WARNING:pdfminer.layout:Too many boxes (226) to group, skipping.\n",
      "WARNING:pdfminer.layout:Too many boxes (359) to group, skipping.\n",
      "WARNING:pdfminer.layout:Too many boxes (275) to group, skipping.\n",
      "WARNING:pdfminer.layout:Too many boxes (234) to group, skipping.\n",
      "WARNING:pdfminer.layout:Too many boxes (334) to group, skipping.\n",
      "WARNING:pdfminer.layout:Too many boxes (425) to group, skipping.\n",
      "WARNING:pdfminer.layout:Too many boxes (359) to group, skipping.\n",
      "WARNING:pdfminer.layout:Too many boxes (359) to group, skipping.\n",
      "WARNING:pdfminer.layout:Too many boxes (196) to group, skipping.\n",
      "WARNING:pdfminer.layout:Too many boxes (317) to group, skipping.\n",
      "WARNING:pdfminer.layout:Too many boxes (278) to group, skipping.\n",
      "WARNING:pdfminer.layout:Too many boxes (329) to group, skipping.\n",
      "WARNING:pdfminer.layout:Too many boxes (329) to group, skipping.\n",
      "WARNING:pdfminer.layout:Too many boxes (193) to group, skipping.\n"
     ]
    },
    {
     "data": {
      "text/plain": [
       "['SAT Participation and Performance',\n",
       " 'Number',\n",
       " 'Percent',\n",
       " 'Total',\n",
       " 'ERW',\n",
       " 'Math',\n",
       " 'Both',\n",
       " 'ERW',\n",
       " 'Math',\n",
       " 'None',\n",
       " 'Female',\n",
       " 'Male',\n",
       " 'No Response',\n",
       " '18%',\n",
       " '19%',\n",
       " '67%',\n",
       " '58%',\n",
       " '79%',\n",
       " '80%',\n",
       " '64%',\n",
       " '56%',\n",
       " '576',\n",
       " '550',\n",
       " '563',\n",
       " '561',\n",
       " '1140',\n",
       " '1112',\n",
       " '0%',\n",
       " '47%',\n",
       " '53%',\n",
       " '6',\n",
       " '28,125',\n",
       " '31,251',\n",
       " 'Number',\n",
       " 'Percent',\n",
       " 'Total',\n",
       " 'ERW',\n",
       " 'Math',\n",
       " 'Both',\n",
       " 'ERW',\n",
       " 'Math',\n",
       " 'None',\n",
       " 'American Indian/Alaska Native',\n",
       " 'Asian',\n",
       " 'Black/African American',\n",
       " 'Hispanic/Latino',\n",
       " 'Native Hawaiian/Other Pacific Islander',\n",
       " 'White',\n",
       " 'Two or More Races',\n",
       " 'No Response',\n",
       " '35%',\n",
       " '16%',\n",
       " '11%',\n",
       " '27%',\n",
       " '41%',\n",
       " '45%',\n",
       " '10%',\n",
       " '25%',\n",
       " '43%',\n",
       " '63%',\n",
       " '69%',\n",
       " '42%',\n",
       " '36%',\n",
       " '32%',\n",
       " '82%',\n",
       " '45%',\n",
       " '62%',\n",
       " '82%',\n",
       " '88%',\n",
       " '73%',\n",
       " '57%',\n",
       " '52%',\n",
       " '84%',\n",
       " '72%',\n",
       " '40%',\n",
       " '62%',\n",
       " '68%',\n",
       " '42%',\n",
       " '34%',\n",
       " '29%',\n",
       " '76%',\n",
       " '42%',\n",
       " '512',\n",
       " '572',\n",
       " '577',\n",
       " '520',\n",
       " '497',\n",
       " '485',\n",
       " '646',\n",
       " '519',\n",
       " '517',\n",
       " '575',\n",
       " '582',\n",
       " '522',\n",
       " '500',\n",
       " '488',\n",
       " '594',\n",
       " '529',\n",
       " '1029',\n",
       " '1147',\n",
       " '1159',\n",
       " '1042',\n",
       " '997',\n",
       " '973',\n",
       " '1240',\n",
       " '1048',\n",
       " '3%',\n",
       " '3%',\n",
       " '64%',\n",
       " '0%',\n",
       " '13%',\n",
       " '8%',\n",
       " '9%',\n",
       " '0%',\n",
       " '1,723',\n",
       " '1,862',\n",
       " '37,711',\n",
       " '48',\n",
       " '8,005',\n",
       " '4,777',\n",
       " '5,138',\n",
       " '118',\n",
       " 'Sex',\n",
       " 'Race / Ethnicity',\n",
       " '2018 SAT Suite Annual Report',\n",
       " 'Massachusetts',\n",
       " 'Test Takers',\n",
       " 'Mean Score',\n",
       " 'Met Benchmarks',\n",
       " 'Number',\n",
       " 'Percent',\n",
       " 'Total',\n",
       " 'ERW',\n",
       " 'Math',\n",
       " 'Both',\n",
       " 'ERW',\n",
       " 'Math',\n",
       " 'None',\n",
       " 'No High School Diploma',\n",
       " 'High School Diploma',\n",
       " 'Associate Degree',\n",
       " \"Bachelor's Degree\",\n",
       " 'Graduate Degree',\n",
       " 'No Response',\n",
       " '54%',\n",
       " '7%',\n",
       " '11%',\n",
       " '22%',\n",
       " '29%',\n",
       " '48%',\n",
       " '27%',\n",
       " '80%',\n",
       " '70%',\n",
       " '51%',\n",
       " '45%',\n",
       " '32%',\n",
       " '42%',\n",
       " '92%',\n",
       " '87%',\n",
       " '75%',\n",
       " '67%',\n",
       " '47%',\n",
       " '23%',\n",
       " '79%',\n",
       " '68%',\n",
       " '48%',\n",
       " '42%',\n",
       " '26%',\n",
       " '472',\n",
       " '617',\n",
       " '577',\n",
       " '530',\n",
       " '518',\n",
       " '487',\n",
       " '469',\n",
       " '616',\n",
       " '577',\n",
       " '535',\n",
       " '518',\n",
       " '475',\n",
       " '941',\n",
       " '1233',\n",
       " '1154',\n",
       " '1065',\n",
       " '1037',\n",
       " '962',\n",
       " '4%',\n",
       " '29%',\n",
       " '32%',\n",
       " '7%',\n",
       " '23%',\n",
       " '5%',\n",
       " '2,459',\n",
       " '16,986',\n",
       " '19,052',\n",
       " '4,356',\n",
       " '13,583',\n",
       " '2,946',\n",
       " 'Highest Level of Parental Education',\n",
       " 'Test Takers',\n",
       " 'Mean Score',\n",
       " 'Met Benchmarks',\n",
       " 'Number',\n",
       " 'Percent',\n",
       " 'Total',\n",
       " 'ERW',\n",
       " 'Math',\n",
       " 'Both',\n",
       " 'ERW',\n",
       " 'Math',\n",
       " 'None',\n",
       " 'Used at any point',\n",
       " 'Did not use',\n",
       " '13%',\n",
       " '37%',\n",
       " '69%',\n",
       " '39%',\n",
       " '85%',\n",
       " '59%',\n",
       " '67%',\n",
       " '35%',\n",
       " '579',\n",
       " '504',\n",
       " '579',\n",
       " '502',\n",
       " '1159',\n",
       " '1006',\n",
       " '78%',\n",
       " '22%',\n",
       " '46,215',\n",
       " '13,167',\n",
       " 'SAT Fee Waiver',\n",
       " 'Test Takers',\n",
       " 'Mean Score',\n",
       " 'Met Benchmarks',\n",
       " 'Test Takers',\n",
       " 'Mean Score',\n",
       " 'Met Benchmarks',\n",
       " 'Number',\n",
       " 'Percent',\n",
       " 'Total',\n",
       " 'ERW',\n",
       " 'Math',\n",
       " 'Both',\n",
       " 'ERW',\n",
       " 'Math',\n",
       " 'None',\n",
       " 'Total',\n",
       " 'Took Essay¹',\n",
       " '12%',\n",
       " '18%',\n",
       " '70%',\n",
       " '62%',\n",
       " '86%',\n",
       " '79%',\n",
       " '68%',\n",
       " '60%',\n",
       " '586',\n",
       " '563',\n",
       " '585',\n",
       " '562',\n",
       " '1171',\n",
       " '1125',\n",
       " '67%',\n",
       " '39,626',\n",
       " '59,382',\n",
       " 'Mean Score',\n",
       " 'Test Takers',\n",
       " 'Met Benchmarks',\n",
       " 'Data reflect 2018 high school graduates who took the new SAT during high school. If a student took the SAT more than once, the most',\n",
       " 'recent score is summarized.',\n",
       " 'Number',\n",
       " 'Percent',\n",
       " 'Total',\n",
       " 'ERW',\n",
       " 'Math',\n",
       " 'Both',\n",
       " 'ERW',\n",
       " 'Math',\n",
       " 'None',\n",
       " 'English Only',\n",
       " 'English and Another Language',\n",
       " 'Another Language',\n",
       " 'No Response',\n",
       " '38%',\n",
       " '32%',\n",
       " '29%',\n",
       " '14%',\n",
       " '45%',\n",
       " '54%',\n",
       " '52%',\n",
       " '65%',\n",
       " '60%',\n",
       " '63%',\n",
       " '68%',\n",
       " '84%',\n",
       " '44%',\n",
       " '48%',\n",
       " '49%',\n",
       " '63%',\n",
       " '517',\n",
       " '557',\n",
       " '546',\n",
       " '567',\n",
       " '520',\n",
       " '525',\n",
       " '537',\n",
       " '573',\n",
       " '1037',\n",
       " '1082',\n",
       " '1083',\n",
       " '1140',\n",
       " '1%',\n",
       " '9%',\n",
       " '16%',\n",
       " '74%',\n",
       " '703',\n",
       " '5,328',\n",
       " '9,326',\n",
       " '44,025',\n",
       " 'First Language Learned',\n",
       " 'Test Takers',\n",
       " 'Mean Score',\n",
       " 'Met Benchmarks',\n",
       " 'Total',\n",
       " '¹ Reflects the most recent essay of test takers who completed the SAT Essay at any point, not necessarily on the most recent test administration date.',\n",
       " '']"
      ]
     },
     "execution_count": 8,
     "metadata": {},
     "output_type": "execute_result"
    }
   ],
   "source": [
    "import slate3k as slate\n",
    "\n",
    "def pdf_view(file):\n",
    "    mine  = []\n",
    "    with open(file, 'rb') as f:\n",
    "        doc = slate.PDF(f)\n",
    "    \n",
    "    pdf_miner =  [x for x in doc[3].split(\"\\n\") if x != \"\"]  \n",
    "    for i in range(len(pdf_miner)):\n",
    "        mine.append(pdf_miner[i].lstrip())\n",
    "    \n",
    "    return(mine)\n",
    "\n",
    "pdf_view(\"2018_SAT_massachusetts_Data.pdf\")"
   ]
  },
  {
   "cell_type": "code",
   "execution_count": 9,
   "metadata": {
    "collapsed": true
   },
   "outputs": [
    {
     "name": "stderr",
     "output_type": "stream",
     "text": [
      "WARNING:pdfminer.layout:Too many boxes (324) to group, skipping.\n",
      "WARNING:pdfminer.layout:Too many boxes (226) to group, skipping.\n",
      "WARNING:pdfminer.layout:Too many boxes (359) to group, skipping.\n",
      "WARNING:pdfminer.layout:Too many boxes (275) to group, skipping.\n",
      "WARNING:pdfminer.layout:Too many boxes (234) to group, skipping.\n",
      "WARNING:pdfminer.layout:Too many boxes (334) to group, skipping.\n",
      "WARNING:pdfminer.layout:Too many boxes (425) to group, skipping.\n",
      "WARNING:pdfminer.layout:Too many boxes (359) to group, skipping.\n",
      "WARNING:pdfminer.layout:Too many boxes (359) to group, skipping.\n",
      "WARNING:pdfminer.layout:Too many boxes (196) to group, skipping.\n",
      "WARNING:pdfminer.layout:Too many boxes (317) to group, skipping.\n",
      "WARNING:pdfminer.layout:Too many boxes (278) to group, skipping.\n",
      "WARNING:pdfminer.layout:Too many boxes (329) to group, skipping.\n",
      "WARNING:pdfminer.layout:Too many boxes (329) to group, skipping.\n",
      "WARNING:pdfminer.layout:Too many boxes (193) to group, skipping.\n"
     ]
    },
    {
     "name": "stdout",
     "output_type": "stream",
     "text": [
      "['Massachusetts', '80% of graduates', '562', '563', '1125']\n",
      "['Massachusetts', '80% of graduates', '562', '563', '1125']\n"
     ]
    }
   ],
   "source": [
    "#There are other packages to help with pdf data scraping, but this one is easy for text. However, sorry about \n",
    "#warnings, Pdfminer3k sets directly to the Python root logger :(\n",
    "\n",
    "'''\n",
    "Here is the stuff I need to mine\n",
    "\n",
    "\"State\" \n",
    "\"SAT_Participation\"\n",
    "\"SAT_English\"\n",
    "\"SAT_Math\"\n",
    "\"SAT_Total\"\n",
    "\n",
    "'''\n",
    "\n",
    "import slate3k as slate\n",
    "\n",
    "def pdf_mine(file):\n",
    "    mine  = []\n",
    "    with open(file, 'rb') as f:\n",
    "        doc = slate.PDF(f)\n",
    "    \n",
    "    pdf_miner =  [x for x in doc[2].split(\"\\n\") if x != \"\"] \n",
    "    #Sice these 51 pdf are exactly the same, but for the state SAT data, we can set the location\n",
    "    #and mine from the lists\n",
    "    for i in range(len(pdf_miner)):\n",
    "        if i == 1:\n",
    "            mine.append(pdf_miner[i].lstrip())\n",
    "        elif pdf_miner[i][-14:] == '% of graduates': \n",
    "            mine.append(pdf_miner[i].lstrip())\n",
    "\n",
    "    pdf_miner = [x for x in doc[3].split(\"\\n\") if x != \"\"]\n",
    "    for i in range(len(pdf_miner)):\n",
    "        if pdf_miner[i].lstrip() == \"Took Essay¹\": #That little 1 helps!\n",
    "            mine.append(pdf_miner[i + 12].lstrip())\n",
    "            mine.append(pdf_miner[i + 10].lstrip())\n",
    "            mine.append(pdf_miner[i + 14].lstrip())\n",
    "    \n",
    "    print(mine)\n",
    "    return(mine)\n",
    "\n",
    "print(pdf_mine('2018_SAT_massachusetts_Data.pdf'))"
   ]
  },
  {
   "cell_type": "code",
   "execution_count": 10,
   "metadata": {},
   "outputs": [
    {
     "name": "stderr",
     "output_type": "stream",
     "text": [
      "WARNING:pdfminer.layout:Too many boxes (324) to group, skipping.\n",
      "WARNING:pdfminer.layout:Too many boxes (226) to group, skipping.\n",
      "WARNING:pdfminer.layout:Too many boxes (359) to group, skipping.\n",
      "WARNING:pdfminer.layout:Too many boxes (275) to group, skipping.\n",
      "WARNING:pdfminer.layout:Too many boxes (234) to group, skipping.\n",
      "WARNING:pdfminer.layout:Too many boxes (334) to group, skipping.\n",
      "WARNING:pdfminer.layout:Too many boxes (425) to group, skipping.\n",
      "WARNING:pdfminer.layout:Too many boxes (359) to group, skipping.\n",
      "WARNING:pdfminer.layout:Too many boxes (359) to group, skipping.\n",
      "WARNING:pdfminer.layout:Too many boxes (196) to group, skipping.\n",
      "WARNING:pdfminer.layout:Too many boxes (317) to group, skipping.\n",
      "WARNING:pdfminer.layout:Too many boxes (278) to group, skipping.\n",
      "WARNING:pdfminer.layout:Too many boxes (329) to group, skipping.\n",
      "WARNING:pdfminer.layout:Too many boxes (329) to group, skipping.\n",
      "WARNING:pdfminer.layout:Too many boxes (193) to group, skipping.\n"
     ]
    },
    {
     "name": "stdout",
     "output_type": "stream",
     "text": [
      "['Massachusetts', '80% of graduates', '562', '563', '1125']\n"
     ]
    },
    {
     "name": "stderr",
     "output_type": "stream",
     "text": [
      "WARNING:pdfminer.layout:Too many boxes (307) to group, skipping.\n",
      "WARNING:pdfminer.layout:Too many boxes (223) to group, skipping.\n",
      "WARNING:pdfminer.layout:Too many boxes (299) to group, skipping.\n",
      "WARNING:pdfminer.layout:Too many boxes (232) to group, skipping.\n",
      "WARNING:pdfminer.layout:Too many boxes (234) to group, skipping.\n",
      "WARNING:pdfminer.layout:Too many boxes (334) to group, skipping.\n",
      "WARNING:pdfminer.layout:Too many boxes (425) to group, skipping.\n",
      "WARNING:pdfminer.layout:Too many boxes (359) to group, skipping.\n",
      "WARNING:pdfminer.layout:Too many boxes (359) to group, skipping.\n",
      "WARNING:pdfminer.layout:Too many boxes (195) to group, skipping.\n",
      "WARNING:pdfminer.layout:Too many boxes (334) to group, skipping.\n",
      "WARNING:pdfminer.layout:Too many boxes (278) to group, skipping.\n",
      "WARNING:pdfminer.layout:Too many boxes (359) to group, skipping.\n",
      "WARNING:pdfminer.layout:Too many boxes (359) to group, skipping.\n",
      "WARNING:pdfminer.layout:Too many boxes (193) to group, skipping.\n"
     ]
    },
    {
     "name": "stdout",
     "output_type": "stream",
     "text": [
      "['Missouri', '4% of graduates', '633', '629', '1262']\n"
     ]
    },
    {
     "name": "stderr",
     "output_type": "stream",
     "text": [
      "WARNING:pdfminer.layout:Too many boxes (299) to group, skipping.\n",
      "WARNING:pdfminer.layout:Too many boxes (223) to group, skipping.\n",
      "WARNING:pdfminer.layout:Too many boxes (299) to group, skipping.\n",
      "WARNING:pdfminer.layout:Too many boxes (197) to group, skipping.\n",
      "WARNING:pdfminer.layout:Too many boxes (234) to group, skipping.\n",
      "WARNING:pdfminer.layout:Too many boxes (317) to group, skipping.\n",
      "WARNING:pdfminer.layout:Too many boxes (418) to group, skipping.\n",
      "WARNING:pdfminer.layout:Too many boxes (329) to group, skipping.\n",
      "WARNING:pdfminer.layout:Too many boxes (329) to group, skipping.\n",
      "WARNING:pdfminer.layout:Too many boxes (195) to group, skipping.\n",
      "WARNING:pdfminer.layout:Too many boxes (233) to group, skipping.\n",
      "WARNING:pdfminer.layout:Too many boxes (183) to group, skipping.\n",
      "WARNING:pdfminer.layout:Too many boxes (299) to group, skipping.\n",
      "WARNING:pdfminer.layout:Too many boxes (169) to group, skipping.\n"
     ]
    },
    {
     "name": "stdout",
     "output_type": "stream",
     "text": [
      "['Nebraska', '3% of graduates', '629', '623', '1252']\n"
     ]
    },
    {
     "name": "stderr",
     "output_type": "stream",
     "text": [
      "WARNING:pdfminer.layout:Too many boxes (307) to group, skipping.\n",
      "WARNING:pdfminer.layout:Too many boxes (223) to group, skipping.\n",
      "WARNING:pdfminer.layout:Too many boxes (299) to group, skipping.\n",
      "WARNING:pdfminer.layout:Too many boxes (225) to group, skipping.\n",
      "WARNING:pdfminer.layout:Too many boxes (234) to group, skipping.\n",
      "WARNING:pdfminer.layout:Too many boxes (320) to group, skipping.\n",
      "WARNING:pdfminer.layout:Too many boxes (425) to group, skipping.\n",
      "WARNING:pdfminer.layout:Too many boxes (329) to group, skipping.\n",
      "WARNING:pdfminer.layout:Too many boxes (329) to group, skipping.\n",
      "WARNING:pdfminer.layout:Too many boxes (198) to group, skipping.\n",
      "WARNING:pdfminer.layout:Too many boxes (320) to group, skipping.\n",
      "WARNING:pdfminer.layout:Too many boxes (278) to group, skipping.\n",
      "WARNING:pdfminer.layout:Too many boxes (329) to group, skipping.\n",
      "WARNING:pdfminer.layout:Too many boxes (329) to group, skipping.\n",
      "WARNING:pdfminer.layout:Too many boxes (193) to group, skipping.\n"
     ]
    },
    {
     "name": "stdout",
     "output_type": "stream",
     "text": [
      "['Kentucky', '4% of graduates', '630', '618', '1248']\n"
     ]
    },
    {
     "name": "stderr",
     "output_type": "stream",
     "text": [
      "WARNING:pdfminer.layout:Too many boxes (317) to group, skipping.\n",
      "WARNING:pdfminer.layout:Too many boxes (226) to group, skipping.\n",
      "WARNING:pdfminer.layout:Too many boxes (329) to group, skipping.\n",
      "WARNING:pdfminer.layout:Too many boxes (265) to group, skipping.\n",
      "WARNING:pdfminer.layout:Too many boxes (234) to group, skipping.\n",
      "WARNING:pdfminer.layout:Too many boxes (320) to group, skipping.\n",
      "WARNING:pdfminer.layout:Too many boxes (425) to group, skipping.\n",
      "WARNING:pdfminer.layout:Too many boxes (329) to group, skipping.\n",
      "WARNING:pdfminer.layout:Too many boxes (329) to group, skipping.\n",
      "WARNING:pdfminer.layout:Too many boxes (195) to group, skipping.\n",
      "WARNING:pdfminer.layout:Too many boxes (317) to group, skipping.\n",
      "WARNING:pdfminer.layout:Too many boxes (278) to group, skipping.\n",
      "WARNING:pdfminer.layout:Too many boxes (329) to group, skipping.\n",
      "WARNING:pdfminer.layout:Too many boxes (329) to group, skipping.\n",
      "WARNING:pdfminer.layout:Too many boxes (193) to group, skipping.\n"
     ]
    },
    {
     "name": "stdout",
     "output_type": "stream",
     "text": [
      "['New Hampshire', '96% of graduates', '535', '528', '1063']\n"
     ]
    },
    {
     "name": "stderr",
     "output_type": "stream",
     "text": [
      "WARNING:pdfminer.layout:Too many boxes (331) to group, skipping.\n",
      "WARNING:pdfminer.layout:Too many boxes (226) to group, skipping.\n",
      "WARNING:pdfminer.layout:Too many boxes (359) to group, skipping.\n",
      "WARNING:pdfminer.layout:Too many boxes (275) to group, skipping.\n",
      "WARNING:pdfminer.layout:Too many boxes (234) to group, skipping.\n",
      "WARNING:pdfminer.layout:Too many boxes (334) to group, skipping.\n",
      "WARNING:pdfminer.layout:Too many boxes (425) to group, skipping.\n",
      "WARNING:pdfminer.layout:Too many boxes (359) to group, skipping.\n",
      "WARNING:pdfminer.layout:Too many boxes (359) to group, skipping.\n",
      "WARNING:pdfminer.layout:Too many boxes (197) to group, skipping.\n",
      "WARNING:pdfminer.layout:Too many boxes (327) to group, skipping.\n",
      "WARNING:pdfminer.layout:Too many boxes (278) to group, skipping.\n",
      "WARNING:pdfminer.layout:Too many boxes (359) to group, skipping.\n",
      "WARNING:pdfminer.layout:Too many boxes (329) to group, skipping.\n",
      "WARNING:pdfminer.layout:Too many boxes (193) to group, skipping.\n"
     ]
    },
    {
     "name": "stdout",
     "output_type": "stream",
     "text": [
      "['New York', '79% of graduates', '534', '534', '1068']\n"
     ]
    },
    {
     "name": "stderr",
     "output_type": "stream",
     "text": [
      "WARNING:pdfminer.layout:Too many boxes (317) to group, skipping.\n",
      "WARNING:pdfminer.layout:Too many boxes (226) to group, skipping.\n",
      "WARNING:pdfminer.layout:Too many boxes (329) to group, skipping.\n",
      "WARNING:pdfminer.layout:Too many boxes (249) to group, skipping.\n",
      "WARNING:pdfminer.layout:Too many boxes (234) to group, skipping.\n",
      "WARNING:pdfminer.layout:Too many boxes (334) to group, skipping.\n",
      "WARNING:pdfminer.layout:Too many boxes (425) to group, skipping.\n",
      "WARNING:pdfminer.layout:Too many boxes (359) to group, skipping.\n",
      "WARNING:pdfminer.layout:Too many boxes (359) to group, skipping.\n",
      "WARNING:pdfminer.layout:Too many boxes (195) to group, skipping.\n",
      "WARNING:pdfminer.layout:Too many boxes (327) to group, skipping.\n",
      "WARNING:pdfminer.layout:Too many boxes (278) to group, skipping.\n",
      "WARNING:pdfminer.layout:Too many boxes (359) to group, skipping.\n",
      "WARNING:pdfminer.layout:Too many boxes (329) to group, skipping.\n",
      "WARNING:pdfminer.layout:Too many boxes (193) to group, skipping.\n"
     ]
    },
    {
     "name": "stdout",
     "output_type": "stream",
     "text": [
      "['Oklahoma', '8% of graduates', '541', '521', '1062']\n"
     ]
    },
    {
     "name": "stderr",
     "output_type": "stream",
     "text": [
      "WARNING:pdfminer.layout:Too many boxes (321) to group, skipping.\n",
      "WARNING:pdfminer.layout:Too many boxes (224) to group, skipping.\n",
      "WARNING:pdfminer.layout:Too many boxes (359) to group, skipping.\n",
      "WARNING:pdfminer.layout:Too many boxes (249) to group, skipping.\n",
      "WARNING:pdfminer.layout:Too many boxes (234) to group, skipping.\n",
      "WARNING:pdfminer.layout:Too many boxes (334) to group, skipping.\n",
      "WARNING:pdfminer.layout:Too many boxes (425) to group, skipping.\n",
      "WARNING:pdfminer.layout:Too many boxes (359) to group, skipping.\n",
      "WARNING:pdfminer.layout:Too many boxes (359) to group, skipping.\n",
      "WARNING:pdfminer.layout:Too many boxes (195) to group, skipping.\n",
      "WARNING:pdfminer.layout:Too many boxes (320) to group, skipping.\n",
      "WARNING:pdfminer.layout:Too many boxes (271) to group, skipping.\n",
      "WARNING:pdfminer.layout:Too many boxes (359) to group, skipping.\n",
      "WARNING:pdfminer.layout:Too many boxes (299) to group, skipping.\n",
      "WARNING:pdfminer.layout:Too many boxes (193) to group, skipping.\n"
     ]
    },
    {
     "name": "stdout",
     "output_type": "stream",
     "text": [
      "['Nevada', '23% of graduates', '574', '566', '1140']\n"
     ]
    },
    {
     "name": "stderr",
     "output_type": "stream",
     "text": [
      "WARNING:pdfminer.layout:Too many boxes (331) to group, skipping.\n",
      "WARNING:pdfminer.layout:Too many boxes (226) to group, skipping.\n",
      "WARNING:pdfminer.layout:Too many boxes (359) to group, skipping.\n",
      "WARNING:pdfminer.layout:Too many boxes (278) to group, skipping.\n",
      "WARNING:pdfminer.layout:Too many boxes (234) to group, skipping.\n",
      "WARNING:pdfminer.layout:Too many boxes (334) to group, skipping.\n",
      "WARNING:pdfminer.layout:Too many boxes (425) to group, skipping.\n",
      "WARNING:pdfminer.layout:Too many boxes (359) to group, skipping.\n",
      "WARNING:pdfminer.layout:Too many boxes (359) to group, skipping.\n",
      "WARNING:pdfminer.layout:Too many boxes (195) to group, skipping.\n",
      "WARNING:pdfminer.layout:Too many boxes (334) to group, skipping.\n",
      "WARNING:pdfminer.layout:Too many boxes (278) to group, skipping.\n",
      "WARNING:pdfminer.layout:Too many boxes (359) to group, skipping.\n",
      "WARNING:pdfminer.layout:Too many boxes (359) to group, skipping.\n",
      "WARNING:pdfminer.layout:Too many boxes (193) to group, skipping.\n"
     ]
    },
    {
     "name": "stdout",
     "output_type": "stream",
     "text": [
      "['Washington', '69% of graduates', '543', '538', '1081']\n"
     ]
    },
    {
     "name": "stderr",
     "output_type": "stream",
     "text": [
      "WARNING:pdfminer.layout:Too many boxes (331) to group, skipping.\n",
      "WARNING:pdfminer.layout:Too many boxes (226) to group, skipping.\n",
      "WARNING:pdfminer.layout:Too many boxes (359) to group, skipping.\n",
      "WARNING:pdfminer.layout:Too many boxes (275) to group, skipping.\n",
      "WARNING:pdfminer.layout:Too many boxes (234) to group, skipping.\n",
      "WARNING:pdfminer.layout:Too many boxes (334) to group, skipping.\n",
      "WARNING:pdfminer.layout:Too many boxes (425) to group, skipping.\n",
      "WARNING:pdfminer.layout:Too many boxes (359) to group, skipping.\n",
      "WARNING:pdfminer.layout:Too many boxes (359) to group, skipping.\n",
      "WARNING:pdfminer.layout:Too many boxes (197) to group, skipping.\n",
      "WARNING:pdfminer.layout:Too many boxes (327) to group, skipping.\n",
      "WARNING:pdfminer.layout:Too many boxes (278) to group, skipping.\n",
      "WARNING:pdfminer.layout:Too many boxes (359) to group, skipping.\n",
      "WARNING:pdfminer.layout:Too many boxes (329) to group, skipping.\n",
      "WARNING:pdfminer.layout:Too many boxes (193) to group, skipping.\n"
     ]
    },
    {
     "name": "stdout",
     "output_type": "stream",
     "text": [
      "['New Jersey', '82% of graduates', '547', '547', '1094']\n"
     ]
    },
    {
     "name": "stderr",
     "output_type": "stream",
     "text": [
      "WARNING:pdfminer.layout:Too many boxes (317) to group, skipping.\n",
      "WARNING:pdfminer.layout:Too many boxes (225) to group, skipping.\n",
      "WARNING:pdfminer.layout:Too many boxes (329) to group, skipping.\n",
      "WARNING:pdfminer.layout:Too many boxes (268) to group, skipping.\n",
      "WARNING:pdfminer.layout:Too many boxes (234) to group, skipping.\n",
      "WARNING:pdfminer.layout:Too many boxes (327) to group, skipping.\n",
      "WARNING:pdfminer.layout:Too many boxes (425) to group, skipping.\n",
      "WARNING:pdfminer.layout:Too many boxes (329) to group, skipping.\n",
      "WARNING:pdfminer.layout:Too many boxes (359) to group, skipping.\n",
      "WARNING:pdfminer.layout:Too many boxes (196) to group, skipping.\n",
      "WARNING:pdfminer.layout:Too many boxes (289) to group, skipping.\n",
      "WARNING:pdfminer.layout:Too many boxes (249) to group, skipping.\n",
      "WARNING:pdfminer.layout:Too many boxes (299) to group, skipping.\n",
      "WARNING:pdfminer.layout:Too many boxes (299) to group, skipping.\n",
      "WARNING:pdfminer.layout:Too many boxes (193) to group, skipping.\n"
     ]
    },
    {
     "name": "stdout",
     "output_type": "stream",
     "text": [
      "['Hawaii', '56% of graduates', '550', '549', '1099']\n"
     ]
    },
    {
     "name": "stderr",
     "output_type": "stream",
     "text": [
      "WARNING:pdfminer.layout:Too many boxes (324) to group, skipping.\n",
      "WARNING:pdfminer.layout:Too many boxes (225) to group, skipping.\n",
      "WARNING:pdfminer.layout:Too many boxes (329) to group, skipping.\n",
      "WARNING:pdfminer.layout:Too many boxes (244) to group, skipping.\n",
      "WARNING:pdfminer.layout:Too many boxes (234) to group, skipping.\n",
      "WARNING:pdfminer.layout:Too many boxes (317) to group, skipping.\n",
      "WARNING:pdfminer.layout:Too many boxes (425) to group, skipping.\n",
      "WARNING:pdfminer.layout:Too many boxes (329) to group, skipping.\n",
      "WARNING:pdfminer.layout:Too many boxes (329) to group, skipping.\n",
      "WARNING:pdfminer.layout:Too many boxes (195) to group, skipping.\n",
      "WARNING:pdfminer.layout:Too many boxes (313) to group, skipping.\n",
      "WARNING:pdfminer.layout:Too many boxes (271) to group, skipping.\n",
      "WARNING:pdfminer.layout:Too many boxes (329) to group, skipping.\n",
      "WARNING:pdfminer.layout:Too many boxes (329) to group, skipping.\n",
      "WARNING:pdfminer.layout:Too many boxes (193) to group, skipping.\n"
     ]
    },
    {
     "name": "stdout",
     "output_type": "stream",
     "text": [
      "['West Virginia', '28% of graduates', '513', '486', '999']\n"
     ]
    },
    {
     "name": "stderr",
     "output_type": "stream",
     "text": [
      "WARNING:pdfminer.layout:Too many boxes (324) to group, skipping.\n",
      "WARNING:pdfminer.layout:Too many boxes (224) to group, skipping.\n",
      "WARNING:pdfminer.layout:Too many boxes (359) to group, skipping.\n",
      "WARNING:pdfminer.layout:Too many boxes (272) to group, skipping.\n",
      "WARNING:pdfminer.layout:Too many boxes (234) to group, skipping.\n",
      "WARNING:pdfminer.layout:Too many boxes (334) to group, skipping.\n",
      "WARNING:pdfminer.layout:Too many boxes (425) to group, skipping.\n",
      "WARNING:pdfminer.layout:Too many boxes (359) to group, skipping.\n",
      "WARNING:pdfminer.layout:Too many boxes (359) to group, skipping.\n",
      "WARNING:pdfminer.layout:Too many boxes (196) to group, skipping.\n",
      "WARNING:pdfminer.layout:Too many boxes (327) to group, skipping.\n",
      "WARNING:pdfminer.layout:Too many boxes (278) to group, skipping.\n",
      "WARNING:pdfminer.layout:Too many boxes (359) to group, skipping.\n",
      "WARNING:pdfminer.layout:Too many boxes (329) to group, skipping.\n",
      "WARNING:pdfminer.layout:Too many boxes (193) to group, skipping.\n"
     ]
    },
    {
     "name": "stdout",
     "output_type": "stream",
     "text": [
      "['Arizona', '29% of graduates', '577', '572', '1149']\n"
     ]
    },
    {
     "name": "stderr",
     "output_type": "stream",
     "text": [
      "WARNING:pdfminer.layout:Too many boxes (324) to group, skipping.\n",
      "WARNING:pdfminer.layout:Too many boxes (225) to group, skipping.\n",
      "WARNING:pdfminer.layout:Too many boxes (359) to group, skipping.\n",
      "WARNING:pdfminer.layout:Too many boxes (272) to group, skipping.\n",
      "WARNING:pdfminer.layout:Too many boxes (234) to group, skipping.\n",
      "WARNING:pdfminer.layout:Too many boxes (334) to group, skipping.\n",
      "WARNING:pdfminer.layout:Too many boxes (425) to group, skipping.\n",
      "WARNING:pdfminer.layout:Too many boxes (359) to group, skipping.\n",
      "WARNING:pdfminer.layout:Too many boxes (359) to group, skipping.\n",
      "WARNING:pdfminer.layout:Too many boxes (196) to group, skipping.\n",
      "WARNING:pdfminer.layout:Too many boxes (334) to group, skipping.\n",
      "WARNING:pdfminer.layout:Too many boxes (278) to group, skipping.\n",
      "WARNING:pdfminer.layout:Too many boxes (359) to group, skipping.\n",
      "WARNING:pdfminer.layout:Too many boxes (359) to group, skipping.\n",
      "WARNING:pdfminer.layout:Too many boxes (193) to group, skipping.\n"
     ]
    },
    {
     "name": "stdout",
     "output_type": "stream",
     "text": [
      "['Oregon', '48% of graduates', '564', '553', '1117']\n"
     ]
    },
    {
     "name": "stderr",
     "output_type": "stream",
     "text": [
      "WARNING:pdfminer.layout:Too many boxes (314) to group, skipping.\n",
      "WARNING:pdfminer.layout:Too many boxes (226) to group, skipping.\n",
      "WARNING:pdfminer.layout:Too many boxes (329) to group, skipping.\n",
      "WARNING:pdfminer.layout:Too many boxes (246) to group, skipping.\n",
      "WARNING:pdfminer.layout:Too many boxes (234) to group, skipping.\n",
      "WARNING:pdfminer.layout:Too many boxes (334) to group, skipping.\n",
      "WARNING:pdfminer.layout:Too many boxes (425) to group, skipping.\n",
      "WARNING:pdfminer.layout:Too many boxes (359) to group, skipping.\n",
      "WARNING:pdfminer.layout:Too many boxes (359) to group, skipping.\n",
      "WARNING:pdfminer.layout:Too many boxes (196) to group, skipping.\n",
      "WARNING:pdfminer.layout:Too many boxes (317) to group, skipping.\n",
      "WARNING:pdfminer.layout:Too many boxes (278) to group, skipping.\n",
      "WARNING:pdfminer.layout:Too many boxes (329) to group, skipping.\n",
      "WARNING:pdfminer.layout:Too many boxes (329) to group, skipping.\n",
      "WARNING:pdfminer.layout:Too many boxes (193) to group, skipping.\n"
     ]
    },
    {
     "name": "stdout",
     "output_type": "stream",
     "text": [
      "['New Mexico', '16% of graduates', '552', '540', '1093']\n"
     ]
    },
    {
     "name": "stderr",
     "output_type": "stream",
     "text": [
      "WARNING:pdfminer.layout:Too many boxes (331) to group, skipping.\n",
      "WARNING:pdfminer.layout:Too many boxes (226) to group, skipping.\n",
      "WARNING:pdfminer.layout:Too many boxes (359) to group, skipping.\n",
      "WARNING:pdfminer.layout:Too many boxes (275) to group, skipping.\n",
      "WARNING:pdfminer.layout:Too many boxes (234) to group, skipping.\n",
      "WARNING:pdfminer.layout:Too many boxes (334) to group, skipping.\n",
      "WARNING:pdfminer.layout:Too many boxes (425) to group, skipping.\n",
      "WARNING:pdfminer.layout:Too many boxes (359) to group, skipping.\n",
      "WARNING:pdfminer.layout:Too many boxes (359) to group, skipping.\n",
      "WARNING:pdfminer.layout:Too many boxes (197) to group, skipping.\n",
      "WARNING:pdfminer.layout:Too many boxes (334) to group, skipping.\n",
      "WARNING:pdfminer.layout:Too many boxes (278) to group, skipping.\n",
      "WARNING:pdfminer.layout:Too many boxes (359) to group, skipping.\n",
      "WARNING:pdfminer.layout:Too many boxes (359) to group, skipping.\n",
      "WARNING:pdfminer.layout:Too many boxes (193) to group, skipping.\n"
     ]
    },
    {
     "name": "stdout",
     "output_type": "stream",
     "text": [
      "['Maryland', '76% of graduates', '545', '535', '1080']\n"
     ]
    },
    {
     "name": "stderr",
     "output_type": "stream",
     "text": [
      "WARNING:pdfminer.layout:Too many boxes (242) to group, skipping.\n",
      "WARNING:pdfminer.layout:Too many boxes (223) to group, skipping.\n",
      "WARNING:pdfminer.layout:Too many boxes (209) to group, skipping.\n",
      "WARNING:pdfminer.layout:Too many boxes (156) to group, skipping.\n",
      "WARNING:pdfminer.layout:Too many boxes (234) to group, skipping.\n",
      "WARNING:pdfminer.layout:Too many boxes (275) to group, skipping.\n",
      "WARNING:pdfminer.layout:Too many boxes (375) to group, skipping.\n",
      "WARNING:pdfminer.layout:Too many boxes (299) to group, skipping.\n",
      "WARNING:pdfminer.layout:Too many boxes (239) to group, skipping.\n",
      "WARNING:pdfminer.layout:Too many boxes (188) to group, skipping.\n",
      "WARNING:pdfminer.layout:Too many boxes (199) to group, skipping.\n",
      "WARNING:pdfminer.layout:Too many boxes (145) to group, skipping.\n",
      "WARNING:pdfminer.layout:Too many boxes (179) to group, skipping.\n",
      "WARNING:pdfminer.layout:Too many boxes (179) to group, skipping.\n",
      "WARNING:pdfminer.layout:Too many boxes (193) to group, skipping.\n"
     ]
    },
    {
     "name": "stdout",
     "output_type": "stream",
     "text": [
      "['Wyoming', '3% of graduates', '633', '625', '1257']\n"
     ]
    },
    {
     "name": "stderr",
     "output_type": "stream",
     "text": [
      "WARNING:pdfminer.layout:Too many boxes (331) to group, skipping.\n",
      "WARNING:pdfminer.layout:Too many boxes (226) to group, skipping.\n",
      "WARNING:pdfminer.layout:Too many boxes (359) to group, skipping.\n",
      "WARNING:pdfminer.layout:Too many boxes (275) to group, skipping.\n",
      "WARNING:pdfminer.layout:Too many boxes (234) to group, skipping.\n",
      "WARNING:pdfminer.layout:Too many boxes (334) to group, skipping.\n",
      "WARNING:pdfminer.layout:Too many boxes (425) to group, skipping.\n",
      "WARNING:pdfminer.layout:Too many boxes (359) to group, skipping.\n",
      "WARNING:pdfminer.layout:Too many boxes (359) to group, skipping.\n",
      "WARNING:pdfminer.layout:Too many boxes (197) to group, skipping.\n",
      "WARNING:pdfminer.layout:Too many boxes (334) to group, skipping.\n",
      "WARNING:pdfminer.layout:Too many boxes (278) to group, skipping.\n",
      "WARNING:pdfminer.layout:Too many boxes (359) to group, skipping.\n",
      "WARNING:pdfminer.layout:Too many boxes (359) to group, skipping.\n",
      "WARNING:pdfminer.layout:Too many boxes (193) to group, skipping.\n"
     ]
    },
    {
     "name": "stdout",
     "output_type": "stream",
     "text": [
      "['Georgia', '70% of graduates', '542', '522', '1064']\n"
     ]
    },
    {
     "name": "stderr",
     "output_type": "stream",
     "text": [
      "WARNING:pdfminer.layout:Too many boxes (324) to group, skipping.\n",
      "WARNING:pdfminer.layout:Too many boxes (226) to group, skipping.\n",
      "WARNING:pdfminer.layout:Too many boxes (359) to group, skipping.\n",
      "WARNING:pdfminer.layout:Too many boxes (271) to group, skipping.\n",
      "WARNING:pdfminer.layout:Too many boxes (234) to group, skipping.\n",
      "WARNING:pdfminer.layout:Too many boxes (334) to group, skipping.\n",
      "WARNING:pdfminer.layout:Too many boxes (425) to group, skipping.\n",
      "WARNING:pdfminer.layout:Too many boxes (359) to group, skipping.\n",
      "WARNING:pdfminer.layout:Too many boxes (359) to group, skipping.\n",
      "WARNING:pdfminer.layout:Too many boxes (196) to group, skipping.\n",
      "WARNING:pdfminer.layout:Too many boxes (334) to group, skipping.\n",
      "WARNING:pdfminer.layout:Too many boxes (278) to group, skipping.\n",
      "WARNING:pdfminer.layout:Too many boxes (359) to group, skipping.\n",
      "WARNING:pdfminer.layout:Too many boxes (359) to group, skipping.\n",
      "WARNING:pdfminer.layout:Too many boxes (193) to group, skipping.\n"
     ]
    },
    {
     "name": "stdout",
     "output_type": "stream",
     "text": [
      "['Ohio', '18% of graduates', '552', '547', '1099']\n"
     ]
    },
    {
     "name": "stderr",
     "output_type": "stream",
     "text": [
      "WARNING:pdfminer.layout:Too many boxes (317) to group, skipping.\n",
      "WARNING:pdfminer.layout:Too many boxes (226) to group, skipping.\n",
      "WARNING:pdfminer.layout:Too many boxes (329) to group, skipping.\n",
      "WARNING:pdfminer.layout:Too many boxes (266) to group, skipping.\n",
      "WARNING:pdfminer.layout:Too many boxes (234) to group, skipping.\n",
      "WARNING:pdfminer.layout:Too many boxes (334) to group, skipping.\n",
      "WARNING:pdfminer.layout:Too many boxes (425) to group, skipping.\n",
      "WARNING:pdfminer.layout:Too many boxes (359) to group, skipping.\n",
      "WARNING:pdfminer.layout:Too many boxes (359) to group, skipping.\n",
      "WARNING:pdfminer.layout:Too many boxes (195) to group, skipping.\n",
      "WARNING:pdfminer.layout:Too many boxes (274) to group, skipping.\n",
      "WARNING:pdfminer.layout:Too many boxes (234) to group, skipping.\n",
      "WARNING:pdfminer.layout:Too many boxes (329) to group, skipping.\n",
      "WARNING:pdfminer.layout:Too many boxes (179) to group, skipping.\n",
      "WARNING:pdfminer.layout:Too many boxes (193) to group, skipping.\n"
     ]
    },
    {
     "name": "stdout",
     "output_type": "stream",
     "text": [
      "['Maine', '99% of graduates', '512', '501', '1013']\n"
     ]
    },
    {
     "name": "stderr",
     "output_type": "stream",
     "text": [
      "WARNING:pdfminer.layout:Too many boxes (314) to group, skipping.\n",
      "WARNING:pdfminer.layout:Too many boxes (224) to group, skipping.\n",
      "WARNING:pdfminer.layout:Too many boxes (329) to group, skipping.\n",
      "WARNING:pdfminer.layout:Too many boxes (249) to group, skipping.\n",
      "WARNING:pdfminer.layout:Too many boxes (234) to group, skipping.\n",
      "WARNING:pdfminer.layout:Too many boxes (317) to group, skipping.\n",
      "WARNING:pdfminer.layout:Too many boxes (425) to group, skipping.\n",
      "WARNING:pdfminer.layout:Too many boxes (329) to group, skipping.\n",
      "WARNING:pdfminer.layout:Too many boxes (329) to group, skipping.\n",
      "WARNING:pdfminer.layout:Too many boxes (194) to group, skipping.\n",
      "WARNING:pdfminer.layout:Too many boxes (192) to group, skipping.\n",
      "WARNING:pdfminer.layout:Too many boxes (174) to group, skipping.\n",
      "WARNING:pdfminer.layout:Too many boxes (179) to group, skipping.\n",
      "WARNING:pdfminer.layout:Too many boxes (169) to group, skipping.\n"
     ]
    },
    {
     "name": "stdout",
     "output_type": "stream",
     "text": [
      "['Vermont', '64% of graduates', '565', '554', '1120']\n"
     ]
    },
    {
     "name": "stderr",
     "output_type": "stream",
     "text": [
      "WARNING:pdfminer.layout:Too many boxes (331) to group, skipping.\n",
      "WARNING:pdfminer.layout:Too many boxes (226) to group, skipping.\n",
      "WARNING:pdfminer.layout:Too many boxes (359) to group, skipping.\n",
      "WARNING:pdfminer.layout:Too many boxes (281) to group, skipping.\n",
      "WARNING:pdfminer.layout:Too many boxes (234) to group, skipping.\n",
      "WARNING:pdfminer.layout:Too many boxes (334) to group, skipping.\n",
      "WARNING:pdfminer.layout:Too many boxes (425) to group, skipping.\n",
      "WARNING:pdfminer.layout:Too many boxes (359) to group, skipping.\n",
      "WARNING:pdfminer.layout:Too many boxes (359) to group, skipping.\n",
      "WARNING:pdfminer.layout:Too many boxes (196) to group, skipping.\n",
      "WARNING:pdfminer.layout:Too many boxes (334) to group, skipping.\n",
      "WARNING:pdfminer.layout:Too many boxes (278) to group, skipping.\n",
      "WARNING:pdfminer.layout:Too many boxes (359) to group, skipping.\n",
      "WARNING:pdfminer.layout:Too many boxes (359) to group, skipping.\n",
      "WARNING:pdfminer.layout:Too many boxes (193) to group, skipping.\n"
     ]
    },
    {
     "name": "stdout",
     "output_type": "stream",
     "text": [
      "['Illinois', '99% of graduates', '513', '506', '1019']\n"
     ]
    },
    {
     "name": "stderr",
     "output_type": "stream",
     "text": [
      "WARNING:pdfminer.layout:Too many boxes (324) to group, skipping.\n",
      "WARNING:pdfminer.layout:Too many boxes (226) to group, skipping.\n",
      "WARNING:pdfminer.layout:Too many boxes (359) to group, skipping.\n",
      "WARNING:pdfminer.layout:Too many boxes (278) to group, skipping.\n",
      "WARNING:pdfminer.layout:Too many boxes (234) to group, skipping.\n",
      "WARNING:pdfminer.layout:Too many boxes (334) to group, skipping.\n",
      "WARNING:pdfminer.layout:Too many boxes (425) to group, skipping.\n",
      "WARNING:pdfminer.layout:Too many boxes (359) to group, skipping.\n",
      "WARNING:pdfminer.layout:Too many boxes (359) to group, skipping.\n",
      "WARNING:pdfminer.layout:Too many boxes (197) to group, skipping.\n",
      "WARNING:pdfminer.layout:Too many boxes (320) to group, skipping.\n",
      "WARNING:pdfminer.layout:Too many boxes (278) to group, skipping.\n",
      "WARNING:pdfminer.layout:Too many boxes (329) to group, skipping.\n",
      "WARNING:pdfminer.layout:Too many boxes (329) to group, skipping.\n",
      "WARNING:pdfminer.layout:Too many boxes (193) to group, skipping.\n"
     ]
    },
    {
     "name": "stdout",
     "output_type": "stream",
     "text": [
      "['North Carolina', '52% of graduates', '554', '543', '1098']\n"
     ]
    },
    {
     "name": "stderr",
     "output_type": "stream",
     "text": [
      "WARNING:pdfminer.layout:Too many boxes (324) to group, skipping.\n",
      "WARNING:pdfminer.layout:Too many boxes (224) to group, skipping.\n",
      "WARNING:pdfminer.layout:Too many boxes (359) to group, skipping.\n",
      "WARNING:pdfminer.layout:Too many boxes (253) to group, skipping.\n",
      "WARNING:pdfminer.layout:Too many boxes (229) to group, skipping.\n",
      "WARNING:pdfminer.layout:Too many boxes (334) to group, skipping.\n",
      "WARNING:pdfminer.layout:Too many boxes (411) to group, skipping.\n",
      "WARNING:pdfminer.layout:Too many boxes (359) to group, skipping.\n",
      "WARNING:pdfminer.layout:Too many boxes (359) to group, skipping.\n",
      "WARNING:pdfminer.layout:Too many boxes (193) to group, skipping.\n",
      "WARNING:pdfminer.layout:Too many boxes (230) to group, skipping.\n",
      "WARNING:pdfminer.layout:Too many boxes (171) to group, skipping.\n",
      "WARNING:pdfminer.layout:Too many boxes (149) to group, skipping.\n",
      "WARNING:pdfminer.layout:Too many boxes (239) to group, skipping.\n",
      "WARNING:pdfminer.layout:Too many boxes (193) to group, skipping.\n"
     ]
    },
    {
     "name": "stdout",
     "output_type": "stream",
     "text": [
      "['Alaska', '43% of graduates', '562', '544', '1106']\n"
     ]
    },
    {
     "name": "stderr",
     "output_type": "stream",
     "text": [
      "WARNING:pdfminer.layout:Too many boxes (309) to group, skipping.\n",
      "WARNING:pdfminer.layout:Too many boxes (223) to group, skipping.\n",
      "WARNING:pdfminer.layout:Too many boxes (299) to group, skipping.\n",
      "WARNING:pdfminer.layout:Too many boxes (211) to group, skipping.\n",
      "WARNING:pdfminer.layout:Too many boxes (234) to group, skipping.\n",
      "WARNING:pdfminer.layout:Too many boxes (334) to group, skipping.\n",
      "WARNING:pdfminer.layout:Too many boxes (425) to group, skipping.\n",
      "WARNING:pdfminer.layout:Too many boxes (359) to group, skipping.\n",
      "WARNING:pdfminer.layout:Too many boxes (359) to group, skipping.\n",
      "WARNING:pdfminer.layout:Too many boxes (194) to group, skipping.\n",
      "WARNING:pdfminer.layout:Too many boxes (289) to group, skipping.\n",
      "WARNING:pdfminer.layout:Too many boxes (271) to group, skipping.\n",
      "WARNING:pdfminer.layout:Too many boxes (269) to group, skipping.\n",
      "WARNING:pdfminer.layout:Too many boxes (329) to group, skipping.\n",
      "WARNING:pdfminer.layout:Too many boxes (193) to group, skipping.\n"
     ]
    },
    {
     "name": "stdout",
     "output_type": "stream",
     "text": [
      "['Utah', '4% of graduates', '618', '612', '1230']\n"
     ]
    },
    {
     "name": "stderr",
     "output_type": "stream",
     "text": [
      "WARNING:pdfminer.layout:Too many boxes (331) to group, skipping.\n",
      "WARNING:pdfminer.layout:Too many boxes (226) to group, skipping.\n",
      "WARNING:pdfminer.layout:Too many boxes (359) to group, skipping.\n",
      "WARNING:pdfminer.layout:Too many boxes (281) to group, skipping.\n",
      "WARNING:pdfminer.layout:Too many boxes (234) to group, skipping.\n",
      "WARNING:pdfminer.layout:Too many boxes (334) to group, skipping.\n",
      "WARNING:pdfminer.layout:Too many boxes (425) to group, skipping.\n",
      "WARNING:pdfminer.layout:Too many boxes (359) to group, skipping.\n",
      "WARNING:pdfminer.layout:Too many boxes (359) to group, skipping.\n",
      "WARNING:pdfminer.layout:Too many boxes (197) to group, skipping.\n",
      "WARNING:pdfminer.layout:Too many boxes (327) to group, skipping.\n",
      "WARNING:pdfminer.layout:Too many boxes (278) to group, skipping.\n",
      "WARNING:pdfminer.layout:Too many boxes (359) to group, skipping.\n",
      "WARNING:pdfminer.layout:Too many boxes (329) to group, skipping.\n",
      "WARNING:pdfminer.layout:Too many boxes (193) to group, skipping.\n"
     ]
    },
    {
     "name": "stdout",
     "output_type": "stream",
     "text": [
      "['Pennsylvania', '70% of graduates', '547', '539', '1086']\n"
     ]
    },
    {
     "name": "stderr",
     "output_type": "stream",
     "text": [
      "WARNING:pdfminer.layout:Too many boxes (324) to group, skipping.\n",
      "WARNING:pdfminer.layout:Too many boxes (224) to group, skipping.\n",
      "WARNING:pdfminer.layout:Too many boxes (359) to group, skipping.\n",
      "WARNING:pdfminer.layout:Too many boxes (269) to group, skipping.\n",
      "WARNING:pdfminer.layout:Too many boxes (234) to group, skipping.\n",
      "WARNING:pdfminer.layout:Too many boxes (334) to group, skipping.\n",
      "WARNING:pdfminer.layout:Too many boxes (425) to group, skipping.\n",
      "WARNING:pdfminer.layout:Too many boxes (359) to group, skipping.\n",
      "WARNING:pdfminer.layout:Too many boxes (359) to group, skipping.\n",
      "WARNING:pdfminer.layout:Too many boxes (196) to group, skipping.\n",
      "WARNING:pdfminer.layout:Too many boxes (310) to group, skipping.\n",
      "WARNING:pdfminer.layout:Too many boxes (278) to group, skipping.\n",
      "WARNING:pdfminer.layout:Too many boxes (329) to group, skipping.\n",
      "WARNING:pdfminer.layout:Too many boxes (299) to group, skipping.\n",
      "WARNING:pdfminer.layout:Too many boxes (193) to group, skipping.\n"
     ]
    },
    {
     "name": "stdout",
     "output_type": "stream",
     "text": [
      "['Idaho', '100% of graduates', '508', '493', '1001']\n"
     ]
    },
    {
     "name": "stderr",
     "output_type": "stream",
     "text": [
      "WARNING:pdfminer.layout:Too many boxes (331) to group, skipping.\n",
      "WARNING:pdfminer.layout:Too many boxes (226) to group, skipping.\n",
      "WARNING:pdfminer.layout:Too many boxes (359) to group, skipping.\n",
      "WARNING:pdfminer.layout:Too many boxes (281) to group, skipping.\n",
      "WARNING:pdfminer.layout:Too many boxes (234) to group, skipping.\n",
      "WARNING:pdfminer.layout:Too many boxes (334) to group, skipping.\n",
      "WARNING:pdfminer.layout:Too many boxes (425) to group, skipping.\n",
      "WARNING:pdfminer.layout:Too many boxes (359) to group, skipping.\n",
      "WARNING:pdfminer.layout:Too many boxes (359) to group, skipping.\n",
      "WARNING:pdfminer.layout:Too many boxes (199) to group, skipping.\n",
      "WARNING:pdfminer.layout:Too many boxes (334) to group, skipping.\n",
      "WARNING:pdfminer.layout:Too many boxes (278) to group, skipping.\n",
      "WARNING:pdfminer.layout:Too many boxes (359) to group, skipping.\n",
      "WARNING:pdfminer.layout:Too many boxes (359) to group, skipping.\n",
      "WARNING:pdfminer.layout:Too many boxes (193) to group, skipping.\n"
     ]
    },
    {
     "name": "stdout",
     "output_type": "stream",
     "text": [
      "['Texas', '66% of graduates', '520', '512', '1032']\n"
     ]
    },
    {
     "name": "stderr",
     "output_type": "stream",
     "text": [
      "WARNING:pdfminer.layout:Too many boxes (299) to group, skipping.\n",
      "WARNING:pdfminer.layout:Too many boxes (224) to group, skipping.\n",
      "WARNING:pdfminer.layout:Too many boxes (299) to group, skipping.\n",
      "WARNING:pdfminer.layout:Too many boxes (194) to group, skipping.\n",
      "WARNING:pdfminer.layout:Too many boxes (234) to group, skipping.\n",
      "WARNING:pdfminer.layout:Too many boxes (320) to group, skipping.\n",
      "WARNING:pdfminer.layout:Too many boxes (418) to group, skipping.\n",
      "WARNING:pdfminer.layout:Too many boxes (329) to group, skipping.\n",
      "WARNING:pdfminer.layout:Too many boxes (329) to group, skipping.\n",
      "WARNING:pdfminer.layout:Too many boxes (195) to group, skipping.\n",
      "WARNING:pdfminer.layout:Too many boxes (307) to group, skipping.\n",
      "WARNING:pdfminer.layout:Too many boxes (250) to group, skipping.\n",
      "WARNING:pdfminer.layout:Too many boxes (299) to group, skipping.\n",
      "WARNING:pdfminer.layout:Too many boxes (329) to group, skipping.\n",
      "WARNING:pdfminer.layout:Too many boxes (193) to group, skipping.\n"
     ]
    },
    {
     "name": "stdout",
     "output_type": "stream",
     "text": [
      "['Mississippi', '3% of graduates', '630', '606', '1236']\n"
     ]
    },
    {
     "name": "stderr",
     "output_type": "stream",
     "text": [
      "WARNING:pdfminer.layout:Too many boxes (331) to group, skipping.\n",
      "WARNING:pdfminer.layout:Too many boxes (226) to group, skipping.\n",
      "WARNING:pdfminer.layout:Too many boxes (359) to group, skipping.\n",
      "WARNING:pdfminer.layout:Too many boxes (281) to group, skipping.\n",
      "WARNING:pdfminer.layout:Too many boxes (234) to group, skipping.\n",
      "WARNING:pdfminer.layout:Too many boxes (334) to group, skipping.\n",
      "WARNING:pdfminer.layout:Too many boxes (425) to group, skipping.\n",
      "WARNING:pdfminer.layout:Too many boxes (359) to group, skipping.\n",
      "WARNING:pdfminer.layout:Too many boxes (359) to group, skipping.\n",
      "WARNING:pdfminer.layout:Too many boxes (196) to group, skipping.\n",
      "WARNING:pdfminer.layout:Too many boxes (334) to group, skipping.\n",
      "WARNING:pdfminer.layout:Too many boxes (278) to group, skipping.\n",
      "WARNING:pdfminer.layout:Too many boxes (359) to group, skipping.\n",
      "WARNING:pdfminer.layout:Too many boxes (359) to group, skipping.\n",
      "WARNING:pdfminer.layout:Too many boxes (193) to group, skipping.\n"
     ]
    },
    {
     "name": "stdout",
     "output_type": "stream",
     "text": [
      "['Michigan', '100% of graduates', '511', '499', '1011']\n"
     ]
    },
    {
     "name": "stderr",
     "output_type": "stream",
     "text": [
      "WARNING:pdfminer.layout:Too many boxes (314) to group, skipping.\n",
      "WARNING:pdfminer.layout:Too many boxes (224) to group, skipping.\n",
      "WARNING:pdfminer.layout:Too many boxes (329) to group, skipping.\n",
      "WARNING:pdfminer.layout:Too many boxes (231) to group, skipping.\n",
      "WARNING:pdfminer.layout:Too many boxes (234) to group, skipping.\n",
      "WARNING:pdfminer.layout:Too many boxes (334) to group, skipping.\n",
      "WARNING:pdfminer.layout:Too many boxes (425) to group, skipping.\n",
      "WARNING:pdfminer.layout:Too many boxes (359) to group, skipping.\n",
      "WARNING:pdfminer.layout:Too many boxes (359) to group, skipping.\n",
      "WARNING:pdfminer.layout:Too many boxes (198) to group, skipping.\n",
      "WARNING:pdfminer.layout:Too many boxes (326) to group, skipping.\n",
      "WARNING:pdfminer.layout:Too many boxes (278) to group, skipping.\n",
      "WARNING:pdfminer.layout:Too many boxes (359) to group, skipping.\n",
      "WARNING:pdfminer.layout:Too many boxes (329) to group, skipping.\n",
      "WARNING:pdfminer.layout:Too many boxes (193) to group, skipping.\n"
     ]
    },
    {
     "name": "stdout",
     "output_type": "stream",
     "text": [
      "['Alabama', '6% of graduates', '595', '571', '1166']\n"
     ]
    },
    {
     "name": "stderr",
     "output_type": "stream",
     "text": [
      "WARNING:pdfminer.layout:Too many boxes (299) to group, skipping.\n",
      "WARNING:pdfminer.layout:Too many boxes (223) to group, skipping.\n",
      "WARNING:pdfminer.layout:Too many boxes (299) to group, skipping.\n",
      "WARNING:pdfminer.layout:Too many boxes (207) to group, skipping.\n",
      "WARNING:pdfminer.layout:Too many boxes (234) to group, skipping.\n",
      "WARNING:pdfminer.layout:Too many boxes (334) to group, skipping.\n",
      "WARNING:pdfminer.layout:Too many boxes (418) to group, skipping.\n",
      "WARNING:pdfminer.layout:Too many boxes (359) to group, skipping.\n",
      "WARNING:pdfminer.layout:Too many boxes (359) to group, skipping.\n",
      "WARNING:pdfminer.layout:Too many boxes (194) to group, skipping.\n",
      "WARNING:pdfminer.layout:Too many boxes (212) to group, skipping.\n",
      "WARNING:pdfminer.layout:Too many boxes (211) to group, skipping.\n",
      "WARNING:pdfminer.layout:Too many boxes (209) to group, skipping.\n",
      "WARNING:pdfminer.layout:Too many boxes (179) to group, skipping.\n",
      "WARNING:pdfminer.layout:Too many boxes (193) to group, skipping.\n"
     ]
    },
    {
     "name": "stdout",
     "output_type": "stream",
     "text": [
      "['Iowa', '3% of graduates', '634', '631', '1265']\n"
     ]
    },
    {
     "name": "stderr",
     "output_type": "stream",
     "text": [
      "WARNING:pdfminer.layout:Too many boxes (331) to group, skipping.\n",
      "WARNING:pdfminer.layout:Too many boxes (226) to group, skipping.\n",
      "WARNING:pdfminer.layout:Too many boxes (359) to group, skipping.\n",
      "WARNING:pdfminer.layout:Too many boxes (269) to group, skipping.\n",
      "WARNING:pdfminer.layout:Too many boxes (234) to group, skipping.\n",
      "WARNING:pdfminer.layout:Too many boxes (334) to group, skipping.\n",
      "WARNING:pdfminer.layout:Too many boxes (425) to group, skipping.\n",
      "WARNING:pdfminer.layout:Too many boxes (359) to group, skipping.\n",
      "WARNING:pdfminer.layout:Too many boxes (359) to group, skipping.\n",
      "WARNING:pdfminer.layout:Too many boxes (196) to group, skipping.\n",
      "WARNING:pdfminer.layout:Too many boxes (327) to group, skipping.\n",
      "WARNING:pdfminer.layout:Too many boxes (278) to group, skipping.\n",
      "WARNING:pdfminer.layout:Too many boxes (359) to group, skipping.\n",
      "WARNING:pdfminer.layout:Too many boxes (329) to group, skipping.\n",
      "WARNING:pdfminer.layout:Too many boxes (193) to group, skipping.\n"
     ]
    },
    {
     "name": "stdout",
     "output_type": "stream",
     "text": [
      "['Connecticut', '100% of graduates', '535', '519', '1053']\n"
     ]
    },
    {
     "name": "stderr",
     "output_type": "stream",
     "text": [
      "WARNING:pdfminer.layout:Too many boxes (324) to group, skipping.\n",
      "WARNING:pdfminer.layout:Too many boxes (226) to group, skipping.\n",
      "WARNING:pdfminer.layout:Too many boxes (359) to group, skipping.\n",
      "WARNING:pdfminer.layout:Too many boxes (281) to group, skipping.\n",
      "WARNING:pdfminer.layout:Too many boxes (234) to group, skipping.\n",
      "WARNING:pdfminer.layout:Too many boxes (334) to group, skipping.\n",
      "WARNING:pdfminer.layout:Too many boxes (425) to group, skipping.\n",
      "WARNING:pdfminer.layout:Too many boxes (359) to group, skipping.\n",
      "WARNING:pdfminer.layout:Too many boxes (359) to group, skipping.\n",
      "WARNING:pdfminer.layout:Too many boxes (198) to group, skipping.\n",
      "WARNING:pdfminer.layout:Too many boxes (327) to group, skipping.\n",
      "WARNING:pdfminer.layout:Too many boxes (278) to group, skipping.\n",
      "WARNING:pdfminer.layout:Too many boxes (359) to group, skipping.\n",
      "WARNING:pdfminer.layout:Too many boxes (329) to group, skipping.\n",
      "WARNING:pdfminer.layout:Too many boxes (193) to group, skipping.\n"
     ]
    },
    {
     "name": "stdout",
     "output_type": "stream",
     "text": [
      "['Indiana', '67% of graduates', '546', '539', '1086']\n"
     ]
    },
    {
     "name": "stderr",
     "output_type": "stream",
     "text": [
      "WARNING:pdfminer.layout:Too many boxes (306) to group, skipping.\n",
      "WARNING:pdfminer.layout:Too many boxes (223) to group, skipping.\n",
      "WARNING:pdfminer.layout:Too many boxes (299) to group, skipping.\n",
      "WARNING:pdfminer.layout:Too many boxes (205) to group, skipping.\n",
      "WARNING:pdfminer.layout:Too many boxes (234) to group, skipping.\n",
      "WARNING:pdfminer.layout:Too many boxes (320) to group, skipping.\n",
      "WARNING:pdfminer.layout:Too many boxes (411) to group, skipping.\n",
      "WARNING:pdfminer.layout:Too many boxes (359) to group, skipping.\n",
      "WARNING:pdfminer.layout:Too many boxes (299) to group, skipping.\n",
      "WARNING:pdfminer.layout:Too many boxes (195) to group, skipping.\n",
      "WARNING:pdfminer.layout:Too many boxes (208) to group, skipping.\n",
      "WARNING:pdfminer.layout:Too many boxes (163) to group, skipping.\n",
      "WARNING:pdfminer.layout:Too many boxes (179) to group, skipping.\n",
      "WARNING:pdfminer.layout:Too many boxes (179) to group, skipping.\n",
      "WARNING:pdfminer.layout:Too many boxes (193) to group, skipping.\n"
     ]
    },
    {
     "name": "stdout",
     "output_type": "stream",
     "text": [
      "['Montana', '10% of graduates', '606', '592', '1198']\n"
     ]
    },
    {
     "name": "stderr",
     "output_type": "stream",
     "text": [
      "WARNING:pdfminer.layout:Too many boxes (324) to group, skipping.\n",
      "WARNING:pdfminer.layout:Too many boxes (226) to group, skipping.\n",
      "WARNING:pdfminer.layout:Too many boxes (359) to group, skipping.\n",
      "WARNING:pdfminer.layout:Too many boxes (268) to group, skipping.\n",
      "WARNING:pdfminer.layout:Too many boxes (234) to group, skipping.\n",
      "WARNING:pdfminer.layout:Too many boxes (334) to group, skipping.\n",
      "WARNING:pdfminer.layout:Too many boxes (425) to group, skipping.\n",
      "WARNING:pdfminer.layout:Too many boxes (359) to group, skipping.\n",
      "WARNING:pdfminer.layout:Too many boxes (359) to group, skipping.\n",
      "WARNING:pdfminer.layout:Too many boxes (195) to group, skipping.\n",
      "WARNING:pdfminer.layout:Too many boxes (316) to group, skipping.\n",
      "WARNING:pdfminer.layout:Too many boxes (278) to group, skipping.\n",
      "WARNING:pdfminer.layout:Too many boxes (329) to group, skipping.\n",
      "WARNING:pdfminer.layout:Too many boxes (329) to group, skipping.\n",
      "WARNING:pdfminer.layout:Too many boxes (193) to group, skipping.\n"
     ]
    },
    {
     "name": "stdout",
     "output_type": "stream",
     "text": [
      "['Rhode Island', '97% of graduates', '513', '505', '1018']\n"
     ]
    },
    {
     "name": "stderr",
     "output_type": "stream",
     "text": [
      "WARNING:pdfminer.layout:Too many boxes (314) to group, skipping.\n",
      "WARNING:pdfminer.layout:Too many boxes (224) to group, skipping.\n",
      "WARNING:pdfminer.layout:Too many boxes (329) to group, skipping.\n",
      "WARNING:pdfminer.layout:Too many boxes (248) to group, skipping.\n",
      "WARNING:pdfminer.layout:Too many boxes (234) to group, skipping.\n",
      "WARNING:pdfminer.layout:Too many boxes (327) to group, skipping.\n",
      "WARNING:pdfminer.layout:Too many boxes (425) to group, skipping.\n",
      "WARNING:pdfminer.layout:Too many boxes (359) to group, skipping.\n",
      "WARNING:pdfminer.layout:Too many boxes (329) to group, skipping.\n",
      "WARNING:pdfminer.layout:Too many boxes (195) to group, skipping.\n",
      "WARNING:pdfminer.layout:Too many boxes (317) to group, skipping.\n",
      "WARNING:pdfminer.layout:Too many boxes (264) to group, skipping.\n",
      "WARNING:pdfminer.layout:Too many boxes (329) to group, skipping.\n",
      "WARNING:pdfminer.layout:Too many boxes (329) to group, skipping.\n",
      "WARNING:pdfminer.layout:Too many boxes (193) to group, skipping.\n"
     ]
    },
    {
     "name": "stdout",
     "output_type": "stream",
     "text": [
      "['Tennessee', '6% of graduates', '624', '607', '1231']\n"
     ]
    },
    {
     "name": "stderr",
     "output_type": "stream",
     "text": [
      "WARNING:pdfminer.layout:Too many boxes (307) to group, skipping.\n",
      "WARNING:pdfminer.layout:Too many boxes (226) to group, skipping.\n",
      "WARNING:pdfminer.layout:Too many boxes (299) to group, skipping.\n",
      "WARNING:pdfminer.layout:Too many boxes (225) to group, skipping.\n",
      "WARNING:pdfminer.layout:Too many boxes (234) to group, skipping.\n",
      "WARNING:pdfminer.layout:Too many boxes (327) to group, skipping.\n",
      "WARNING:pdfminer.layout:Too many boxes (425) to group, skipping.\n",
      "WARNING:pdfminer.layout:Too many boxes (329) to group, skipping.\n",
      "WARNING:pdfminer.layout:Too many boxes (359) to group, skipping.\n",
      "WARNING:pdfminer.layout:Too many boxes (195) to group, skipping.\n",
      "WARNING:pdfminer.layout:Too many boxes (292) to group, skipping.\n",
      "WARNING:pdfminer.layout:Too many boxes (235) to group, skipping.\n",
      "WARNING:pdfminer.layout:Too many boxes (299) to group, skipping.\n",
      "WARNING:pdfminer.layout:Too many boxes (299) to group, skipping.\n",
      "WARNING:pdfminer.layout:Too many boxes (193) to group, skipping.\n"
     ]
    },
    {
     "name": "stdout",
     "output_type": "stream",
     "text": [
      "['Arkansas', '5% of graduates', '592', '576', '1169']\n"
     ]
    },
    {
     "name": "stderr",
     "output_type": "stream",
     "text": [
      "WARNING:pdfminer.layout:Too many boxes (324) to group, skipping.\n",
      "WARNING:pdfminer.layout:Too many boxes (227) to group, skipping.\n",
      "WARNING:pdfminer.layout:Too many boxes (329) to group, skipping.\n",
      "WARNING:pdfminer.layout:Too many boxes (256) to group, skipping.\n",
      "WARNING:pdfminer.layout:Too many boxes (234) to group, skipping.\n",
      "WARNING:pdfminer.layout:Too many boxes (327) to group, skipping.\n",
      "WARNING:pdfminer.layout:Too many boxes (425) to group, skipping.\n",
      "WARNING:pdfminer.layout:Too many boxes (329) to group, skipping.\n",
      "WARNING:pdfminer.layout:Too many boxes (359) to group, skipping.\n",
      "WARNING:pdfminer.layout:Too many boxes (195) to group, skipping.\n",
      "WARNING:pdfminer.layout:Too many boxes (285) to group, skipping.\n",
      "WARNING:pdfminer.layout:Too many boxes (271) to group, skipping.\n",
      "WARNING:pdfminer.layout:Too many boxes (299) to group, skipping.\n",
      "WARNING:pdfminer.layout:Too many boxes (239) to group, skipping.\n",
      "WARNING:pdfminer.layout:Too many boxes (193) to group, skipping.\n"
     ]
    },
    {
     "name": "stdout",
     "output_type": "stream",
     "text": [
      "['District of Columbia', '92% of graduates', '497', '480', '977']\n"
     ]
    },
    {
     "name": "stderr",
     "output_type": "stream",
     "text": [
      "WARNING:pdfminer.layout:Too many boxes (242) to group, skipping.\n",
      "WARNING:pdfminer.layout:Too many boxes (223) to group, skipping.\n",
      "WARNING:pdfminer.layout:Too many boxes (209) to group, skipping.\n",
      "WARNING:pdfminer.layout:Too many boxes (152) to group, skipping.\n",
      "WARNING:pdfminer.layout:Too many boxes (234) to group, skipping.\n",
      "WARNING:pdfminer.layout:Too many boxes (299) to group, skipping.\n",
      "WARNING:pdfminer.layout:Too many boxes (396) to group, skipping.\n",
      "WARNING:pdfminer.layout:Too many boxes (329) to group, skipping.\n",
      "WARNING:pdfminer.layout:Too many boxes (269) to group, skipping.\n",
      "WARNING:pdfminer.layout:Too many boxes (190) to group, skipping.\n",
      "WARNING:pdfminer.layout:Too many boxes (137) to group, skipping.\n",
      "WARNING:pdfminer.layout:Too many boxes (104) to group, skipping.\n",
      "WARNING:pdfminer.layout:Too many boxes (145) to group, skipping.\n"
     ]
    },
    {
     "name": "stdout",
     "output_type": "stream",
     "text": [
      "['North Dakota', '2% of graduates', '640', '643', '1283']\n"
     ]
    },
    {
     "name": "stderr",
     "output_type": "stream",
     "text": [
      "WARNING:pdfminer.layout:Too many boxes (314) to group, skipping.\n",
      "WARNING:pdfminer.layout:Too many boxes (224) to group, skipping.\n",
      "WARNING:pdfminer.layout:Too many boxes (329) to group, skipping.\n",
      "WARNING:pdfminer.layout:Too many boxes (222) to group, skipping.\n",
      "WARNING:pdfminer.layout:Too many boxes (234) to group, skipping.\n",
      "WARNING:pdfminer.layout:Too many boxes (327) to group, skipping.\n",
      "WARNING:pdfminer.layout:Too many boxes (425) to group, skipping.\n",
      "WARNING:pdfminer.layout:Too many boxes (359) to group, skipping.\n",
      "WARNING:pdfminer.layout:Too many boxes (329) to group, skipping.\n",
      "WARNING:pdfminer.layout:Too many boxes (196) to group, skipping.\n",
      "WARNING:pdfminer.layout:Too many boxes (310) to group, skipping.\n",
      "WARNING:pdfminer.layout:Too many boxes (270) to group, skipping.\n",
      "WARNING:pdfminer.layout:Too many boxes (329) to group, skipping.\n",
      "WARNING:pdfminer.layout:Too many boxes (299) to group, skipping.\n",
      "WARNING:pdfminer.layout:Too many boxes (193) to group, skipping.\n"
     ]
    },
    {
     "name": "stdout",
     "output_type": "stream",
     "text": [
      "['Louisiana', '4% of graduates', '615', '595', '1210']\n"
     ]
    },
    {
     "name": "stderr",
     "output_type": "stream",
     "text": [
      "WARNING:pdfminer.layout:Too many boxes (306) to group, skipping.\n",
      "WARNING:pdfminer.layout:Too many boxes (223) to group, skipping.\n",
      "WARNING:pdfminer.layout:Too many boxes (299) to group, skipping.\n",
      "WARNING:pdfminer.layout:Too many boxes (215) to group, skipping.\n",
      "WARNING:pdfminer.layout:Too many boxes (234) to group, skipping.\n",
      "WARNING:pdfminer.layout:Too many boxes (327) to group, skipping.\n",
      "WARNING:pdfminer.layout:Too many boxes (425) to group, skipping.\n",
      "WARNING:pdfminer.layout:Too many boxes (359) to group, skipping.\n",
      "WARNING:pdfminer.layout:Too many boxes (329) to group, skipping.\n",
      "WARNING:pdfminer.layout:Too many boxes (196) to group, skipping.\n",
      "WARNING:pdfminer.layout:Too many boxes (226) to group, skipping.\n",
      "WARNING:pdfminer.layout:Too many boxes (205) to group, skipping.\n",
      "WARNING:pdfminer.layout:Too many boxes (239) to group, skipping.\n",
      "WARNING:pdfminer.layout:Too many boxes (179) to group, skipping.\n",
      "WARNING:pdfminer.layout:Too many boxes (193) to group, skipping.\n"
     ]
    },
    {
     "name": "stdout",
     "output_type": "stream",
     "text": [
      "['Wisconsin', '3% of graduates', '641', '653', '1294']\n"
     ]
    },
    {
     "name": "stderr",
     "output_type": "stream",
     "text": [
      "WARNING:pdfminer.layout:Too many boxes (324) to group, skipping.\n",
      "WARNING:pdfminer.layout:Too many boxes (226) to group, skipping.\n",
      "WARNING:pdfminer.layout:Too many boxes (359) to group, skipping.\n",
      "WARNING:pdfminer.layout:Too many boxes (278) to group, skipping.\n",
      "WARNING:pdfminer.layout:Too many boxes (234) to group, skipping.\n",
      "WARNING:pdfminer.layout:Too many boxes (334) to group, skipping.\n",
      "WARNING:pdfminer.layout:Too many boxes (425) to group, skipping.\n",
      "WARNING:pdfminer.layout:Too many boxes (359) to group, skipping.\n",
      "WARNING:pdfminer.layout:Too many boxes (359) to group, skipping.\n",
      "WARNING:pdfminer.layout:Too many boxes (198) to group, skipping.\n",
      "WARNING:pdfminer.layout:Too many boxes (334) to group, skipping.\n",
      "WARNING:pdfminer.layout:Too many boxes (278) to group, skipping.\n",
      "WARNING:pdfminer.layout:Too many boxes (359) to group, skipping.\n",
      "WARNING:pdfminer.layout:Too many boxes (359) to group, skipping.\n",
      "WARNING:pdfminer.layout:Too many boxes (193) to group, skipping.\n"
     ]
    },
    {
     "name": "stdout",
     "output_type": "stream",
     "text": [
      "['California', '60% of graduates', '540', '536', '1076']\n"
     ]
    },
    {
     "name": "stderr",
     "output_type": "stream",
     "text": [
      "WARNING:pdfminer.layout:Too many boxes (324) to group, skipping.\n",
      "WARNING:pdfminer.layout:Too many boxes (226) to group, skipping.\n",
      "WARNING:pdfminer.layout:Too many boxes (359) to group, skipping.\n",
      "WARNING:pdfminer.layout:Too many boxes (278) to group, skipping.\n",
      "WARNING:pdfminer.layout:Too many boxes (234) to group, skipping.\n",
      "WARNING:pdfminer.layout:Too many boxes (334) to group, skipping.\n",
      "WARNING:pdfminer.layout:Too many boxes (425) to group, skipping.\n",
      "WARNING:pdfminer.layout:Too many boxes (359) to group, skipping.\n",
      "WARNING:pdfminer.layout:Too many boxes (359) to group, skipping.\n",
      "WARNING:pdfminer.layout:Too many boxes (196) to group, skipping.\n",
      "WARNING:pdfminer.layout:Too many boxes (334) to group, skipping.\n",
      "WARNING:pdfminer.layout:Too many boxes (278) to group, skipping.\n",
      "WARNING:pdfminer.layout:Too many boxes (359) to group, skipping.\n",
      "WARNING:pdfminer.layout:Too many boxes (359) to group, skipping.\n",
      "WARNING:pdfminer.layout:Too many boxes (193) to group, skipping.\n"
     ]
    },
    {
     "name": "stdout",
     "output_type": "stream",
     "text": [
      "['Virginia', '68% of graduates', '567', '550', '1117']\n"
     ]
    },
    {
     "name": "stderr",
     "output_type": "stream",
     "text": [
      "WARNING:pdfminer.layout:Too many boxes (331) to group, skipping.\n",
      "WARNING:pdfminer.layout:Too many boxes (226) to group, skipping.\n",
      "WARNING:pdfminer.layout:Too many boxes (359) to group, skipping.\n",
      "WARNING:pdfminer.layout:Too many boxes (278) to group, skipping.\n",
      "WARNING:pdfminer.layout:Too many boxes (234) to group, skipping.\n",
      "WARNING:pdfminer.layout:Too many boxes (334) to group, skipping.\n",
      "WARNING:pdfminer.layout:Too many boxes (425) to group, skipping.\n",
      "WARNING:pdfminer.layout:Too many boxes (359) to group, skipping.\n",
      "WARNING:pdfminer.layout:Too many boxes (359) to group, skipping.\n",
      "WARNING:pdfminer.layout:Too many boxes (196) to group, skipping.\n",
      "WARNING:pdfminer.layout:Too many boxes (327) to group, skipping.\n",
      "WARNING:pdfminer.layout:Too many boxes (278) to group, skipping.\n",
      "WARNING:pdfminer.layout:Too many boxes (359) to group, skipping.\n",
      "WARNING:pdfminer.layout:Too many boxes (329) to group, skipping.\n",
      "WARNING:pdfminer.layout:Too many boxes (193) to group, skipping.\n"
     ]
    },
    {
     "name": "stdout",
     "output_type": "stream",
     "text": [
      "['Colorado', '100% of graduates', '519', '506', '1025']\n"
     ]
    },
    {
     "name": "stderr",
     "output_type": "stream",
     "text": [
      "WARNING:pdfminer.layout:Too many boxes (279) to group, skipping.\n",
      "WARNING:pdfminer.layout:Too many boxes (223) to group, skipping.\n",
      "WARNING:pdfminer.layout:Too many boxes (269) to group, skipping.\n",
      "WARNING:pdfminer.layout:Too many boxes (167) to group, skipping.\n",
      "WARNING:pdfminer.layout:Too many boxes (234) to group, skipping.\n",
      "WARNING:pdfminer.layout:Too many boxes (300) to group, skipping.\n",
      "WARNING:pdfminer.layout:Too many boxes (397) to group, skipping.\n",
      "WARNING:pdfminer.layout:Too many boxes (329) to group, skipping.\n",
      "WARNING:pdfminer.layout:Too many boxes (269) to group, skipping.\n",
      "WARNING:pdfminer.layout:Too many boxes (193) to group, skipping.\n",
      "WARNING:pdfminer.layout:Too many boxes (189) to group, skipping.\n",
      "WARNING:pdfminer.layout:Too many boxes (138) to group, skipping.\n",
      "WARNING:pdfminer.layout:Too many boxes (179) to group, skipping.\n",
      "WARNING:pdfminer.layout:Too many boxes (169) to group, skipping.\n"
     ]
    },
    {
     "name": "stdout",
     "output_type": "stream",
     "text": [
      "['South Dakota', '3% of graduates', '622', '618', '1241']\n"
     ]
    },
    {
     "name": "stderr",
     "output_type": "stream",
     "text": [
      "WARNING:pdfminer.layout:Too many boxes (307) to group, skipping.\n",
      "WARNING:pdfminer.layout:Too many boxes (223) to group, skipping.\n",
      "WARNING:pdfminer.layout:Too many boxes (299) to group, skipping.\n",
      "WARNING:pdfminer.layout:Too many boxes (218) to group, skipping.\n",
      "WARNING:pdfminer.layout:Too many boxes (234) to group, skipping.\n",
      "WARNING:pdfminer.layout:Too many boxes (320) to group, skipping.\n",
      "WARNING:pdfminer.layout:Too many boxes (425) to group, skipping.\n",
      "WARNING:pdfminer.layout:Too many boxes (329) to group, skipping.\n",
      "WARNING:pdfminer.layout:Too many boxes (329) to group, skipping.\n",
      "WARNING:pdfminer.layout:Too many boxes (195) to group, skipping.\n",
      "WARNING:pdfminer.layout:Too many boxes (316) to group, skipping.\n",
      "WARNING:pdfminer.layout:Too many boxes (271) to group, skipping.\n",
      "WARNING:pdfminer.layout:Too many boxes (329) to group, skipping.\n",
      "WARNING:pdfminer.layout:Too many boxes (329) to group, skipping.\n",
      "WARNING:pdfminer.layout:Too many boxes (193) to group, skipping.\n"
     ]
    },
    {
     "name": "stdout",
     "output_type": "stream",
     "text": [
      "['Kansas', '4% of graduates', '633', '631', '1265']\n"
     ]
    },
    {
     "name": "stderr",
     "output_type": "stream",
     "text": [
      "WARNING:pdfminer.layout:Too many boxes (331) to group, skipping.\n",
      "WARNING:pdfminer.layout:Too many boxes (226) to group, skipping.\n",
      "WARNING:pdfminer.layout:Too many boxes (359) to group, skipping.\n",
      "WARNING:pdfminer.layout:Too many boxes (265) to group, skipping.\n",
      "WARNING:pdfminer.layout:Too many boxes (231) to group, skipping.\n",
      "WARNING:pdfminer.layout:Too many boxes (327) to group, skipping.\n",
      "WARNING:pdfminer.layout:Too many boxes (425) to group, skipping.\n",
      "WARNING:pdfminer.layout:Too many boxes (329) to group, skipping.\n",
      "WARNING:pdfminer.layout:Too many boxes (359) to group, skipping.\n",
      "WARNING:pdfminer.layout:Too many boxes (195) to group, skipping.\n",
      "WARNING:pdfminer.layout:Too many boxes (320) to group, skipping.\n",
      "WARNING:pdfminer.layout:Too many boxes (278) to group, skipping.\n",
      "WARNING:pdfminer.layout:Too many boxes (329) to group, skipping.\n",
      "WARNING:pdfminer.layout:Too many boxes (329) to group, skipping.\n",
      "WARNING:pdfminer.layout:Too many boxes (193) to group, skipping.\n"
     ]
    },
    {
     "name": "stdout",
     "output_type": "stream",
     "text": [
      "['Delaware', '100% of graduates', '505', '492', '998']\n"
     ]
    },
    {
     "name": "stderr",
     "output_type": "stream",
     "text": [
      "WARNING:pdfminer.layout:Too many boxes (331) to group, skipping.\n",
      "WARNING:pdfminer.layout:Too many boxes (225) to group, skipping.\n",
      "WARNING:pdfminer.layout:Too many boxes (359) to group, skipping.\n",
      "WARNING:pdfminer.layout:Too many boxes (278) to group, skipping.\n",
      "WARNING:pdfminer.layout:Too many boxes (234) to group, skipping.\n",
      "WARNING:pdfminer.layout:Too many boxes (334) to group, skipping.\n",
      "WARNING:pdfminer.layout:Too many boxes (425) to group, skipping.\n",
      "WARNING:pdfminer.layout:Too many boxes (359) to group, skipping.\n",
      "WARNING:pdfminer.layout:Too many boxes (359) to group, skipping.\n",
      "WARNING:pdfminer.layout:Too many boxes (198) to group, skipping.\n",
      "WARNING:pdfminer.layout:Too many boxes (334) to group, skipping.\n",
      "WARNING:pdfminer.layout:Too many boxes (278) to group, skipping.\n",
      "WARNING:pdfminer.layout:Too many boxes (359) to group, skipping.\n",
      "WARNING:pdfminer.layout:Too many boxes (359) to group, skipping.\n",
      "WARNING:pdfminer.layout:Too many boxes (193) to group, skipping.\n"
     ]
    },
    {
     "name": "stdout",
     "output_type": "stream",
     "text": [
      "['Florida', '97% of graduates', '522', '493', '1014']\n"
     ]
    },
    {
     "name": "stderr",
     "output_type": "stream",
     "text": [
      "WARNING:pdfminer.layout:Too many boxes (307) to group, skipping.\n",
      "WARNING:pdfminer.layout:Too many boxes (223) to group, skipping.\n",
      "WARNING:pdfminer.layout:Too many boxes (299) to group, skipping.\n",
      "WARNING:pdfminer.layout:Too many boxes (223) to group, skipping.\n",
      "WARNING:pdfminer.layout:Too many boxes (234) to group, skipping.\n",
      "WARNING:pdfminer.layout:Too many boxes (327) to group, skipping.\n",
      "WARNING:pdfminer.layout:Too many boxes (425) to group, skipping.\n",
      "WARNING:pdfminer.layout:Too many boxes (359) to group, skipping.\n",
      "WARNING:pdfminer.layout:Too many boxes (329) to group, skipping.\n",
      "WARNING:pdfminer.layout:Too many boxes (195) to group, skipping.\n",
      "WARNING:pdfminer.layout:Too many boxes (299) to group, skipping.\n",
      "WARNING:pdfminer.layout:Too many boxes (271) to group, skipping.\n",
      "WARNING:pdfminer.layout:Too many boxes (299) to group, skipping.\n",
      "WARNING:pdfminer.layout:Too many boxes (299) to group, skipping.\n",
      "WARNING:pdfminer.layout:Too many boxes (193) to group, skipping.\n"
     ]
    },
    {
     "name": "stdout",
     "output_type": "stream",
     "text": [
      "['Minnesota', '4% of graduates', '643', '655', '1298']\n"
     ]
    },
    {
     "name": "stderr",
     "output_type": "stream",
     "text": [
      "WARNING:pdfminer.layout:Too many boxes (324) to group, skipping.\n",
      "WARNING:pdfminer.layout:Too many boxes (226) to group, skipping.\n",
      "WARNING:pdfminer.layout:Too many boxes (359) to group, skipping.\n",
      "WARNING:pdfminer.layout:Too many boxes (272) to group, skipping.\n",
      "WARNING:pdfminer.layout:Too many boxes (234) to group, skipping.\n",
      "WARNING:pdfminer.layout:Too many boxes (334) to group, skipping.\n",
      "WARNING:pdfminer.layout:Too many boxes (425) to group, skipping.\n",
      "WARNING:pdfminer.layout:Too many boxes (359) to group, skipping.\n",
      "WARNING:pdfminer.layout:Too many boxes (359) to group, skipping.\n",
      "WARNING:pdfminer.layout:Too many boxes (196) to group, skipping.\n",
      "WARNING:pdfminer.layout:Too many boxes (320) to group, skipping.\n",
      "WARNING:pdfminer.layout:Too many boxes (278) to group, skipping.\n",
      "WARNING:pdfminer.layout:Too many boxes (329) to group, skipping.\n",
      "WARNING:pdfminer.layout:Too many boxes (329) to group, skipping.\n",
      "WARNING:pdfminer.layout:Too many boxes (193) to group, skipping.\n"
     ]
    },
    {
     "name": "stdout",
     "output_type": "stream",
     "text": [
      "['South Carolina', '55% of graduates', '547', '523', '1070']\n"
     ]
    }
   ],
   "source": [
    "#The idea of this workflow is to set an empty dictionary and append all of the different SAT information \n",
    "#To that file.\n",
    "\n",
    "SAT_2018 = {}\n",
    "for file in os.listdir():\n",
    "    if file[0] != \"A\" and file[-3:] == \"pdf\":\n",
    "        try:\n",
    "            mine = pdf_mine(file)\n",
    "            if file[-3:] == \"pdf\":\n",
    "                SAT_2018[mine[0]] = {\n",
    "                    \"State\":mine[0], \n",
    "\n",
    "                    #I left the '% of graduates' below for inspection, need\n",
    "                    #to strip now\n",
    "\n",
    "                    \"SAT_2018_Participation\":float(mine[1].split(\"%\")[0])/100,\n",
    "                    \"SAT_2018_English\":int(mine[2]),\n",
    "                    \"SAT_2018_Math\":int(mine[3]),\n",
    "                    \"SAT_2018_Total\":int(mine[4])}\n",
    "        except:\n",
    "            print(\"something went wrong with {}\".format(file))"
   ]
  },
  {
   "cell_type": "code",
   "execution_count": 13,
   "metadata": {},
   "outputs": [
    {
     "data": {
      "text/html": [
       "<div>\n",
       "<style scoped>\n",
       "    .dataframe tbody tr th:only-of-type {\n",
       "        vertical-align: middle;\n",
       "    }\n",
       "\n",
       "    .dataframe tbody tr th {\n",
       "        vertical-align: top;\n",
       "    }\n",
       "\n",
       "    .dataframe thead th {\n",
       "        text-align: right;\n",
       "    }\n",
       "</style>\n",
       "<table border=\"1\" class=\"dataframe\">\n",
       "  <thead>\n",
       "    <tr style=\"text-align: right;\">\n",
       "      <th></th>\n",
       "      <th>State</th>\n",
       "      <th>SAT_2018_Participation</th>\n",
       "      <th>SAT_2018_English</th>\n",
       "      <th>SAT_2018_Math</th>\n",
       "      <th>SAT_2018_Total</th>\n",
       "    </tr>\n",
       "  </thead>\n",
       "  <tbody>\n",
       "    <tr>\n",
       "      <th>0</th>\n",
       "      <td>Alabama</td>\n",
       "      <td>0.06</td>\n",
       "      <td>595</td>\n",
       "      <td>571</td>\n",
       "      <td>1166</td>\n",
       "    </tr>\n",
       "    <tr>\n",
       "      <th>1</th>\n",
       "      <td>Alaska</td>\n",
       "      <td>0.43</td>\n",
       "      <td>562</td>\n",
       "      <td>544</td>\n",
       "      <td>1106</td>\n",
       "    </tr>\n",
       "    <tr>\n",
       "      <th>2</th>\n",
       "      <td>Arizona</td>\n",
       "      <td>0.29</td>\n",
       "      <td>577</td>\n",
       "      <td>572</td>\n",
       "      <td>1149</td>\n",
       "    </tr>\n",
       "    <tr>\n",
       "      <th>3</th>\n",
       "      <td>Arkansas</td>\n",
       "      <td>0.05</td>\n",
       "      <td>592</td>\n",
       "      <td>576</td>\n",
       "      <td>1169</td>\n",
       "    </tr>\n",
       "    <tr>\n",
       "      <th>4</th>\n",
       "      <td>California</td>\n",
       "      <td>0.60</td>\n",
       "      <td>540</td>\n",
       "      <td>536</td>\n",
       "      <td>1076</td>\n",
       "    </tr>\n",
       "  </tbody>\n",
       "</table>\n",
       "</div>"
      ],
      "text/plain": [
       "        State  SAT_2018_Participation  SAT_2018_English  SAT_2018_Math  \\\n",
       "0     Alabama                    0.06               595            571   \n",
       "1      Alaska                    0.43               562            544   \n",
       "2     Arizona                    0.29               577            572   \n",
       "3    Arkansas                    0.05               592            576   \n",
       "4  California                    0.60               540            536   \n",
       "\n",
       "   SAT_2018_Total  \n",
       "0            1166  \n",
       "1            1106  \n",
       "2            1149  \n",
       "3            1169  \n",
       "4            1076  "
      ]
     },
     "execution_count": 13,
     "metadata": {},
     "output_type": "execute_result"
    }
   ],
   "source": [
    "sat2018 = pd.DataFrame.from_dict(SAT_2018, orient='index').reset_index()\n",
    "sat2018.drop(\"index\", axis = 1, inplace = True)\n",
    "sat2018.head()"
   ]
  },
  {
   "cell_type": "code",
   "execution_count": 19,
   "metadata": {},
   "outputs": [],
   "source": [
    "merged_2017_18 = pd.merge(merged, sat2018, on='State')\n",
    "merged_2017_18.drop(\"Unnamed: 0\", axis = 1, inplace = True)\n"
   ]
  },
  {
   "cell_type": "code",
   "execution_count": 21,
   "metadata": {},
   "outputs": [
    {
     "data": {
      "text/html": [
       "<div>\n",
       "<style scoped>\n",
       "    .dataframe tbody tr th:only-of-type {\n",
       "        vertical-align: middle;\n",
       "    }\n",
       "\n",
       "    .dataframe tbody tr th {\n",
       "        vertical-align: top;\n",
       "    }\n",
       "\n",
       "    .dataframe thead th {\n",
       "        text-align: right;\n",
       "    }\n",
       "</style>\n",
       "<table border=\"1\" class=\"dataframe\">\n",
       "  <thead>\n",
       "    <tr style=\"text-align: right;\">\n",
       "      <th></th>\n",
       "      <th>State</th>\n",
       "      <th>SAT_2017_Participation</th>\n",
       "      <th>SAT_2017_English</th>\n",
       "      <th>SAT_2017_Math</th>\n",
       "      <th>SAT_2017_Total</th>\n",
       "      <th>ACT_2017_Participation</th>\n",
       "      <th>ACT_2017_English</th>\n",
       "      <th>ACT_2017_Math</th>\n",
       "      <th>ACT_2017_Reading</th>\n",
       "      <th>ACT_2017_Science</th>\n",
       "      <th>ACT_2017_Composite</th>\n",
       "      <th>SAT_2018_Participation</th>\n",
       "      <th>SAT_2018_English</th>\n",
       "      <th>SAT_2018_Math</th>\n",
       "      <th>SAT_2018_Total</th>\n",
       "    </tr>\n",
       "  </thead>\n",
       "  <tbody>\n",
       "    <tr>\n",
       "      <th>0</th>\n",
       "      <td>Alabama</td>\n",
       "      <td>0.05</td>\n",
       "      <td>593</td>\n",
       "      <td>572</td>\n",
       "      <td>1165</td>\n",
       "      <td>1.00</td>\n",
       "      <td>18.9</td>\n",
       "      <td>18.4</td>\n",
       "      <td>19.7</td>\n",
       "      <td>19.4</td>\n",
       "      <td>19.2</td>\n",
       "      <td>0.06</td>\n",
       "      <td>595</td>\n",
       "      <td>571</td>\n",
       "      <td>1166</td>\n",
       "    </tr>\n",
       "    <tr>\n",
       "      <th>1</th>\n",
       "      <td>Alaska</td>\n",
       "      <td>0.38</td>\n",
       "      <td>547</td>\n",
       "      <td>533</td>\n",
       "      <td>1080</td>\n",
       "      <td>0.65</td>\n",
       "      <td>18.7</td>\n",
       "      <td>19.8</td>\n",
       "      <td>20.4</td>\n",
       "      <td>19.9</td>\n",
       "      <td>19.8</td>\n",
       "      <td>0.43</td>\n",
       "      <td>562</td>\n",
       "      <td>544</td>\n",
       "      <td>1106</td>\n",
       "    </tr>\n",
       "    <tr>\n",
       "      <th>2</th>\n",
       "      <td>Arizona</td>\n",
       "      <td>0.30</td>\n",
       "      <td>563</td>\n",
       "      <td>553</td>\n",
       "      <td>1116</td>\n",
       "      <td>0.62</td>\n",
       "      <td>18.6</td>\n",
       "      <td>19.8</td>\n",
       "      <td>20.1</td>\n",
       "      <td>19.8</td>\n",
       "      <td>19.7</td>\n",
       "      <td>0.29</td>\n",
       "      <td>577</td>\n",
       "      <td>572</td>\n",
       "      <td>1149</td>\n",
       "    </tr>\n",
       "    <tr>\n",
       "      <th>3</th>\n",
       "      <td>Arkansas</td>\n",
       "      <td>0.03</td>\n",
       "      <td>614</td>\n",
       "      <td>594</td>\n",
       "      <td>1208</td>\n",
       "      <td>1.00</td>\n",
       "      <td>18.9</td>\n",
       "      <td>19.0</td>\n",
       "      <td>19.7</td>\n",
       "      <td>19.5</td>\n",
       "      <td>19.4</td>\n",
       "      <td>0.05</td>\n",
       "      <td>592</td>\n",
       "      <td>576</td>\n",
       "      <td>1169</td>\n",
       "    </tr>\n",
       "    <tr>\n",
       "      <th>4</th>\n",
       "      <td>California</td>\n",
       "      <td>0.53</td>\n",
       "      <td>531</td>\n",
       "      <td>524</td>\n",
       "      <td>1055</td>\n",
       "      <td>0.31</td>\n",
       "      <td>22.5</td>\n",
       "      <td>22.7</td>\n",
       "      <td>23.1</td>\n",
       "      <td>22.2</td>\n",
       "      <td>22.8</td>\n",
       "      <td>0.60</td>\n",
       "      <td>540</td>\n",
       "      <td>536</td>\n",
       "      <td>1076</td>\n",
       "    </tr>\n",
       "  </tbody>\n",
       "</table>\n",
       "</div>"
      ],
      "text/plain": [
       "        State  SAT_2017_Participation  SAT_2017_English  SAT_2017_Math  \\\n",
       "0     Alabama                    0.05               593            572   \n",
       "1      Alaska                    0.38               547            533   \n",
       "2     Arizona                    0.30               563            553   \n",
       "3    Arkansas                    0.03               614            594   \n",
       "4  California                    0.53               531            524   \n",
       "\n",
       "   SAT_2017_Total  ACT_2017_Participation  ACT_2017_English  ACT_2017_Math  \\\n",
       "0            1165                    1.00              18.9           18.4   \n",
       "1            1080                    0.65              18.7           19.8   \n",
       "2            1116                    0.62              18.6           19.8   \n",
       "3            1208                    1.00              18.9           19.0   \n",
       "4            1055                    0.31              22.5           22.7   \n",
       "\n",
       "   ACT_2017_Reading  ACT_2017_Science  ACT_2017_Composite  \\\n",
       "0              19.7              19.4                19.2   \n",
       "1              20.4              19.9                19.8   \n",
       "2              20.1              19.8                19.7   \n",
       "3              19.7              19.5                19.4   \n",
       "4              23.1              22.2                22.8   \n",
       "\n",
       "   SAT_2018_Participation  SAT_2018_English  SAT_2018_Math  SAT_2018_Total  \n",
       "0                    0.06               595            571            1166  \n",
       "1                    0.43               562            544            1106  \n",
       "2                    0.29               577            572            1149  \n",
       "3                    0.05               592            576            1169  \n",
       "4                    0.60               540            536            1076  "
      ]
     },
     "execution_count": 21,
     "metadata": {},
     "output_type": "execute_result"
    }
   ],
   "source": [
    "#Done!\n",
    "merged_2017_18.head()"
   ]
  }
 ],
 "metadata": {
  "kernelspec": {
   "display_name": "Python 3",
   "language": "python",
   "name": "python3"
  },
  "language_info": {
   "codemirror_mode": {
    "name": "ipython",
    "version": 3
   },
   "file_extension": ".py",
   "mimetype": "text/x-python",
   "name": "python",
   "nbconvert_exporter": "python",
   "pygments_lexer": "ipython3",
   "version": "3.7.1"
  }
 },
 "nbformat": 4,
 "nbformat_minor": 2
}
