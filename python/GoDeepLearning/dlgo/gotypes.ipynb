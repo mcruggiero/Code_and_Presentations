{
 "cells": [
  {
   "cell_type": "markdown",
   "metadata": {
    "toc": true
   },
   "source": [
    "<h1>Table of Contents<span class=\"tocSkip\"></span></h1>\n",
    "<div class=\"toc\"><ul class=\"toc-item\"><li><span><a href=\"#Chapter-3\" data-toc-modified-id=\"Chapter-3-3\"><span class=\"toc-item-num\">3&nbsp;&nbsp;</span>Chapter 3</a></span><ul class=\"toc-item\"><li><span><a href=\"#Using-an-enum-to-represent-players\" data-toc-modified-id=\"Using-an-enum-to-represent-players-3.1\"><span class=\"toc-item-num\">3.1&nbsp;&nbsp;</span>Using an enum to represent players</a></span></li><li><span><a href=\"#Using-Tuples-to-represent-points-of-a-Go-board\" data-toc-modified-id=\"Using-Tuples-to-represent-points-of-a-Go-board-3.2\"><span class=\"toc-item-num\">3.2&nbsp;&nbsp;</span>Using Tuples to represent points of a Go board</a></span></li><li><span><a href=\"#Setting-Moves:-plays,-passes,-or-resigns\" data-toc-modified-id=\"Setting-Moves:-plays,-passes,-or-resigns-3.3\"><span class=\"toc-item-num\">3.3&nbsp;&nbsp;</span>Setting Moves: plays, passes, or resigns</a></span></li><li><span><a href=\"#Encoding-Strings-of-stones-with-set\" data-toc-modified-id=\"Encoding-Strings-of-stones-with-set-3.4\"><span class=\"toc-item-num\">3.4&nbsp;&nbsp;</span>Encoding Strings of stones with set</a></span></li></ul></li></ul></div>"
   ]
  },
  {
   "cell_type": "markdown",
   "metadata": {},
   "source": [
    "# GoTypes Jupyter Notebook"
   ]
  },
  {
   "cell_type": "markdown",
   "metadata": {},
   "source": [
    "This notebook follows along with the book \"Deep Learning and the Game of Go\" by Max Pumperla and Kevin Ferguson. Some people have mentioned that I need to do a better job commenting out my code to explain intermediate python tactics. Thus, I will be commenting out many lines to not only completely understand code, but also sharpen my teaching skills. "
   ]
  },
  {
   "cell_type": "markdown",
   "metadata": {},
   "source": [
    "## Chapter 3"
   ]
  },
  {
   "cell_type": "markdown",
   "metadata": {},
   "source": [
    "### Using an enum to represent players"
   ]
  },
  {
   "cell_type": "markdown",
   "metadata": {},
   "source": [
    "<i>Insert into gotypes.py</i>"
   ]
  },
  {
   "cell_type": "code",
   "execution_count": 8,
   "metadata": {},
   "outputs": [],
   "source": [
    "import enum "
   ]
  },
  {
   "cell_type": "markdown",
   "metadata": {},
   "source": [
    "Using enum with the different player classes is logical since enum comes with all kinds of useful goodies."
   ]
  },
  {
   "cell_type": "code",
   "execution_count": 9,
   "metadata": {},
   "outputs": [],
   "source": [
    "class Player(enum.Enum):\n",
    "    black = 1\n",
    "    white = 2\n",
    "    \n",
    "    @property\n",
    "    def other(self):\n",
    "        return Player.black if self == Players.white else Player.white"
   ]
  },
  {
   "cell_type": "markdown",
   "metadata": {},
   "source": [
    "### Using Tuples to represent points of a Go board"
   ]
  },
  {
   "cell_type": "markdown",
   "metadata": {},
   "source": [
    "<i>Insert into gotypes.py</i>"
   ]
  },
  {
   "cell_type": "code",
   "execution_count": 16,
   "metadata": {},
   "outputs": [],
   "source": [
    "from collections import namedtuple\n",
    "\n",
    "# This library is chosen to help with code readability.\n",
    "# point.row is easier to read than point[0]\n",
    "\n",
    "class Point(namedtuple(\"Point\", \"row col\")):\n",
    "    \n",
    "    # This will allow us to look at the liberties of each stone\n",
    "    def neighbors(self):\n",
    "        return [Point(self.row - 1, self.col),\n",
    "                Point(self.row + 1, self.col),\n",
    "                Point(self.row, self.col - 1),\n",
    "                Point(self.row, self.col + 1)]"
   ]
  },
  {
   "cell_type": "markdown",
   "metadata": {},
   "source": [
    "### Setting Moves: plays, passes, or resigns"
   ]
  },
  {
   "cell_type": "markdown",
   "metadata": {},
   "source": [
    "<i>Insert into goboard_slow.py</i>"
   ]
  },
  {
   "cell_type": "code",
   "execution_count": 15,
   "metadata": {},
   "outputs": [],
   "source": [
    "import copy\n",
    "from gotypes import Player\n",
    "\n",
    "# This import is interesting, we are already coding\n",
    "# above, I think I will make a new .py file and add it the current \n",
    "# working directory\n",
    "\n",
    "\n",
    "class Move():\n",
    "    \n",
    "    # In the game of Go an action is defined as either a play, \n",
    "    # a pass or resign. Plays are defined as placing a stone.\n",
    "    \n",
    "    \n",
    "    def __init__ (self,\n",
    "                  point = None,\n",
    "                  is_pass = False, \n",
    "                  is_resign = False):\n",
    "        assert (point is not None) ^ is_pass ^ is_resign\n",
    "        \n",
    "        # The carrot here (^) is the pythonic XOR operator.\n",
    "        # assert allows us to interupt the program unless \n",
    "        # one of these is true. Notice that if two or more are\n",
    "        # true, then this will also break the line.\n",
    "        \n",
    "        @classmethod \n",
    "        def play(cls, point):\n",
    "            return Move(point = point)\n",
    "        \n",
    "        @classmethod\n",
    "        def pass_turn(cls):\n",
    "            return Move(is_pass = True)\n",
    "        \n",
    "        @classmethod\n",
    "        def resign(cls):\n",
    "            return Move(is_resign = True)"
   ]
  },
  {
   "cell_type": "markdown",
   "metadata": {},
   "source": [
    "### Encoding Strings of stones with set"
   ]
  },
  {
   "cell_type": "markdown",
   "metadata": {},
   "source": [
    "Tracking each stone's liberties would be computationally burdensome. Thus, we will be looking at connected groups of stones."
   ]
  },
  {
   "cell_type": "code",
   "execution_count": null,
   "metadata": {},
   "outputs": [],
   "source": [
    "class GoString():\n",
    "    def __"
   ]
  },
  {
   "cell_type": "code",
   "execution_count": null,
   "metadata": {},
   "outputs": [],
   "source": []
  },
  {
   "cell_type": "code",
   "execution_count": null,
   "metadata": {},
   "outputs": [],
   "source": []
  },
  {
   "cell_type": "code",
   "execution_count": null,
   "metadata": {},
   "outputs": [],
   "source": []
  },
  {
   "cell_type": "code",
   "execution_count": null,
   "metadata": {},
   "outputs": [],
   "source": []
  },
  {
   "cell_type": "code",
   "execution_count": null,
   "metadata": {},
   "outputs": [],
   "source": []
  },
  {
   "cell_type": "code",
   "execution_count": null,
   "metadata": {},
   "outputs": [],
   "source": []
  },
  {
   "cell_type": "code",
   "execution_count": null,
   "metadata": {},
   "outputs": [],
   "source": []
  },
  {
   "cell_type": "code",
   "execution_count": null,
   "metadata": {},
   "outputs": [],
   "source": []
  },
  {
   "cell_type": "code",
   "execution_count": null,
   "metadata": {},
   "outputs": [],
   "source": []
  },
  {
   "cell_type": "code",
   "execution_count": null,
   "metadata": {},
   "outputs": [],
   "source": []
  },
  {
   "cell_type": "code",
   "execution_count": null,
   "metadata": {},
   "outputs": [],
   "source": []
  },
  {
   "cell_type": "code",
   "execution_count": null,
   "metadata": {},
   "outputs": [],
   "source": []
  },
  {
   "cell_type": "code",
   "execution_count": null,
   "metadata": {},
   "outputs": [],
   "source": []
  },
  {
   "cell_type": "code",
   "execution_count": null,
   "metadata": {},
   "outputs": [],
   "source": []
  },
  {
   "cell_type": "code",
   "execution_count": null,
   "metadata": {},
   "outputs": [],
   "source": []
  }
 ],
 "metadata": {
  "kernelspec": {
   "display_name": "Python 3",
   "language": "python",
   "name": "python3"
  },
  "language_info": {
   "codemirror_mode": {
    "name": "ipython",
    "version": 3
   },
   "file_extension": ".py",
   "mimetype": "text/x-python",
   "name": "python",
   "nbconvert_exporter": "python",
   "pygments_lexer": "ipython3",
   "version": "3.7.5"
  },
  "toc": {
   "base_numbering": "3",
   "nav_menu": {},
   "number_sections": true,
   "sideBar": true,
   "skip_h1_title": true,
   "title_cell": "Table of Contents",
   "title_sidebar": "Contents",
   "toc_cell": true,
   "toc_position": {},
   "toc_section_display": true,
   "toc_window_display": false
  }
 },
 "nbformat": 4,
 "nbformat_minor": 2
}
