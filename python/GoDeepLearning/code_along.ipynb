{
 "cells": [
  {
   "cell_type": "markdown",
   "metadata": {
    "toc": true
   },
   "source": [
    "<h1>Table of Contents<span class=\"tocSkip\"></span></h1>\n",
    "<div class=\"toc\"><ul class=\"toc-item\"><li><span><a href=\"#Chapter-3\" data-toc-modified-id=\"Chapter-3-3\"><span class=\"toc-item-num\">3&nbsp;&nbsp;</span>Chapter 3</a></span><ul class=\"toc-item\"><li><span><a href=\"#Using-an-enum-to-represent-players\" data-toc-modified-id=\"Using-an-enum-to-represent-players-3.1\"><span class=\"toc-item-num\">3.1&nbsp;&nbsp;</span>Using an enum to represent players</a></span></li><li><span><a href=\"#Using-Tuples-to-represent-points-of-a-Go-board\" data-toc-modified-id=\"Using-Tuples-to-represent-points-of-a-Go-board-3.2\"><span class=\"toc-item-num\">3.2&nbsp;&nbsp;</span>Using Tuples to represent points of a Go board</a></span></li><li><span><a href=\"#Setting-Moves:-plays,-passes,-or-resigns\" data-toc-modified-id=\"Setting-Moves:-plays,-passes,-or-resigns-3.3\"><span class=\"toc-item-num\">3.3&nbsp;&nbsp;</span>Setting Moves: plays, passes, or resigns</a></span></li><li><span><a href=\"#Encoding-Strings-of-stones-with-set\" data-toc-modified-id=\"Encoding-Strings-of-stones-with-set-3.4\"><span class=\"toc-item-num\">3.4&nbsp;&nbsp;</span>Encoding Strings of stones with set</a></span></li><li><span><a href=\"#Creating-a-Go-Board-instance\" data-toc-modified-id=\"Creating-a-Go-Board-instance-3.5\"><span class=\"toc-item-num\">3.5&nbsp;&nbsp;</span>Creating a Go Board instance</a></span></li><li><span><a href=\"#Creating-neighboring-points-for-liberties\" data-toc-modified-id=\"Creating-neighboring-points-for-liberties-3.6\"><span class=\"toc-item-num\">3.6&nbsp;&nbsp;</span>Creating neighboring points for liberties</a></span></li><li><span><a href=\"#Utility-methods-for-placing-and-removing-stones\" data-toc-modified-id=\"Utility-methods-for-placing-and-removing-stones-3.7\"><span class=\"toc-item-num\">3.7&nbsp;&nbsp;</span>Utility methods for placing and removing stones</a></span></li><li><span><a href=\"#Continuing-our-definition-of-place_stone\" data-toc-modified-id=\"Continuing-our-definition-of-place_stone-3.8\"><span class=\"toc-item-num\">3.8&nbsp;&nbsp;</span>Continuing our definition of place_stone</a></span></li><li><span><a href=\"#Continuing-our-definition-of-place_stone\" data-toc-modified-id=\"Continuing-our-definition-of-place_stone-3.9\"><span class=\"toc-item-num\">3.9&nbsp;&nbsp;</span>Continuing our definition of place_stone</a></span></li><li><span><a href=\"#Encoding-game-state-for-a-game-of-Go\" data-toc-modified-id=\"Encoding-game-state-for-a-game-of-Go-3.10\"><span class=\"toc-item-num\">3.10&nbsp;&nbsp;</span>Encoding game state for a game of Go</a></span></li><li><span><a href=\"#Deciding-when-a-game-of-Go-over\" data-toc-modified-id=\"Deciding-when-a-game-of-Go-over-3.11\"><span class=\"toc-item-num\">3.11&nbsp;&nbsp;</span>Deciding when a game of Go over</a></span></li><li><span><a href=\"#Continuing-our-definition-of-GameState-to-enforce-the-self-capture-rule\" data-toc-modified-id=\"Continuing-our-definition-of-GameState-to-enforce-the-self-capture-rule-3.12\"><span class=\"toc-item-num\">3.12&nbsp;&nbsp;</span>Continuing our definition of GameState to enforce the self capture rule</a></span></li><li><span><a href=\"#Does-the-current-game-state-violate-the-ko-rule?\" data-toc-modified-id=\"Does-the-current-game-state-violate-the-ko-rule?-3.13\"><span class=\"toc-item-num\">3.13&nbsp;&nbsp;</span>Does the current game state violate the ko rule?</a></span></li><li><span><a href=\"#Is-this-move-valid-for-the-given-game-state?\" data-toc-modified-id=\"Is-this-move-valid-for-the-given-game-state?-3.14\"><span class=\"toc-item-num\">3.14&nbsp;&nbsp;</span>Is this move valid for the given game state?</a></span></li><li><span><a href=\"#Is-the-given-point-of-the-board-an-eyes?\" data-toc-modified-id=\"Is-the-given-point-of-the-board-an-eyes?-3.15\"><span class=\"toc-item-num\">3.15&nbsp;&nbsp;</span>Is the given point of the board an eyes?</a></span></li><li><span><a href=\"#Your-central-interface-for-Go-agents\" data-toc-modified-id=\"Your-central-interface-for-Go-agents-3.16\"><span class=\"toc-item-num\">3.16&nbsp;&nbsp;</span>Your central interface for Go agents</a></span></li><li><span><a href=\"#A-random-Go-bot,-playing-at-about-30-kyu-strength.\" data-toc-modified-id=\"A-random-Go-bot,-playing-at-about-30-kyu-strength.-3.17\"><span class=\"toc-item-num\">3.17&nbsp;&nbsp;</span>A random Go bot, playing at about 30 kyu strength.</a></span></li></ul></li></ul></div>"
   ]
  },
  {
   "cell_type": "code",
   "execution_count": 1,
   "metadata": {},
   "outputs": [
    {
     "data": {
      "text/plain": [
       "'/media/data/Documents/Github/Code_and_Presentations/python/GoDeepLearning'"
      ]
     },
     "execution_count": 1,
     "metadata": {},
     "output_type": "execute_result"
    }
   ],
   "source": [
    "import os\n",
    "os.getcwd()"
   ]
  },
  {
   "cell_type": "code",
   "execution_count": 2,
   "metadata": {},
   "outputs": [
    {
     "data": {
      "text/plain": [
       "['code_along.ipynb',\n",
       " 'deep_learning_and_the_game_of_go-chapter_3',\n",
       " 'Deep_Learning_and_the_Game_of_Go.pdf',\n",
       " 'dlgo',\n",
       " '.ipynb_checkpoints',\n",
       " 'Old']"
      ]
     },
     "execution_count": 2,
     "metadata": {},
     "output_type": "execute_result"
    }
   ],
   "source": [
    "os.listdir()"
   ]
  },
  {
   "cell_type": "markdown",
   "metadata": {},
   "source": [
    "# GoTypes Jupyter Notebook"
   ]
  },
  {
   "cell_type": "markdown",
   "metadata": {},
   "source": [
    "This notebook follows along with the book \"Deep Learning and the Game of Go\" by Max Pumperla and Kevin Ferguson. Some people have mentioned that I need to do a better job commenting out my code to explain intermediate python tactics. Thus, I will be commenting out many lines to not only completely understand code, but also sharpen my teaching skills. "
   ]
  },
  {
   "cell_type": "markdown",
   "metadata": {},
   "source": [
    "## Chapter 3"
   ]
  },
  {
   "cell_type": "markdown",
   "metadata": {},
   "source": [
    "### Using an enum to represent players"
   ]
  },
  {
   "cell_type": "markdown",
   "metadata": {},
   "source": [
    "<i>Insert into gotypes.py</i>"
   ]
  },
  {
   "cell_type": "code",
   "execution_count": 8,
   "metadata": {},
   "outputs": [],
   "source": [
    "import enum "
   ]
  },
  {
   "cell_type": "markdown",
   "metadata": {},
   "source": [
    "Using enum with the different player classes is logical since enum comes with all kinds of useful goodies."
   ]
  },
  {
   "cell_type": "code",
   "execution_count": 34,
   "metadata": {},
   "outputs": [],
   "source": [
    "class Player(enum.Enum):\n",
    "    black = 1\n",
    "    white = 2\n",
    "    \n",
    "    @property\n",
    "    def other(self):\n",
    "        return Player.black if self == Player.white else Player.white"
   ]
  },
  {
   "cell_type": "markdown",
   "metadata": {},
   "source": [
    "### Using Tuples to represent points of a Go board"
   ]
  },
  {
   "cell_type": "markdown",
   "metadata": {},
   "source": [
    "<i>Insert into gotypes.py</i>"
   ]
  },
  {
   "cell_type": "code",
   "execution_count": 16,
   "metadata": {},
   "outputs": [],
   "source": [
    "from collections import namedtuple\n",
    "\n",
    "# This library is chosen to help with code readability.\n",
    "# point.row is easier to read than point[0]\n",
    "\n",
    "class Point(namedtuple(\"Point\", \"row col\")):\n",
    "    \n",
    "    # This will allow us to look at the liberties of each stone\n",
    " \n",
    "    def neighbors(self):\n",
    "        return [\n",
    "            Point(self.row - 1, self.col),\n",
    "            Point(self.row + 1, self.col),\n",
    "            Point(self.row, self.col - 1),\n",
    "            Point(self.row, self.col + 1),"
   ]
  },
  {
   "cell_type": "markdown",
   "metadata": {},
   "source": [
    "### Setting Moves: plays, passes, or resigns"
   ]
  },
  {
   "cell_type": "markdown",
   "metadata": {},
   "source": [
    "<i>Insert into goboard_slow.py</i>"
   ]
  },
  {
   "cell_type": "code",
   "execution_count": 15,
   "metadata": {},
   "outputs": [],
   "source": [
    "import copy\n",
    "from dlgo.gotypes import Player\n",
    "\n",
    "# This import is interesting, we are already coding\n",
    "# above, I think I will make a new .py file and add it the current \n",
    "# working directory\n",
    "\n",
    "\n",
    "class Move():\n",
    "    \n",
    "    # In the game of Go an action is defined as either a play, \n",
    "    # a pass or resign. Plays are defined as placing a stone.\n",
    "    \n",
    "    \n",
    "    def __init__(self, point=None, is_pass=False, is_resign=False):\n",
    "        \n",
    "        assert (point is not None) ^ is_pass ^ is_resign\n",
    "                \n",
    "        # The carrot here (^) is the pythonic XOR operator.\n",
    "        # assert allows us to interupt the program unless \n",
    "        # one of these is true. Notice that if two or more are\n",
    "        # true, then this will also break the line.\n",
    "        \n",
    "        self.point = point\n",
    "        self.is_play = (self.point is not None)\n",
    "        self.is_pass = is_pass\n",
    "        self.is_resign = is_resign\n",
    "\n",
    "        \n",
    "        @classmethod \n",
    "        def play(cls, point):\n",
    "            return Move(point = point)\n",
    "        \n",
    "        @classmethod\n",
    "        def pass_turn(cls):\n",
    "            return Move(is_pass = True)\n",
    "        \n",
    "        @classmethod\n",
    "        def resign(cls):\n",
    "            return Move(is_resign = True)"
   ]
  },
  {
   "cell_type": "markdown",
   "metadata": {},
   "source": [
    "### Encoding Strings of stones with set"
   ]
  },
  {
   "cell_type": "markdown",
   "metadata": {},
   "source": [
    "<i>Insert into goboard_slow.py</i>"
   ]
  },
  {
   "cell_type": "markdown",
   "metadata": {},
   "source": [
    "In the game of go, connected stones can only stay in play if they share one \"liberty.\" Tracking every stone's liberties would be computationally burdensome. Thus, we will be looking at connected groups of stones."
   ]
  },
  {
   "cell_type": "code",
   "execution_count": 21,
   "metadata": {},
   "outputs": [],
   "source": [
    "class GoString():  # <1>\n",
    "    def __init__(self, color, stones, liberties):\n",
    "        self.color = color\n",
    "        self.stones = set(stones)\n",
    "        self.liberties = set(liberties)\n",
    "\n",
    "    def remove_liberty(self, point):\n",
    "        self.liberties.remove(point)\n",
    "\n",
    "    def add_liberty(self, point):\n",
    "        self.liberties.add(point)\n",
    "\n",
    "    def merged_with(self, go_string):  # <2>\n",
    "        assert go_string.color == self.color\n",
    "        combined_stones = self.stones | go_string.stones\n",
    "        return GoString(\n",
    "            self.color,\n",
    "            combined_stones,\n",
    "            (self.liberties | go_string.liberties) - combined_stones)\n",
    "\n",
    "    @property\n",
    "    def num_liberties(self):\n",
    "        return len(self.liberties)\n",
    "\n",
    "    def __eq__(self, other):\n",
    "        return isinstance(other, GoString) and \\\n",
    "            self.color == other.color and \\\n",
    "            self.stones == other.stones and \\\n",
    "            self.liberties == other.liberties"
   ]
  },
  {
   "cell_type": "markdown",
   "metadata": {},
   "source": [
    "### Creating a Go Board instance"
   ]
  },
  {
   "cell_type": "markdown",
   "metadata": {},
   "source": [
    "<i>Insert into goboard_slow.py</i>"
   ]
  },
  {
   "cell_type": "markdown",
   "metadata": {},
   "source": [
    "This explanation format is not my style. Doubling back to an already defined class in different strings like this seems like it would breed confusion. I will just redo the entire class and continue it below."
   ]
  },
  {
   "cell_type": "code",
   "execution_count": 22,
   "metadata": {},
   "outputs": [],
   "source": [
    "class Board():\n",
    "    \n",
    "    # We can change the shape of the go board with this init\n",
    "    \n",
    "    def __init__(self, num_rows, num_cols):\n",
    "        self.num_rows = num_rows\n",
    "        self.num_cols = num_cols\n",
    "        self._grid = {}"
   ]
  },
  {
   "cell_type": "markdown",
   "metadata": {},
   "source": [
    "### Creating neighboring points for liberties"
   ]
  },
  {
   "cell_type": "markdown",
   "metadata": {},
   "source": [
    "<i>Insert into goboard_slow.py</i>"
   ]
  },
  {
   "cell_type": "code",
   "execution_count": 5,
   "metadata": {},
   "outputs": [],
   "source": [
    "class Board():\n",
    "    \n",
    "    # We can change the shape of the go board with this init\n",
    "    \n",
    "    def place_stone(self, player, point):\n",
    "        \n",
    "        assert self.is_on_grid(point)\n",
    "        assert self._grid.get(point) is None\n",
    "        adjacent_same_color = []\n",
    "        adjacent_opposite_color = []\n",
    "        liberties = []\n",
    "        \n",
    "        # Examine the neighborhood of point. \n",
    "        \n",
    "        for neighbor in point.neighbors():  \n",
    "            if not self.is_on_grid(neighbor):\n",
    "                continue\n",
    "            neighbor_string = self._grid.get(neighbor)\n",
    "            if neighbor_string is None:\n",
    "                liberties.append(neighbor)\n",
    "            elif neighbor_string.color == player:\n",
    "                if neighbor_string not in adjacent_same_color:\n",
    "                    adjacent_same_color.append(neighbor_string)\n",
    "            else:\n",
    "                if neighbor_string not in adjacent_opposite_color:\n",
    "                    adjacent_opposite_color.append(neighbor_string)\n",
    "        \n",
    "        new_string = GoString(player, [point], liberties)\n",
    "\n",
    "            # Not sure how I feel abou these weird nested elifs\n",
    "            # and ifs probably best to fix it once I have the \n",
    "            # code live"
   ]
  },
  {
   "cell_type": "markdown",
   "metadata": {},
   "source": [
    "### Utility methods for placing and removing stones "
   ]
  },
  {
   "cell_type": "code",
   "execution_count": 6,
   "metadata": {},
   "outputs": [],
   "source": [
    "class Board():\n",
    "    \n",
    "    def place_stone(self, player, point):\n",
    "        \n",
    "        assert self.is_on_grid(point)\n",
    "        assert self._grid.get(point) is None\n",
    "        adjacent_same_color = []\n",
    "        adjacent_opposite_color = []\n",
    "        liberties = []\n",
    "                \n",
    "        for neighbor in point.neighbors():  \n",
    "            if not self.is_on_grid(neighbor):\n",
    "                continue\n",
    "            neighbor_string = self._grid.get(neighbor)\n",
    "            if neighbor_string is None:\n",
    "                liberties.append(neighbor)\n",
    "            elif neighbor_string.color == player:\n",
    "                if neighbor_string not in adjacent_same_color:\n",
    "                    adjacent_same_color.append(neighbor_string)\n",
    "            else:\n",
    "                if neighbor_string not in adjacent_opposite_color:\n",
    "                    adjacent_opposite_color.append(neighbor_string)\n",
    "        \n",
    "        new_string = GoString(player, [point], liberties)\n",
    "            \n",
    "        def is_on_grid(self, point):\n",
    "            return 1 <= point.row <= self.num_rows and \\\n",
    "                1 <= point.col <= self.num_cols\n",
    "\n",
    "        def get(self, point):\n",
    "            \n",
    "            # The explination here is:\n",
    "            # Returns the content of a point on the board: \n",
    "            # a Player if there is a stone on that point \n",
    "            # or else None.\n",
    "            # Seems a little over packed for syntax, otherwise OK\n",
    "        \n",
    "            string = self._grid.get(point)\n",
    "            if string is None:\n",
    "                return None\n",
    "            return string.color\n",
    "\n",
    "        def get_go_string(self, point):\n",
    "            \n",
    "            # Returns the string of stones at a point else None \n",
    "            \n",
    "            string = self._grid.get(point)\n",
    "            if string is None:\n",
    "                return None\n",
    "            return string"
   ]
  },
  {
   "cell_type": "markdown",
   "metadata": {},
   "source": [
    "### Continuing our definition of place_stone"
   ]
  },
  {
   "cell_type": "markdown",
   "metadata": {},
   "source": [
    "Finished Below"
   ]
  },
  {
   "cell_type": "markdown",
   "metadata": {},
   "source": [
    "### Continuing our definition of place_stone"
   ]
  },
  {
   "cell_type": "code",
   "execution_count": 32,
   "metadata": {},
   "outputs": [],
   "source": [
    "# Section from 3.8\n",
    "\n",
    "class Board():\n",
    "    \n",
    "    def place_stone(self, player, point):\n",
    "        \n",
    "        assert self.is_on_grid(point)\n",
    "        assert self._grid.get(point) is None\n",
    "        adjacent_same_color = []\n",
    "        adjacent_opposite_color = []\n",
    "        liberties = []\n",
    "                \n",
    "        for neighbor in point.neighbors():  \n",
    "            if not self.is_on_grid(neighbor):\n",
    "                continue\n",
    "            neighbor_string = self._grid.get(neighbor)\n",
    "            if neighbor_string is None:\n",
    "                liberties.append(neighbor)\n",
    "            elif neighbor_string.color == player:\n",
    "                if neighbor_string not in adjacent_same_color:\n",
    "                    adjacent_same_color.append(neighbor_string)\n",
    "            else:\n",
    "                if neighbor_string not in adjacent_opposite_color:\n",
    "                    adjacent_opposite_color.append(neighbor_string)\n",
    "        \n",
    "        new_string = GoString(player, [point], liberties)\n",
    "            \n",
    "    def is_on_grid(self, point):\n",
    "        return 1 <= point.row <= self.num_rows and \\\n",
    "            1 <= point.col <= self.num_cols\n",
    "\n",
    "    def get(self, point):\n",
    "\n",
    "        string = self._grid.get(point)\n",
    "        if string is None:\n",
    "            return None\n",
    "        return string.color\n",
    "\n",
    "    def get_go_string(self, point):\n",
    "\n",
    "        string = self._grid.get(point)\n",
    "        if string is None:\n",
    "            return None\n",
    "        return string\n",
    "\n",
    "    for same_color_string in adjacent_same_color:\n",
    "        new_string = new_string.merged_with(same_color_string)\n",
    "\n",
    "    # Merge adjacent strings into the same color\n",
    "\n",
    "    for new_string_point in new_string.stones:\n",
    "        self._grid[new_string_point] = new_string\n",
    "\n",
    "    # Reduce liberties of any adjacent strings with\n",
    "    # opposite color.\n",
    "\n",
    "    for other_color_string in adjacent_opposite_color:\n",
    "        other_color_string.remove_liberty(point)\n",
    "\n",
    "    for other_color_string in adjacent_opposite_color:\n",
    "        if other_color_string.num_liberties == 0:\n",
    "            self._remove_string(other_color_string)\n",
    "\n",
    "    # Remove zero libery stones\n",
    "\n",
    "# Section 3.9\n",
    "\n",
    "    def _remove_string(self, string):\n",
    "        for point in string.stones:\n",
    "            for neighbor in point.neighbors():\n",
    "                \n",
    "                # Removing a string will add liberties to others\n",
    "                \n",
    "                neighbor_string = self._grid.get(neighbor)\n",
    "                if neighbor_string is None:\n",
    "                    continue\n",
    "                if neighbor_string is not string:\n",
    "                    neighbor_string.add_liberty(point)\n",
    "            self._grid[point] = None"
   ]
  },
  {
   "cell_type": "markdown",
   "metadata": {},
   "source": [
    "### Encoding game state for a game of Go"
   ]
  },
  {
   "cell_type": "markdown",
   "metadata": {},
   "source": [
    "Add into goboard_slow.py. See complete code and notes in the sections below."
   ]
  },
  {
   "cell_type": "markdown",
   "metadata": {},
   "source": [
    "### Deciding when a game of Go over"
   ]
  },
  {
   "cell_type": "markdown",
   "metadata": {},
   "source": [
    "Note that the source code is presented in a different order from the chapter structure. Will do the best to try and follow the outline."
   ]
  },
  {
   "cell_type": "markdown",
   "metadata": {},
   "source": [
    "### Continuing our definition of GameState to enforce the self capture rule"
   ]
  },
  {
   "cell_type": "markdown",
   "metadata": {},
   "source": [
    "When a player makes a play where he takes away a groups only liberty, that is called \"self capture,\" while it is possible to imagine a position where self capture is the best move, it is rarely and will be eliminate it to save on computational time."
   ]
  },
  {
   "cell_type": "markdown",
   "metadata": {},
   "source": [
    "### Does the current game state violate the ko rule?"
   ]
  },
  {
   "cell_type": "markdown",
   "metadata": {},
   "source": [
    "Basically, Ko is a move rule that repeats a previous position. We are interested in looking through the game history to prevent repeats."
   ]
  },
  {
   "cell_type": "markdown",
   "metadata": {},
   "source": [
    "### Is this move valid for the given game state?"
   ]
  },
  {
   "cell_type": "markdown",
   "metadata": {},
   "source": [
    "Using all of the above ideas, we can define when a game is valid"
   ]
  },
  {
   "cell_type": "code",
   "execution_count": 33,
   "metadata": {},
   "outputs": [],
   "source": [
    "# Listing 3.10 starts\n",
    "\n",
    "class GameState():\n",
    "    def __init__(self, board, next_player, previous, move):\n",
    "        self.board = board\n",
    "        self.next_player = next_player\n",
    "        self.previous_state = previous\n",
    "        self.last_move = move\n",
    "\n",
    "    def apply_move(self, move):\n",
    "        \n",
    "        #Games states change with each move\n",
    "        \n",
    "        if move.is_play:\n",
    "            next_board = copy.deepcopy(self.board)\n",
    "            next_board.place_stone(self.next_player, move.point)\n",
    "        else:\n",
    "            next_board = self.board\n",
    "        return GameState(next_board, self.next_player.other, self, move)\n",
    "\n",
    "    @classmethod\n",
    "    def new_game(cls, board_size):\n",
    "        if isinstance(board_size, int):\n",
    "            board_size = (board_size, board_size)\n",
    "        board = Board(*board_size)\n",
    "        return GameState(board, Player.black, None, None)\n",
    "\n",
    "# Listing 3.11 starts\n",
    "    \n",
    "    def is_over(self):\n",
    "        if self.last_move is None:\n",
    "            return False\n",
    "        if self.last_move.is_resign:\n",
    "            return True\n",
    "        second_last_move = self.previous_state.last_move\n",
    "        if second_last_move is None:\n",
    "            return False\n",
    "        return self.last_move.is_pass and second_last_move.is_pass\n",
    "\n",
    "# Listing 3.12 starts\n",
    "\n",
    "    def is_move_self_capture(self, player, move):\n",
    "        if not move.is_play:\n",
    "            return False\n",
    "            \n",
    "        # You can kill your own stone to prompt the opponent\n",
    "        # To close it's eye. Thys we need to add self capture into \n",
    "        # The code\n",
    "        \n",
    "        next_board = copy.deepcopy(self.board)\n",
    "        next_board.place_stone(player, move.point)\n",
    "        new_string = next_board.get_go_string(move.point)\n",
    "        return new_string.num_liberties == 0\n",
    "\n",
    "# Listing 3.13 starts\n",
    "\n",
    "    @property\n",
    "    def situation(self):\n",
    "        return (self.next_player, self.board)\n",
    "\n",
    "    def does_move_violate_ko(self, player, move):\n",
    "        if not move.is_play:\n",
    "            return False\n",
    "        next_board = copy.deepcopy(self.board)\n",
    "        next_board.place_stone(player, move.point)\n",
    "        next_situation = (player.other, next_board)\n",
    "        past_state = self.previous_state\n",
    "        while past_state is not None:\n",
    "            if past_state.situation == next_situation:\n",
    "                return True\n",
    "            past_state = past_state.previous_state\n",
    "        return False\n",
    "\n",
    "# Listing 3.14   \n",
    "    \n",
    "    \n",
    "    def is_valid_move(self, move):\n",
    "        if self.is_over():\n",
    "            return False\n",
    "        if move.is_pass or move.is_resign:\n",
    "            return True\n",
    "        return (\n",
    "            self.board.get(move.point) is None and\n",
    "            not self.is_move_self_capture(self.next_player, move) and\n",
    "            not self.does_move_violate_ko(self.next_player, move))\n",
    "\n",
    "### These lines are in the source code, but not in the book\n",
    "### We will double back and review them later.\n",
    "\n",
    "    def legal_moves(self):\n",
    "        moves = []\n",
    "        for row in range(1, self.board.num_rows + 1):\n",
    "            for col in range(1, self.board.num_cols + 1):\n",
    "                move = Move.play(Point(row, col))\n",
    "                if self.is_valid_move(move):\n",
    "                    moves.append(move)\n",
    "        # These two moves are always legal.\n",
    "        moves.append(Move.pass_turn())\n",
    "        moves.append(Move.resign())\n",
    "\n",
    "        return moves\n",
    "\n",
    "    def winner(self):\n",
    "        if not self.is_over():\n",
    "            return None\n",
    "        if self.last_move.is_resign:\n",
    "            return self.next_player\n",
    "        game_result = compute_game_result(self)\n",
    "        return game_result.winner"
   ]
  },
  {
   "cell_type": "markdown",
   "metadata": {},
   "source": [
    "### Is the given point of the board an eyes?"
   ]
  },
  {
   "cell_type": "markdown",
   "metadata": {},
   "source": [
    "We have to create a new submodule called agent with an empty $__init__.py$ file. We will name this file helpers.py"
   ]
  },
  {
   "cell_type": "code",
   "execution_count": 8,
   "metadata": {},
   "outputs": [],
   "source": [
    "from dlgo.gotypes import Point\n",
    "\n",
    "# This is from section 3.2\n",
    "\n",
    "def is_point_an_eye(board, point, color):\n",
    "    if board.get(point) is not None:  \n",
    "        return False\n",
    "    \n",
    "    # Eye's in go are empty points. \n",
    "    \n",
    "    for neighbor in point.neighbors():\n",
    "        if board.is_on_grid(neighbor):\n",
    "            neighbor_color = board.get(neighbor)\n",
    "            if neighbor_color != color:\n",
    "                return False\n",
    "            \n",
    "    # An eye has to be in friendly teritory and surrounded by\n",
    "    # friendly stones.\n",
    "\n",
    "    friendly_corners = 0  # <3>\n",
    "    off_board_corners = 0\n",
    "    corners = [\n",
    "        Point(point.row - 1, point.col - 1),\n",
    "        Point(point.row - 1, point.col + 1),\n",
    "        Point(point.row + 1, point.col - 1),\n",
    "        Point(point.row + 1, point.col + 1),\n",
    "    ]\n",
    "    \n",
    "    # For an eye to count, the player must control 3 out of 4 \n",
    "    # corners if the point is in the middle of the board; \n",
    "    # on the edge all corners must be controlled. \n",
    "    \n",
    "    for corner in corners:\n",
    "        if board.is_on_grid(corner):\n",
    "            corner_color = board.get(corner)\n",
    "            if corner_color == color:\n",
    "                friendly_corners += 1\n",
    "        else:\n",
    "            off_board_corners += 1\n",
    "    if off_board_corners > 0:\n",
    "        return off_board_corners + friendly_corners == 4  \n",
    "    \n",
    "    # Checks to see if eye is on edge or corner.\n",
    "    \n",
    "    return friendly_corners >= 3\n",
    "\n",
    "    # Checks if eye is in the middle."
   ]
  },
  {
   "cell_type": "markdown",
   "metadata": {},
   "source": [
    "### Your central interface for Go agents"
   ]
  },
  {
   "cell_type": "markdown",
   "metadata": {},
   "source": [
    "This is the agent definition sent into base.py."
   ]
  },
  {
   "cell_type": "code",
   "execution_count": 9,
   "metadata": {},
   "outputs": [],
   "source": [
    "class Agent:\n",
    "    def __init__(self):\n",
    "        pass\n",
    "\n",
    "    def select_move(self, game_state):\n",
    "        raise NotImplementedError()\n",
    "\n",
    "    def diagnostics(self):\n",
    "        return {}"
   ]
  },
  {
   "cell_type": "markdown",
   "metadata": {},
   "source": [
    "### A random Go bot, playing at about 30 kyu strength."
   ]
  },
  {
   "cell_type": "code",
   "execution_count": 1,
   "metadata": {},
   "outputs": [
    {
     "ename": "ModuleNotFoundError",
     "evalue": "No module named 'dlgo.scoring'",
     "output_type": "error",
     "traceback": [
      "\u001b[0;31m---------------------------------------------------------------------------\u001b[0m",
      "\u001b[0;31mModuleNotFoundError\u001b[0m                       Traceback (most recent call last)",
      "\u001b[0;32m<ipython-input-1-3051f5d30543>\u001b[0m in \u001b[0;36m<module>\u001b[0;34m\u001b[0m\n\u001b[1;32m      2\u001b[0m \u001b[0;32mfrom\u001b[0m \u001b[0mdlgo\u001b[0m\u001b[0;34m.\u001b[0m\u001b[0magent\u001b[0m\u001b[0;34m.\u001b[0m\u001b[0mbase\u001b[0m \u001b[0;32mimport\u001b[0m \u001b[0mAgent\u001b[0m\u001b[0;34m\u001b[0m\u001b[0;34m\u001b[0m\u001b[0m\n\u001b[1;32m      3\u001b[0m \u001b[0;32mfrom\u001b[0m \u001b[0mdlgo\u001b[0m\u001b[0;34m.\u001b[0m\u001b[0magent\u001b[0m\u001b[0;34m.\u001b[0m\u001b[0mhelpers\u001b[0m \u001b[0;32mimport\u001b[0m \u001b[0mis_point_an_eye\u001b[0m\u001b[0;34m\u001b[0m\u001b[0;34m\u001b[0m\u001b[0m\n\u001b[0;32m----> 4\u001b[0;31m \u001b[0;32mfrom\u001b[0m \u001b[0mdlgo\u001b[0m\u001b[0;34m.\u001b[0m\u001b[0mgoboard_slow\u001b[0m \u001b[0;32mimport\u001b[0m \u001b[0mMove\u001b[0m\u001b[0;34m\u001b[0m\u001b[0;34m\u001b[0m\u001b[0m\n\u001b[0m\u001b[1;32m      5\u001b[0m \u001b[0;32mfrom\u001b[0m \u001b[0mdlgo\u001b[0m\u001b[0;34m.\u001b[0m\u001b[0mgotypes\u001b[0m \u001b[0;32mimport\u001b[0m \u001b[0mPoint\u001b[0m\u001b[0;34m\u001b[0m\u001b[0;34m\u001b[0m\u001b[0m\n\u001b[1;32m      6\u001b[0m \u001b[0;34m\u001b[0m\u001b[0m\n",
      "\u001b[0;32m/media/data/Documents/Github/Code_and_Presentations/python/GoDeepLearning/dlgo/goboard_slow.py\u001b[0m in \u001b[0;36m<module>\u001b[0;34m\u001b[0m\n\u001b[1;32m      5\u001b[0m \u001b[0;31m# end::imports[]\u001b[0m\u001b[0;34m\u001b[0m\u001b[0;34m\u001b[0m\u001b[0;34m\u001b[0m\u001b[0m\n\u001b[1;32m      6\u001b[0m \u001b[0;32mfrom\u001b[0m \u001b[0mdlgo\u001b[0m\u001b[0;34m.\u001b[0m\u001b[0mgotypes\u001b[0m \u001b[0;32mimport\u001b[0m \u001b[0mPoint\u001b[0m\u001b[0;34m\u001b[0m\u001b[0;34m\u001b[0m\u001b[0m\n\u001b[0;32m----> 7\u001b[0;31m \u001b[0;32mfrom\u001b[0m \u001b[0mdlgo\u001b[0m\u001b[0;34m.\u001b[0m\u001b[0mscoring\u001b[0m \u001b[0;32mimport\u001b[0m \u001b[0mcompute_game_result\u001b[0m\u001b[0;34m\u001b[0m\u001b[0;34m\u001b[0m\u001b[0m\n\u001b[0m\u001b[1;32m      8\u001b[0m \u001b[0;34m\u001b[0m\u001b[0m\n\u001b[1;32m      9\u001b[0m __all__ = [\n",
      "\u001b[0;31mModuleNotFoundError\u001b[0m: No module named 'dlgo.scoring'"
     ]
    }
   ],
   "source": [
    "import random\n",
    "from dlgo.agent.base import Agent\n",
    "from dlgo.agent.helpers import is_point_an_eye\n",
    "from dlgo.goboard_slow import Move\n",
    "from dlgo.gotypes import Point\n",
    "\n",
    "__all__ = ['RandomBot']\n",
    "\n",
    "class RandomBot(Agent):\n",
    "    def select_move(self, game_state):\n",
    "        \"\"\"Choose a random valid move that preserves our own eyes.\"\"\"\n",
    "        candidates = []\n",
    "        for r in range(1, game_state.board.num_rows + 1):\n",
    "            for c in range(1, game_state.board.num_cols + 1):\n",
    "                candidate = Point(row=r, col=c)\n",
    "                if game_state.is_valid_move(Move.play(candidate)) and \\\n",
    "                        not is_point_an_eye(game_state.board,\n",
    "                                            candidate,\n",
    "                                            game_state.next_player):\n",
    "                    candidates.append(candidate)\n",
    "        if not candidates:\n",
    "            return Move.pass_turn()\n",
    "        return Move.play(random.choice(candidates))"
   ]
  },
  {
   "cell_type": "code",
   "execution_count": null,
   "metadata": {},
   "outputs": [],
   "source": []
  },
  {
   "cell_type": "code",
   "execution_count": null,
   "metadata": {},
   "outputs": [],
   "source": []
  },
  {
   "cell_type": "code",
   "execution_count": null,
   "metadata": {},
   "outputs": [],
   "source": []
  },
  {
   "cell_type": "code",
   "execution_count": null,
   "metadata": {},
   "outputs": [],
   "source": []
  },
  {
   "cell_type": "code",
   "execution_count": null,
   "metadata": {},
   "outputs": [],
   "source": []
  },
  {
   "cell_type": "code",
   "execution_count": null,
   "metadata": {},
   "outputs": [],
   "source": []
  },
  {
   "cell_type": "code",
   "execution_count": null,
   "metadata": {},
   "outputs": [],
   "source": []
  },
  {
   "cell_type": "code",
   "execution_count": null,
   "metadata": {},
   "outputs": [],
   "source": []
  },
  {
   "cell_type": "code",
   "execution_count": null,
   "metadata": {},
   "outputs": [],
   "source": []
  },
  {
   "cell_type": "code",
   "execution_count": null,
   "metadata": {},
   "outputs": [],
   "source": []
  },
  {
   "cell_type": "code",
   "execution_count": null,
   "metadata": {},
   "outputs": [],
   "source": []
  },
  {
   "cell_type": "code",
   "execution_count": null,
   "metadata": {},
   "outputs": [],
   "source": []
  }
 ],
 "metadata": {
  "kernelspec": {
   "display_name": "Python 3",
   "language": "python",
   "name": "python3"
  },
  "language_info": {
   "codemirror_mode": {
    "name": "ipython",
    "version": 3
   },
   "file_extension": ".py",
   "mimetype": "text/x-python",
   "name": "python",
   "nbconvert_exporter": "python",
   "pygments_lexer": "ipython3",
   "version": "3.7.5"
  },
  "toc": {
   "base_numbering": "3",
   "nav_menu": {},
   "number_sections": true,
   "sideBar": true,
   "skip_h1_title": true,
   "title_cell": "Table of Contents",
   "title_sidebar": "Contents",
   "toc_cell": true,
   "toc_position": {},
   "toc_section_display": true,
   "toc_window_display": false
  }
 },
 "nbformat": 4,
 "nbformat_minor": 2
}
