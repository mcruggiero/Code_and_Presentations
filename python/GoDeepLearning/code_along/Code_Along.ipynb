{
 "cells": [
  {
   "cell_type": "markdown",
   "metadata": {
    "toc": true
   },
   "source": [
    "<h1>Table of Contents<span class=\"tocSkip\"></span></h1>\n",
    "<div class=\"toc\"><ul class=\"toc-item\"><li><span><a href=\"#Implementing-your-first-Go-bot\" data-toc-modified-id=\"Implementing-your-first-Go-bot-3\"><span class=\"toc-item-num\">3&nbsp;&nbsp;</span>Implementing your first Go bot</a></span><ul class=\"toc-item\"><li><span><a href=\"#Using-an-enum-to-represent-players\" data-toc-modified-id=\"Using-an-enum-to-represent-players-3.1\"><span class=\"toc-item-num\">3.1&nbsp;&nbsp;</span>Using an enum to represent players</a></span></li><li><span><a href=\"#Using-Tuples-to-represent-points-of-a-Go-board\" data-toc-modified-id=\"Using-Tuples-to-represent-points-of-a-Go-board-3.2\"><span class=\"toc-item-num\">3.2&nbsp;&nbsp;</span>Using Tuples to represent points of a Go board</a></span></li></ul></li></ul></div>"
   ]
  },
  {
   "cell_type": "markdown",
   "metadata": {},
   "source": [
    "# Deep Learning and the Game of Go\n",
    "\n",
    "Max Pumperla <br>\n",
    "Kevin Ferguson <br>\n",
    "\n",
    "Notes by Michael Ruggiero"
   ]
  },
  {
   "cell_type": "markdown",
   "metadata": {},
   "source": [
    "## Implementing your first Go bot"
   ]
  },
  {
   "cell_type": "markdown",
   "metadata": {},
   "source": [
    "I had some trouble following along with the book, so I made this notebook to help myself piece the code together. The book tends to introduce a module, and then comes back to it later. While everything is reasonably labeled, I had a little trouble doubling back so I am going to run through all of the modules part by part.\n",
    "\n",
    "Here is the basic outline of the code used in chapter 3, with the pycache and .pyc complied work deleted.\n",
    "\n",
    ".<br>\n",
    "├── bot_v_bot.py<br>\n",
    "├── dlgo<br>\n",
    "│   ├── agent<br>\n",
    "│   ├── goboard_fast.py<br>\n",
    "│   ├── goboard_fast.pyc<br>\n",
    "│   ├── goboard_fast_test.py<br>\n",
    "│   ├── goboard.py<br>\n",
    "│   ├── goboard.pyc<br>\n",
    "│   ├── goboard_slow.py<strong> (Section 3.3)</strong><br>\n",
    "│   ├── goboard_test.py<br>\n",
    "│   ├── gotypes.py <strong>(Section 3.1 - 3.2)</strong><br> \n",
    "│   ├── __init__.py<br>\n",
    "│   ├── scoring.py<br>\n",
    "│   ├── utils.py<br>\n",
    "│   └── zobrist.py<br>\n",
    "├── generate_zobrist.py<br>\n",
    "├── human_v_bot.py<br>\n",
    "├── requirements.txt<br>\n",
    "└── setup.py<br>"
   ]
  },
  {
   "cell_type": "markdown",
   "metadata": {},
   "source": [
    "### Using an enum to represent players"
   ]
  },
  {
   "cell_type": "markdown",
   "metadata": {},
   "source": [
    "### Using Tuples to represent points of a Go board"
   ]
  },
  {
   "cell_type": "code",
   "execution_count": 7,
   "metadata": {},
   "outputs": [],
   "source": [
    "import enum\n",
    "from collections import namedtuple\n",
    "\n",
    "__all__ = [\n",
    "    'Player',\n",
    "    'Point']\n",
    "\n",
    "\n",
    "class Player(enum.Enum):\n",
    "    black = 1\n",
    "    white = 2\n",
    "\n",
    "    @property\n",
    "    def other(self):\n",
    "        return Player.black if self == Player.white else Player.white\n",
    "\n",
    "class Point(namedtuple('Point', 'row col')):\n",
    "    #This sets the points of a neighbor on the board.\n",
    "    def neighbors(self):\n",
    "        \n",
    "        return [\n",
    "            Point(self.row - 1, self.col),\n",
    "            Point(self.row + 1, self.col),\n",
    "            Point(self.row, self.col - 1),\n",
    "            Point(self.row, self.col + 1),\n",
    "        ]\n",
    "\n",
    "    def __deepcopy__(self, memodict={}):\n",
    "        # These are very immutable.\n",
    "        return self"
   ]
  },
  {
   "cell_type": "code",
   "execution_count": null,
   "metadata": {},
   "outputs": [],
   "source": []
  }
 ],
 "metadata": {
  "kernelspec": {
   "display_name": "Python 3",
   "language": "python",
   "name": "python3"
  },
  "language_info": {
   "codemirror_mode": {
    "name": "ipython",
    "version": 3
   },
   "file_extension": ".py",
   "mimetype": "text/x-python",
   "name": "python",
   "nbconvert_exporter": "python",
   "pygments_lexer": "ipython3",
   "version": "3.7.5"
  },
  "toc": {
   "base_numbering": "3",
   "nav_menu": {},
   "number_sections": true,
   "sideBar": true,
   "skip_h1_title": true,
   "title_cell": "Table of Contents",
   "title_sidebar": "Contents",
   "toc_cell": true,
   "toc_position": {
    "height": "calc(100% - 180px)",
    "left": "10px",
    "top": "150px",
    "width": "165px"
   },
   "toc_section_display": true,
   "toc_window_display": true
  }
 },
 "nbformat": 4,
 "nbformat_minor": 2
}
