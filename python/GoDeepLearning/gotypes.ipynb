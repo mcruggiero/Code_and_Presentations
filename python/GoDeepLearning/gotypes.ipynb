{
 "cells": [
  {
   "cell_type": "markdown",
   "metadata": {
    "toc": true
   },
   "source": [
    "<h1>Table of Contents<span class=\"tocSkip\"></span></h1>\n",
    "<div class=\"toc\"><ul class=\"toc-item\"><li><span><a href=\"#Chapter-3\" data-toc-modified-id=\"Chapter-3-3\"><span class=\"toc-item-num\">3&nbsp;&nbsp;</span>Chapter 3</a></span><ul class=\"toc-item\"><li><span><a href=\"#Using-an-enum-to-represent-players\" data-toc-modified-id=\"Using-an-enum-to-represent-players-3.1\"><span class=\"toc-item-num\">3.1&nbsp;&nbsp;</span>Using an enum to represent players</a></span></li><li><span><a href=\"#Using-Tuples-to-represent-points-of-a-Go-board\" data-toc-modified-id=\"Using-Tuples-to-represent-points-of-a-Go-board-3.2\"><span class=\"toc-item-num\">3.2&nbsp;&nbsp;</span>Using Tuples to represent points of a Go board</a></span></li></ul></li></ul></div>"
   ]
  },
  {
   "cell_type": "markdown",
   "metadata": {},
   "source": [
    "# GoTypes Jupyter Notebook"
   ]
  },
  {
   "cell_type": "markdown",
   "metadata": {},
   "source": [
    "This notebook follows along with the book \"Deep Learning and the Game of Go\" by Max Pumperla and Kevin Ferguson. Some people have mentioned that I need to do a better job commenting out my code to explain the intermediate python tactics. Thus, I will be extensively commenting out every line to not only completely understand code, but also sharpen my teaching skills. "
   ]
  },
  {
   "cell_type": "markdown",
   "metadata": {},
   "source": [
    "## Chapter 3"
   ]
  },
  {
   "cell_type": "markdown",
   "metadata": {},
   "source": [
    "### Using an enum to represent players"
   ]
  },
  {
   "cell_type": "code",
   "execution_count": 3,
   "metadata": {},
   "outputs": [],
   "source": [
    "import enum "
   ]
  },
  {
   "cell_type": "markdown",
   "metadata": {},
   "source": [
    "Using enum with the different player classes is logical since enum comes with all kinds of useful goodies."
   ]
  },
  {
   "cell_type": "code",
   "execution_count": 5,
   "metadata": {},
   "outputs": [],
   "source": [
    "class Players(enum.Enum):\n",
    "    black = 1\n",
    "    white = 2\n",
    "    \n",
    "    @property\n",
    "    def other(self):\n",
    "        return Player.black if self == Players.white else Player.white"
   ]
  },
  {
   "cell_type": "markdown",
   "metadata": {},
   "source": [
    "### Using Tuples to represent points of a Go board"
   ]
  },
  {
   "cell_type": "code",
   "execution_count": 14,
   "metadata": {},
   "outputs": [],
   "source": [
    "from collections import namedtuple"
   ]
  },
  {
   "cell_type": "code",
   "execution_count": null,
   "metadata": {},
   "outputs": [],
   "source": []
  }
 ],
 "metadata": {
  "kernelspec": {
   "display_name": "Python 3",
   "language": "python",
   "name": "python3"
  },
  "language_info": {
   "codemirror_mode": {
    "name": "ipython",
    "version": 3
   },
   "file_extension": ".py",
   "mimetype": "text/x-python",
   "name": "python",
   "nbconvert_exporter": "python",
   "pygments_lexer": "ipython3",
   "version": "3.7.5"
  },
  "toc": {
   "base_numbering": "3",
   "nav_menu": {},
   "number_sections": true,
   "sideBar": true,
   "skip_h1_title": true,
   "title_cell": "Table of Contents",
   "title_sidebar": "Contents",
   "toc_cell": true,
   "toc_position": {},
   "toc_section_display": true,
   "toc_window_display": false
  }
 },
 "nbformat": 4,
 "nbformat_minor": 2
}
