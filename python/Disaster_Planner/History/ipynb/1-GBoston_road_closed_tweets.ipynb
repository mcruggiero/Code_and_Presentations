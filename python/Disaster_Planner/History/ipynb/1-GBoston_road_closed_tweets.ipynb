{
 "cells": [
  {
   "cell_type": "markdown",
   "metadata": {
    "nbpresent": {
     "id": "4194895c-aee6-4007-952d-9f8e8f28b890"
    }
   },
   "source": [
    "# Historical Tweets - from Twitter Search API using Tweepy Library <br>\n",
    "\n",
    "Heavily inspired by DSI-6's(Amy Taylor and Veronica Giannotta) work"
   ]
  },
  {
   "cell_type": "code",
   "execution_count": 124,
   "metadata": {
    "nbpresent": {
     "id": "7a35bd4f-64b7-4da2-b5d6-07f879c10654"
    }
   },
   "outputs": [],
   "source": [
    "import pandas as pd\n",
    "import tweepy\n",
    "import shutil\n",
    "import jsonpickle\n",
    "import json\n",
    "import datetime\n",
    "import config\n",
    "from pandas.io.json import json_normalize"
   ]
  },
  {
   "cell_type": "markdown",
   "metadata": {
    "nbpresent": {
     "id": "91702dbc-8243-4d9b-b081-8e94def65aa0"
    }
   },
   "source": [
    "## Creation of API object\n"
   ]
  },
  {
   "cell_type": "code",
   "execution_count": 125,
   "metadata": {
    "nbpresent": {
     "id": "f3323f68-62bf-423c-91b0-4eeac028887d"
    }
   },
   "outputs": [],
   "source": [
    "# authenticate account with tweepy\n",
    "auth = tweepy.OAuthHandler('1ZWD1JS7xivKADeOCV7zVXgI4', 'TgsgO0MaUYw2dccUVC7KtD8SYUX4QYaoxT52D4ye2146d0sLHo')\n",
    "auth.set_access_token('3799487133-rGUwhJRC2pKZmx8UbureNKPxXSdZAgsWnOrjMQk', 'jOr0vlL0gzyRh1gOQTievE2ZAvuN1sD2FgYCGilFKmE60')\n",
    "\n",
    "# create API object to pull data from twitter - and pass in authentication code\n",
    "api = tweepy.API(auth, wait_on_rate_limit=True, wait_on_rate_limit_notify=True)"
   ]
  },
  {
   "cell_type": "markdown",
   "metadata": {
    "nbpresent": {
     "id": "e0814491-a723-400c-bf53-51c4d43f7f72"
    }
   },
   "source": [
    "# City api.geo search"
   ]
  },
  {
   "cell_type": "code",
   "execution_count": 137,
   "metadata": {
    "nbpresent": {
     "id": "45273621-1fac-402e-803d-4678436ad7b7"
    }
   },
   "outputs": [
    {
     "name": "stdout",
     "output_type": "stream",
     "text": [
      "place_id is:  67b98f17fdcf20be\n"
     ]
    }
   ],
   "source": [
    "#  Determine the city, country, or location you want\n",
    "places = api.geo_search(query=\"Boston, MA\", \n",
    "                        granularity=\"city\"\n",
    "                        )\n",
    "place_id = places[0].id\n",
    "print('place_id is: ',place_id)"
   ]
  },
  {
   "cell_type": "markdown",
   "metadata": {
    "nbpresent": {
     "id": "74feb20b-8bdb-403b-bf7e-4f17039f87f9"
    }
   },
   "source": [
    "**Download tweets from Search API based on our query search terms, and save tweets as a json file**"
   ]
  },
  {
   "cell_type": "code",
   "execution_count": 138,
   "metadata": {
    "nbpresent": {
     "id": "faf6dc51-2b8f-40a1-b142-e978b42abe32"
    }
   },
   "outputs": [
    {
     "name": "stdout",
     "output_type": "stream",
     "text": [
      "Downloaded 12 tweets\n"
     ]
    }
   ],
   "source": [
    "# query including placeID\n",
    "searchQuery = 'place:67b98f17fdcf20be closed traffic' \n",
    "\n",
    "tweetCount = 0\n",
    "\n",
    "#Open a text file to save the tweets to\n",
    "with open('./boston.json', 'w') as f:\n",
    "\n",
    "    # use Search API (api.search) with query\n",
    "    for tweet in tweepy.Cursor(api.search,q=searchQuery\n",
    "                              ).items() :         \n",
    "\n",
    "        #Verify the tweet has place info before writing \n",
    "        if tweet.place is not None:\n",
    "            \n",
    "            #Write the JSON format to the text file, and add one to the number collected\n",
    "            f.write(jsonpickle.encode(tweet._json, unpicklable=False) + '\\n')\n",
    "            tweetCount += 1\n",
    "\n",
    "    #Display number of tweets collected\n",
    "    print(\"Downloaded {0} tweets\".format(tweetCount))"
   ]
  },
  {
   "cell_type": "markdown",
   "metadata": {
    "nbpresent": {
     "id": "2477087a-0b4e-4ccd-b439-f14993ad71d5"
    }
   },
   "source": [
    "**Create a timestamp to the json file name**"
   ]
  },
  {
   "cell_type": "code",
   "execution_count": 139,
   "metadata": {
    "nbpresent": {
     "id": "e30fcb1c-2794-48ea-990c-a55b58cc25a0"
    }
   },
   "outputs": [
    {
     "data": {
      "text/plain": [
       "12"
      ]
     },
     "execution_count": 139,
     "metadata": {},
     "output_type": "execute_result"
    }
   ],
   "source": [
    "def file_conversion():\n",
    "    #create a timestamp\n",
    "    now = datetime.datetime.now()\n",
    "    month = '0'+str(now.month)\n",
    "    day = str(now.day)\n",
    "    hour = str(now.hour)\n",
    "    minute = str(now.minute)\n",
    "    now_str = str(now.year)+month+day+'_'+hour+'_'+minute\n",
    "    \n",
    "    \n",
    "    # Dali: I did not get this part of the code\n",
    "    #replace the name of the file with a new timestamped filename\n",
    "    \n",
    "    dest = './boston_' + now_str + \".json\"\n",
    "    shutil.move('./boston.json', dest)\n",
    "    \n",
    "    with open(dest, \"r\") as f:\n",
    "        status = f.readlines()\n",
    "        jsons = []\n",
    "        for ind in status:\n",
    "            jsons.append(json.loads(ind))\n",
    "    return jsons\n",
    "\n",
    "# Uncomment out the file_conversion function to activate the file name change\n",
    "len(file_conversion())"
   ]
  },
  {
   "cell_type": "markdown",
   "metadata": {
    "nbpresent": {
     "id": "604a2b09-df0a-4641-9f30-de3883532c10"
    }
   },
   "source": [
    "**Add the newly created json file to the list below for easy access later**"
   ]
  },
  {
   "cell_type": "code",
   "execution_count": 140,
   "metadata": {
    "nbpresent": {
     "id": "4558b66b-a4e5-4393-a52d-3495ccd09777"
    }
   },
   "outputs": [],
   "source": [
    "# Previously created json files can be accessed from this list\n",
    "#json_df = pd.read_json(\"./medford_20190415_17_41.json\", lines = True)\n",
    "#json_df = pd.read_json(\"./medford_20190415_21_24.json\", lines = True)\n",
    "json_df = pd.read_json(\"./boston_20190415_22_44.json\", lines = True)"
   ]
  },
  {
   "cell_type": "markdown",
   "metadata": {
    "nbpresent": {
     "id": "63b26ce2-424c-477f-b326-4192259183a1"
    }
   },
   "source": [
    "**Explore the Tweets from json file**"
   ]
  },
  {
   "cell_type": "code",
   "execution_count": 141,
   "metadata": {},
   "outputs": [
    {
     "data": {
      "text/plain": [
       "(12, 25)"
      ]
     },
     "execution_count": 141,
     "metadata": {},
     "output_type": "execute_result"
    }
   ],
   "source": [
    "json_df.shape"
   ]
  },
  {
   "cell_type": "code",
   "execution_count": 142,
   "metadata": {},
   "outputs": [
    {
     "data": {
      "text/html": [
       "<div>\n",
       "<style scoped>\n",
       "    .dataframe tbody tr th:only-of-type {\n",
       "        vertical-align: middle;\n",
       "    }\n",
       "\n",
       "    .dataframe tbody tr th {\n",
       "        vertical-align: top;\n",
       "    }\n",
       "\n",
       "    .dataframe thead th {\n",
       "        text-align: right;\n",
       "    }\n",
       "</style>\n",
       "<table border=\"1\" class=\"dataframe\">\n",
       "  <thead>\n",
       "    <tr style=\"text-align: right;\">\n",
       "      <th></th>\n",
       "      <th>contributors</th>\n",
       "      <th>coordinates</th>\n",
       "      <th>created_at</th>\n",
       "      <th>entities</th>\n",
       "      <th>favorite_count</th>\n",
       "      <th>favorited</th>\n",
       "      <th>geo</th>\n",
       "      <th>id</th>\n",
       "      <th>id_str</th>\n",
       "      <th>in_reply_to_screen_name</th>\n",
       "      <th>...</th>\n",
       "      <th>lang</th>\n",
       "      <th>metadata</th>\n",
       "      <th>place</th>\n",
       "      <th>possibly_sensitive</th>\n",
       "      <th>retweet_count</th>\n",
       "      <th>retweeted</th>\n",
       "      <th>source</th>\n",
       "      <th>text</th>\n",
       "      <th>truncated</th>\n",
       "      <th>user</th>\n",
       "    </tr>\n",
       "  </thead>\n",
       "  <tbody>\n",
       "    <tr>\n",
       "      <th>0</th>\n",
       "      <td>NaN</td>\n",
       "      <td>{'coordinates': [-71.07923, 42.34756], 'type':...</td>\n",
       "      <td>2019-04-15 19:03:54</td>\n",
       "      <td>{'hashtags': [{'indices': [19, 26], 'text': 'B...</td>\n",
       "      <td>2</td>\n",
       "      <td>False</td>\n",
       "      <td>{'coordinates': [42.34756, -71.07923], 'type':...</td>\n",
       "      <td>1117866152829448192</td>\n",
       "      <td>1117866152829448192</td>\n",
       "      <td>None</td>\n",
       "      <td>...</td>\n",
       "      <td>en</td>\n",
       "      <td>{'iso_language_code': 'en', 'result_type': 're...</td>\n",
       "      <td>{'attributes': {}, 'bounding_box': {'coordinat...</td>\n",
       "      <td>0.0</td>\n",
       "      <td>0</td>\n",
       "      <td>False</td>\n",
       "      <td>&lt;a href=\"http://www.sigalert.com/Map.asp?regio...</td>\n",
       "      <td>Off-ramp closed in #Boston on Mass Pike EB at ...</td>\n",
       "      <td>False</td>\n",
       "      <td>{'contributors_enabled': False, 'created_at': ...</td>\n",
       "    </tr>\n",
       "    <tr>\n",
       "      <th>1</th>\n",
       "      <td>NaN</td>\n",
       "      <td>{'coordinates': [-71.07923, 42.34756], 'type':...</td>\n",
       "      <td>2019-04-15 13:41:53</td>\n",
       "      <td>{'hashtags': [{'indices': [19, 26], 'text': 'B...</td>\n",
       "      <td>2</td>\n",
       "      <td>False</td>\n",
       "      <td>{'coordinates': [42.34756, -71.07923], 'type':...</td>\n",
       "      <td>1117785115378241538</td>\n",
       "      <td>1117785115378241536</td>\n",
       "      <td>None</td>\n",
       "      <td>...</td>\n",
       "      <td>en</td>\n",
       "      <td>{'iso_language_code': 'en', 'result_type': 're...</td>\n",
       "      <td>{'attributes': {}, 'bounding_box': {'coordinat...</td>\n",
       "      <td>NaN</td>\n",
       "      <td>0</td>\n",
       "      <td>False</td>\n",
       "      <td>&lt;a href=\"http://www.sigalert.com/Map.asp?regio...</td>\n",
       "      <td>Off-ramp closed in #Boston on Mass Pike EB at ...</td>\n",
       "      <td>False</td>\n",
       "      <td>{'contributors_enabled': False, 'created_at': ...</td>\n",
       "    </tr>\n",
       "  </tbody>\n",
       "</table>\n",
       "<p>2 rows × 25 columns</p>\n",
       "</div>"
      ],
      "text/plain": [
       "   contributors                                        coordinates  \\\n",
       "0           NaN  {'coordinates': [-71.07923, 42.34756], 'type':...   \n",
       "1           NaN  {'coordinates': [-71.07923, 42.34756], 'type':...   \n",
       "\n",
       "           created_at                                           entities  \\\n",
       "0 2019-04-15 19:03:54  {'hashtags': [{'indices': [19, 26], 'text': 'B...   \n",
       "1 2019-04-15 13:41:53  {'hashtags': [{'indices': [19, 26], 'text': 'B...   \n",
       "\n",
       "   favorite_count  favorited  \\\n",
       "0               2      False   \n",
       "1               2      False   \n",
       "\n",
       "                                                 geo                   id  \\\n",
       "0  {'coordinates': [42.34756, -71.07923], 'type':...  1117866152829448192   \n",
       "1  {'coordinates': [42.34756, -71.07923], 'type':...  1117785115378241538   \n",
       "\n",
       "                id_str in_reply_to_screen_name  ...  lang  \\\n",
       "0  1117866152829448192                    None  ...    en   \n",
       "1  1117785115378241536                    None  ...    en   \n",
       "\n",
       "                                            metadata  \\\n",
       "0  {'iso_language_code': 'en', 'result_type': 're...   \n",
       "1  {'iso_language_code': 'en', 'result_type': 're...   \n",
       "\n",
       "                                               place  possibly_sensitive  \\\n",
       "0  {'attributes': {}, 'bounding_box': {'coordinat...                 0.0   \n",
       "1  {'attributes': {}, 'bounding_box': {'coordinat...                 NaN   \n",
       "\n",
       "   retweet_count retweeted                                             source  \\\n",
       "0              0     False  <a href=\"http://www.sigalert.com/Map.asp?regio...   \n",
       "1              0     False  <a href=\"http://www.sigalert.com/Map.asp?regio...   \n",
       "\n",
       "                                                text  truncated  \\\n",
       "0  Off-ramp closed in #Boston on Mass Pike EB at ...      False   \n",
       "1  Off-ramp closed in #Boston on Mass Pike EB at ...      False   \n",
       "\n",
       "                                                user  \n",
       "0  {'contributors_enabled': False, 'created_at': ...  \n",
       "1  {'contributors_enabled': False, 'created_at': ...  \n",
       "\n",
       "[2 rows x 25 columns]"
      ]
     },
     "execution_count": 142,
     "metadata": {},
     "output_type": "execute_result"
    }
   ],
   "source": [
    "json_df.head(2)"
   ]
  },
  {
   "cell_type": "code",
   "execution_count": 143,
   "metadata": {
    "nbpresent": {
     "id": "1331211f-697e-4313-9f0a-1f72be4ce9b9"
    }
   },
   "outputs": [
    {
     "data": {
      "text/plain": [
       "Index(['contributors', 'coordinates', 'created_at', 'entities',\n",
       "       'favorite_count', 'favorited', 'geo', 'id', 'id_str',\n",
       "       'in_reply_to_screen_name', 'in_reply_to_status_id',\n",
       "       'in_reply_to_status_id_str', 'in_reply_to_user_id',\n",
       "       'in_reply_to_user_id_str', 'is_quote_status', 'lang', 'metadata',\n",
       "       'place', 'possibly_sensitive', 'retweet_count', 'retweeted', 'source',\n",
       "       'text', 'truncated', 'user'],\n",
       "      dtype='object')"
      ]
     },
     "execution_count": 143,
     "metadata": {},
     "output_type": "execute_result"
    }
   ],
   "source": [
    "# feature names\n",
    "json_df.columns"
   ]
  },
  {
   "cell_type": "markdown",
   "metadata": {
    "nbpresent": {
     "id": "6f7b551a-9066-466a-9154-696449bd61eb"
    }
   },
   "source": [
    "**View all tweets from the `text` column** (for the first 7 tweets)"
   ]
  },
  {
   "cell_type": "markdown",
   "metadata": {},
   "source": [
    "**reduce down to only the useful columns**"
   ]
  },
  {
   "cell_type": "code",
   "execution_count": 144,
   "metadata": {
    "nbpresent": {
     "id": "1cca9458-0901-41ed-a839-785953e4a4e6"
    },
    "scrolled": true
   },
   "outputs": [],
   "source": [
    "boston = json_df[['coordinates', 'created_at', 'geo', 'place','text']]"
   ]
  },
  {
   "cell_type": "code",
   "execution_count": 145,
   "metadata": {},
   "outputs": [
    {
     "data": {
      "text/html": [
       "<div>\n",
       "<style scoped>\n",
       "    .dataframe tbody tr th:only-of-type {\n",
       "        vertical-align: middle;\n",
       "    }\n",
       "\n",
       "    .dataframe tbody tr th {\n",
       "        vertical-align: top;\n",
       "    }\n",
       "\n",
       "    .dataframe thead th {\n",
       "        text-align: right;\n",
       "    }\n",
       "</style>\n",
       "<table border=\"1\" class=\"dataframe\">\n",
       "  <thead>\n",
       "    <tr style=\"text-align: right;\">\n",
       "      <th></th>\n",
       "      <th>coordinates</th>\n",
       "      <th>created_at</th>\n",
       "      <th>geo</th>\n",
       "      <th>place</th>\n",
       "      <th>text</th>\n",
       "    </tr>\n",
       "  </thead>\n",
       "  <tbody>\n",
       "    <tr>\n",
       "      <th>0</th>\n",
       "      <td>{'coordinates': [-71.07923, 42.34756], 'type':...</td>\n",
       "      <td>2019-04-15 19:03:54</td>\n",
       "      <td>{'coordinates': [42.34756, -71.07923], 'type':...</td>\n",
       "      <td>{'attributes': {}, 'bounding_box': {'coordinat...</td>\n",
       "      <td>Off-ramp closed in #Boston on Mass Pike EB at ...</td>\n",
       "    </tr>\n",
       "    <tr>\n",
       "      <th>1</th>\n",
       "      <td>{'coordinates': [-71.07923, 42.34756], 'type':...</td>\n",
       "      <td>2019-04-15 13:41:53</td>\n",
       "      <td>{'coordinates': [42.34756, -71.07923], 'type':...</td>\n",
       "      <td>{'attributes': {}, 'bounding_box': {'coordinat...</td>\n",
       "      <td>Off-ramp closed in #Boston on Mass Pike EB at ...</td>\n",
       "    </tr>\n",
       "    <tr>\n",
       "      <th>2</th>\n",
       "      <td>{'coordinates': [-71.07923, 42.34756], 'type':...</td>\n",
       "      <td>2019-04-15 13:09:16</td>\n",
       "      <td>{'coordinates': [42.34756, -71.07923], 'type':...</td>\n",
       "      <td>{'attributes': {}, 'bounding_box': {'coordinat...</td>\n",
       "      <td>Off-ramp closed in #Boston on Mass Pike EB at ...</td>\n",
       "    </tr>\n",
       "    <tr>\n",
       "      <th>3</th>\n",
       "      <td>{'coordinates': [-71.07923, 42.34756], 'type':...</td>\n",
       "      <td>2019-04-11 04:45:33</td>\n",
       "      <td>{'coordinates': [42.34756, -71.07923], 'type':...</td>\n",
       "      <td>{'attributes': {}, 'bounding_box': {'coordinat...</td>\n",
       "      <td>Closed in #Boston on Mass Pike EB at IC 22 - C...</td>\n",
       "    </tr>\n",
       "    <tr>\n",
       "      <th>4</th>\n",
       "      <td>{'coordinates': [-71.06112, 42.33037], 'type':...</td>\n",
       "      <td>2019-04-11 04:30:41</td>\n",
       "      <td>{'coordinates': [42.33037, -71.06112], 'type':...</td>\n",
       "      <td>{'attributes': {}, 'bounding_box': {'coordinat...</td>\n",
       "      <td>Closed in #Boston on Rt 93 NB from EX 16 - Sou...</td>\n",
       "    </tr>\n",
       "    <tr>\n",
       "      <th>5</th>\n",
       "      <td>{'coordinates': [-71.06112, 42.33037], 'type':...</td>\n",
       "      <td>2019-04-11 04:27:06</td>\n",
       "      <td>{'coordinates': [42.33037, -71.06112], 'type':...</td>\n",
       "      <td>{'attributes': {}, 'bounding_box': {'coordinat...</td>\n",
       "      <td>Closed in #Boston on Rt 93 NB from EX 16 - Sou...</td>\n",
       "    </tr>\n",
       "    <tr>\n",
       "      <th>6</th>\n",
       "      <td>{'coordinates': [-71.06112, 42.33037], 'type':...</td>\n",
       "      <td>2019-04-11 04:15:19</td>\n",
       "      <td>{'coordinates': [42.33037, -71.06112], 'type':...</td>\n",
       "      <td>{'attributes': {}, 'bounding_box': {'coordinat...</td>\n",
       "      <td>Closed in #Boston on Rt 93 NB from EX 16 - Sou...</td>\n",
       "    </tr>\n",
       "    <tr>\n",
       "      <th>7</th>\n",
       "      <td>{'coordinates': [-71.05365, 42.36284], 'type':...</td>\n",
       "      <td>2019-04-10 03:37:11</td>\n",
       "      <td>{'coordinates': [42.36284, -71.05365], 'type':...</td>\n",
       "      <td>{'attributes': {}, 'bounding_box': {'coordinat...</td>\n",
       "      <td>Closed in #Boston on Rt 1A SB at Sumner Tunl #...</td>\n",
       "    </tr>\n",
       "    <tr>\n",
       "      <th>8</th>\n",
       "      <td>{'coordinates': [-71.03821, 42.37323], 'type':...</td>\n",
       "      <td>2019-04-09 06:08:51</td>\n",
       "      <td>{'coordinates': [42.37323, -71.03821], 'type':...</td>\n",
       "      <td>{'attributes': {}, 'bounding_box': {'coordinat...</td>\n",
       "      <td>Closed in #Boston on Rt 1A NB at Callahan Tunl...</td>\n",
       "    </tr>\n",
       "    <tr>\n",
       "      <th>9</th>\n",
       "      <td>None</td>\n",
       "      <td>2019-04-08 23:44:33</td>\n",
       "      <td>None</td>\n",
       "      <td>{'attributes': {}, 'bounding_box': {'coordinat...</td>\n",
       "      <td>@shaleentitle Also pretty misleading photos on...</td>\n",
       "    </tr>\n",
       "    <tr>\n",
       "      <th>10</th>\n",
       "      <td>{'coordinates': [-71.12368, 42.36838], 'type':...</td>\n",
       "      <td>2019-04-08 06:48:56</td>\n",
       "      <td>{'coordinates': [42.36838, -71.12368], 'type':...</td>\n",
       "      <td>{'attributes': {}, 'bounding_box': {'coordinat...</td>\n",
       "      <td>Closed in #Allston on Soldiers Field Rd EB at ...</td>\n",
       "    </tr>\n",
       "    <tr>\n",
       "      <th>11</th>\n",
       "      <td>None</td>\n",
       "      <td>2019-04-07 15:20:09</td>\n",
       "      <td>None</td>\n",
       "      <td>{'attributes': {}, 'bounding_box': {'coordinat...</td>\n",
       "      <td>Traffic advisory from @MassDOT —&amp;gt; Route 16 ...</td>\n",
       "    </tr>\n",
       "  </tbody>\n",
       "</table>\n",
       "</div>"
      ],
      "text/plain": [
       "                                          coordinates          created_at  \\\n",
       "0   {'coordinates': [-71.07923, 42.34756], 'type':... 2019-04-15 19:03:54   \n",
       "1   {'coordinates': [-71.07923, 42.34756], 'type':... 2019-04-15 13:41:53   \n",
       "2   {'coordinates': [-71.07923, 42.34756], 'type':... 2019-04-15 13:09:16   \n",
       "3   {'coordinates': [-71.07923, 42.34756], 'type':... 2019-04-11 04:45:33   \n",
       "4   {'coordinates': [-71.06112, 42.33037], 'type':... 2019-04-11 04:30:41   \n",
       "5   {'coordinates': [-71.06112, 42.33037], 'type':... 2019-04-11 04:27:06   \n",
       "6   {'coordinates': [-71.06112, 42.33037], 'type':... 2019-04-11 04:15:19   \n",
       "7   {'coordinates': [-71.05365, 42.36284], 'type':... 2019-04-10 03:37:11   \n",
       "8   {'coordinates': [-71.03821, 42.37323], 'type':... 2019-04-09 06:08:51   \n",
       "9                                                None 2019-04-08 23:44:33   \n",
       "10  {'coordinates': [-71.12368, 42.36838], 'type':... 2019-04-08 06:48:56   \n",
       "11                                               None 2019-04-07 15:20:09   \n",
       "\n",
       "                                                  geo  \\\n",
       "0   {'coordinates': [42.34756, -71.07923], 'type':...   \n",
       "1   {'coordinates': [42.34756, -71.07923], 'type':...   \n",
       "2   {'coordinates': [42.34756, -71.07923], 'type':...   \n",
       "3   {'coordinates': [42.34756, -71.07923], 'type':...   \n",
       "4   {'coordinates': [42.33037, -71.06112], 'type':...   \n",
       "5   {'coordinates': [42.33037, -71.06112], 'type':...   \n",
       "6   {'coordinates': [42.33037, -71.06112], 'type':...   \n",
       "7   {'coordinates': [42.36284, -71.05365], 'type':...   \n",
       "8   {'coordinates': [42.37323, -71.03821], 'type':...   \n",
       "9                                                None   \n",
       "10  {'coordinates': [42.36838, -71.12368], 'type':...   \n",
       "11                                               None   \n",
       "\n",
       "                                                place  \\\n",
       "0   {'attributes': {}, 'bounding_box': {'coordinat...   \n",
       "1   {'attributes': {}, 'bounding_box': {'coordinat...   \n",
       "2   {'attributes': {}, 'bounding_box': {'coordinat...   \n",
       "3   {'attributes': {}, 'bounding_box': {'coordinat...   \n",
       "4   {'attributes': {}, 'bounding_box': {'coordinat...   \n",
       "5   {'attributes': {}, 'bounding_box': {'coordinat...   \n",
       "6   {'attributes': {}, 'bounding_box': {'coordinat...   \n",
       "7   {'attributes': {}, 'bounding_box': {'coordinat...   \n",
       "8   {'attributes': {}, 'bounding_box': {'coordinat...   \n",
       "9   {'attributes': {}, 'bounding_box': {'coordinat...   \n",
       "10  {'attributes': {}, 'bounding_box': {'coordinat...   \n",
       "11  {'attributes': {}, 'bounding_box': {'coordinat...   \n",
       "\n",
       "                                                 text  \n",
       "0   Off-ramp closed in #Boston on Mass Pike EB at ...  \n",
       "1   Off-ramp closed in #Boston on Mass Pike EB at ...  \n",
       "2   Off-ramp closed in #Boston on Mass Pike EB at ...  \n",
       "3   Closed in #Boston on Mass Pike EB at IC 22 - C...  \n",
       "4   Closed in #Boston on Rt 93 NB from EX 16 - Sou...  \n",
       "5   Closed in #Boston on Rt 93 NB from EX 16 - Sou...  \n",
       "6   Closed in #Boston on Rt 93 NB from EX 16 - Sou...  \n",
       "7   Closed in #Boston on Rt 1A SB at Sumner Tunl #...  \n",
       "8   Closed in #Boston on Rt 1A NB at Callahan Tunl...  \n",
       "9   @shaleentitle Also pretty misleading photos on...  \n",
       "10  Closed in #Allston on Soldiers Field Rd EB at ...  \n",
       "11  Traffic advisory from @MassDOT —&gt; Route 16 ...  "
      ]
     },
     "execution_count": 145,
     "metadata": {},
     "output_type": "execute_result"
    }
   ],
   "source": [
    "boston"
   ]
  },
  {
   "cell_type": "markdown",
   "metadata": {
    "nbpresent": {
     "id": "e53e9039-09c2-4504-9f9f-32c594225414"
    }
   },
   "source": [
    "### Explore some features of the df"
   ]
  },
  {
   "cell_type": "code",
   "execution_count": 146,
   "metadata": {
    "nbpresent": {
     "id": "dad3dbf3-f957-4c8c-9edf-6c198210db12"
    }
   },
   "outputs": [
    {
     "name": "stdout",
     "output_type": "stream",
     "text": [
      "0 {'attributes': {}, 'bounding_box': {'coordinates': [[[-71.191421, 42.227797], [-70.986004, 42.227797], [-70.986004, 42.399542], [-71.191421, 42.399542]]], 'type': 'Polygon'}, 'contained_within': [], 'country': 'United States', 'country_code': 'US', 'full_name': 'Boston, MA', 'id': '67b98f17fdcf20be', 'name': 'Boston', 'place_type': 'city', 'url': 'https://api.twitter.com/1.1/geo/id/67b98f17fdcf20be.json'}\n",
      "--------\n",
      "1 {'attributes': {}, 'bounding_box': {'coordinates': [[[-71.191421, 42.227797], [-70.986004, 42.227797], [-70.986004, 42.399542], [-71.191421, 42.399542]]], 'type': 'Polygon'}, 'contained_within': [], 'country': 'United States', 'country_code': 'US', 'full_name': 'Boston, MA', 'id': '67b98f17fdcf20be', 'name': 'Boston', 'place_type': 'city', 'url': 'https://api.twitter.com/1.1/geo/id/67b98f17fdcf20be.json'}\n",
      "--------\n"
     ]
    }
   ],
   "source": [
    "# see all the nested information within place (for the first two tweets)\n",
    "list = boston.loc[:1, 'place']\n",
    "for i in range(len(list)):\n",
    "    print(i, list[i])\n",
    "    print(\"--------\")"
   ]
  },
  {
   "cell_type": "markdown",
   "metadata": {},
   "source": [
    "> The dataframe that we have now has many attributes nested within other attributes. If we want to access the corrdinates nested within `coordinates` or the city nested within `place` we will need to unpack these variables using a different method. Use the next section to convert nested values into their own columns."
   ]
  },
  {
   "cell_type": "markdown",
   "metadata": {
    "nbpresent": {
     "id": "cc9056f7-00b1-42d9-aa5c-a1b65ca2d047"
    }
   },
   "source": [
    "## Option B. Tweets --> json --> parsed --> nested dataframe"
   ]
  },
  {
   "cell_type": "code",
   "execution_count": 147,
   "metadata": {
    "nbpresent": {
     "id": "ceb62c40-fdc4-4657-a359-47dbf4b53ba3"
    }
   },
   "outputs": [
    {
     "name": "stdout",
     "output_type": "stream",
     "text": [
      "12\n",
      "Could not parse:  0\n"
     ]
    }
   ],
   "source": [
    "# Read in json file\n",
    "boston = pd.read_json(\"./boston_20190415_22_44.json\", lines = True)\n",
    "\n",
    "# convert json file to list of dictionaries\n",
    "tweets_data = []\n",
    "notParsed = []\n",
    "tweets_file = open(\"./boston_20190415_22_44.json\",\"r\")\n",
    "for line in tweets_file:    \n",
    "    if line.strip():    \n",
    "        try:\n",
    "            tweet=json.loads(line)\n",
    "            tweets_data.append(tweet)\n",
    "        except:\n",
    "            notParsed.append(line)\n",
    "            continue\n",
    "print(len(tweets_data))\n",
    "print('Could not parse: ', len(notParsed))"
   ]
  },
  {
   "cell_type": "markdown",
   "metadata": {
    "nbpresent": {
     "id": "27af0d00-bbf2-454c-94fc-808ebdfc4a04"
    }
   },
   "source": [
    "**Unpack the nested columns**"
   ]
  },
  {
   "cell_type": "code",
   "execution_count": 148,
   "metadata": {
    "nbpresent": {
     "id": "c1f5bafe-1e87-485e-8993-e3c19e043381"
    }
   },
   "outputs": [
    {
     "data": {
      "text/html": [
       "<div>\n",
       "<style scoped>\n",
       "    .dataframe tbody tr th:only-of-type {\n",
       "        vertical-align: middle;\n",
       "    }\n",
       "\n",
       "    .dataframe tbody tr th {\n",
       "        vertical-align: top;\n",
       "    }\n",
       "\n",
       "    .dataframe thead th {\n",
       "        text-align: right;\n",
       "    }\n",
       "</style>\n",
       "<table border=\"1\" class=\"dataframe\">\n",
       "  <thead>\n",
       "    <tr style=\"text-align: right;\">\n",
       "      <th></th>\n",
       "      <th>coordinates</th>\n",
       "      <th>coordinates.coordinates</th>\n",
       "      <th>coordinates.type</th>\n",
       "      <th>created_at</th>\n",
       "      <th>geo</th>\n",
       "      <th>geo.coordinates</th>\n",
       "      <th>geo.type</th>\n",
       "      <th>id</th>\n",
       "      <th>place.bounding_box.coordinates</th>\n",
       "      <th>place.bounding_box.type</th>\n",
       "      <th>...</th>\n",
       "      <th>user.profile_text_color</th>\n",
       "      <th>user.profile_use_background_image</th>\n",
       "      <th>user.protected</th>\n",
       "      <th>user.screen_name</th>\n",
       "      <th>user.statuses_count</th>\n",
       "      <th>user.time_zone</th>\n",
       "      <th>user.translator_type</th>\n",
       "      <th>user.url</th>\n",
       "      <th>user.utc_offset</th>\n",
       "      <th>user.verified</th>\n",
       "    </tr>\n",
       "  </thead>\n",
       "  <tbody>\n",
       "    <tr>\n",
       "      <th>0</th>\n",
       "      <td>NaN</td>\n",
       "      <td>[-71.07923, 42.34756]</td>\n",
       "      <td>Point</td>\n",
       "      <td>Mon Apr 15 19:03:54 +0000 2019</td>\n",
       "      <td>NaN</td>\n",
       "      <td>[42.34756, -71.07923]</td>\n",
       "      <td>Point</td>\n",
       "      <td>1117866152829448192</td>\n",
       "      <td>[[[-71.191421, 42.227797], [-70.986004, 42.227...</td>\n",
       "      <td>Polygon</td>\n",
       "      <td>...</td>\n",
       "      <td>333333</td>\n",
       "      <td>True</td>\n",
       "      <td>False</td>\n",
       "      <td>TotalTrafficBOS</td>\n",
       "      <td>62031</td>\n",
       "      <td>None</td>\n",
       "      <td>none</td>\n",
       "      <td>None</td>\n",
       "      <td>None</td>\n",
       "      <td>False</td>\n",
       "    </tr>\n",
       "    <tr>\n",
       "      <th>1</th>\n",
       "      <td>NaN</td>\n",
       "      <td>[-71.07923, 42.34756]</td>\n",
       "      <td>Point</td>\n",
       "      <td>Mon Apr 15 13:41:53 +0000 2019</td>\n",
       "      <td>NaN</td>\n",
       "      <td>[42.34756, -71.07923]</td>\n",
       "      <td>Point</td>\n",
       "      <td>1117785115378241538</td>\n",
       "      <td>[[[-71.191421, 42.227797], [-70.986004, 42.227...</td>\n",
       "      <td>Polygon</td>\n",
       "      <td>...</td>\n",
       "      <td>333333</td>\n",
       "      <td>True</td>\n",
       "      <td>False</td>\n",
       "      <td>TotalTrafficBOS</td>\n",
       "      <td>62031</td>\n",
       "      <td>None</td>\n",
       "      <td>none</td>\n",
       "      <td>None</td>\n",
       "      <td>None</td>\n",
       "      <td>False</td>\n",
       "    </tr>\n",
       "  </tbody>\n",
       "</table>\n",
       "<p>2 rows × 62 columns</p>\n",
       "</div>"
      ],
      "text/plain": [
       "   coordinates coordinates.coordinates coordinates.type  \\\n",
       "0          NaN   [-71.07923, 42.34756]            Point   \n",
       "1          NaN   [-71.07923, 42.34756]            Point   \n",
       "\n",
       "                       created_at  geo        geo.coordinates geo.type  \\\n",
       "0  Mon Apr 15 19:03:54 +0000 2019  NaN  [42.34756, -71.07923]    Point   \n",
       "1  Mon Apr 15 13:41:53 +0000 2019  NaN  [42.34756, -71.07923]    Point   \n",
       "\n",
       "                    id                     place.bounding_box.coordinates  \\\n",
       "0  1117866152829448192  [[[-71.191421, 42.227797], [-70.986004, 42.227...   \n",
       "1  1117785115378241538  [[[-71.191421, 42.227797], [-70.986004, 42.227...   \n",
       "\n",
       "  place.bounding_box.type  ... user.profile_text_color  \\\n",
       "0                 Polygon  ...                  333333   \n",
       "1                 Polygon  ...                  333333   \n",
       "\n",
       "  user.profile_use_background_image user.protected user.screen_name  \\\n",
       "0                              True          False  TotalTrafficBOS   \n",
       "1                              True          False  TotalTrafficBOS   \n",
       "\n",
       "  user.statuses_count user.time_zone user.translator_type user.url  \\\n",
       "0               62031           None                 none     None   \n",
       "1               62031           None                 none     None   \n",
       "\n",
       "  user.utc_offset  user.verified  \n",
       "0            None          False  \n",
       "1            None          False  \n",
       "\n",
       "[2 rows x 62 columns]"
      ]
     },
     "execution_count": 148,
     "metadata": {},
     "output_type": "execute_result"
    }
   ],
   "source": [
    "tweet_cols = ['coordinates', 'created_at', \n",
    "              'text','geo', 'id', 'place', 'user']\n",
    "\n",
    "sample_tweets_dict = [{col:tweet[col] for col in tweet_cols } for tweet in tweets_data]\n",
    "\n",
    "# This method looks for any instances of nested dictionaries (DOES NOT FLATTEN LISTS)\n",
    "sample_tweets_df = pd.io.json.json_normalize(sample_tweets_dict)\n",
    "\n",
    "sample_tweets_df.head(2)"
   ]
  },
  {
   "cell_type": "code",
   "execution_count": 149,
   "metadata": {},
   "outputs": [
    {
     "data": {
      "text/plain": [
       "Index(['coordinates', 'coordinates.coordinates', 'coordinates.type',\n",
       "       'created_at', 'geo', 'geo.coordinates', 'geo.type', 'id',\n",
       "       'place.bounding_box.coordinates', 'place.bounding_box.type',\n",
       "       'place.contained_within', 'place.country', 'place.country_code',\n",
       "       'place.full_name', 'place.id', 'place.name', 'place.place_type',\n",
       "       'place.url', 'text', 'user.contributors_enabled', 'user.created_at',\n",
       "       'user.default_profile', 'user.default_profile_image',\n",
       "       'user.description', 'user.entities.description.urls',\n",
       "       'user.entities.url.urls', 'user.favourites_count',\n",
       "       'user.follow_request_sent', 'user.followers_count', 'user.following',\n",
       "       'user.friends_count', 'user.geo_enabled', 'user.has_extended_profile',\n",
       "       'user.id', 'user.id_str', 'user.is_translation_enabled',\n",
       "       'user.is_translator', 'user.lang', 'user.listed_count', 'user.location',\n",
       "       'user.name', 'user.notifications', 'user.profile_background_color',\n",
       "       'user.profile_background_image_url',\n",
       "       'user.profile_background_image_url_https',\n",
       "       'user.profile_background_tile', 'user.profile_banner_url',\n",
       "       'user.profile_image_url', 'user.profile_image_url_https',\n",
       "       'user.profile_link_color', 'user.profile_sidebar_border_color',\n",
       "       'user.profile_sidebar_fill_color', 'user.profile_text_color',\n",
       "       'user.profile_use_background_image', 'user.protected',\n",
       "       'user.screen_name', 'user.statuses_count', 'user.time_zone',\n",
       "       'user.translator_type', 'user.url', 'user.utc_offset', 'user.verified'],\n",
       "      dtype='object')"
      ]
     },
     "execution_count": 149,
     "metadata": {},
     "output_type": "execute_result"
    }
   ],
   "source": [
    "sample_tweets_df.columns"
   ]
  },
  {
   "cell_type": "code",
   "execution_count": 150,
   "metadata": {},
   "outputs": [],
   "source": [
    "# save the USA (or Bston) historical json file as df, COMMENT OUT\n",
    "df = sample_tweets_df\n",
    "df.to_csv(\"./boston.csv\", index = False)"
   ]
  },
  {
   "cell_type": "markdown",
   "metadata": {},
   "source": [
    "Examine who the most common tweets are coming from"
   ]
  },
  {
   "cell_type": "code",
   "execution_count": 151,
   "metadata": {},
   "outputs": [
    {
     "data": {
      "text/plain": [
       "TotalTrafficBOS    10\n",
       "berkie1             1\n",
       "pmarvin123          1\n",
       "Name: user.screen_name, dtype: int64"
      ]
     },
     "execution_count": 151,
     "metadata": {},
     "output_type": "execute_result"
    }
   ],
   "source": [
    "sample_tweets_df['user.screen_name'].value_counts().head()"
   ]
  },
  {
   "cell_type": "markdown",
   "metadata": {},
   "source": [
    "So the Twitter user \"TotalTraffic\", specific to a certain city, is contributing the most tweets to situations with \"road closed\", and providing location place data for each tweet"
   ]
  }
 ],
 "metadata": {
  "kernelspec": {
   "display_name": "Python 3",
   "language": "python",
   "name": "python3"
  },
  "language_info": {
   "codemirror_mode": {
    "name": "ipython",
    "version": 3
   },
   "file_extension": ".py",
   "mimetype": "text/x-python",
   "name": "python",
   "nbconvert_exporter": "python",
   "pygments_lexer": "ipython3",
   "version": "3.6.8"
  },
  "varInspector": {
   "cols": {
    "lenName": 16,
    "lenType": 16,
    "lenVar": 40
   },
   "kernels_config": {
    "python": {
     "delete_cmd_postfix": "",
     "delete_cmd_prefix": "del ",
     "library": "var_list.py",
     "varRefreshCmd": "print(var_dic_list())"
    },
    "r": {
     "delete_cmd_postfix": ") ",
     "delete_cmd_prefix": "rm(",
     "library": "var_list.r",
     "varRefreshCmd": "cat(var_dic_list()) "
    }
   },
   "types_to_exclude": [
    "module",
    "function",
    "builtin_function_or_method",
    "instance",
    "_Feature"
   ],
   "window_display": false
  }
 },
 "nbformat": 4,
 "nbformat_minor": 2
}
