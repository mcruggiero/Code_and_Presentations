{
 "cells": [
  {
   "cell_type": "markdown",
   "metadata": {
    "nbpresent": {
     "id": "4194895c-aee6-4007-952d-9f8e8f28b890"
    }
   },
   "source": [
    "# \"Historical\" Tweets - from Twitter Search API using Tweepy Library <br>\n",
    "\n",
    "_Authors: Amy Taylor and Veronica Giannotta_ <br> <br>\n",
    "Preliminary steps before using Twitter's API:\n",
    "1. Sign-up for a twitter account\n",
    "2. Register a twitter developer account (requires email or phone number)\n",
    "3. Create a developer app (I went with the name BlockedRoads)\n",
    "4. Obtain your 'Access token' and 'access token secret' in the developer dashboard"
   ]
  },
  {
   "cell_type": "markdown",
   "metadata": {},
   "source": [
    "Load Imports"
   ]
  },
  {
   "cell_type": "code",
   "execution_count": 12,
   "metadata": {
    "nbpresent": {
     "id": "7a35bd4f-64b7-4da2-b5d6-07f879c10654"
    }
   },
   "outputs": [],
   "source": [
    "import pandas as pd\n",
    "import tweepy\n",
    "import shutil\n",
    "import jsonpickle\n",
    "import json\n",
    "import datetime\n",
    "import config\n",
    "\n",
    "from pandas.io.json import json_normalize"
   ]
  },
  {
   "cell_type": "markdown",
   "metadata": {
    "nbpresent": {
     "id": "91702dbc-8243-4d9b-b081-8e94def65aa0"
    }
   },
   "source": [
    "## Part 1: Prepare API credentials\n",
    "**Step 1: Authenticate account and tokens through tweepy**\n",
    "<br>Required credentials:\n",
    "<br>`config.consumer_key` = 'your_consumer_key'\n",
    "<br>`config.consumer_secret` = 'your_consumer_secret'\n",
    "<br>`config.access_token` = 'your_access_token'\n",
    "<br>`config.access_token_secret` = 'your_access_token_secret'"
   ]
  },
  {
   "cell_type": "code",
   "execution_count": 13,
   "metadata": {
    "nbpresent": {
     "id": "f3323f68-62bf-423c-91b0-4eeac028887d"
    }
   },
   "outputs": [],
   "source": [
    "# authenticate account with tweepy\n",
    "auth = tweepy.OAuthHandler('1ZWD1JS7xivKADeOCV7zVXgI4', 'TgsgO0MaUYw2dccUVC7KtD8SYUX4QYaoxT52D4ye2146d0sLHo')\n",
    "auth.set_access_token('3799487133-rGUwhJRC2pKZmx8UbureNKPxXSdZAgsWnOrjMQk', 'jOr0vlL0gzyRh1gOQTievE2ZAvuN1sD2FgYCGilFKmE60')\n",
    "\n",
    "# create API object to pull data from twitter - and pass in authentication code\n",
    "api = tweepy.API(auth, wait_on_rate_limit=True, wait_on_rate_limit_notify=True)"
   ]
  },
  {
   "cell_type": "markdown",
   "metadata": {},
   "source": [
    "Now we are free to make Twitter API calls"
   ]
  },
  {
   "cell_type": "markdown",
   "metadata": {
    "nbpresent": {
     "id": "002aa9a8-0d8e-473d-b03d-ee3e6f484206"
    }
   },
   "source": [
    "**Step 2: Verify API is working with your account**\n",
    "- Run this cell to check if program is working. Output is your twitter name"
   ]
  },
  {
   "cell_type": "code",
   "execution_count": 14,
   "metadata": {
    "nbpresent": {
     "id": "d48ad373-eefb-4c94-ad15-20ef63e0f969"
    }
   },
   "outputs": [
    {
     "name": "stdout",
     "output_type": "stream",
     "text": [
      "Dali Souayah\n"
     ]
    }
   ],
   "source": [
    "user = api.me()\n",
    "print (user.name)"
   ]
  },
  {
   "cell_type": "markdown",
   "metadata": {
    "nbpresent": {
     "id": "e0814491-a723-400c-bf53-51c4d43f7f72"
    }
   },
   "source": [
    "**Step 3: Use geo_search API to get the `place_id` for a particular location**\n",
    "- `place_id` is a unique id created by Twitter that is assigned to different neighborhoods/cities/countries\n",
    "- In the query parameter, type the name of the city or country you want the place_id for\n",
    "- granularity = neighborhood (default) , city , admin or country\n",
    "    - EX: when query = 'Boston', the place_id generated is the same for neighborhood or city ( but empty for country)"
   ]
  },
  {
   "cell_type": "code",
   "execution_count": 18,
   "metadata": {
    "nbpresent": {
     "id": "45273621-1fac-402e-803d-4678436ad7b7"
    }
   },
   "outputs": [
    {
     "name": "stdout",
     "output_type": "stream",
     "text": [
      "place_id is:  67b98f17fdcf20be\n"
     ]
    }
   ],
   "source": [
    "#  Determine the city, country, or location you want\n",
    "places = api.geo_search(query=\"Boston, MA\", \n",
    "                        granularity=\"city\"\n",
    "                                          )\n",
    "place_id = places[0].id\n",
    "print('place_id is: ',place_id)"
   ]
  },
  {
   "cell_type": "markdown",
   "metadata": {
    "nbpresent": {
     "id": "3d81091c-aa07-4527-8bbe-ddd027322e49"
    }
   },
   "source": [
    "***List of search queries made:***\n",
    "<br>NOTE: there must be no space between place and place_ID\n",
    "\n",
    "    \n",
    "|searchQuery| place ID |granularity| file | # of tweets| extended tweet? |\n",
    "|---|---|---|---|---|---|\n",
    "|'place:96683cc9126741d1 road closed' | USA |country| ./PoGo_USA_Tutorial.json20190114_7_1_36.json | 142 | - |\n",
    "| 'place:1c69a67ad480e1b1 road closed' | Houston | city/neigh | ./historical_20190114_11_59.json| 15|- |\n",
    "| 'Houston road closed' | NA | NA | ./historical_20190114_12_2.json | 9|- |\n",
    "|'place:96683cc9126741d1 road closed' | USA |city| ./historical_20190115_14_57.json | 210 | yes |\n",
    "|'place:1c69a67ad480e1b1 road closed' | Houston |city| ./historical_20190117_11_49.json | 13 | no |\n"
   ]
  },
  {
   "cell_type": "markdown",
   "metadata": {
    "nbpresent": {
     "id": "74feb20b-8bdb-403b-bf7e-4f17039f87f9"
    }
   },
   "source": [
    "## Part 2: Download Archived Tweets with the Search API\n",
    "**Step 1: Use tweepy library to download tweets from Search API based on our query search terms, and save tweets as a json file**\n",
    " - Include a place ID in the query if necessary\n",
    " - Other search params that are optional: since='2019-01-03',until='2019-01-11'\n",
    " \n",
    "useful resource: http://www.dealingdata.net/2016/07/23/PoGo-Series-Tweepy/"
   ]
  },
  {
   "cell_type": "code",
   "execution_count": 21,
   "metadata": {
    "nbpresent": {
     "id": "faf6dc51-2b8f-40a1-b142-e978b42abe32"
    }
   },
   "outputs": [
    {
     "name": "stdout",
     "output_type": "stream",
     "text": [
      "Downloaded 0 tweets\n"
     ]
    }
   ],
   "source": [
    "searchQuery = 'place:67b98f17fdcf20be road closed'\n",
    "\n",
    "tweetCount = 0\n",
    "\n",
    "#Open a text file to save the tweets to\n",
    "with open('./Boston.json', 'w') as f:\n",
    "\n",
    "    #Tell the Cursor method: we want to use Search API (api.search), and our query\n",
    "    for tweet in tweepy.Cursor(api.search,q=searchQuery,\n",
    "#                                tweet_mode='extended'    #comment out extended tweet if desired\n",
    "                              ).items() :         \n",
    "\n",
    "        #Verify the tweet has place info before writing \n",
    "        if tweet.place is not None:\n",
    "            \n",
    "            #Write the JSON format to the text file, and add one to the number of tweets we've collected\n",
    "            f.write(jsonpickle.encode(tweet._json, unpicklable=False) + '\\n')\n",
    "            tweetCount += 1\n",
    "\n",
    "    #Display how many tweets we have collected\n",
    "    print(\"Downloaded {0} tweets\".format(tweetCount))"
   ]
  },
  {
   "cell_type": "markdown",
   "metadata": {
    "nbpresent": {
     "id": "2477087a-0b4e-4ccd-b439-f14993ad71d5"
    }
   },
   "source": [
    "**Step 2: Append a timestamp to the end of the json file name**"
   ]
  },
  {
   "cell_type": "code",
   "execution_count": 23,
   "metadata": {
    "nbpresent": {
     "id": "e30fcb1c-2794-48ea-990c-a55b58cc25a0"
    }
   },
   "outputs": [
    {
     "data": {
      "text/plain": [
       "[]"
      ]
     },
     "execution_count": 23,
     "metadata": {},
     "output_type": "execute_result"
    }
   ],
   "source": [
    "def file_conversion():\n",
    "    #create a timestamp\n",
    "    now = datetime.datetime.now()\n",
    "    month = '0'+str(now.month)\n",
    "    day = str(now.day)\n",
    "    hour = str(now.hour)\n",
    "    minute = str(now.minute)\n",
    "    now_str = str(now.year)+month+day+'_'+hour+'_'+minute\n",
    "    \n",
    "    \n",
    "    #replace the name of our file with a new timestamped filename\n",
    "    dest = './Boston_' + now_str + \".json\"\n",
    "    shutil.move('./Boston.json', dest)\n",
    "    \n",
    "    with open(dest, \"r\") as f:\n",
    "        status = f.readlines()\n",
    "        jsons = []\n",
    "        for ind in status:\n",
    "            jsons.append(json.loads(ind))\n",
    "    return jsons\n",
    "\n",
    "# Uncomment out the file_conversion function to activate the file name change\n",
    "file_conversion()"
   ]
  },
  {
   "cell_type": "markdown",
   "metadata": {
    "nbpresent": {
     "id": "604a2b09-df0a-4641-9f30-de3883532c10"
    }
   },
   "source": [
    "**Step 3: Add the newly created json file to the list below for easy access later**"
   ]
  },
  {
   "cell_type": "code",
   "execution_count": 9,
   "metadata": {
    "nbpresent": {
     "id": "4558b66b-a4e5-4393-a52d-3495ccd09777"
    }
   },
   "outputs": [],
   "source": [
    "# Previously created json files can be accessed from this list\n",
    "\n",
    "# json_df = pd.read_json(\"../data/AT_historical/PoGo_USA_Tutorial.json20190114_7_1_36.json\", lines = True)\n",
    "# json_df = pd.read_json(\"../data/AT_historical/historical_20190114_11_59.json\", lines = True)\n",
    "# json_df = pd.read_json(\"../data/AT_historical/historical_20190114_12_2.json\", lines = True)\n",
    "# json_df = pd.read_json(\"../data/AT_historical/historical_20190115_14_57.json\", lines = True)\n",
    "json_df = pd.read_json(\"../data/AT_historical/historical_20190117_11_49.json\", lines = True)"
   ]
  },
  {
   "cell_type": "markdown",
   "metadata": {
    "nbpresent": {
     "id": "63b26ce2-424c-477f-b326-4192259183a1"
    }
   },
   "source": [
    "# Part 3: Explore Tweets from json file\n",
    "### Option A: Tweets --> json file --> dataframe"
   ]
  },
  {
   "cell_type": "code",
   "execution_count": 35,
   "metadata": {
    "nbpresent": {
     "id": "1331211f-697e-4313-9f0a-1f72be4ce9b9"
    }
   },
   "outputs": [
    {
     "data": {
      "text/plain": [
       "Index(['contributors', 'coordinates', 'created_at', 'entities',\n",
       "       'extended_entities', 'favorite_count', 'favorited', 'geo', 'id',\n",
       "       'id_str', 'in_reply_to_screen_name', 'in_reply_to_status_id',\n",
       "       'in_reply_to_status_id_str', 'in_reply_to_user_id',\n",
       "       'in_reply_to_user_id_str', 'is_quote_status', 'lang', 'metadata',\n",
       "       'place', 'possibly_sensitive', 'quoted_status', 'quoted_status_id',\n",
       "       'quoted_status_id_str', 'retweet_count', 'retweeted', 'source', 'text',\n",
       "       'truncated', 'user'],\n",
       "      dtype='object')"
      ]
     },
     "execution_count": 35,
     "metadata": {},
     "output_type": "execute_result"
    }
   ],
   "source": [
    "# list of columns currently available in our dataframe\n",
    "json_df.columns"
   ]
  },
  {
   "cell_type": "markdown",
   "metadata": {
    "nbpresent": {
     "id": "6f7b551a-9066-466a-9154-696449bd61eb"
    }
   },
   "source": [
    "**View all tweets from the `text` column** (for the first 7 tweets)"
   ]
  },
  {
   "cell_type": "code",
   "execution_count": 36,
   "metadata": {
    "nbpresent": {
     "id": "1cca9458-0901-41ed-a839-785953e4a4e6"
    }
   },
   "outputs": [
    {
     "name": "stdout",
     "output_type": "stream",
     "text": [
      "0 Road construction, left lane closed in #Albuquerque on Tijeras Ave EB west of 3rd St #traffic https://t.co/roJyGryxFq\n",
      "1 Road construction. right lanes closed in #Pima on I-10 EB at Ruthrauff Rd #traffic https://t.co/bc4TAizExm\n",
      "2 Road construction, shoulder closed in #ElPaso on I 10 Both EB/WB from Executive Ctr Blvd to Sunland Park Dr #traffic https://t.co/nZ2qPHc0XJ\n",
      "3 Ughhh at the dentist for a cleaning and the sidewalks are closed. HOW DO YOU CLOSE A SIDEWALK. Like...am I supposed to walk in the road lol\n",
      "4 Road constructions. two right lanes closed in #Pima on I-10 EB at Ruthrauff Rd #traffic https://t.co/bc4TAizExm\n",
      "5 All eastbound lanes are closed due to snow and ice on the road. in #Valyermo on Angeles Crest Hwy EB between CA-39 and Big Pines Hwy\n",
      "6 State Rd 44 is closed at Sugar Creek Rd near the Johnson County/Shelby County Line. Shelby County Sheriff’s Officer… https://t.co/lXZj9ippFt\n"
     ]
    }
   ],
   "source": [
    "list = json_df.loc[:6, 'text']\n",
    "for i in range(len(list)):\n",
    "    print(i, list[i])"
   ]
  },
  {
   "cell_type": "markdown",
   "metadata": {
    "nbpresent": {
     "id": "1120b283-c3e2-4ba7-8e39-d8b95f7c7695"
    }
   },
   "source": [
    "Explore attributes of the json file"
   ]
  },
  {
   "cell_type": "code",
   "execution_count": 37,
   "metadata": {
    "nbpresent": {
     "id": "6f7023e3-1de4-46b8-87a6-eca216601564"
    }
   },
   "outputs": [
    {
     "name": "stdout",
     "output_type": "stream",
     "text": [
      "_api\n",
      "_json\n",
      "author\n",
      "contributors\n",
      "coordinates\n",
      "created_at\n",
      "destroy\n",
      "entities\n",
      "favorite\n",
      "favorite_count\n",
      "favorited\n",
      "geo\n",
      "id\n",
      "id_str\n",
      "in_reply_to_screen_name\n",
      "in_reply_to_status_id\n",
      "in_reply_to_status_id_str\n",
      "in_reply_to_user_id\n",
      "in_reply_to_user_id_str\n",
      "is_quote_status\n",
      "lang\n",
      "metadata\n",
      "parse\n",
      "parse_list\n",
      "place\n",
      "retweet\n",
      "retweet_count\n",
      "retweeted\n",
      "retweets\n",
      "source\n",
      "source_url\n",
      "text\n",
      "truncated\n",
      "user\n"
     ]
    }
   ],
   "source": [
    "def PrintMembers(obj):\n",
    "    for attribute in dir(obj):\n",
    "        #We don't want to show built in methods of the class\n",
    "        if not attribute.startswith('__'):\n",
    "            print(attribute)\n",
    "PrintMembers(tweet)"
   ]
  },
  {
   "cell_type": "markdown",
   "metadata": {},
   "source": [
    "**Shrink dataframe down to only the useful columns**"
   ]
  },
  {
   "cell_type": "code",
   "execution_count": 38,
   "metadata": {
    "nbpresent": {
     "id": "18d07bce-7783-46d7-9cfc-39c8f5e131d7"
    }
   },
   "outputs": [
    {
     "data": {
      "text/html": [
       "<div>\n",
       "<style scoped>\n",
       "    .dataframe tbody tr th:only-of-type {\n",
       "        vertical-align: middle;\n",
       "    }\n",
       "\n",
       "    .dataframe tbody tr th {\n",
       "        vertical-align: top;\n",
       "    }\n",
       "\n",
       "    .dataframe thead th {\n",
       "        text-align: right;\n",
       "    }\n",
       "</style>\n",
       "<table border=\"1\" class=\"dataframe\">\n",
       "  <thead>\n",
       "    <tr style=\"text-align: right;\">\n",
       "      <th></th>\n",
       "      <th>coordinates</th>\n",
       "      <th>created_at</th>\n",
       "      <th>geo</th>\n",
       "      <th>place</th>\n",
       "      <th>text</th>\n",
       "      <th>user</th>\n",
       "    </tr>\n",
       "  </thead>\n",
       "  <tbody>\n",
       "    <tr>\n",
       "      <th>0</th>\n",
       "      <td>{'coordinates': [-106.65, 35.08653], 'type': '...</td>\n",
       "      <td>2019-01-14 14:56:55</td>\n",
       "      <td>{'coordinates': [35.08653, -106.65], 'type': '...</td>\n",
       "      <td>{'bounding_box': {'coordinates': [[[-106.79169...</td>\n",
       "      <td>Road construction, left lane closed in #Albuqu...</td>\n",
       "      <td>{'listed_count': 73, 'friends_count': 226, 'pr...</td>\n",
       "    </tr>\n",
       "    <tr>\n",
       "      <th>1</th>\n",
       "      <td>{'coordinates': [-111.0295, 32.29418], 'type':...</td>\n",
       "      <td>2019-01-14 14:31:30</td>\n",
       "      <td>{'coordinates': [32.29418, -111.0295], 'type':...</td>\n",
       "      <td>{'bounding_box': {'coordinates': [[[-111.08321...</td>\n",
       "      <td>Road construction. right lanes closed in #Pima...</td>\n",
       "      <td>{'listed_count': 82, 'friends_count': 303, 'pr...</td>\n",
       "    </tr>\n",
       "    <tr>\n",
       "      <th>2</th>\n",
       "      <td>{'coordinates': [-106.52, 31.79295], 'type': '...</td>\n",
       "      <td>2019-01-14 14:28:12</td>\n",
       "      <td>{'coordinates': [31.79295, -106.52], 'type': '...</td>\n",
       "      <td>{'bounding_box': {'coordinates': [[[-106.63487...</td>\n",
       "      <td>Road construction, shoulder closed in #ElPaso ...</td>\n",
       "      <td>{'listed_count': 47, 'friends_count': 455, 'pr...</td>\n",
       "    </tr>\n",
       "    <tr>\n",
       "      <th>3</th>\n",
       "      <td>None</td>\n",
       "      <td>2019-01-14 14:08:05</td>\n",
       "      <td>None</td>\n",
       "      <td>{'bounding_box': {'coordinates': [[[-86.044756...</td>\n",
       "      <td>Ughhh at the dentist for a cleaning and the si...</td>\n",
       "      <td>{'listed_count': 37, 'friends_count': 1991, 'p...</td>\n",
       "    </tr>\n",
       "    <tr>\n",
       "      <th>4</th>\n",
       "      <td>{'coordinates': [-111.0295, 32.29418], 'type':...</td>\n",
       "      <td>2019-01-14 13:49:35</td>\n",
       "      <td>{'coordinates': [32.29418, -111.0295], 'type':...</td>\n",
       "      <td>{'bounding_box': {'coordinates': [[[-111.08321...</td>\n",
       "      <td>Road constructions. two right lanes closed in ...</td>\n",
       "      <td>{'listed_count': 82, 'friends_count': 303, 'pr...</td>\n",
       "    </tr>\n",
       "  </tbody>\n",
       "</table>\n",
       "</div>"
      ],
      "text/plain": [
       "                                         coordinates          created_at  \\\n",
       "0  {'coordinates': [-106.65, 35.08653], 'type': '... 2019-01-14 14:56:55   \n",
       "1  {'coordinates': [-111.0295, 32.29418], 'type':... 2019-01-14 14:31:30   \n",
       "2  {'coordinates': [-106.52, 31.79295], 'type': '... 2019-01-14 14:28:12   \n",
       "3                                               None 2019-01-14 14:08:05   \n",
       "4  {'coordinates': [-111.0295, 32.29418], 'type':... 2019-01-14 13:49:35   \n",
       "\n",
       "                                                 geo  \\\n",
       "0  {'coordinates': [35.08653, -106.65], 'type': '...   \n",
       "1  {'coordinates': [32.29418, -111.0295], 'type':...   \n",
       "2  {'coordinates': [31.79295, -106.52], 'type': '...   \n",
       "3                                               None   \n",
       "4  {'coordinates': [32.29418, -111.0295], 'type':...   \n",
       "\n",
       "                                               place  \\\n",
       "0  {'bounding_box': {'coordinates': [[[-106.79169...   \n",
       "1  {'bounding_box': {'coordinates': [[[-111.08321...   \n",
       "2  {'bounding_box': {'coordinates': [[[-106.63487...   \n",
       "3  {'bounding_box': {'coordinates': [[[-86.044756...   \n",
       "4  {'bounding_box': {'coordinates': [[[-111.08321...   \n",
       "\n",
       "                                                text  \\\n",
       "0  Road construction, left lane closed in #Albuqu...   \n",
       "1  Road construction. right lanes closed in #Pima...   \n",
       "2  Road construction, shoulder closed in #ElPaso ...   \n",
       "3  Ughhh at the dentist for a cleaning and the si...   \n",
       "4  Road constructions. two right lanes closed in ...   \n",
       "\n",
       "                                                user  \n",
       "0  {'listed_count': 73, 'friends_count': 226, 'pr...  \n",
       "1  {'listed_count': 82, 'friends_count': 303, 'pr...  \n",
       "2  {'listed_count': 47, 'friends_count': 455, 'pr...  \n",
       "3  {'listed_count': 37, 'friends_count': 1991, 'p...  \n",
       "4  {'listed_count': 82, 'friends_count': 303, 'pr...  "
      ]
     },
     "execution_count": 38,
     "metadata": {},
     "output_type": "execute_result"
    }
   ],
   "source": [
    "columns = ['coordinates', 'created_at', 'geo', 'place', 'text', 'user']\n",
    "df = json_df.loc[:, columns]\n",
    "df.head()"
   ]
  },
  {
   "cell_type": "markdown",
   "metadata": {
    "nbpresent": {
     "id": "e53e9039-09c2-4504-9f9f-32c594225414"
    }
   },
   "source": [
    "### Explore some features of the df"
   ]
  },
  {
   "cell_type": "code",
   "execution_count": 39,
   "metadata": {
    "nbpresent": {
     "id": "dad3dbf3-f957-4c8c-9edf-6c198210db12"
    }
   },
   "outputs": [
    {
     "name": "stdout",
     "output_type": "stream",
     "text": [
      "0 {'bounding_box': {'coordinates': [[[-106.7916912, 35.0158912], [-106.473745, 35.0158912], [-106.473745, 35.218114], [-106.7916912, 35.218114]]], 'type': 'Polygon'}, 'id': '813a485b26b8dae2', 'country_code': 'US', 'place_type': 'city', 'url': 'https://api.twitter.com/1.1/geo/id/813a485b26b8dae2.json', 'contained_within': [], 'name': 'Albuquerque', 'attributes': {}, 'full_name': 'Albuquerque, NM', 'country': 'United States'}\n",
      "--------\n",
      "1 {'bounding_box': {'coordinates': [[[-111.083219, 32.057802], [-110.747928, 32.057802], [-110.747928, 32.320979], [-111.083219, 32.320979]]], 'type': 'Polygon'}, 'id': '013379ee5729a5e6', 'country_code': 'US', 'place_type': 'city', 'url': 'https://api.twitter.com/1.1/geo/id/013379ee5729a5e6.json', 'contained_within': [], 'name': 'Tucson', 'attributes': {}, 'full_name': 'Tucson, AZ', 'country': 'United States'}\n",
      "--------\n"
     ]
    }
   ],
   "source": [
    "# see all the nested information within place (for the first two tweets)\n",
    "list = json_df.loc[:1, 'place']\n",
    "for i in range(len(list)):\n",
    "    print(i, list[i])\n",
    "    print(\"--------\")"
   ]
  },
  {
   "cell_type": "markdown",
   "metadata": {},
   "source": [
    "> The dataframe that we have now has many attributes nested within other attributes. If we want to access the corrdinates nested within `coordinates` or the city nested within `place` we will need to unpack these variables using a different method. Use the next section to convert nested values into their own columns."
   ]
  },
  {
   "cell_type": "markdown",
   "metadata": {
    "nbpresent": {
     "id": "cc9056f7-00b1-42d9-aa5c-a1b65ca2d047"
    }
   },
   "source": [
    "## Option B. Tweets --> json --> parsed --> nested dataframe"
   ]
  },
  {
   "cell_type": "code",
   "execution_count": 46,
   "metadata": {
    "nbpresent": {
     "id": "ceb62c40-fdc4-4657-a359-47dbf4b53ba3"
    }
   },
   "outputs": [
    {
     "name": "stdout",
     "output_type": "stream",
     "text": [
      "143\n",
      "Could not parse:  0\n"
     ]
    }
   ],
   "source": [
    "# Read in json file\n",
    "json_df = pd.read_json(\"../data/AT_historical/PoGo_USA_Tutorial.json20190114_7_1_36.json\", lines = True)\n",
    "\n",
    "# convert json file to list of dictionaries\n",
    "tweets_data = []\n",
    "notParsed = []\n",
    "tweets_file = open(\"../data/AT_historical/PoGo_USA_Tutorial.json20190114_7_1_36.json\",\"r\")\n",
    "for line in tweets_file:    \n",
    "    if line.strip():    \n",
    "        try:\n",
    "            tweet=json.loads(line)\n",
    "            tweets_data.append(tweet)\n",
    "        except:\n",
    "            notParsed.append(line)\n",
    "            continue\n",
    "print(len(tweets_data))\n",
    "print('Could not parse: ', len(notParsed))"
   ]
  },
  {
   "cell_type": "markdown",
   "metadata": {
    "nbpresent": {
     "id": "27af0d00-bbf2-454c-94fc-808ebdfc4a04"
    }
   },
   "source": [
    "**Unpack the nested columns**"
   ]
  },
  {
   "cell_type": "code",
   "execution_count": 47,
   "metadata": {
    "nbpresent": {
     "id": "c1f5bafe-1e87-485e-8993-e3c19e043381"
    }
   },
   "outputs": [
    {
     "data": {
      "text/html": [
       "<div>\n",
       "<style scoped>\n",
       "    .dataframe tbody tr th:only-of-type {\n",
       "        vertical-align: middle;\n",
       "    }\n",
       "\n",
       "    .dataframe tbody tr th {\n",
       "        vertical-align: top;\n",
       "    }\n",
       "\n",
       "    .dataframe thead th {\n",
       "        text-align: right;\n",
       "    }\n",
       "</style>\n",
       "<table border=\"1\" class=\"dataframe\">\n",
       "  <thead>\n",
       "    <tr style=\"text-align: right;\">\n",
       "      <th></th>\n",
       "      <th>coordinates</th>\n",
       "      <th>coordinates.coordinates</th>\n",
       "      <th>coordinates.type</th>\n",
       "      <th>created_at</th>\n",
       "      <th>geo</th>\n",
       "      <th>geo.coordinates</th>\n",
       "      <th>geo.type</th>\n",
       "      <th>id</th>\n",
       "      <th>place.bounding_box.coordinates</th>\n",
       "      <th>place.bounding_box.type</th>\n",
       "      <th>...</th>\n",
       "      <th>user.profile_text_color</th>\n",
       "      <th>user.profile_use_background_image</th>\n",
       "      <th>user.protected</th>\n",
       "      <th>user.screen_name</th>\n",
       "      <th>user.statuses_count</th>\n",
       "      <th>user.time_zone</th>\n",
       "      <th>user.translator_type</th>\n",
       "      <th>user.url</th>\n",
       "      <th>user.utc_offset</th>\n",
       "      <th>user.verified</th>\n",
       "    </tr>\n",
       "  </thead>\n",
       "  <tbody>\n",
       "    <tr>\n",
       "      <th>0</th>\n",
       "      <td>NaN</td>\n",
       "      <td>[-106.65, 35.08653]</td>\n",
       "      <td>Point</td>\n",
       "      <td>Mon Jan 14 14:56:55 +0000 2019</td>\n",
       "      <td>NaN</td>\n",
       "      <td>[35.08653, -106.65]</td>\n",
       "      <td>Point</td>\n",
       "      <td>1084826703724249089</td>\n",
       "      <td>[[[-106.7916912, 35.0158912], [-106.473745, 35...</td>\n",
       "      <td>Polygon</td>\n",
       "      <td>...</td>\n",
       "      <td>333333</td>\n",
       "      <td>True</td>\n",
       "      <td>False</td>\n",
       "      <td>TotalTrafficABQ</td>\n",
       "      <td>22351</td>\n",
       "      <td>None</td>\n",
       "      <td>none</td>\n",
       "      <td>https://t.co/0ksDF2WEvB</td>\n",
       "      <td>None</td>\n",
       "      <td>False</td>\n",
       "    </tr>\n",
       "    <tr>\n",
       "      <th>1</th>\n",
       "      <td>NaN</td>\n",
       "      <td>[-111.0295, 32.29418]</td>\n",
       "      <td>Point</td>\n",
       "      <td>Mon Jan 14 14:31:30 +0000 2019</td>\n",
       "      <td>NaN</td>\n",
       "      <td>[32.29418, -111.0295]</td>\n",
       "      <td>Point</td>\n",
       "      <td>1084820307217731584</td>\n",
       "      <td>[[[-111.083219, 32.057802], [-110.747928, 32.0...</td>\n",
       "      <td>Polygon</td>\n",
       "      <td>...</td>\n",
       "      <td>333333</td>\n",
       "      <td>True</td>\n",
       "      <td>False</td>\n",
       "      <td>TotalTrafficTUC</td>\n",
       "      <td>44176</td>\n",
       "      <td>None</td>\n",
       "      <td>none</td>\n",
       "      <td>None</td>\n",
       "      <td>None</td>\n",
       "      <td>False</td>\n",
       "    </tr>\n",
       "  </tbody>\n",
       "</table>\n",
       "<p>2 rows × 62 columns</p>\n",
       "</div>"
      ],
      "text/plain": [
       "   coordinates coordinates.coordinates coordinates.type  \\\n",
       "0          NaN     [-106.65, 35.08653]            Point   \n",
       "1          NaN   [-111.0295, 32.29418]            Point   \n",
       "\n",
       "                       created_at  geo        geo.coordinates geo.type  \\\n",
       "0  Mon Jan 14 14:56:55 +0000 2019  NaN    [35.08653, -106.65]    Point   \n",
       "1  Mon Jan 14 14:31:30 +0000 2019  NaN  [32.29418, -111.0295]    Point   \n",
       "\n",
       "                    id                     place.bounding_box.coordinates  \\\n",
       "0  1084826703724249089  [[[-106.7916912, 35.0158912], [-106.473745, 35...   \n",
       "1  1084820307217731584  [[[-111.083219, 32.057802], [-110.747928, 32.0...   \n",
       "\n",
       "  place.bounding_box.type      ...       user.profile_text_color  \\\n",
       "0                 Polygon      ...                        333333   \n",
       "1                 Polygon      ...                        333333   \n",
       "\n",
       "  user.profile_use_background_image user.protected user.screen_name  \\\n",
       "0                              True          False  TotalTrafficABQ   \n",
       "1                              True          False  TotalTrafficTUC   \n",
       "\n",
       "  user.statuses_count user.time_zone user.translator_type  \\\n",
       "0               22351           None                 none   \n",
       "1               44176           None                 none   \n",
       "\n",
       "                  user.url user.utc_offset  user.verified  \n",
       "0  https://t.co/0ksDF2WEvB            None          False  \n",
       "1                     None            None          False  \n",
       "\n",
       "[2 rows x 62 columns]"
      ]
     },
     "execution_count": 47,
     "metadata": {},
     "output_type": "execute_result"
    }
   ],
   "source": [
    "tweet_cols = ['coordinates', 'created_at', \n",
    "#                'full_text',\n",
    "              'text','geo', 'id', 'place', 'user']\n",
    "\n",
    "sample_tweets_dict = [{col:tweet[col] for col in tweet_cols } for tweet in tweets_data]\n",
    "\n",
    "# This method looks for any instances of nested dictionaries (DOES NOT FLATTEN LISTS)\n",
    "sample_tweets_df = pd.io.json.json_normalize(sample_tweets_dict)\n",
    "\n",
    "sample_tweets_df.head(2)"
   ]
  },
  {
   "cell_type": "code",
   "execution_count": 48,
   "metadata": {},
   "outputs": [
    {
     "data": {
      "text/plain": [
       "Index(['coordinates', 'coordinates.coordinates', 'coordinates.type',\n",
       "       'created_at', 'geo', 'geo.coordinates', 'geo.type', 'id',\n",
       "       'place.bounding_box.coordinates', 'place.bounding_box.type',\n",
       "       'place.contained_within', 'place.country', 'place.country_code',\n",
       "       'place.full_name', 'place.id', 'place.name', 'place.place_type',\n",
       "       'place.url', 'text', 'user.contributors_enabled', 'user.created_at',\n",
       "       'user.default_profile', 'user.default_profile_image',\n",
       "       'user.description', 'user.entities.description.urls',\n",
       "       'user.entities.url.urls', 'user.favourites_count',\n",
       "       'user.follow_request_sent', 'user.followers_count', 'user.following',\n",
       "       'user.friends_count', 'user.geo_enabled', 'user.has_extended_profile',\n",
       "       'user.id', 'user.id_str', 'user.is_translation_enabled',\n",
       "       'user.is_translator', 'user.lang', 'user.listed_count', 'user.location',\n",
       "       'user.name', 'user.notifications', 'user.profile_background_color',\n",
       "       'user.profile_background_image_url',\n",
       "       'user.profile_background_image_url_https',\n",
       "       'user.profile_background_tile', 'user.profile_banner_url',\n",
       "       'user.profile_image_url', 'user.profile_image_url_https',\n",
       "       'user.profile_link_color', 'user.profile_sidebar_border_color',\n",
       "       'user.profile_sidebar_fill_color', 'user.profile_text_color',\n",
       "       'user.profile_use_background_image', 'user.protected',\n",
       "       'user.screen_name', 'user.statuses_count', 'user.time_zone',\n",
       "       'user.translator_type', 'user.url', 'user.utc_offset', 'user.verified'],\n",
       "      dtype='object')"
      ]
     },
     "execution_count": 48,
     "metadata": {},
     "output_type": "execute_result"
    }
   ],
   "source": [
    "sample_tweets_df.columns"
   ]
  },
  {
   "cell_type": "code",
   "execution_count": 43,
   "metadata": {},
   "outputs": [],
   "source": [
    "# save the USA (or Houston) historical json file as df, COMMENT OUT\n",
    "# df = sample_tweets_df\n",
    "# df.to_csv(\"../data/AT_historical/USA_142tweets.csv\", index = False)"
   ]
  },
  {
   "cell_type": "markdown",
   "metadata": {},
   "source": [
    "Examine who the most common tweets are coming from"
   ]
  },
  {
   "cell_type": "code",
   "execution_count": 49,
   "metadata": {},
   "outputs": [
    {
     "data": {
      "text/plain": [
       "TotalTrafficDFW    16\n",
       "TotalTrafficABQ    13\n",
       "TotalTrafficMIA    10\n",
       "TotalTrafficPHX     8\n",
       "AlgoTraffic         7\n",
       "Name: user.screen_name, dtype: int64"
      ]
     },
     "execution_count": 49,
     "metadata": {},
     "output_type": "execute_result"
    }
   ],
   "source": [
    "sample_tweets_df['user.screen_name'].value_counts().head()"
   ]
  },
  {
   "cell_type": "markdown",
   "metadata": {},
   "source": [
    "So the Twitter user \"TotalTraffic\", specific to a certain city, is contributing the most tweets to situations with \"road closed\", and providing location place data for each tweet"
   ]
  }
 ],
 "metadata": {
  "kernelspec": {
   "display_name": "Python 3",
   "language": "python",
   "name": "python3"
  },
  "language_info": {
   "codemirror_mode": {
    "name": "ipython",
    "version": 3
   },
   "file_extension": ".py",
   "mimetype": "text/x-python",
   "name": "python",
   "nbconvert_exporter": "python",
   "pygments_lexer": "ipython3",
   "version": "3.6.8"
  },
  "varInspector": {
   "cols": {
    "lenName": 16,
    "lenType": 16,
    "lenVar": 40
   },
   "kernels_config": {
    "python": {
     "delete_cmd_postfix": "",
     "delete_cmd_prefix": "del ",
     "library": "var_list.py",
     "varRefreshCmd": "print(var_dic_list())"
    },
    "r": {
     "delete_cmd_postfix": ") ",
     "delete_cmd_prefix": "rm(",
     "library": "var_list.r",
     "varRefreshCmd": "cat(var_dic_list()) "
    }
   },
   "types_to_exclude": [
    "module",
    "function",
    "builtin_function_or_method",
    "instance",
    "_Feature"
   ],
   "window_display": false
  }
 },
 "nbformat": 4,
 "nbformat_minor": 2
}
