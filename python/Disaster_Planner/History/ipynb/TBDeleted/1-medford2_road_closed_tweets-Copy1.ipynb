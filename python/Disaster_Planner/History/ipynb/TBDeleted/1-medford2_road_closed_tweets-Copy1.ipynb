{
 "cells": [
  {
   "cell_type": "markdown",
   "metadata": {
    "nbpresent": {
     "id": "4194895c-aee6-4007-952d-9f8e8f28b890"
    }
   },
   "source": [
    "# Historical Tweets - from Twitter Search API using Tweepy Library <br>\n",
    "\n",
    "Heavily inspired by DSI-6's(Amy Taylor and Veronica Giannotta) work"
   ]
  },
  {
   "cell_type": "code",
   "execution_count": 1,
   "metadata": {
    "nbpresent": {
     "id": "7a35bd4f-64b7-4da2-b5d6-07f879c10654"
    }
   },
   "outputs": [],
   "source": [
    "import pandas as pd\n",
    "import tweepy\n",
    "import shutil\n",
    "import jsonpickle\n",
    "import json\n",
    "import datetime\n",
    "import config\n",
    "from pandas.io.json import json_normalize"
   ]
  },
  {
   "cell_type": "markdown",
   "metadata": {
    "nbpresent": {
     "id": "91702dbc-8243-4d9b-b081-8e94def65aa0"
    }
   },
   "source": [
    "## Creation of API object\n"
   ]
  },
  {
   "cell_type": "code",
   "execution_count": 2,
   "metadata": {
    "nbpresent": {
     "id": "f3323f68-62bf-423c-91b0-4eeac028887d"
    }
   },
   "outputs": [],
   "source": [
    "# authenticate account with tweepy\n",
    "auth = tweepy.OAuthHandler('1ZWD1JS7xivKADeOCV7zVXgI4', 'TgsgO0MaUYw2dccUVC7KtD8SYUX4QYaoxT52D4ye2146d0sLHo')\n",
    "auth.set_access_token('3799487133-rGUwhJRC2pKZmx8UbureNKPxXSdZAgsWnOrjMQk', 'jOr0vlL0gzyRh1gOQTievE2ZAvuN1sD2FgYCGilFKmE60')\n",
    "\n",
    "# create API object to pull data from twitter - and pass in authentication code\n",
    "api = tweepy.API(auth, wait_on_rate_limit=True, wait_on_rate_limit_notify=True)"
   ]
  },
  {
   "cell_type": "markdown",
   "metadata": {
    "nbpresent": {
     "id": "e0814491-a723-400c-bf53-51c4d43f7f72"
    }
   },
   "source": [
    "# City api.geo search"
   ]
  },
  {
   "cell_type": "code",
   "execution_count": 3,
   "metadata": {
    "nbpresent": {
     "id": "45273621-1fac-402e-803d-4678436ad7b7"
    }
   },
   "outputs": [],
   "source": [
    "#  Determine the city, country, or location you want\n",
    "places = api.geo_search(query=\"Medford, MA\", \n",
    "                        granularity=\"city\"\n",
    "                        )"
   ]
  },
  {
   "cell_type": "markdown",
   "metadata": {},
   "source": [
    "**place_type='city', name='Medford', full_name='Medford, MA', country_code='US', country='United States', contained_within=[Place(_api=<tweepy.api.API object at 0x11946b748>, id='988257060feb2e4b'**"
   ]
  },
  {
   "cell_type": "markdown",
   "metadata": {},
   "source": [
    "**url='https://api.twitter.com/1.1/geo/id/988257060feb2e4b.json'**"
   ]
  },
  {
   "cell_type": "markdown",
   "metadata": {
    "nbpresent": {
     "id": "74feb20b-8bdb-403b-bf7e-4f17039f87f9"
    }
   },
   "source": [
    "**Download tweets from Search API based on our query search terms, and save tweets as a json file**"
   ]
  },
  {
   "cell_type": "code",
   "execution_count": 4,
   "metadata": {
    "nbpresent": {
     "id": "faf6dc51-2b8f-40a1-b142-e978b42abe32"
    }
   },
   "outputs": [
    {
     "name": "stdout",
     "output_type": "stream",
     "text": [
      "Downloaded 1 tweets\n"
     ]
    }
   ],
   "source": [
    "# query including placeID\n",
    "searchQuery = 'place:c8e7273a81fab7c0 closed traffic' \n",
    "\n",
    "tweetCount = 0\n",
    "\n",
    "#Open a text file to save the tweets to\n",
    "with open('./medford2.json', 'w') as f:\n",
    "\n",
    "    # use Search API (api.search) with query\n",
    "    for tweet in tweepy.Cursor(api.search,q=searchQuery\n",
    "                              ).items() :         \n",
    "\n",
    "        #Verify the tweet has place info before writing \n",
    "        if tweet.place is not None:\n",
    "            \n",
    "            #Write the JSON format to the text file, and add one to the number collected\n",
    "            f.write(jsonpickle.encode(tweet._json, unpicklable=False) + '\\n')\n",
    "            tweetCount += 1\n",
    "\n",
    "    #Display number of tweets collected\n",
    "    print(\"Downloaded {0} tweets\".format(tweetCount))"
   ]
  },
  {
   "cell_type": "markdown",
   "metadata": {
    "nbpresent": {
     "id": "2477087a-0b4e-4ccd-b439-f14993ad71d5"
    }
   },
   "source": [
    "**Create a timestamp to the json file name**"
   ]
  },
  {
   "cell_type": "code",
   "execution_count": 5,
   "metadata": {
    "nbpresent": {
     "id": "e30fcb1c-2794-48ea-990c-a55b58cc25a0"
    }
   },
   "outputs": [
    {
     "data": {
      "text/plain": [
       "[{'contributors': None,\n",
       "  'coordinates': {'coordinates': [-71.08259, 42.40478], 'type': 'Point'},\n",
       "  'created_at': 'Sun Apr 07 15:45:31 +0000 2019',\n",
       "  'entities': {'hashtags': [{'indices': [30, 38], 'text': 'Medford'},\n",
       "    {'indices': [83, 91], 'text': 'traffic'}],\n",
       "   'symbols': [],\n",
       "   'urls': [{'display_url': 'bit.ly/YAC1Ic',\n",
       "     'expanded_url': 'http://bit.ly/YAC1Ic',\n",
       "     'indices': [92, 115],\n",
       "     'url': 'https://t.co/AoTr5OKtFq'}],\n",
       "   'user_mentions': []},\n",
       "  'favorite_count': 0,\n",
       "  'favorited': False,\n",
       "  'geo': {'coordinates': [42.40478, -71.08259], 'type': 'Point'},\n",
       "  'id': 1114917126802948097,\n",
       "  'id_str': '1114917126802948097',\n",
       "  'in_reply_to_screen_name': None,\n",
       "  'in_reply_to_status_id': None,\n",
       "  'in_reply_to_status_id_str': None,\n",
       "  'in_reply_to_user_id': None,\n",
       "  'in_reply_to_user_id_str': None,\n",
       "  'is_quote_status': False,\n",
       "  'lang': 'en',\n",
       "  'metadata': {'iso_language_code': 'en', 'result_type': 'recent'},\n",
       "  'place': {'attributes': {},\n",
       "   'bounding_box': {'coordinates': [[[-71.149807, 42.396145],\n",
       "      [-71.071833, 42.396145],\n",
       "      [-71.071833, 42.453759],\n",
       "      [-71.149807, 42.453759]]],\n",
       "    'type': 'Polygon'},\n",
       "   'contained_within': [],\n",
       "   'country': 'United States',\n",
       "   'country_code': 'US',\n",
       "   'full_name': 'Medford, MA',\n",
       "   'id': 'c8e7273a81fab7c0',\n",
       "   'name': 'Medford',\n",
       "   'place_type': 'city',\n",
       "   'url': 'https://api.twitter.com/1.1/geo/id/c8e7273a81fab7c0.json'},\n",
       "  'possibly_sensitive': False,\n",
       "  'retweet_count': 0,\n",
       "  'retweeted': False,\n",
       "  'source': '<a href=\"http://www.sigalert.com/Map.asp?region=Boston\" rel=\"nofollow\">TTN BOS traffic</a>',\n",
       "  'text': 'Road closed intermittently in #Medford on Rt-16 Both EB/WB between Rt-28 and Rt-99 #traffic https://t.co/AoTr5OKtFq',\n",
       "  'truncated': False,\n",
       "  'user': {'contributors_enabled': False,\n",
       "   'created_at': 'Tue Feb 08 23:36:19 +0000 2011',\n",
       "   'default_profile': True,\n",
       "   'default_profile_image': False,\n",
       "   'description': '',\n",
       "   'entities': {'description': {'urls': []}},\n",
       "   'favourites_count': 0,\n",
       "   'follow_request_sent': False,\n",
       "   'followers_count': 3260,\n",
       "   'following': False,\n",
       "   'friends_count': 1,\n",
       "   'geo_enabled': True,\n",
       "   'has_extended_profile': False,\n",
       "   'id': 249393984,\n",
       "   'id_str': '249393984',\n",
       "   'is_translation_enabled': False,\n",
       "   'is_translator': False,\n",
       "   'lang': 'en',\n",
       "   'listed_count': 138,\n",
       "   'location': 'Boston, MA',\n",
       "   'name': 'TTWN Boston',\n",
       "   'notifications': False,\n",
       "   'profile_background_color': 'C0DEED',\n",
       "   'profile_background_image_url': 'http://abs.twimg.com/images/themes/theme1/bg.png',\n",
       "   'profile_background_image_url_https': 'https://abs.twimg.com/images/themes/theme1/bg.png',\n",
       "   'profile_background_tile': False,\n",
       "   'profile_image_url': 'http://pbs.twimg.com/profile_images/439089134884253696/iOThgitH_normal.png',\n",
       "   'profile_image_url_https': 'https://pbs.twimg.com/profile_images/439089134884253696/iOThgitH_normal.png',\n",
       "   'profile_link_color': '1DA1F2',\n",
       "   'profile_sidebar_border_color': 'C0DEED',\n",
       "   'profile_sidebar_fill_color': 'DDEEF6',\n",
       "   'profile_text_color': '333333',\n",
       "   'profile_use_background_image': True,\n",
       "   'protected': False,\n",
       "   'screen_name': 'TotalTrafficBOS',\n",
       "   'statuses_count': 62032,\n",
       "   'time_zone': None,\n",
       "   'translator_type': 'none',\n",
       "   'url': None,\n",
       "   'utc_offset': None,\n",
       "   'verified': False}}]"
      ]
     },
     "execution_count": 5,
     "metadata": {},
     "output_type": "execute_result"
    }
   ],
   "source": [
    "def file_conversion():\n",
    "    #create a timestamp\n",
    "    now = datetime.datetime.now()\n",
    "    month = '0'+str(now.month)\n",
    "    day = str(now.day)\n",
    "    hour = str(now.hour)\n",
    "    minute = str(now.minute)\n",
    "    now_str = str(now.year)+month+day+'_'+hour+'_'+minute\n",
    "    \n",
    "    \n",
    "    # Dali: I did not get this part of the code\n",
    "    #replace the name of the file with a new timestamped filename\n",
    "    \n",
    "    dest = './medford2_' + now_str + \".json\"\n",
    "    shutil.move('./medford2.json', dest)\n",
    "    \n",
    "    with open(dest, \"r\") as f:\n",
    "        status = f.readlines()\n",
    "        jsons = []\n",
    "        for ind in status:\n",
    "            jsons.append(json.loads(ind))\n",
    "    return jsons\n",
    "\n",
    "# Uncomment out the file_conversion function to activate the file name change\n",
    "file_conversion()"
   ]
  },
  {
   "cell_type": "markdown",
   "metadata": {
    "nbpresent": {
     "id": "604a2b09-df0a-4641-9f30-de3883532c10"
    }
   },
   "source": [
    "**Add the newly created json file to the list below for easy access later**"
   ]
  },
  {
   "cell_type": "code",
   "execution_count": 6,
   "metadata": {
    "nbpresent": {
     "id": "4558b66b-a4e5-4393-a52d-3495ccd09777"
    }
   },
   "outputs": [],
   "source": [
    "# Previously created json files can be accessed from this list\n",
    "#json_df = pd.read_json(\"./medford_20190415_17_41.json\", lines = True)\n",
    "#json_df = pd.read_json(\"./medford_20190415_21_24.json\", lines = True)\n",
    "json_df = pd.read_json(\"./medford2_20190415_22_20.json\", lines = True)"
   ]
  },
  {
   "cell_type": "markdown",
   "metadata": {
    "nbpresent": {
     "id": "63b26ce2-424c-477f-b326-4192259183a1"
    }
   },
   "source": [
    "**Explore the Tweets from json file**"
   ]
  },
  {
   "cell_type": "code",
   "execution_count": 7,
   "metadata": {},
   "outputs": [
    {
     "data": {
      "text/plain": [
       "(1, 25)"
      ]
     },
     "execution_count": 7,
     "metadata": {},
     "output_type": "execute_result"
    }
   ],
   "source": [
    "json_df.shape"
   ]
  },
  {
   "cell_type": "code",
   "execution_count": 8,
   "metadata": {},
   "outputs": [
    {
     "data": {
      "text/html": [
       "<div>\n",
       "<style scoped>\n",
       "    .dataframe tbody tr th:only-of-type {\n",
       "        vertical-align: middle;\n",
       "    }\n",
       "\n",
       "    .dataframe tbody tr th {\n",
       "        vertical-align: top;\n",
       "    }\n",
       "\n",
       "    .dataframe thead th {\n",
       "        text-align: right;\n",
       "    }\n",
       "</style>\n",
       "<table border=\"1\" class=\"dataframe\">\n",
       "  <thead>\n",
       "    <tr style=\"text-align: right;\">\n",
       "      <th></th>\n",
       "      <th>contributors</th>\n",
       "      <th>coordinates</th>\n",
       "      <th>created_at</th>\n",
       "      <th>entities</th>\n",
       "      <th>favorite_count</th>\n",
       "      <th>favorited</th>\n",
       "      <th>geo</th>\n",
       "      <th>id</th>\n",
       "      <th>id_str</th>\n",
       "      <th>in_reply_to_screen_name</th>\n",
       "      <th>...</th>\n",
       "      <th>lang</th>\n",
       "      <th>metadata</th>\n",
       "      <th>place</th>\n",
       "      <th>possibly_sensitive</th>\n",
       "      <th>retweet_count</th>\n",
       "      <th>retweeted</th>\n",
       "      <th>source</th>\n",
       "      <th>text</th>\n",
       "      <th>truncated</th>\n",
       "      <th>user</th>\n",
       "    </tr>\n",
       "  </thead>\n",
       "  <tbody>\n",
       "    <tr>\n",
       "      <th>0</th>\n",
       "      <td>NaN</td>\n",
       "      <td>{'coordinates': [-71.08259, 42.40478], 'type':...</td>\n",
       "      <td>2019-04-07 15:45:31</td>\n",
       "      <td>{'hashtags': [{'indices': [30, 38], 'text': 'M...</td>\n",
       "      <td>0</td>\n",
       "      <td>False</td>\n",
       "      <td>{'coordinates': [42.40478, -71.08259], 'type':...</td>\n",
       "      <td>1114917126802948097</td>\n",
       "      <td>1114917126802948096</td>\n",
       "      <td>NaN</td>\n",
       "      <td>...</td>\n",
       "      <td>en</td>\n",
       "      <td>{'iso_language_code': 'en', 'result_type': 're...</td>\n",
       "      <td>{'attributes': {}, 'bounding_box': {'coordinat...</td>\n",
       "      <td>False</td>\n",
       "      <td>0</td>\n",
       "      <td>False</td>\n",
       "      <td>&lt;a href=\"http://www.sigalert.com/Map.asp?regio...</td>\n",
       "      <td>Road closed intermittently in #Medford on Rt-1...</td>\n",
       "      <td>False</td>\n",
       "      <td>{'contributors_enabled': False, 'created_at': ...</td>\n",
       "    </tr>\n",
       "  </tbody>\n",
       "</table>\n",
       "<p>1 rows × 25 columns</p>\n",
       "</div>"
      ],
      "text/plain": [
       "   contributors                                        coordinates  \\\n",
       "0           NaN  {'coordinates': [-71.08259, 42.40478], 'type':...   \n",
       "\n",
       "           created_at                                           entities  \\\n",
       "0 2019-04-07 15:45:31  {'hashtags': [{'indices': [30, 38], 'text': 'M...   \n",
       "\n",
       "   favorite_count  favorited  \\\n",
       "0               0      False   \n",
       "\n",
       "                                                 geo                   id  \\\n",
       "0  {'coordinates': [42.40478, -71.08259], 'type':...  1114917126802948097   \n",
       "\n",
       "                id_str  in_reply_to_screen_name  ...  lang  \\\n",
       "0  1114917126802948096                      NaN  ...    en   \n",
       "\n",
       "                                            metadata  \\\n",
       "0  {'iso_language_code': 'en', 'result_type': 're...   \n",
       "\n",
       "                                               place  possibly_sensitive  \\\n",
       "0  {'attributes': {}, 'bounding_box': {'coordinat...               False   \n",
       "\n",
       "   retweet_count retweeted                                             source  \\\n",
       "0              0     False  <a href=\"http://www.sigalert.com/Map.asp?regio...   \n",
       "\n",
       "                                                text  truncated  \\\n",
       "0  Road closed intermittently in #Medford on Rt-1...      False   \n",
       "\n",
       "                                                user  \n",
       "0  {'contributors_enabled': False, 'created_at': ...  \n",
       "\n",
       "[1 rows x 25 columns]"
      ]
     },
     "execution_count": 8,
     "metadata": {},
     "output_type": "execute_result"
    }
   ],
   "source": [
    "json_df.head(2)"
   ]
  },
  {
   "cell_type": "code",
   "execution_count": 9,
   "metadata": {
    "nbpresent": {
     "id": "1331211f-697e-4313-9f0a-1f72be4ce9b9"
    }
   },
   "outputs": [
    {
     "data": {
      "text/plain": [
       "Index(['contributors', 'coordinates', 'created_at', 'entities',\n",
       "       'favorite_count', 'favorited', 'geo', 'id', 'id_str',\n",
       "       'in_reply_to_screen_name', 'in_reply_to_status_id',\n",
       "       'in_reply_to_status_id_str', 'in_reply_to_user_id',\n",
       "       'in_reply_to_user_id_str', 'is_quote_status', 'lang', 'metadata',\n",
       "       'place', 'possibly_sensitive', 'retweet_count', 'retweeted', 'source',\n",
       "       'text', 'truncated', 'user'],\n",
       "      dtype='object')"
      ]
     },
     "execution_count": 9,
     "metadata": {},
     "output_type": "execute_result"
    }
   ],
   "source": [
    "# feature names\n",
    "json_df.columns"
   ]
  },
  {
   "cell_type": "markdown",
   "metadata": {
    "nbpresent": {
     "id": "6f7b551a-9066-466a-9154-696449bd61eb"
    }
   },
   "source": [
    "**View all tweets from the `text` column** (for the first 7 tweets)"
   ]
  },
  {
   "cell_type": "markdown",
   "metadata": {},
   "source": [
    "**reduce down to only the useful columns**"
   ]
  },
  {
   "cell_type": "code",
   "execution_count": 10,
   "metadata": {
    "nbpresent": {
     "id": "1cca9458-0901-41ed-a839-785953e4a4e6"
    },
    "scrolled": true
   },
   "outputs": [],
   "source": [
    "medford2 = json_df[['coordinates', 'created_at', 'geo', 'place','text']]"
   ]
  },
  {
   "cell_type": "code",
   "execution_count": 11,
   "metadata": {},
   "outputs": [
    {
     "data": {
      "text/html": [
       "<div>\n",
       "<style scoped>\n",
       "    .dataframe tbody tr th:only-of-type {\n",
       "        vertical-align: middle;\n",
       "    }\n",
       "\n",
       "    .dataframe tbody tr th {\n",
       "        vertical-align: top;\n",
       "    }\n",
       "\n",
       "    .dataframe thead th {\n",
       "        text-align: right;\n",
       "    }\n",
       "</style>\n",
       "<table border=\"1\" class=\"dataframe\">\n",
       "  <thead>\n",
       "    <tr style=\"text-align: right;\">\n",
       "      <th></th>\n",
       "      <th>coordinates</th>\n",
       "      <th>created_at</th>\n",
       "      <th>geo</th>\n",
       "      <th>place</th>\n",
       "      <th>text</th>\n",
       "    </tr>\n",
       "  </thead>\n",
       "  <tbody>\n",
       "    <tr>\n",
       "      <th>0</th>\n",
       "      <td>{'coordinates': [-71.08259, 42.40478], 'type':...</td>\n",
       "      <td>2019-04-07 15:45:31</td>\n",
       "      <td>{'coordinates': [42.40478, -71.08259], 'type':...</td>\n",
       "      <td>{'attributes': {}, 'bounding_box': {'coordinat...</td>\n",
       "      <td>Road closed intermittently in #Medford on Rt-1...</td>\n",
       "    </tr>\n",
       "  </tbody>\n",
       "</table>\n",
       "</div>"
      ],
      "text/plain": [
       "                                         coordinates          created_at  \\\n",
       "0  {'coordinates': [-71.08259, 42.40478], 'type':... 2019-04-07 15:45:31   \n",
       "\n",
       "                                                 geo  \\\n",
       "0  {'coordinates': [42.40478, -71.08259], 'type':...   \n",
       "\n",
       "                                               place  \\\n",
       "0  {'attributes': {}, 'bounding_box': {'coordinat...   \n",
       "\n",
       "                                                text  \n",
       "0  Road closed intermittently in #Medford on Rt-1...  "
      ]
     },
     "execution_count": 11,
     "metadata": {},
     "output_type": "execute_result"
    }
   ],
   "source": [
    "medford2"
   ]
  },
  {
   "cell_type": "markdown",
   "metadata": {
    "nbpresent": {
     "id": "e53e9039-09c2-4504-9f9f-32c594225414"
    }
   },
   "source": [
    "### Explore some features of the df"
   ]
  },
  {
   "cell_type": "code",
   "execution_count": 12,
   "metadata": {
    "nbpresent": {
     "id": "dad3dbf3-f957-4c8c-9edf-6c198210db12"
    }
   },
   "outputs": [
    {
     "name": "stdout",
     "output_type": "stream",
     "text": [
      "0 {'attributes': {}, 'bounding_box': {'coordinates': [[[-71.149807, 42.396145], [-71.071833, 42.396145], [-71.071833, 42.453759], [-71.149807, 42.453759]]], 'type': 'Polygon'}, 'contained_within': [], 'country': 'United States', 'country_code': 'US', 'full_name': 'Medford, MA', 'id': 'c8e7273a81fab7c0', 'name': 'Medford', 'place_type': 'city', 'url': 'https://api.twitter.com/1.1/geo/id/c8e7273a81fab7c0.json'}\n",
      "--------\n"
     ]
    }
   ],
   "source": [
    "# see all the nested information within place (for the first two tweets)\n",
    "list = medford2.loc[:1, 'place']\n",
    "for i in range(len(list)):\n",
    "    print(i, list[i])\n",
    "    print(\"--------\")"
   ]
  },
  {
   "cell_type": "markdown",
   "metadata": {},
   "source": [
    "> The dataframe that we have now has many attributes nested within other attributes. If we want to access the corrdinates nested within `coordinates` or the city nested within `place` we will need to unpack these variables using a different method. Use the next section to convert nested values into their own columns."
   ]
  },
  {
   "cell_type": "markdown",
   "metadata": {
    "nbpresent": {
     "id": "cc9056f7-00b1-42d9-aa5c-a1b65ca2d047"
    }
   },
   "source": [
    "## Option B. Tweets --> json --> parsed --> nested dataframe"
   ]
  },
  {
   "cell_type": "code",
   "execution_count": 13,
   "metadata": {
    "nbpresent": {
     "id": "ceb62c40-fdc4-4657-a359-47dbf4b53ba3"
    }
   },
   "outputs": [
    {
     "name": "stdout",
     "output_type": "stream",
     "text": [
      "1\n",
      "Could not parse:  0\n"
     ]
    }
   ],
   "source": [
    "# Read in json file\n",
    "medford2 = pd.read_json(\"./medford2_20190415_22_20.json\", lines = True)\n",
    "\n",
    "# convert json file to list of dictionaries\n",
    "tweets_data = []\n",
    "notParsed = []\n",
    "tweets_file = open(\"./medford2_20190415_22_20.json\",\"r\")\n",
    "for line in tweets_file:    \n",
    "    if line.strip():    \n",
    "        try:\n",
    "            tweet=json.loads(line)\n",
    "            tweets_data.append(tweet)\n",
    "        except:\n",
    "            notParsed.append(line)\n",
    "            continue\n",
    "print(len(tweets_data))\n",
    "print('Could not parse: ', len(notParsed))"
   ]
  },
  {
   "cell_type": "markdown",
   "metadata": {
    "nbpresent": {
     "id": "27af0d00-bbf2-454c-94fc-808ebdfc4a04"
    }
   },
   "source": [
    "**Unpack the nested columns**"
   ]
  },
  {
   "cell_type": "code",
   "execution_count": 14,
   "metadata": {
    "nbpresent": {
     "id": "c1f5bafe-1e87-485e-8993-e3c19e043381"
    }
   },
   "outputs": [
    {
     "data": {
      "text/html": [
       "<div>\n",
       "<style scoped>\n",
       "    .dataframe tbody tr th:only-of-type {\n",
       "        vertical-align: middle;\n",
       "    }\n",
       "\n",
       "    .dataframe tbody tr th {\n",
       "        vertical-align: top;\n",
       "    }\n",
       "\n",
       "    .dataframe thead th {\n",
       "        text-align: right;\n",
       "    }\n",
       "</style>\n",
       "<table border=\"1\" class=\"dataframe\">\n",
       "  <thead>\n",
       "    <tr style=\"text-align: right;\">\n",
       "      <th></th>\n",
       "      <th>coordinates.coordinates</th>\n",
       "      <th>coordinates.type</th>\n",
       "      <th>created_at</th>\n",
       "      <th>geo.coordinates</th>\n",
       "      <th>geo.type</th>\n",
       "      <th>id</th>\n",
       "      <th>place.bounding_box.coordinates</th>\n",
       "      <th>place.bounding_box.type</th>\n",
       "      <th>place.contained_within</th>\n",
       "      <th>place.country</th>\n",
       "      <th>...</th>\n",
       "      <th>user.profile_text_color</th>\n",
       "      <th>user.profile_use_background_image</th>\n",
       "      <th>user.protected</th>\n",
       "      <th>user.screen_name</th>\n",
       "      <th>user.statuses_count</th>\n",
       "      <th>user.time_zone</th>\n",
       "      <th>user.translator_type</th>\n",
       "      <th>user.url</th>\n",
       "      <th>user.utc_offset</th>\n",
       "      <th>user.verified</th>\n",
       "    </tr>\n",
       "  </thead>\n",
       "  <tbody>\n",
       "    <tr>\n",
       "      <th>0</th>\n",
       "      <td>[-71.08259, 42.40478]</td>\n",
       "      <td>Point</td>\n",
       "      <td>Sun Apr 07 15:45:31 +0000 2019</td>\n",
       "      <td>[42.40478, -71.08259]</td>\n",
       "      <td>Point</td>\n",
       "      <td>1114917126802948097</td>\n",
       "      <td>[[[-71.149807, 42.396145], [-71.071833, 42.396...</td>\n",
       "      <td>Polygon</td>\n",
       "      <td>[]</td>\n",
       "      <td>United States</td>\n",
       "      <td>...</td>\n",
       "      <td>333333</td>\n",
       "      <td>True</td>\n",
       "      <td>False</td>\n",
       "      <td>TotalTrafficBOS</td>\n",
       "      <td>62030</td>\n",
       "      <td>None</td>\n",
       "      <td>none</td>\n",
       "      <td>None</td>\n",
       "      <td>None</td>\n",
       "      <td>False</td>\n",
       "    </tr>\n",
       "  </tbody>\n",
       "</table>\n",
       "<p>1 rows × 58 columns</p>\n",
       "</div>"
      ],
      "text/plain": [
       "  coordinates.coordinates coordinates.type                      created_at  \\\n",
       "0   [-71.08259, 42.40478]            Point  Sun Apr 07 15:45:31 +0000 2019   \n",
       "\n",
       "         geo.coordinates geo.type                   id  \\\n",
       "0  [42.40478, -71.08259]    Point  1114917126802948097   \n",
       "\n",
       "                      place.bounding_box.coordinates place.bounding_box.type  \\\n",
       "0  [[[-71.149807, 42.396145], [-71.071833, 42.396...                 Polygon   \n",
       "\n",
       "  place.contained_within  place.country  ... user.profile_text_color  \\\n",
       "0                     []  United States  ...                  333333   \n",
       "\n",
       "  user.profile_use_background_image user.protected user.screen_name  \\\n",
       "0                              True          False  TotalTrafficBOS   \n",
       "\n",
       "  user.statuses_count user.time_zone user.translator_type  user.url  \\\n",
       "0               62030           None                 none      None   \n",
       "\n",
       "  user.utc_offset  user.verified  \n",
       "0            None          False  \n",
       "\n",
       "[1 rows x 58 columns]"
      ]
     },
     "execution_count": 14,
     "metadata": {},
     "output_type": "execute_result"
    }
   ],
   "source": [
    "tweet_cols = ['coordinates', 'created_at', \n",
    "              'text','geo', 'id', 'place', 'user']\n",
    "\n",
    "sample_tweets_dict = [{col:tweet[col] for col in tweet_cols } for tweet in tweets_data]\n",
    "\n",
    "# This method looks for any instances of nested dictionaries (DOES NOT FLATTEN LISTS)\n",
    "sample_tweets_df = pd.io.json.json_normalize(sample_tweets_dict)\n",
    "\n",
    "sample_tweets_df.head(2)"
   ]
  },
  {
   "cell_type": "code",
   "execution_count": 15,
   "metadata": {},
   "outputs": [
    {
     "data": {
      "text/plain": [
       "Index(['coordinates.coordinates', 'coordinates.type', 'created_at',\n",
       "       'geo.coordinates', 'geo.type', 'id', 'place.bounding_box.coordinates',\n",
       "       'place.bounding_box.type', 'place.contained_within', 'place.country',\n",
       "       'place.country_code', 'place.full_name', 'place.id', 'place.name',\n",
       "       'place.place_type', 'place.url', 'text', 'user.contributors_enabled',\n",
       "       'user.created_at', 'user.default_profile', 'user.default_profile_image',\n",
       "       'user.description', 'user.entities.description.urls',\n",
       "       'user.favourites_count', 'user.follow_request_sent',\n",
       "       'user.followers_count', 'user.following', 'user.friends_count',\n",
       "       'user.geo_enabled', 'user.has_extended_profile', 'user.id',\n",
       "       'user.id_str', 'user.is_translation_enabled', 'user.is_translator',\n",
       "       'user.lang', 'user.listed_count', 'user.location', 'user.name',\n",
       "       'user.notifications', 'user.profile_background_color',\n",
       "       'user.profile_background_image_url',\n",
       "       'user.profile_background_image_url_https',\n",
       "       'user.profile_background_tile', 'user.profile_image_url',\n",
       "       'user.profile_image_url_https', 'user.profile_link_color',\n",
       "       'user.profile_sidebar_border_color', 'user.profile_sidebar_fill_color',\n",
       "       'user.profile_text_color', 'user.profile_use_background_image',\n",
       "       'user.protected', 'user.screen_name', 'user.statuses_count',\n",
       "       'user.time_zone', 'user.translator_type', 'user.url', 'user.utc_offset',\n",
       "       'user.verified'],\n",
       "      dtype='object')"
      ]
     },
     "execution_count": 15,
     "metadata": {},
     "output_type": "execute_result"
    }
   ],
   "source": [
    "sample_tweets_df.columns"
   ]
  },
  {
   "cell_type": "code",
   "execution_count": 16,
   "metadata": {},
   "outputs": [],
   "source": [
    "# save the USA (or Houston) historical json file as df, COMMENT OUT\n",
    "df = sample_tweets_df\n",
    "df.to_csv(\"./medford2.csv\", index = False)"
   ]
  },
  {
   "cell_type": "markdown",
   "metadata": {},
   "source": [
    "Examine who the most common tweets are coming from"
   ]
  },
  {
   "cell_type": "code",
   "execution_count": 17,
   "metadata": {},
   "outputs": [
    {
     "data": {
      "text/plain": [
       "TotalTrafficBOS    1\n",
       "Name: user.screen_name, dtype: int64"
      ]
     },
     "execution_count": 17,
     "metadata": {},
     "output_type": "execute_result"
    }
   ],
   "source": [
    "sample_tweets_df['user.screen_name'].value_counts().head()"
   ]
  },
  {
   "cell_type": "markdown",
   "metadata": {},
   "source": [
    "So the Twitter user \"TotalTraffic\", specific to a certain city, is contributing the most tweets to situations with \"road closed\", and providing location place data for each tweet"
   ]
  }
 ],
 "metadata": {
  "kernelspec": {
   "display_name": "Python 3",
   "language": "python",
   "name": "python3"
  },
  "language_info": {
   "codemirror_mode": {
    "name": "ipython",
    "version": 3
   },
   "file_extension": ".py",
   "mimetype": "text/x-python",
   "name": "python",
   "nbconvert_exporter": "python",
   "pygments_lexer": "ipython3",
   "version": "3.6.8"
  },
  "varInspector": {
   "cols": {
    "lenName": 16,
    "lenType": 16,
    "lenVar": 40
   },
   "kernels_config": {
    "python": {
     "delete_cmd_postfix": "",
     "delete_cmd_prefix": "del ",
     "library": "var_list.py",
     "varRefreshCmd": "print(var_dic_list())"
    },
    "r": {
     "delete_cmd_postfix": ") ",
     "delete_cmd_prefix": "rm(",
     "library": "var_list.r",
     "varRefreshCmd": "cat(var_dic_list()) "
    }
   },
   "types_to_exclude": [
    "module",
    "function",
    "builtin_function_or_method",
    "instance",
    "_Feature"
   ],
   "window_display": false
  }
 },
 "nbformat": 4,
 "nbformat_minor": 2
}
