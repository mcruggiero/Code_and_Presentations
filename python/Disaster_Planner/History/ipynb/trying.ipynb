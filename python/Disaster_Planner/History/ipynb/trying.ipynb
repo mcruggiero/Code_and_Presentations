{
 "cells": [
  {
   "cell_type": "code",
   "execution_count": 21,
   "metadata": {},
   "outputs": [],
   "source": [
    "from googlemaps import convert\n",
    "\n",
    "\n",
    "def directions(client, origin, destination,\n",
    "               mode=None, waypoints=None, alternatives=False, avoid=None,\n",
    "               language=None, units=None, region=None, departure_time=None,\n",
    "               arrival_time=None, optimize_waypoints=False, transit_mode=None,\n",
    "               transit_routing_preference=None, traffic_model=None):\n",
    "\n",
    "\n",
    "    params = {\n",
    "        \"origin\": convert.latlng(origin),\n",
    "        \"destination\": convert.latlng(destination)\n",
    "    }\n",
    "\n",
    "    if mode:\n",
    "        # NOTE(broady): the mode parameter is not validated by the Maps API\n",
    "        # server. Check here to prevent silent failures.\n",
    "        if mode not in [\"driving\", \"walking\", \"bicycling\", \"transit\"]:\n",
    "            raise ValueError(\"Invalid travel mode.\")\n",
    "        params[\"mode\"] = mode\n",
    "\n",
    "    if waypoints:\n",
    "        waypoints = convert.location_list(waypoints)\n",
    "        if optimize_waypoints:\n",
    "            waypoints = \"optimize:true|\" + waypoints\n",
    "        params[\"waypoints\"] = waypoints\n",
    "\n",
    "    if alternatives:\n",
    "        params[\"alternatives\"] = \"true\"\n",
    "\n",
    "    if avoid:\n",
    "        params[\"avoid\"] = convert.join_list(\"|\", avoid)\n",
    "\n",
    "    if language:\n",
    "        params[\"language\"] = language\n",
    "\n",
    "    if units:\n",
    "        params[\"units\"] = units\n",
    "\n",
    "    if region:\n",
    "        params[\"region\"] = region\n",
    "\n",
    "    if departure_time:\n",
    "        params[\"departure_time\"] = convert.time(departure_time)\n",
    "\n",
    "    if arrival_time:\n",
    "        params[\"arrival_time\"] = convert.time(arrival_time)\n",
    "\n",
    "    if departure_time and arrival_time:\n",
    "        raise ValueError(\"Should not specify both departure_time and\"\n",
    "                         \"arrival_time.\")\n",
    "\n",
    "    if transit_mode:\n",
    "        params[\"transit_mode\"] = convert.join_list(\"|\", transit_mode)\n",
    "\n",
    "    if transit_routing_preference:\n",
    "        params[\"transit_routing_preference\"] = transit_routing_preference\n",
    "\n",
    "    if traffic_model:\n",
    "        params[\"traffic_model\"] = traffic_model\n",
    "\n",
    "    return client._request(\"/maps/api/directions/json\", params).get(\"routes\", [])\n"
   ]
  },
  {
   "cell_type": "code",
   "execution_count": 22,
   "metadata": {
    "scrolled": true
   },
   "outputs": [
    {
     "ename": "AttributeError",
     "evalue": "'str' object has no attribute '_request'",
     "output_type": "error",
     "traceback": [
      "\u001b[0;31m---------------------------------------------------------------------------\u001b[0m",
      "\u001b[0;31mAttributeError\u001b[0m                            Traceback (most recent call last)",
      "\u001b[0;32m<ipython-input-22-8c0426c6d447>\u001b[0m in \u001b[0;36m<module>\u001b[0;34m()\u001b[0m\n\u001b[0;32m----> 1\u001b[0;31m \u001b[0mdirections\u001b[0m\u001b[0;34m(\u001b[0m\u001b[0;34m\"boston\"\u001b[0m\u001b[0;34m,\u001b[0m \u001b[0;34m\"cambridge\"\u001b[0m\u001b[0;34m)\u001b[0m\u001b[0;34m\u001b[0m\u001b[0m\n\u001b[0m",
      "\u001b[0;32m<ipython-input-21-7a38f6006b1b>\u001b[0m in \u001b[0;36mdirections\u001b[0;34m(origin, destination, mode, waypoints, alternatives, avoid, language, units, region, departure_time, arrival_time, optimize_waypoints, transit_mode, transit_routing_preference, traffic_model)\u001b[0m\n\u001b[1;32m     61\u001b[0m         \u001b[0mparams\u001b[0m\u001b[0;34m[\u001b[0m\u001b[0;34m\"traffic_model\"\u001b[0m\u001b[0;34m]\u001b[0m \u001b[0;34m=\u001b[0m \u001b[0mtraffic_model\u001b[0m\u001b[0;34m\u001b[0m\u001b[0m\n\u001b[1;32m     62\u001b[0m \u001b[0;34m\u001b[0m\u001b[0m\n\u001b[0;32m---> 63\u001b[0;31m     \u001b[0;32mreturn\u001b[0m \u001b[0mclient\u001b[0m\u001b[0;34m.\u001b[0m\u001b[0m_request\u001b[0m\u001b[0;34m(\u001b[0m\u001b[0;34m\"/maps/api/directions/json\"\u001b[0m\u001b[0;34m,\u001b[0m \u001b[0mparams\u001b[0m\u001b[0;34m)\u001b[0m\u001b[0;34m.\u001b[0m\u001b[0mget\u001b[0m\u001b[0;34m(\u001b[0m\u001b[0;34m\"routes\"\u001b[0m\u001b[0;34m,\u001b[0m \u001b[0;34m[\u001b[0m\u001b[0;34m]\u001b[0m\u001b[0;34m)\u001b[0m\u001b[0;34m\u001b[0m\u001b[0m\n\u001b[0m",
      "\u001b[0;31mAttributeError\u001b[0m: 'str' object has no attribute '_request'"
     ]
    }
   ],
   "source": [
    "directions(GoogleGeoApiClientPython, \"boston\", \"cambridge\")"
   ]
  },
  {
   "cell_type": "code",
   "execution_count": null,
   "metadata": {},
   "outputs": [],
   "source": []
  }
 ],
 "metadata": {
  "kernelspec": {
   "display_name": "Python 3",
   "language": "python",
   "name": "python3"
  },
  "language_info": {
   "codemirror_mode": {
    "name": "ipython",
    "version": 3
   },
   "file_extension": ".py",
   "mimetype": "text/x-python",
   "name": "python",
   "nbconvert_exporter": "python",
   "pygments_lexer": "ipython3",
   "version": "3.6.5"
  }
 },
 "nbformat": 4,
 "nbformat_minor": 2
}
