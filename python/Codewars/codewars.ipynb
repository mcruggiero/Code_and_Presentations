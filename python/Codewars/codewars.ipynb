{
 "cells": [
  {
   "cell_type": "markdown",
   "metadata": {},
   "source": [
    "I need to clean these up...will rework later this month."
   ]
  },
  {
   "cell_type": "markdown",
   "metadata": {},
   "source": [
    "# Find the odd int\n",
    "\n",
    "Given an array, find the int that appears an odd number of times. There will always be only one integer that appears an odd number of times."
   ]
  },
  {
   "cell_type": "code",
   "execution_count": null,
   "metadata": {},
   "outputs": [],
   "source": [
    "from collections import Counter\n",
    "\n",
    "\n",
    "def find_it(seq):\n",
    "    run = Counter(seq)\n",
    "    for i in run:\n",
    "        if run[i] % 2 == 1:\n",
    "            return i"
   ]
  },
  {
   "cell_type": "markdown",
   "metadata": {},
   "source": [
    "# Playing with Digits\n",
    "\n",
    "Given a positive integer n written as abcd... (a, b, c, d... being digits) and a positive integer p we want to find a positive integer k, if it exists, such as the sum of the digits of n taken to the successive powers of p is equal to k * n. In other words:"
   ]
  },
  {
   "cell_type": "code",
   "execution_count": null,
   "metadata": {},
   "outputs": [],
   "source": [
    "def dig_pow(n, p):\n",
    "    string = [int(i) for i in str(n)]\n",
    "    for j in range(len(string)):\n",
    "        string[j] = string[j] ** (p + j)\n",
    "    summer = sum(string)\n",
    "    if summer % n == 0:\n",
    "        return int(summer / n)\n",
    "    else: return -1"
   ]
  },
  {
   "cell_type": "code",
   "execution_count": null,
   "metadata": {},
   "outputs": [],
   "source": [
    "#Better solution from threads\n",
    "def dig_pow(n, p):\n",
    "  s = 0\n",
    "  for i,c in enumerate(str(n)):\n",
    "     s += pow(int(c),p+i)\n",
    "  return s/n if s%n==0 else -1"
   ]
  },
  {
   "cell_type": "markdown",
   "metadata": {},
   "source": [
    "# Find the next perfect square"
   ]
  },
  {
   "cell_type": "code",
   "execution_count": null,
   "metadata": {},
   "outputs": [],
   "source": [
    "def find_next_square(x):\n",
    "    if x < 0:\n",
    "        return -1\n",
    "    n = int(x)\n",
    "    if n == 0:\n",
    "        return 1\n",
    "    a, b = divmod(n.bit_length(), 2)\n",
    "    x = 2**(a+b)\n",
    "    while True:\n",
    "        y = (x + n//x)//2\n",
    "        if y >= x:\n",
    "            if x * x == n:\n",
    "                return (x + 1) ** 2\n",
    "            else: return -1\n",
    "        x = y"
   ]
  },
  {
   "cell_type": "code",
   "execution_count": null,
   "metadata": {},
   "outputs": [],
   "source": [
    "#Better solution from threads\n",
    "\n",
    "def find_next_square(sq):\n",
    "    root = sq ** 0.5\n",
    "    if root.is_integer():\n",
    "        return (root + 1)**2\n",
    "    return -1"
   ]
  },
  {
   "cell_type": "markdown",
   "metadata": {},
   "source": [
    "# Find the missing letter\n",
    "\n",
    "Write a method that takes an array of consecutive (increasing) letters as input and that returns the missing letter in the array."
   ]
  },
  {
   "cell_type": "code",
   "execution_count": null,
   "metadata": {},
   "outputs": [],
   "source": [
    "def find_missing_letter(chars):\n",
    "    letter = list(\"abcdefghijklmnopqrstuvwxyz\")\n",
    "    correct = []\n",
    "    chars2 = [x.lower() for x in chars]\n",
    "    \n",
    "    for a in range(len(chars2) + 1):\n",
    "        correct.append(letter[letter.index(chars2[0]) + a])\n",
    "    \n",
    "    answer = list(set(correct) - set(chars2))\n",
    "\n",
    "    if chars[0].isupper(): return answer[0].upper()\n",
    "    else: return answer[0]"
   ]
  },
  {
   "cell_type": "code",
   "execution_count": null,
   "metadata": {},
   "outputs": [],
   "source": [
    "#Better solution from threads\n",
    "\n",
    "def find_missing_letter(chars):\n",
    "    n = 0\n",
    "    while ord(chars[n]) == ord(chars[n+1]) - 1:\n",
    "        n += 1\n",
    "    return chr(1+ord(chars[n]))"
   ]
  },
  {
   "cell_type": "markdown",
   "metadata": {},
   "source": [
    "# Where my anagrams at?\n",
    "\n",
    "Write a function that will find all the anagrams of a word from a list."
   ]
  },
  {
   "cell_type": "code",
   "execution_count": null,
   "metadata": {},
   "outputs": [],
   "source": [
    "from itertools import permutations\n",
    "\n",
    "def anagrams(word, words):\n",
    "    possible = set(\"\".join(list(p)) for p in permutations(list(word)))\n",
    "    return [x for x in words if x in possible]"
   ]
  },
  {
   "cell_type": "code",
   "execution_count": null,
   "metadata": {},
   "outputs": [],
   "source": [
    "#Better solution from threads\n",
    "\n",
    "def anagrams(word, words): return [item for item in words if sorted(item)==sorted(word)]"
   ]
  },
  {
   "cell_type": "markdown",
   "metadata": {},
   "source": [
    "# Moving Zeros To The End"
   ]
  },
  {
   "cell_type": "code",
   "execution_count": null,
   "metadata": {},
   "outputs": [],
   "source": [
    "def move_zeros(array): \n",
    "    return [x for x in array if x!=0 or type(x) is bool] + [int(x) for x in array if x==0 and type(x) is not bool]"
   ]
  },
  {
   "cell_type": "code",
   "execution_count": null,
   "metadata": {},
   "outputs": [],
   "source": [
    "def move_zeros(arr):\n",
    "    l = [i for i in arr if isinstance(i, bool) or i!=0]\n",
    "    return l+[0]*(len(arr)-len(l))"
   ]
  },
  {
   "cell_type": "code",
   "execution_count": null,
   "metadata": {},
   "outputs": [],
   "source": [
    "#Better solution from threads\n",
    "\n",
    "def move_zeros(array):\n",
    "    return sorted(array, key=lambda x: x==0 and type(x) is not bool)"
   ]
  },
  {
   "cell_type": "markdown",
   "metadata": {},
   "source": [
    "# Directions Reduction\n",
    "\n",
    "Write a function which will take an array of strings and returns an array of strings with the needless directions removed (W<->E or S<->N side by side)."
   ]
  },
  {
   "cell_type": "code",
   "execution_count": null,
   "metadata": {},
   "outputs": [],
   "source": [
    "#Doesn't work\n",
    "def dirReduc(arr):\n",
    "    \n",
    "    directions = []\n",
    "    B = []\n",
    "    end = 0\n",
    "    \n",
    "    for i in arr:\n",
    "        if i == \"NORTH\": \n",
    "            directions.append([0,1])\n",
    "        elif i == \"SOUTH\": \n",
    "            directions.append([0,-1])\n",
    "        elif i == \"EAST\": \n",
    "            directions.append([1,0])\n",
    "        else: \n",
    "            directions.append([-1,0])\n",
    "    \n",
    "    \n",
    "    A = directions\n",
    "    start = len(A)\n",
    "    \n",
    "    while start > end:\n",
    "        start = len(A)\n",
    "\n",
    "        i = 0\n",
    "        while i < len(A) - 1:\n",
    "            if  A[i][0] != 0 and A[i][0] +  A[i + 1][0] == 0: \n",
    "                B.append(A[i])\n",
    "                B.append(A[i + 1])\n",
    "                i += 2\n",
    "            elif A[i][1] != 0 and A[i][1] +  A[i + 1][1] == 0: \n",
    "                B.append(A[i])\n",
    "                B.append(A[i + 1])\n",
    "                i += 2\n",
    "            else:\n",
    "                i += 1\n",
    "\n",
    "        \n",
    "        print(A, B)\n",
    "        for x in B:\n",
    "            A.remove(x)\n",
    "\n",
    "        print(B)\n",
    "        B = []\n",
    "        end = len(A)\n",
    "    \n",
    "    for i in A:\n",
    "        if i == [0,1]: \n",
    "            B.append(\"NORTH\")\n",
    "        elif i == [0,-1]: \n",
    "            B.append(\"SOUTH\")\n",
    "        elif i == [1,0]:\n",
    "            B.append(\"EAST\")\n",
    "        else:\n",
    "            B.append(\"WEST\")\n",
    "    \n",
    "    return(B)"
   ]
  },
  {
   "cell_type": "code",
   "execution_count": null,
   "metadata": {},
   "outputs": [],
   "source": [
    "def dirReduc(arr):\n",
    "    a = arr\n",
    "    c = {}\n",
    "    c['NORTH'] = 'SOUTH'\n",
    "    c['SOUTH'] = 'NORTH'\n",
    "    c['EAST'] = 'WEST'\n",
    "    c['WEST'] = 'EAST'\n",
    "    \n",
    "    while True:\n",
    "        b = []\n",
    "        n = len(a)\n",
    "        i = 0\n",
    "        while i < n - 1:\n",
    "            if c[a[i]] == a[i + 1]:\n",
    "                i += 2\n",
    "            else:\n",
    "                b.append(a[i])\n",
    "                i += 1\n",
    "        if i < n:\n",
    "            b.append(a[i])\n",
    "            i += 1\n",
    "        if len(a) == len(b):\n",
    "            a = b\n",
    "            break\n",
    "        a = b\n",
    "    return a"
   ]
  },
  {
   "cell_type": "code",
   "execution_count": null,
   "metadata": {},
   "outputs": [],
   "source": [
    "#Better solution from threads\n",
    "\n",
    "opposite = {'NORTH': 'SOUTH', 'EAST': 'WEST', 'SOUTH': 'NORTH', 'WEST': 'EAST'}\n",
    "\n",
    "def dirReduc(plan):\n",
    "    new_plan = []\n",
    "    for d in plan:\n",
    "        if new_plan and new_plan[-1] == opposite[d]:\n",
    "            new_plan.pop()\n",
    "        else:\n",
    "            new_plan.append(d)\n",
    "    return new_plan"
   ]
  },
  {
   "cell_type": "markdown",
   "metadata": {},
   "source": [
    "# Bouncing Balls\n",
    "\n",
    "A child is playing with a ball on the nth floor of a tall building. The height of this floor, h, is known.\n",
    "\n",
    "He drops the ball out of the window. The ball bounces (for example), to two-thirds of its height (a bounce of 0.66).\n",
    "\n",
    "His mother looks out of a window 1.5 meters from the ground.\n",
    "\n",
    "How many times will the mother see the ball pass in front of her window (including when it's falling and bouncing?"
   ]
  },
  {
   "cell_type": "code",
   "execution_count": null,
   "metadata": {},
   "outputs": [],
   "source": [
    "def bouncingBall(h, bounce, window):\n",
    "    if h <= 0 or bounce >= 1 or bounce <= 0 or window >= h:\n",
    "        return -1\n",
    "    else:\n",
    "        times = 1     \n",
    "        height = h\n",
    "        while window < height * bounce:\n",
    "            height = height * bounce\n",
    "            times = times +  2\n",
    "            print(height)\n",
    "        return times"
   ]
  },
  {
   "cell_type": "code",
   "execution_count": null,
   "metadata": {},
   "outputs": [],
   "source": [
    "#Better solution from threads\n",
    "\n",
    "\n",
    "def bouncingBall(h, bounce, window):\n",
    "    if not 0 < bounce < 1: return -1\n",
    "    count = 0\n",
    "    while h > window:\n",
    "        count += 1\n",
    "        h *= bounce\n",
    "        if h > window: count += 1\n",
    "    return count or -1"
   ]
  },
  {
   "cell_type": "markdown",
   "metadata": {},
   "source": [
    "# Gap in Primes\n",
    "\n",
    "return the first pair of two prime numbers spaced with a gap of g between the limits m, n\n",
    " "
   ]
  },
  {
   "cell_type": "code",
   "execution_count": null,
   "metadata": {},
   "outputs": [],
   "source": [
    "#Too slow\n",
    "\n",
    "def isPrime(n):\n",
    "    if n==2 or n==3: return n\n",
    "    if n%2==0 or n<2: return False\n",
    "    for i in range(3,int(n**0.5)+1,2):\n",
    "        if n%i==0:\n",
    "            return False    \n",
    "\n",
    "    return n\n",
    "\n",
    "def gap(g, m, n):\n",
    "    Candidates = [isPrime(x) for x in range(m,n+1) if isPrime(x) != False] \n",
    "    for i in range(len(Candidates) - 1):\n",
    "        if Candidates[i + 1] - Candidates[i] == g: return [Candidates[i], Candidates[i + 1]]\n",
    "    \n",
    "    return None\n",
    "    "
   ]
  },
  {
   "cell_type": "code",
   "execution_count": null,
   "metadata": {},
   "outputs": [],
   "source": [
    "import itertools\n",
    "izip = itertools.zip_longest\n",
    "chain = itertools.chain.from_iterable\n",
    "compress = itertools.compress\n",
    "\n",
    "def rwh(n):\n",
    "    zero = bytearray([False])\n",
    "    size = n//3 + (n % 6 == 2)\n",
    "    sieve = bytearray([True]) * size\n",
    "    sieve[0] = False\n",
    "    for i in range(int(n**0.5)//3+1):\n",
    "        if sieve[i]:\n",
    "            k=3*i+1|1\n",
    "            start = (k*k+4*k-2*k*(i&1))//3\n",
    "            sieve[(k*k)//3::2*k]=zero*((size - (k*k)//3 - 1) // (2 * k) + 1)\n",
    "            sieve[  start ::2*k]=zero*((size -   start  - 1) // (2 * k) + 1)\n",
    "    ans = [2,3]\n",
    "    poss = chain(izip(*[range(i, n, 6) for i in (1,5)]))\n",
    "    ans.extend(compress(poss, sieve))\n",
    "    return ans\n",
    "\n",
    "def gap(g, m, n):\n",
    "    Prime = rwh(n)\n",
    "    Candidates = [x for x in Prime if x >= m]\n",
    "    for i in range(len(Candidates) - 1):\n",
    "        if Candidates[i + 1] - Candidates[i] == g: return [Candidates[i], Candidates[i + 1]]\n",
    "    \n",
    "    return None"
   ]
  },
  {
   "cell_type": "markdown",
   "metadata": {},
   "source": [
    "# Valid Parentheses\n",
    "\n",
    "Write a function called that takes a string of parentheses, and determines if the order of the parentheses is valid. The function should return true if the string is valid, and false if it's invalid."
   ]
  },
  {
   "cell_type": "code",
   "execution_count": null,
   "metadata": {},
   "outputs": [],
   "source": [
    "def valid_parentheses(string):\n",
    "    string = \"\".join([x for x in list(A) if x == \"(\" or x == \")\"])\n",
    "    \n",
    "    start = len(string)\n",
    "    end = 0\n",
    "    \n",
    "    while end < start:\n",
    "        start = len(string)\n",
    "        string = string.replace('()', '')\n",
    "        end = len(string)\n",
    "    \n",
    "    if len(string) == 0: return True\n",
    "    else: return False\n",
    "    "
   ]
  },
  {
   "cell_type": "code",
   "execution_count": null,
   "metadata": {},
   "outputs": [],
   "source": [
    "#Better solution from threads\n",
    "\n",
    "def valid_parentheses(string):\n",
    "    cnt = 0\n",
    "    for char in string:\n",
    "        if char == '(': cnt += 1\n",
    "        if char == ')': cnt -= 1\n",
    "        if cnt < 0: return False\n",
    "    return True if cnt == 0 else False"
   ]
  },
  {
   "cell_type": "markdown",
   "metadata": {},
   "source": [
    "# All Balanced Parentheses\n",
    "\n",
    "Write a function which makes a list of strings representing all of the ways you can balance n pairs of parentheses"
   ]
  },
  {
   "cell_type": "code",
   "execution_count": null,
   "metadata": {},
   "outputs": [],
   "source": [
    "def compute_all_parens(n):\n",
    "    def compute_parens(left, right, s):\n",
    "        print(right,left,s)\n",
    "        if right == n:\n",
    "            yield s\n",
    "            return\n",
    "        if left < n:\n",
    "            yield from compute_parens(left + 1, right, s + \"(\")\n",
    "        if right < left:\n",
    "            yield from compute_parens(left, right + 1, s + \")\")\n",
    "\n",
    "    yield from compute_parens(0, 0, \"\")\n",
    "    \n",
    "def balanced_parens(n):\n",
    "    List = []\n",
    "    for i in compute_all_parens(n):\n",
    "        List.append(i)\n",
    "    \n",
    "    return List"
   ]
  },
  {
   "cell_type": "markdown",
   "metadata": {},
   "source": [
    "# Diophantine Equation\n",
    "\n",
    "find all integers x, y (x >= 0, y >= 0) solutions of a diophantine equation of the form:\n",
    "\n",
    "x^2 - 4 * y^2 = n"
   ]
  },
  {
   "cell_type": "code",
   "execution_count": null,
   "metadata": {},
   "outputs": [],
   "source": [
    "from itertools import combinations\n",
    "\n",
    "def factors(n):    \n",
    "    result = set()\n",
    "    for i in range(2, int(n ** 0.5) + 1): #Change the first term to one if you want to include the factor \n",
    "        div, mod = divmod(n, i)\n",
    "        if mod == 0:\n",
    "            result |= {i, div} \n",
    "    yield 0\n",
    "    yield 1\n",
    "    for i in result:\n",
    "        yield i\n",
    "    \n",
    "    yield n\n",
    "\n",
    "def sol_equa(n):\n",
    "    a = [[0,0]] \n",
    "    if (n ** .5).is_integer():\n",
    "        a = [[int((n ** .5)),int((n ** .5))]]\n",
    "    List = [list(x) for x in combinations(factors(n),2)] + a\n",
    "    sort_List = []\n",
    "    for item in List:\n",
    "        if (item[0] + item[1]) % 2 == 0 and (item[1] - item[0]) % 4 == 0 and item[0] * item[1] == n:\n",
    "            item.sort()\n",
    "            x = (item[0] + item[1]) // 2\n",
    "            y = (item[1] - item[0]) // 4\n",
    "            sort_List.append([x,y])\n",
    "    \n",
    "    print(n)\n",
    "    sort_List.sort(reverse = True)\n",
    "    return sort_List\n"
   ]
  },
  {
   "cell_type": "code",
   "execution_count": null,
   "metadata": {},
   "outputs": [],
   "source": [
    "import math\n",
    "def sol_equa(n):\n",
    "    res = []\n",
    "    for i in range(1, int(math.sqrt(n)) + 1):\n",
    "        if n % i == 0:\n",
    "            j = n // i\n",
    "            if (i + j) % 2 == 0 and (j - i) % 4 == 0:\n",
    "                x = (i + j) // 2\n",
    "                y = (j - i) // 4\n",
    "                res.append([x, y])\n",
    "            \n",
    "    return res"
   ]
  },
  {
   "cell_type": "code",
   "execution_count": null,
   "metadata": {},
   "outputs": [],
   "source": [
    "#Better solution from threads\n",
    "\n",
    "x = 1\n",
    "\n",
    "def line(x):\n",
    "    y = ((start[1] - target[1])/(start[0] - target[0])) * (x - start[0]) - start[1]\n",
    "    if y.is_integer(): return [int(x), int(y)]\n",
    "      \n",
    "def grid()\n"
   ]
  },
  {
   "cell_type": "markdown",
   "metadata": {},
   "source": [
    "# Tick Toward\n",
    "\n",
    "Define a function that generates medial values between two coordinates and returns them in an array from start to target."
   ]
  },
  {
   "cell_type": "code",
   "execution_count": null,
   "metadata": {},
   "outputs": [],
   "source": [
    "#This is an integet solution problem. It seems like this is not the answer the maker was looking for.\n",
    "\n",
    "def tick_toward(start, target):\n",
    "    print(start,target)\n",
    "    if start[0] != target[0]: func, starter, stop  = 0, start[0], target[0]\n",
    "    else: func, starter, stop  = 1, start[1], target[1]\n",
    "\n",
    "    def linspace(starter, stop):\n",
    "        n = abs(stop - starter) + 1\n",
    "        if n < 1:\n",
    "            yield starter\n",
    "            yield stop\n",
    "        h = (stop - starter) / (n - 1)\n",
    "        for i in range(n):\n",
    "            yield starter + h * i\n",
    "\n",
    "    Values = list(linspace(starter,stop))\n",
    "    print(Values)\n",
    "    Answer = []\n",
    "\n",
    "    if func == 0:\n",
    "        for x in Values: \n",
    "            y = ((start[1] - target[1])/(start[0] - target[0])) * (x - start[0]) + start[1]\n",
    "            #print(y, (start[1] - target[1])/(start[0] - target[0]))\n",
    "            if y.is_integer(): Answer.append((int(x), int(y)))\n",
    "\n",
    "    else:\n",
    "        for x in Values:\n",
    "            Answer.append((start[0], int(x)))\n",
    "\n",
    "    return Answer\n",
    "\n",
    "tick_toward((3, 2), (4, 5))"
   ]
  },
  {
   "cell_type": "markdown",
   "metadata": {},
   "source": [
    "# Next bigger number with the same digits\n",
    "\n",
    "You have to create a function that takes a positive integer number and returns the next bigger number formed by the same digits:"
   ]
  },
  {
   "cell_type": "code",
   "execution_count": null,
   "metadata": {},
   "outputs": [],
   "source": [
    "def scramble(n):\n",
    "    from itertools import permutations\n",
    "    A = str(n)\n",
    "    n = int(n)\n",
    "    List = sorted([int(\"\".join(x)) for x in set(permutations(list(A),len(A))) if int(\"\".join(x)) > n])\n",
    "    \n",
    "    return str(List[0])\n",
    "\n",
    "def next_bigger(n):\n",
    "    A = list(str(n))\n",
    "\n",
    "    for i in range (len(A) - 1):\n",
    "        if int(A[len(A) - (i + 1)]) > int(A[len(A) - (i + 2)]): \n",
    "            Up = \"\".join(A[:len(A) - (i + 2)])\n",
    "            Down = scramble(\"\".join(A[len(A) - (i + 2):]))\n",
    "            A = int(Up + Down)\n",
    "            break\n",
    "    \n",
    "    if type(A) is list: A = int(\"\".join(A))\n",
    "        \n",
    "    if A == n: return -1\n",
    "    else: return A"
   ]
  },
  {
   "cell_type": "code",
   "execution_count": null,
   "metadata": {},
   "outputs": [],
   "source": [
    "#Better solution from threads\n",
    "\n",
    "\n",
    "def next_bigger(n):\n",
    "  n = str(n)[::-1]\n",
    "  try:\n",
    "    i = min(i+1 for i in range(len(n[:-1])) if n[i] > n[i+1])\n",
    "    j = n[:i].index(min([a for a in n[:i] if a > n[i]]))\n",
    "    return int(n[i+1::][::-1]+n[j]+''.join(sorted(n[j+1:i+1]+n[:j]))) \n",
    "  except:\n",
    "    return -1"
   ]
  },
  {
   "cell_type": "markdown",
   "metadata": {},
   "source": [
    "# Devil's Sequence"
   ]
  },
  {
   "cell_type": "code",
   "execution_count": null,
   "metadata": {},
   "outputs": [],
   "source": [
    "from decimal import *\n",
    "getcontext().prec = 10000\n",
    "\n",
    "def sixer(n):\n",
    "    a, i = Decimal(0), Decimal(0)\n",
    "    yield a\n",
    "    while i < n:\n",
    "        if i % 2 == 0: \n",
    "            a += Decimal(1/(2 ** i))\n",
    "            yield a\n",
    "        else: \n",
    "            a -= Decimal(1/(2 ** i))\n",
    "            yield a\n",
    "        i += 1\n",
    "\n",
    "def count_sixes(n):\n",
    "    A = str(list(sixer(n))[n])[2:]\n",
    "    count = 0\n",
    "    for i in A:\n",
    "        if i == \"6\": count += 1\n",
    "        else: \n",
    "            return count\n",
    "            break"
   ]
  },
  {
   "cell_type": "code",
   "execution_count": null,
   "metadata": {},
   "outputs": [],
   "source": [
    "#Better solution from threads\n",
    "#How did I miss this\n",
    "\n",
    "def count_sixes(n):\n",
    "  k = floor(log10(3) + (n - 1)*log10(2))\n",
    "  return k - (k*log(10) > (n - (n & 1))*log(2))"
   ]
  },
  {
   "cell_type": "markdown",
   "metadata": {},
   "source": [
    "a, b = 0, 1\n",
    "SEQ = [0]\n",
    "for _ in range(100000):\n",
    "    a, b = b, 2*a + b\n",
    "    SEQ.append(b)\n",
    "\n",
    "\n",
    "import re\n",
    "\n",
    "def count_sixes(n):\n",
    "    n -= 1\n",
    "    x = SEQ[n] * 5**n\n",
    "    return len(re.findall(\"^6*\", str(x))[0])"
   ]
  },
  {
   "cell_type": "markdown",
   "metadata": {},
   "source": [
    "# Deodorant Evaporator\n",
    "\n",
    "The program reports the nth day (as an integer) on which the evaporator will be out of use."
   ]
  },
  {
   "cell_type": "code",
   "execution_count": null,
   "metadata": {},
   "outputs": [],
   "source": [
    "def evaporator(content, evap_per_day, threshold):\n",
    "    days = 0\n",
    "    stop = content * threshold / 100\n",
    "    while content > stop:\n",
    "        content = content - content * evap_per_day * .01\n",
    "        days += 1\n",
    "    return days"
   ]
  },
  {
   "cell_type": "code",
   "execution_count": null,
   "metadata": {},
   "outputs": [],
   "source": [
    "#Better solution from threads\n",
    "\n",
    "from math import log,ceil\n",
    "\n",
    "def evaporator(content, evap_per_day, threshold):\n",
    "    return ceil(log(threshold/100,1-evap_per_day/100))"
   ]
  },
  {
   "cell_type": "markdown",
   "metadata": {},
   "source": [
    "# Last digit of a large number"
   ]
  },
  {
   "cell_type": "code",
   "execution_count": null,
   "metadata": {},
   "outputs": [],
   "source": [
    "def last_digit(n1, n2):\n",
    "    n1 = n1 % 10\n",
    "    if n2 == 0: return 1\n",
    "    mod = n2 % 4\n",
    "    if mod == 0: return n1 ** 4 % 10\n",
    "    else: return n1 ** (n2 % 4) % 10"
   ]
  },
  {
   "cell_type": "code",
   "execution_count": null,
   "metadata": {},
   "outputs": [],
   "source": [
    "#Better solution from threads\n",
    "\n",
    "def last_digit(n1, n2):\n",
    "    return pow(n1, n2, 10)"
   ]
  },
  {
   "cell_type": "markdown",
   "metadata": {},
   "source": [
    "# Sum by Factors\n",
    "\n",
    "Given an array of positive or negative integers, find the sum of the positive factors"
   ]
  },
  {
   "cell_type": "code",
   "execution_count": null,
   "metadata": {},
   "outputs": [],
   "source": [
    "from collections import OrderedDict\n",
    "\n",
    "def isPrime(n):\n",
    "    if n==2 or n==3: return n\n",
    "    if n%2==0 or n<2: return False\n",
    "    for i in range(3,int(n**0.5)+1,2):\n",
    "        if n%i==0:\n",
    "            return False    \n",
    "    return n\n",
    "\n",
    "def prime_factors(n):  \n",
    "    n = abs(n)\n",
    "    result = set()\n",
    "    for i in range(2, int(n ** 0.5) + 1): \n",
    "        div, mod = divmod(n, i)\n",
    "        if mod == 0:\n",
    "            result |= {i, div}\n",
    "    if isPrime(n): result |= {n}\n",
    "    for i in result:\n",
    "        if isPrime(i): yield i\n",
    "\n",
    "def sum_for_list(lst):\n",
    "    factors = {}\n",
    "\n",
    "    for i in lst:\n",
    "        for j in list(prime_factors(i)):\n",
    "            factors.setdefault(j,[]).append(i)\n",
    "\n",
    "    factors = OrderedDict(sorted(factors.items()))        \n",
    "\n",
    "    answer = []\n",
    "    for i in factors:\n",
    "        answer.append([i,sum(factors[i])])\n",
    "    \n",
    "    return answer"
   ]
  },
  {
   "cell_type": "code",
   "execution_count": null,
   "metadata": {},
   "outputs": [],
   "source": [
    "#Better solution from threads\n",
    "\n",
    "def sum_for_list(lst):\n",
    "    factors = {i for k in lst for i in range(2, abs(k)+1) if not k % i}\n",
    "    prime_factors = {i for i in factors if not [j for j in factors-{i} if not i % j]}\n",
    "    return [[p, sum(e for e in lst if not e % p)] for p in sorted(prime_factors)]"
   ]
  },
  {
   "cell_type": "markdown",
   "metadata": {},
   "source": [
    "# The observed PIN"
   ]
  },
  {
   "cell_type": "code",
   "execution_count": null,
   "metadata": {},
   "outputs": [],
   "source": [
    "#┌───┬───┬───┐\n",
    "#│ 1 │ 2 │ 3 │\n",
    "#├───┼───┼───┤\n",
    "#│ 4 │ 5 │ 6 │\n",
    "#├───┼───┼───┤\n",
    "#│ 7 │ 8 │ 9 │\n",
    "#└───┼───┼───┘\n",
    "#    │ 0 │\n",
    "#    └───┘\n",
    "\n",
    "\n",
    "from itertools import product\n",
    "def string_maker(i):\n",
    "    if i == \"1\": return list(\"124\")\n",
    "    elif i == \"2\": return list(\"1235\")\n",
    "    elif i == \"3\": return list(\"236\")\n",
    "    elif i == \"4\": return list(\"1457\")\n",
    "    elif i == \"5\": return list(\"24568\")\n",
    "    elif i == \"6\": return list(\"3569\")\n",
    "    elif i == \"7\": return list(\"478\")\n",
    "    elif i == \"8\": return list(\"57890\")\n",
    "    elif i == \"9\": return list(\"689\")\n",
    "    elif i == \"0\": return list(\"08\")\n",
    "\n",
    "def get_pins(observed):\n",
    "    A = [string_maker(x) for x in list(observed)]\n",
    "    answer = []\n",
    "    for i in list(product(*A)):\n",
    "        answer.append(\"\".join(list(i)))\n",
    "    \n",
    "    return answer"
   ]
  },
  {
   "cell_type": "code",
   "execution_count": null,
   "metadata": {},
   "outputs": [],
   "source": [
    "#Better solution from threads\n",
    "#Of course use tupple...durp\n",
    "\n",
    "from itertools import product\n",
    "\n",
    "ADJACENTS = ('08', '124', '2135', '326', '4157', '52468', '6359', '748', '85790', '968')\n",
    "\n",
    "def get_pins(observed):\n",
    "    return [''.join(p) for p in product(*(ADJACENTS[int(d)] for d in observed))]"
   ]
  },
  {
   "cell_type": "markdown",
   "metadata": {},
   "source": [
    "# Snail Sort"
   ]
  },
  {
   "cell_type": "code",
   "execution_count": null,
   "metadata": {},
   "outputs": [],
   "source": [
    "#To be finished\n",
    "\n",
    "#array = [[1,2,3],\n",
    "#         [4,5,6],\n",
    "#         [7,8,9]]\n",
    "#snail(array) #=> [1,2,3,6,9,8,7,4,5]\n",
    "\n",
    "a    = [[1,2,3],\n",
    "        [4,5,6],\n",
    "        [7,8,9]]\n",
    "\n",
    "b = []\n",
    "\n",
    "for i in a:\n",
    "    b.append(list(enumerate(i)))"
   ]
  },
  {
   "cell_type": "code",
   "execution_count": null,
   "metadata": {},
   "outputs": [],
   "source": [
    "def spiral(N):\n",
    "    x,y = 0,0   \n",
    "    dx, dy = 1, 0\n",
    "\n",
    "    for step in range(N*N):\n",
    "        if x > N - 2 and [dx,dy] == [1,0] or y > N - 2 and [dx,dy] == [0,1]:\n",
    "            print(\"middle\")\n",
    "            dx, dy = dy, dx            # change direction\n",
    "\n",
    "        print(step, x, y, dx, dy)\n",
    "        \n",
    "        yield x, y\n",
    "        x, y = x+dx, y+dy"
   ]
  },
  {
   "cell_type": "code",
   "execution_count": null,
   "metadata": {},
   "outputs": [],
   "source": [
    "def spiral(N, M):\n",
    "    x,y = 0,0   \n",
    "    dx, dy = 0, -1\n",
    "\n",
    "    print(x,y,dx,dy)\n",
    "    for step in range(N*M):\n",
    "        if abs(x) == abs(y) and [dx,dy] != [1,0] or x>0 and y == 1-x:\n",
    "            print(\"top\")\n",
    "            dx, dy = -dy, dx            # corner, change direction\n",
    "            print(x,y,dx,dy)\n",
    "\n",
    "        if abs(x)>N/2 or abs(y)>M/2:    # non-square\n",
    "            print(\"bottom\")\n",
    "            dx, dy = -dy, dx            # change direction\n",
    "            x, y = -y+dx, x+dy          # jump\n",
    "            print(x,y,dx,dy)\n",
    "\n",
    "            \n",
    "        print(\"step: \" + str(step), \"x: \" +str(x), \"dx: \" +str(x), \"y: \" +str(y), \"dy: \" +str(y))\n",
    "        yield x, y\n",
    "        x, y = x+dx, y+dy"
   ]
  },
  {
   "cell_type": "markdown",
   "metadata": {},
   "source": [
    "# Which are in?"
   ]
  },
  {
   "cell_type": "code",
   "execution_count": null,
   "metadata": {},
   "outputs": [],
   "source": [
    "def in_array(array1, array2):\n",
    "    test = set()\n",
    "    for x in array2:\n",
    "        test |= {x[i:j+1] for i in range(len(x)) for j in range(i,len(x))}\n",
    "    \n",
    "    return sorted(list(set([x for x in array1 if x in test])))"
   ]
  },
  {
   "cell_type": "code",
   "execution_count": null,
   "metadata": {},
   "outputs": [],
   "source": [
    "#Better solution from threads\n",
    "\n",
    "def in_array(a1, a2):\n",
    "    return sorted({sub for sub in a1 if any(sub in s for s in a2)})"
   ]
  },
  {
   "cell_type": "markdown",
   "metadata": {},
   "source": [
    "# Buddy Pairs"
   ]
  },
  {
   "cell_type": "markdown",
   "metadata": {},
   "source": [
    "Let s(n) be the sum of these proper divisors of n. Call buddy two positive integers such that the sum of the proper divisors of each number is one more than the other number:\n",
    "\n",
    "(n, m) are a pair of buddy if s(m) = n + 1 and s(n) = m + 1"
   ]
  },
  {
   "cell_type": "code",
   "execution_count": null,
   "metadata": {},
   "outputs": [],
   "source": [
    "def factors(n):\n",
    "    yield 1\n",
    "    n = abs(n)\n",
    "    result = set()\n",
    "    for i in range(2, int(n ** 0.5) + 1): \n",
    "        div, mod = divmod(n, i)\n",
    "        if mod == 0:\n",
    "            result |= {i, div}\n",
    "    for i in result:\n",
    "        yield i\n",
    "\n",
    "def buddy_num(n):\n",
    "    return sum(factors(n)) - 1\n",
    "            \n",
    "def sum_for_list(start,limit):\n",
    "    buddy_list = []\n",
    "\n",
    "    for i in range(start,limit):\n",
    "        f = buddy_num(i)\n",
    "        if buddy_num(f) == N:\n",
    "            buddy_list.append([i,sum(factors(i))])\n",
    "    \n",
    "    return buddy_list"
   ]
  },
  {
   "cell_type": "code",
   "execution_count": null,
   "metadata": {},
   "outputs": [],
   "source": [
    "#Test.assert_equals(buddy(57345, 90061), [62744, 75495])\n",
    "\n",
    "buddy_num(57345)"
   ]
  },
  {
   "cell_type": "markdown",
   "metadata": {},
   "source": [
    "# Moving Zeros To The End\n",
    "\n",
    "Write an algorithm that takes an array and moves all of the zeros to the end, preserving the order of the other elements."
   ]
  },
  {
   "cell_type": "code",
   "execution_count": null,
   "metadata": {},
   "outputs": [],
   "source": [
    "def move_zeros(array): \n",
    "    return [x for x in array if x!=0 or type(x) is bool] + [int(x) for x in array if x==0 and type(x) is not bool]"
   ]
  },
  {
   "cell_type": "markdown",
   "metadata": {},
   "source": [
    "# Rot13\n",
    "\n",
    "ROT13 is a simple letter substitution cipher that replaces a letter with the letter 13 letters after it in the alphabet. ROT13 is an example of the Caesar cipher."
   ]
  },
  {
   "cell_type": "code",
   "execution_count": null,
   "metadata": {},
   "outputs": [],
   "source": [
    "import string\n",
    "\n",
    "letters = list(string.ascii_lowercase + string.ascii_lowercase[0:13]) # Complete list of all possible\n",
    "dic = {\" \": \" \"}\n",
    "for i in range(26):\n",
    "    dic[letters[i]] = letters[i + 13]\n",
    "\n",
    "def rot13(message):\n",
    "    answer = []\n",
    "    for i in list(message):\n",
    "        if i.isalpha() is False:\n",
    "            answer.append(i)\n",
    "        elif i == i.upper():\n",
    "            answer.append(dic[i.lower()].upper())\n",
    "        else: \n",
    "            answer.append(dic[i])\n",
    "    return \"\".join(answer)\n",
    "    \n",
    "\n",
    "#letters[25 + 13]"
   ]
  },
  {
   "cell_type": "code",
   "execution_count": null,
   "metadata": {},
   "outputs": [],
   "source": [
    "#Better solution from threads\n",
    "\n",
    "import string\n",
    "from codecs import encode as _dont_use_this_\n",
    "from string import maketrans, lowercase, uppercase\n",
    "\n",
    "def rot13(message):\n",
    "    lower = maketrans(lowercase, lowercase[13:] + lowercase[:13])\n",
    "    upper = maketrans(uppercase, uppercase[13:] + uppercase[:13])\n",
    "    return message.translate(lower).translate(upper)"
   ]
  },
  {
   "cell_type": "markdown",
   "metadata": {},
   "source": [
    "# Product-Sum Numbers\n",
    "\n",
    "A product-sum number is a natural number N which can be expressed as both the product and the sum of the same set of numbers.\n",
    "\n",
    "N = a1 × a2 × ... × ak = a1 + a2 + ... + ak\n",
    "\n",
    "For example, 6 = 1 × 2 × 3 = 1 + 2 + 3.\n",
    "\n",
    "For a given set of size, k, we shall call the smallest N with this property a minimal product-sum number. The minimal product-sum numbers for sets of size, k = 2, 3, 4, 5, and 6 are as follows."
   ]
  },
  {
   "cell_type": "code",
   "execution_count": 1,
   "metadata": {},
   "outputs": [],
   "source": [
    "import math\n",
    "\n",
    "def product(list):\n",
    "\tprod=1\n",
    "\tfor i in list:\n",
    "\t\tprod*=i\n",
    "\treturn prod\n",
    "\t\t\t\n",
    "def main(maxnum):\n",
    "\tmpsdict={k:2*k for k in range(2,maxnum+1)}\n",
    "\t\n",
    "\tfor numfact in range (2,int((math.log10(2*maxnum))/math.log10(2))+1):\n",
    "\t\tnumbers=[2 for i in range(0,numfact)]\n",
    "\t\twhile numbers[0]<=(2*maxnum)**(1/numfact):\n",
    "\t\t\tprod= product(numbers)\n",
    "\t\t\tk=prod-(sum(numbers))+numfact\n",
    "\t\t\tif k<=maxnum and prod<mpsdict[k]:\n",
    "\t\t\t\tmpsdict[k]=prod\n",
    "\t\t\tnumbers[numfact-1]+=1\n",
    "\t\t\tcarryindex=1\n",
    "\t\t\twhile product(numbers)>2*maxnum and carryindex<numfact:#if carrying is necessary,go on incrementing earlier factors, resetting all the later ones \n",
    "\t\t\t\tnumbers[-1-carryindex]+=1\n",
    "\t\t\t\tfor i in range (-1,-1-carryindex,-1):\n",
    "\t\t\t\t\tnumbers[i]=numbers[-1-carryindex]\n",
    "\t\t\t\tcarryindex+=1\n",
    "\treturn sum(set(mpsdict[x] for x in mpsdict))"
   ]
  },
  {
   "cell_type": "code",
   "execution_count": 3,
   "metadata": {},
   "outputs": [],
   "source": [
    "def FactorGroup(n, k):\n",
    "    taken = []\n",
    "    if k == 1:\n",
    "        return [[n]]\n",
    "    if k == 2:\n",
    "        fp = []\n",
    "        for i in range(2, int(n ** 0.5) + 1):\n",
    "            if n % i == 0 and i * i != n:\n",
    "                fp.append([i, int(n / i)])\n",
    "            if i * i == n:\n",
    "                fp.append([i, i])\n",
    "        return fp\n",
    "    fp = []\n",
    "    for i in range(2, int(n ** 0.5) + 1):\n",
    "        if n % i == 0:\n",
    "            c = FactorGroup(n / i, k - 1)                                                                                                                                                      \n",
    "                                                                                                                                                                                                 \n",
    "            for j in c:\n",
    "                fp.append([i])\n",
    "                for l in j:\n",
    "                    fp[-1].append(l)\n",
    "                if sorted(fp[-1]) in taken:\n",
    "                    fp.pop()\n",
    "                elif sorted(fp[-1]) not in taken:\n",
    "                    taken.append(sorted(fp[-1]))\n",
    "    return fp"
   ]
  },
  {
   "cell_type": "code",
   "execution_count": 17,
   "metadata": {},
   "outputs": [],
   "source": [
    "def productsum(n):\n",
    "    factor_list = {1: [[]], 4: [[4], [2, 2]]}\n",
    "    def all_factorizations(n):\n",
    "        if n in factor_list:\n",
    "            return factor_list[n]\n",
    "        else:\n",
    "            all_factors = [[n]]\n",
    "            for a in range(2, int(n/2+0.1)):\n",
    "                if n % a == 0:\n",
    "                    for sub_factors in all_factorizations(int(n/a)):\n",
    "                        all_factors.append([a]+sub_factors)\n",
    "            factor_list[n] = all_factors\n",
    "            return all_factors\n",
    "\n",
    "    k_target, result_sum, values_mapped, current_value = n, 0, 0, 1\n",
    "    k_used = set([])\n",
    "    while values_mapped < (k_target-1):\n",
    "        current_value += 1\n",
    "        value_used = False\n",
    "        for factor in all_factorizations(current_value):\n",
    "            temp_value = current_value+len(factor)-sum(factor)\n",
    "            if 2 <= temp_value <= k_target:\n",
    "                if temp_value not in k_used:\n",
    "                    values_mapped += 1\n",
    "                    k_used.add(temp_value)\n",
    "                    if not value_used:\n",
    "                        result_sum += current_value\n",
    "                        value_used = True\n",
    "\n",
    "    return(result_sum)"
   ]
  },
  {
   "cell_type": "code",
   "execution_count": 19,
   "metadata": {},
   "outputs": [
    {
     "data": {
      "text/plain": [
       "5441890"
      ]
     },
     "execution_count": 19,
     "metadata": {},
     "output_type": "execute_result"
    }
   ],
   "source": [
    "productsum(10000)"
   ]
  },
  {
   "cell_type": "code",
   "execution_count": 25,
   "metadata": {},
   "outputs": [],
   "source": [
    "from time import clock\n",
    "clk = clock()\n",
    "\n",
    "\"\"\"\n",
    "take the opposite approach:\n",
    "instead of finding smallest N for each k\n",
    "iterate through every combination of non-decreasing a_i\n",
    "with a_i > 1, left pad with 1's to equate sum and product\n",
    "using the following range: k < N <= 2*k\n",
    "------------------------------------------------------------\n",
    "N > k because 1*1*1*...*1*1 = 1, always less than the sum\n",
    "N <= 2*k because 1*1*1*...*1*1*2*k equals the sum for all k\n",
    "\"\"\"\n",
    "\n",
    "def productsum(kmax):\n",
    "    K = [2*i for i in range(kmax+1)]\n",
    "\n",
    "\n",
    "    def go(L,t,i,p):\n",
    "        \"\"\"\n",
    "        L = list of non-decreasing factors > 1\n",
    "        t = number of factors > 1\n",
    "        i = pointer to divide L\n",
    "        p = product of factors to left of i\n",
    "        \"\"\"\n",
    "\n",
    "        if i == t:\n",
    "            k = p-sum(L)+t\n",
    "            if k <= kmax:\n",
    "                K[k] = min(K[k],p)\n",
    "            return\n",
    "\n",
    "        x = L[i]\n",
    "        L_new = L[:]\n",
    "        j = 0\n",
    "        while p*(x+j)**(t-i) <= kmax*2:\n",
    "            L_new[i:] = [x+j]*(t-i)\n",
    "            go(L_new,t,i+1,p*(x+j))\n",
    "            j += 1\n",
    "\n",
    "    T = 0\n",
    "    while 2**(T+1)-(T+1) < 2*kmax: T += 1\n",
    "\n",
    "    for t in range(2,T+1):\n",
    "        L = [2]*t\n",
    "        go(L,t,0,1)\n",
    "\n",
    "\n",
    "    return sum(set(K[2:(kmax+1)]))"
   ]
  },
  {
   "cell_type": "code",
   "execution_count": 27,
   "metadata": {},
   "outputs": [
    {
     "data": {
      "text/plain": [
       "2061"
      ]
     },
     "execution_count": 27,
     "metadata": {},
     "output_type": "execute_result"
    }
   ],
   "source": [
    "productsum(100)"
   ]
  },
  {
   "cell_type": "markdown",
   "metadata": {},
   "source": [
    "# Best travel"
   ]
  },
  {
   "cell_type": "code",
   "execution_count": 56,
   "metadata": {},
   "outputs": [],
   "source": [
    "def choose_best_sum(t, k, ls):\n",
    "    from itertools import combinations\n",
    "    answer = sorted([sum(list(i)) for i in list(combinations(ls,k)) if sum(list(i)) <= t])\n",
    "    if len(answer) == 0: return None\n",
    "    else: return answer[-1]"
   ]
  },
  {
   "cell_type": "code",
   "execution_count": 58,
   "metadata": {},
   "outputs": [],
   "source": [
    "import itertools\n",
    "def choose_best_sum(t, k, ls):\n",
    "    try: \n",
    "        return max(sum(i) for i in itertools.combinations(ls,k) if sum(i)<=t)\n",
    "    except:\n",
    "        return None"
   ]
  },
  {
   "cell_type": "markdown",
   "metadata": {},
   "source": [
    "# Alphabet wars - nuclear strike"
   ]
  },
  {
   "cell_type": "code",
   "execution_count": 105,
   "metadata": {},
   "outputs": [],
   "source": [
    "#fast to code, ugly to look at\n",
    "\n",
    "def alphabet_war(bat):\n",
    "    #no strike condition or no shelter\n",
    "    if bat.find(\"#\") == -1:\n",
    "        return \"\".join([i for i in bat if i.isalpha()])\n",
    "    elif bat.find(\"[\") == -1:\n",
    "        return \"\"\n",
    "    \n",
    "    #strike condition with shelters\n",
    "    strike = 0\n",
    "    shelters, count_shelters = [], []\n",
    "    s = str()    \n",
    "    for i in range(len(bat)):\n",
    "        if bat[i] == \"[\": \n",
    "            strike = 1\n",
    "        elif bat[i] == \"]\": \n",
    "            s += bat[i]\n",
    "            shelters.append(s)\n",
    "            strike, s = 0, str()\n",
    "        elif bat[i] == \"#\":\n",
    "            shelters.append(1)\n",
    "        if strike == 1: \n",
    "            s += bat[i]\n",
    "    \n",
    "    s = 0\n",
    "    for i in range(len(shelters)):\n",
    "        if type(shelters[i]) is int:\n",
    "            s += shelters[i]\n",
    "            if i == len(shelters) - 1:\n",
    "                count_shelters.append(s)\n",
    "        else:\n",
    "            count_shelters.append(s)\n",
    "            s = 0\n",
    "            count_shelters.append(shelters[i])\n",
    "            if i == len(shelters) - 1:\n",
    "                count_shelters.append(s)\n",
    "    \n",
    "    print(count_shelters)\n",
    "    s, shelters = 0, []\n",
    "    for i in range(1,len(count_shelters),2):\n",
    "        s = count_shelters[i - 1] + count_shelters[i + 1]\n",
    "        if s < 2: shelters.append(count_shelters[i])\n",
    "        s = 0\n",
    "    \n",
    "    print(shelters)\n",
    "    return \"\".join([i for i in list(\"\".join(shelters)) if i.isalpha()])"
   ]
  },
  {
   "cell_type": "code",
   "execution_count": 290,
   "metadata": {},
   "outputs": [],
   "source": [
    "#Better solution from threads\n",
    "\n",
    "import re\n",
    "def alphabet_war(b):\n",
    "    if '#' not in b:\n",
    "        return re.sub(r\"[\\[\\]]\",\"\",b)\n",
    "    p = re.compile('([a-z#]*)\\[([a-z]+)\\](?=([a-z#]*))')\n",
    "    return  ''.join( e[1] if (e[0]+e[2]).count('#') < 2 else'' for e in p.findall(b))"
   ]
  },
  {
   "cell_type": "markdown",
   "metadata": {},
   "source": [
    "# Differentiate a polynomial UNSOLVED"
   ]
  },
  {
   "cell_type": "code",
   "execution_count": 369,
   "metadata": {},
   "outputs": [],
   "source": [
    "A  = list(\"x^5-5x^3+10x^2\")"
   ]
  },
  {
   "cell_type": "code",
   "execution_count": 74,
   "metadata": {},
   "outputs": [],
   "source": [
    "def differentiate(equation, point):\n",
    "    #adds one to first term if no coeff\n",
    "    equation = list(equation.replace(\" \", \"\"))\n",
    "    if equation[0] == \"x\": \n",
    "        equation.insert(0,\"1\")\n",
    "    \n",
    "    #adds trailing ^1 to last term in polynomial\n",
    "    for i in range(len(equation) - 1):\n",
    "        if equation[i] == \"x\" and equation[i + 1] != \"^\":\n",
    "            equation.insert(i + 1, \"^\")\n",
    "            equation.insert(i + 2, \"1\")\n",
    "        if equation[i] == \"x\" and (equation[i - 1] == \"+\" or equation[i - 1] == \"-\"):\n",
    "            equation.insert(i, \"1\")\n",
    "        if i == len(equation) - 1 and (equation[i - 1] == \"^\" or equation[i - 1] == \"x\"):\n",
    "            equation.append(\"+0\")\n",
    "\n",
    "    #build list of exp and coeff\n",
    "    coeff = \"\"\n",
    "    terms, pairs = [], []\n",
    "    for i in range(len(equation)):\n",
    "        if equation[i] != \"x\" and equation[i] != \"^\":\n",
    "            coeff += equation[i]\n",
    "        else:\n",
    "            terms.append(coeff)\n",
    "            coeff = \"\"\n",
    "        \n",
    "        if i == len(equation) - 1:\n",
    "            terms.append(coeff)\n",
    "    \n",
    "    terms = list(filter(None, terms))\n",
    "    \n",
    "    y = 0\n",
    "    for i in range(len(terms) - 1):\n",
    "        if len(terms) == 1: return 0 \n",
    "        elif i == 0:\n",
    "            y += int(terms[i]) * int(terms[i + 1][0]) * point ** (int(terms[i + 1][0]) - 1)\n",
    "        else:\n",
    "            y += int(terms[i][0]) * int(terms[i + 1][0]) * point ** (int(terms[i + 1][0]) - 1)\n",
    "    \n",
    "    \n",
    "    #y = str(y)\n",
    "#    if len(terms[-1]\n",
    "\n",
    "#     for i in range(len(terms)):\n",
    "#         if i == 0:\n",
    "#             pairs.append([terms[0], terms[1]])\n",
    "    return terms\n"
   ]
  },
  {
   "cell_type": "code",
   "execution_count": 75,
   "metadata": {},
   "outputs": [
    {
     "data": {
      "text/plain": [
       "['7', '4+1', '2-']"
      ]
     },
     "execution_count": 75,
     "metadata": {},
     "output_type": "execute_result"
    }
   ],
   "source": [
    "differentiate(\"7x^4 + x^2 -x \",4)"
   ]
  },
  {
   "cell_type": "code",
   "execution_count": 185,
   "metadata": {},
   "outputs": [
    {
     "name": "stdout",
     "output_type": "stream",
     "text": [
      "[]\n"
     ]
    },
    {
     "data": {
      "text/plain": [
       "['1', 'x', '^', '4', '-', '8', 'x', '^', '1', '+', '2', 'x', '+', '5']"
      ]
     },
     "execution_count": 185,
     "metadata": {},
     "output_type": "execute_result"
    }
   ],
   "source": [
    "def def_poly(equation, point):\n",
    "    equation = list(equation.replace(\" \", \"\"))\n",
    "    if equation[0] == \"x\": \n",
    "        equation.insert(0,\"1\")\n",
    "        \n",
    "    \n",
    "    con = \"\"\n",
    "    terms = []\n",
    "    for i in range(len(equation)):\n",
    "        if equation[i] == \"+\" or equation[i] == \"-\":\n",
    "            con = con + equation[i]\n",
    "            #terms.append[con]\n",
    "            con = \"\"\n",
    "        elif i == len(equation) - 1:\n",
    "            con = con + equation[i]\n",
    "            #terms.append[con]\n",
    "        else:\n",
    "            con = con + equation[i]\n",
    "                \n",
    "    \n",
    "    print(terms)\n",
    "        \n",
    "    \n",
    "\n",
    "    \n",
    "#     if terms[-1].find(\"x\") == -1:\n",
    "#         del terms[-1]\n",
    "    \n",
    "    return(equation)\n",
    "#     equation = list(\"\".join(equation))\n",
    "#     print(equation)\n",
    "#     terms = []\n",
    "    \n",
    "#     for i in range(len(equation)):\n",
    "#         if equation[i] == \"^\":\n",
    "#             ex = int(equation[i + 1]) - 1\n",
    "#             terms.append(\"*\" + equation[i + 1])\n",
    "#             while ex > 0:\n",
    "#                 terms.append(\"*x\")\n",
    "#                 ex -= 1\n",
    "        \n",
    "#         elif equation[i - 1] == \"^\":\n",
    "#             pass\n",
    "        \n",
    "#         elif equation[i] == \"x\" and (equation[i - 1] == \"+\" or equation[i - 1] == \"-\"):\n",
    "#             terms.append(\"1\")\n",
    "            \n",
    "#         elif equation[i] == \"x\":\n",
    "#             pass\n",
    "            \n",
    "#         else:\n",
    "#             terms.append(equation[i])\n",
    "        \n",
    "#     return \"\".join(terms)\n",
    "\n",
    "def_poly(\"x^4 - 8x^1 +2x + 5\", 8.5)"
   ]
  },
  {
   "cell_type": "markdown",
   "metadata": {},
   "source": [
    "# Common Denominators"
   ]
  },
  {
   "cell_type": "code",
   "execution_count": 21,
   "metadata": {},
   "outputs": [],
   "source": [
    "def gcd(x, y): \n",
    "    while(y): \n",
    "        x, y = y, x % y \n",
    "    return x \n",
    "\n",
    "def lcm(x, y):\n",
    "    return int(x*y/gcd(x,y))\n",
    "\n",
    "def lcm_list(den):\n",
    "    least_c = den[0]\n",
    "    den = set(den)\n",
    "    for i in den:\n",
    "        least_c = lcm(i,least_c)  \n",
    "    return least_c\n",
    "\n",
    "def convertFracts(lst):\n",
    "    den = []\n",
    "    for i in lst:\n",
    "        den.append(i[1])\n",
    "    \n",
    "    least_c = lcm_list(den)\n",
    "    \n",
    "    for i in lst:\n",
    "        i[0] = i[0] * int(least_c / i[1])\n",
    "        i[1] = least_c\n",
    "    \n",
    "    return lst"
   ]
  },
  {
   "cell_type": "code",
   "execution_count": 20,
   "metadata": {},
   "outputs": [],
   "source": [
    "#Better solution from threads\n",
    "\n",
    "from fractions import gcd\n",
    "\n",
    "def get_lcm(lst):\n",
    "    return reduce(lambda x, y : x*y/gcd(x,y), lst)\n",
    "\n",
    "def convertFracts(lst):\n",
    "    lcm = get_lcm([ y for x, y in lst])\n",
    "    return [ [x*lcm/y, lcm] for x, y in lst]"
   ]
  },
  {
   "cell_type": "markdown",
   "metadata": {},
   "source": [
    "# Find the smallest UNSOLVED"
   ]
  },
  {
   "cell_type": "code",
   "execution_count": 1,
   "metadata": {},
   "outputs": [],
   "source": [
    "def smallest(n):\n",
    "    number = list(str(n))\n",
    "    index = 0\n",
    "\n",
    "    while index < len(number) - 1:\n",
    "        small = min(number[index:])\n",
    "        if number[index] == small:\n",
    "            print(number[index])\n",
    "            index += 1\n",
    "        else:\n",
    "            break\n",
    "\n",
    "    print(number)\n",
    "    mover = number[index:].index(small) + index\n",
    "    number.insert(index, number.pop(mover))\n",
    "    return [int(\"\".join(number)),mover,index]"
   ]
  },
  {
   "cell_type": "code",
   "execution_count": 138,
   "metadata": {},
   "outputs": [
    {
     "data": {
      "text/plain": [
       "'99906685460383087'"
      ]
     },
     "execution_count": 138,
     "metadata": {},
     "output_type": "execute_result"
    }
   ],
   "source": [
    "\"\".join(['9', '9', '9', '0', '6', '6', '8', '5', '4', '6', '0', '3', '8', '3', '0', '8', '7'])"
   ]
  },
  {
   "cell_type": "code",
   "execution_count": 187,
   "metadata": {},
   "outputs": [],
   "source": [
    "def smallest(n):\n",
    "    number = list(str(n))\n",
    "    index = 0\n",
    "    \n",
    "    terms = [i for i,val in enumerate(number) if val==min(number)]    \n",
    "    candidtates = [x for x in list(range(len(number))) if x not in terms]\n",
    "    swap = terms[-1]\n",
    "    \n",
    "    number.insert(swap, number.pop(swap))\n",
    "    \n",
    "    return(swap, candidtates, number)\n",
    "\n"
   ]
  },
  {
   "cell_type": "code",
   "execution_count": 188,
   "metadata": {},
   "outputs": [
    {
     "data": {
      "text/plain": [
       "(2, [0, 3], ['2', '1', '1', '2'])"
      ]
     },
     "execution_count": 188,
     "metadata": {},
     "output_type": "execute_result"
    }
   ],
   "source": [
    "smallest(2112)"
   ]
  },
  {
   "cell_type": "markdown",
   "metadata": {},
   "source": [
    "# Squares in a Rectangle"
   ]
  },
  {
   "cell_type": "code",
   "execution_count": 189,
   "metadata": {},
   "outputs": [],
   "source": [
    "def findSquares(x,y):\n",
    "    if x > y: n, m = x, y\n",
    "    else: n, m = y, x\n",
    "    return int((m * (m + 1) * (2 * m + 1) / 6 + (n - m) * m * (m + 1) / 2)) "
   ]
  },
  {
   "cell_type": "markdown",
   "metadata": {},
   "source": [
    "# Ordered Count of Characters"
   ]
  },
  {
   "cell_type": "code",
   "execution_count": null,
   "metadata": {},
   "outputs": [],
   "source": [
    "def ordered_count(lst):\n",
    "    answer = []\n",
    "    lst = [(i, lst.count(i)) for i in lst]\n",
    "    for i in lst:\n",
    "        if i not in answer:\n",
    "            answer.append(i)\n",
    "    return answer"
   ]
  },
  {
   "cell_type": "code",
   "execution_count": 190,
   "metadata": {},
   "outputs": [],
   "source": [
    "#Better solution from threads\n",
    "\n",
    "from collections import Counter, OrderedDict\n",
    "\n",
    "class OrderedCounter(Counter, OrderedDict):\n",
    "    pass\n",
    "\n",
    "def ordered_count(s):\n",
    "    return list(OrderedCounter(s).items())"
   ]
  },
  {
   "cell_type": "markdown",
   "metadata": {},
   "source": [
    "# Points in the Circle"
   ]
  },
  {
   "cell_type": "code",
   "execution_count": 294,
   "metadata": {},
   "outputs": [],
   "source": [
    "import math as m\n",
    "\n",
    "def points(n):\n",
    "    count = 0\n",
    "    f = math.floor(n)\n",
    "    for y in range(0,f + 1):\n",
    "        val = m.floor(m.sqrt(n**2 - y**2))\n",
    "        for x in range(-val, val + 1):\n",
    "            print(x,y)\n",
    "            count += 1\n",
    "    \n",
    "    return 2*count - len(range(-f,f + 1))"
   ]
  },
  {
   "cell_type": "code",
   "execution_count": 298,
   "metadata": {},
   "outputs": [],
   "source": [
    "#Better solution from threads\n",
    "\n",
    "def points(n):\n",
    "    return 1 + 4 * sum(map(lambda x: int((n * n - x * x)**0.5),range(0,n+1)))"
   ]
  },
  {
   "cell_type": "markdown",
   "metadata": {},
   "source": [
    "# Some Egyptian Fractions"
   ]
  },
  {
   "cell_type": "code",
   "execution_count": 413,
   "metadata": {},
   "outputs": [],
   "source": [
    "import math \n",
    "\n",
    "def egyptianFraction(top, bot): \n",
    "    denom = []\n",
    "    if top >= bot:\n",
    "        denom.append(str(top // bot))\n",
    "        top %= bot \n",
    "    while top != 0: \n",
    "        x = math.ceil(bot / top) \n",
    "        denom.append(\"1/\" + str(x)) \n",
    "        top = x * top - bot \n",
    "        bot = bot * x \n",
    "    return(denom)\n",
    "\n",
    "def decompose(n):\n",
    "    if n == \"0\": return []\n",
    "    if n.find(\".\") > -1 and n.find(\"/\") == -1:\n",
    "        n = \"0\" + n\n",
    "        decimal = n.split(\".\")\n",
    "        \n",
    "        if int(decimal[0]) >= 1:\n",
    "            n = str(\n",
    "                int(decimal[0])*int(\"1\"+\"0\"*len(decimal[1])) + int(decimal[1])\n",
    "                ) +\"/\"+\"1\"+\"0\"*len(decimal[1])\n",
    "        else:\n",
    "            n = decimal[1]+\"/\"+\"1\"+\"0\"*len(decimal[1])\n",
    "\n",
    "            \n",
    "    elif n.find(\".\") > -1 and n.find(\"/\") > -1:\n",
    "        pass\n",
    "    elif n.find(\"/\") == -1:\n",
    "        return [str(n)]\n",
    "    \n",
    "    terms = [int(x) for x in n.split(\"/\")]            \n",
    "    return egyptianFraction(terms[0],terms[1])\n"
   ]
  },
  {
   "cell_type": "markdown",
   "metadata": {},
   "source": [
    "# Decimal to Factorial and Back UNSOLVED\n",
    "Confused with instructions"
   ]
  },
  {
   "cell_type": "code",
   "execution_count": 438,
   "metadata": {},
   "outputs": [],
   "source": [
    "from math import factorial as f\n",
    "\n",
    "def dec2FactString(nb):\n",
    "    pass\n",
    "\n",
    "def factString2Dec(string):\n",
    "    fact, answer = 0, 0\n",
    "    for i in string[::-1]:\n",
    "        answer += int(i) * f(fact)\n",
    "        fact += 1\n",
    "        \n",
    "    return answer\n",
    "\n",
    "\n"
   ]
  },
  {
   "cell_type": "code",
   "execution_count": 461,
   "metadata": {},
   "outputs": [
    {
     "name": "stdout",
     "output_type": "stream",
     "text": [
      "30104.381258962676\n",
      "301174.9494224489\n",
      "3314113.5272239447\n",
      "39781324.80727959\n",
      "517289459.4011688\n",
      "7243645800.531982\n",
      "108675472776.86328\n",
      "1739099429898.875\n",
      "29569079533687.0\n",
      "532313816537808.0\n",
      "1.0115161415504896e+16\n",
      "2.023248461996933e+17\n",
      "4.249233149369909e+18\n",
      "9.349136835566738e+19\n",
      "2.1504747104446102e+21\n",
      "5.1615208639804696e+22\n",
      "1.2904680656503196e+24\n",
      "3.3554280098820443e+25\n",
      "9.060183683720097e+26\n",
      "2.536988836221194e+28\n"
     ]
    }
   ],
   "source": [
    "for n in range(10,30):\n",
    "    print(f(n) - math.sqrt(2*math.pi*n)*(n/math.e)**n)"
   ]
  },
  {
   "cell_type": "markdown",
   "metadata": {},
   "source": [
    "# Square into Squares. Protect trees!"
   ]
  },
  {
   "cell_type": "code",
   "execution_count": 485,
   "metadata": {},
   "outputs": [],
   "source": [
    "def decompose(n):\n",
    "    number = 0\n",
    "    list = [n]\n",
    "    while list:\n",
    "        test = list.pop()\n",
    "        number += test ** 2\n",
    "        for i in range(test - 1, 0, -1):\n",
    "            if number - (i ** 2) >= 0:\n",
    "                number -= i ** 2\n",
    "                list.append(i)\n",
    "                if number == 0:\n",
    "                    list.sort()\n",
    "                    return list\n",
    "    return None"
   ]
  },
  {
   "cell_type": "markdown",
   "metadata": {},
   "source": [
    "# Basic Mathematical Operations"
   ]
  },
  {
   "cell_type": "code",
   "execution_count": 487,
   "metadata": {},
   "outputs": [],
   "source": [
    "def basic_op(operator, value1, value2):\n",
    "    if operator == \"+\": return value1 + value2\n",
    "    elif operator == \"-\": return value1 - value2\n",
    "    elif operator == \"*\": return value1 * value2\n",
    "    elif operator == \"/\": return value1 / value2"
   ]
  },
  {
   "cell_type": "code",
   "execution_count": 488,
   "metadata": {},
   "outputs": [],
   "source": [
    "#Better solution from threads\n",
    "#Durp, lazy code above.\n",
    "\n",
    "def basic_op(operator, value1, value2):\n",
    "    return eval(\"{}{}{}\".format(value1, operator, value2))"
   ]
  },
  {
   "cell_type": "markdown",
   "metadata": {},
   "source": [
    "# Even or Odd"
   ]
  },
  {
   "cell_type": "code",
   "execution_count": 489,
   "metadata": {},
   "outputs": [],
   "source": [
    "def even_or_odd(number):\n",
    "    if number % 2 == 0: return \"Even\"\n",
    "    else: return \"Odd\""
   ]
  },
  {
   "cell_type": "markdown",
   "metadata": {},
   "source": [
    "# Sum of Positive"
   ]
  },
  {
   "cell_type": "code",
   "execution_count": 494,
   "metadata": {},
   "outputs": [],
   "source": [
    "def positive_sum(arr):\n",
    "    return sum([x for x in arr if x > 0])"
   ]
  },
  {
   "cell_type": "markdown",
   "metadata": {},
   "source": [
    "# String repeat"
   ]
  },
  {
   "cell_type": "code",
   "execution_count": 496,
   "metadata": {},
   "outputs": [],
   "source": [
    "def repeat_str(repeat, string):\n",
    "    return repeat * string"
   ]
  },
  {
   "cell_type": "markdown",
   "metadata": {},
   "source": [
    "# Find Maximum and Minimum Values of a List"
   ]
  },
  {
   "cell_type": "code",
   "execution_count": 507,
   "metadata": {},
   "outputs": [],
   "source": [
    "def min(arr):\n",
    "    return sorted(arr)[0]\n",
    "\n",
    "def max(arr):\n",
    "    return sorted(arr)[-1]"
   ]
  },
  {
   "cell_type": "markdown",
   "metadata": {},
   "source": [
    "# Remove First and Last Character"
   ]
  },
  {
   "cell_type": "code",
   "execution_count": 508,
   "metadata": {},
   "outputs": [],
   "source": [
    "def remove_char(s):\n",
    "    return s[1:-1]"
   ]
  },
  {
   "cell_type": "markdown",
   "metadata": {},
   "source": [
    "# A Needle in the Haystack"
   ]
  },
  {
   "cell_type": "code",
   "execution_count": 512,
   "metadata": {},
   "outputs": [],
   "source": [
    "def find_needle(haystack):\n",
    "    return \"found the needle at position \" + str(haystack.index(\"needle\"))"
   ]
  },
  {
   "cell_type": "markdown",
   "metadata": {},
   "source": [
    "# Reversed Strings"
   ]
  },
  {
   "cell_type": "code",
   "execution_count": 520,
   "metadata": {},
   "outputs": [],
   "source": [
    "def solution(string):\n",
    "    return string[::-1]"
   ]
  },
  {
   "cell_type": "markdown",
   "metadata": {},
   "source": [
    "# Sum of two lowest positive integers"
   ]
  },
  {
   "cell_type": "code",
   "execution_count": 528,
   "metadata": {},
   "outputs": [],
   "source": [
    "def sum_two_smallest_numbers(numbers):\n",
    "    numbers = sorted(numbers)\n",
    "    return numbers[0] + numbers[1]"
   ]
  },
  {
   "cell_type": "code",
   "execution_count": 530,
   "metadata": {},
   "outputs": [],
   "source": [
    "def sum_two_smallest_numbers(numbers):\n",
    "    return sum(sorted(numbers)[:2])"
   ]
  },
  {
   "cell_type": "markdown",
   "metadata": {},
   "source": [
    "# Highest and Lowest"
   ]
  },
  {
   "cell_type": "code",
   "execution_count": 556,
   "metadata": {},
   "outputs": [],
   "source": [
    "def high_and_low(numbers):\n",
    "    numbers = sorted([int(x) for x in numbers.split(\" \")])\n",
    "    return str(numbers[-1]) + \" \" + str(numbers[0])"
   ]
  },
  {
   "cell_type": "code",
   "execution_count": 558,
   "metadata": {},
   "outputs": [],
   "source": [
    "def high_and_low(numbers):\n",
    "    n = map(int, numbers.split(' '))\n",
    "    return \"{} {}\".format(max(n), min(n))"
   ]
  },
  {
   "cell_type": "markdown",
   "metadata": {},
   "source": [
    "# Simple consecutive pairs"
   ]
  },
  {
   "cell_type": "code",
   "execution_count": 570,
   "metadata": {},
   "outputs": [],
   "source": [
    "def pairs(ar):\n",
    "    count = 0\n",
    "    for i in range(0,len(ar) -1,2):\n",
    "        if ar[i] == ar[i + 1] + 1 or ar[i + 1] == ar[i] + 1:\n",
    "            count += 1\n",
    "                   \n",
    "    return count"
   ]
  },
  {
   "cell_type": "code",
   "execution_count": 571,
   "metadata": {},
   "outputs": [],
   "source": [
    "#Better solution from threads\n",
    "\n",
    "def pairs(arr):\n",
    "    return sum( abs(a-b)==1 for a,b in zip(arr[::2],arr[1::2]) )"
   ]
  },
  {
   "cell_type": "markdown",
   "metadata": {},
   "source": [
    "# Dubstep"
   ]
  },
  {
   "cell_type": "code",
   "execution_count": 579,
   "metadata": {},
   "outputs": [],
   "source": [
    "def song_decoder(song):\n",
    "    return \" \".join(filter(None, song.split(\"WUB\")))"
   ]
  },
  {
   "cell_type": "code",
   "execution_count": 582,
   "metadata": {},
   "outputs": [],
   "source": [
    "def song_decoder(song):\n",
    "    return \" \".join(song.replace('WUB', ' ').split())"
   ]
  },
  {
   "cell_type": "markdown",
   "metadata": {},
   "source": [
    "# Tribonacci Sequence"
   ]
  },
  {
   "cell_type": "code",
   "execution_count": 631,
   "metadata": {},
   "outputs": [],
   "source": [
    "from decimal import *\n",
    "getcontext().prec = 10000\n",
    "\n",
    "def tribonacci(signature, n):\n",
    "    lst = []\n",
    "    for i in list(range(n)):\n",
    "        if i == 0: lst.append(Decimal(str(signature[0])))\n",
    "        elif i == 1: lst.append(Decimal(str(signature[1])))\n",
    "        elif i == 2: lst.append(Decimal(str(signature[2])))\n",
    "        else: lst.append(lst[i-3] + lst[i-2] + lst[i -1])\n",
    "        \n",
    "    return [float(x) for x in tribonacci([1.2,1.23401,1.23], 10)]\n"
   ]
  },
  {
   "cell_type": "code",
   "execution_count": 634,
   "metadata": {},
   "outputs": [],
   "source": [
    "def tribonacci(signature, n):\n",
    "    res = signature[:n]\n",
    "    for i in range(n - 3): res.append(sum(res[-3:]))\n",
    "    return res"
   ]
  },
  {
   "cell_type": "markdown",
   "metadata": {},
   "source": [
    "# Calculating with Functions"
   ]
  },
  {
   "cell_type": "code",
   "execution_count": 715,
   "metadata": {},
   "outputs": [],
   "source": [
    "def zero(*args):\n",
    "    if len(args) == 0: \n",
    "        return \"0\"\n",
    "    else: \n",
    "        return eval(\"0\" + \"\".join(args))\n",
    "        \n",
    "def one(*args):\n",
    "    if len(args) == 0: \n",
    "        return \"1\"\n",
    "    else: \n",
    "        return eval(\"1\" + \"\".join(args))\n",
    "        \n",
    "def two(*args):\n",
    "    if len(args) == 0: \n",
    "        return \"2\"\n",
    "    else: \n",
    "        return eval(\"2\" + \"\".join(args))\n",
    "\n",
    "def three(*args):\n",
    "    if len(args) == 0: \n",
    "        return \"3\"\n",
    "    else: \n",
    "        return eval(\"3\" + \"\".join(args))\n",
    "    \n",
    "def four(*args):\n",
    "    if len(args) == 0: \n",
    "        return \"4\"\n",
    "    else: \n",
    "        return eval(\"4\" + \"\".join(args))\n",
    "    \n",
    "def five(*args):\n",
    "    if len(args) == 0: \n",
    "        return \"5\"\n",
    "    else: \n",
    "        return eval(\"5\" + \"\".join(args))\n",
    "    \n",
    "def six(*args):\n",
    "    if len(args) == 0: \n",
    "        return \"6\"\n",
    "    else: \n",
    "        return eval(\"6\" + \"\".join(args))\n",
    "    \n",
    "def seven(*args):\n",
    "    if len(args) == 0: \n",
    "        return \"7\"\n",
    "    else: \n",
    "        return eval(\"7\" + \"\".join(args))\n",
    "    \n",
    "def eight(*args):\n",
    "    if len(args) == 0: \n",
    "        return \"8\"\n",
    "    else: \n",
    "        return eval(\"8\" + \"\".join(args))\n",
    "    \n",
    "def seven(*args):\n",
    "    if len(args) == 0: \n",
    "        return \"9\"\n",
    "    else: \n",
    "        return eval(\"9\" + \"\".join(args))\n",
    "\n",
    "def plus(*args):\n",
    "    return \"+\" + \"\".join(args)\n",
    "\n",
    "def minus(*args): \n",
    "    return \"-\" + \"\".join(args)\n",
    "\n",
    "def times(*args): \n",
    "    return \"*\" + \"\".join(args)\n",
    "\n",
    "def divided_by(*args): \n",
    "    return \"/\" + \"\".join(args)"
   ]
  },
  {
   "cell_type": "code",
   "execution_count": 717,
   "metadata": {},
   "outputs": [],
   "source": [
    "id_ = lambda x: x\n",
    "number = lambda x: lambda f=id_: f(x)\n",
    "zero, one, two, three, four, five, six, seven, eight, nine = map(number, range(10))\n",
    "plus = lambda x: lambda y: y + x\n",
    "minus = lambda x: lambda y: y - x\n",
    "times = lambda x: lambda y: y * x\n",
    "divided_by = lambda x: lambda y: y / x"
   ]
  },
  {
   "cell_type": "markdown",
   "metadata": {},
   "source": [
    "# Meeting"
   ]
  },
  {
   "cell_type": "code",
   "execution_count": 718,
   "metadata": {},
   "outputs": [],
   "source": [
    "def meeting(s):\n",
    "    s = [x.split(\":\") for x in s.split(\";\")]\n",
    "    s = [[x[1].upper(), x[0].upper()] for x in s]\n",
    "    s.sort(key = lambda x: (x[0],x[1]))\n",
    "    answer = \"\"\n",
    "\n",
    "    for i in s:\n",
    "        answer = answer + \"(\" + str(i[0]).upper() + \", \" + str(i[1]).upper() + \")\"\n",
    "        \n",
    "    return answer"
   ]
  },
  {
   "cell_type": "code",
   "execution_count": 719,
   "metadata": {},
   "outputs": [],
   "source": [
    "#Better solution from threads\n",
    "\n",
    "def meeting(s):\n",
    "    return ''.join(sorted('({1}, {0})'.format(*(x.split(':'))) for x in s.upper().split(';')))"
   ]
  },
  {
   "cell_type": "markdown",
   "metadata": {},
   "source": [
    "# Suitcase packing"
   ]
  },
  {
   "cell_type": "code",
   "execution_count": 720,
   "metadata": {},
   "outputs": [],
   "source": [
    "def fit_in(a,b,m,n):\n",
    "    print(a,b,m,n,a + b <= m,a + b <= n )\n",
    "    if (a<=m and a<=n and b<=m and b<=n) and (a + b <= m or a + b <= n): return True\n",
    "    else: return False"
   ]
  },
  {
   "cell_type": "code",
   "execution_count": 721,
   "metadata": {},
   "outputs": [],
   "source": [
    "#Better solution from threads\n",
    "\n",
    "\n",
    "def fit_in(a, b, m, n):\n",
    "    return max(a, b) <= min(m, n) and a + b <= max(m, n)"
   ]
  },
  {
   "cell_type": "markdown",
   "metadata": {},
   "source": [
    "# Tank Truck"
   ]
  },
  {
   "cell_type": "code",
   "execution_count": 45,
   "metadata": {},
   "outputs": [],
   "source": [
    "import math\n",
    "\n",
    "def tankvol(h, d, vt):\n",
    "    radius = d/2\n",
    "    theta = 2 * math.acos((radius - h)/radius) \n",
    "    cyl_height = vt / (math.pi * radius ** 2)\n",
    "    \n",
    "    \n",
    "    liquid_area = ((radius ** 2) / 2) * (theta - math.sin(theta))\n",
    "    \n",
    "    \n",
    "    return math.floor(vt * liquid_area / (math.pi * radius ** 2))"
   ]
  },
  {
   "cell_type": "markdown",
   "metadata": {},
   "source": [
    "# Explosive Sum"
   ]
  },
  {
   "cell_type": "code",
   "execution_count": 141,
   "metadata": {},
   "outputs": [],
   "source": [
    "#this was running too slow\n",
    "\n",
    "def partitions(n, I=1):\n",
    "    yield (n,)\n",
    "    for i in range(I, n//2 + 1):\n",
    "        for p in partitions(n-i, i):\n",
    "            yield (i,) + p\n",
    "            \n",
    "def explosive(x):\n",
    "    return len(set(partitions(x)))\n",
    "\n",
    "#In the end I just made a giant data draw from http://www.numericana.com/data/partition.htm"
   ]
  },
  {
   "cell_type": "code",
   "execution_count": 139,
   "metadata": {},
   "outputs": [],
   "source": [
    "#This is really a brilliant solution I found online, I need to study it.\n",
    "\n",
    "def exp_sum(n):\n",
    "    if n < 0: return 0\n",
    "    A = [1] + [0]*n\n",
    "    print(A)\n",
    "    for i in range(n):\n",
    "        A = [sum(A[:k+1][::-i-1]) for k in range(n+1)]\n",
    "        print(A)\n",
    "    return A[-1]"
   ]
  },
  {
   "cell_type": "markdown",
   "metadata": {},
   "source": [
    "# Weight for weight"
   ]
  },
  {
   "cell_type": "code",
   "execution_count": 196,
   "metadata": {},
   "outputs": [],
   "source": [
    "import re\n",
    "def order_weight(string):\n",
    "    #scrub out spaces\n",
    "    cleaned = re.sub(' +', ' ',string.strip()).split(\" \")\n",
    "    \n",
    "    #make list of lists with sum as first entry\n",
    "    item_list = []\n",
    "    for value in cleaned:\n",
    "        key = str(sum([int(x) for x in list(value)]))\n",
    "        item_list.append([int(key),value])\n",
    "    \n",
    "    #sort by both entries\n",
    "    item_list = sorted(item_list, key = lambda a: [int(a[0]),a[1]])\n",
    "    \n",
    "    #return string\n",
    "    return \" \".join([x[1] for x in item_list])"
   ]
  },
  {
   "cell_type": "code",
   "execution_count": null,
   "metadata": {},
   "outputs": [],
   "source": [
    "# Found on threads\n",
    "\n",
    "def weight_key(s):\n",
    "    return (sum(int(c) for c in s), s)\n",
    "def order_weight(s):\n",
    "    return ' '.join(sorted(s.split(' '), key=weight_key))"
   ]
  },
  {
   "cell_type": "markdown",
   "metadata": {},
   "source": [
    "# Factorial decomposition"
   ]
  },
  {
   "cell_type": "code",
   "execution_count": 297,
   "metadata": {},
   "outputs": [],
   "source": [
    "#Too Slow\n",
    "\n",
    "import collections\n",
    "\n",
    "def primes(limit):\n",
    "    is_prime = [False] * 2 + [True] * (limit - 1)   # set up the Boolean list\n",
    "\n",
    "    for n in range(int(limit ** 0.5 + 1.5)):   \n",
    "        if is_prime[n]:\n",
    "            for i in range(n * n, limit + 1, n):\n",
    "                is_prime[i] = False\n",
    "\n",
    "    for i in range(limit + 1):\n",
    "        if is_prime[i]:\n",
    "            yield i\n",
    "    return\n",
    "\n",
    "def pfactors(n):\n",
    "    for p in primes(n):\n",
    "        while n%p==0:\n",
    "            yield p\n",
    "            n=n//p\n",
    "            if n==1: \n",
    "                return\n",
    "\n",
    "def decomp(n):\n",
    "    prime_list = []\n",
    "    for i in range(2,n+1):\n",
    "        prime_list.extend(pfactors(i))\n",
    "    \n",
    "    string = \"\"\n",
    "    for value in sorted(collections.Counter(prime_list).most_common()):\n",
    "        if value[1] == 1:\n",
    "            string += \" * \" + str(value[0])\n",
    "        else:\n",
    "            string += \" * \" + str(value[0]) + \"^\" + str(value[1])\n",
    "    \n",
    "    return string[3:]"
   ]
  },
  {
   "cell_type": "code",
   "execution_count": 305,
   "metadata": {},
   "outputs": [],
   "source": [
    "#Found on thread\n",
    "def decomp(n):\n",
    "    f = {}\n",
    "    for  i in range(2, n+1):\n",
    "        for j in range(2, int(i**0.5)+1):\n",
    "            while i%j==0:\n",
    "                i = i//j\n",
    "                if j in f: f[j] += 1\n",
    "                else: f[j] = 1\n",
    "        if i!=1:\n",
    "            if i in f: f[i] += 1\n",
    "            else: f[i] = 1\n",
    "        \n",
    "    return ' * '.join([\"{}^{}\".format(i, f[i]) if f[i]>1 else str(i) for i in sorted(f)])"
   ]
  },
  {
   "cell_type": "markdown",
   "metadata": {},
   "source": [
    "# Compute the Largest Sum of all Contiguous Subsequences"
   ]
  },
  {
   "cell_type": "code",
   "execution_count": 5,
   "metadata": {},
   "outputs": [],
   "source": [
    "# First draft\n",
    "def largest_sum(arr):\n",
    "    arr_sum, best_sum = 0, 0\n",
    "    for i in arr:\n",
    "        arr_sum += i\n",
    "        if arr_sum < 0:\n",
    "            arr_sum = 0\n",
    "        elif arr_sum > best_sum:\n",
    "            best_sum = arr_sum\n",
    "    \n",
    "    return(best_sum)"
   ]
  },
  {
   "cell_type": "code",
   "execution_count": 10,
   "metadata": {
    "scrolled": true
   },
   "outputs": [],
   "source": [
    "# Using Max is a hair faster than conditionals \n",
    "def largest_sum(array):\n",
    "    arr_sum, best_sum = 0, 0\n",
    "    for integer in array:\n",
    "        arr_sum = max(integer, arr_sum + integer)\n",
    "        best_sum = max(best_sum, arr_sum)\n",
    "    return max(best_sum, 0)"
   ]
  },
  {
   "cell_type": "markdown",
   "metadata": {},
   "source": [
    "# Compute the Largest Sum of all Contiguous Subsequences"
   ]
  },
  {
   "cell_type": "code",
   "execution_count": 87,
   "metadata": {},
   "outputs": [],
   "source": [
    "def encode(string):\n",
    "    count = 1\n",
    "    size = len(string)\n",
    "    code = \"\"\n",
    "    for i in range(size - 1):\n",
    "        if string[i] == string[i + 1]:\n",
    "            count += 1\n",
    "        else:\n",
    "            code += str(count) + string[i] \n",
    "            count = 1\n",
    "        if i == size - 2 and (string[i] == string[i + 1]):\n",
    "            code += str(count) + string[i] \n",
    "    \n",
    "    if string[size - 1] != string[size - 2] or len(string) == 1:\n",
    "        code += \"1\" + string[size - 1]\n",
    "    \n",
    "    return(code)\n",
    "    \n",
    "def decode(string): \n",
    "    decode = \"\"\n",
    "    value = \"\"\n",
    "    for i in range(len(string)):\n",
    "        if not string[i].isalpha():\n",
    "            value += string[i]\n",
    "        else:\n",
    "            decode += string[i] * int(value)\n",
    "            value = \"\"\n",
    "    \n",
    "    return(decode)"
   ]
  },
  {
   "cell_type": "code",
   "execution_count": 89,
   "metadata": {},
   "outputs": [],
   "source": [
    "#With re\n",
    "from re import sub\n",
    "\n",
    "def encode(string):\n",
    "    return sub(r'(.)\\1*', lambda m: str(len(m.group(0))) + m.group(1),string)\n",
    "    \n",
    "def decode(string): \n",
    "    return sub(r'(\\d+)(\\D)', lambda m: m.group(2) * int(m.group(1)),string)"
   ]
  },
  {
   "cell_type": "markdown",
   "metadata": {},
   "source": [
    "# Find the missing element between two arrays"
   ]
  },
  {
   "cell_type": "code",
   "execution_count": 95,
   "metadata": {},
   "outputs": [],
   "source": [
    "def find_missing(arr1, arr2):\n",
    "    for i in arr1:\n",
    "        try:\n",
    "            arr2.remove(i)\n",
    "        except:\n",
    "            return i"
   ]
  },
  {
   "cell_type": "code",
   "execution_count": 97,
   "metadata": {},
   "outputs": [
    {
     "data": {
      "text/plain": [
       "1"
      ]
     },
     "execution_count": 97,
     "metadata": {},
     "output_type": "execute_result"
    }
   ],
   "source": [
    "#How did I not see this little brilliant solution on the threads!\n",
    "def find_missing(arr1, arr2):\n",
    "    return sum(arr1) - sum(arr2)"
   ]
  },
  {
   "cell_type": "markdown",
   "metadata": {},
   "source": [
    "# Unary Messages\n",
    "\n",
    "Binary with 0 and 1 is good, but binary with only 0 is even better! Originally, this is a concept designed by Chuck Norris to send so called unary messages.\n",
    "\n",
    "Can you write a program that can send and receive this messages? <br>\n",
    "\"CC\" is coded as: 0 0 00 0000 0 000 00 0000 0 00"
   ]
  },
  {
   "cell_type": "code",
   "execution_count": 215,
   "metadata": {},
   "outputs": [],
   "source": [
    "def encoder(string):\n",
    "    result = []\n",
    "    for letter in string:\n",
    "        result.append(bin(ord(str(letter)))[2:])\n",
    "    \n",
    "    return list(\"\".join(result))\n",
    "\n",
    "#I want to try a fun idea of splitting the list between the 1's\n",
    "def send(string):\n",
    "    result = []\n",
    "    string = encoder(string)\n",
    "    \n",
    "    for index in range(len(string)):\n",
    "        if index == 0:\n",
    "            result.append(string[index])\n",
    "        elif string[index - 1] != string[index]:\n",
    "            result.append(\"-\")\n",
    "            result.append(string[index])\n",
    "        else:\n",
    "            result.append(string[index])\n",
    "            \n",
    "    result = \"\".join(result).split(\"-\")\n",
    "    \n",
    "    answer = []\n",
    "    \n",
    "    for item in result:\n",
    "        if item[0] == \"1\":\n",
    "            answer.append(\"0\")\n",
    "        else:\n",
    "            answer.append(\"00\")\n",
    "        answer.append(len(item)* \"0\")\n",
    "        \n",
    "    return \" \".join(answer)\n",
    "        \n",
    "def receive(string):\n",
    "    \n",
    "    n = int(result, 2)\n",
    "    return n.to_bytes((n.bit_length() + 7) // 8, 'big').decode()\n",
    "    "
   ]
  },
  {
   "cell_type": "code",
   "execution_count": 229,
   "metadata": {},
   "outputs": [
    {
     "ename": "ValueError",
     "evalue": "invalid literal for int() with base 10: '0b10000111000011'",
     "output_type": "error",
     "traceback": [
      "\u001b[0;31m---------------------------------------------------------------------------\u001b[0m",
      "\u001b[0;31mValueError\u001b[0m                                Traceback (most recent call last)",
      "\u001b[0;32m<ipython-input-229-e491bbe5d486>\u001b[0m in \u001b[0;36m<module>\u001b[0;34m\u001b[0m\n\u001b[0;32m----> 1\u001b[0;31m \u001b[0mchr\u001b[0m\u001b[0;34m(\u001b[0m\u001b[0mint\u001b[0m\u001b[0;34m(\u001b[0m\u001b[0;34m\"0b\"\u001b[0m \u001b[0;34m+\u001b[0m \u001b[0;34m\"10000111000011\"\u001b[0m\u001b[0;34m)\u001b[0m\u001b[0;34m)\u001b[0m\u001b[0;34m\u001b[0m\u001b[0;34m\u001b[0m\u001b[0m\n\u001b[0m",
      "\u001b[0;31mValueError\u001b[0m: invalid literal for int() with base 10: '0b10000111000011'"
     ]
    }
   ],
   "source": [
    "chr(int(\"0b\" + \"10000111000011\"))"
   ]
  },
  {
   "cell_type": "code",
   "execution_count": 231,
   "metadata": {},
   "outputs": [
    {
     "data": {
      "text/plain": [
       "'C'"
      ]
     },
     "execution_count": 231,
     "metadata": {},
     "output_type": "execute_result"
    }
   ],
   "source": [
    "n = int(\"1000011\", 2)\n",
    "n.to_bytes((n.bit_length() + 7) // 8, 'big').decode()"
   ]
  },
  {
   "cell_type": "code",
   "execution_count": null,
   "metadata": {},
   "outputs": [],
   "source": []
  }
 ],
 "metadata": {
  "kernelspec": {
   "display_name": "Python 3",
   "language": "python",
   "name": "python3"
  },
  "language_info": {
   "codemirror_mode": {
    "name": "ipython",
    "version": 3
   },
   "file_extension": ".py",
   "mimetype": "text/x-python",
   "name": "python",
   "nbconvert_exporter": "python",
   "pygments_lexer": "ipython3",
   "version": "3.7.5"
  },
  "toc": {
   "base_numbering": 1,
   "nav_menu": {},
   "number_sections": true,
   "sideBar": true,
   "skip_h1_title": false,
   "title_cell": "Table of Contents",
   "title_sidebar": "Contents",
   "toc_cell": false,
   "toc_position": {},
   "toc_section_display": true,
   "toc_window_display": false
  }
 },
 "nbformat": 4,
 "nbformat_minor": 2
}
