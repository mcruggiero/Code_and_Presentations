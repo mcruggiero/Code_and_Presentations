{
 "cells": [
  {
   "cell_type": "code",
   "execution_count": 1,
   "metadata": {},
   "outputs": [],
   "source": [
    "import requests\n",
    "import time\n",
    "import pandas as pd\n",
    "import praw"
   ]
  },
  {
   "cell_type": "code",
   "execution_count": 2,
   "metadata": {},
   "outputs": [],
   "source": [
    "url = 'https://www.reddit.com/hot.json'"
   ]
  },
  {
   "cell_type": "code",
   "execution_count": 3,
   "metadata": {},
   "outputs": [],
   "source": [
    "headers = {'User-agent': 'Bleep blorp bot 0.1'}"
   ]
  },
  {
   "cell_type": "code",
   "execution_count": 4,
   "metadata": {},
   "outputs": [],
   "source": [
    "res = requests.get(url, headers=headers)"
   ]
  },
  {
   "cell_type": "code",
   "execution_count": 5,
   "metadata": {},
   "outputs": [
    {
     "data": {
      "text/plain": [
       "200"
      ]
     },
     "execution_count": 5,
     "metadata": {},
     "output_type": "execute_result"
    }
   ],
   "source": [
    "res.status_code"
   ]
  },
  {
   "cell_type": "code",
   "execution_count": 6,
   "metadata": {},
   "outputs": [],
   "source": [
    "the_json = res.json()"
   ]
  },
  {
   "cell_type": "code",
   "execution_count": 7,
   "metadata": {
    "scrolled": true
   },
   "outputs": [
    {
     "data": {
      "text/plain": [
       "dict"
      ]
     },
     "execution_count": 7,
     "metadata": {},
     "output_type": "execute_result"
    }
   ],
   "source": [
    "type(the_json)"
   ]
  },
  {
   "cell_type": "code",
   "execution_count": 8,
   "metadata": {},
   "outputs": [
    {
     "data": {
      "text/plain": [
       "['data', 'kind']"
      ]
     },
     "execution_count": 8,
     "metadata": {},
     "output_type": "execute_result"
    }
   ],
   "source": [
    "sorted(the_json.keys())"
   ]
  },
  {
   "cell_type": "code",
   "execution_count": 9,
   "metadata": {},
   "outputs": [
    {
     "data": {
      "text/plain": [
       "['after', 'before', 'children', 'dist', 'modhash']"
      ]
     },
     "execution_count": 9,
     "metadata": {},
     "output_type": "execute_result"
    }
   ],
   "source": [
    "sorted(the_json['data'].keys())"
   ]
  },
  {
   "cell_type": "code",
   "execution_count": 10,
   "metadata": {},
   "outputs": [
    {
     "data": {
      "text/plain": [
       "['after', 'before', 'children', 'dist', 'modhash']"
      ]
     },
     "execution_count": 10,
     "metadata": {},
     "output_type": "execute_result"
    }
   ],
   "source": [
    "sorted(the_json['data'].keys())"
   ]
  },
  {
   "cell_type": "code",
   "execution_count": 11,
   "metadata": {
    "scrolled": true
   },
   "outputs": [
    {
     "data": {
      "text/plain": [
       "25"
      ]
     },
     "execution_count": 11,
     "metadata": {},
     "output_type": "execute_result"
    }
   ],
   "source": [
    "len(the_json['data']['children'])"
   ]
  },
  {
   "cell_type": "code",
   "execution_count": 12,
   "metadata": {},
   "outputs": [
    {
     "data": {
      "text/plain": [
       "'t3_8mzvtc'"
      ]
     },
     "execution_count": 12,
     "metadata": {},
     "output_type": "execute_result"
    }
   ],
   "source": [
    "the_json['data']['after']"
   ]
  },
  {
   "cell_type": "code",
   "execution_count": 13,
   "metadata": {},
   "outputs": [
    {
     "data": {
      "text/plain": [
       "['t3_8n25ux',\n",
       " 't3_8n14rc',\n",
       " 't3_8n13k3',\n",
       " 't3_8n0tgf',\n",
       " 't3_8n1541',\n",
       " 't3_8n0nyy',\n",
       " 't3_8n0zsc',\n",
       " 't3_8n07k9',\n",
       " 't3_8n04vf',\n",
       " 't3_8n136j',\n",
       " 't3_8n00qa',\n",
       " 't3_8n073m',\n",
       " 't3_8mzsj8',\n",
       " 't3_8n1q7q',\n",
       " 't3_8mzwj0',\n",
       " 't3_8n031q',\n",
       " 't3_8mzmgw',\n",
       " 't3_8mzkfw',\n",
       " 't3_8mzwn9',\n",
       " 't3_8mzo3e',\n",
       " 't3_8n04zm',\n",
       " 't3_8n0com',\n",
       " 't3_8mzfko',\n",
       " 't3_8n1orp',\n",
       " 't3_8mzvtc']"
      ]
     },
     "execution_count": 13,
     "metadata": {},
     "output_type": "execute_result"
    }
   ],
   "source": [
    "[post['data']['name'] for post in  the_json['data']['children']]"
   ]
  },
  {
   "cell_type": "code",
   "execution_count": 14,
   "metadata": {},
   "outputs": [],
   "source": [
    "param = {'after': 't3_8m1gat'}"
   ]
  },
  {
   "cell_type": "code",
   "execution_count": 15,
   "metadata": {},
   "outputs": [
    {
     "data": {
      "text/plain": [
       "<Response [200]>"
      ]
     },
     "execution_count": 15,
     "metadata": {},
     "output_type": "execute_result"
    }
   ],
   "source": [
    "requests.get(url, params=param, headers=headers)"
   ]
  },
  {
   "cell_type": "code",
   "execution_count": 16,
   "metadata": {},
   "outputs": [
    {
     "name": "stdout",
     "output_type": "stream",
     "text": [
      "0\n",
      "1\n",
      "2\n",
      "3\n",
      "4\n",
      "5\n",
      "6\n",
      "7\n",
      "8\n",
      "9\n",
      "10\n",
      "11\n",
      "12\n",
      "13\n",
      "14\n",
      "15\n",
      "16\n",
      "17\n",
      "18\n",
      "19\n",
      "20\n",
      "21\n",
      "22\n",
      "23\n",
      "24\n",
      "25\n",
      "26\n",
      "27\n",
      "28\n",
      "29\n",
      "30\n",
      "31\n",
      "32\n",
      "33\n",
      "34\n",
      "35\n",
      "36\n",
      "37\n",
      "38\n",
      "39\n",
      "40\n",
      "41\n",
      "42\n",
      "43\n",
      "44\n",
      "45\n",
      "46\n",
      "47\n",
      "48\n",
      "49\n",
      "50\n",
      "51\n",
      "52\n",
      "53\n",
      "54\n",
      "55\n",
      "56\n",
      "57\n",
      "58\n",
      "59\n",
      "60\n",
      "61\n",
      "62\n",
      "63\n",
      "64\n",
      "65\n",
      "66\n",
      "67\n",
      "68\n",
      "69\n",
      "70\n",
      "71\n",
      "72\n",
      "73\n",
      "74\n",
      "75\n",
      "76\n",
      "77\n",
      "78\n",
      "79\n",
      "80\n",
      "81\n",
      "82\n",
      "83\n",
      "84\n",
      "85\n",
      "86\n",
      "87\n",
      "88\n",
      "89\n",
      "90\n",
      "91\n",
      "92\n",
      "93\n",
      "94\n",
      "95\n",
      "96\n",
      "97\n",
      "98\n",
      "99\n"
     ]
    }
   ],
   "source": [
    "posts = []\n",
    "after = None\n",
    "for i in range(100):\n",
    "    print(i)\n",
    "    if after == None:\n",
    "        params = {}\n",
    "    else:\n",
    "        params = {'after': after}\n",
    "    url = 'https://www.reddit.com/hot.json'\n",
    "    res = requests.get(url, params=params, headers=headers)\n",
    "    if res.status_code == 200:\n",
    "        the_json = res.json()\n",
    "        posts.extend(the_json['data']['children'])\n",
    "        after = the_json['data']['after']\n",
    "    else:\n",
    "        print(res.status_code)\n",
    "        break\n",
    "    time.sleep(2)"
   ]
  },
  {
   "cell_type": "code",
   "execution_count": 17,
   "metadata": {},
   "outputs": [
    {
     "data": {
      "text/plain": [
       "2411"
      ]
     },
     "execution_count": 17,
     "metadata": {},
     "output_type": "execute_result"
    }
   ],
   "source": [
    "len(set([p['data']['name'] for p in posts]))"
   ]
  },
  {
   "cell_type": "code",
   "execution_count": 18,
   "metadata": {},
   "outputs": [],
   "source": [
    "my_data=set([p['data']['name'] for p in posts])"
   ]
  },
  {
   "cell_type": "code",
   "execution_count": 19,
   "metadata": {},
   "outputs": [],
   "source": [
    "df=pd.DataFrame(posts)"
   ]
  },
  {
   "cell_type": "code",
   "execution_count": 20,
   "metadata": {
    "scrolled": true
   },
   "outputs": [],
   "source": [
    "df.to_csv('data.csv', index=False)"
   ]
  },
  {
   "cell_type": "code",
   "execution_count": 21,
   "metadata": {},
   "outputs": [
    {
     "data": {
      "text/plain": [
       "(2500, 2)"
      ]
     },
     "execution_count": 21,
     "metadata": {},
     "output_type": "execute_result"
    }
   ],
   "source": [
    "df.shape"
   ]
  },
  {
   "cell_type": "code",
   "execution_count": 22,
   "metadata": {},
   "outputs": [
    {
     "data": {
      "text/html": [
       "<div>\n",
       "<style scoped>\n",
       "    .dataframe tbody tr th:only-of-type {\n",
       "        vertical-align: middle;\n",
       "    }\n",
       "\n",
       "    .dataframe tbody tr th {\n",
       "        vertical-align: top;\n",
       "    }\n",
       "\n",
       "    .dataframe thead th {\n",
       "        text-align: right;\n",
       "    }\n",
       "</style>\n",
       "<table border=\"1\" class=\"dataframe\">\n",
       "  <thead>\n",
       "    <tr style=\"text-align: right;\">\n",
       "      <th></th>\n",
       "      <th>data</th>\n",
       "      <th>kind</th>\n",
       "    </tr>\n",
       "  </thead>\n",
       "  <tbody>\n",
       "    <tr>\n",
       "      <th>0</th>\n",
       "      <td>{'is_crosspostable': False, 'subreddit_id': 't...</td>\n",
       "      <td>t3</td>\n",
       "    </tr>\n",
       "    <tr>\n",
       "      <th>1</th>\n",
       "      <td>{'is_crosspostable': False, 'subreddit_id': 't...</td>\n",
       "      <td>t3</td>\n",
       "    </tr>\n",
       "    <tr>\n",
       "      <th>2</th>\n",
       "      <td>{'is_crosspostable': False, 'subreddit_id': 't...</td>\n",
       "      <td>t3</td>\n",
       "    </tr>\n",
       "    <tr>\n",
       "      <th>3</th>\n",
       "      <td>{'is_crosspostable': False, 'subreddit_id': 't...</td>\n",
       "      <td>t3</td>\n",
       "    </tr>\n",
       "    <tr>\n",
       "      <th>4</th>\n",
       "      <td>{'is_crosspostable': False, 'subreddit_id': 't...</td>\n",
       "      <td>t3</td>\n",
       "    </tr>\n",
       "  </tbody>\n",
       "</table>\n",
       "</div>"
      ],
      "text/plain": [
       "                                                data kind\n",
       "0  {'is_crosspostable': False, 'subreddit_id': 't...   t3\n",
       "1  {'is_crosspostable': False, 'subreddit_id': 't...   t3\n",
       "2  {'is_crosspostable': False, 'subreddit_id': 't...   t3\n",
       "3  {'is_crosspostable': False, 'subreddit_id': 't...   t3\n",
       "4  {'is_crosspostable': False, 'subreddit_id': 't...   t3"
      ]
     },
     "execution_count": 22,
     "metadata": {},
     "output_type": "execute_result"
    }
   ],
   "source": [
    "df.head()"
   ]
  },
  {
   "cell_type": "code",
   "execution_count": 23,
   "metadata": {},
   "outputs": [
    {
     "data": {
      "text/html": [
       "<div>\n",
       "<style scoped>\n",
       "    .dataframe tbody tr th:only-of-type {\n",
       "        vertical-align: middle;\n",
       "    }\n",
       "\n",
       "    .dataframe tbody tr th {\n",
       "        vertical-align: top;\n",
       "    }\n",
       "\n",
       "    .dataframe thead th {\n",
       "        text-align: right;\n",
       "    }\n",
       "</style>\n",
       "<table border=\"1\" class=\"dataframe\">\n",
       "  <thead>\n",
       "    <tr style=\"text-align: right;\">\n",
       "      <th></th>\n",
       "      <th>data</th>\n",
       "      <th>kind</th>\n",
       "    </tr>\n",
       "  </thead>\n",
       "  <tbody>\n",
       "    <tr>\n",
       "      <th>0</th>\n",
       "      <td>{'is_crosspostable': False, 'subreddit_id': 't...</td>\n",
       "      <td>t3</td>\n",
       "    </tr>\n",
       "    <tr>\n",
       "      <th>1</th>\n",
       "      <td>{'is_crosspostable': False, 'subreddit_id': 't...</td>\n",
       "      <td>t3</td>\n",
       "    </tr>\n",
       "    <tr>\n",
       "      <th>2</th>\n",
       "      <td>{'is_crosspostable': False, 'subreddit_id': 't...</td>\n",
       "      <td>t3</td>\n",
       "    </tr>\n",
       "    <tr>\n",
       "      <th>3</th>\n",
       "      <td>{'is_crosspostable': False, 'subreddit_id': 't...</td>\n",
       "      <td>t3</td>\n",
       "    </tr>\n",
       "    <tr>\n",
       "      <th>4</th>\n",
       "      <td>{'is_crosspostable': False, 'subreddit_id': 't...</td>\n",
       "      <td>t3</td>\n",
       "    </tr>\n",
       "  </tbody>\n",
       "</table>\n",
       "</div>"
      ],
      "text/plain": [
       "                                                data kind\n",
       "0  {'is_crosspostable': False, 'subreddit_id': 't...   t3\n",
       "1  {'is_crosspostable': False, 'subreddit_id': 't...   t3\n",
       "2  {'is_crosspostable': False, 'subreddit_id': 't...   t3\n",
       "3  {'is_crosspostable': False, 'subreddit_id': 't...   t3\n",
       "4  {'is_crosspostable': False, 'subreddit_id': 't...   t3"
      ]
     },
     "execution_count": 23,
     "metadata": {},
     "output_type": "execute_result"
    }
   ],
   "source": [
    "my_json=pd.read_csv('data.csv')\n",
    "my_json.head()"
   ]
  },
  {
   "cell_type": "code",
   "execution_count": 24,
   "metadata": {},
   "outputs": [
    {
     "data": {
      "text/plain": [
       "5677"
      ]
     },
     "execution_count": 24,
     "metadata": {},
     "output_type": "execute_result"
    }
   ],
   "source": [
    "len(my_json.data[0])"
   ]
  },
  {
   "cell_type": "code",
   "execution_count": 25,
   "metadata": {},
   "outputs": [],
   "source": [
    "posts_id=[]\n",
    "posts_authors=[]\n",
    "posts_subreddits=[]\n",
    "num_comments=[]\n",
    "post_titles=[]\n",
    "post_scores=[]\n",
    "post_utc=[]\n",
    "created_utc=[]\n",
    "for child in posts:\n",
    "    posts_id.append(child['data']['id'])\n",
    "    posts_authors.append(child['data']['author'])\n",
    "    posts_subreddits.append(child['data']['subreddit'])\n",
    "    num_comments.append(child['data']['num_comments'])\n",
    "    post_titles.append(child['data']['title'])\n",
    "    post_scores.append(child['data']['score'])\n",
    "    post_utc.append(child['data']['created'])\n",
    "    created_utc.append(child['data']['created_utc'])"
   ]
  },
  {
   "cell_type": "code",
   "execution_count": 42,
   "metadata": {},
   "outputs": [],
   "source": [
    "# features=posts[3]['data']"
   ]
  },
  {
   "cell_type": "code",
   "execution_count": 27,
   "metadata": {},
   "outputs": [],
   "source": [
    "features=pd.DataFrame(list(features))\n",
    "posts=pd.DataFrame(posts)"
   ]
  },
  {
   "cell_type": "code",
   "execution_count": 28,
   "metadata": {},
   "outputs": [],
   "source": [
    "features.to_csv('features.csv', index=False)"
   ]
  },
  {
   "cell_type": "code",
   "execution_count": 29,
   "metadata": {},
   "outputs": [],
   "source": [
    "posts.to_csv('posts.csv', index=False)"
   ]
  },
  {
   "cell_type": "code",
   "execution_count": 30,
   "metadata": {},
   "outputs": [],
   "source": [
    "my_features=[posts_id, posts_authors, posts_subreddits, num_comments, post_titles, post_scores, post_utc, created_utc]"
   ]
  },
  {
   "cell_type": "code",
   "execution_count": null,
   "metadata": {},
   "outputs": [],
   "source": []
  },
  {
   "cell_type": "code",
   "execution_count": 31,
   "metadata": {},
   "outputs": [],
   "source": [
    "my_df=pd.DataFrame([posts_id, posts_authors, posts_subreddits, num_comments, post_titles, post_scores, post_utc, created_utc])"
   ]
  },
  {
   "cell_type": "code",
   "execution_count": 32,
   "metadata": {},
   "outputs": [],
   "source": [
    "my_df=my_df.T"
   ]
  },
  {
   "cell_type": "code",
   "execution_count": 33,
   "metadata": {},
   "outputs": [],
   "source": [
    "my_df.to_csv('my_df.csv', index=False)"
   ]
  },
  {
   "cell_type": "code",
   "execution_count": null,
   "metadata": {},
   "outputs": [],
   "source": []
  },
  {
   "cell_type": "code",
   "execution_count": 34,
   "metadata": {},
   "outputs": [],
   "source": [
    "reddit = praw.Reddit(client_id='CLIENT_ID',\n",
    "                     client_secret=\"CLIENT_SECRET\", password='PASSWORD',\n",
    "                     user_agent='USERAGENT', username='USERNAME')"
   ]
  },
  {
   "cell_type": "code",
   "execution_count": 35,
   "metadata": {},
   "outputs": [
    {
     "data": {
      "text/plain": [
       "<praw.reddit.Reddit at 0x109b46550>"
      ]
     },
     "execution_count": 35,
     "metadata": {},
     "output_type": "execute_result"
    }
   ],
   "source": [
    "reddit"
   ]
  },
  {
   "cell_type": "code",
   "execution_count": 36,
   "metadata": {},
   "outputs": [
    {
     "name": "stdout",
     "output_type": "stream",
     "text": [
      "False\n"
     ]
    }
   ],
   "source": [
    "print(reddit.read_only)  # Output: True"
   ]
  },
  {
   "cell_type": "code",
   "execution_count": 37,
   "metadata": {},
   "outputs": [],
   "source": [
    "# comment=next(reddit.subreddit('all').comments())\n",
    "# print('time.time: {}'.format(time.time()))"
   ]
  },
  {
   "cell_type": "code",
   "execution_count": 38,
   "metadata": {},
   "outputs": [],
   "source": [
    "subreddit = reddit.subreddit('redditdev')"
   ]
  },
  {
   "cell_type": "code",
   "execution_count": 39,
   "metadata": {},
   "outputs": [],
   "source": [
    "# for submission in subreddit.hot(limit=10):\n",
    "#     print(submission.title)  # Output: the submission's title\n",
    "#     print(submission.score)  # Output: the submission's score\n",
    "#     print(submission.id)     # Output: the submission's ID\n",
    "#     print(submission.url)    # Output: the URL the submission points to"
   ]
  },
  {
   "cell_type": "code",
   "execution_count": 40,
   "metadata": {},
   "outputs": [
    {
     "data": {
      "text/plain": [
       "{'approved_at_utc': None,\n",
       " 'approved_by': None,\n",
       " 'archived': False,\n",
       " 'author': 'GallowPlaceholder',\n",
       " 'author_flair_css_class': None,\n",
       " 'author_flair_template_id': None,\n",
       " 'author_flair_text': None,\n",
       " 'banned_at_utc': None,\n",
       " 'banned_by': None,\n",
       " 'can_gild': False,\n",
       " 'can_mod_post': False,\n",
       " 'clicked': False,\n",
       " 'contest_mode': False,\n",
       " 'created': 1527652746.0,\n",
       " 'created_utc': 1527623946.0,\n",
       " 'distinguished': None,\n",
       " 'domain': 'i.imgur.com',\n",
       " 'downs': 0,\n",
       " 'edited': False,\n",
       " 'gilded': 0,\n",
       " 'hidden': False,\n",
       " 'hide_score': False,\n",
       " 'id': '8n25ux',\n",
       " 'is_crosspostable': False,\n",
       " 'is_reddit_media_domain': False,\n",
       " 'is_self': False,\n",
       " 'is_video': False,\n",
       " 'likes': None,\n",
       " 'link_flair_css_class': None,\n",
       " 'link_flair_text': None,\n",
       " 'locked': False,\n",
       " 'media': None,\n",
       " 'media_embed': {},\n",
       " 'media_only': False,\n",
       " 'mod_note': None,\n",
       " 'mod_reason_by': None,\n",
       " 'mod_reason_title': None,\n",
       " 'mod_reports': [],\n",
       " 'name': 't3_8n25ux',\n",
       " 'no_follow': False,\n",
       " 'num_comments': 1137,\n",
       " 'num_crossposts': 4,\n",
       " 'num_reports': None,\n",
       " 'over_18': False,\n",
       " 'parent_whitelist_status': 'all_ads',\n",
       " 'permalink': '/r/gifs/comments/8n25ux/millionaire_meets_billionaire/',\n",
       " 'pinned': False,\n",
       " 'post_categories': None,\n",
       " 'post_hint': 'link',\n",
       " 'preview': {'enabled': True,\n",
       "  'images': [{'id': 'F2hmhitvDq8yboIYSs3ybqaYdbKWWslPY4E5yg376zg',\n",
       "    'resolutions': [{'height': 108,\n",
       "      'url': 'https://i.redditmedia.com/UgDBvIQO5fQegVTV6-1eizWNR86Rz4K5kVYDMl4vWR4.gif?fit=crop&amp;crop=faces%2Centropy&amp;arh=2&amp;w=108&amp;fm=jpg&amp;s=f30e9f7a88bb6fe4d3388cd9093510e0',\n",
       "      'width': 108},\n",
       "     {'height': 216,\n",
       "      'url': 'https://i.redditmedia.com/UgDBvIQO5fQegVTV6-1eizWNR86Rz4K5kVYDMl4vWR4.gif?fit=crop&amp;crop=faces%2Centropy&amp;arh=2&amp;w=216&amp;fm=jpg&amp;s=73a967d55d5a7870ee78a009c6334a88',\n",
       "      'width': 216},\n",
       "     {'height': 320,\n",
       "      'url': 'https://i.redditmedia.com/UgDBvIQO5fQegVTV6-1eizWNR86Rz4K5kVYDMl4vWR4.gif?fit=crop&amp;crop=faces%2Centropy&amp;arh=2&amp;w=320&amp;fm=jpg&amp;s=dbb2efed09e3485d0864dcd4fd5cf599',\n",
       "      'width': 320},\n",
       "     {'height': 640,\n",
       "      'url': 'https://i.redditmedia.com/UgDBvIQO5fQegVTV6-1eizWNR86Rz4K5kVYDMl4vWR4.gif?fit=crop&amp;crop=faces%2Centropy&amp;arh=2&amp;w=640&amp;fm=jpg&amp;s=c62f002a9111b1b5f32bb261755d0d8c',\n",
       "      'width': 640}],\n",
       "    'source': {'height': 728,\n",
       "     'url': 'https://i.redditmedia.com/UgDBvIQO5fQegVTV6-1eizWNR86Rz4K5kVYDMl4vWR4.gif?fm=jpg&amp;s=0618a33513ce3cab8825715fd82b0779',\n",
       "     'width': 728},\n",
       "    'variants': {'gif': {'resolutions': [{'height': 108,\n",
       "        'url': 'https://g.redditmedia.com/UgDBvIQO5fQegVTV6-1eizWNR86Rz4K5kVYDMl4vWR4.gif?fit=crop&amp;crop=faces%2Centropy&amp;arh=2&amp;w=108&amp;s=15fc1a3deb8ffc59e860a0a1a57c6bbc',\n",
       "        'width': 108},\n",
       "       {'height': 216,\n",
       "        'url': 'https://g.redditmedia.com/UgDBvIQO5fQegVTV6-1eizWNR86Rz4K5kVYDMl4vWR4.gif?fit=crop&amp;crop=faces%2Centropy&amp;arh=2&amp;w=216&amp;s=21873096d84b2501a15c84dc039cebab',\n",
       "        'width': 216},\n",
       "       {'height': 320,\n",
       "        'url': 'https://g.redditmedia.com/UgDBvIQO5fQegVTV6-1eizWNR86Rz4K5kVYDMl4vWR4.gif?fit=crop&amp;crop=faces%2Centropy&amp;arh=2&amp;w=320&amp;s=8191765bf2f7335ef3af4239148150cb',\n",
       "        'width': 320},\n",
       "       {'height': 640,\n",
       "        'url': 'https://g.redditmedia.com/UgDBvIQO5fQegVTV6-1eizWNR86Rz4K5kVYDMl4vWR4.gif?fit=crop&amp;crop=faces%2Centropy&amp;arh=2&amp;w=640&amp;s=8c01f6efa158b49ee6095810dd879919',\n",
       "        'width': 640}],\n",
       "      'source': {'height': 728,\n",
       "       'url': 'https://g.redditmedia.com/UgDBvIQO5fQegVTV6-1eizWNR86Rz4K5kVYDMl4vWR4.gif?s=13d7f9c7d66411b20acedd0327a39616',\n",
       "       'width': 728}},\n",
       "     'mp4': {'resolutions': [{'height': 108,\n",
       "        'url': 'https://g.redditmedia.com/UgDBvIQO5fQegVTV6-1eizWNR86Rz4K5kVYDMl4vWR4.gif?fit=crop&amp;crop=faces%2Centropy&amp;arh=2&amp;w=108&amp;fm=mp4&amp;mp4-fragmented=false&amp;s=0bfbd5c0bf2effc722aa3cf5f7f95cab',\n",
       "        'width': 108},\n",
       "       {'height': 216,\n",
       "        'url': 'https://g.redditmedia.com/UgDBvIQO5fQegVTV6-1eizWNR86Rz4K5kVYDMl4vWR4.gif?fit=crop&amp;crop=faces%2Centropy&amp;arh=2&amp;w=216&amp;fm=mp4&amp;mp4-fragmented=false&amp;s=3c544c95d88f0e2006b8f093db8d8d40',\n",
       "        'width': 216},\n",
       "       {'height': 320,\n",
       "        'url': 'https://g.redditmedia.com/UgDBvIQO5fQegVTV6-1eizWNR86Rz4K5kVYDMl4vWR4.gif?fit=crop&amp;crop=faces%2Centropy&amp;arh=2&amp;w=320&amp;fm=mp4&amp;mp4-fragmented=false&amp;s=22829f18843bdf4d4142e31925039c19',\n",
       "        'width': 320},\n",
       "       {'height': 640,\n",
       "        'url': 'https://g.redditmedia.com/UgDBvIQO5fQegVTV6-1eizWNR86Rz4K5kVYDMl4vWR4.gif?fit=crop&amp;crop=faces%2Centropy&amp;arh=2&amp;w=640&amp;fm=mp4&amp;mp4-fragmented=false&amp;s=0db7c2c105fed7b59e6638f04169a411',\n",
       "        'width': 640}],\n",
       "      'source': {'height': 728,\n",
       "       'url': 'https://g.redditmedia.com/UgDBvIQO5fQegVTV6-1eizWNR86Rz4K5kVYDMl4vWR4.gif?fm=mp4&amp;mp4-fragmented=false&amp;s=e645e1434dda635f907ac34519a9546f',\n",
       "       'width': 728}}}}],\n",
       "  'reddit_video_preview': {'dash_url': 'https://v.redd.it/ng70kt5tou011/DASHPlaylist.mpd',\n",
       "   'duration': 15,\n",
       "   'fallback_url': 'https://v.redd.it/ng70kt5tou011/DASH_4_8_M',\n",
       "   'height': 720,\n",
       "   'hls_url': 'https://v.redd.it/ng70kt5tou011/HLSPlaylist.m3u8',\n",
       "   'is_gif': True,\n",
       "   'scrubber_media_url': 'https://v.redd.it/ng70kt5tou011/DASH_600_K',\n",
       "   'transcoding_status': 'completed',\n",
       "   'width': 720}},\n",
       " 'pwls': 6,\n",
       " 'quarantine': False,\n",
       " 'removal_reason': None,\n",
       " 'report_reasons': None,\n",
       " 'saved': False,\n",
       " 'score': 18614,\n",
       " 'secure_media': None,\n",
       " 'secure_media_embed': {},\n",
       " 'selftext': '',\n",
       " 'selftext_html': None,\n",
       " 'send_replies': True,\n",
       " 'spoiler': False,\n",
       " 'stickied': False,\n",
       " 'subreddit': 'gifs',\n",
       " 'subreddit_id': 't5_2qt55',\n",
       " 'subreddit_name_prefixed': 'r/gifs',\n",
       " 'subreddit_subscribers': 16162763,\n",
       " 'subreddit_type': 'public',\n",
       " 'suggested_sort': None,\n",
       " 'thumbnail': 'https://b.thumbs.redditmedia.com/SEd91gBUQDPt81P3e4tCw7GP_dMJTt1EPn_R0drvgvM.jpg',\n",
       " 'thumbnail_height': 140,\n",
       " 'thumbnail_width': 140,\n",
       " 'title': 'Millionaire meets billionaire',\n",
       " 'ups': 18614,\n",
       " 'url': 'https://i.imgur.com/MheWXH1.gifv',\n",
       " 'user_reports': [],\n",
       " 'view_count': None,\n",
       " 'visited': False,\n",
       " 'whitelist_status': 'all_ads',\n",
       " 'wls': 6}"
      ]
     },
     "execution_count": 40,
     "metadata": {},
     "output_type": "execute_result"
    }
   ],
   "source": [
    "posts.data[0]"
   ]
  },
  {
   "cell_type": "code",
   "execution_count": null,
   "metadata": {},
   "outputs": [],
   "source": []
  },
  {
   "cell_type": "code",
   "execution_count": null,
   "metadata": {},
   "outputs": [],
   "source": []
  }
 ],
 "metadata": {
  "kernelspec": {
   "display_name": "Python 3",
   "language": "python",
   "name": "python3"
  },
  "language_info": {
   "codemirror_mode": {
    "name": "ipython",
    "version": 3
   },
   "file_extension": ".py",
   "mimetype": "text/x-python",
   "name": "python",
   "nbconvert_exporter": "python",
   "pygments_lexer": "ipython3",
   "version": "3.6.7"
  }
 },
 "nbformat": 4,
 "nbformat_minor": 2
}
