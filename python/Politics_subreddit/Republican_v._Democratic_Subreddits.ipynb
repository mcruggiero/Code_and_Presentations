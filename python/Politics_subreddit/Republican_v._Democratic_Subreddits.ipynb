{
 "cells": [
  {
   "cell_type": "markdown",
   "metadata": {},
   "source": [
    "<img src=\"images/dem-vs-gop.jpg\">"
   ]
  },
  {
   "cell_type": "markdown",
   "metadata": {},
   "source": [
    "# Index\n",
    "\n",
    "1. [Problem Statement](#PS)\n",
    "2. [Data Collection](#Data)\n",
    "3. [EDA](#EDA)\n",
    "    1. [Data Cleaning](#Clean)\n",
    "    2. [Statistics](#Stats)\n",
    "4. [Modeling](#Modeling)\n",
    "    1. [Flattened List Model Selection](#FLM)\n",
    "    2. [Logistic Regression Model](#LRM)\n",
    "    3. [Ada with CountVectorizer vs Ti-Dif](#Ada)\n",
    "    4. [Ada with Title and CountVectorizer/Ti-Dif](#AdaTitle)\n",
    "    5. [Column Selection/recap](#Col)\n",
    "5. [Predictive Model Conclusion](#Conclusion)"
   ]
  },
  {
   "cell_type": "markdown",
   "metadata": {},
   "source": [
    "## 1. Problem Statement <a id = \"PS\"></a>\n",
    "\n",
    "<br>\n",
    "\n",
    "<strong>Given the current partisan climate, understanding the vocabulary differences between the Democratic and Republican subreddits may facilitate future communication among dissonant groups. This project aims to both predict the origin of a partisan subreddit and also understand the different uses of language within these groups. Various predicitive models will be tested and data will be harvested with the Reddit API Praw.</strong>"
   ]
  },
  {
   "cell_type": "markdown",
   "metadata": {},
   "source": [
    "## 2. Data Collection <a id = \"Data\"></a>\n",
    "\n",
    "<br>"
   ]
  },
  {
   "cell_type": "code",
   "execution_count": 15,
   "metadata": {},
   "outputs": [],
   "source": [
    "import praw\n",
    "import pickle\n",
    "import pandas as pd\n",
    "import numpy as np\n",
    "from datetime import datetime as dt"
   ]
  },
  {
   "cell_type": "markdown",
   "metadata": {},
   "source": [
    "<strong>By using the Reddit API, I do not need to worry as much about limiting the data harvest as praw does it for me</strong>"
   ]
  },
  {
   "cell_type": "code",
   "execution_count": 2,
   "metadata": {},
   "outputs": [],
   "source": [
    "reddit = praw.Reddit(client_id='***',\n",
    "                     client_secret='***',\n",
    "                     user_agent='praw', \\\n",
    "                     username='PrawRobot_', \\\n",
    "                     password='****')"
   ]
  },
  {
   "cell_type": "code",
   "execution_count": 18,
   "metadata": {},
   "outputs": [],
   "source": [
    "data_dict = {}\n",
    "\n",
    "#Collect the 1000 top Republican subreddits:\n",
    "right = reddit.subreddit('republican')\n",
    "right_top = right.top(limit=1000)\n",
    "\n",
    "#Collect the 1000 top Democratic subreddits:    \n",
    "left = reddit.subreddit('democrats')\n",
    "left_top = left.top(limit=1000)\n",
    "\n",
    "def data_maker(red_title, d_dict):\n",
    "    for title in red_title:\n",
    "        print(title) #A little progress tracker\n",
    "    \n",
    "        key = str(title.id) + \"_\" + str(title.subreddit)\n",
    "        d_dict[key] = {}\n",
    "        d_dict[key][\"title\"] = title.title\n",
    "        d_dict[key][\"id\"] = title.id\n",
    "        d_dict[key][\"subreddit\"] = title.subreddit\n",
    "        d_dict[key][\"time\"] = dt.fromtimestamp(title.created).strftime('%c')\n",
    "        d_dict[key][\"num_comments\"] = title.num_comments\n",
    "        \n",
    "        submission = reddit.submission(id=title.id)\n",
    "        submission.comments.replace_more(limit=None)\n",
    "        comments = [comment.body for comment in submission.comments.list()]\n",
    "    \n",
    "        d_dict[key][\"comments\"] = comments\n",
    "        \n",
    "    return(d_dict)"
   ]
  },
  {
   "cell_type": "code",
   "execution_count": 20,
   "metadata": {},
   "outputs": [],
   "source": [
    "data_dict = {}\n",
    "\n",
    "data_dict = data_maker(right_top, data_dict)\n",
    "data_dict = data_maker(left_top, data_dict)"
   ]
  },
  {
   "cell_type": "code",
   "execution_count": null,
   "metadata": {},
   "outputs": [],
   "source": [
    "data_dict = {}\n",
    "\n",
    "#Collect the 1000 top Republican subreddits:\n",
    "right = reddit.subreddit('republican')\n",
    "right_top = right.top(limit=1000)\n",
    "\n",
    "#Collect the 1000 top Democratic subreddits:    \n",
    "left = reddit.subreddit('democrats')\n",
    "left_top = left.top(limit=1000)\n",
    "\n",
    "i = 0\n",
    "\n",
    "for title in right_top:\n",
    "    print(i, \"\\t\", title) # A progress tracker\n",
    "    \n",
    "    key = str(title.id) + \"_\" + str(title.subreddit)\n",
    "    data_dict[key] = {}\n",
    "    data_dict[key][\"title\"] = title.title\n",
    "    data_dict[key][\"id\"] = title.id\n",
    "    data_dict[key][\"subreddit\"] = title.subreddit\n",
    "    data_dict[key][\"time\"] = dt.fromtimestamp(title.created).strftime('%c')\n",
    "    data_dict[key][\"num_comments\"] = title.num_comments\n",
    "    \n",
    "    submission = reddit.submission(id=title.id)\n",
    "    submission.comments.replace_more(limit=None)\n",
    "    comments = [comment.body for comment in submission.comments.list()]\n",
    "    \n",
    "    data_dict[key][\"comments\"] = comments\n",
    "    i += 1"
   ]
  },
  {
   "cell_type": "code",
   "execution_count": 284,
   "metadata": {},
   "outputs": [
    {
     "name": "stdout",
     "output_type": "stream",
     "text": [
      "0 \t atkbwd\n",
      "1 \t axz3oi\n",
      "2 \t ao4pso\n",
      "3 \t asul6v\n",
      "4 \t aemlra\n",
      "5 \t av19dd\n",
      "6 \t aizbuk\n",
      "7 \t arlssn\n",
      "8 \t aw7qz1\n",
      "9 \t an2ujz\n",
      "10 \t at5sza\n",
      "11 \t aulyhb\n",
      "12 \t awm1k3\n",
      "13 \t avg3om\n",
      "14 \t ahu3ge\n",
      "15 \t b29czb\n",
      "16 \t 9v0wvf\n",
      "17 \t amgq3y\n",
      "18 \t az76gm\n",
      "19 \t auahip\n",
      "20 \t aqkhlw\n",
      "21 \t anve66\n",
      "22 \t anacem\n",
      "23 \t 9dmmm6\n",
      "24 \t aci274\n",
      "25 \t aq9vay\n",
      "26 \t b1tfuc\n",
      "27 \t 9s12dq\n",
      "28 \t apt4nm\n",
      "29 \t a3dmab\n",
      "30 \t b825l2\n",
      "31 \t azmits\n",
      "32 \t b17euh\n",
      "33 \t ap44xf\n",
      "34 \t araulh\n",
      "35 \t ax0y6l\n",
      "36 \t apmlvw\n",
      "37 \t 94iyq4\n",
      "38 \t ajsq10\n",
      "39 \t 9qp1hp\n",
      "40 \t akrmty\n",
      "41 \t axqi7t\n",
      "42 \t b27j8y\n",
      "43 \t b9u8yc\n",
      "44 \t azx3pp\n",
      "45 \t 9uj3zf\n",
      "46 \t amrsy3\n",
      "47 \t 9k34vl\n",
      "48 \t b3j5dn\n",
      "49 \t b1m5hb\n",
      "50 \t 9lz4rv\n",
      "51 \t apeu59\n",
      "52 \t b631ow\n",
      "53 \t ax75j6\n",
      "54 \t 9v9vro\n",
      "55 \t aydfsc\n",
      "56 \t 9xd9oo\n",
      "57 \t b2io2y\n",
      "58 \t b0pogh\n",
      "59 \t 9u2yg5\n",
      "60 \t aquxek\n",
      "61 \t 9wdoc5\n",
      "62 \t b5uqfi\n",
      "63 \t 9425em\n",
      "64 \t aosn9y\n",
      "65 \t 9rx8jv\n",
      "66 \t atuoim\n",
      "67 \t aoyd0t\n",
      "68 \t 9h4wk6\n",
      "69 \t b0z0vh\n",
      "70 \t aofky0\n",
      "71 \t 9flbyr\n",
      "72 \t am3ovs\n",
      "73 \t anipvf\n",
      "74 \t b8vsmm\n",
      "75 \t axdq45\n",
      "76 \t b31yez\n",
      "77 \t 9q8q95\n",
      "78 \t ajdbns\n",
      "79 \t 9ht83p\n",
      "80 \t 9xyjp0\n",
      "81 \t akipwt\n",
      "82 \t 9mgm7v\n",
      "83 \t 8vs9j4\n",
      "84 \t a7pf5m\n",
      "85 \t 7zo56a\n",
      "86 \t 8e0que\n",
      "87 \t ayiqvq\n",
      "88 \t am5u8g\n",
      "89 \t 97zicr\n",
      "90 \t ar1xby\n",
      "91 \t 8t4qds\n",
      "92 \t 9vgku5\n",
      "93 \t 9uqcia\n",
      "94 \t axkkko\n",
      "95 \t aicxzk\n",
      "96 \t b4d4z0\n",
      "97 \t a5yert\n",
      "98 \t a9ribr\n",
      "99 \t 8z57w6\n",
      "100 \t 9o824a\n",
      "101 \t b071d4\n",
      "102 \t az41y1\n",
      "103 \t 9sk9eq\n",
      "104 \t a7xkfr\n",
      "105 \t agb63v\n",
      "106 \t 9vz68w\n",
      "107 \t aso0tu\n",
      "108 \t b0epns\n",
      "109 \t aa9tl0\n",
      "110 \t b54h9s\n",
      "111 \t b4wcz2\n",
      "112 \t aipvs2\n",
      "113 \t b4mzh5\n",
      "114 \t abrzrg\n",
      "115 \t 95ifof\n",
      "116 \t avpqwi\n",
      "117 \t 811yti\n",
      "118 \t a9601q\n",
      "119 \t ba466g\n",
      "120 \t ajnedd\n",
      "121 \t ayl88i\n",
      "122 \t afm4ji\n",
      "123 \t 8w0030\n",
      "124 \t b6w6s8\n",
      "125 \t 9tdywd\n",
      "126 \t 9o3row\n",
      "127 \t b5eksb\n",
      "128 \t axdeds\n",
      "129 \t 9t92zq\n",
      "130 \t as3sq8\n",
      "131 \t 9jgts3\n",
      "132 \t aewr2b\n",
      "133 \t 8s33d0\n",
      "134 \t 9u948a\n",
      "135 \t 9s923s\n",
      "136 \t 9orl7k\n",
      "137 \t af5oc2\n",
      "138 \t 9x169y\n",
      "139 \t b7bkrx\n",
      "140 \t ayp5cu\n",
      "141 \t ani2kh\n",
      "142 \t 8x149m\n",
      "143 \t b3rszt\n",
      "144 \t aug4xl\n",
      "145 \t ag14za\n",
      "146 \t a20cpo\n",
      "147 \t 9oiynv\n",
      "148 \t 9p1w0d\n",
      "149 \t awli9a\n",
      "150 \t 8uvfdj\n",
      "151 \t aq6fpi\n",
      "152 \t aioeaj\n",
      "153 \t a33hl6\n",
      "154 \t 9vq4io\n",
      "155 \t 9qdxj3\n",
      "156 \t bat6w6\n",
      "157 \t 8f2w0p\n",
      "158 \t b49yg3\n",
      "159 \t b9dvzw\n",
      "160 \t askms2\n",
      "161 \t 9tvei3\n",
      "162 \t ah1w1u\n",
      "163 \t 5c8civ\n",
      "164 \t a9zvy8\n",
      "165 \t 9se2pz\n",
      "166 \t avzupd\n",
      "167 \t abcb2z\n",
      "168 \t 9pn2db\n",
      "169 \t ahaua8\n",
      "170 \t 9rp5ou\n",
      "171 \t anqwcg\n",
      "172 \t ahtgzl\n",
      "173 \t b69wp9\n",
      "174 \t a3rvsm\n",
      "175 \t 9lbg5k\n",
      "176 \t 9uw0aq\n",
      "177 \t adi4ew\n",
      "178 \t 8wfw3t\n",
      "179 \t 9sqeit\n",
      "180 \t b2508a\n",
      "181 \t 9j1xpp\n",
      "182 \t 12go74\n",
      "183 \t ba70u3\n",
      "184 \t 90rwxp\n",
      "185 \t acth6r\n",
      "186 \t 9itrvu\n",
      "187 \t abkzcf\n",
      "188 \t a5prph\n",
      "189 \t b7sfvc\n",
      "190 \t 966aaz\n",
      "191 \t a5eick\n",
      "192 \t b43fhv\n",
      "193 \t akarlh\n",
      "194 \t a87bve\n",
      "195 \t b4ilu1\n",
      "196 \t amd513\n",
      "197 \t 9k9enm\n",
      "198 \t 9tpx9u\n",
      "199 \t al1l0o\n",
      "200 \t 9sz9oa\n",
      "201 \t amuiol\n",
      "202 \t alk8oo\n",
      "203 \t b3scxy\n",
      "204 \t a6zplq\n",
      "205 \t aaw16k\n",
      "206 \t 9uo05b\n",
      "207 \t a2q4nw\n",
      "208 \t aeond9\n",
      "209 \t 9nvlit\n",
      "210 \t 8fyr13\n",
      "211 \t alrxxg\n",
      "212 \t 9udieo\n",
      "213 \t a0ohwf\n",
      "214 \t 9qz3zm\n",
      "215 \t 9pe0a2\n",
      "216 \t 8rjo8c\n",
      "217 \t 9ej59x\n",
      "218 \t a6gv1o\n",
      "219 \t 8nsx8v\n",
      "220 \t b3aptc\n",
      "221 \t ab5e1k\n",
      "222 \t 8swhah\n",
      "223 \t 9vkwvj\n",
      "224 \t 9b0480\n",
      "225 \t 8trb4c\n",
      "226 \t 9l6c88\n",
      "227 \t 924ll5\n",
      "228 \t 9y60g3\n",
      "229 \t amg7go\n",
      "230 \t alpooh\n",
      "231 \t alw3kj\n",
      "232 \t 8v4e5e\n",
      "233 \t a2d956\n",
      "234 \t 9lrpaq\n",
      "235 \t 9jax6u\n",
      "236 \t 8lciau\n",
      "237 \t ascmzg\n",
      "238 \t ban85i\n",
      "239 \t b2wtza\n",
      "240 \t an83li\n",
      "241 \t 9vvp0w\n",
      "242 \t b5ovy4\n",
      "243 \t 91so5o\n",
      "244 \t 9ymxlf\n",
      "245 \t 9rbk04\n",
      "246 \t 8u0hhf\n",
      "247 \t b9aw6x\n",
      "248 \t aeituf\n",
      "249 \t 9l0p7e\n",
      "250 \t 8zaw9i\n",
      "251 \t alwnci\n",
      "252 \t b632m2\n",
      "253 \t a76lnh\n",
      "254 \t b66r0y\n",
      "255 \t 8u9wty\n",
      "256 \t anmd1d\n",
      "257 \t 9g2f76\n",
      "258 \t 9aoe39\n",
      "259 \t 9n4hq8\n",
      "260 \t a0e8gj\n",
      "261 \t 9oetly\n",
      "262 \t 9su2rs\n",
      "263 \t 13x6gq\n",
      "264 \t 9t4e1q\n",
      "265 \t 87iqfu\n",
      "266 \t 2ldgl2\n",
      "267 \t 67ur1q\n",
      "268 \t 9kqa7t\n",
      "269 \t 9ygn1a\n",
      "270 \t baflgl\n",
      "271 \t aebanl\n",
      "272 \t b8lxyq\n",
      "273 \t a0zug2\n",
      "274 \t 9q784p\n",
      "275 \t b6o7g3\n",
      "276 \t b6l5d9\n",
      "277 \t 1ly1ry\n",
      "278 \t 9bykxd\n",
      "279 \t b7nxhn\n",
      "280 \t a8ks1i\n",
      "281 \t 9lfd5k\n",
      "282 \t 8pxz20\n",
      "283 \t b93qi0\n",
      "284 \t 9jy2hx\n",
      "285 \t 95d5fu\n",
      "286 \t albxq1\n",
      "287 \t ae72dt\n",
      "288 \t 8i6arm\n",
      "289 \t 1c0205\n",
      "290 \t 8bxzd6\n",
      "291 \t 91hnzr\n",
      "292 \t 9n9url\n",
      "293 \t b6imuo\n",
      "294 \t 9uvz7n\n",
      "295 \t 7yplko\n",
      "296 \t ad62xv\n",
      "297 \t b59mod\n",
      "298 \t 99sqnl\n",
      "299 \t 8rw1gm\n",
      "300 \t ahhdoy\n",
      "301 \t a16pt1\n",
      "302 \t 9gc36l\n",
      "303 \t 8yzqp5\n",
      "304 \t 5t8vl9\n",
      "305 \t 10xfh4\n",
      "306 \t a6bg7i\n",
      "307 \t 9y9m85\n",
      "308 \t 881zb4\n",
      "309 \t 9i9xi7\n",
      "310 \t 8zruem\n",
      "311 \t b5a4m8\n",
      "312 \t 8eb5v1\n",
      "313 \t ba46dw\n",
      "314 \t ae05k7\n",
      "315 \t 8srlcp\n",
      "316 \t awiexh\n",
      "317 \t a1rzma\n",
      "318 \t 9bjyxc\n",
      "319 \t 938gyp\n",
      "320 \t 8fiphu\n",
      "321 \t aaaxwy\n",
      "322 \t 9yrxms\n",
      "323 \t 8oc0yj\n",
      "324 \t 8bmp5o\n",
      "325 \t a4luyw\n",
      "326 \t 9i6dyw\n",
      "327 \t 8qw4cv\n",
      "328 \t b8qz4y\n",
      "329 \t 1in0wy\n",
      "330 \t afa96o\n",
      "331 \t a2lpc0\n",
      "332 \t 91om7s\n",
      "333 \t 12rxes\n",
      "334 \t 9m5jte\n",
      "335 \t 81yagj\n",
      "336 \t as1ho8\n",
      "337 \t a8c7y3\n",
      "338 \t 9x6355\n",
      "339 \t 9wpay1\n",
      "340 \t 7y5l1x\n",
      "341 \t 9zpud5\n",
      "342 \t baw37s\n",
      "343 \t b74d93\n",
      "344 \t aim310\n",
      "345 \t 9boyhw\n",
      "346 \t vqvgr\n",
      "347 \t 9lmdl1\n",
      "348 \t 10ut81\n",
      "349 \t 9uw0oc\n",
      "350 \t 9qjzq4\n",
      "351 \t 8xpoq1\n",
      "352 \t 9mxpae\n",
      "353 \t 9kkj93\n",
      "354 \t 9jm2tk\n",
      "355 \t 94sht8\n",
      "356 \t 9nmubh\n",
      "357 \t 96zhro\n",
      "358 \t 8tkuxx\n",
      "359 \t 83skxw\n",
      "360 \t b69llo\n",
      "361 \t aiuoqe\n",
      "362 \t a9bb9v\n",
      "363 \t 9lvy33\n",
      "364 \t 9exydh\n",
      "365 \t a7b521\n",
      "366 \t 940n6h\n",
      "367 \t a56qlx\n",
      "368 \t 9ah5li\n",
      "369 \t 8qp9xj\n",
      "370 \t 88hl5b\n",
      "371 \t 9z3bkp\n",
      "372 \t b8i5zv\n",
      "373 \t ak5ku3\n",
      "374 \t 9mejy0\n",
      "375 \t ac69cv\n",
      "376 \t 99zfzl\n",
      "377 \t 9w8c9v\n",
      "378 \t 9110rq\n",
      "379 \t 8m56vn\n",
      "380 \t a4gr6f\n",
      "381 \t 92czt6\n",
      "382 \t 8y0y6n\n",
      "383 \t aomywh\n",
      "384 \t a3p06v\n",
      "385 \t 8xbd64\n",
      "386 \t 8665lk\n",
      "387 \t 9kflvy\n",
      "388 \t 9gowqk\n",
      "389 \t 8wvw0s\n",
      "390 \t 5sb9f6\n",
      "391 \t b7hki9\n",
      "392 \t 92ncrz\n",
      "393 \t avwf0r\n",
      "394 \t 80cuu1\n",
      "395 \t 84docc\n",
      "396 \t 8az698\n",
      "397 \t 8qjmq2\n",
      "398 \t 7vn9ca\n",
      "399 \t 781dm7\n",
      "400 \t 12sous\n",
      "401 \t 98hez4\n",
      "402 \t 8lrg9b\n",
      "403 \t ajaluo\n",
      "404 \t a7kxv6\n",
      "405 \t 9zzoyn\n",
      "406 \t al59i7\n",
      "407 \t 9on1td\n",
      "408 \t 9d13xb\n",
      "409 \t 8ufsyw\n",
      "410 \t 9r6bt1\n",
      "411 \t 8thpkw\n",
      "412 \t 10ycr2\n",
      "413 \t azh4pl\n",
      "414 \t b3xdut\n",
      "415 \t 8irw82\n",
      "416 \t 7hdhmd\n",
      "417 \t aq7560\n",
      "418 \t amsuaf\n",
      "419 \t 7xlnff\n",
      "420 \t ahnihe\n",
      "421 \t agyee5\n",
      "422 \t 8mhlyk\n",
      "423 \t b6329y\n",
      "424 \t aon5xm\n",
      "425 \t 9jtdd7\n",
      "426 \t 9cg4z7\n",
      "427 \t 8ohrao\n",
      "428 \t asfmh1\n",
      "429 \t 9fqoq0\n",
      "430 \t 8nkgxa\n",
      "431 \t avxef2\n",
      "432 \t a41dxu\n",
      "433 \t 9ww50e\n",
      "434 \t b88pxg\n",
      "435 \t 85cnph\n",
      "436 \t aq7b1a\n",
      "437 \t 9wswn7\n",
      "438 \t 9abk6o\n",
      "439 \t 7we2ui\n",
      "440 \t 9riyvf\n",
      "441 \t 97e7v8\n",
      "442 \t 9nfi4h\n",
      "443 \t 8erw9g\n",
      "444 \t 8lzcdb\n",
      "445 \t aioojj\n",
      "446 \t aiagci\n",
      "447 \t znwy3\n",
      "448 \t 8798cc\n",
      "449 \t 80v706\n",
      "450 \t 8b8vpm\n",
      "451 \t afse52\n",
      "452 \t a4wrcf\n",
      "453 \t 96m5k1\n",
      "454 \t 95m5qt\n",
      "455 \t 8shwzl\n",
      "456 \t 9q31x0\n",
      "457 \t 9zlcat\n",
      "458 \t 9tkmhl\n",
      "459 \t 8ygyd7\n",
      "460 \t 86cf6q\n",
      "461 \t 84ovvu\n",
      "462 \t adu4yr\n",
      "463 \t 9fecg5\n",
      "464 \t 8hz66q\n",
      "465 \t ba8ggs\n",
      "466 \t 9wp6j3\n",
      "467 \t 1ls5b1\n",
      "468 \t a706y9\n",
      "469 \t 9fxo3t\n",
      "470 \t 950h2y\n",
      "471 \t b9pao4\n",
      "472 \t 90jtda\n",
      "473 \t 8cmtg4\n",
      "474 \t 9zed8x\n",
      "475 \t 9cb9dk\n",
      "476 \t 8zy14o\n",
      "477 \t 5hpxvb\n",
      "478 \t 10wy0o\n",
      "479 \t au78io\n",
      "480 \t a64mnu\n",
      "481 \t 7vx2fm\n",
      "482 \t 9zudq0\n",
      "483 \t 9r9kuh\n",
      "484 \t 8reofv\n",
      "485 \t 8owijk\n",
      "486 \t 9pyvpq\n",
      "487 \t 9f91av\n",
      "488 \t 8s8h33\n",
      "489 \t 8znw0y\n",
      "490 \t anmk6y\n",
      "491 \t a1iico\n",
      "492 \t 9xu4yy\n",
      "493 \t 99l4sx\n",
      "494 \t 95bb3d\n",
      "495 \t 5cl3as\n",
      "496 \t 8h3swg\n",
      "497 \t 9s5ku7\n",
      "498 \t 9hzdrm\n",
      "499 \t 9hfavo\n",
      "500 \t 5uptgc\n",
      "501 \t 94ep5o\n",
      "502 \t 8drkc8\n",
      "503 \t 9mnp7j\n",
      "504 \t 8go5ts\n",
      "505 \t 8a62pu\n",
      "506 \t 8hhwwu\n",
      "507 \t xtwwy\n",
      "508 \t 9ru4co\n",
      "509 \t 97htjq\n",
      "510 \t b5mwdq\n",
      "511 \t 9igj2p\n",
      "512 \t 8ulbr1\n",
      "513 \t 4af7tq\n",
      "514 \t 9nkp9x\n",
      "515 \t b732eb\n",
      "516 \t 92swlc\n",
      "517 \t 8pf1os\n",
      "518 \t 6qs0dp\n",
      "519 \t 9i2wih\n",
      "520 \t 8fb51z\n",
      "521 \t arxx82\n",
      "522 \t ap5m1o\n",
      "523 \t afj04c\n",
      "524 \t acoayp\n",
      "525 \t 8w6rzp\n",
      "526 \t 83azdv\n",
      "527 \t 8k40o8\n",
      "528 \t 9iq5kc\n",
      "529 \t 1m389a\n",
      "530 \t akojcp\n",
      "531 \t 9gzce4\n",
      "532 \t 93gyqw\n",
      "533 \t 9cordf\n",
      "534 \t 9bsmge\n",
      "535 \t 98dfpc\n",
      "536 \t 9xq62a\n",
      "537 \t 8ncbor\n",
      "538 \t b9fp36\n",
      "539 \t 9e027k\n",
      "540 \t 8fqp27\n",
      "541 \t ba3oaf\n",
      "542 \t b75jtw\n",
      "543 \t 93q8ea\n",
      "544 \t 7yk7dl\n",
      "545 \t b8rgc4\n",
      "546 \t 7ew1os\n",
      "547 \t 8n1oyg\n",
      "548 \t 11n2ue\n",
      "549 \t b1fz9i\n",
      "550 \t axob2w\n",
      "551 \t a4ak93\n",
      "552 \t 9q0n2c\n",
      "553 \t 85voro\n",
      "554 \t 1rlkd8\n",
      "555 \t 9lg7b3\n",
      "556 \t 1cc5wr\n",
      "557 \t 905q0h\n",
      "558 \t 874rtn\n",
      "559 \t b1ts0u\n",
      "560 \t a8vakd\n",
      "561 \t 9pittv\n",
      "562 \t 92dc4g\n",
      "563 \t 8ypil2\n",
      "564 \t b9hpzd\n",
      "565 \t ayy5dj\n",
      "566 \t rjmjb\n",
      "567 \t b30r92\n",
      "568 \t 95zru2\n",
      "569 \t 6iel49\n",
      "570 \t 14v0nk\n",
      "571 \t a2z5zm\n",
      "572 \t 9t1lkr\n",
      "573 \t 5dm952\n",
      "574 \t al83hl\n",
      "575 \t 9e8wt2\n",
      "576 \t 9e3uar\n",
      "577 \t 96rvex\n",
      "578 \t 8yl1a4\n",
      "579 \t 9q3u2e\n",
      "580 \t 5uy4xd\n",
      "581 \t 121ysa\n",
      "582 \t asfzlx\n",
      "583 \t 1dzj1x\n",
      "584 \t 9fh5cf\n",
      "585 \t 8r0w75\n",
      "586 \t 9esbxc\n",
      "587 \t 2lldg4\n",
      "588 \t 12f59n\n",
      "589 \t 9xw4if\n",
      "590 \t 9n0bpi\n",
      "591 \t 96a97f\n",
      "592 \t 90etut\n",
      "593 \t 5m39op\n",
      "594 \t 8bgylc\n",
      "595 \t 88r0ih\n",
      "596 \t acudif\n",
      "597 \t aceky0\n",
      "598 \t 8gjaj4\n",
      "599 \t b7dk8p\n",
      "600 \t 8d1aq4\n",
      "601 \t 6vlyup\n",
      "602 \t 8vjf6a\n",
      "603 \t 8t2o9q\n",
      "604 \t av6g1p\n",
      "605 \t ajk2f0\n",
      "606 \t 8api1c\n",
      "607 \t 11xvl3\n",
      "608 \t b3xd4z\n",
      "609 \t 93dvhs\n",
      "610 \t 8qf1io\n",
      "611 \t 7vex95\n",
      "612 \t 1ick3k\n",
      "613 \t azkyr8\n",
      "614 \t 4lpxll\n",
      "615 \t ah1udf\n",
      "616 \t 8hqj74\n",
      "617 \t 9uvze0\n",
      "618 \t 8p4n8e\n",
      "619 \t 89ojko\n",
      "620 \t 3p2mja\n",
      "621 \t a9z7bv\n",
      "622 \t 9dbw65\n",
      "623 \t 8inybm\n",
      "624 \t 8d5rc8\n",
      "625 \t 3lflcs\n",
      "626 \t ar4buw\n",
      "627 \t ai6pxn\n",
      "628 \t 9pe4ri\n",
      "629 \t 8r4uhy\n",
      "630 \t 7c8a5w\n",
      "631 \t 9f36mz\n",
      "632 \t 8ejuq0\n",
      "633 \t 1uzynk\n",
      "634 \t 1ble64\n",
      "635 \t z8b9t\n",
      "636 \t 9nsrho\n",
      "637 \t 931lk6\n",
      "638 \t b5cndp\n",
      "639 \t a4si64\n"
     ]
    },
    {
     "name": "stdout",
     "output_type": "stream",
     "text": [
      "640 \t 9cw1lx\n",
      "641 \t 9eegj0\n",
      "642 \t 9bgcs7\n",
      "643 \t 87pbi8\n",
      "644 \t au3kvp\n",
      "645 \t 8j6khc\n",
      "646 \t 85sjmt\n",
      "647 \t 6eplot\n",
      "648 \t 7l45w3\n",
      "649 \t 6l7z49\n",
      "650 \t 8sme6o\n",
      "651 \t 7snh08\n",
      "652 \t 5c2f8o\n",
      "653 \t 1ito8k\n",
      "654 \t 7pgkxe\n",
      "655 \t b3xdn7\n",
      "656 \t aolt68\n",
      "657 \t ak3ebl\n",
      "658 \t 887p2l\n",
      "659 \t 7oljbj\n",
      "660 \t za73x\n",
      "661 \t 9kx156\n",
      "662 \t 85lj3z\n",
      "663 \t 4rnnq1\n",
      "664 \t 9gxecl\n",
      "665 \t 895axq\n",
      "666 \t ay0j3h\n",
      "667 \t ahjdmn\n",
      "668 \t 10xyfb\n",
      "669 \t 1irlr2\n",
      "670 \t 9b99kz\n",
      "671 \t 97ohe4\n",
      "672 \t 8pslsy\n",
      "673 \t 42tr1o\n",
      "674 \t 8pn2m5\n",
      "675 \t 8jcqxb\n",
      "676 \t 8ciu4x\n",
      "677 \t 4h6obe\n",
      "678 \t 1rxcrj\n",
      "679 \t 9uvb0k\n",
      "680 \t 98tiel\n",
      "681 \t a26l0h\n",
      "682 \t 8082b8\n",
      "683 \t 11x0da\n",
      "684 \t 8y9re3\n",
      "685 \t 89ccqj\n",
      "686 \t 7b1w5y\n",
      "687 \t 6teauc\n",
      "688 \t agcgbq\n",
      "689 \t akg10j\n",
      "690 \t 9gjt43\n",
      "691 \t 996v1e\n",
      "692 \t 7bgt8i\n",
      "693 \t 98c3mu\n",
      "694 \t 8ksmem\n",
      "695 \t 82oarb\n",
      "696 \t 9hpvm9\n",
      "697 \t 11btgd\n",
      "698 \t sk7sp\n",
      "699 \t 8vro52\n",
      "700 \t 8rajg5\n",
      "701 \t 7baxvf\n",
      "702 \t 4uivhj\n",
      "703 \t a0knom\n",
      "704 \t 7zwnp6\n",
      "705 \t 7dewv7\n",
      "706 \t 1eb5em\n",
      "707 \t 15c5j4\n",
      "708 \t 9eoh48\n",
      "709 \t 11dk5a\n",
      "710 \t 89yptj\n",
      "711 \t 11oyn2\n",
      "712 \t 9f6n3g\n",
      "713 \t 9786cc\n",
      "714 \t 8iyjlp\n",
      "715 \t 5qx5ez\n",
      "716 \t 8wes5f\n",
      "717 \t 60usdp\n",
      "718 \t 3oqnyc\n",
      "719 \t 9p6gun\n",
      "720 \t 9a3kct\n",
      "721 \t 7hl2be\n",
      "722 \t 5tdxxq\n",
      "723 \t uomx8\n",
      "724 \t 9hb9g8\n",
      "725 \t 8cvkts\n",
      "726 \t 7xyu57\n",
      "727 \t 1h9npe\n",
      "728 \t ars2r7\n",
      "729 \t 9yzpo7\n",
      "730 \t 9teko8\n",
      "731 \t b1fe9x\n",
      "732 \t 9pvz1d\n",
      "733 \t 9inpl7\n",
      "734 \t 8v2t8a\n",
      "735 \t 6mn20u\n",
      "736 \t 25u3i7\n",
      "737 \t 11evbk\n",
      "738 \t 7e24io\n",
      "739 \t 5vzn8f\n",
      "740 \t a91ffn\n",
      "741 \t 8xj0g7\n",
      "742 \t 1d1asi\n",
      "743 \t 9h2ivq\n",
      "744 \t 8ljr53\n",
      "745 \t 6teb1x\n",
      "746 \t 1z9qpv\n",
      "747 \t a83mn8\n",
      "748 \t 99x5e8\n",
      "749 \t 1aj22m\n",
      "750 \t arf5eh\n",
      "751 \t 8p2dge\n",
      "752 \t 86njw8\n",
      "753 \t 1px2d3\n",
      "754 \t 12qc0h\n",
      "755 \t zfg0z\n",
      "756 \t asgtq8\n",
      "757 \t 9bcm5x\n",
      "758 \t 96iaya\n",
      "759 \t 8mq59a\n",
      "760 \t 6bryq0\n",
      "761 \t aal1il\n",
      "762 \t 9f232j\n",
      "763 \t 4qrmcv\n",
      "764 \t 9kx1an\n",
      "765 \t 9jpg4w\n",
      "766 \t 8jc7cg\n",
      "767 \t 7x2kkc\n",
      "768 \t 7gm84k\n",
      "769 \t 1ctt0a\n",
      "770 \t awbt11\n",
      "771 \t 8rpy25\n",
      "772 \t 8pnb3u\n",
      "773 \t 8nzpzt\n",
      "774 \t 6s6jnf\n",
      "775 \t 5qrxuj\n",
      "776 \t 82yi5j\n",
      "777 \t 1d09zc\n",
      "778 \t b3q216\n",
      "779 \t 843zii\n",
      "780 \t 81au5x\n",
      "781 \t 19crpe\n",
      "782 \t avd7sv\n",
      "783 \t 99ejj1\n",
      "784 \t 91nfaj\n",
      "785 \t 8q9bva\n",
      "786 \t 87rtzs\n",
      "787 \t b6qdsj\n",
      "788 \t 9hkq4q\n",
      "789 \t azu4sb\n",
      "790 \t 8ad0w2\n",
      "791 \t 82uds3\n",
      "792 \t 7yc0jj\n",
      "793 \t 9vfy6e\n",
      "794 \t 9l6s9x\n",
      "795 \t 6u3o11\n",
      "796 \t 5cyzi2\n",
      "797 \t 5byj5v\n",
      "798 \t 45g21n\n",
      "799 \t 123ai1\n",
      "800 \t 8vk3b1\n",
      "801 \t 7r3gio\n",
      "802 \t 3tazwn\n",
      "803 \t 3ic9ev\n",
      "804 \t 12vb7x\n",
      "805 \t ad2544\n",
      "806 \t 9wukxp\n",
      "807 \t 94bslr\n",
      "808 \t a018uy\n",
      "809 \t 8wacco\n",
      "810 \t 4v9ia2\n",
      "811 \t 1ivxxl\n",
      "812 \t 9q3a0t\n",
      "813 \t 7uo11k\n",
      "814 \t anmfsc\n",
      "815 \t 8kn5a7\n",
      "816 \t 6c790v\n",
      "817 \t 6a9r5a\n",
      "818 \t z0n54\n",
      "819 \t 9gyfe8\n",
      "820 \t 7lpvuf\n",
      "821 \t au1seq\n",
      "822 \t aiptr8\n",
      "823 \t 7cfyen\n",
      "824 \t 6tzn7k\n",
      "825 \t 4ya1oq\n",
      "826 \t 1cjbct\n",
      "827 \t 10fc31\n",
      "828 \t amfvz1\n",
      "829 \t akzyro\n",
      "830 \t 957iqi\n",
      "831 \t 7z9xjo\n",
      "832 \t 1az3d1\n",
      "833 \t 181bk3\n",
      "834 \t 89unxg\n",
      "835 \t 870jif\n",
      "836 \t 8k8s2f\n",
      "837 \t 63iiy7\n",
      "838 \t 2l9y00\n",
      "839 \t ahcptc\n",
      "840 \t 8xwkfh\n",
      "841 \t 8jok8u\n",
      "842 \t 6e1163\n",
      "843 \t 66hdov\n",
      "844 \t 5qcts2\n",
      "845 \t 4085p0\n",
      "846 \t 11te1o\n",
      "847 \t 9mxe40\n",
      "848 \t 9g8cv6\n",
      "849 \t 922xrk\n",
      "850 \t 8kcvqm\n",
      "851 \t 81f9hp\n",
      "852 \t 6oco05\n",
      "853 \t 5x13h1\n",
      "854 \t 1105qu\n",
      "855 \t a9zgda\n",
      "856 \t 8wbb6f\n",
      "857 \t 8dg1e3\n",
      "858 \t 6qwp4u\n",
      "859 \t 1jfuay\n",
      "860 \t 9h10c0\n",
      "861 \t 9877z0\n",
      "862 \t 7xss8s\n",
      "863 \t 7d88ht\n",
      "864 \t 6zuhta\n",
      "865 \t 6zgde5\n",
      "866 \t 3j19ug\n",
      "867 \t 1hpwwo\n",
      "868 \t 11q5z9\n",
      "869 \t ywjkp\n",
      "870 \t b6338i\n",
      "871 \t 94anux\n",
      "872 \t 8mtbxb\n",
      "873 \t b7u2l3\n",
      "874 \t 91ll9l\n",
      "875 \t 8m9kpe\n",
      "876 \t 8do1d6\n",
      "877 \t 7a3hf5\n",
      "878 \t 19l617\n",
      "879 \t 13529k\n",
      "880 \t ykw22\n",
      "881 \t 7uz4gf\n",
      "882 \t 6q23op\n",
      "883 \t 5elm5d\n",
      "884 \t 11cisr\n",
      "885 \t b5a64k\n",
      "886 \t a6r8ld\n",
      "887 \t 8tee9x\n",
      "888 \t 7uatsw\n",
      "889 \t 7btfw3\n",
      "890 \t 6yg1m3\n",
      "891 \t 5d29vw\n",
      "892 \t ajonzy\n",
      "893 \t agnguk\n",
      "894 \t adqzyc\n",
      "895 \t 98ba9h\n",
      "896 \t 7nfnj0\n",
      "897 \t 7cn2e1\n",
      "898 \t 76pchx\n",
      "899 \t 1ix2h7\n",
      "900 \t 8ah37s\n",
      "901 \t 83l7cv\n",
      "902 \t 7lwrr9\n",
      "903 \t 6em1v5\n",
      "904 \t 49yopb\n",
      "905 \t 1fp9xj\n",
      "906 \t 1doi4k\n",
      "907 \t al212p\n",
      "908 \t 9a5mv3\n",
      "909 \t 7b5f03\n",
      "910 \t 6hbmbz\n",
      "911 \t 59vnz0\n",
      "912 \t 9vfz85\n",
      "913 \t 5qoafq\n",
      "914 \t 5qk3rw\n",
      "915 \t 1f5qlv\n",
      "916 \t 188jus\n",
      "917 \t 16kdd6\n",
      "918 \t b2h0js\n",
      "919 \t 77mt9m\n",
      "920 \t 5wsp63\n",
      "921 \t 57y7lp\n",
      "922 \t 3vyfby\n",
      "923 \t 1d8qh2\n",
      "924 \t 182p8n\n",
      "925 \t vk9vi\n",
      "926 \t 83hpmd\n",
      "927 \t 5pnp2p\n",
      "928 \t 4tz4vi\n",
      "929 \t 4gzgke\n",
      "930 \t 1wwb1g\n",
      "931 \t ab82jh\n",
      "932 \t 9nrnno\n",
      "933 \t 8l2i1z\n",
      "934 \t 7seg6r\n",
      "935 \t 62hjaa\n",
      "936 \t 5wh7c8\n",
      "937 \t 5pp6nm\n",
      "938 \t 1rhze4\n",
      "939 \t 1nwh20\n",
      "940 \t azg9lx\n",
      "941 \t augp9w\n",
      "942 \t 9m8tjt\n",
      "943 \t 9c8ayn\n",
      "944 \t 8h9s9n\n",
      "945 \t 7uc0w7\n",
      "946 \t 18ujt0\n",
      "947 \t 10i6ym\n",
      "948 \t zcc74\n",
      "949 \t aic556\n",
      "950 \t 8kcetg\n",
      "951 \t 4er8yb\n",
      "952 \t 1pfcqh\n",
      "953 \t 9w3swg\n",
      "954 \t 9txtk2\n",
      "955 \t 6nxlvi\n",
      "956 \t 6j2b0k\n",
      "957 \t 5k8lnz\n",
      "958 \t 1rduzx\n",
      "959 \t 9p0gmy\n",
      "960 \t 8tcnpe\n",
      "961 \t 7wvnsv\n",
      "962 \t 768wwi\n",
      "963 \t 5x7hx1\n",
      "964 \t 5q4jhq\n",
      "965 \t 5nkdy0\n",
      "966 \t 4399q3\n",
      "967 \t uuyl5\n",
      "968 \t b05ren\n",
      "969 \t a08tcr\n",
      "970 \t 861utr\n",
      "971 \t 829n5u\n",
      "972 \t 7mv9za\n",
      "973 \t 7hye2v\n",
      "974 \t 6hzh2t\n",
      "975 \t 6d1ysb\n",
      "976 \t 5g3263\n",
      "977 \t b9ch9m\n",
      "978 \t 98n504\n",
      "979 \t 92383t\n",
      "980 \t 8jla4t\n",
      "981 \t 8hrfse\n",
      "982 \t 5phpkp\n",
      "983 \t 5ndw5t\n",
      "984 \t a655nw\n",
      "985 \t 97xj1k\n",
      "986 \t 6dgm6m\n",
      "987 \t 6cwtyl\n",
      "988 \t 48g898\n",
      "989 \t 11vit5\n",
      "990 \t b5qgxh\n",
      "991 \t 9py54y\n",
      "992 \t 7xhtqk\n",
      "993 \t 7pcpjo\n",
      "994 \t 7jgla0\n",
      "995 \t 5bg6lm\n",
      "996\n",
      "997\n",
      "998\n",
      "999\n",
      "1000\n",
      "1001\n",
      "1002\n",
      "1003\n",
      "1004\n",
      "1005\n",
      "1006\n",
      "1007\n",
      "1008\n",
      "1009\n",
      "1010\n",
      "1011\n",
      "1012\n"
     ]
    },
    {
     "ename": "KeyboardInterrupt",
     "evalue": "",
     "output_type": "error",
     "traceback": [
      "\u001b[0;31m---------------------------------------------------------------------------\u001b[0m",
      "\u001b[0;31mKeyboardInterrupt\u001b[0m                         Traceback (most recent call last)",
      "\u001b[0;32m<ipython-input-284-2c6ae1d89301>\u001b[0m in \u001b[0;36m<module>\u001b[0;34m\u001b[0m\n\u001b[1;32m     40\u001b[0m \u001b[0;34m\u001b[0m\u001b[0m\n\u001b[1;32m     41\u001b[0m     \u001b[0msubmission\u001b[0m \u001b[0;34m=\u001b[0m \u001b[0mreddit\u001b[0m\u001b[0;34m.\u001b[0m\u001b[0msubmission\u001b[0m\u001b[0;34m(\u001b[0m\u001b[0mid\u001b[0m\u001b[0;34m=\u001b[0m\u001b[0mtitle\u001b[0m\u001b[0;34m.\u001b[0m\u001b[0mid\u001b[0m\u001b[0;34m)\u001b[0m\u001b[0;34m\u001b[0m\u001b[0;34m\u001b[0m\u001b[0m\n\u001b[0;32m---> 42\u001b[0;31m     \u001b[0msubmission\u001b[0m\u001b[0;34m.\u001b[0m\u001b[0mcomments\u001b[0m\u001b[0;34m.\u001b[0m\u001b[0mreplace_more\u001b[0m\u001b[0;34m(\u001b[0m\u001b[0mlimit\u001b[0m\u001b[0;34m=\u001b[0m\u001b[0;32mNone\u001b[0m\u001b[0;34m)\u001b[0m\u001b[0;34m\u001b[0m\u001b[0;34m\u001b[0m\u001b[0m\n\u001b[0m\u001b[1;32m     43\u001b[0m     \u001b[0mcomments\u001b[0m \u001b[0;34m=\u001b[0m \u001b[0;34m[\u001b[0m\u001b[0mcomment\u001b[0m\u001b[0;34m.\u001b[0m\u001b[0mbody\u001b[0m \u001b[0;32mfor\u001b[0m \u001b[0mcomment\u001b[0m \u001b[0;32min\u001b[0m \u001b[0msubmission\u001b[0m\u001b[0;34m.\u001b[0m\u001b[0mcomments\u001b[0m\u001b[0;34m.\u001b[0m\u001b[0mlist\u001b[0m\u001b[0;34m(\u001b[0m\u001b[0;34m)\u001b[0m\u001b[0;34m]\u001b[0m\u001b[0;34m\u001b[0m\u001b[0;34m\u001b[0m\u001b[0m\n\u001b[1;32m     44\u001b[0m \u001b[0;34m\u001b[0m\u001b[0m\n",
      "\u001b[0;32m~/anaconda3/envs/maker/lib/python3.6/site-packages/praw/models/comment_forest.py\u001b[0m in \u001b[0;36mreplace_more\u001b[0;34m(self, limit, threshold)\u001b[0m\n\u001b[1;32m    160\u001b[0m                 \u001b[0;32mcontinue\u001b[0m\u001b[0;34m\u001b[0m\u001b[0;34m\u001b[0m\u001b[0m\n\u001b[1;32m    161\u001b[0m \u001b[0;34m\u001b[0m\u001b[0m\n\u001b[0;32m--> 162\u001b[0;31m             \u001b[0mnew_comments\u001b[0m \u001b[0;34m=\u001b[0m \u001b[0mitem\u001b[0m\u001b[0;34m.\u001b[0m\u001b[0mcomments\u001b[0m\u001b[0;34m(\u001b[0m\u001b[0mupdate\u001b[0m\u001b[0;34m=\u001b[0m\u001b[0;32mFalse\u001b[0m\u001b[0;34m)\u001b[0m\u001b[0;34m\u001b[0m\u001b[0;34m\u001b[0m\u001b[0m\n\u001b[0m\u001b[1;32m    163\u001b[0m             \u001b[0;32mif\u001b[0m \u001b[0mremaining\u001b[0m \u001b[0;32mis\u001b[0m \u001b[0;32mnot\u001b[0m \u001b[0;32mNone\u001b[0m\u001b[0;34m:\u001b[0m\u001b[0;34m\u001b[0m\u001b[0;34m\u001b[0m\u001b[0m\n\u001b[1;32m    164\u001b[0m                 \u001b[0mremaining\u001b[0m \u001b[0;34m-=\u001b[0m \u001b[0;36m1\u001b[0m\u001b[0;34m\u001b[0m\u001b[0;34m\u001b[0m\u001b[0m\n",
      "\u001b[0;32m~/anaconda3/envs/maker/lib/python3.6/site-packages/praw/models/reddit/more.py\u001b[0m in \u001b[0;36mcomments\u001b[0;34m(self, update)\u001b[0m\n\u001b[1;32m     63\u001b[0m                     'sort': self.submission.comment_sort}\n\u001b[1;32m     64\u001b[0m             self._comments = self._reddit.post(API_PATH['morechildren'],\n\u001b[0;32m---> 65\u001b[0;31m                                                data=data)\n\u001b[0m\u001b[1;32m     66\u001b[0m             \u001b[0;32mif\u001b[0m \u001b[0mupdate\u001b[0m\u001b[0;34m:\u001b[0m\u001b[0;34m\u001b[0m\u001b[0;34m\u001b[0m\u001b[0m\n\u001b[1;32m     67\u001b[0m                 \u001b[0;32mfor\u001b[0m \u001b[0mcomment\u001b[0m \u001b[0;32min\u001b[0m \u001b[0mself\u001b[0m\u001b[0;34m.\u001b[0m\u001b[0m_comments\u001b[0m\u001b[0;34m:\u001b[0m\u001b[0;34m\u001b[0m\u001b[0;34m\u001b[0m\u001b[0m\n",
      "\u001b[0;32m~/anaconda3/envs/maker/lib/python3.6/site-packages/praw/reddit.py\u001b[0m in \u001b[0;36mpost\u001b[0;34m(self, path, data, files, params)\u001b[0m\n\u001b[1;32m    480\u001b[0m         \"\"\"\n\u001b[1;32m    481\u001b[0m         data = self.request('POST', path, data=data or {}, files=files,\n\u001b[0;32m--> 482\u001b[0;31m                             params=params)\n\u001b[0m\u001b[1;32m    483\u001b[0m         \u001b[0;32mreturn\u001b[0m \u001b[0mself\u001b[0m\u001b[0;34m.\u001b[0m\u001b[0m_objector\u001b[0m\u001b[0;34m.\u001b[0m\u001b[0mobjectify\u001b[0m\u001b[0;34m(\u001b[0m\u001b[0mdata\u001b[0m\u001b[0;34m)\u001b[0m\u001b[0;34m\u001b[0m\u001b[0;34m\u001b[0m\u001b[0m\n\u001b[1;32m    484\u001b[0m \u001b[0;34m\u001b[0m\u001b[0m\n",
      "\u001b[0;32m~/anaconda3/envs/maker/lib/python3.6/site-packages/praw/reddit.py\u001b[0m in \u001b[0;36mrequest\u001b[0;34m(self, method, path, params, data, files)\u001b[0m\n\u001b[1;32m    532\u001b[0m         \"\"\"\n\u001b[1;32m    533\u001b[0m         return self._core.request(method, path, data=data, files=files,\n\u001b[0;32m--> 534\u001b[0;31m                                   params=params)\n\u001b[0m\u001b[1;32m    535\u001b[0m \u001b[0;34m\u001b[0m\u001b[0m\n\u001b[1;32m    536\u001b[0m     def submission(  # pylint: disable=invalid-name,redefined-builtin\n",
      "\u001b[0;32m~/anaconda3/envs/maker/lib/python3.6/site-packages/prawcore/sessions.py\u001b[0m in \u001b[0;36mrequest\u001b[0;34m(self, method, path, data, files, json, params)\u001b[0m\n\u001b[1;32m    180\u001b[0m         return self._request_with_retries(\n\u001b[1;32m    181\u001b[0m             \u001b[0mdata\u001b[0m\u001b[0;34m=\u001b[0m\u001b[0mdata\u001b[0m\u001b[0;34m,\u001b[0m \u001b[0mfiles\u001b[0m\u001b[0;34m=\u001b[0m\u001b[0mfiles\u001b[0m\u001b[0;34m,\u001b[0m \u001b[0mjson\u001b[0m\u001b[0;34m=\u001b[0m\u001b[0mjson\u001b[0m\u001b[0;34m,\u001b[0m \u001b[0mmethod\u001b[0m\u001b[0;34m=\u001b[0m\u001b[0mmethod\u001b[0m\u001b[0;34m,\u001b[0m\u001b[0;34m\u001b[0m\u001b[0;34m\u001b[0m\u001b[0m\n\u001b[0;32m--> 182\u001b[0;31m             params=params, url=url)\n\u001b[0m\u001b[1;32m    183\u001b[0m \u001b[0;34m\u001b[0m\u001b[0m\n\u001b[1;32m    184\u001b[0m \u001b[0;34m\u001b[0m\u001b[0m\n",
      "\u001b[0;32m~/anaconda3/envs/maker/lib/python3.6/site-packages/prawcore/sessions.py\u001b[0m in \u001b[0;36m_request_with_retries\u001b[0;34m(self, data, files, json, method, params, url, retries)\u001b[0m\n\u001b[1;32m    111\u001b[0m         \u001b[0mself\u001b[0m\u001b[0;34m.\u001b[0m\u001b[0m_log_request\u001b[0m\u001b[0;34m(\u001b[0m\u001b[0mdata\u001b[0m\u001b[0;34m,\u001b[0m \u001b[0mmethod\u001b[0m\u001b[0;34m,\u001b[0m \u001b[0mparams\u001b[0m\u001b[0;34m,\u001b[0m \u001b[0murl\u001b[0m\u001b[0;34m)\u001b[0m\u001b[0;34m\u001b[0m\u001b[0;34m\u001b[0m\u001b[0m\n\u001b[1;32m    112\u001b[0m         response, saved_exception = self._make_request(\n\u001b[0;32m--> 113\u001b[0;31m             data, files, json, method, params, retries, url)\n\u001b[0m\u001b[1;32m    114\u001b[0m \u001b[0;34m\u001b[0m\u001b[0m\n\u001b[1;32m    115\u001b[0m         \u001b[0mdo_retry\u001b[0m \u001b[0;34m=\u001b[0m \u001b[0;32mFalse\u001b[0m\u001b[0;34m\u001b[0m\u001b[0;34m\u001b[0m\u001b[0m\n",
      "\u001b[0;32m~/anaconda3/envs/maker/lib/python3.6/site-packages/prawcore/sessions.py\u001b[0m in \u001b[0;36m_make_request\u001b[0;34m(self, data, files, json, method, params, retries, url)\u001b[0m\n\u001b[1;32m     96\u001b[0m                 \u001b[0mself\u001b[0m\u001b[0;34m.\u001b[0m\u001b[0m_requestor\u001b[0m\u001b[0;34m.\u001b[0m\u001b[0mrequest\u001b[0m\u001b[0;34m,\u001b[0m \u001b[0mself\u001b[0m\u001b[0;34m.\u001b[0m\u001b[0m_set_header_callback\u001b[0m\u001b[0;34m,\u001b[0m \u001b[0mmethod\u001b[0m\u001b[0;34m,\u001b[0m\u001b[0;34m\u001b[0m\u001b[0;34m\u001b[0m\u001b[0m\n\u001b[1;32m     97\u001b[0m                 \u001b[0murl\u001b[0m\u001b[0;34m,\u001b[0m \u001b[0mallow_redirects\u001b[0m\u001b[0;34m=\u001b[0m\u001b[0;32mFalse\u001b[0m\u001b[0;34m,\u001b[0m \u001b[0mdata\u001b[0m\u001b[0;34m=\u001b[0m\u001b[0mdata\u001b[0m\u001b[0;34m,\u001b[0m \u001b[0mfiles\u001b[0m\u001b[0;34m=\u001b[0m\u001b[0mfiles\u001b[0m\u001b[0;34m,\u001b[0m \u001b[0mjson\u001b[0m\u001b[0;34m=\u001b[0m\u001b[0mjson\u001b[0m\u001b[0;34m,\u001b[0m\u001b[0;34m\u001b[0m\u001b[0;34m\u001b[0m\u001b[0m\n\u001b[0;32m---> 98\u001b[0;31m                 params=params)\n\u001b[0m\u001b[1;32m     99\u001b[0m             log.debug('Response: {} ({} bytes)'.format(\n\u001b[1;32m    100\u001b[0m                 response.status_code, response.headers.get('content-length')))\n",
      "\u001b[0;32m~/anaconda3/envs/maker/lib/python3.6/site-packages/prawcore/rate_limit.py\u001b[0m in \u001b[0;36mcall\u001b[0;34m(self, request_function, set_header_callback, *args, **kwargs)\u001b[0m\n\u001b[1;32m     29\u001b[0m \u001b[0;34m\u001b[0m\u001b[0m\n\u001b[1;32m     30\u001b[0m         \"\"\"\n\u001b[0;32m---> 31\u001b[0;31m         \u001b[0mself\u001b[0m\u001b[0;34m.\u001b[0m\u001b[0mdelay\u001b[0m\u001b[0;34m(\u001b[0m\u001b[0;34m)\u001b[0m\u001b[0;34m\u001b[0m\u001b[0;34m\u001b[0m\u001b[0m\n\u001b[0m\u001b[1;32m     32\u001b[0m         \u001b[0mkwargs\u001b[0m\u001b[0;34m[\u001b[0m\u001b[0;34m'headers'\u001b[0m\u001b[0;34m]\u001b[0m \u001b[0;34m=\u001b[0m \u001b[0mset_header_callback\u001b[0m\u001b[0;34m(\u001b[0m\u001b[0;34m)\u001b[0m\u001b[0;34m\u001b[0m\u001b[0;34m\u001b[0m\u001b[0m\n\u001b[1;32m     33\u001b[0m         \u001b[0mresponse\u001b[0m \u001b[0;34m=\u001b[0m \u001b[0mrequest_function\u001b[0m\u001b[0;34m(\u001b[0m\u001b[0;34m*\u001b[0m\u001b[0margs\u001b[0m\u001b[0;34m,\u001b[0m \u001b[0;34m**\u001b[0m\u001b[0mkwargs\u001b[0m\u001b[0;34m)\u001b[0m\u001b[0;34m\u001b[0m\u001b[0;34m\u001b[0m\u001b[0m\n",
      "\u001b[0;32m~/anaconda3/envs/maker/lib/python3.6/site-packages/prawcore/rate_limit.py\u001b[0m in \u001b[0;36mdelay\u001b[0;34m(self)\u001b[0m\n\u001b[1;32m     42\u001b[0m         \u001b[0;32mif\u001b[0m \u001b[0msleep_seconds\u001b[0m \u001b[0;34m<=\u001b[0m \u001b[0;36m0\u001b[0m\u001b[0;34m:\u001b[0m\u001b[0;34m\u001b[0m\u001b[0;34m\u001b[0m\u001b[0m\n\u001b[1;32m     43\u001b[0m             \u001b[0;32mreturn\u001b[0m\u001b[0;34m\u001b[0m\u001b[0;34m\u001b[0m\u001b[0m\n\u001b[0;32m---> 44\u001b[0;31m         \u001b[0mtime\u001b[0m\u001b[0;34m.\u001b[0m\u001b[0msleep\u001b[0m\u001b[0;34m(\u001b[0m\u001b[0msleep_seconds\u001b[0m\u001b[0;34m)\u001b[0m\u001b[0;34m\u001b[0m\u001b[0;34m\u001b[0m\u001b[0m\n\u001b[0m\u001b[1;32m     45\u001b[0m \u001b[0;34m\u001b[0m\u001b[0m\n\u001b[1;32m     46\u001b[0m     \u001b[0;32mdef\u001b[0m \u001b[0mupdate\u001b[0m\u001b[0;34m(\u001b[0m\u001b[0mself\u001b[0m\u001b[0;34m,\u001b[0m \u001b[0mresponse_headers\u001b[0m\u001b[0;34m)\u001b[0m\u001b[0;34m:\u001b[0m\u001b[0;34m\u001b[0m\u001b[0;34m\u001b[0m\u001b[0m\n",
      "\u001b[0;31mKeyboardInterrupt\u001b[0m: "
     ]
    }
   ],
   "source": [
    "data_dict = {}\n",
    "\n",
    "#Collect the 1000 top Republican subreddits:\n",
    "right = reddit.subreddit('republican')\n",
    "right_top = right.top(limit=1000)\n",
    "i = 0\n",
    "\n",
    "for title in right_top:\n",
    "    print(i, \"\\t\", title) # A progress tracker\n",
    "    \n",
    "    key = str(title.id) + \"_\" + str(title.subreddit)\n",
    "    data_dict[key] = {}\n",
    "    data_dict[key][\"title\"] = title.title\n",
    "    data_dict[key][\"id\"] = title.id\n",
    "    data_dict[key][\"subreddit\"] = title.subreddit\n",
    "    data_dict[key][\"time\"] = dt.fromtimestamp(title.created).strftime('%c')\n",
    "    data_dict[key][\"num_comments\"] = title.num_comments\n",
    "    \n",
    "    submission = reddit.submission(id=title.id)\n",
    "    submission.comments.replace_more(limit=None)\n",
    "    comments = [comment.body for comment in submission.comments.list()]\n",
    "    \n",
    "    data_dict[key][\"comments\"] = comments\n",
    "    i += 1\n",
    "\n",
    "#Collect the 1000 top Democratic subreddits:    \n",
    "left = reddit.subreddit('democrats')\n",
    "left_top = left.top(limit=1000)\n",
    "\n",
    "for title in left_top:\n",
    "    print(i) # A progress tracker\n",
    "    \n",
    "    key = str(title.id) + \"_\" + str(title.subreddit)\n",
    "    data_dict[key] = {}\n",
    "    data_dict[key][\"title\"] = title.title\n",
    "    data_dict[key][\"id\"] = title.id\n",
    "    data_dict[key][\"subreddit\"] = title.subreddit\n",
    "    data_dict[key][\"time\"] = dt.fromtimestamp(title.created).strftime('%c')\n",
    "    data_dict[key][\"num_comments\"] = title.num_comments\n",
    "    \n",
    "    submission = reddit.submission(id=title.id)\n",
    "    submission.comments.replace_more(limit=None)\n",
    "    comments = [comment.body for comment in submission.comments.list()]\n",
    "    \n",
    "    data_dict[key][\"comments\"] = comments\n",
    "    i += 1 \n",
    "    \n",
    "df = pd.DataFrame(data_dict).T\n",
    "\n",
    "#Back up data collection \n",
    "with open(\"rep_dem_df.pkl\",\"wb\") as f:\n",
    "    pickle.dump(df,f)"
   ]
  },
  {
   "cell_type": "code",
   "execution_count": 24,
   "metadata": {},
   "outputs": [],
   "source": [
    "with open (\"rep_dem_df.pkl\",\"rb\") as f:\n",
    "    df = pickle.load(f)"
   ]
  },
  {
   "cell_type": "code",
   "execution_count": 25,
   "metadata": {},
   "outputs": [
    {
     "data": {
      "text/html": [
       "<div>\n",
       "<style scoped>\n",
       "    .dataframe tbody tr th:only-of-type {\n",
       "        vertical-align: middle;\n",
       "    }\n",
       "\n",
       "    .dataframe tbody tr th {\n",
       "        vertical-align: top;\n",
       "    }\n",
       "\n",
       "    .dataframe thead th {\n",
       "        text-align: right;\n",
       "    }\n",
       "</style>\n",
       "<table border=\"1\" class=\"dataframe\">\n",
       "  <thead>\n",
       "    <tr style=\"text-align: right;\">\n",
       "      <th></th>\n",
       "      <th>comments</th>\n",
       "      <th>id</th>\n",
       "      <th>num_comments</th>\n",
       "      <th>subreddit</th>\n",
       "      <th>time</th>\n",
       "      <th>title</th>\n",
       "      <th>target</th>\n",
       "    </tr>\n",
       "  </thead>\n",
       "  <tbody>\n",
       "    <tr>\n",
       "      <th>8nbfwl_democrats</th>\n",
       "      <td>[Why bother lying about such things? Why can’t...</td>\n",
       "      <td>8nbfwl</td>\n",
       "      <td>50</td>\n",
       "      <td>democrats</td>\n",
       "      <td>Wed May 30 15:27:11 2018</td>\n",
       "      <td>Trump places Nashville rally crowd size above ...</td>\n",
       "      <td>1</td>\n",
       "    </tr>\n",
       "    <tr>\n",
       "      <th>7rft0w_democrats</th>\n",
       "      <td>[That whole family values thing was a lie just...</td>\n",
       "      <td>7rft0w</td>\n",
       "      <td>21</td>\n",
       "      <td>democrats</td>\n",
       "      <td>Thu Jan 18 23:21:04 2018</td>\n",
       "      <td>Keep a record of their treachery and hypocrisy.</td>\n",
       "      <td>1</td>\n",
       "    </tr>\n",
       "    <tr>\n",
       "      <th>atkbwd_Republican</th>\n",
       "      <td>[Also r/politicalhumor, When I first joined re...</td>\n",
       "      <td>atkbwd</td>\n",
       "      <td>129</td>\n",
       "      <td>Republican</td>\n",
       "      <td>Fri Feb 22 12:30:39 2019</td>\n",
       "      <td>Thought you guys might like this</td>\n",
       "      <td>0</td>\n",
       "    </tr>\n",
       "    <tr>\n",
       "      <th>axz3oi_Republican</th>\n",
       "      <td>[18 U.S. Code § 2381. Treason\\nWhoever, owing ...</td>\n",
       "      <td>axz3oi</td>\n",
       "      <td>158</td>\n",
       "      <td>Republican</td>\n",
       "      <td>Wed Mar  6 08:57:51 2019</td>\n",
       "      <td>I’m sure everyone agrees to not let her back i...</td>\n",
       "      <td>0</td>\n",
       "    </tr>\n",
       "  </tbody>\n",
       "</table>\n",
       "</div>"
      ],
      "text/plain": [
       "                                                            comments      id  \\\n",
       "8nbfwl_democrats   [Why bother lying about such things? Why can’t...  8nbfwl   \n",
       "7rft0w_democrats   [That whole family values thing was a lie just...  7rft0w   \n",
       "atkbwd_Republican  [Also r/politicalhumor, When I first joined re...  atkbwd   \n",
       "axz3oi_Republican  [18 U.S. Code § 2381. Treason\\nWhoever, owing ...  axz3oi   \n",
       "\n",
       "                  num_comments   subreddit                      time  \\\n",
       "8nbfwl_democrats            50   democrats  Wed May 30 15:27:11 2018   \n",
       "7rft0w_democrats            21   democrats  Thu Jan 18 23:21:04 2018   \n",
       "atkbwd_Republican          129  Republican  Fri Feb 22 12:30:39 2019   \n",
       "axz3oi_Republican          158  Republican  Wed Mar  6 08:57:51 2019   \n",
       "\n",
       "                                                               title  target  \n",
       "8nbfwl_democrats   Trump places Nashville rally crowd size above ...       1  \n",
       "7rft0w_democrats     Keep a record of their treachery and hypocrisy.       1  \n",
       "atkbwd_Republican                   Thought you guys might like this       0  \n",
       "axz3oi_Republican  I’m sure everyone agrees to not let her back i...       0  "
      ]
     },
     "execution_count": 25,
     "metadata": {},
     "output_type": "execute_result"
    }
   ],
   "source": [
    "#Head and Tail of Dataframe\n",
    "df[\"target\"] = df[\"subreddit\"].apply(lambda a: 1 if a == \"democrats\" else 0)\n",
    "df.tail(2).append(df.head(2))"
   ]
  },
  {
   "cell_type": "code",
   "execution_count": 26,
   "metadata": {},
   "outputs": [
    {
     "data": {
      "text/plain": [
       "1    997\n",
       "0    996\n",
       "Name: target, dtype: int64"
      ]
     },
     "execution_count": 26,
     "metadata": {},
     "output_type": "execute_result"
    }
   ],
   "source": [
    "#Base Line Accuracy of Democrat vs Republican\n",
    "df[\"target\"].value_counts()"
   ]
  },
  {
   "cell_type": "markdown",
   "metadata": {},
   "source": [
    "## 3. EDA<a id = \"EDA\"></a>\n",
    "\n",
    "<br>"
   ]
  },
  {
   "cell_type": "markdown",
   "metadata": {},
   "source": [
    "### 3a. Data Cleaning <a id = \"Clean\"></a>\n",
    "\n",
    "<strong>The following warning needs to be scrubbed from Republican posts, otherwise it would bias the model</strong> "
   ]
  },
  {
   "cell_type": "code",
   "execution_count": 27,
   "metadata": {},
   "outputs": [
    {
     "data": {
      "text/plain": [
       "\"/r/Republican is a partisan subreddit.  This is a place for Republicans to discuss issues with other Republicans.\\nOut of respect for this sub's main purpose, we ask that unless you identify as Republican that you refrain from commenting and [leave the vote button alone](https://www.reddit.com/r/MetaRepublican/comments/5t017a/this_sub_is_for_republicans_if_you_do_not/). Non republicans who come to our sub looking for a 'different perspective' [subvert that very perspective with their own views when they vote or comment.](http://i.imgur.com/XqL0wfR.jpg)\\n\\n*I am a bot, and this action was performed automatically. Please [contact the moderators of this subreddit](/message/compose/?to=/r/Republican) if you have any questions or concerns.*\""
      ]
     },
     "execution_count": 27,
     "metadata": {},
     "output_type": "execute_result"
    }
   ],
   "source": [
    "df[df[\"subreddit\"] == \"Republican\"][\"comments\"][\"b29czb_Republican\"][0]"
   ]
  },
  {
   "cell_type": "code",
   "execution_count": 28,
   "metadata": {},
   "outputs": [],
   "source": [
    "robot_warning = df[\"comments\"][\"b29czb_Republican\"][0]"
   ]
  },
  {
   "cell_type": "code",
   "execution_count": 29,
   "metadata": {},
   "outputs": [
    {
     "data": {
      "text/plain": [
       "True"
      ]
     },
     "execution_count": 29,
     "metadata": {},
     "output_type": "execute_result"
    }
   ],
   "source": [
    "df[\"comments\"][\"b29czb_Republican\"][0] == robot_warning"
   ]
  },
  {
   "cell_type": "markdown",
   "metadata": {},
   "source": [
    "<strong>Some Reddit comments are images and need to be accounted for, before iterating through list</strong> "
   ]
  },
  {
   "cell_type": "code",
   "execution_count": 30,
   "metadata": {},
   "outputs": [],
   "source": [
    "df[\"num_text_comments\"] = df[\"comments\"].apply(lambda a: len(a))"
   ]
  },
  {
   "cell_type": "code",
   "execution_count": 31,
   "metadata": {},
   "outputs": [
    {
     "data": {
      "text/html": [
       "<div>\n",
       "<style scoped>\n",
       "    .dataframe tbody tr th:only-of-type {\n",
       "        vertical-align: middle;\n",
       "    }\n",
       "\n",
       "    .dataframe tbody tr th {\n",
       "        vertical-align: top;\n",
       "    }\n",
       "\n",
       "    .dataframe thead th {\n",
       "        text-align: right;\n",
       "    }\n",
       "</style>\n",
       "<table border=\"1\" class=\"dataframe\">\n",
       "  <thead>\n",
       "    <tr style=\"text-align: right;\">\n",
       "      <th></th>\n",
       "      <th>comments</th>\n",
       "      <th>id</th>\n",
       "      <th>num_comments</th>\n",
       "      <th>subreddit</th>\n",
       "      <th>time</th>\n",
       "      <th>title</th>\n",
       "      <th>target</th>\n",
       "      <th>num_text_comments</th>\n",
       "    </tr>\n",
       "  </thead>\n",
       "  <tbody>\n",
       "    <tr>\n",
       "      <th>aoipiz_democrats</th>\n",
       "      <td>[]</td>\n",
       "      <td>aoipiz</td>\n",
       "      <td>3</td>\n",
       "      <td>democrats</td>\n",
       "      <td>Fri Feb  8 12:16:14 2019</td>\n",
       "      <td>Georgia voters suing for paper ballots win app...</td>\n",
       "      <td>1</td>\n",
       "      <td>0</td>\n",
       "    </tr>\n",
       "  </tbody>\n",
       "</table>\n",
       "</div>"
      ],
      "text/plain": [
       "                 comments      id num_comments  subreddit  \\\n",
       "aoipiz_democrats       []  aoipiz            3  democrats   \n",
       "\n",
       "                                      time  \\\n",
       "aoipiz_democrats  Fri Feb  8 12:16:14 2019   \n",
       "\n",
       "                                                              title  target  \\\n",
       "aoipiz_democrats  Georgia voters suing for paper ballots win app...       1   \n",
       "\n",
       "                  num_text_comments  \n",
       "aoipiz_democrats                  0  "
      ]
     },
     "execution_count": 31,
     "metadata": {},
     "output_type": "execute_result"
    }
   ],
   "source": [
    "df[df[\"num_text_comments\"] == 0]"
   ]
  },
  {
   "cell_type": "code",
   "execution_count": 32,
   "metadata": {},
   "outputs": [],
   "source": [
    "df.drop(\"aoipiz_democrats\", inplace = True)"
   ]
  },
  {
   "cell_type": "code",
   "execution_count": 33,
   "metadata": {},
   "outputs": [],
   "source": [
    "for i in df.index:\n",
    "    if df[\"comments\"][i][0] == robot_warning:\n",
    "        del df[\"comments\"][i][0] #Deletes robot text off list"
   ]
  },
  {
   "cell_type": "code",
   "execution_count": 34,
   "metadata": {},
   "outputs": [
    {
     "data": {
      "text/plain": [
       "'That photo was taken in 2010'"
      ]
     },
     "execution_count": 34,
     "metadata": {},
     "output_type": "execute_result"
    }
   ],
   "source": [
    "df[\"comments\"][\"b29czb_Republican\"][0]"
   ]
  },
  {
   "cell_type": "code",
   "execution_count": 35,
   "metadata": {},
   "outputs": [],
   "source": [
    "df[\"num_comments\"] = df[\"num_comments\"].apply(float)\n",
    "df[\"flat_comments\"] = df[\"comments\"].apply(lambda a: str(a)[1:-1])\n",
    "df[\"len_flat_comments\"] = df[\"flat_comments\"].apply(len)"
   ]
  },
  {
   "cell_type": "code",
   "execution_count": 36,
   "metadata": {},
   "outputs": [
    {
     "data": {
      "text/html": [
       "<div>\n",
       "<style scoped>\n",
       "    .dataframe tbody tr th:only-of-type {\n",
       "        vertical-align: middle;\n",
       "    }\n",
       "\n",
       "    .dataframe tbody tr th {\n",
       "        vertical-align: top;\n",
       "    }\n",
       "\n",
       "    .dataframe thead th {\n",
       "        text-align: right;\n",
       "    }\n",
       "</style>\n",
       "<table border=\"1\" class=\"dataframe\">\n",
       "  <thead>\n",
       "    <tr style=\"text-align: right;\">\n",
       "      <th></th>\n",
       "      <th>comments</th>\n",
       "      <th>id</th>\n",
       "      <th>num_comments</th>\n",
       "      <th>subreddit</th>\n",
       "      <th>time</th>\n",
       "      <th>title</th>\n",
       "      <th>target</th>\n",
       "      <th>num_text_comments</th>\n",
       "      <th>flat_comments</th>\n",
       "      <th>len_flat_comments</th>\n",
       "    </tr>\n",
       "  </thead>\n",
       "  <tbody>\n",
       "    <tr>\n",
       "      <th>atkbwd_Republican</th>\n",
       "      <td>[Also r/politicalhumor, When I first joined re...</td>\n",
       "      <td>atkbwd</td>\n",
       "      <td>129.0</td>\n",
       "      <td>Republican</td>\n",
       "      <td>Fri Feb 22 12:30:39 2019</td>\n",
       "      <td>Thought you guys might like this</td>\n",
       "      <td>0</td>\n",
       "      <td>115</td>\n",
       "      <td>'Also r/politicalhumor', 'When I first joined ...</td>\n",
       "      <td>11909</td>\n",
       "    </tr>\n",
       "    <tr>\n",
       "      <th>axz3oi_Republican</th>\n",
       "      <td>[18 U.S. Code § 2381. Treason\\nWhoever, owing ...</td>\n",
       "      <td>axz3oi</td>\n",
       "      <td>158.0</td>\n",
       "      <td>Republican</td>\n",
       "      <td>Wed Mar  6 08:57:51 2019</td>\n",
       "      <td>I’m sure everyone agrees to not let her back i...</td>\n",
       "      <td>0</td>\n",
       "      <td>154</td>\n",
       "      <td>'18 U.S. Code §\\u202f2381. Treason\\nWhoever, o...</td>\n",
       "      <td>25035</td>\n",
       "    </tr>\n",
       "    <tr>\n",
       "      <th>ao4pso_Republican</th>\n",
       "      <td>[Is Evan even important? I’ve never heard of t...</td>\n",
       "      <td>ao4pso</td>\n",
       "      <td>189.0</td>\n",
       "      <td>Republican</td>\n",
       "      <td>Thu Feb  7 10:14:43 2019</td>\n",
       "      <td>Disgusting!</td>\n",
       "      <td>0</td>\n",
       "      <td>164</td>\n",
       "      <td>'Is Evan even important? I’ve never heard of t...</td>\n",
       "      <td>23942</td>\n",
       "    </tr>\n",
       "    <tr>\n",
       "      <th>asul6v_Republican</th>\n",
       "      <td>[[removed], [removed], Interesting format, Thi...</td>\n",
       "      <td>asul6v</td>\n",
       "      <td>202.0</td>\n",
       "      <td>Republican</td>\n",
       "      <td>Wed Feb 20 17:13:54 2019</td>\n",
       "      <td>We all know its true</td>\n",
       "      <td>0</td>\n",
       "      <td>173</td>\n",
       "      <td>'[removed]', '[removed]', 'Interesting format'...</td>\n",
       "      <td>33335</td>\n",
       "    </tr>\n",
       "    <tr>\n",
       "      <th>aemlra_Republican</th>\n",
       "      <td>[[deleted], Alcoholism isn't your fault\\n\\nDru...</td>\n",
       "      <td>aemlra</td>\n",
       "      <td>203.0</td>\n",
       "      <td>Republican</td>\n",
       "      <td>Thu Jan 10 14:41:38 2019</td>\n",
       "      <td>Keep up guys</td>\n",
       "      <td>0</td>\n",
       "      <td>191</td>\n",
       "      <td>'[deleted]', \"Alcoholism isn't your fault\\n\\nD...</td>\n",
       "      <td>47553</td>\n",
       "    </tr>\n",
       "  </tbody>\n",
       "</table>\n",
       "</div>"
      ],
      "text/plain": [
       "                                                            comments      id  \\\n",
       "atkbwd_Republican  [Also r/politicalhumor, When I first joined re...  atkbwd   \n",
       "axz3oi_Republican  [18 U.S. Code § 2381. Treason\\nWhoever, owing ...  axz3oi   \n",
       "ao4pso_Republican  [Is Evan even important? I’ve never heard of t...  ao4pso   \n",
       "asul6v_Republican  [[removed], [removed], Interesting format, Thi...  asul6v   \n",
       "aemlra_Republican  [[deleted], Alcoholism isn't your fault\\n\\nDru...  aemlra   \n",
       "\n",
       "                   num_comments   subreddit                      time  \\\n",
       "atkbwd_Republican         129.0  Republican  Fri Feb 22 12:30:39 2019   \n",
       "axz3oi_Republican         158.0  Republican  Wed Mar  6 08:57:51 2019   \n",
       "ao4pso_Republican         189.0  Republican  Thu Feb  7 10:14:43 2019   \n",
       "asul6v_Republican         202.0  Republican  Wed Feb 20 17:13:54 2019   \n",
       "aemlra_Republican         203.0  Republican  Thu Jan 10 14:41:38 2019   \n",
       "\n",
       "                                                               title  target  \\\n",
       "atkbwd_Republican                   Thought you guys might like this       0   \n",
       "axz3oi_Republican  I’m sure everyone agrees to not let her back i...       0   \n",
       "ao4pso_Republican                                        Disgusting!       0   \n",
       "asul6v_Republican                               We all know its true       0   \n",
       "aemlra_Republican                                       Keep up guys       0   \n",
       "\n",
       "                   num_text_comments  \\\n",
       "atkbwd_Republican                115   \n",
       "axz3oi_Republican                154   \n",
       "ao4pso_Republican                164   \n",
       "asul6v_Republican                173   \n",
       "aemlra_Republican                191   \n",
       "\n",
       "                                                       flat_comments  \\\n",
       "atkbwd_Republican  'Also r/politicalhumor', 'When I first joined ...   \n",
       "axz3oi_Republican  '18 U.S. Code §\\u202f2381. Treason\\nWhoever, o...   \n",
       "ao4pso_Republican  'Is Evan even important? I’ve never heard of t...   \n",
       "asul6v_Republican  '[removed]', '[removed]', 'Interesting format'...   \n",
       "aemlra_Republican  '[deleted]', \"Alcoholism isn't your fault\\n\\nD...   \n",
       "\n",
       "                   len_flat_comments  \n",
       "atkbwd_Republican              11909  \n",
       "axz3oi_Republican              25035  \n",
       "ao4pso_Republican              23942  \n",
       "asul6v_Republican              33335  \n",
       "aemlra_Republican              47553  "
      ]
     },
     "execution_count": 36,
     "metadata": {},
     "output_type": "execute_result"
    }
   ],
   "source": [
    "df.head()"
   ]
  },
  {
   "cell_type": "markdown",
   "metadata": {},
   "source": [
    "### 3b. Statistics<a id = \"Stats\"></a>"
   ]
  },
  {
   "cell_type": "code",
   "execution_count": 37,
   "metadata": {},
   "outputs": [
    {
     "data": {
      "image/png": "[encoded data removed]",
      "text/plain": [
       "<Figure size 720x360 with 2 Axes>"
      ]
     },
     "metadata": {
      "image/png": {
       "height": 414,
       "width": 616
      },
      "needs_background": "light"
     },
     "output_type": "display_data"
    }
   ],
   "source": [
    "import matplotlib.pyplot as plt\n",
    "import seaborn as sns\n",
    "\n",
    "%config InlineBackend.figure_format = 'retina'\n",
    "%matplotlib inline\n",
    "\n",
    "\n",
    "figure, ax = plt.subplots(nrows=1, ncols=2, figsize=(10, 5))\n",
    "\n",
    "ax[0].set_title(\"Kernel Density Estimation of target\");\n",
    "df[\"target\"].plot.kde(ax = ax[0],);\n",
    "\n",
    "ax[1].set_title(\"Missing Values\");\n",
    "sns.heatmap(df.isnull(),yticklabels=False,cbar=False,cmap='viridis', ax = ax[1]);"
   ]
  },
  {
   "cell_type": "code",
   "execution_count": 38,
   "metadata": {},
   "outputs": [
    {
     "name": "stdout",
     "output_type": "stream",
     "text": [
      "<class 'pandas.core.frame.DataFrame'>\n",
      "Index: 1992 entries, atkbwd_Republican to 7rft0w_democrats\n",
      "Data columns (total 10 columns):\n",
      "comments             1992 non-null object\n",
      "id                   1992 non-null object\n",
      "num_comments         1992 non-null float64\n",
      "subreddit            1992 non-null object\n",
      "time                 1992 non-null object\n",
      "title                1992 non-null object\n",
      "target               1992 non-null int64\n",
      "num_text_comments    1992 non-null int64\n",
      "flat_comments        1992 non-null object\n",
      "len_flat_comments    1992 non-null int64\n",
      "dtypes: float64(1), int64(3), object(6)\n",
      "memory usage: 251.2+ KB\n"
     ]
    }
   ],
   "source": [
    "df.info()"
   ]
  },
  {
   "cell_type": "code",
   "execution_count": 39,
   "metadata": {},
   "outputs": [
    {
     "data": {
      "text/html": [
       "<div>\n",
       "<style scoped>\n",
       "    .dataframe tbody tr th:only-of-type {\n",
       "        vertical-align: middle;\n",
       "    }\n",
       "\n",
       "    .dataframe tbody tr th {\n",
       "        vertical-align: top;\n",
       "    }\n",
       "\n",
       "    .dataframe thead th {\n",
       "        text-align: right;\n",
       "    }\n",
       "</style>\n",
       "<table border=\"1\" class=\"dataframe\">\n",
       "  <thead>\n",
       "    <tr style=\"text-align: right;\">\n",
       "      <th></th>\n",
       "      <th>num_comments</th>\n",
       "      <th>target</th>\n",
       "      <th>num_text_comments</th>\n",
       "      <th>len_flat_comments</th>\n",
       "    </tr>\n",
       "  </thead>\n",
       "  <tbody>\n",
       "    <tr>\n",
       "      <th>count</th>\n",
       "      <td>1992.000000</td>\n",
       "      <td>1992.000000</td>\n",
       "      <td>1992.000000</td>\n",
       "      <td>1992.000000</td>\n",
       "    </tr>\n",
       "    <tr>\n",
       "      <th>mean</th>\n",
       "      <td>67.589859</td>\n",
       "      <td>0.500000</td>\n",
       "      <td>64.006024</td>\n",
       "      <td>13271.000502</td>\n",
       "    </tr>\n",
       "    <tr>\n",
       "      <th>std</th>\n",
       "      <td>81.031850</td>\n",
       "      <td>0.500126</td>\n",
       "      <td>79.141901</td>\n",
       "      <td>19778.408832</td>\n",
       "    </tr>\n",
       "    <tr>\n",
       "      <th>min</th>\n",
       "      <td>1.000000</td>\n",
       "      <td>0.000000</td>\n",
       "      <td>1.000000</td>\n",
       "      <td>0.000000</td>\n",
       "    </tr>\n",
       "    <tr>\n",
       "      <th>25%</th>\n",
       "      <td>26.000000</td>\n",
       "      <td>0.000000</td>\n",
       "      <td>24.000000</td>\n",
       "      <td>3588.500000</td>\n",
       "    </tr>\n",
       "    <tr>\n",
       "      <th>50%</th>\n",
       "      <td>46.000000</td>\n",
       "      <td>0.500000</td>\n",
       "      <td>42.000000</td>\n",
       "      <td>7673.000000</td>\n",
       "    </tr>\n",
       "    <tr>\n",
       "      <th>75%</th>\n",
       "      <td>79.000000</td>\n",
       "      <td>1.000000</td>\n",
       "      <td>74.000000</td>\n",
       "      <td>15392.500000</td>\n",
       "    </tr>\n",
       "    <tr>\n",
       "      <th>max</th>\n",
       "      <td>1291.000000</td>\n",
       "      <td>1.000000</td>\n",
       "      <td>1290.000000</td>\n",
       "      <td>375246.000000</td>\n",
       "    </tr>\n",
       "  </tbody>\n",
       "</table>\n",
       "</div>"
      ],
      "text/plain": [
       "       num_comments       target  num_text_comments  len_flat_comments\n",
       "count   1992.000000  1992.000000        1992.000000        1992.000000\n",
       "mean      67.589859     0.500000          64.006024       13271.000502\n",
       "std       81.031850     0.500126          79.141901       19778.408832\n",
       "min        1.000000     0.000000           1.000000           0.000000\n",
       "25%       26.000000     0.000000          24.000000        3588.500000\n",
       "50%       46.000000     0.500000          42.000000        7673.000000\n",
       "75%       79.000000     1.000000          74.000000       15392.500000\n",
       "max     1291.000000     1.000000        1290.000000      375246.000000"
      ]
     },
     "execution_count": 39,
     "metadata": {},
     "output_type": "execute_result"
    }
   ],
   "source": [
    "df.describe()"
   ]
  },
  {
   "cell_type": "code",
   "execution_count": 42,
   "metadata": {},
   "outputs": [],
   "source": [
    "df = df[df[\"len_flat_comments\"] != 0]"
   ]
  },
  {
   "cell_type": "code",
   "execution_count": 44,
   "metadata": {},
   "outputs": [],
   "source": [
    "#Remove the last straggler\n",
    "df[\"flat_comments\"] = df[\"comments\"].apply(lambda a: str(a)[1:-1])"
   ]
  },
  {
   "cell_type": "markdown",
   "metadata": {},
   "source": [
    "## 4. Modeling<a id = \"Modeling\"></a>\n",
    "\n",
    "<br>"
   ]
  },
  {
   "cell_type": "code",
   "execution_count": 21,
   "metadata": {},
   "outputs": [
    {
     "data": {
      "text/plain": [
       "Index(['comments', 'id', 'num_comments', 'subreddit', 'time', 'title',\n",
       "       'target', 'num_text_comments', 'flat_comments', 'len_flat_comments'],\n",
       "      dtype='object')"
      ]
     },
     "execution_count": 21,
     "metadata": {},
     "output_type": "execute_result"
    }
   ],
   "source": [
    "df.columns"
   ]
  },
  {
   "cell_type": "code",
   "execution_count": 45,
   "metadata": {},
   "outputs": [],
   "source": [
    "from sklearn.model_selection import train_test_split\n",
    "\n",
    "#I don't need to strip the index values, but for the initial modeling\n",
    "#I will, just in case \"republican\" addition informs model inappropriately.\n",
    "\n",
    "X = df[[\"comments\",\n",
    "        \"flat_comments\",\n",
    "        \"num_text_comments\",\n",
    "        \"len_flat_comments\",\n",
    "        \"title\"]].reset_index(drop=True).copy()\n",
    "\n",
    "y = df[\"target\"].reset_index(drop=True)\n",
    "\n",
    "X_train, X_test, y_train, y_test = train_test_split(X,y,\n",
    "                                                   random_state = 88,\n",
    "                                                   stratify = y)"
   ]
  },
  {
   "cell_type": "markdown",
   "metadata": {},
   "source": [
    "### 4a. Flattened List Model<a id = \"FLM\"></a>"
   ]
  },
  {
   "cell_type": "code",
   "execution_count": 23,
   "metadata": {},
   "outputs": [
    {
     "name": "stdout",
     "output_type": "stream",
     "text": [
      "Int64Index([1381, 1190, 1704, 327, 1415], dtype='int64')\n",
      "Int64Index([1381, 1190, 1704, 327, 1415], dtype='int64')\n"
     ]
    }
   ],
   "source": [
    "#A quick sanity check\n",
    "print(X_train.index[0:5])\n",
    "print(y_train.index[0:5])"
   ]
  },
  {
   "cell_type": "markdown",
   "metadata": {},
   "source": [
    "<strong>Flattening X to review only comments</strong>"
   ]
  },
  {
   "cell_type": "code",
   "execution_count": 24,
   "metadata": {},
   "outputs": [],
   "source": [
    "X_flat_train, X_flat_test = X_train[\"flat_comments\"], X_test[\"flat_comments\"]"
   ]
  },
  {
   "cell_type": "code",
   "execution_count": 25,
   "metadata": {},
   "outputs": [
    {
     "data": {
      "text/plain": [
       "1493"
      ]
     },
     "execution_count": 25,
     "metadata": {},
     "output_type": "execute_result"
    }
   ],
   "source": [
    "len(X_flat_train)"
   ]
  },
  {
   "cell_type": "code",
   "execution_count": 47,
   "metadata": {},
   "outputs": [],
   "source": [
    "from sklearn.pipeline import Pipeline\n",
    "from sklearn.model_selection import GridSearchCV\n",
    "from sklearn.feature_extraction.text import CountVectorizer\n",
    "\n",
    "from sklearn.linear_model import LogisticRegression\n",
    "from sklearn.neighbors import KNeighborsClassifier\n",
    "from sklearn.ensemble import RandomForestClassifier, AdaBoostClassifier, GradientBoostingClassifier\n",
    "from sklearn.ensemble import GradientBoostingClassifier, ExtraTreesClassifier\n",
    "from sklearn.naive_bayes import BernoulliNB\n",
    "\n",
    "from sklearn.svm import SVC"
   ]
  },
  {
   "cell_type": "code",
   "execution_count": 48,
   "metadata": {},
   "outputs": [],
   "source": [
    "models = {\n",
    "    \"lr\" : LogisticRegression(n_jobs=3),\n",
    "    \"svc\": SVC(),\n",
    "    \"ada\": AdaBoostClassifier(),\n",
    "    \"bnb\": BernoulliNB(),\n",
    "    \"gbc\": GradientBoostingClassifier()}\n",
    "\n",
    "params = {\n",
    "    \"lr\" :{\n",
    "        \"solver\"            : [\"newton-cg\", \"lbfgs\"],\n",
    "        \"multi_class\"       : [\"ovr\", \"multinomial\"]},\n",
    "    \"svc\":{\n",
    "        \"gamma\"             : [\"scale\"]},\n",
    "    \"ada\":{\n",
    "         \"n_estimators\"     : [50, 500],\n",
    "         \"learning_rate\"    : [1,.5]},\n",
    "    \"bnb\":{},\n",
    "    \"gbc\":{}}"
   ]
  },
  {
   "cell_type": "code",
   "execution_count": 277,
   "metadata": {},
   "outputs": [],
   "source": [
    "for model in models:\n",
    "    pipe = Pipeline([\n",
    "        (\"cvec\", CountVectorizer()),\n",
    "        (\"grid\", GridSearchCV(models[model], \n",
    "                              params[model],\n",
    "                              cv = 3,\n",
    "                              n_jobs = 3,\n",
    "                              verbose = 2))\n",
    "    ])\n",
    "\n",
    "    cvec_params = {\n",
    "        \"cvec__stop_words\":[None],\n",
    "        \"cvec__max_features\":[7_500,10_000, 25_000],\n",
    "        \"cvec__stop_words\": [(1,1),(2,2)],\n",
    "        \"cvec__max_df\": [.8],\n",
    "        \"cvec__min_df\": [.01]}\n",
    "\n",
    "    gs = GridSearchCV(pipe,\n",
    "                      param_grid=cvec_params,\n",
    "                      cv = 3,\n",
    "                      n_jobs = 3,\n",
    "                      verbose = 2)\n",
    "\n",
    "    gs.fit(X_flat_train, y_train)\n",
    "    print(model, gs.best_score_)\n",
    "    print(gs.best_params_)"
   ]
  },
  {
   "cell_type": "code",
   "execution_count": 75,
   "metadata": {},
   "outputs": [],
   "source": [
    "# Relevent Model values\n",
    "\n",
    "# rfc 0.8452779638312123\n",
    "# {'cvec__max_df': 0.8, \n",
    "#  'cvec__max_features': 50000, \n",
    "#  'cvec__min_df': 0.01, \n",
    "#  'cvec__stop_words': (1, 3)}\n",
    "\n",
    "# lr 0.8459477561955794\n",
    "# {'cvec__max_df': 0.8, \n",
    "#  'cvec__max_features': 10000, \n",
    "#  'cvec__min_df': 0.01,\n",
    "#  'cvec__stop_words': (1, 1)}\n",
    "\n",
    "# svc 0.7494976557267247\n",
    "# {'cvec__max_df': 0.8, \n",
    "#  'cvec__max_features': 10000, \n",
    "#  'cvec__min_df': 0.01, \n",
    "#  'cvec__stop_words': (1, 1)}\n",
    "\n",
    "# ada 0.854655056932351\n",
    "# {'cvec__max_df': 0.8, \n",
    "#  'cvec__max_features': 10000, \n",
    "#  'cvec__min_df': 0.01, \n",
    "#  'cvec__stop_words': (1, 1)}"
   ]
  },
  {
   "cell_type": "code",
   "execution_count": 56,
   "metadata": {},
   "outputs": [
    {
     "name": "stdout",
     "output_type": "stream",
     "text": [
      "svc 0.8573342263898192\n",
      "{'cvec__max_df': 0.75, 'cvec__max_features': 35000, 'cvec__min_df': 0.01, 'cvec__stop_words': (1, 1), 'lr__C': 4, 'lr__max_iter': 300, 'lr__solver': 'sag'}\n"
     ]
    },
    {
     "name": "stderr",
     "output_type": "stream",
     "text": [
      "/Users/michaelruggiero/anaconda3/envs/maker/lib/python3.6/site-packages/sklearn/linear_model/sag.py:334: ConvergenceWarning: The max_iter was reached which means the coef_ did not converge\n",
      "  \"the coef_ did not converge\", ConvergenceWarning)\n"
     ]
    }
   ],
   "source": [
    "pipe = Pipeline([\n",
    "    (\"cvec\", CountVectorizer()),\n",
    "    (\"lr\", LogisticRegression())\n",
    "])\n",
    "\n",
    "params = {\n",
    "    \"cvec__stop_words\":[None],\n",
    "    \"cvec__max_features\":[35_000, 45_000],\n",
    "    \"cvec__stop_words\": [(1,1),(1,3)],\n",
    "    \"cvec__max_df\": [.75,.8],\n",
    "    \"cvec__min_df\": [.01],\n",
    "    \"lr__solver\":['sag'],\n",
    "    \"lr__max_iter\": [300,500],\n",
    "    \"lr__C\": [4,5,6]}\n",
    "\n",
    "gs = GridSearchCV(pipe,\n",
    "                  param_grid=params,\n",
    "                  cv = 3,\n",
    "                  n_jobs = 3)\n",
    "\n",
    "gs.fit(X_flat_train, y_train)\n",
    "print(model, gs.best_score_)\n",
    "print(gs.best_params_)"
   ]
  },
  {
   "cell_type": "code",
   "execution_count": 57,
   "metadata": {},
   "outputs": [
    {
     "data": {
      "text/plain": [
       "0.9591426657736102"
      ]
     },
     "execution_count": 57,
     "metadata": {},
     "output_type": "execute_result"
    }
   ],
   "source": [
    "gs.score(X_flat_train, y_train)"
   ]
  },
  {
   "cell_type": "code",
   "execution_count": 58,
   "metadata": {},
   "outputs": [
    {
     "data": {
      "text/plain": [
       "0.8232931726907631"
      ]
     },
     "execution_count": 58,
     "metadata": {},
     "output_type": "execute_result"
    }
   ],
   "source": [
    "gs.score(X_flat_test, y_test)"
   ]
  },
  {
   "cell_type": "code",
   "execution_count": 64,
   "metadata": {},
   "outputs": [
    {
     "name": "stdout",
     "output_type": "stream",
     "text": [
      "              precision    recall  f1-score   support\n",
      "\n",
      "           0       0.85      0.79      0.82       249\n",
      "           1       0.80      0.86      0.83       249\n",
      "\n",
      "   micro avg       0.82      0.82      0.82       498\n",
      "   macro avg       0.82      0.82      0.82       498\n",
      "weighted avg       0.82      0.82      0.82       498\n",
      "\n"
     ]
    }
   ],
   "source": [
    "from sklearn.metrics import classification_report\n",
    "\n",
    "pred = gs.predict(X_flat_test)\n",
    "print(classification_report(y_test,pred))"
   ]
  },
  {
   "cell_type": "code",
   "execution_count": 67,
   "metadata": {},
   "outputs": [
    {
     "name": "stdout",
     "output_type": "stream",
     "text": [
      "[[196  53]\n",
      " [ 35 214]]\n"
     ]
    }
   ],
   "source": [
    "from sklearn.metrics import confusion_matrix\n",
    "\n",
    "pred = gs.predict(X_flat_test)\n",
    "print(confusion_matrix(y_test, pred))"
   ]
  },
  {
   "cell_type": "code",
   "execution_count": 69,
   "metadata": {},
   "outputs": [
    {
     "name": "stdout",
     "output_type": "stream",
     "text": [
      "Fitting 5 folds for each of 1080 candidates, totalling 5400 fits\n"
     ]
    },
    {
     "name": "stderr",
     "output_type": "stream",
     "text": [
      "[Parallel(n_jobs=3)]: Using backend LokyBackend with 3 concurrent workers.\n",
      "[Parallel(n_jobs=3)]: Done  19 tasks      | elapsed:   40.0s\n",
      "[Parallel(n_jobs=3)]: Done  92 tasks      | elapsed:  3.0min\n",
      "[Parallel(n_jobs=3)]: Done 215 tasks      | elapsed:  7.1min\n",
      "[Parallel(n_jobs=3)]: Done 386 tasks      | elapsed: 12.5min\n",
      "[Parallel(n_jobs=3)]: Done 607 tasks      | elapsed: 19.5min\n",
      "[Parallel(n_jobs=3)]: Done 876 tasks      | elapsed: 28.1min\n",
      "[Parallel(n_jobs=3)]: Done 1195 tasks      | elapsed: 38.3min\n",
      "[Parallel(n_jobs=3)]: Done 1562 tasks      | elapsed: 50.0min\n",
      "[Parallel(n_jobs=3)]: Done 1979 tasks      | elapsed: 63.5min\n",
      "[Parallel(n_jobs=3)]: Done 2444 tasks      | elapsed: 78.5min\n",
      "[Parallel(n_jobs=3)]: Done 2959 tasks      | elapsed: 95.2min\n",
      "[Parallel(n_jobs=3)]: Done 3522 tasks      | elapsed: 113.4min\n",
      "[Parallel(n_jobs=3)]: Done 4135 tasks      | elapsed: 133.0min\n",
      "[Parallel(n_jobs=3)]: Done 4796 tasks      | elapsed: 154.2min\n",
      "[Parallel(n_jobs=3)]: Done 5400 out of 5400 | elapsed: 173.7min finished\n"
     ]
    },
    {
     "name": "stdout",
     "output_type": "stream",
     "text": [
      "svc 0.8472873409243135\n",
      "{'cvec__max_df': 0.75, 'cvec__max_features': 34000, 'cvec__min_df': 0.01, 'cvec__stop_words': (2, 2), 'lr__C': 4, 'lr__max_iter': 100, 'lr__solver': 'sag'}\n"
     ]
    },
    {
     "name": "stderr",
     "output_type": "stream",
     "text": [
      "/Users/michaelruggiero/anaconda3/envs/maker/lib/python3.6/site-packages/sklearn/linear_model/sag.py:334: ConvergenceWarning: The max_iter was reached which means the coef_ did not converge\n",
      "  \"the coef_ did not converge\", ConvergenceWarning)\n"
     ]
    }
   ],
   "source": [
    "#One more large grid search with LR\n",
    "\n",
    "pipe = Pipeline([\n",
    "    (\"cvec\", CountVectorizer()),\n",
    "    (\"lr\", LogisticRegression())\n",
    "])\n",
    "\n",
    "params = {\n",
    "    \"cvec__stop_words\":[None],\n",
    "    \"cvec__max_features\":[34_000, 35_000, 35_500, 36_000, 37_000],\n",
    "    \"cvec__stop_words\": [(1,1),(1,2),(2,2),(1,3)],\n",
    "    \"cvec__max_df\": [.75,.8],\n",
    "    \"cvec__min_df\": [.01,.02,.03,.04,.05,.06,.07,.08,.09],\n",
    "    \"lr__solver\":['sag'],\n",
    "    \"lr__max_iter\": [100],\n",
    "    \"lr__C\": [3,2,4]}\n",
    "\n",
    "gs = GridSearchCV(pipe,\n",
    "                  param_grid=params,\n",
    "                  cv = 5,\n",
    "                  n_jobs = 3,\n",
    "                  verbose=4)\n",
    "\n",
    "gs.fit(X_flat_train, y_train)\n",
    "print(model, gs.best_score_)\n",
    "print(gs.best_params_)"
   ]
  },
  {
   "cell_type": "code",
   "execution_count": 71,
   "metadata": {},
   "outputs": [
    {
     "data": {
      "text/plain": [
       "0.9216342933690556"
      ]
     },
     "execution_count": 71,
     "metadata": {},
     "output_type": "execute_result"
    }
   ],
   "source": [
    "gs.score(X_flat_train,y_train)"
   ]
  },
  {
   "cell_type": "code",
   "execution_count": 72,
   "metadata": {},
   "outputs": [
    {
     "data": {
      "text/plain": [
       "0.8072289156626506"
      ]
     },
     "execution_count": 72,
     "metadata": {},
     "output_type": "execute_result"
    }
   ],
   "source": [
    "gs.score(X_flat_test,y_test)"
   ]
  },
  {
   "cell_type": "markdown",
   "metadata": {},
   "source": [
    "### 4b. Logistic Regression<a id = \"LRM\"></a>"
   ]
  },
  {
   "cell_type": "markdown",
   "metadata": {},
   "source": [
    "<strong>Grid search different parameters</strong>"
   ]
  },
  {
   "cell_type": "code",
   "execution_count": 89,
   "metadata": {},
   "outputs": [
    {
     "data": {
      "text/html": [
       "<div>\n",
       "<style scoped>\n",
       "    .dataframe tbody tr th:only-of-type {\n",
       "        vertical-align: middle;\n",
       "    }\n",
       "\n",
       "    .dataframe tbody tr th {\n",
       "        vertical-align: top;\n",
       "    }\n",
       "\n",
       "    .dataframe thead th {\n",
       "        text-align: right;\n",
       "    }\n",
       "</style>\n",
       "<table border=\"1\" class=\"dataframe\">\n",
       "  <thead>\n",
       "    <tr style=\"text-align: right;\">\n",
       "      <th></th>\n",
       "      <th>count</th>\n",
       "    </tr>\n",
       "  </thead>\n",
       "  <tbody>\n",
       "    <tr>\n",
       "      <th>than</th>\n",
       "      <td>7000</td>\n",
       "    </tr>\n",
       "    <tr>\n",
       "      <th>my</th>\n",
       "      <td>7951</td>\n",
       "    </tr>\n",
       "    <tr>\n",
       "      <th>his</th>\n",
       "      <td>8977</td>\n",
       "    </tr>\n",
       "    <tr>\n",
       "      <th>your</th>\n",
       "      <td>10838</td>\n",
       "    </tr>\n",
       "    <tr>\n",
       "      <th>trump</th>\n",
       "      <td>11144</td>\n",
       "    </tr>\n",
       "  </tbody>\n",
       "</table>\n",
       "</div>"
      ],
      "text/plain": [
       "       count\n",
       "than    7000\n",
       "my      7951\n",
       "his     8977\n",
       "your   10838\n",
       "trump  11144"
      ]
     },
     "execution_count": 89,
     "metadata": {},
     "output_type": "execute_result"
    }
   ],
   "source": [
    "cvec = CountVectorizer(ngram_range=(1,1),\n",
    "                       stop_words=None,\n",
    "                       max_features=35_000,\n",
    "                       max_df = .79,\n",
    "                       min_df = .01)\n",
    "\n",
    "cvec.fit(X_flat_train)\n",
    "\n",
    "X_Flat_Co_train = cvec.transform(X_flat_train)\n",
    "X_Flat_Co_train = pd.DataFrame(X_Flat_Co_train.toarray(),\n",
    "                               columns=cvec.get_feature_names())\n",
    "\n",
    "X_Flat_Co_test = cvec.transform(X_flat_test)\n",
    "X_Flat_Co_test = pd.DataFrame(X_Flat_Co_test.toarray(),\n",
    "                               columns=cvec.get_feature_names())\n",
    "\n",
    "cvec_sum = pd.DataFrame(X_Flat_Co_train.sum(), columns=[\"count\"]).sort_values(\"count\")\n",
    "\n",
    "cvec_sum.tail(5)"
   ]
  },
  {
   "cell_type": "code",
   "execution_count": 95,
   "metadata": {},
   "outputs": [
    {
     "name": "stderr",
     "output_type": "stream",
     "text": [
      "/Users/michaelruggiero/anaconda3/envs/maker/lib/python3.6/site-packages/sklearn/linear_model/sag.py:334: ConvergenceWarning: The max_iter was reached which means the coef_ did not converge\n",
      "  \"the coef_ did not converge\", ConvergenceWarning)\n"
     ]
    },
    {
     "data": {
      "text/plain": [
       "LogisticRegression(C=4, class_weight=None, dual=False, fit_intercept=True,\n",
       "          intercept_scaling=1, max_iter=300, multi_class='warn',\n",
       "          n_jobs=None, penalty='l2', random_state=None, solver='sag',\n",
       "          tol=0.0001, verbose=0, warm_start=False)"
      ]
     },
     "execution_count": 95,
     "metadata": {},
     "output_type": "execute_result"
    }
   ],
   "source": [
    "from sklearn.linear_model import LogisticRegression\n",
    "lr = LogisticRegression(C=4, max_iter=300, solver='sag')\n",
    "\n",
    "lr.fit(X_Flat_Co_train, y_train)"
   ]
  },
  {
   "cell_type": "code",
   "execution_count": 96,
   "metadata": {},
   "outputs": [
    {
     "data": {
      "text/plain": [
       "0.8353413654618473"
      ]
     },
     "execution_count": 96,
     "metadata": {},
     "output_type": "execute_result"
    }
   ],
   "source": [
    "lr.score(X_Flat_Co_test, y_test)"
   ]
  },
  {
   "cell_type": "markdown",
   "metadata": {},
   "source": [
    "<strong>Review bettas of different words</strong>"
   ]
  },
  {
   "cell_type": "code",
   "execution_count": 103,
   "metadata": {},
   "outputs": [
    {
     "name": "stdout",
     "output_type": "stream",
     "text": [
      "comments -0.10942689931862493\n",
      "fuck 0.1082264564603267\n",
      "fucking 0.2069304125816288\n",
      "gop 0.1409671552305344\n",
      "left -0.1207941861192518\n",
      "politics -0.10954234635343972\n",
      "republican -0.1260557221338799\n",
      "republicans 0.11210272043550856\n",
      "trump 0.10976874317459778\n"
     ]
    }
   ],
   "source": [
    "for i in range(len(X_Flat_Co_test.columns)):\n",
    "    if abs(lr.coef_[0][i]) > .1:\n",
    "        print(X_Flat_Co_test.columns[i],lr.coef_[0][i])"
   ]
  },
  {
   "cell_type": "code",
   "execution_count": 104,
   "metadata": {},
   "outputs": [],
   "source": [
    "pred = lr.predict(X_Flat_Co_test)"
   ]
  },
  {
   "cell_type": "code",
   "execution_count": 105,
   "metadata": {},
   "outputs": [
    {
     "name": "stdout",
     "output_type": "stream",
     "text": [
      "[[206  43]\n",
      " [ 39 210]]\n"
     ]
    }
   ],
   "source": [
    "print(confusion_matrix(y_test, pred))"
   ]
  },
  {
   "cell_type": "code",
   "execution_count": null,
   "metadata": {},
   "outputs": [],
   "source": [
    "plt.hist(x, 50, density=True, facecolor='g', alpha=0.75)"
   ]
  },
  {
   "cell_type": "code",
   "execution_count": 133,
   "metadata": {},
   "outputs": [
    {
     "data": {
      "image/png": "[encoded data removed]",
      "text/plain": [
       "<Figure size 432x288 with 1 Axes>"
      ]
     },
     "metadata": {
      "image/png": {
       "height": 263,
       "width": 377
      },
      "needs_background": "light"
     },
     "output_type": "display_data"
    }
   ],
   "source": [
    "confusion_plt = (y_test - pred).values\n",
    "plt.hist(confusion_plt, 5, facecolor='b', alpha=0.75);\n",
    "\n",
    "plt.xlabel('');\n",
    "plt.ylabel('');\n",
    "plt.title('Logistic Regression Confusion Plot');\n",
    "plt.xticks([-.8,0,.8],[\"False Democrats\",\"Correct\",\"False Republicans\"]);\n",
    "plt.yticks([400,50]);"
   ]
  },
  {
   "cell_type": "markdown",
   "metadata": {},
   "source": [
    "<strong>While the logistic model is interpretable, this model is very overfit. What follows is an exploration other models</strong>"
   ]
  },
  {
   "cell_type": "markdown",
   "metadata": {},
   "source": [
    "## 4c. Ada with CountVectorizer vs Ti-Dif <a id = \"Ada\"></a>"
   ]
  },
  {
   "cell_type": "code",
   "execution_count": 134,
   "metadata": {},
   "outputs": [],
   "source": [
    "from sklearn.feature_extraction.text import TfidfTransformer"
   ]
  },
  {
   "cell_type": "markdown",
   "metadata": {},
   "source": [
    "<strong>Grid search different Ada parameters</strong>"
   ]
  },
  {
   "cell_type": "code",
   "execution_count": 135,
   "metadata": {},
   "outputs": [
    {
     "name": "stdout",
     "output_type": "stream",
     "text": [
      "Fitting 3 folds for each of 144 candidates, totalling 432 fits\n"
     ]
    },
    {
     "name": "stderr",
     "output_type": "stream",
     "text": [
      "[Parallel(n_jobs=3)]: Using backend LokyBackend with 3 concurrent workers.\n",
      "[Parallel(n_jobs=3)]: Done  19 tasks      | elapsed:   34.2s\n",
      "[Parallel(n_jobs=3)]: Done  92 tasks      | elapsed:  2.6min\n",
      "[Parallel(n_jobs=3)]: Done 215 tasks      | elapsed:  7.0min\n",
      "[Parallel(n_jobs=3)]: Done 386 tasks      | elapsed: 12.4min\n",
      "[Parallel(n_jobs=3)]: Done 432 out of 432 | elapsed: 14.1min finished\n"
     ]
    },
    {
     "name": "stdout",
     "output_type": "stream",
     "text": [
      "svc 0.8519758874748827\n",
      "{'ada__learning_rate': 0.5, 'ada__n_estimators': 50, 'cvec__max_df': 0.75, 'cvec__max_features': 10000, 'cvec__min_df': 0.001, 'cvec__stop_words': (1, 1)}\n"
     ]
    }
   ],
   "source": [
    "pipe = Pipeline([\n",
    "    (\"cvec\", CountVectorizer()),\n",
    "    (\"ada\", AdaBoostClassifier())\n",
    "])\n",
    "\n",
    "params = {\n",
    "    \"cvec__stop_words\":[None],\n",
    "    \"cvec__max_features\":[10_000, 20_000, 35_000],\n",
    "    \"cvec__stop_words\": [(1,1),(1,2),(2,2)],\n",
    "    \"cvec__max_df\": [.75,.8],\n",
    "    \"cvec__min_df\": [.001,.01],\n",
    "    \"ada__n_estimators\"     : [10,50],\n",
    "    \"ada__learning_rate\"    : [1,.5]}\n",
    "\n",
    "gs = GridSearchCV(pipe,\n",
    "                  param_grid=params,\n",
    "                  cv = 3,\n",
    "                  n_jobs = 3,\n",
    "                  verbose=4)\n",
    "\n",
    "gs.fit(X_flat_train, y_train)\n",
    "print(model, gs.best_score_)\n",
    "print(gs.best_params_)"
   ]
  },
  {
   "cell_type": "code",
   "execution_count": 163,
   "metadata": {},
   "outputs": [
    {
     "data": {
      "text/plain": [
       "AdaBoostClassifier(algorithm='SAMME.R', base_estimator=None,\n",
       "          learning_rate=0.5, n_estimators=50, random_state=None)"
      ]
     },
     "execution_count": 163,
     "metadata": {},
     "output_type": "execute_result"
    }
   ],
   "source": [
    "cvec = CountVectorizer(ngram_range=(1,1),\n",
    "                       stop_words=None,\n",
    "                       max_features=10_000,\n",
    "                       max_df = .75,\n",
    "                       min_df = .001)\n",
    "\n",
    "cvec.fit(X_flat_train)\n",
    "\n",
    "X_Flat_Co_train = cvec.transform(X_flat_train)\n",
    "X_Flat_Co_train = pd.DataFrame(X_Flat_Co_train.toarray(),\n",
    "                               columns=cvec.get_feature_names())\n",
    "\n",
    "X_Flat_Co_test = cvec.transform(X_flat_test)\n",
    "X_Flat_Co_test = pd.DataFrame(X_Flat_Co_test.toarray(),\n",
    "                               columns=cvec.get_feature_names())\n",
    "\n",
    "ada = AdaBoostClassifier(n_estimators = 50,\n",
    "                         learning_rate=0.5)\n",
    "\n",
    "ada.fit(X_Flat_Co_train, y_train)"
   ]
  },
  {
   "cell_type": "code",
   "execution_count": 141,
   "metadata": {},
   "outputs": [
    {
     "name": "stdout",
     "output_type": "stream",
     "text": [
      "0.8968519758874749\n",
      "[0. 0. 0. ... 0. 0. 0.]\n"
     ]
    }
   ],
   "source": [
    "print(ada.score(X_Flat_Co_train, y_train))"
   ]
  },
  {
   "cell_type": "markdown",
   "metadata": {},
   "source": [
    "<strong>Most important Ada classifier words</strong>"
   ]
  },
  {
   "cell_type": "code",
   "execution_count": 274,
   "metadata": {},
   "outputs": [
    {
     "name": "stdout",
     "output_type": "stream",
     "text": [
      "00 0.262\n",
      "000 0.238\n",
      "01 0.274\n",
      "02 0.226\n"
     ]
    }
   ],
   "source": [
    "word_list = []\n",
    "\n",
    "for i in range(len(ada.feature_importances_)):\n",
    "    if ada.feature_importances_[i] > .04:\n",
    "        print(X_Flat_Co_test.columns[i],ada.feature_importances_[i])\n",
    "        word_list.append(X_Flat_Co_test.columns[i])"
   ]
  },
  {
   "cell_type": "code",
   "execution_count": 155,
   "metadata": {},
   "outputs": [
    {
     "name": "stdout",
     "output_type": "stream",
     "text": [
      "0.8473895582329317\n",
      "[[219  30]\n",
      " [ 46 203]]\n"
     ]
    }
   ],
   "source": [
    "pred = ada.predict(X_Flat_Co_test)\n",
    "print(ada.score(X_Flat_Co_test,y_test))\n",
    "print(confusion_matrix(y_test, pred))"
   ]
  },
  {
   "cell_type": "markdown",
   "metadata": {},
   "source": [
    "<strong>Adding Tf-Idf makes transform more overfit</strong>"
   ]
  },
  {
   "cell_type": "code",
   "execution_count": 156,
   "metadata": {},
   "outputs": [],
   "source": [
    "from sklearn.feature_extraction.text import TfidfVectorizer"
   ]
  },
  {
   "cell_type": "code",
   "execution_count": 162,
   "metadata": {},
   "outputs": [
    {
     "data": {
      "text/plain": [
       "AdaBoostClassifier(algorithm='SAMME.R', base_estimator=None,\n",
       "          learning_rate=0.5, n_estimators=50, random_state=None)"
      ]
     },
     "execution_count": 162,
     "metadata": {},
     "output_type": "execute_result"
    }
   ],
   "source": [
    "tfidv = TfidfVectorizer(ngram_range=(1,1),\n",
    "                       stop_words=None,\n",
    "                       max_features=10_000,\n",
    "                       max_df = .75,\n",
    "                       min_df = .001)\n",
    "\n",
    "tfidv.fit(X_flat_train)\n",
    "\n",
    "X_Flat_Co_train = tfidv.transform(X_flat_train)\n",
    "X_Flat_Co_train = pd.DataFrame(X_Flat_Co_train.toarray(),\n",
    "                               columns=tfidv.get_feature_names())\n",
    "\n",
    "X_Flat_Co_test = tfidv.transform(X_flat_test)\n",
    "X_Flat_Co_test = pd.DataFrame(X_Flat_Co_test.toarray(),\n",
    "                               columns=cvec.get_feature_names())\n",
    "\n",
    "ada = AdaBoostClassifier(n_estimators = 50,\n",
    "                         learning_rate=0.5)\n",
    "\n",
    "ada.fit(X_Flat_Co_train, y_train)"
   ]
  },
  {
   "cell_type": "code",
   "execution_count": 158,
   "metadata": {},
   "outputs": [
    {
     "name": "stdout",
     "output_type": "stream",
     "text": [
      "0.9089082384460817\n"
     ]
    }
   ],
   "source": [
    "print(ada.score(X_Flat_Co_train, y_train))"
   ]
  },
  {
   "cell_type": "markdown",
   "metadata": {},
   "source": [
    "<strong>Interesting to see how Ti-dif negatively effects this particular model</strong>"
   ]
  },
  {
   "cell_type": "code",
   "execution_count": 160,
   "metadata": {},
   "outputs": [
    {
     "data": {
      "text/plain": [
       "0.8313253012048193"
      ]
     },
     "execution_count": 160,
     "metadata": {},
     "output_type": "execute_result"
    }
   ],
   "source": [
    "ada.score(X_Flat_Co_test, y_test)"
   ]
  },
  {
   "cell_type": "markdown",
   "metadata": {},
   "source": [
    "## 4d. Ada with Title and CountVectorizer/Ti-Dif<a id = \"AdaTitle\"></a>"
   ]
  },
  {
   "cell_type": "markdown",
   "metadata": {},
   "source": [
    "<strong>Rebuilding Ada Model, just in case.</strong>"
   ]
  },
  {
   "cell_type": "code",
   "execution_count": 165,
   "metadata": {},
   "outputs": [
    {
     "data": {
      "text/plain": [
       "AdaBoostClassifier(algorithm='SAMME.R', base_estimator=None,\n",
       "          learning_rate=0.5, n_estimators=50, random_state=None)"
      ]
     },
     "execution_count": 165,
     "metadata": {},
     "output_type": "execute_result"
    }
   ],
   "source": [
    "cvec = CountVectorizer(ngram_range=(1,1),\n",
    "                       stop_words=None,\n",
    "                       max_features=10_000,\n",
    "                       max_df = .75,\n",
    "                       min_df = .001)\n",
    "\n",
    "cvec.fit(X_flat_train)\n",
    "\n",
    "X_Flat_Co_train = cvec.transform(X_flat_train)\n",
    "X_Flat_Co_train = pd.DataFrame(X_Flat_Co_train.toarray(),\n",
    "                               columns=cvec.get_feature_names())\n",
    "\n",
    "X_Flat_Co_test = cvec.transform(X_flat_test)\n",
    "X_Flat_Co_test = pd.DataFrame(X_Flat_Co_test.toarray(),\n",
    "                               columns=cvec.get_feature_names())\n",
    "\n",
    "ada = AdaBoostClassifier(n_estimators = 50,\n",
    "                         learning_rate=0.5)\n",
    "\n",
    "ada.fit(X_Flat_Co_train, y_train)"
   ]
  },
  {
   "cell_type": "markdown",
   "metadata": {},
   "source": [
    "<strong>Adding the Ada predictions as a column to X</strong>"
   ]
  },
  {
   "cell_type": "code",
   "execution_count": 184,
   "metadata": {},
   "outputs": [],
   "source": [
    "ada_comment_pred_train = [x[0] for x in ada.predict_proba(X_Flat_Co_train)]\n",
    "ada_comment_pred_test = [x[0] for x in ada.predict_proba(X_Flat_Co_test)]"
   ]
  },
  {
   "cell_type": "code",
   "execution_count": 185,
   "metadata": {
    "collapsed": true
   },
   "outputs": [
    {
     "name": "stderr",
     "output_type": "stream",
     "text": [
      "/Users/michaelruggiero/anaconda3/envs/maker/lib/python3.6/site-packages/ipykernel_launcher.py:1: SettingWithCopyWarning: \n",
      "A value is trying to be set on a copy of a slice from a DataFrame.\n",
      "Try using .loc[row_indexer,col_indexer] = value instead\n",
      "\n",
      "See the caveats in the documentation: http://pandas.pydata.org/pandas-docs/stable/indexing.html#indexing-view-versus-copy\n",
      "  \"\"\"Entry point for launching an IPython kernel.\n",
      "/Users/michaelruggiero/anaconda3/envs/maker/lib/python3.6/site-packages/ipykernel_launcher.py:2: SettingWithCopyWarning: \n",
      "A value is trying to be set on a copy of a slice from a DataFrame.\n",
      "Try using .loc[row_indexer,col_indexer] = value instead\n",
      "\n",
      "See the caveats in the documentation: http://pandas.pydata.org/pandas-docs/stable/indexing.html#indexing-view-versus-copy\n",
      "  \n"
     ]
    }
   ],
   "source": [
    "X_train[\"ada_comment_pred\"] = ada_comment_pred_train\n",
    "X_test[\"ada_comment_pred\"] = ada_comment_pred_test"
   ]
  },
  {
   "cell_type": "code",
   "execution_count": 187,
   "metadata": {},
   "outputs": [
    {
     "data": {
      "text/html": [
       "<div>\n",
       "<style scoped>\n",
       "    .dataframe tbody tr th:only-of-type {\n",
       "        vertical-align: middle;\n",
       "    }\n",
       "\n",
       "    .dataframe tbody tr th {\n",
       "        vertical-align: top;\n",
       "    }\n",
       "\n",
       "    .dataframe thead th {\n",
       "        text-align: right;\n",
       "    }\n",
       "</style>\n",
       "<table border=\"1\" class=\"dataframe\">\n",
       "  <thead>\n",
       "    <tr style=\"text-align: right;\">\n",
       "      <th></th>\n",
       "      <th>comments</th>\n",
       "      <th>flat_comments</th>\n",
       "      <th>num_text_comments</th>\n",
       "      <th>len_flat_comments</th>\n",
       "      <th>title</th>\n",
       "      <th>ada_comment_pred</th>\n",
       "    </tr>\n",
       "  </thead>\n",
       "  <tbody>\n",
       "    <tr>\n",
       "      <th>1381</th>\n",
       "      <td>[WHERE DO I FUCKING DONATE, I live in Kentucky...</td>\n",
       "      <td>'WHERE DO I FUCKING DONATE', \"I live in Kentuc...</td>\n",
       "      <td>32</td>\n",
       "      <td>5088</td>\n",
       "      <td>Campaign to draft Democratic challenger to McC...</td>\n",
       "      <td>0.492625</td>\n",
       "    </tr>\n",
       "    <tr>\n",
       "      <th>1190</th>\n",
       "      <td>[Can't even Nazi correctly because they didn't...</td>\n",
       "      <td>\"Can't even Nazi correctly because they didn't...</td>\n",
       "      <td>126</td>\n",
       "      <td>33857</td>\n",
       "      <td>Rocket launcher, pipe bombs and hundreds of fi...</td>\n",
       "      <td>0.416326</td>\n",
       "    </tr>\n",
       "    <tr>\n",
       "      <th>1704</th>\n",
       "      <td>[I'm not baffled by it. I'm baffled by anyone ...</td>\n",
       "      <td>\"I'm not baffled by it. I'm baffled by anyone ...</td>\n",
       "      <td>55</td>\n",
       "      <td>8441</td>\n",
       "      <td>Mark Warner on Twitter: \"The President’s reluc...</td>\n",
       "      <td>0.478907</td>\n",
       "    </tr>\n",
       "  </tbody>\n",
       "</table>\n",
       "</div>"
      ],
      "text/plain": [
       "                                               comments  \\\n",
       "1381  [WHERE DO I FUCKING DONATE, I live in Kentucky...   \n",
       "1190  [Can't even Nazi correctly because they didn't...   \n",
       "1704  [I'm not baffled by it. I'm baffled by anyone ...   \n",
       "\n",
       "                                          flat_comments  num_text_comments  \\\n",
       "1381  'WHERE DO I FUCKING DONATE', \"I live in Kentuc...                 32   \n",
       "1190  \"Can't even Nazi correctly because they didn't...                126   \n",
       "1704  \"I'm not baffled by it. I'm baffled by anyone ...                 55   \n",
       "\n",
       "      len_flat_comments                                              title  \\\n",
       "1381               5088  Campaign to draft Democratic challenger to McC...   \n",
       "1190              33857  Rocket launcher, pipe bombs and hundreds of fi...   \n",
       "1704               8441  Mark Warner on Twitter: \"The President’s reluc...   \n",
       "\n",
       "      ada_comment_pred  \n",
       "1381          0.492625  \n",
       "1190          0.416326  \n",
       "1704          0.478907  "
      ]
     },
     "execution_count": 187,
     "metadata": {},
     "output_type": "execute_result"
    }
   ],
   "source": [
    "X_train.head(3)"
   ]
  },
  {
   "cell_type": "code",
   "execution_count": 218,
   "metadata": {},
   "outputs": [],
   "source": [
    "X_title_train, X_title_test = X_train[\"title\"], X_test[\"title\"]"
   ]
  },
  {
   "cell_type": "code",
   "execution_count": 190,
   "metadata": {},
   "outputs": [
    {
     "name": "stdout",
     "output_type": "stream",
     "text": [
      "lr\n",
      "ada\n"
     ]
    }
   ],
   "source": [
    "models = {\n",
    "    \"lr\" : LogisticRegression(n_jobs=3),\n",
    "    \"ada\": AdaBoostClassifier()}\n",
    "\n",
    "for model in models:\n",
    "    print(model)"
   ]
  },
  {
   "cell_type": "markdown",
   "metadata": {},
   "source": [
    "<strong>Ti-Fid transform</strong>"
   ]
  },
  {
   "cell_type": "code",
   "execution_count": 222,
   "metadata": {},
   "outputs": [
    {
     "name": "stdout",
     "output_type": "stream",
     "text": [
      "Fitting 3 folds for each of 8 candidates, totalling 24 fits\n"
     ]
    },
    {
     "name": "stderr",
     "output_type": "stream",
     "text": [
      "[Parallel(n_jobs=3)]: Using backend LokyBackend with 3 concurrent workers.\n",
      "[Parallel(n_jobs=3)]: Done  24 out of  24 | elapsed:    5.1s finished\n",
      "[Parallel(n_jobs=3)]: Using backend LokyBackend with 3 concurrent workers.\n",
      "[Parallel(n_jobs=3)]: Done   3 out of   8 | elapsed:    0.1s remaining:    0.2s\n"
     ]
    },
    {
     "name": "stdout",
     "output_type": "stream",
     "text": [
      "Fitting 2 folds for each of 4 candidates, totalling 8 fits\n"
     ]
    },
    {
     "name": "stderr",
     "output_type": "stream",
     "text": [
      "[Parallel(n_jobs=3)]: Done   8 out of   8 | elapsed:    0.4s remaining:    0.0s\n",
      "[Parallel(n_jobs=3)]: Done   8 out of   8 | elapsed:    0.4s finished\n",
      "[Parallel(n_jobs=3)]: Using backend LokyBackend with 3 concurrent workers.\n"
     ]
    },
    {
     "name": "stdout",
     "output_type": "stream",
     "text": [
      "lr 0.6858673811118553\n",
      "{'tfid__max_df': 0.99, 'tfid__max_features': None, 'tfid__min_df': 0.001, 'tfid__ngram_range': (1, 1), 'tfid__stop_words': None}\n",
      "Fitting 3 folds for each of 8 candidates, totalling 24 fits\n"
     ]
    },
    {
     "name": "stderr",
     "output_type": "stream",
     "text": [
      "[Parallel(n_jobs=3)]: Done  24 out of  24 | elapsed:    5.7s finished\n",
      "[Parallel(n_jobs=3)]: Using backend LokyBackend with 3 concurrent workers.\n",
      "[Parallel(n_jobs=3)]: Done   3 out of   8 | elapsed:    0.1s remaining:    0.1s\n"
     ]
    },
    {
     "name": "stdout",
     "output_type": "stream",
     "text": [
      "Fitting 2 folds for each of 4 candidates, totalling 8 fits\n",
      "ada 0.6389819156061621\n",
      "{'tfid__max_df': 0.99, 'tfid__max_features': None, 'tfid__min_df': 0.01, 'tfid__ngram_range': (1, 2), 'tfid__stop_words': None}\n"
     ]
    },
    {
     "name": "stderr",
     "output_type": "stream",
     "text": [
      "[Parallel(n_jobs=3)]: Done   8 out of   8 | elapsed:    0.2s remaining:    0.0s\n",
      "[Parallel(n_jobs=3)]: Done   8 out of   8 | elapsed:    0.2s finished\n"
     ]
    }
   ],
   "source": [
    "models = {\n",
    "    \"lr\" : LogisticRegression(n_jobs=3),\n",
    "    \"ada\": AdaBoostClassifier()}\n",
    "\n",
    "params = {\n",
    "    \"lr\" :{\n",
    "        \"solver\"            : [\"newton-cg\", \"lbfgs\"],\n",
    "        \"multi_class\"       : [\"ovr\", \"multinomial\"]},\n",
    "    \"ada\":{\n",
    "         \"n_estimators\"     : [10, 25],\n",
    "         \"learning_rate\"    : [1,.5]}}\n",
    "\n",
    "for model in models:\n",
    "    pipe = Pipeline([\n",
    "        (\"tfid\", TfidfVectorizer()),\n",
    "        (\"grid\", GridSearchCV(models[model], \n",
    "                              params[model],\n",
    "                              cv = 2,\n",
    "                              n_jobs = 3,\n",
    "                              verbose = 2))\n",
    "    ])\n",
    "\n",
    "    tfid_params = {\n",
    "        \"tfid__stop_words\":[None],\n",
    "        \"tfid__ngram_range\": [(1,1),(1,2)],\n",
    "        \"tfid__max_features\":[None],\n",
    "        \"tfid__max_df\": [.99,.9],\n",
    "        \"tfid__min_df\": [.01,.001]}\n",
    "\n",
    "    gs = GridSearchCV(pipe,\n",
    "                      param_grid=tfid_params,\n",
    "                      cv = 3,\n",
    "                      n_jobs = 3,\n",
    "                      verbose = 2)\n",
    "\n",
    "    gs.fit(X_title_train, y_train)\n",
    "    print(model, gs.best_score_)\n",
    "    print(gs.best_params_)"
   ]
  },
  {
   "cell_type": "markdown",
   "metadata": {},
   "source": [
    "<strong>Count Vectorizer Title transform</strong>"
   ]
  },
  {
   "cell_type": "code",
   "execution_count": 223,
   "metadata": {},
   "outputs": [
    {
     "name": "stdout",
     "output_type": "stream",
     "text": [
      "Fitting 3 folds for each of 8 candidates, totalling 24 fits\n"
     ]
    },
    {
     "name": "stderr",
     "output_type": "stream",
     "text": [
      "[Parallel(n_jobs=3)]: Using backend LokyBackend with 3 concurrent workers.\n",
      "[Parallel(n_jobs=3)]: Done  24 out of  24 | elapsed:    6.3s finished\n",
      "[Parallel(n_jobs=3)]: Using backend LokyBackend with 3 concurrent workers.\n",
      "[Parallel(n_jobs=3)]: Done   3 out of   8 | elapsed:    0.1s remaining:    0.2s\n"
     ]
    },
    {
     "name": "stdout",
     "output_type": "stream",
     "text": [
      "Fitting 2 folds for each of 4 candidates, totalling 8 fits\n"
     ]
    },
    {
     "name": "stderr",
     "output_type": "stream",
     "text": [
      "[Parallel(n_jobs=3)]: Done   8 out of   8 | elapsed:    0.4s remaining:    0.0s\n",
      "[Parallel(n_jobs=3)]: Done   8 out of   8 | elapsed:    0.4s finished\n",
      "[Parallel(n_jobs=3)]: Using backend LokyBackend with 3 concurrent workers.\n"
     ]
    },
    {
     "name": "stdout",
     "output_type": "stream",
     "text": [
      "lr 0.679839249832552\n",
      "{'cvec__max_df': 0.99, 'cvec__max_features': None, 'cvec__min_df': 0.001, 'cvec__ngram_range': (1, 1), 'cvec__stop_words': None}\n",
      "Fitting 3 folds for each of 8 candidates, totalling 24 fits\n"
     ]
    },
    {
     "name": "stderr",
     "output_type": "stream",
     "text": [
      "[Parallel(n_jobs=3)]: Done  24 out of  24 | elapsed:    5.4s finished\n",
      "[Parallel(n_jobs=3)]: Using backend LokyBackend with 3 concurrent workers.\n",
      "[Parallel(n_jobs=3)]: Done   3 out of   8 | elapsed:    0.1s remaining:    0.1s\n"
     ]
    },
    {
     "name": "stdout",
     "output_type": "stream",
     "text": [
      "Fitting 2 folds for each of 4 candidates, totalling 8 fits\n",
      "ada 0.6423308774279973\n",
      "{'cvec__max_df': 0.99, 'cvec__max_features': None, 'cvec__min_df': 0.001, 'cvec__ngram_range': (1, 1), 'cvec__stop_words': None}\n"
     ]
    },
    {
     "name": "stderr",
     "output_type": "stream",
     "text": [
      "[Parallel(n_jobs=3)]: Done   8 out of   8 | elapsed:    0.2s remaining:    0.0s\n",
      "[Parallel(n_jobs=3)]: Done   8 out of   8 | elapsed:    0.2s finished\n"
     ]
    }
   ],
   "source": [
    "models = {\n",
    "    \"lr\" : LogisticRegression(n_jobs=3),\n",
    "    \"ada\": AdaBoostClassifier()}\n",
    "\n",
    "params = {\n",
    "    \"lr\" :{\n",
    "        \"solver\"            : [\"newton-cg\", \"lbfgs\"],\n",
    "        \"multi_class\"       : [\"ovr\", \"multinomial\"]},\n",
    "    \"ada\":{\n",
    "         \"n_estimators\"     : [10, 25],\n",
    "         \"learning_rate\"    : [1,.5]}}\n",
    "\n",
    "for model in models:\n",
    "    pipe = Pipeline([\n",
    "        (\"cvec\", CountVectorizer()),\n",
    "        (\"grid\", GridSearchCV(models[model], \n",
    "                              params[model],\n",
    "                              cv = 2,\n",
    "                              n_jobs = 3,\n",
    "                              verbose = 2))\n",
    "    ])\n",
    "\n",
    "    cvec_params = {\n",
    "        \"cvec__stop_words\":[None],\n",
    "        \"cvec__ngram_range\": [(1,1),(1,2)],\n",
    "        \"cvec__max_features\":[None],\n",
    "        \"cvec__max_df\": [.99,.9],\n",
    "        \"cvec__min_df\": [.01,.001]}\n",
    "\n",
    "    gs = GridSearchCV(pipe,\n",
    "                      param_grid=cvec_params,\n",
    "                      cv = 3,\n",
    "                      n_jobs = 3,\n",
    "                      verbose = 2)\n",
    "\n",
    "    gs.fit(X_title_train, y_train)\n",
    "    print(model, gs.best_score_)\n",
    "    print(gs.best_params_)"
   ]
  },
  {
   "cell_type": "markdown",
   "metadata": {},
   "source": [
    "<strong>LR with TFID best, fitting with grid seaerch below</stong>"
   ]
  },
  {
   "cell_type": "code",
   "execution_count": 225,
   "metadata": {},
   "outputs": [
    {
     "name": "stdout",
     "output_type": "stream",
     "text": [
      "Fitting 5 folds for each of 80 candidates, totalling 400 fits\n"
     ]
    },
    {
     "name": "stderr",
     "output_type": "stream",
     "text": [
      "[Parallel(n_jobs=3)]: Using backend LokyBackend with 3 concurrent workers.\n",
      "[Parallel(n_jobs=3)]: Done  19 tasks      | elapsed:    1.5s\n",
      "[Parallel(n_jobs=3)]: Done 159 tasks      | elapsed:    4.7s\n"
     ]
    },
    {
     "name": "stdout",
     "output_type": "stream",
     "text": [
      "ada 0.6972538513060951\n",
      "{'lr__C': 1, 'lr__max_iter': 300, 'lr__solver': 'saga', 'tfid__max_df': 0.9, 'tfid__min_df': 0.001, 'tfid__stop_words': (1, 1)}\n"
     ]
    },
    {
     "name": "stderr",
     "output_type": "stream",
     "text": [
      "[Parallel(n_jobs=3)]: Done 395 out of 400 | elapsed:   10.1s remaining:    0.1s\n",
      "[Parallel(n_jobs=3)]: Done 400 out of 400 | elapsed:   10.2s finished\n"
     ]
    }
   ],
   "source": [
    "#One more large grid search with LR\n",
    "\n",
    "pipe = Pipeline([\n",
    "    (\"tfid\", TfidfVectorizer()),\n",
    "    (\"lr\", LogisticRegression())\n",
    "])\n",
    "\n",
    "\n",
    "params = {\n",
    "    \"tfid__stop_words\":[None],\n",
    "    \"tfid__stop_words\": [(1,1)],\n",
    "    \"tfid__max_df\": [.90,.99],\n",
    "    \"tfid__min_df\": [.001],\n",
    "    \"lr__solver\":['newton-cg', 'lbfgs', 'liblinear', 'sag', 'saga'],\n",
    "    \"lr__max_iter\": [100,300],\n",
    "    \"lr__C\": [1,2,3,4]}\n",
    "\n",
    "gs = GridSearchCV(pipe,\n",
    "                  param_grid=params,\n",
    "                  cv = 5,\n",
    "                  n_jobs = 3,\n",
    "                  verbose=4)\n",
    "\n",
    "gs.fit(X_title_train, y_train)\n",
    "print(model, gs.best_score_)\n",
    "print(gs.best_params_)"
   ]
  },
  {
   "cell_type": "code",
   "execution_count": 226,
   "metadata": {},
   "outputs": [
    {
     "data": {
      "text/plain": [
       "0.7008032128514057"
      ]
     },
     "execution_count": 226,
     "metadata": {},
     "output_type": "execute_result"
    }
   ],
   "source": [
    "gs.score(X_title_test,y_test)"
   ]
  },
  {
   "cell_type": "code",
   "execution_count": 233,
   "metadata": {},
   "outputs": [],
   "source": [
    "lr_title_pred_train = [x[0] for x in gs.predict_proba(X_title_train)]\n",
    "lr_title_pred_test = [x[0] for x in gs.predict_proba(X_title_test)]"
   ]
  },
  {
   "cell_type": "code",
   "execution_count": 234,
   "metadata": {
    "collapsed": true
   },
   "outputs": [
    {
     "name": "stderr",
     "output_type": "stream",
     "text": [
      "/Users/michaelruggiero/anaconda3/envs/maker/lib/python3.6/site-packages/ipykernel_launcher.py:1: SettingWithCopyWarning: \n",
      "A value is trying to be set on a copy of a slice from a DataFrame.\n",
      "Try using .loc[row_indexer,col_indexer] = value instead\n",
      "\n",
      "See the caveats in the documentation: http://pandas.pydata.org/pandas-docs/stable/indexing.html#indexing-view-versus-copy\n",
      "  \"\"\"Entry point for launching an IPython kernel.\n",
      "/Users/michaelruggiero/anaconda3/envs/maker/lib/python3.6/site-packages/ipykernel_launcher.py:2: SettingWithCopyWarning: \n",
      "A value is trying to be set on a copy of a slice from a DataFrame.\n",
      "Try using .loc[row_indexer,col_indexer] = value instead\n",
      "\n",
      "See the caveats in the documentation: http://pandas.pydata.org/pandas-docs/stable/indexing.html#indexing-view-versus-copy\n",
      "  \n"
     ]
    }
   ],
   "source": [
    "X_train[\"lr_title_pred\"] = lr_title_pred_train\n",
    "X_test[\"lr_title_pred\"] = lr_title_pred_test"
   ]
  },
  {
   "cell_type": "code",
   "execution_count": 235,
   "metadata": {},
   "outputs": [
    {
     "data": {
      "text/html": [
       "<div>\n",
       "<style scoped>\n",
       "    .dataframe tbody tr th:only-of-type {\n",
       "        vertical-align: middle;\n",
       "    }\n",
       "\n",
       "    .dataframe tbody tr th {\n",
       "        vertical-align: top;\n",
       "    }\n",
       "\n",
       "    .dataframe thead th {\n",
       "        text-align: right;\n",
       "    }\n",
       "</style>\n",
       "<table border=\"1\" class=\"dataframe\">\n",
       "  <thead>\n",
       "    <tr style=\"text-align: right;\">\n",
       "      <th></th>\n",
       "      <th>comments</th>\n",
       "      <th>flat_comments</th>\n",
       "      <th>num_text_comments</th>\n",
       "      <th>len_flat_comments</th>\n",
       "      <th>title</th>\n",
       "      <th>ada_comment_pred</th>\n",
       "      <th>lr_title_pred</th>\n",
       "    </tr>\n",
       "  </thead>\n",
       "  <tbody>\n",
       "    <tr>\n",
       "      <th>1381</th>\n",
       "      <td>[WHERE DO I FUCKING DONATE, I live in Kentucky...</td>\n",
       "      <td>'WHERE DO I FUCKING DONATE', \"I live in Kentuc...</td>\n",
       "      <td>32</td>\n",
       "      <td>5088</td>\n",
       "      <td>Campaign to draft Democratic challenger to McC...</td>\n",
       "      <td>0.492625</td>\n",
       "      <td>0.380779</td>\n",
       "    </tr>\n",
       "    <tr>\n",
       "      <th>1190</th>\n",
       "      <td>[Can't even Nazi correctly because they didn't...</td>\n",
       "      <td>\"Can't even Nazi correctly because they didn't...</td>\n",
       "      <td>126</td>\n",
       "      <td>33857</td>\n",
       "      <td>Rocket launcher, pipe bombs and hundreds of fi...</td>\n",
       "      <td>0.416326</td>\n",
       "      <td>0.394937</td>\n",
       "    </tr>\n",
       "    <tr>\n",
       "      <th>1704</th>\n",
       "      <td>[I'm not baffled by it. I'm baffled by anyone ...</td>\n",
       "      <td>\"I'm not baffled by it. I'm baffled by anyone ...</td>\n",
       "      <td>55</td>\n",
       "      <td>8441</td>\n",
       "      <td>Mark Warner on Twitter: \"The President’s reluc...</td>\n",
       "      <td>0.478907</td>\n",
       "      <td>0.191864</td>\n",
       "    </tr>\n",
       "    <tr>\n",
       "      <th>327</th>\n",
       "      <td>[Registered dem here, also voted Johnson., Whe...</td>\n",
       "      <td>'Registered dem here, also voted Johnson.', 'W...</td>\n",
       "      <td>253</td>\n",
       "      <td>68386</td>\n",
       "      <td>Maybe screwing all of those Ron Paul supporter...</td>\n",
       "      <td>0.538261</td>\n",
       "      <td>0.666230</td>\n",
       "    </tr>\n",
       "    <tr>\n",
       "      <th>1415</th>\n",
       "      <td>[This is a bit of a stretch. Did I miss someth...</td>\n",
       "      <td>'This is a bit of a stretch. Did I miss someth...</td>\n",
       "      <td>59</td>\n",
       "      <td>14523</td>\n",
       "      <td>Trump personally met with Russian ambassador d...</td>\n",
       "      <td>0.484696</td>\n",
       "      <td>0.311047</td>\n",
       "    </tr>\n",
       "  </tbody>\n",
       "</table>\n",
       "</div>"
      ],
      "text/plain": [
       "                                               comments  \\\n",
       "1381  [WHERE DO I FUCKING DONATE, I live in Kentucky...   \n",
       "1190  [Can't even Nazi correctly because they didn't...   \n",
       "1704  [I'm not baffled by it. I'm baffled by anyone ...   \n",
       "327   [Registered dem here, also voted Johnson., Whe...   \n",
       "1415  [This is a bit of a stretch. Did I miss someth...   \n",
       "\n",
       "                                          flat_comments  num_text_comments  \\\n",
       "1381  'WHERE DO I FUCKING DONATE', \"I live in Kentuc...                 32   \n",
       "1190  \"Can't even Nazi correctly because they didn't...                126   \n",
       "1704  \"I'm not baffled by it. I'm baffled by anyone ...                 55   \n",
       "327   'Registered dem here, also voted Johnson.', 'W...                253   \n",
       "1415  'This is a bit of a stretch. Did I miss someth...                 59   \n",
       "\n",
       "      len_flat_comments                                              title  \\\n",
       "1381               5088  Campaign to draft Democratic challenger to McC...   \n",
       "1190              33857  Rocket launcher, pipe bombs and hundreds of fi...   \n",
       "1704               8441  Mark Warner on Twitter: \"The President’s reluc...   \n",
       "327               68386  Maybe screwing all of those Ron Paul supporter...   \n",
       "1415              14523  Trump personally met with Russian ambassador d...   \n",
       "\n",
       "      ada_comment_pred  lr_title_pred  \n",
       "1381          0.492625       0.380779  \n",
       "1190          0.416326       0.394937  \n",
       "1704          0.478907       0.191864  \n",
       "327           0.538261       0.666230  \n",
       "1415          0.484696       0.311047  "
      ]
     },
     "execution_count": 235,
     "metadata": {},
     "output_type": "execute_result"
    }
   ],
   "source": [
    "X_train.head()"
   ]
  },
  {
   "cell_type": "markdown",
   "metadata": {},
   "source": [
    "## 4e. Column Selection and Recap<a id = \"Col\"></a>"
   ]
  },
  {
   "cell_type": "markdown",
   "metadata": {},
   "source": [
    "<strong>Two models were selected to classify the text, Ada with Count Vectorizer for comments and LR with Tf-Idf for the titles. The predictions for each column are now standarized with number of text comments and comment text length for the final modeling.</strong>"
   ]
  },
  {
   "cell_type": "code",
   "execution_count": 236,
   "metadata": {},
   "outputs": [
    {
     "data": {
      "text/plain": [
       "Index(['comments', 'flat_comments', 'num_text_comments', 'len_flat_comments',\n",
       "       'title', 'ada_comment_pred', 'lr_title_pred'],\n",
       "      dtype='object')"
      ]
     },
     "execution_count": 236,
     "metadata": {},
     "output_type": "execute_result"
    }
   ],
   "source": [
    "X_test.columns"
   ]
  },
  {
   "cell_type": "code",
   "execution_count": 268,
   "metadata": {},
   "outputs": [],
   "source": [
    "X_final_train = X_train[[\"num_text_comments\",\n",
    "                        'len_flat_comments',\n",
    "                        'ada_comment_pred', \n",
    "                        'lr_title_pred']]\n",
    "\n",
    "X_final_test = X_test[[\"num_text_comments\",\n",
    "                        'len_flat_comments',\n",
    "                        'ada_comment_pred', \n",
    "                        'lr_title_pred']]"
   ]
  },
  {
   "cell_type": "code",
   "execution_count": 269,
   "metadata": {},
   "outputs": [
    {
     "name": "stderr",
     "output_type": "stream",
     "text": [
      "/Users/michaelruggiero/anaconda3/envs/maker/lib/python3.6/site-packages/sklearn/preprocessing/data.py:645: DataConversionWarning: Data with input dtype int64, float64 were all converted to float64 by StandardScaler.\n",
      "  return self.partial_fit(X, y)\n",
      "/Users/michaelruggiero/anaconda3/envs/maker/lib/python3.6/site-packages/ipykernel_launcher.py:7: DataConversionWarning: Data with input dtype int64, float64 were all converted to float64 by StandardScaler.\n",
      "  import sys\n",
      "/Users/michaelruggiero/anaconda3/envs/maker/lib/python3.6/site-packages/ipykernel_launcher.py:10: DataConversionWarning: Data with input dtype int64, float64 were all converted to float64 by StandardScaler.\n",
      "  # Remove the CWD from sys.path while we load stuff.\n"
     ]
    }
   ],
   "source": [
    "from sklearn.preprocessing import StandardScaler\n",
    "\n",
    "ss = StandardScaler()\n",
    "\n",
    "ss.fit(X_final_train)\n",
    "\n",
    "X_SS_final_train = pd.DataFrame(ss.transform(X_final_train), \n",
    "                              columns=X_final_train.columns)\n",
    "\n",
    "X_SS_final_test = pd.DataFrame(ss.transform(X_final_test), \n",
    "                              columns=X_final_train.columns)"
   ]
  },
  {
   "cell_type": "code",
   "execution_count": 270,
   "metadata": {},
   "outputs": [
    {
     "data": {
      "text/html": [
       "<div>\n",
       "<style scoped>\n",
       "    .dataframe tbody tr th:only-of-type {\n",
       "        vertical-align: middle;\n",
       "    }\n",
       "\n",
       "    .dataframe tbody tr th {\n",
       "        vertical-align: top;\n",
       "    }\n",
       "\n",
       "    .dataframe thead th {\n",
       "        text-align: right;\n",
       "    }\n",
       "</style>\n",
       "<table border=\"1\" class=\"dataframe\">\n",
       "  <thead>\n",
       "    <tr style=\"text-align: right;\">\n",
       "      <th></th>\n",
       "      <th>num_text_comments</th>\n",
       "      <th>len_flat_comments</th>\n",
       "      <th>ada_comment_pred</th>\n",
       "      <th>lr_title_pred</th>\n",
       "    </tr>\n",
       "  </thead>\n",
       "  <tbody>\n",
       "    <tr>\n",
       "      <th>0</th>\n",
       "      <td>-0.572858</td>\n",
       "      <td>-0.255068</td>\n",
       "      <td>-0.314324</td>\n",
       "      <td>-1.343661</td>\n",
       "    </tr>\n",
       "    <tr>\n",
       "      <th>1</th>\n",
       "      <td>-0.758097</td>\n",
       "      <td>-0.720938</td>\n",
       "      <td>0.354558</td>\n",
       "      <td>0.213910</td>\n",
       "    </tr>\n",
       "    <tr>\n",
       "      <th>2</th>\n",
       "      <td>-0.083297</td>\n",
       "      <td>0.328762</td>\n",
       "      <td>-0.710429</td>\n",
       "      <td>-0.507593</td>\n",
       "    </tr>\n",
       "    <tr>\n",
       "      <th>3</th>\n",
       "      <td>-0.308230</td>\n",
       "      <td>-0.389146</td>\n",
       "      <td>-1.031135</td>\n",
       "      <td>-1.042658</td>\n",
       "    </tr>\n",
       "    <tr>\n",
       "      <th>4</th>\n",
       "      <td>0.551810</td>\n",
       "      <td>0.464904</td>\n",
       "      <td>-0.478759</td>\n",
       "      <td>0.964801</td>\n",
       "    </tr>\n",
       "  </tbody>\n",
       "</table>\n",
       "</div>"
      ],
      "text/plain": [
       "   num_text_comments  len_flat_comments  ada_comment_pred  lr_title_pred\n",
       "0          -0.572858          -0.255068         -0.314324      -1.343661\n",
       "1          -0.758097          -0.720938          0.354558       0.213910\n",
       "2          -0.083297           0.328762         -0.710429      -0.507593\n",
       "3          -0.308230          -0.389146         -1.031135      -1.042658\n",
       "4           0.551810           0.464904         -0.478759       0.964801"
      ]
     },
     "execution_count": 270,
     "metadata": {},
     "output_type": "execute_result"
    }
   ],
   "source": [
    "X_SS_final_test.head()"
   ]
  },
  {
   "cell_type": "code",
   "execution_count": 271,
   "metadata": {},
   "outputs": [],
   "source": [
    "models = {\n",
    "    \"lr\" : LogisticRegression(n_jobs=3),\n",
    "    \"svc\": SVC(),\n",
    "    \"ada\": AdaBoostClassifier(),\n",
    "    \"bnb\": BernoulliNB(),\n",
    "    \"gbc\": GradientBoostingClassifier(),\n",
    "    \"knn\": KNeighborsClassifier(),\n",
    "    \"rfc\": RandomForestClassifier()}\n",
    "\n",
    "params = {\n",
    "    \"lr\" :{\n",
    "        \"solver\"            : [\"newton-cg\", \"lbfgs\"],\n",
    "        \"multi_class\"       : [\"ovr\", \"multinomial\"]},\n",
    "    \"svc\":{\n",
    "        \"gamma\"             : [\"scale\"]},\n",
    "    \"ada\":{\n",
    "         \"n_estimators\"     : [50, 500],\n",
    "         \"learning_rate\"    : [1,.5]},\n",
    "    \"bnb\":{},\n",
    "    \"gbc\":{},\n",
    "    \"knn\": {},\n",
    "    \"rfc\": {}}"
   ]
  },
  {
   "cell_type": "code",
   "execution_count": 267,
   "metadata": {},
   "outputs": [
    {
     "name": "stdout",
     "output_type": "stream",
     "text": [
      "Fitting 3 folds for each of 4 candidates, totalling 12 fits\n"
     ]
    },
    {
     "name": "stderr",
     "output_type": "stream",
     "text": [
      "[Parallel(n_jobs=3)]: Using backend LokyBackend with 3 concurrent workers.\n",
      "[Parallel(n_jobs=3)]: Done  12 out of  12 | elapsed:    0.5s finished\n",
      "[Parallel(n_jobs=3)]: Using backend LokyBackend with 3 concurrent workers.\n",
      "[Parallel(n_jobs=3)]: Done   3 out of   3 | elapsed:    0.0s remaining:    0.0s\n",
      "[Parallel(n_jobs=3)]: Done   3 out of   3 | elapsed:    0.0s finished\n",
      "[Parallel(n_jobs=3)]: Using backend LokyBackend with 3 concurrent workers.\n"
     ]
    },
    {
     "name": "stdout",
     "output_type": "stream",
     "text": [
      "lr 0.8192771084337349\n",
      "{'multi_class': 'ovr', 'solver': 'newton-cg'}\n",
      "Fitting 3 folds for each of 1 candidates, totalling 3 fits\n",
      "svc 0.8092369477911646\n",
      "{'gamma': 'scale'}\n",
      "Fitting 3 folds for each of 4 candidates, totalling 12 fits\n"
     ]
    },
    {
     "name": "stderr",
     "output_type": "stream",
     "text": [
      "[Parallel(n_jobs=3)]: Done  12 out of  12 | elapsed:    2.1s finished\n"
     ]
    },
    {
     "name": "stdout",
     "output_type": "stream",
     "text": [
      "ada 0.8373493975903614\n",
      "{'learning_rate': 0.5, 'n_estimators': 500}\n",
      "Fitting 3 folds for each of 1 candidates, totalling 3 fits\n",
      "bnb 0.7751004016064257\n",
      "{}\n",
      "Fitting 3 folds for each of 1 candidates, totalling 3 fits\n",
      "gbc 0.8253012048192772\n",
      "{}\n",
      "Fitting 3 folds for each of 1 candidates, totalling 3 fits\n"
     ]
    },
    {
     "name": "stderr",
     "output_type": "stream",
     "text": [
      "[Parallel(n_jobs=3)]: Using backend LokyBackend with 3 concurrent workers.\n",
      "[Parallel(n_jobs=3)]: Done   3 out of   3 | elapsed:    0.0s remaining:    0.0s\n",
      "[Parallel(n_jobs=3)]: Done   3 out of   3 | elapsed:    0.0s finished\n",
      "[Parallel(n_jobs=3)]: Using backend LokyBackend with 3 concurrent workers.\n",
      "[Parallel(n_jobs=3)]: Done   3 out of   3 | elapsed:    0.1s remaining:    0.0s\n",
      "[Parallel(n_jobs=3)]: Done   3 out of   3 | elapsed:    0.1s finished\n",
      "[Parallel(n_jobs=3)]: Using backend LokyBackend with 3 concurrent workers.\n"
     ]
    },
    {
     "name": "stdout",
     "output_type": "stream",
     "text": [
      "knn 0.821285140562249\n",
      "{}\n",
      "Fitting 3 folds for each of 1 candidates, totalling 3 fits\n",
      "rfc 0.8172690763052208\n",
      "{}\n"
     ]
    },
    {
     "name": "stderr",
     "output_type": "stream",
     "text": [
      "[Parallel(n_jobs=3)]: Done   3 out of   3 | elapsed:    0.1s remaining:    0.0s\n",
      "[Parallel(n_jobs=3)]: Done   3 out of   3 | elapsed:    0.1s finished\n",
      "[Parallel(n_jobs=3)]: Using backend LokyBackend with 3 concurrent workers.\n",
      "[Parallel(n_jobs=3)]: Done   3 out of   3 | elapsed:    0.0s remaining:    0.0s\n",
      "[Parallel(n_jobs=3)]: Done   3 out of   3 | elapsed:    0.0s finished\n",
      "/Users/michaelruggiero/anaconda3/envs/maker/lib/python3.6/site-packages/sklearn/ensemble/forest.py:246: FutureWarning: The default value of n_estimators will change from 10 in version 0.20 to 100 in 0.22.\n",
      "  \"10 in version 0.20 to 100 in 0.22.\", FutureWarning)\n"
     ]
    }
   ],
   "source": [
    "for model in models:\n",
    "    gs = GridSearchCV(models[model],\n",
    "                      param_grid=params[model],\n",
    "                      cv = 3,\n",
    "                      n_jobs = 3,\n",
    "                      verbose=4)\n",
    "\n",
    "    gs.fit(X_SS_final_train, y_train)\n",
    "    print(model, gs.score(X_SS_final_test, y_test))\n",
    "    print(gs.best_params_)"
   ]
  },
  {
   "cell_type": "code",
   "execution_count": 256,
   "metadata": {},
   "outputs": [
    {
     "data": {
      "text/plain": [
       "0.8333333333333334"
      ]
     },
     "execution_count": 256,
     "metadata": {},
     "output_type": "execute_result"
    }
   ],
   "source": [
    "ada = AdaBoostClassifier(learning_rate=.5, n_estimators=500)\n",
    "\n",
    "ada.fit(X_SS_final_train, y_train)\n",
    "ada.score(X_SS_final_test, y_test)"
   ]
  },
  {
   "cell_type": "code",
   "execution_count": 257,
   "metadata": {},
   "outputs": [
    {
     "data": {
      "text/plain": [
       "array([0.262, 0.238, 0.274, 0.226])"
      ]
     },
     "execution_count": 257,
     "metadata": {},
     "output_type": "execute_result"
    }
   ],
   "source": [
    "ada.feature_importances_"
   ]
  },
  {
   "cell_type": "code",
   "execution_count": 272,
   "metadata": {},
   "outputs": [
    {
     "name": "stdout",
     "output_type": "stream",
     "text": [
      "num_text_comments 0.262\n",
      "len_flat_comments 0.238\n",
      "ada_comment_pred 0.274\n",
      "lr_title_pred 0.226\n"
     ]
    }
   ],
   "source": [
    "for i in range(len(ada.feature_importances_)):\n",
    "    if ada.feature_importances_[i] > 0:\n",
    "        print(X_SS_final_train.columns[i],ada.feature_importances_[i])"
   ]
  },
  {
   "cell_type": "code",
   "execution_count": 273,
   "metadata": {},
   "outputs": [
    {
     "name": "stdout",
     "output_type": "stream",
     "text": [
      "[[202  47]\n",
      " [ 36 213]]\n"
     ]
    }
   ],
   "source": [
    "pred = ada.predict(X_SS_final_test)\n",
    "print(confusion_matrix(y_test, pred))"
   ]
  },
  {
   "cell_type": "markdown",
   "metadata": {},
   "source": [
    "# 5. Predictive Model Conclusion<a id = \"Conclusion\"></a>"
   ]
  },
  {
   "cell_type": "markdown",
   "metadata": {},
   "source": [
    "<strong>In the end, the best classification model was a simple Ada model that reviewed the the comments. Title was not as useful in predicitin subreddit, which is sensable. Outraged titles draw attention, but do not necessarly indiciate political leaning</strong>"
   ]
  }
 ],
 "metadata": {
  "kernelspec": {
   "display_name": "Python 3",
   "language": "python",
   "name": "python3"
  },
  "language_info": {
   "codemirror_mode": {
    "name": "ipython",
    "version": 3
   },
   "file_extension": ".py",
   "mimetype": "text/x-python",
   "name": "python",
   "nbconvert_exporter": "python",
   "pygments_lexer": "ipython3",
   "version": "3.6.7"
  }
 },
 "nbformat": 4,
 "nbformat_minor": 2
}
