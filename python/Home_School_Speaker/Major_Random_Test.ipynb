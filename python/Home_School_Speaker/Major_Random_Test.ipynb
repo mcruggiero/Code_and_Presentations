{
 "cells": [
  {
   "cell_type": "markdown",
   "metadata": {
    "toc": true
   },
   "source": [
    "<h1>Table of Contents<span class=\"tocSkip\"></span></h1>\n",
    "<div class=\"toc\"><ul class=\"toc-item\"></ul></div>"
   ]
  },
  {
   "cell_type": "code",
   "execution_count": 31,
   "metadata": {
    "ExecuteTime": {
     "end_time": "2019-09-25T23:51:32.866584Z",
     "start_time": "2019-09-25T23:51:32.863382Z"
    }
   },
   "outputs": [],
   "source": [
    "import os\n",
    "import csv"
   ]
  },
  {
   "cell_type": "code",
   "execution_count": 32,
   "metadata": {
    "ExecuteTime": {
     "end_time": "2019-09-25T23:51:33.343136Z",
     "start_time": "2019-09-25T23:51:33.333064Z"
    }
   },
   "outputs": [
    {
     "data": {
      "text/plain": [
       "['Basic_Spelling',\n",
       " 'trachtenberg-system.pdf',\n",
       " '(<10000)*6',\n",
       " '(<10000)*11',\n",
       " 'major_family',\n",
       " 'MajorSystem.csv',\n",
       " 'Major_Random_Test.ipynb',\n",
       " 'Major_Family_Random',\n",
       " 'Home_School.ipynb',\n",
       " 'answer.mp3',\n",
       " 'Basic_Addition',\n",
       " '.ipynb_checkpoints',\n",
       " '(<10000)*12',\n",
       " 'ding.mp3',\n",
       " 'Words.pkl',\n",
       " 'Learn.ipynb',\n",
       " 'pause.mp3']"
      ]
     },
     "execution_count": 32,
     "metadata": {},
     "output_type": "execute_result"
    }
   ],
   "source": [
    "os.listdir()"
   ]
  },
  {
   "cell_type": "code",
   "execution_count": 4,
   "metadata": {
    "ExecuteTime": {
     "end_time": "2019-09-25T22:55:41.720861Z",
     "start_time": "2019-09-25T22:55:41.715317Z"
    }
   },
   "outputs": [],
   "source": [
    "input_file = csv.DictReader(open(\"MajorSystem.csv\"))"
   ]
  },
  {
   "cell_type": "code",
   "execution_count": 5,
   "metadata": {
    "ExecuteTime": {
     "end_time": "2019-09-25T22:55:47.540225Z",
     "start_time": "2019-09-25T22:55:47.533036Z"
    }
   },
   "outputs": [
    {
     "data": {
      "text/plain": [
       "<csv.DictReader at 0x7faf974035d0>"
      ]
     },
     "execution_count": 5,
     "metadata": {},
     "output_type": "execute_result"
    }
   ],
   "source": [
    "input_file"
   ]
  },
  {
   "cell_type": "code",
   "execution_count": 10,
   "metadata": {
    "ExecuteTime": {
     "end_time": "2019-09-25T23:30:02.468461Z",
     "start_time": "2019-09-25T23:30:02.097802Z"
    }
   },
   "outputs": [],
   "source": [
    "import pandas as pd"
   ]
  },
  {
   "cell_type": "code",
   "execution_count": 23,
   "metadata": {
    "ExecuteTime": {
     "end_time": "2019-09-25T23:32:57.346043Z",
     "start_time": "2019-09-25T23:32:57.317329Z"
    }
   },
   "outputs": [],
   "source": [
    "test = pd.read_csv(\"MajorSystem.csv\" , index_col=0, header=None).T"
   ]
  },
  {
   "cell_type": "code",
   "execution_count": 25,
   "metadata": {
    "ExecuteTime": {
     "end_time": "2019-09-25T23:47:36.327865Z",
     "start_time": "2019-09-25T23:47:36.309108Z"
    }
   },
   "outputs": [],
   "source": []
  },
  {
   "cell_type": "code",
   "execution_count": 30,
   "metadata": {
    "ExecuteTime": {
     "end_time": "2019-09-25T23:48:57.705560Z",
     "start_time": "2019-09-25T23:48:57.701122Z"
    }
   },
   "outputs": [
    {
     "data": {
      "text/plain": [
       "'mean'"
      ]
     },
     "execution_count": 30,
     "metadata": {},
     "output_type": "execute_result"
    }
   ],
   "source": [
    "major[\"adje\"][\"32\"]"
   ]
  },
  {
   "cell_type": "code",
   "execution_count": null,
   "metadata": {},
   "outputs": [],
   "source": []
  }
 ],
 "metadata": {
  "kernelspec": {
   "display_name": "Python 3",
   "language": "python",
   "name": "python3"
  },
  "language_info": {
   "codemirror_mode": {
    "name": "ipython",
    "version": 3
   },
   "file_extension": ".py",
   "mimetype": "text/x-python",
   "name": "python",
   "nbconvert_exporter": "python",
   "pygments_lexer": "ipython3",
   "version": "3.7.4"
  },
  "toc": {
   "base_numbering": 1,
   "nav_menu": {},
   "number_sections": true,
   "sideBar": true,
   "skip_h1_title": true,
   "title_cell": "Table of Contents",
   "title_sidebar": "Contents",
   "toc_cell": true,
   "toc_position": {},
   "toc_section_display": true,
   "toc_window_display": true
  }
 },
 "nbformat": 4,
 "nbformat_minor": 2
}
