{
 "cells": [
  {
   "cell_type": "markdown",
   "metadata": {},
   "source": [
    "# Speed Math Speaker\n",
    "<strong>\n",
    "Michael Ruggiero<br>\n",
    "michael@mcruggiero.com<br>\n",
    "2019.07.29"
   ]
  },
  {
   "cell_type": "markdown",
   "metadata": {
    "toc": true
   },
   "source": [
    "<h1>Table of Contents<span class=\"tocSkip\"></span></h1>\n",
    "<div class=\"toc\"><ul class=\"toc-item\"><li><span><a href=\"#Introduction\" data-toc-modified-id=\"Introduction-1\"><span class=\"toc-item-num\">1&nbsp;&nbsp;</span>Introduction</a></span></li><li><span><a href=\"#Basic-Imports\" data-toc-modified-id=\"Basic-Imports-2\"><span class=\"toc-item-num\">2&nbsp;&nbsp;</span>Basic Imports</a></span></li><li><span><a href=\"#Arithmetic\" data-toc-modified-id=\"Arithmetic-3\"><span class=\"toc-item-num\">3&nbsp;&nbsp;</span>Arithmetic</a></span><ul class=\"toc-item\"><li><span><a href=\"#Basic-Operations\" data-toc-modified-id=\"Basic-Operations-3.1\"><span class=\"toc-item-num\">3.1&nbsp;&nbsp;</span>Basic Operations</a></span></li><li><span><a href=\"#Multiplication-by-Eleven\" data-toc-modified-id=\"Multiplication-by-Eleven-3.2\"><span class=\"toc-item-num\">3.2&nbsp;&nbsp;</span>Multiplication by Eleven</a></span></li><li><span><a href=\"#Multiplication-by-Twelve\" data-toc-modified-id=\"Multiplication-by-Twelve-3.3\"><span class=\"toc-item-num\">3.3&nbsp;&nbsp;</span>Multiplication by Twelve</a></span></li><li><span><a href=\"#Multiplication-by-Six\" data-toc-modified-id=\"Multiplication-by-Six-3.4\"><span class=\"toc-item-num\">3.4&nbsp;&nbsp;</span>Multiplication by Six</a></span></li></ul></li><li><span><a href=\"#Memory\" data-toc-modified-id=\"Memory-4\"><span class=\"toc-item-num\">4&nbsp;&nbsp;</span>Memory</a></span><ul class=\"toc-item\"><li><span><a href=\"#Basic-Speaking-Function\" data-toc-modified-id=\"Basic-Speaking-Function-4.1\"><span class=\"toc-item-num\">4.1&nbsp;&nbsp;</span>Basic Speaking Function</a></span></li></ul></li><li><span><a href=\"#Random-Memory\" data-toc-modified-id=\"Random-Memory-5\"><span class=\"toc-item-num\">5&nbsp;&nbsp;</span>Random Memory</a></span></li></ul></div>"
   ]
  },
  {
   "cell_type": "markdown",
   "metadata": {},
   "source": [
    "## Introduction"
   ]
  },
  {
   "cell_type": "markdown",
   "metadata": {
    "ExecuteTime": {
     "end_time": "2019-07-29T23:55:31.469386Z",
     "start_time": "2019-07-29T23:55:31.463370Z"
    }
   },
   "source": [
    "## Basic Imports"
   ]
  },
  {
   "cell_type": "code",
   "execution_count": 1,
   "metadata": {
    "ExecuteTime": {
     "end_time": "2019-08-23T23:10:38.038601Z",
     "start_time": "2019-08-23T23:10:38.032707Z"
    }
   },
   "outputs": [],
   "source": [
    "import sys\n",
    "import os\n",
    "import pyttsx3\n",
    "from gtts import gTTS\n",
    "import numpy as np\n",
    "from pydub import AudioSegment\n",
    "import pandas as pd\n",
    "\n",
    "\n",
    "#Not used but helpful to make sure everything is ready"
   ]
  },
  {
   "cell_type": "code",
   "execution_count": 38,
   "metadata": {},
   "outputs": [],
   "source": [
    "#I am getting a weird quirk with gtts and number speach, here is a little hack\n",
    "\n",
    "number_dict =   {1: 'One', 2: 'Two', 3: 'Three', 4: 'Four', 5: 'Five', \n",
    "                 6: 'Six', 7: 'Seven', 8: 'Eight', 9: 'Nine', 10: 'Ten', \n",
    "                11: 'Eleven', 12: 'Twelve', 13: 'Thirteen', 14: 'Fourteen', \n",
    "                15: 'Fifteen', 16: 'Sixteen', 17: 'Seventeen', 18: 'Eighteen', \n",
    "                19: 'Nineteen', 20: 'Twenty', 30: 'Thirty', 40: 'Forty', \n",
    "                50: 'Fifty', 60: 'Sixty', 70: 'Seventy', 80: 'Eighty', \n",
    "                90: 'Ninety', 0: 'Zero'}\n",
    "\n",
    "def number_words(n):\n",
    "        try:\n",
    "            return number_dict[n]\n",
    "        except:\n",
    "            return number_dict[n-n%10] + \" \" + number_dict[n%10]"
   ]
  },
  {
   "cell_type": "markdown",
   "metadata": {},
   "source": [
    "## Arithmetic"
   ]
  },
  {
   "cell_type": "markdown",
   "metadata": {},
   "source": [
    "### Basic Operations"
   ]
  },
  {
   "cell_type": "code",
   "execution_count": 2,
   "metadata": {
    "ExecuteTime": {
     "end_time": "2019-08-03T11:26:18.549925Z",
     "start_time": "2019-08-03T11:26:18.541687Z"
    }
   },
   "outputs": [],
   "source": [
    "def basic_operations(value,operation,level,times,nwd,verbose):\n",
    "    \n",
    "    if level == \"A\":\n",
    "        smallest, largest = 11, 100\n",
    "    elif level == \"B\":\n",
    "        smallest, largest = 101, 1000\n",
    "    else:\n",
    "        smallest, largest = 1001, 10000\n",
    "        \n",
    "    #Makes list of random numbers to speak\n",
    "    choices = np.random.choice(range(smallest,largest), times, replace=False)\n",
    "    \n",
    "    for rand in choices:\n",
    "        #Speak operations and caluclate answer\n",
    "\n",
    "        prompt = gTTS(\"\"\"\n",
    "        {} {} {}. Again {} {} {}.\n",
    "        \"\"\".format(rand,operation,value,rand,operation,value))\n",
    "\n",
    "        prompt.save(nwd + \"{}-{}_{}_{}.mp3\".format(level,\n",
    "                                                   rand,\n",
    "                                                   operation, \n",
    "                                                   value))\n",
    "\n",
    "        #A dictionary that calculates the solutions\n",
    "        #Maybe not as quick as conditional, but cleaner\n",
    "        ans = {\"plus\": rand + value,\n",
    "               \"minus\": rand - value,\n",
    "               \"times\": rand * value,\n",
    "               \"divided by\": rand / value}\n",
    "\n",
    "        answer = gTTS(\"\"\"\n",
    "        The answer is {}\n",
    "        \"\"\".format(ans[operation]))\n",
    "\n",
    "        answer.save(nwd + \"answer.mp3\")\n",
    "\n",
    "        #Concatenate the MP3s\n",
    "        prompt = AudioSegment.from_mp3(nwd + \"{}-{}_{}_{}.mp3\".format(level,\n",
    "                                                                      rand,\n",
    "                                                                      operation, \n",
    "                                                                      value))\n",
    "        \n",
    "        ding = AudioSegment.from_mp3(\"ding.mp3\")\n",
    "        answer = AudioSegment.from_mp3(nwd + \"answer.mp3\")\n",
    "\n",
    "        question = prompt + ding + answer\n",
    "        question.export(nwd + \"{}-{}_{}_{}.mp3\".format(level,\n",
    "                                                   rand,\n",
    "                                                   operation, \n",
    "                                                   value),\n",
    "                         tags={'artist': 'Mind_Building',\n",
    "                               'album': '{}_{}'.format(value,operation)})\n",
    "\n",
    "        if verbose != 0:\n",
    "            print(\"{}_{}_{}.mp3\".format(rand,\n",
    "                                        operation, \n",
    "                                        value))"
   ]
  },
  {
   "cell_type": "markdown",
   "metadata": {},
   "source": [
    "### Multiplication by Eleven"
   ]
  },
  {
   "cell_type": "markdown",
   "metadata": {},
   "source": [
    "<strong>(1) The last number of the number multiplied is put down as the right-hand figure of the answer.<br>\n",
    "(2) Each successive number of the multiplicand is added to its neighbor at the right.<br>\n",
    "(3) The first number of the multiplicand becomes the left-hand number of the answer.<br></strong>"
   ]
  },
  {
   "cell_type": "code",
   "execution_count": 3,
   "metadata": {
    "ExecuteTime": {
     "end_time": "2019-08-03T11:26:19.413531Z",
     "start_time": "2019-08-03T11:26:19.405962Z"
    }
   },
   "outputs": [],
   "source": [
    "def eleven_times(size = 10_000, times = 35, verbose = 0):\n",
    "    \n",
    "    cwd = os.getcwd()\n",
    "    value = 11\n",
    "    operation = \"times\"\n",
    "    \n",
    "    # Create directory unless it already exists\n",
    "    dirName = '(<{})*{}'.format(size,value)\n",
    "    \n",
    "    try:\n",
    "        os.mkdir(dirName)\n",
    "    except FileExistsError:\n",
    "        print(dirName , \" already exists\")\n",
    "    \n",
    "    nwd = cwd + \"/\" + dirName + \"/\"\n",
    "\n",
    "    tts = gTTS(\"\"\"\n",
    "    Multiplication by eleven rule:\n",
    "    (1) The last number of the number multiplied is put down as the right-hand figure of the answer./\n",
    "    (2) Each successive number of the multiplicand is added to its neighbor at the right./\n",
    "    (3) The first number of the multiplicand becomes the left-hand number of the answer./\n",
    "    \"\"\")\n",
    "    \n",
    "    tts.save(nwd + \"0_{}{}_rule.mp3\".format(value,operation))\n",
    "    \n",
    "    for level in [\"A\",\"B\",\"C\"]:\n",
    "        #loop function\n",
    "        basic_operations(value,\n",
    "                         operation,\n",
    "                         level,\n",
    "                         times,\n",
    "                         nwd,\n",
    "                         verbose)\n",
    "\n",
    "    #clean up\n",
    "    os.remove(nwd + \"answer.mp3\")"
   ]
  },
  {
   "cell_type": "code",
   "execution_count": 5,
   "metadata": {
    "ExecuteTime": {
     "end_time": "2019-08-23T20:20:57.053396Z",
     "start_time": "2019-08-23T20:20:57.051466Z"
    }
   },
   "outputs": [],
   "source": [
    "eleven_times()"
   ]
  },
  {
   "cell_type": "markdown",
   "metadata": {},
   "source": [
    "### Multiplication by Twelve"
   ]
  },
  {
   "cell_type": "markdown",
   "metadata": {},
   "source": [
    "<strong>To multiply any number by 12, you: (1) Double each number in turn\n",
    "and (2) add its neighbor.<strong>"
   ]
  },
  {
   "cell_type": "code",
   "execution_count": null,
   "metadata": {
    "ExecuteTime": {
     "end_time": "2019-08-03T11:26:26.166378Z",
     "start_time": "2019-08-03T11:26:20.802Z"
    }
   },
   "outputs": [],
   "source": [
    "def twelve_times(size = 10_000, times = 35, verbose = 0):\n",
    "    \n",
    "    cwd = os.getcwd()\n",
    "    value = 12\n",
    "    operation = \"times\"\n",
    "    \n",
    "    # Create directory unless it already exists\n",
    "    dirName = '(<{})*{}'.format(size,value)\n",
    "    \n",
    "    try:\n",
    "        os.mkdir(dirName)\n",
    "    except FileExistsError:\n",
    "        print(dirName , \" already exists\")\n",
    "    \n",
    "    nwd = cwd + \"/\" + dirName + \"/\"\n",
    "\n",
    "    rule = gTTS(\"\"\"\n",
    "    To multiply any number by 12, you: (1) Double each number in turn/\n",
    "    and (2) add its neighbor.\n",
    "    \"\"\")\n",
    "    \n",
    "    rule.save(nwd + \"0_{}{}_rule.mp3\".format(value,operation))\n",
    "    \n",
    "    for level in [\"A\",\"B\",\"C\"]:\n",
    "        #loop function\n",
    "        basic_operations(value,\n",
    "                         operation,\n",
    "                         level,\n",
    "                         times,\n",
    "                         nwd,\n",
    "                         verbose)\n",
    "\n",
    "    #clean up\n",
    "    os.remove(nwd + \"answer.mp3\")"
   ]
  },
  {
   "cell_type": "code",
   "execution_count": null,
   "metadata": {
    "ExecuteTime": {
     "end_time": "2019-08-03T11:26:26.167894Z",
     "start_time": "2019-08-03T11:26:21.256Z"
    }
   },
   "outputs": [],
   "source": [
    "twelve_times()"
   ]
  },
  {
   "cell_type": "markdown",
   "metadata": {},
   "source": [
    "### Multiplication by Six"
   ]
  },
  {
   "cell_type": "markdown",
   "metadata": {},
   "source": [
    "<strong>To each digit add the interger half of the neighbor; plus 5 if digit is odd</strong>"
   ]
  },
  {
   "cell_type": "code",
   "execution_count": null,
   "metadata": {
    "ExecuteTime": {
     "end_time": "2019-08-03T11:26:26.169261Z",
     "start_time": "2019-08-03T11:26:22.471Z"
    }
   },
   "outputs": [],
   "source": [
    "def six_times(size = 10_000, times = 35, verbose = 0):\n",
    "    \n",
    "    cwd = os.getcwd()\n",
    "    value = 6\n",
    "    operation = \"times\"\n",
    "    \n",
    "    # Create directory unless it already exists\n",
    "    dirName = '(<{})*{}'.format(size,value)\n",
    "    \n",
    "    try:\n",
    "        os.mkdir(dirName)\n",
    "    except FileExistsError:\n",
    "        print(dirName , \" already exists\")\n",
    "    \n",
    "    nwd = cwd + \"/\" + dirName + \"/\"\n",
    "\n",
    "    rule = gTTS(\"\"\"\n",
    "    To each digit add the interger half of the neighbor;/\n",
    "    plus 5 if digit is odd\n",
    "    \"\"\")\n",
    "    \n",
    "    rule.save(nwd + \"0_{}{}_rule.mp3\".format(value,operation))\n",
    "    \n",
    "    for level in [\"A\",\"B\",\"C\"]:\n",
    "        #loop function\n",
    "        basic_operations(value,\n",
    "                         operation,\n",
    "                         level,\n",
    "                         times,\n",
    "                         nwd,\n",
    "                         verbose)\n",
    "\n",
    "    #clean up\n",
    "    os.remove(nwd + \"answer.mp3\")"
   ]
  },
  {
   "cell_type": "code",
   "execution_count": 12,
   "metadata": {
    "ExecuteTime": {
     "end_time": "2019-07-31T00:11:06.360537Z",
     "start_time": "2019-07-31T00:04:52.021057Z"
    }
   },
   "outputs": [],
   "source": [
    "six_times()"
   ]
  },
  {
   "cell_type": "markdown",
   "metadata": {},
   "source": [
    "## Memory"
   ]
  },
  {
   "cell_type": "code",
   "execution_count": 43,
   "metadata": {
    "ExecuteTime": {
     "end_time": "2019-08-23T23:10:42.138987Z",
     "start_time": "2019-08-23T23:10:42.114365Z"
    }
   },
   "outputs": [],
   "source": [
    "major = (pd.read_csv(\"MajorSystem.csv\", index_col = 0).T).to_dict()"
   ]
  },
  {
   "cell_type": "code",
   "execution_count": 44,
   "metadata": {},
   "outputs": [
    {
     "data": {
      "text/plain": [
       "{'adje': {'s0': 'easy',\n",
       "  's1': 'hot',\n",
       "  's2': 'new',\n",
       "  's3': 'yummy',\n",
       "  's4': 'hairy',\n",
       "  's5': 'oily',\n",
       "  's6': 'itchy',\n",
       "  's7': 'gay',\n",
       "  's8': 'heavy',\n",
       "  's9': 'happy',\n",
       "  '00': 'sassy',\n",
       "  '01': 'sad',\n",
       "  '02': 'snowy',\n",
       "  '03': 'awesome',\n",
       "  '04': 'sorry',\n",
       "  '05': 'slow',\n",
       "  '06': 'swishy',\n",
       "  '07': 'sick',\n",
       "  '08': 'savvy',\n",
       "  '09': 'sappy',\n",
       "  '10': 'dizzy',\n",
       "  '11': 'tight',\n",
       "  '12': 'wooden',\n",
       "  '13': 'tame',\n",
       "  '14': 'dry',\n",
       "  '15': 'tall',\n",
       "  '16': 'whitish',\n",
       "  '17': 'thick',\n",
       "  '18': 'deaf',\n",
       "  '19': 'deep',\n",
       "  '20': 'noisy',\n",
       "  '21': 'neat',\n",
       "  '22': 'neon',\n",
       "  '23': 'numb',\n",
       "  '24': 'narrow',\n",
       "  '25': 'annual',\n",
       "  '26': 'haunchy ',\n",
       "  '27': 'naggy',\n",
       "  '28': 'naïve',\n",
       "  '29': 'wannabe',\n",
       "  '30': 'messy',\n",
       "  '31': 'mute',\n",
       "  '32': 'mean',\n",
       "  '33': 'mum',\n",
       "  '34': 'merry',\n",
       "  '35': 'male',\n",
       "  '36': 'mushy',\n",
       "  '37': 'mucky',\n",
       "  '38': 'mauve',\n",
       "  '39': 'wimpy',\n",
       "  '40': 'rosy',\n",
       "  '41': 'ready',\n",
       "  '42': 'runny',\n",
       "  '43': 'roomy',\n",
       "  '44': 'rare',\n",
       "  '45': 'royal',\n",
       "  '46': 'rich',\n",
       "  '47': 'rocky',\n",
       "  '48': 'rough',\n",
       "  '49': 'ripe',\n",
       "  '50': 'lazy',\n",
       "  '51': 'elite',\n",
       "  '52': 'alien',\n",
       "  '53': 'lame',\n",
       "  '54': 'leery',\n",
       "  '55': 'loyal',\n",
       "  '56': 'yellowish',\n",
       "  '57': 'lucky',\n",
       "  '58': 'leafy',\n",
       "  '59': 'loopy',\n",
       "  '60': 'choosy',\n",
       "  '61': 'chatty',\n",
       "  '62': 'shiny',\n",
       "  '63': 'sham',\n",
       "  '64': 'cherry',\n",
       "  '65': 'jolly',\n",
       "  '66': 'Jewish',\n",
       "  '67': 'shaky',\n",
       "  '68': 'chief',\n",
       "  '69': 'cheap',\n",
       "  '70': 'cosy',\n",
       "  '71': 'good',\n",
       "  '72': 'keen',\n",
       "  '73': 'gummy',\n",
       "  '74': 'grey',\n",
       "  '75': 'cool',\n",
       "  '76': 'catchy',\n",
       "  '77': 'quick',\n",
       "  '78': 'goofy',\n",
       "  '79': 'agape',\n",
       "  '80': 'fussy',\n",
       "  '81': 'fat',\n",
       "  '82': 'funny',\n",
       "  '83': 'foamy',\n",
       "  '84': 'furry',\n",
       "  '85': 'foul',\n",
       "  '86': 'fishy',\n",
       "  '87': 'foggy',\n",
       "  '88': 'fave',\n",
       "  '89': 'fab',\n",
       "  '90': 'busy',\n",
       "  '91': 'bad',\n",
       "  '92': 'bony',\n",
       "  '93': 'balmy',\n",
       "  '94': 'pro',\n",
       "  '95': 'blue',\n",
       "  '96': 'bushy',\n",
       "  '97': 'back',\n",
       "  '98': 'puffy',\n",
       "  '99': 'baby'},\n",
       " 'noun': {'s0': 'hose',\n",
       "  's1': 'hat',\n",
       "  's2': 'hen',\n",
       "  's3': 'home',\n",
       "  's4': 'arrow',\n",
       "  's5': 'whale',\n",
       "  's6': 'shoe',\n",
       "  's7': 'cow',\n",
       "  's8': 'hoof',\n",
       "  's9': 'pie',\n",
       "  '00': 'oasis',\n",
       "  '01': 'seed',\n",
       "  '02': 'sun',\n",
       "  '03': 'sumo',\n",
       "  '04': 'sierra',\n",
       "  '05': 'soil',\n",
       "  '06': 'sewage',\n",
       "  '07': 'sky',\n",
       "  '08': 'sofa',\n",
       "  '09': 'soap',\n",
       "  '10': 'daisy',\n",
       "  '11': 'tattoo',\n",
       "  '12': 'tuna',\n",
       "  '13': 'dome',\n",
       "  '14': 'diary',\n",
       "  '15': 'tail',\n",
       "  '16': 'dish',\n",
       "  '17': 'dog',\n",
       "  '18': 'dove',\n",
       "  '19': 'tuba',\n",
       "  '20': 'nose',\n",
       "  '21': 'net',\n",
       "  '22': 'onion',\n",
       "  '23': 'enemy',\n",
       "  '24': 'winery',\n",
       "  '25': 'nail',\n",
       "  '26': 'nacho',\n",
       "  '27': 'neck',\n",
       "  '28': 'knife',\n",
       "  '29': 'honeybee',\n",
       "  '30': 'mouse',\n",
       "  '31': 'meadow',\n",
       "  '32': 'moon',\n",
       "  '33': 'mummy',\n",
       "  '34': 'emery',\n",
       "  '35': 'mole',\n",
       "  '36': 'match',\n",
       "  '37': 'mug',\n",
       "  '38': 'movie',\n",
       "  '39': 'map',\n",
       "  '40': 'rice',\n",
       "  '41': 'road',\n",
       "  '42': 'urine',\n",
       "  '43': 'rum',\n",
       "  '44': 'aurora',\n",
       "  '45': 'railway',\n",
       "  '46': 'roach',\n",
       "  '47': 'rag',\n",
       "  '48': 'roof',\n",
       "  '49': 'rope',\n",
       "  '50': 'louse',\n",
       "  '51': 'lady',\n",
       "  '52': 'lion',\n",
       "  '53': 'lime',\n",
       "  '54': 'lorry',\n",
       "  '55': 'lily',\n",
       "  '56': 'leech',\n",
       "  '57': 'leg',\n",
       "  '58': 'lava',\n",
       "  '59': 'lip',\n",
       "  '60': 'cheese',\n",
       "  '61': 'cheetah',\n",
       "  '62': 'chin',\n",
       "  '63': 'gem',\n",
       "  '64': 'shrew',\n",
       "  '65': 'chilli',\n",
       "  '66': 'cha-cha',\n",
       "  '67': 'chick',\n",
       "  '68': 'chef',\n",
       "  '69': 'jeep',\n",
       "  '70': 'goose',\n",
       "  '71': 'cat',\n",
       "  '72': 'coin',\n",
       "  '73': 'game',\n",
       "  '74': 'crow',\n",
       "  '75': 'clay',\n",
       "  '76': 'cage',\n",
       "  '77': 'cake',\n",
       "  '78': 'cave',\n",
       "  '79': 'cube',\n",
       "  '80': 'vase',\n",
       "  '81': 'video',\n",
       "  '82': 'fan',\n",
       "  '83': 'ovum',\n",
       "  '84': 'fairy',\n",
       "  '85': 'fool',\n",
       "  '86': 'veggie',\n",
       "  '87': 'fig',\n",
       "  '88': 'fife',\n",
       "  '89': 'vibe',\n",
       "  '90': 'boss',\n",
       "  '91': 'bead',\n",
       "  '92': 'pony',\n",
       "  '93': 'puma',\n",
       "  '94': 'berry',\n",
       "  '95': 'bell',\n",
       "  '96': 'pouch',\n",
       "  '97': 'bike',\n",
       "  '98': 'beef',\n",
       "  '99': 'pipe'},\n",
       " 'verb': {'s0': 'sew',\n",
       "  's1': 'hate',\n",
       "  's2': 'know',\n",
       "  's3': 'aim',\n",
       "  's4': 'row',\n",
       "  's5': 'heal',\n",
       "  's6': 'chew',\n",
       "  's7': 'hook',\n",
       "  's8': 'view',\n",
       "  's9': 'buy',\n",
       "  '00': 'assess',\n",
       "  '01': 'swat',\n",
       "  '02': 'sin',\n",
       "  '03': 'assume',\n",
       "  '04': 'swear',\n",
       "  '05': 'sell',\n",
       "  '06': 'switch',\n",
       "  '07': 'soak',\n",
       "  '08': 'save',\n",
       "  '09': 'sob',\n",
       "  '10': 'tease',\n",
       "  '11': 'edit',\n",
       "  '12': 'widen',\n",
       "  '13': 'time',\n",
       "  '14': 'draw',\n",
       "  '15': 'tell',\n",
       "  '16': 'teach',\n",
       "  '17': 'take',\n",
       "  '18': 'defy',\n",
       "  '19': 'type',\n",
       "  '20': 'ionize',\n",
       "  '21': 'unite',\n",
       "  '22': 'nanny',\n",
       "  '23': 'name',\n",
       "  '24': 'honour',\n",
       "  '25': 'inhale',\n",
       "  '26': 'enjoy',\n",
       "  '27': 'knock',\n",
       "  '28': 'envy',\n",
       "  '29': 'nab',\n",
       "  '30': 'amuse',\n",
       "  '31': 'meet',\n",
       "  '32': 'mine',\n",
       "  '33': 'mime',\n",
       "  '34': 'marry',\n",
       "  '35': 'mail',\n",
       "  '36': 'mash',\n",
       "  '37': 'mock',\n",
       "  '38': 'move',\n",
       "  '39': 'mop',\n",
       "  '40': 'erase',\n",
       "  '41': 'read',\n",
       "  '42': 'ruin',\n",
       "  '43': 'ram',\n",
       "  '44': 'rear',\n",
       "  '45': 'rule',\n",
       "  '46': 'reach',\n",
       "  '47': 'rake',\n",
       "  '48': 'arrive',\n",
       "  '49': 'wrap',\n",
       "  '50': 'lose',\n",
       "  '51': 'let',\n",
       "  '52': 'align',\n",
       "  '53': 'loom',\n",
       "  '54': 'lure',\n",
       "  '55': 'lull',\n",
       "  '56': 'latch',\n",
       "  '57': 'lick',\n",
       "  '58': 'love',\n",
       "  '59': 'help',\n",
       "  '60': 'chase',\n",
       "  '61': 'cheat',\n",
       "  '62': 'chain',\n",
       "  '63': 'jam',\n",
       "  '64': 'jury',\n",
       "  '65': 'chill',\n",
       "  '66': 'judge',\n",
       "  '67': 'check',\n",
       "  '68': 'achieve',\n",
       "  '69': 'chop',\n",
       "  '70': 'kiss',\n",
       "  '71': 'quote',\n",
       "  '72': 'weaken',\n",
       "  '73': 'comb',\n",
       "  '74': 'carry',\n",
       "  '75': 'kill',\n",
       "  '76': 'coach',\n",
       "  '77': 'cook',\n",
       "  '78': 'give',\n",
       "  '79': 'copy',\n",
       "  '80': 'fuse',\n",
       "  '81': 'fight',\n",
       "  '82': 'fine',\n",
       "  '83': 'fume',\n",
       "  '84': 'fry',\n",
       "  '85': 'fly',\n",
       "  '86': 'fetch',\n",
       "  '87': 'fake',\n",
       "  '88': 'viva',\n",
       "  '89': 'fob',\n",
       "  '90': 'oppose',\n",
       "  '91': 'bite',\n",
       "  '92': 'ban',\n",
       "  '93': 'bomb',\n",
       "  '94': 'bury',\n",
       "  '95': 'peel',\n",
       "  '96': 'patch',\n",
       "  '97': 'poke',\n",
       "  '98': 'pave',\n",
       "  '99': 'pop'}}"
      ]
     },
     "execution_count": 44,
     "metadata": {},
     "output_type": "execute_result"
    }
   ],
   "source": [
    "major"
   ]
  },
  {
   "cell_type": "markdown",
   "metadata": {},
   "source": [
    "### Basic Speaking Function"
   ]
  },
  {
   "cell_type": "code",
   "execution_count": 6,
   "metadata": {
    "ExecuteTime": {
     "end_time": "2019-08-23T23:10:45.609202Z",
     "start_time": "2019-08-23T23:10:45.601813Z"
    }
   },
   "outputs": [],
   "source": [
    "def major_family():\n",
    "    \n",
    "    # Create directory unless it already exists\n",
    "    cwd = os.getcwd()\n",
    "    dirName = 'major_family'\n",
    "    \n",
    "    try:\n",
    "        os.mkdir(dirName)\n",
    "    except FileExistsError:\n",
    "        print(dirName , \" already exists\")\n",
    "    \n",
    "    nwd = cwd + \"/\" + dirName + \"/\"\n",
    "    \n",
    "    #The possible major values\n",
    "    choices = list(major[\"noun\"].keys())\n",
    "    \n",
    "    for item in choices:\n",
    "        #Speak operations and caluclate answer\n",
    "\n",
    "        prompt = gTTS(\"\"\"\n",
    "        The family of {}.\n",
    "        \"\"\".format(item))\n",
    "\n",
    "        prompt.save(nwd + \"family_{}.mp3\".format(item))\n",
    "        \n",
    "        adjective = major[\"adje\"][item]\n",
    "        noun = major[\"noun\"][item]\n",
    "        verb = major[\"verb\"][item]\n",
    "\n",
    "        #This is running too fast, so I am going to put a pause in\n",
    "        answer1 = gTTS(\"\"\"\n",
    "        The answer is {}\n",
    "        \"\"\".format(adjective, noun, verb))\n",
    "\n",
    "        answer2 = gTTS(\"\"\"{}\"\"\".format(noun))\n",
    "        \n",
    "        answer3 = gTTS(\"\"\"{}\"\"\".format(verb))\n",
    "\n",
    "        answer1.save(nwd + \"answer1.mp3\")\n",
    "        answer2.save(nwd + \"answer2.mp3\")\n",
    "        answer3.save(nwd + \"answer3.mp3\")\n",
    "\n",
    "\n",
    "        #Concatenate the MP3s\n",
    "        prompt = AudioSegment.from_mp3(nwd + \"family_{}.mp3\".format(item))\n",
    "        ding = AudioSegment.from_mp3(\"ding.mp3\")\n",
    "        pause = AudioSegment.from_mp3(\"pause.mp3\")\n",
    "        answer1 = AudioSegment.from_mp3(nwd + \"answer1.mp3\")\n",
    "        answer2 = AudioSegment.from_mp3(nwd + \"answer2.mp3\")\n",
    "        answer3 = AudioSegment.from_mp3(nwd + \"answer3.mp3\")\n",
    "\n",
    "        question = prompt + ding + answer1 + pause + answer2 + pause + answer3\n",
    "        \n",
    "        question.export(nwd + \"family_{}.mp3\".format(item),\n",
    "                        tags={'artist': 'Mind_Building',\n",
    "                              'album': 'Major Family'})\n",
    "    \n",
    "    #clean up\n",
    "    os.remove(nwd + \"answer1.mp3\")\n",
    "    os.remove(nwd + \"answer2.mp3\")\n",
    "    os.remove(nwd + \"answer3.mp3\")"
   ]
  },
  {
   "cell_type": "code",
   "execution_count": 7,
   "metadata": {
    "ExecuteTime": {
     "end_time": "2019-08-23T23:19:05.923135Z",
     "start_time": "2019-08-23T23:10:46.471213Z"
    }
   },
   "outputs": [
    {
     "name": "stdout",
     "output_type": "stream",
     "text": [
      "major_family  already exists\n"
     ]
    }
   ],
   "source": [
    "major_family()"
   ]
  },
  {
   "cell_type": "markdown",
   "metadata": {},
   "source": [
    "## Random Memory "
   ]
  },
  {
   "cell_type": "code",
   "execution_count": 39,
   "metadata": {},
   "outputs": [],
   "source": [
    "def major_family(dir_name,amount):\n",
    "    \n",
    "    # Create directory unless it already exists\n",
    "    cwd = os.getcwd()\n",
    "    dirName = dir_name\n",
    "    \n",
    "    try:\n",
    "        os.mkdir(dirName)\n",
    "    except FileExistsError:\n",
    "        print(dirName , \" already exists\")\n",
    "    \n",
    "    nwd = cwd + \"/\" + dirName + \"/\"\n",
    "    \n",
    "    #There is a quirk with the number speaker, so here is a little hack\n",
    "    def n_check(number):\n",
    "        if number[0] != \"0\":\n",
    "            return int(number)\n",
    "        else:\n",
    "            return number\n",
    "    \n",
    "    for item in range(amount):\n",
    "        #Speak operations and caluclate answer\n",
    "        \n",
    "#         random_1 = n_check(\"{:02d}\".format(np.random.randint(0,100)))\n",
    "#         random_2 = n_check(\"{:02d}\".format(np.random.randint(0,100)))\n",
    "#         random_3 = n_check(\"{:02d}\".format(np.random.randint(0,100)))\n",
    "\n",
    "        random_1 = np.random.randint(0,100)\n",
    "        random_2 = np.random.randint(0,100)\n",
    "        random_3 = np.random.randint(0,100)\n",
    "                \n",
    "        prompt = gTTS(\"\"\"\n",
    "        What are the words associated with {} {} {}.\n",
    "        \"\"\".format(number_words(random_1),\n",
    "                   number_words(random_2),\n",
    "                   number_words(random_3)))\n",
    "                \n",
    "        random_1 = \"{:02d}\".format(random_1)\n",
    "        random_2 = \"{:02d}\".format(random_2)\n",
    "        random_3 = \"{:02d}\".format(random_3)\n",
    "     \n",
    "        prompt.save(nwd + \"{}_{}_{}.mp3\".format(random_1, random_2, random_3))\n",
    "\n",
    "        adjective = major[\"adje\"][random_1]\n",
    "        noun = major[\"noun\"][random_2]\n",
    "        verb = major[\"verb\"][random_3]\n",
    "\n",
    "        #This is running too fast, so I am going to put a pause in\n",
    "        answer1 = gTTS(\"\"\"\n",
    "        The answer is {}\n",
    "        \"\"\".format(adjective))\n",
    "\n",
    "        answer2 = gTTS(\"\"\"{}\"\"\".format(noun))\n",
    "        \n",
    "        answer3 = gTTS(\"\"\"{}\"\"\".format(verb))\n",
    "\n",
    "        answer1.save(nwd + \"answer1.mp3\")\n",
    "        answer2.save(nwd + \"answer2.mp3\")\n",
    "        answer3.save(nwd + \"answer3.mp3\")\n",
    "\n",
    "        #File name\n",
    "        file_name = \"{}_{}_{}.mp3\".format(random_1, random_2, random_3)\n",
    "\n",
    "        #Concatenate the MP3s\n",
    "        prompt = AudioSegment.from_mp3(nwd + file_name)\n",
    "        ding = AudioSegment.from_mp3(\"ding.mp3\")\n",
    "        pause = AudioSegment.from_mp3(\"pause.mp3\")\n",
    "        answer1 = AudioSegment.from_mp3(nwd + \"answer1.mp3\")\n",
    "        answer2 = AudioSegment.from_mp3(nwd + \"answer2.mp3\")\n",
    "        answer3 = AudioSegment.from_mp3(nwd + \"answer3.mp3\")\n",
    "\n",
    "        question = prompt + ding + answer1 + pause + answer2 + pause + answer3\n",
    "        \n",
    "        question.export(nwd + file_name,\n",
    "                        tags={'artist': 'Mind_Building',\n",
    "                              'album': 'Major Family Random'})\n",
    "    \n",
    "    #clean up\n",
    "    os.remove(nwd + \"answer1.mp3\")\n",
    "    os.remove(nwd + \"answer2.mp3\")\n",
    "    os.remove(nwd + \"answer3.mp3\")"
   ]
  },
  {
   "cell_type": "code",
   "execution_count": 45,
   "metadata": {},
   "outputs": [
    {
     "name": "stdout",
     "output_type": "stream",
     "text": [
      "Major_Family_Random  already exists\n"
     ]
    }
   ],
   "source": [
    "major_family(\"Major_Family_Random\",100)"
   ]
  },
  {
   "cell_type": "code",
   "execution_count": null,
   "metadata": {},
   "outputs": [],
   "source": []
  },
  {
   "cell_type": "code",
   "execution_count": null,
   "metadata": {},
   "outputs": [],
   "source": []
  }
 ],
 "metadata": {
  "kernelspec": {
   "display_name": "Python 3",
   "language": "python",
   "name": "python3"
  },
  "language_info": {
   "codemirror_mode": {
    "name": "ipython",
    "version": 3
   },
   "file_extension": ".py",
   "mimetype": "text/x-python",
   "name": "python",
   "nbconvert_exporter": "python",
   "pygments_lexer": "ipython3",
   "version": "3.6.7"
  },
  "toc": {
   "base_numbering": 1,
   "nav_menu": {},
   "number_sections": true,
   "sideBar": true,
   "skip_h1_title": true,
   "title_cell": "Table of Contents",
   "title_sidebar": "Contents",
   "toc_cell": true,
   "toc_position": {},
   "toc_section_display": true,
   "toc_window_display": true
  }
 },
 "nbformat": 4,
 "nbformat_minor": 4
}
