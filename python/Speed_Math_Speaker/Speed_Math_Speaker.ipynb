{
 "cells": [
  {
   "cell_type": "markdown",
   "metadata": {},
   "source": [
    "# Speed Math Speaker\n",
    "<strong>\n",
    "Michael Ruggiero<br>\n",
    "michael@mcruggiero.com<br>\n",
    "2019.07.29"
   ]
  },
  {
   "cell_type": "markdown",
   "metadata": {
    "toc": true
   },
   "source": [
    "<h1>Table of Contents<span class=\"tocSkip\"></span></h1>\n",
    "<div class=\"toc\"><ul class=\"toc-item\"><li><span><a href=\"#Introduction\" data-toc-modified-id=\"Introduction-1\"><span class=\"toc-item-num\">1&nbsp;&nbsp;</span>Introduction</a></span></li><li><span><a href=\"#Basic-Imports\" data-toc-modified-id=\"Basic-Imports-2\"><span class=\"toc-item-num\">2&nbsp;&nbsp;</span>Basic Imports</a></span></li><li><span><a href=\"#Arithmetic\" data-toc-modified-id=\"Arithmetic-3\"><span class=\"toc-item-num\">3&nbsp;&nbsp;</span>Arithmetic</a></span><ul class=\"toc-item\"><li><span><a href=\"#Basic-Operations\" data-toc-modified-id=\"Basic-Operations-3.1\"><span class=\"toc-item-num\">3.1&nbsp;&nbsp;</span>Basic Operations</a></span></li><li><span><a href=\"#Multiplication-by-Eleven\" data-toc-modified-id=\"Multiplication-by-Eleven-3.2\"><span class=\"toc-item-num\">3.2&nbsp;&nbsp;</span>Multiplication by Eleven</a></span></li><li><span><a href=\"#Multiplication-by-Twelve\" data-toc-modified-id=\"Multiplication-by-Twelve-3.3\"><span class=\"toc-item-num\">3.3&nbsp;&nbsp;</span>Multiplication by Twelve</a></span></li><li><span><a href=\"#Multiplication-by-Six\" data-toc-modified-id=\"Multiplication-by-Six-3.4\"><span class=\"toc-item-num\">3.4&nbsp;&nbsp;</span>Multiplication by Six</a></span></li></ul></li><li><span><a href=\"#Memory\" data-toc-modified-id=\"Memory-4\"><span class=\"toc-item-num\">4&nbsp;&nbsp;</span>Memory</a></span><ul class=\"toc-item\"><li><span><a href=\"#Basic-Speaking-Function\" data-toc-modified-id=\"Basic-Speaking-Function-4.1\"><span class=\"toc-item-num\">4.1&nbsp;&nbsp;</span>Basic Speaking Function</a></span></li></ul></li></ul></div>"
   ]
  },
  {
   "cell_type": "markdown",
   "metadata": {},
   "source": [
    "## Introduction"
   ]
  },
  {
   "cell_type": "markdown",
   "metadata": {
    "ExecuteTime": {
     "end_time": "2019-07-29T23:55:31.469386Z",
     "start_time": "2019-07-29T23:55:31.463370Z"
    }
   },
   "source": [
    "## Basic Imports"
   ]
  },
  {
   "cell_type": "code",
   "execution_count": 4,
   "metadata": {
    "ExecuteTime": {
     "end_time": "2019-08-23T23:10:38.038601Z",
     "start_time": "2019-08-23T23:10:38.032707Z"
    }
   },
   "outputs": [],
   "source": [
    "import sys\n",
    "import os\n",
    "import pyttsx3\n",
    "from gtts import gTTS\n",
    "import numpy as np\n",
    "from pydub import AudioSegment\n",
    "import pandas as pd\n",
    "\n",
    "\n",
    "#Not used but helpful to make sure everything is ready"
   ]
  },
  {
   "cell_type": "markdown",
   "metadata": {},
   "source": [
    "## Arithmetic"
   ]
  },
  {
   "cell_type": "markdown",
   "metadata": {},
   "source": [
    "### Basic Operations"
   ]
  },
  {
   "cell_type": "code",
   "execution_count": 2,
   "metadata": {
    "ExecuteTime": {
     "end_time": "2019-08-03T11:26:18.549925Z",
     "start_time": "2019-08-03T11:26:18.541687Z"
    }
   },
   "outputs": [],
   "source": [
    "def basic_operations(value,operation,level,times,nwd,verbose):\n",
    "    \n",
    "    if level == \"A\":\n",
    "        smallest, largest = 11, 100\n",
    "    elif level == \"B\":\n",
    "        smallest, largest = 101, 1000\n",
    "    else:\n",
    "        smallest, largest = 1001, 10000\n",
    "        \n",
    "    #Makes list of random numbers to speak\n",
    "    choices = np.random.choice(range(smallest,largest), times, replace=False)\n",
    "    \n",
    "    for rand in choices:\n",
    "        #Speak operations and caluclate answer\n",
    "\n",
    "        prompt = gTTS(\"\"\"\n",
    "        {} {} {}. Again {} {} {}.\n",
    "        \"\"\".format(rand,operation,value,rand,operation,value))\n",
    "\n",
    "        prompt.save(nwd + \"{}-{}_{}_{}.mp3\".format(level,\n",
    "                                                   rand,\n",
    "                                                   operation, \n",
    "                                                   value))\n",
    "\n",
    "        #A dictionary that calculates the solutions\n",
    "        #Maybe not as quick as conditional, but cleaner\n",
    "        ans = {\"plus\": rand + value,\n",
    "               \"minus\": rand - value,\n",
    "               \"times\": rand * value,\n",
    "               \"divided by\": rand / value}\n",
    "\n",
    "        answer = gTTS(\"\"\"\n",
    "        The answer is {}\n",
    "        \"\"\".format(ans[operation]))\n",
    "\n",
    "        answer.save(nwd + \"answer.mp3\")\n",
    "\n",
    "        #Concatenate the MP3s\n",
    "        prompt = AudioSegment.from_mp3(nwd + \"{}-{}_{}_{}.mp3\".format(level,\n",
    "                                                                      rand,\n",
    "                                                                      operation, \n",
    "                                                                      value))\n",
    "        \n",
    "        ding = AudioSegment.from_mp3(\"ding.mp3\")\n",
    "        answer = AudioSegment.from_mp3(nwd + \"answer.mp3\")\n",
    "\n",
    "        question = prompt + ding + answer\n",
    "        question.export(nwd + \"{}-{}_{}_{}.mp3\".format(level,\n",
    "                                                   rand,\n",
    "                                                   operation, \n",
    "                                                   value),\n",
    "                         tags={'artist': 'Mind_Building',\n",
    "                               'album': '{}_{}'.format(value,operation)})\n",
    "\n",
    "        if verbose != 0:\n",
    "            print(\"{}_{}_{}.mp3\".format(rand,\n",
    "                                        operation, \n",
    "                                        value))"
   ]
  },
  {
   "cell_type": "markdown",
   "metadata": {},
   "source": [
    "### Multiplication by Eleven"
   ]
  },
  {
   "cell_type": "markdown",
   "metadata": {},
   "source": [
    "<strong>(1) The last number of the number multiplied is put down as the right-hand figure of the answer.<br>\n",
    "(2) Each successive number of the multiplicand is added to its neighbor at the right.<br>\n",
    "(3) The first number of the multiplicand becomes the left-hand number of the answer.<br></strong>"
   ]
  },
  {
   "cell_type": "code",
   "execution_count": 3,
   "metadata": {
    "ExecuteTime": {
     "end_time": "2019-08-03T11:26:19.413531Z",
     "start_time": "2019-08-03T11:26:19.405962Z"
    }
   },
   "outputs": [],
   "source": [
    "def eleven_times(size = 10_000, times = 35, verbose = 0):\n",
    "    \n",
    "    cwd = os.getcwd()\n",
    "    value = 11\n",
    "    operation = \"times\"\n",
    "    \n",
    "    # Create directory unless it already exists\n",
    "    dirName = '(<{})*{}'.format(size,value)\n",
    "    \n",
    "    try:\n",
    "        os.mkdir(dirName)\n",
    "    except FileExistsError:\n",
    "        print(dirName , \" already exists\")\n",
    "    \n",
    "    nwd = cwd + \"/\" + dirName + \"/\"\n",
    "\n",
    "    tts = gTTS(\"\"\"\n",
    "    Multiplication by eleven rule:\n",
    "    (1) The last number of the number multiplied is put down as the right-hand figure of the answer./\n",
    "    (2) Each successive number of the multiplicand is added to its neighbor at the right./\n",
    "    (3) The first number of the multiplicand becomes the left-hand number of the answer./\n",
    "    \"\"\")\n",
    "    \n",
    "    tts.save(nwd + \"0_{}{}_rule.mp3\".format(value,operation))\n",
    "    \n",
    "    for level in [\"A\",\"B\",\"C\"]:\n",
    "        #loop function\n",
    "        basic_operations(value,\n",
    "                         operation,\n",
    "                         level,\n",
    "                         times,\n",
    "                         nwd,\n",
    "                         verbose)\n",
    "\n",
    "    #clean up\n",
    "    os.remove(nwd + \"answer.mp3\")"
   ]
  },
  {
   "cell_type": "code",
   "execution_count": 5,
   "metadata": {
    "ExecuteTime": {
     "end_time": "2019-08-23T20:20:57.053396Z",
     "start_time": "2019-08-23T20:20:57.051466Z"
    }
   },
   "outputs": [],
   "source": [
    "eleven_times()"
   ]
  },
  {
   "cell_type": "markdown",
   "metadata": {},
   "source": [
    "### Multiplication by Twelve"
   ]
  },
  {
   "cell_type": "markdown",
   "metadata": {},
   "source": [
    "<strong>To multiply any number by 12, you: (1) Double each number in turn\n",
    "and (2) add its neighbor.<strong>"
   ]
  },
  {
   "cell_type": "code",
   "execution_count": null,
   "metadata": {
    "ExecuteTime": {
     "end_time": "2019-08-03T11:26:26.166378Z",
     "start_time": "2019-08-03T11:26:20.802Z"
    }
   },
   "outputs": [],
   "source": [
    "def twelve_times(size = 10_000, times = 35, verbose = 0):\n",
    "    \n",
    "    cwd = os.getcwd()\n",
    "    value = 12\n",
    "    operation = \"times\"\n",
    "    \n",
    "    # Create directory unless it already exists\n",
    "    dirName = '(<{})*{}'.format(size,value)\n",
    "    \n",
    "    try:\n",
    "        os.mkdir(dirName)\n",
    "    except FileExistsError:\n",
    "        print(dirName , \" already exists\")\n",
    "    \n",
    "    nwd = cwd + \"/\" + dirName + \"/\"\n",
    "\n",
    "    rule = gTTS(\"\"\"\n",
    "    To multiply any number by 12, you: (1) Double each number in turn/\n",
    "    and (2) add its neighbor.\n",
    "    \"\"\")\n",
    "    \n",
    "    rule.save(nwd + \"0_{}{}_rule.mp3\".format(value,operation))\n",
    "    \n",
    "    for level in [\"A\",\"B\",\"C\"]:\n",
    "        #loop function\n",
    "        basic_operations(value,\n",
    "                         operation,\n",
    "                         level,\n",
    "                         times,\n",
    "                         nwd,\n",
    "                         verbose)\n",
    "\n",
    "    #clean up\n",
    "    os.remove(nwd + \"answer.mp3\")"
   ]
  },
  {
   "cell_type": "code",
   "execution_count": null,
   "metadata": {
    "ExecuteTime": {
     "end_time": "2019-08-03T11:26:26.167894Z",
     "start_time": "2019-08-03T11:26:21.256Z"
    }
   },
   "outputs": [],
   "source": [
    "twelve_times()"
   ]
  },
  {
   "cell_type": "markdown",
   "metadata": {},
   "source": [
    "### Multiplication by Six"
   ]
  },
  {
   "cell_type": "markdown",
   "metadata": {},
   "source": [
    "<strong>To each digit add the interger half of the neighbor; plus 5 if digit is odd</strong>"
   ]
  },
  {
   "cell_type": "code",
   "execution_count": null,
   "metadata": {
    "ExecuteTime": {
     "end_time": "2019-08-03T11:26:26.169261Z",
     "start_time": "2019-08-03T11:26:22.471Z"
    }
   },
   "outputs": [],
   "source": [
    "def six_times(size = 10_000, times = 35, verbose = 0):\n",
    "    \n",
    "    cwd = os.getcwd()\n",
    "    value = 6\n",
    "    operation = \"times\"\n",
    "    \n",
    "    # Create directory unless it already exists\n",
    "    dirName = '(<{})*{}'.format(size,value)\n",
    "    \n",
    "    try:\n",
    "        os.mkdir(dirName)\n",
    "    except FileExistsError:\n",
    "        print(dirName , \" already exists\")\n",
    "    \n",
    "    nwd = cwd + \"/\" + dirName + \"/\"\n",
    "\n",
    "    rule = gTTS(\"\"\"\n",
    "    To each digit add the interger half of the neighbor;/\n",
    "    plus 5 if digit is odd\n",
    "    \"\"\")\n",
    "    \n",
    "    rule.save(nwd + \"0_{}{}_rule.mp3\".format(value,operation))\n",
    "    \n",
    "    for level in [\"A\",\"B\",\"C\"]:\n",
    "        #loop function\n",
    "        basic_operations(value,\n",
    "                         operation,\n",
    "                         level,\n",
    "                         times,\n",
    "                         nwd,\n",
    "                         verbose)\n",
    "\n",
    "    #clean up\n",
    "    os.remove(nwd + \"answer.mp3\")"
   ]
  },
  {
   "cell_type": "code",
   "execution_count": 12,
   "metadata": {
    "ExecuteTime": {
     "end_time": "2019-07-31T00:11:06.360537Z",
     "start_time": "2019-07-31T00:04:52.021057Z"
    }
   },
   "outputs": [],
   "source": [
    "six_times()"
   ]
  },
  {
   "cell_type": "markdown",
   "metadata": {},
   "source": [
    "## Memory"
   ]
  },
  {
   "cell_type": "code",
   "execution_count": 5,
   "metadata": {
    "ExecuteTime": {
     "end_time": "2019-08-23T23:10:42.138987Z",
     "start_time": "2019-08-23T23:10:42.114365Z"
    }
   },
   "outputs": [],
   "source": [
    "major = (pd.read_csv(\"MajorSystem.csv\", index_col = 0).T).to_dict()"
   ]
  },
  {
   "cell_type": "markdown",
   "metadata": {},
   "source": [
    "### Basic Speaking Function"
   ]
  },
  {
   "cell_type": "code",
   "execution_count": 6,
   "metadata": {
    "ExecuteTime": {
     "end_time": "2019-08-23T23:10:45.609202Z",
     "start_time": "2019-08-23T23:10:45.601813Z"
    }
   },
   "outputs": [],
   "source": [
    "def major_family():\n",
    "    \n",
    "    # Create directory unless it already exists\n",
    "    cwd = os.getcwd()\n",
    "    dirName = 'major_family'\n",
    "    \n",
    "    try:\n",
    "        os.mkdir(dirName)\n",
    "    except FileExistsError:\n",
    "        print(dirName , \" already exists\")\n",
    "    \n",
    "    nwd = cwd + \"/\" + dirName + \"/\"\n",
    "    \n",
    "    #The possible major values\n",
    "    choices = list(major[\"noun\"].keys())\n",
    "    \n",
    "    for item in choices:\n",
    "        #Speak operations and caluclate answer\n",
    "\n",
    "        prompt = gTTS(\"\"\"\n",
    "        The family of {}.\n",
    "        \"\"\".format(item))\n",
    "\n",
    "        prompt.save(nwd + \"family_{}.mp3\".format(item))\n",
    "        \n",
    "        adjective = major[\"adje\"][item]\n",
    "        noun = major[\"noun\"][item]\n",
    "        verb = major[\"verb\"][item]\n",
    "\n",
    "        #This is running too fast, so I am going to put a pause in\n",
    "        answer1 = gTTS(\"\"\"\n",
    "        The answer is {}\n",
    "        \"\"\".format(adjective, noun, verb))\n",
    "\n",
    "        answer2 = gTTS(\"\"\"{}\"\"\".format(noun))\n",
    "        \n",
    "        answer3 = gTTS(\"\"\"{}\"\"\".format(verb))\n",
    "\n",
    "        answer1.save(nwd + \"answer1.mp3\")\n",
    "        answer2.save(nwd + \"answer2.mp3\")\n",
    "        answer3.save(nwd + \"answer3.mp3\")\n",
    "\n",
    "\n",
    "        #Concatenate the MP3s\n",
    "        prompt = AudioSegment.from_mp3(nwd + \"family_{}.mp3\".format(item))\n",
    "        ding = AudioSegment.from_mp3(\"ding.mp3\")\n",
    "        pause = AudioSegment.from_mp3(\"pause.mp3\")\n",
    "        answer1 = AudioSegment.from_mp3(nwd + \"answer1.mp3\")\n",
    "        answer2 = AudioSegment.from_mp3(nwd + \"answer2.mp3\")\n",
    "        answer3 = AudioSegment.from_mp3(nwd + \"answer3.mp3\")\n",
    "\n",
    "        question = prompt + ding + answer1 + pause + answer2 + pause + answer3\n",
    "        \n",
    "        question.export(nwd + \"family_{}.mp3\".format(item),\n",
    "                        tags={'artist': 'Mind_Building',\n",
    "                              'album': 'Major Family'})\n",
    "    \n",
    "    #clean up\n",
    "    os.remove(nwd + \"answer1.mp3\")\n",
    "    os.remove(nwd + \"answer2.mp3\")\n",
    "    os.remove(nwd + \"answer3.mp3\")"
   ]
  },
  {
   "cell_type": "code",
   "execution_count": 7,
   "metadata": {
    "ExecuteTime": {
     "end_time": "2019-08-23T23:19:05.923135Z",
     "start_time": "2019-08-23T23:10:46.471213Z"
    }
   },
   "outputs": [
    {
     "name": "stdout",
     "output_type": "stream",
     "text": [
      "major_family  already exists\n"
     ]
    }
   ],
   "source": [
    "major_family()"
   ]
  },
  {
   "cell_type": "code",
   "execution_count": null,
   "metadata": {},
   "outputs": [],
   "source": []
  }
 ],
 "metadata": {
  "kernelspec": {
   "display_name": "Python 3",
   "language": "python",
   "name": "python3"
  },
  "language_info": {
   "codemirror_mode": {
    "name": "ipython",
    "version": 3
   },
   "file_extension": ".py",
   "mimetype": "text/x-python",
   "name": "python",
   "nbconvert_exporter": "python",
   "pygments_lexer": "ipython3",
   "version": "3.7.4"
  },
  "toc": {
   "base_numbering": 1,
   "nav_menu": {},
   "number_sections": true,
   "sideBar": true,
   "skip_h1_title": true,
   "title_cell": "Table of Contents",
   "title_sidebar": "Contents",
   "toc_cell": true,
   "toc_position": {},
   "toc_section_display": true,
   "toc_window_display": true
  }
 },
 "nbformat": 4,
 "nbformat_minor": 4
}
